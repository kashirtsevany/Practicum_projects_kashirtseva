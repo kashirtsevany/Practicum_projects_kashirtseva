{
 "cells": [
  {
   "cell_type": "markdown",
   "metadata": {},
   "source": [
    "**Приоритизация гипотез. Анализ А/В-теста.**\n",
    "_____\n",
    "**Описание исследования.**\n",
    "    Необходимо приоритезировать гипотезы, подготовленные отделом маркетинка для увеличения выручки интернет-магазина. Запустить А/В-тесты для них и проанализировать результаты.\n",
    "_____\n",
    "\n",
    "**Исходные данные.**\n",
    "    \n",
    "     Описание данных\n",
    "     *Данные для первой части*\n",
    "     Файл /datasets/hypothesis.csv.\n",
    "     Hypothesis — краткое описание гипотезы;\n",
    "     Reach — охват пользователей по 10-балльной шкале;\n",
    "     Impact — влияние на пользователей по 10-балльной шкале;\n",
    "     Confidence — уверенность в гипотезе по 10-балльной шкале;\n",
    "     Efforts — затраты ресурсов на проверку гипотезы по 10-балльной шкале. Чем больше значение Efforts, тем дороже проверка гипотезы.\n",
    "    *Данные для второй части*\n",
    "    Файл /datasets/orders.csv. \n",
    "    transactionId — идентификатор заказа;\n",
    "    visitorId — идентификатор пользователя, совершившего заказ;\n",
    "    date — дата, когда был совершён заказ;\n",
    "    revenue — выручка заказа;\n",
    "    group — группа A/B-теста, в которую попал заказ.\n",
    "    Файл /datasets/visitors.csv. Скачать датасет\n",
    "    date — дата;\n",
    "    group — группа A/B-теста;\n",
    "    visitors — количество пользователей в указанную дату в указанной группе A/B-теста\n",
    "______\n",
    "\n",
    "\n",
    "\n",
    "***Часть 1. Приоритизация гипотез:***\n",
    "* [1. Примените фреймворк ICE для приоритизации гипотез. Отсортируйте их по убыванию приоритета.](#1-bullet)\n",
    "* [2. Примените фреймворк RICE для приоритизации гипотез. Отсортируйте их по убыванию приоритета.](#2-bullet)\n",
    "* [2. Укажите, как изменилась приоритизация гипотез при применении RICE вместо ICE. Объясните, почему так произошло.](#3-bullet)\n",
    "\n",
    "\n",
    "***Часть 2.   Анализ A/B-теста:***\n",
    "* [1. Постройте график кумулятивной выручки по группам. Сделайте выводы и предположения.](#4-bullet)\n",
    "* [2. Постройте график кумулятивного среднего чека по группам. Сделайте выводы и предположения.](#5-bullet)\n",
    "* [3. Постройте график относительного изменения кумулятивного среднего чека группы B к группе A. Сделайте выводы и предположения.](#6-bullet)\n",
    "* [4. Постройте график кумулятивного среднего количества заказов на посетителя по группам. Сделайте выводы и предположения.](#7-bullet)\n",
    "* [5. Постройте график относительного изменения кумулятивного среднего количества заказов на посетителя группы B к группе A. Сделайте выводы и предположения.](#8-bullet)\n",
    "* [6. Постройте точечный график количества заказов по пользователям. Сделайте выводы и предположения.](#9-bullet)\n",
    "* [7. Посчитайте 95-й и 99-й перцентили количества заказов на пользователя. Выберите границу для определения аномальных пользователей.](#10-bullet)\n",
    "* [8. Постройте точечный график стоимостей заказов. Сделайте выводы и предположения..](#11-bullet)\n",
    "* [9. Посчитайте 95-й и 99-й перцентили стоимости заказов. Выберите границу для определения аномальных заказов.](#12-bullet)\n",
    "* [10. Посчитайте статистическую значимость различий в среднем количестве заказов на посетителя между группами по «сырым» данным. Сделайте выводы и предположения.](#13-bullet)\n",
    "* [11. Посчитайте статистическую значимость различий в среднем чеке заказа между группами по «сырым» данным. Сделайте выводы и предположения..](#14-bullet)\n",
    "* [12. Посчитайте статистическую значимость различий в среднем количестве заказов на посетителя между группами по «очищенным» данным. Сделайте выводы и предположения.](#15-bullet)\n",
    "* [13. Посчитайте статистическую значимость различий в среднем чеке заказа между группами по «очищенным» данным. Сделайте выводы и предположения.](#16-bullet)\n",
    "* [14. Примите решение по результатам теста и объясните его.](#17-bullet)\n",
    "\n",
    "\n"
   ]
  },
  {
   "cell_type": "code",
   "execution_count": 1,
   "metadata": {},
   "outputs": [],
   "source": [
    "import pandas as pd\n",
    "import seaborn as sns\n",
    "import matplotlib.pyplot as plt\n",
    "import numpy as np\n",
    "import scipy.stats as st\n",
    "import datetime as dt"
   ]
  },
  {
   "cell_type": "markdown",
   "metadata": {},
   "source": [
    "### ЧАСТЬ 1"
   ]
  },
  {
   "cell_type": "code",
   "execution_count": 2,
   "metadata": {},
   "outputs": [
    {
     "name": "stdout",
     "output_type": "stream",
     "text": [
      "<class 'pandas.core.frame.DataFrame'>\n",
      "RangeIndex: 9 entries, 0 to 8\n",
      "Data columns (total 5 columns):\n",
      " #   Column      Non-Null Count  Dtype \n",
      "---  ------      --------------  ----- \n",
      " 0   Hypothesis  9 non-null      object\n",
      " 1   Reach       9 non-null      int64 \n",
      " 2   Impact      9 non-null      int64 \n",
      " 3   Confidence  9 non-null      int64 \n",
      " 4   Efforts     9 non-null      int64 \n",
      "dtypes: int64(4), object(1)\n",
      "memory usage: 488.0+ bytes\n"
     ]
    }
   ],
   "source": [
    "try:\n",
    "    data = pd.read_csv('/datasets/hypothesis.csv')\n",
    "except:\n",
    "    data = pd.read_csv('https://code.s3.yandex.net/datasets/hypothesis.csv')\n",
    "\n",
    "data.info()"
   ]
  },
  {
   "cell_type": "code",
   "execution_count": 3,
   "metadata": {},
   "outputs": [
    {
     "data": {
      "text/html": [
       "<div>\n",
       "<style scoped>\n",
       "    .dataframe tbody tr th:only-of-type {\n",
       "        vertical-align: middle;\n",
       "    }\n",
       "\n",
       "    .dataframe tbody tr th {\n",
       "        vertical-align: top;\n",
       "    }\n",
       "\n",
       "    .dataframe thead th {\n",
       "        text-align: right;\n",
       "    }\n",
       "</style>\n",
       "<table border=\"1\" class=\"dataframe\">\n",
       "  <thead>\n",
       "    <tr style=\"text-align: right;\">\n",
       "      <th></th>\n",
       "      <th>Hypothesis</th>\n",
       "      <th>Reach</th>\n",
       "      <th>Impact</th>\n",
       "      <th>Confidence</th>\n",
       "      <th>Efforts</th>\n",
       "    </tr>\n",
       "  </thead>\n",
       "  <tbody>\n",
       "    <tr>\n",
       "      <th>0</th>\n",
       "      <td>Добавить два новых канала привлечения трафика,...</td>\n",
       "      <td>3</td>\n",
       "      <td>10</td>\n",
       "      <td>8</td>\n",
       "      <td>6</td>\n",
       "    </tr>\n",
       "    <tr>\n",
       "      <th>1</th>\n",
       "      <td>Запустить собственную службу доставки, что сок...</td>\n",
       "      <td>2</td>\n",
       "      <td>5</td>\n",
       "      <td>4</td>\n",
       "      <td>10</td>\n",
       "    </tr>\n",
       "    <tr>\n",
       "      <th>2</th>\n",
       "      <td>Добавить блоки рекомендаций товаров на сайт ин...</td>\n",
       "      <td>8</td>\n",
       "      <td>3</td>\n",
       "      <td>7</td>\n",
       "      <td>3</td>\n",
       "    </tr>\n",
       "    <tr>\n",
       "      <th>3</th>\n",
       "      <td>Изменить структура категорий, что увеличит кон...</td>\n",
       "      <td>8</td>\n",
       "      <td>3</td>\n",
       "      <td>3</td>\n",
       "      <td>8</td>\n",
       "    </tr>\n",
       "    <tr>\n",
       "      <th>4</th>\n",
       "      <td>Изменить цвет фона главной страницы, чтобы уве...</td>\n",
       "      <td>3</td>\n",
       "      <td>1</td>\n",
       "      <td>1</td>\n",
       "      <td>1</td>\n",
       "    </tr>\n",
       "    <tr>\n",
       "      <th>5</th>\n",
       "      <td>Добавить страницу отзывов клиентов о магазине,...</td>\n",
       "      <td>3</td>\n",
       "      <td>2</td>\n",
       "      <td>2</td>\n",
       "      <td>3</td>\n",
       "    </tr>\n",
       "    <tr>\n",
       "      <th>6</th>\n",
       "      <td>Показать на главной странице баннеры с актуаль...</td>\n",
       "      <td>5</td>\n",
       "      <td>3</td>\n",
       "      <td>8</td>\n",
       "      <td>3</td>\n",
       "    </tr>\n",
       "    <tr>\n",
       "      <th>7</th>\n",
       "      <td>Добавить форму подписки на все основные страни...</td>\n",
       "      <td>10</td>\n",
       "      <td>7</td>\n",
       "      <td>8</td>\n",
       "      <td>5</td>\n",
       "    </tr>\n",
       "    <tr>\n",
       "      <th>8</th>\n",
       "      <td>Запустить акцию, дающую скидку на товар в день...</td>\n",
       "      <td>1</td>\n",
       "      <td>9</td>\n",
       "      <td>9</td>\n",
       "      <td>5</td>\n",
       "    </tr>\n",
       "  </tbody>\n",
       "</table>\n",
       "</div>"
      ],
      "text/plain": [
       "                                          Hypothesis  Reach  Impact  \\\n",
       "0  Добавить два новых канала привлечения трафика,...      3      10   \n",
       "1  Запустить собственную службу доставки, что сок...      2       5   \n",
       "2  Добавить блоки рекомендаций товаров на сайт ин...      8       3   \n",
       "3  Изменить структура категорий, что увеличит кон...      8       3   \n",
       "4  Изменить цвет фона главной страницы, чтобы уве...      3       1   \n",
       "5  Добавить страницу отзывов клиентов о магазине,...      3       2   \n",
       "6  Показать на главной странице баннеры с актуаль...      5       3   \n",
       "7  Добавить форму подписки на все основные страни...     10       7   \n",
       "8  Запустить акцию, дающую скидку на товар в день...      1       9   \n",
       "\n",
       "   Confidence  Efforts  \n",
       "0           8        6  \n",
       "1           4       10  \n",
       "2           7        3  \n",
       "3           3        8  \n",
       "4           1        1  \n",
       "5           2        3  \n",
       "6           8        3  \n",
       "7           8        5  \n",
       "8           9        5  "
      ]
     },
     "execution_count": 3,
     "metadata": {},
     "output_type": "execute_result"
    }
   ],
   "source": [
    "data # выведем датафрейм "
   ]
  },
  {
   "cell_type": "code",
   "execution_count": 4,
   "metadata": {},
   "outputs": [],
   "source": [
    "data.rename(columns=str.lower, inplace=True) # приведем названия столбцов в нижний регистр"
   ]
  },
  {
   "cell_type": "markdown",
   "metadata": {},
   "source": [
    "<a id = '1-bullet'></a>\n",
    "1. Использование фреймворка ICE для приоритизации гипотез."
   ]
  },
  {
   "cell_type": "code",
   "execution_count": 5,
   "metadata": {},
   "outputs": [
    {
     "data": {
      "text/html": [
       "<div>\n",
       "<style scoped>\n",
       "    .dataframe tbody tr th:only-of-type {\n",
       "        vertical-align: middle;\n",
       "    }\n",
       "\n",
       "    .dataframe tbody tr th {\n",
       "        vertical-align: top;\n",
       "    }\n",
       "\n",
       "    .dataframe thead th {\n",
       "        text-align: right;\n",
       "    }\n",
       "</style>\n",
       "<table border=\"1\" class=\"dataframe\">\n",
       "  <thead>\n",
       "    <tr style=\"text-align: right;\">\n",
       "      <th></th>\n",
       "      <th>hypothesis</th>\n",
       "      <th>ICE</th>\n",
       "    </tr>\n",
       "  </thead>\n",
       "  <tbody>\n",
       "    <tr>\n",
       "      <th>8</th>\n",
       "      <td>Запустить акцию, дающую скидку на товар в день...</td>\n",
       "      <td>16.200000</td>\n",
       "    </tr>\n",
       "    <tr>\n",
       "      <th>0</th>\n",
       "      <td>Добавить два новых канала привлечения трафика,...</td>\n",
       "      <td>13.333333</td>\n",
       "    </tr>\n",
       "    <tr>\n",
       "      <th>7</th>\n",
       "      <td>Добавить форму подписки на все основные страни...</td>\n",
       "      <td>11.200000</td>\n",
       "    </tr>\n",
       "    <tr>\n",
       "      <th>6</th>\n",
       "      <td>Показать на главной странице баннеры с актуаль...</td>\n",
       "      <td>8.000000</td>\n",
       "    </tr>\n",
       "    <tr>\n",
       "      <th>2</th>\n",
       "      <td>Добавить блоки рекомендаций товаров на сайт ин...</td>\n",
       "      <td>7.000000</td>\n",
       "    </tr>\n",
       "    <tr>\n",
       "      <th>1</th>\n",
       "      <td>Запустить собственную службу доставки, что сок...</td>\n",
       "      <td>2.000000</td>\n",
       "    </tr>\n",
       "    <tr>\n",
       "      <th>5</th>\n",
       "      <td>Добавить страницу отзывов клиентов о магазине,...</td>\n",
       "      <td>1.333333</td>\n",
       "    </tr>\n",
       "    <tr>\n",
       "      <th>3</th>\n",
       "      <td>Изменить структура категорий, что увеличит кон...</td>\n",
       "      <td>1.125000</td>\n",
       "    </tr>\n",
       "    <tr>\n",
       "      <th>4</th>\n",
       "      <td>Изменить цвет фона главной страницы, чтобы уве...</td>\n",
       "      <td>1.000000</td>\n",
       "    </tr>\n",
       "  </tbody>\n",
       "</table>\n",
       "</div>"
      ],
      "text/plain": [
       "                                          hypothesis        ICE\n",
       "8  Запустить акцию, дающую скидку на товар в день...  16.200000\n",
       "0  Добавить два новых канала привлечения трафика,...  13.333333\n",
       "7  Добавить форму подписки на все основные страни...  11.200000\n",
       "6  Показать на главной странице баннеры с актуаль...   8.000000\n",
       "2  Добавить блоки рекомендаций товаров на сайт ин...   7.000000\n",
       "1  Запустить собственную службу доставки, что сок...   2.000000\n",
       "5  Добавить страницу отзывов клиентов о магазине,...   1.333333\n",
       "3  Изменить структура категорий, что увеличит кон...   1.125000\n",
       "4  Изменить цвет фона главной страницы, чтобы уве...   1.000000"
      ]
     },
     "execution_count": 5,
     "metadata": {},
     "output_type": "execute_result"
    }
   ],
   "source": [
    "data['ICE'] = (data['impact']*data['confidence'])/data['efforts']\n",
    "\n",
    "data[['hypothesis','ICE']].sort_values(by='ICE', ascending=False)"
   ]
  },
  {
   "cell_type": "markdown",
   "metadata": {},
   "source": [
    "<a id = '2-bullet'></a>\n",
    "2. Использование фреймворка RICE для приоритизации гипотез."
   ]
  },
  {
   "cell_type": "code",
   "execution_count": 6,
   "metadata": {},
   "outputs": [
    {
     "data": {
      "text/html": [
       "<div>\n",
       "<style scoped>\n",
       "    .dataframe tbody tr th:only-of-type {\n",
       "        vertical-align: middle;\n",
       "    }\n",
       "\n",
       "    .dataframe tbody tr th {\n",
       "        vertical-align: top;\n",
       "    }\n",
       "\n",
       "    .dataframe thead th {\n",
       "        text-align: right;\n",
       "    }\n",
       "</style>\n",
       "<table border=\"1\" class=\"dataframe\">\n",
       "  <thead>\n",
       "    <tr style=\"text-align: right;\">\n",
       "      <th></th>\n",
       "      <th>hypothesis</th>\n",
       "      <th>RICE</th>\n",
       "    </tr>\n",
       "  </thead>\n",
       "  <tbody>\n",
       "    <tr>\n",
       "      <th>7</th>\n",
       "      <td>Добавить форму подписки на все основные страни...</td>\n",
       "      <td>112.0</td>\n",
       "    </tr>\n",
       "    <tr>\n",
       "      <th>2</th>\n",
       "      <td>Добавить блоки рекомендаций товаров на сайт ин...</td>\n",
       "      <td>56.0</td>\n",
       "    </tr>\n",
       "    <tr>\n",
       "      <th>0</th>\n",
       "      <td>Добавить два новых канала привлечения трафика,...</td>\n",
       "      <td>40.0</td>\n",
       "    </tr>\n",
       "    <tr>\n",
       "      <th>6</th>\n",
       "      <td>Показать на главной странице баннеры с актуаль...</td>\n",
       "      <td>40.0</td>\n",
       "    </tr>\n",
       "    <tr>\n",
       "      <th>8</th>\n",
       "      <td>Запустить акцию, дающую скидку на товар в день...</td>\n",
       "      <td>16.2</td>\n",
       "    </tr>\n",
       "    <tr>\n",
       "      <th>3</th>\n",
       "      <td>Изменить структура категорий, что увеличит кон...</td>\n",
       "      <td>9.0</td>\n",
       "    </tr>\n",
       "    <tr>\n",
       "      <th>1</th>\n",
       "      <td>Запустить собственную службу доставки, что сок...</td>\n",
       "      <td>4.0</td>\n",
       "    </tr>\n",
       "    <tr>\n",
       "      <th>5</th>\n",
       "      <td>Добавить страницу отзывов клиентов о магазине,...</td>\n",
       "      <td>4.0</td>\n",
       "    </tr>\n",
       "    <tr>\n",
       "      <th>4</th>\n",
       "      <td>Изменить цвет фона главной страницы, чтобы уве...</td>\n",
       "      <td>3.0</td>\n",
       "    </tr>\n",
       "  </tbody>\n",
       "</table>\n",
       "</div>"
      ],
      "text/plain": [
       "                                          hypothesis   RICE\n",
       "7  Добавить форму подписки на все основные страни...  112.0\n",
       "2  Добавить блоки рекомендаций товаров на сайт ин...   56.0\n",
       "0  Добавить два новых канала привлечения трафика,...   40.0\n",
       "6  Показать на главной странице баннеры с актуаль...   40.0\n",
       "8  Запустить акцию, дающую скидку на товар в день...   16.2\n",
       "3  Изменить структура категорий, что увеличит кон...    9.0\n",
       "1  Запустить собственную службу доставки, что сок...    4.0\n",
       "5  Добавить страницу отзывов клиентов о магазине,...    4.0\n",
       "4  Изменить цвет фона главной страницы, чтобы уве...    3.0"
      ]
     },
     "execution_count": 6,
     "metadata": {},
     "output_type": "execute_result"
    }
   ],
   "source": [
    "data['RICE'] = (data['reach']*data['impact']*data['confidence'])/data['efforts']\n",
    "\n",
    "data[['hypothesis','RICE']].sort_values(by='RICE', ascending=False)"
   ]
  },
  {
   "cell_type": "markdown",
   "metadata": {},
   "source": [
    "<a id = '3-bullet'></a>\n",
    "3. Вывод."
   ]
  },
  {
   "cell_type": "markdown",
   "metadata": {},
   "source": [
    "При использовании метода ICE c наибольшим приоритетом получились гипотезы 9, 1 и 8. При использовании способа RICE наибольший приоритет получили гипотезы 8, 3 и 1. У 8 и 3 гипотезы значения параметра Reach (скольких пользователей затронет изменение, которое хотят внести), выше, чем у других гипотез, у 9 гипотезы же самый маленький размер этого параметра. Поэтому при добавлении этого параметра список приоритетных гипотез поменялся."
   ]
  },
  {
   "cell_type": "markdown",
   "metadata": {},
   "source": [
    "### Часть 2\n"
   ]
  },
  {
   "cell_type": "code",
   "execution_count": 7,
   "metadata": {},
   "outputs": [
    {
     "name": "stdout",
     "output_type": "stream",
     "text": [
      "<class 'pandas.core.frame.DataFrame'>\n",
      "RangeIndex: 1197 entries, 0 to 1196\n",
      "Data columns (total 5 columns):\n",
      " #   Column         Non-Null Count  Dtype \n",
      "---  ------         --------------  ----- \n",
      " 0   transactionId  1197 non-null   int64 \n",
      " 1   visitorId      1197 non-null   int64 \n",
      " 2   date           1197 non-null   object\n",
      " 3   revenue        1197 non-null   int64 \n",
      " 4   group          1197 non-null   object\n",
      "dtypes: int64(3), object(2)\n",
      "memory usage: 46.9+ KB\n"
     ]
    }
   ],
   "source": [
    "try:\n",
    "    orders = pd.read_csv('/datasets/orders.csv')\n",
    "except:\n",
    "    orders = pd.read_csv('https://code.s3.yandex.net/datasets/orders.csv')\n",
    "\n",
    "orders.info()"
   ]
  },
  {
   "cell_type": "code",
   "execution_count": 8,
   "metadata": {},
   "outputs": [],
   "source": [
    "#преобразуем столбец с датами к соответсвующему формату\n",
    "orders['date'] = pd.to_datetime(orders['date'])"
   ]
  },
  {
   "cell_type": "code",
   "execution_count": 9,
   "metadata": {},
   "outputs": [
    {
     "name": "stdout",
     "output_type": "stream",
     "text": [
      "<class 'pandas.core.frame.DataFrame'>\n",
      "RangeIndex: 1197 entries, 0 to 1196\n",
      "Data columns (total 5 columns):\n",
      " #   Column         Non-Null Count  Dtype         \n",
      "---  ------         --------------  -----         \n",
      " 0   transactionId  1197 non-null   int64         \n",
      " 1   visitorId      1197 non-null   int64         \n",
      " 2   date           1197 non-null   datetime64[ns]\n",
      " 3   revenue        1197 non-null   int64         \n",
      " 4   group          1197 non-null   object        \n",
      "dtypes: datetime64[ns](1), int64(3), object(1)\n",
      "memory usage: 46.9+ KB\n"
     ]
    }
   ],
   "source": [
    "orders.info()"
   ]
  },
  {
   "cell_type": "code",
   "execution_count": 10,
   "metadata": {},
   "outputs": [
    {
     "data": {
      "text/html": [
       "<div>\n",
       "<style scoped>\n",
       "    .dataframe tbody tr th:only-of-type {\n",
       "        vertical-align: middle;\n",
       "    }\n",
       "\n",
       "    .dataframe tbody tr th {\n",
       "        vertical-align: top;\n",
       "    }\n",
       "\n",
       "    .dataframe thead th {\n",
       "        text-align: right;\n",
       "    }\n",
       "</style>\n",
       "<table border=\"1\" class=\"dataframe\">\n",
       "  <thead>\n",
       "    <tr style=\"text-align: right;\">\n",
       "      <th></th>\n",
       "      <th>transactionId</th>\n",
       "      <th>visitorId</th>\n",
       "      <th>date</th>\n",
       "      <th>revenue</th>\n",
       "      <th>group</th>\n",
       "    </tr>\n",
       "  </thead>\n",
       "  <tbody>\n",
       "    <tr>\n",
       "      <th>943</th>\n",
       "      <td>1215018444</td>\n",
       "      <td>2406897935</td>\n",
       "      <td>2019-08-08</td>\n",
       "      <td>18350</td>\n",
       "      <td>B</td>\n",
       "    </tr>\n",
       "    <tr>\n",
       "      <th>859</th>\n",
       "      <td>549358396</td>\n",
       "      <td>3792964032</td>\n",
       "      <td>2019-08-10</td>\n",
       "      <td>2970</td>\n",
       "      <td>A</td>\n",
       "    </tr>\n",
       "    <tr>\n",
       "      <th>1028</th>\n",
       "      <td>4067377068</td>\n",
       "      <td>318152663</td>\n",
       "      <td>2019-08-10</td>\n",
       "      <td>1190</td>\n",
       "      <td>B</td>\n",
       "    </tr>\n",
       "    <tr>\n",
       "      <th>670</th>\n",
       "      <td>1096121493</td>\n",
       "      <td>1722729964</td>\n",
       "      <td>2019-08-29</td>\n",
       "      <td>620</td>\n",
       "      <td>B</td>\n",
       "    </tr>\n",
       "    <tr>\n",
       "      <th>439</th>\n",
       "      <td>1371922580</td>\n",
       "      <td>2452603128</td>\n",
       "      <td>2019-08-28</td>\n",
       "      <td>170</td>\n",
       "      <td>B</td>\n",
       "    </tr>\n",
       "    <tr>\n",
       "      <th>33</th>\n",
       "      <td>486237576</td>\n",
       "      <td>2378935119</td>\n",
       "      <td>2019-08-15</td>\n",
       "      <td>1650</td>\n",
       "      <td>A</td>\n",
       "    </tr>\n",
       "    <tr>\n",
       "      <th>1054</th>\n",
       "      <td>1266977500</td>\n",
       "      <td>931669455</td>\n",
       "      <td>2019-08-11</td>\n",
       "      <td>3390</td>\n",
       "      <td>B</td>\n",
       "    </tr>\n",
       "    <tr>\n",
       "      <th>1015</th>\n",
       "      <td>4262851755</td>\n",
       "      <td>1294878855</td>\n",
       "      <td>2019-08-31</td>\n",
       "      <td>570</td>\n",
       "      <td>A</td>\n",
       "    </tr>\n",
       "    <tr>\n",
       "      <th>864</th>\n",
       "      <td>1273552286</td>\n",
       "      <td>3993040832</td>\n",
       "      <td>2019-08-30</td>\n",
       "      <td>12642</td>\n",
       "      <td>B</td>\n",
       "    </tr>\n",
       "    <tr>\n",
       "      <th>370</th>\n",
       "      <td>857639553</td>\n",
       "      <td>2044997962</td>\n",
       "      <td>2019-08-24</td>\n",
       "      <td>2540</td>\n",
       "      <td>A</td>\n",
       "    </tr>\n",
       "  </tbody>\n",
       "</table>\n",
       "</div>"
      ],
      "text/plain": [
       "      transactionId   visitorId       date  revenue group\n",
       "943      1215018444  2406897935 2019-08-08    18350     B\n",
       "859       549358396  3792964032 2019-08-10     2970     A\n",
       "1028     4067377068   318152663 2019-08-10     1190     B\n",
       "670      1096121493  1722729964 2019-08-29      620     B\n",
       "439      1371922580  2452603128 2019-08-28      170     B\n",
       "33        486237576  2378935119 2019-08-15     1650     A\n",
       "1054     1266977500   931669455 2019-08-11     3390     B\n",
       "1015     4262851755  1294878855 2019-08-31      570     A\n",
       "864      1273552286  3993040832 2019-08-30    12642     B\n",
       "370       857639553  2044997962 2019-08-24     2540     A"
      ]
     },
     "execution_count": 10,
     "metadata": {},
     "output_type": "execute_result"
    }
   ],
   "source": [
    "orders.sample(10)"
   ]
  },
  {
   "cell_type": "code",
   "execution_count": 11,
   "metadata": {},
   "outputs": [
    {
     "name": "stdout",
     "output_type": "stream",
     "text": [
      "<class 'pandas.core.frame.DataFrame'>\n",
      "RangeIndex: 62 entries, 0 to 61\n",
      "Data columns (total 3 columns):\n",
      " #   Column    Non-Null Count  Dtype \n",
      "---  ------    --------------  ----- \n",
      " 0   date      62 non-null     object\n",
      " 1   group     62 non-null     object\n",
      " 2   visitors  62 non-null     int64 \n",
      "dtypes: int64(1), object(2)\n",
      "memory usage: 1.6+ KB\n"
     ]
    }
   ],
   "source": [
    "try:\n",
    "    visitors = pd.read_csv('/datasets/visitors.csv')\n",
    "except:\n",
    "    visitors = pd.read_csv('https://code.s3.yandex.net/datasets/visitors.csv')\n",
    "\n",
    "visitors.info()"
   ]
  },
  {
   "cell_type": "code",
   "execution_count": 12,
   "metadata": {},
   "outputs": [
    {
     "name": "stdout",
     "output_type": "stream",
     "text": [
      "<class 'pandas.core.frame.DataFrame'>\n",
      "RangeIndex: 62 entries, 0 to 61\n",
      "Data columns (total 3 columns):\n",
      " #   Column    Non-Null Count  Dtype         \n",
      "---  ------    --------------  -----         \n",
      " 0   date      62 non-null     datetime64[ns]\n",
      " 1   group     62 non-null     object        \n",
      " 2   visitors  62 non-null     int64         \n",
      "dtypes: datetime64[ns](1), int64(1), object(1)\n",
      "memory usage: 1.6+ KB\n"
     ]
    }
   ],
   "source": [
    "visitors['date'] = pd.to_datetime(visitors['date'])\n",
    "visitors.info()"
   ]
  },
  {
   "cell_type": "code",
   "execution_count": 13,
   "metadata": {},
   "outputs": [
    {
     "data": {
      "text/html": [
       "<div>\n",
       "<style scoped>\n",
       "    .dataframe tbody tr th:only-of-type {\n",
       "        vertical-align: middle;\n",
       "    }\n",
       "\n",
       "    .dataframe tbody tr th {\n",
       "        vertical-align: top;\n",
       "    }\n",
       "\n",
       "    .dataframe thead th {\n",
       "        text-align: right;\n",
       "    }\n",
       "</style>\n",
       "<table border=\"1\" class=\"dataframe\">\n",
       "  <thead>\n",
       "    <tr style=\"text-align: right;\">\n",
       "      <th></th>\n",
       "      <th>date</th>\n",
       "      <th>group</th>\n",
       "      <th>visitors</th>\n",
       "    </tr>\n",
       "  </thead>\n",
       "  <tbody>\n",
       "    <tr>\n",
       "      <th>7</th>\n",
       "      <td>2019-08-08</td>\n",
       "      <td>A</td>\n",
       "      <td>610</td>\n",
       "    </tr>\n",
       "    <tr>\n",
       "      <th>16</th>\n",
       "      <td>2019-08-17</td>\n",
       "      <td>A</td>\n",
       "      <td>412</td>\n",
       "    </tr>\n",
       "    <tr>\n",
       "      <th>25</th>\n",
       "      <td>2019-08-26</td>\n",
       "      <td>A</td>\n",
       "      <td>722</td>\n",
       "    </tr>\n",
       "    <tr>\n",
       "      <th>9</th>\n",
       "      <td>2019-08-10</td>\n",
       "      <td>A</td>\n",
       "      <td>406</td>\n",
       "    </tr>\n",
       "    <tr>\n",
       "      <th>36</th>\n",
       "      <td>2019-08-06</td>\n",
       "      <td>B</td>\n",
       "      <td>655</td>\n",
       "    </tr>\n",
       "    <tr>\n",
       "      <th>21</th>\n",
       "      <td>2019-08-22</td>\n",
       "      <td>A</td>\n",
       "      <td>609</td>\n",
       "    </tr>\n",
       "    <tr>\n",
       "      <th>58</th>\n",
       "      <td>2019-08-28</td>\n",
       "      <td>B</td>\n",
       "      <td>654</td>\n",
       "    </tr>\n",
       "    <tr>\n",
       "      <th>6</th>\n",
       "      <td>2019-08-07</td>\n",
       "      <td>A</td>\n",
       "      <td>644</td>\n",
       "    </tr>\n",
       "    <tr>\n",
       "      <th>52</th>\n",
       "      <td>2019-08-22</td>\n",
       "      <td>B</td>\n",
       "      <td>650</td>\n",
       "    </tr>\n",
       "    <tr>\n",
       "      <th>3</th>\n",
       "      <td>2019-08-04</td>\n",
       "      <td>A</td>\n",
       "      <td>717</td>\n",
       "    </tr>\n",
       "  </tbody>\n",
       "</table>\n",
       "</div>"
      ],
      "text/plain": [
       "         date group  visitors\n",
       "7  2019-08-08     A       610\n",
       "16 2019-08-17     A       412\n",
       "25 2019-08-26     A       722\n",
       "9  2019-08-10     A       406\n",
       "36 2019-08-06     B       655\n",
       "21 2019-08-22     A       609\n",
       "58 2019-08-28     B       654\n",
       "6  2019-08-07     A       644\n",
       "52 2019-08-22     B       650\n",
       "3  2019-08-04     A       717"
      ]
     },
     "execution_count": 13,
     "metadata": {},
     "output_type": "execute_result"
    }
   ],
   "source": [
    "visitors.sample(10)"
   ]
  },
  {
   "cell_type": "code",
   "execution_count": 14,
   "metadata": {},
   "outputs": [
    {
     "data": {
      "text/plain": [
       "0"
      ]
     },
     "execution_count": 14,
     "metadata": {},
     "output_type": "execute_result"
    }
   ],
   "source": [
    "orders.duplicated().sum()"
   ]
  },
  {
   "cell_type": "code",
   "execution_count": 15,
   "metadata": {},
   "outputs": [
    {
     "data": {
      "text/plain": [
       "0"
      ]
     },
     "execution_count": 15,
     "metadata": {},
     "output_type": "execute_result"
    }
   ],
   "source": [
    "visitors.duplicated().sum()"
   ]
  },
  {
   "cell_type": "markdown",
   "metadata": {},
   "source": [
    "Провели проверку на наличие явных дубликатов в датафреймах. Таковых не обнаружено"
   ]
  },
  {
   "cell_type": "markdown",
   "metadata": {},
   "source": [
    "<a id = '4-bullet'></a>\n",
    "1. Графики кумулятивной выручки по группам."
   ]
  },
  {
   "cell_type": "code",
   "execution_count": 16,
   "metadata": {},
   "outputs": [
    {
     "data": {
      "text/plain": [
       "group    58\n",
       "dtype: int64"
      ]
     },
     "execution_count": 16,
     "metadata": {},
     "output_type": "execute_result"
    }
   ],
   "source": [
    "# найдем количество пользователей которые могли попасть в обе группы\n",
    "orders.groupby('visitorId').agg({'group':'nunique'}).query('group>1').count()"
   ]
  },
  {
   "cell_type": "code",
   "execution_count": 17,
   "metadata": {},
   "outputs": [
    {
     "data": {
      "text/plain": [
       "group    4.845447\n",
       "dtype: float64"
      ]
     },
     "execution_count": 17,
     "metadata": {},
     "output_type": "execute_result"
    }
   ],
   "source": [
    "# доля этих пользователей от общего количества\n",
    "orders.groupby('visitorId').agg({'group':'nunique'}).query('group>1').count()*100/orders['visitorId'].count()"
   ]
  },
  {
   "cell_type": "code",
   "execution_count": 18,
   "metadata": {},
   "outputs": [
    {
     "name": "stdout",
     "output_type": "stream",
     "text": [
      "        date group  orders  buyers  revenue  visitors\n",
      "0 2019-08-01     A      24      20   148579       719\n",
      "1 2019-08-01     B      21      20   101217       713\n",
      "2 2019-08-02     A      44      38   242401      1338\n",
      "3 2019-08-02     B      45      43   266748      1294\n",
      "4 2019-08-03     A      68      62   354874      1845\n"
     ]
    }
   ],
   "source": [
    "# создаем массив уникальных пар значений дат и групп теста\n",
    "datesGroups = orders[['date','group']].drop_duplicates()\n",
    "\n",
    "# получаем агрегированные кумулятивные по дням данные о заказах \n",
    "ordersAggregated = datesGroups.apply(lambda x: orders[np.logical_and(\n",
    "    orders['date'] <= x['date'], orders['group'] == x['group'])].agg(\n",
    "    {'date' : 'max', 'group' : 'max', 'transactionId' : 'nunique', 'visitorId' : 'nunique', 'revenue' : 'sum'}\n",
    "    ), axis=1).sort_values(by=['date','group'])\n",
    "\n",
    "# получаем агрегированные кумулятивные по дням данные о посетителях интернет-магазина \n",
    "visitorsAggregated = datesGroups.apply(lambda x: visitors[np.logical_and(\n",
    "    visitors['date'] <= x['date'], visitors['group'] == x['group'])].agg(\n",
    "    {'date' : 'max', 'group' : 'max', 'visitors' : 'sum'}), axis=1).sort_values(by=['date','group'])\n",
    "\n",
    "# объединяем кумулятивные данные в одной таблице и присваиваем ее столбцам названия\n",
    "cumulativeData = ordersAggregated.merge(visitorsAggregated, left_on=['date', 'group'], right_on=['date', 'group'])\n",
    "cumulativeData.columns = ['date', 'group', 'orders', 'buyers', 'revenue', 'visitors']\n",
    "\n",
    "print(cumulativeData.head(5)) "
   ]
  },
  {
   "cell_type": "code",
   "execution_count": 19,
   "metadata": {},
   "outputs": [
    {
     "data": {
      "text/plain": [
       "<matplotlib.legend.Legend at 0x7f48947f41c0>"
      ]
     },
     "execution_count": 19,
     "metadata": {},
     "output_type": "execute_result"
    },
    {
     "data": {
      "image/png": "[encoded data removed]",
      "text/plain": [
       "<Figure size 720x576 with 1 Axes>"
      ]
     },
     "metadata": {
      "needs_background": "light"
     },
     "output_type": "display_data"
    }
   ],
   "source": [
    "# датафрейм с кумулятивным количеством заказов и кумулятивной выручкой по дням в группе А\n",
    "cumulativeRevenueA = cumulativeData[cumulativeData['group']=='A'][['date','revenue', 'orders']]\n",
    "\n",
    "# датафрейм с кумулятивным количеством заказов и кумулятивной выручкой по дням в группе B\n",
    "cumulativeRevenueB = cumulativeData[cumulativeData['group']=='B'][['date','revenue', 'orders']]\n",
    "\n",
    "plt.figure(figsize=(10,8))\n",
    "# Строим график выручки группы А\n",
    "plt.plot(cumulativeRevenueA['date'], cumulativeRevenueA['revenue'], label='A')\n",
    "\n",
    "# Строим график выручки группы B\n",
    "plt.plot(cumulativeRevenueB['date'], cumulativeRevenueB['revenue'], label='B')\n",
    " \n",
    "plt.grid()\n",
    "plt.xticks(rotation=90)\n",
    "plt.ylabel('Выручка')\n",
    "plt.xlabel('Дата')\n",
    "plt.title('Кумулятивная выручка по группам')\n",
    "plt.legend() "
   ]
  },
  {
   "cell_type": "markdown",
   "metadata": {},
   "source": [
    "В группе А график выручки увеличивается практически равномерно во время всего теста. В группе В 19.08.2019 имеется резкий скачок выручки, т.е. в этот день был всплеск количества заказов либо были дорогие заказы. При этом на протяжении всего времени наблюдений выручка у группы В выше, чем у группы А."
   ]
  },
  {
   "cell_type": "markdown",
   "metadata": {},
   "source": [
    "<a id = '5-bullet'></a>\n",
    "2. Графики кумулятивной среднего чека по группам."
   ]
  },
  {
   "cell_type": "code",
   "execution_count": 20,
   "metadata": {},
   "outputs": [
    {
     "data": {
      "text/plain": [
       "<matplotlib.legend.Legend at 0x7f48942c6b20>"
      ]
     },
     "execution_count": 20,
     "metadata": {},
     "output_type": "execute_result"
    },
    {
     "data": {
      "image/png": "[encoded data removed]",
      "text/plain": [
       "<Figure size 720x576 with 1 Axes>"
      ]
     },
     "metadata": {
      "needs_background": "light"
     },
     "output_type": "display_data"
    }
   ],
   "source": [
    "plt.figure(figsize=(10,8))\n",
    "plt.plot(cumulativeRevenueA['date'], cumulativeRevenueA['revenue']/cumulativeRevenueA['orders'], label='A')\n",
    "plt.plot(cumulativeRevenueB['date'], cumulativeRevenueB['revenue']/cumulativeRevenueB['orders'], label='B')\n",
    "plt.grid()\n",
    "plt.xticks(rotation=90)\n",
    "plt.ylabel('Размер чека')\n",
    "plt.xlabel('Дата')\n",
    "plt.title('Кумулятивный средний чек по группам')\n",
    "\n",
    "plt.legend() "
   ]
  },
  {
   "cell_type": "markdown",
   "metadata": {},
   "source": [
    "Графики среднего чека в двух группах имеют несколько выбросов и равномерным становится лишь после 20 августа. Так же в группе В 19.08.2019 имеется достаточно резкий скачок, т.е можно предположить, что в эту дату случился какой-то аномально дорогой заказ."
   ]
  },
  {
   "cell_type": "markdown",
   "metadata": {},
   "source": [
    "<a id = '6-bullet'></a>\n",
    "3. График относительного изменения кумулятивного среднего чека."
   ]
  },
  {
   "cell_type": "code",
   "execution_count": 21,
   "metadata": {},
   "outputs": [
    {
     "data": {
      "text/plain": [
       "<matplotlib.lines.Line2D at 0x7f48943f86d0>"
      ]
     },
     "execution_count": 21,
     "metadata": {},
     "output_type": "execute_result"
    },
    {
     "data": {
      "image/png": "[encoded data removed]",
      "text/plain": [
       "<Figure size 720x576 with 1 Axes>"
      ]
     },
     "metadata": {
      "needs_background": "light"
     },
     "output_type": "display_data"
    }
   ],
   "source": [
    "# собираем данные в одном датафрейме\n",
    "mergedCumulativeRevenue = cumulativeRevenueA.merge(\n",
    "    cumulativeRevenueB, left_on='date', right_on='date', how='left', suffixes=['A', 'B'])\n",
    "\n",
    "# cтроим отношение средних чеков\n",
    "plt.figure(figsize=(10,8))\n",
    "plt.plot(mergedCumulativeRevenue['date'], (\n",
    "    mergedCumulativeRevenue['revenueB']/mergedCumulativeRevenue['ordersB'])/(\n",
    "    mergedCumulativeRevenue['revenueA']/mergedCumulativeRevenue['ordersA'])-1)\n",
    "plt.grid()\n",
    "plt.xticks(rotation=90)\n",
    "plt.ylabel('Отношение средних чеков')\n",
    "plt.xlabel('Дата')\n",
    "plt.title('Относительное изменение кумулятивного среднего чека группы В к группе А')\n",
    "\n",
    "\n",
    "plt.axhline(y=0, color='black', linestyle='--') "
   ]
  },
  {
   "cell_type": "markdown",
   "metadata": {},
   "source": [
    "В некоторых местах график имеет резкие скачки, самый резкий снова 19.08.2019"
   ]
  },
  {
   "cell_type": "markdown",
   "metadata": {},
   "source": [
    "<a id = '7-bullet'></a>\n",
    "4. График кумулятивного среднего количества заказов на посетителя."
   ]
  },
  {
   "cell_type": "code",
   "execution_count": 22,
   "metadata": {},
   "outputs": [
    {
     "data": {
      "text/plain": [
       "<matplotlib.legend.Legend at 0x7f48943f30a0>"
      ]
     },
     "execution_count": 22,
     "metadata": {},
     "output_type": "execute_result"
    },
    {
     "data": {
      "image/png": "[encoded data removed]",
      "text/plain": [
       "<Figure size 720x360 with 1 Axes>"
      ]
     },
     "metadata": {
      "needs_background": "light"
     },
     "output_type": "display_data"
    }
   ],
   "source": [
    "# считаем среднее количество заказов на посетителя\n",
    "cumulativeData['conversion'] = cumulativeData['orders']/cumulativeData['visitors']\n",
    "\n",
    "# отделяем данные по группе A\n",
    "cumulativeDataA = cumulativeData[cumulativeData['group']=='A']\n",
    "\n",
    "# отделяем данные по группе B\n",
    "cumulativeDataB = cumulativeData[cumulativeData['group']=='B']\n",
    "\n",
    "# строим графики\n",
    "plt.figure(figsize=(10,5))\n",
    "\n",
    "plt.plot(cumulativeDataA['date'], cumulativeDataA['conversion'], label='A')\n",
    "plt.plot(cumulativeDataB['date'], cumulativeDataB['conversion'], label='B')\n",
    "\n",
    "plt.grid()\n",
    "plt.xticks(rotation=90)\n",
    "plt.ylabel('Количество заказов')\n",
    "plt.xlabel('Дата')\n",
    "plt.title('Кумулятивное среднее количество заказов на посетителя')\n",
    "plt.legend()\n",
    "\n"
   ]
  },
  {
   "cell_type": "markdown",
   "metadata": {},
   "source": [
    "В начале среднее количество заказов по группам колебалось сильнее, после 10 августа количество практически зафиксировалось на одном значении, при этом у группы В это значение выше, чем у группы А."
   ]
  },
  {
   "cell_type": "markdown",
   "metadata": {},
   "source": [
    "<a id = '8-bullet'></a>\n",
    "5. График относительного изменения кумулятивного среднего количества заказов на посетителя."
   ]
  },
  {
   "cell_type": "code",
   "execution_count": 23,
   "metadata": {},
   "outputs": [
    {
     "data": {
      "text/plain": [
       "<matplotlib.lines.Line2D at 0x7f489434c160>"
      ]
     },
     "execution_count": 23,
     "metadata": {},
     "output_type": "execute_result"
    },
    {
     "data": {
      "image/png": "[encoded data removed]",
      "text/plain": [
       "<Figure size 720x360 with 1 Axes>"
      ]
     },
     "metadata": {
      "needs_background": "light"
     },
     "output_type": "display_data"
    }
   ],
   "source": [
    "# построим график для относительного изменения среднего количества заказов\n",
    "mergedCumulativeConversions = cumulativeDataA[['date','conversion']].merge(\n",
    "    cumulativeDataB[['date','conversion']], left_on='date', right_on='date', how='left', suffixes=['A', 'B'])\n",
    "\n",
    "plt.figure(figsize=(10,5))\n",
    "plt.plot(mergedCumulativeConversions['date'], mergedCumulativeConversions['conversionB']/mergedCumulativeConversions[\n",
    "    'conversionA']-1)\n",
    "\n",
    "plt.grid()\n",
    "plt.xticks(rotation=90)\n",
    "plt.ylabel('Относительное изменение количества заказов')\n",
    "plt.xlabel('Дата')\n",
    "plt.title('Относительного изменения кумулятивного среднего количества заказов на посетителя группы В к группе А')\n",
    "\n",
    "\n",
    "plt.axhline(y=0, color='black', linestyle='--')\n",
    "plt.axhline(y=0.1, color='grey', linestyle='--')"
   ]
  },
  {
   "cell_type": "markdown",
   "metadata": {},
   "source": [
    "Вначале относительное изменение количества заказов на посетителя колебалось, после 10 августа у группы В  в среднем на 10% выше среднее количество заказов на посетителя чем у группы А."
   ]
  },
  {
   "cell_type": "markdown",
   "metadata": {},
   "source": [
    "<a id = '9-bullet'></a>\n",
    "6. Точечный график среднего количества заказов по пользователям."
   ]
  },
  {
   "cell_type": "code",
   "execution_count": 24,
   "metadata": {},
   "outputs": [
    {
     "data": {
      "text/html": [
       "<div>\n",
       "<style scoped>\n",
       "    .dataframe tbody tr th:only-of-type {\n",
       "        vertical-align: middle;\n",
       "    }\n",
       "\n",
       "    .dataframe tbody tr th {\n",
       "        vertical-align: top;\n",
       "    }\n",
       "\n",
       "    .dataframe thead th {\n",
       "        text-align: right;\n",
       "    }\n",
       "</style>\n",
       "<table border=\"1\" class=\"dataframe\">\n",
       "  <thead>\n",
       "    <tr style=\"text-align: right;\">\n",
       "      <th></th>\n",
       "      <th>visitorId</th>\n",
       "      <th>orders</th>\n",
       "    </tr>\n",
       "  </thead>\n",
       "  <tbody>\n",
       "    <tr>\n",
       "      <th>1023</th>\n",
       "      <td>4256040402</td>\n",
       "      <td>11</td>\n",
       "    </tr>\n",
       "    <tr>\n",
       "      <th>591</th>\n",
       "      <td>2458001652</td>\n",
       "      <td>11</td>\n",
       "    </tr>\n",
       "    <tr>\n",
       "      <th>569</th>\n",
       "      <td>2378935119</td>\n",
       "      <td>9</td>\n",
       "    </tr>\n",
       "    <tr>\n",
       "      <th>487</th>\n",
       "      <td>2038680547</td>\n",
       "      <td>8</td>\n",
       "    </tr>\n",
       "    <tr>\n",
       "      <th>44</th>\n",
       "      <td>199603092</td>\n",
       "      <td>5</td>\n",
       "    </tr>\n",
       "    <tr>\n",
       "      <th>744</th>\n",
       "      <td>3062433592</td>\n",
       "      <td>5</td>\n",
       "    </tr>\n",
       "    <tr>\n",
       "      <th>55</th>\n",
       "      <td>237748145</td>\n",
       "      <td>5</td>\n",
       "    </tr>\n",
       "    <tr>\n",
       "      <th>917</th>\n",
       "      <td>3803269165</td>\n",
       "      <td>5</td>\n",
       "    </tr>\n",
       "    <tr>\n",
       "      <th>299</th>\n",
       "      <td>1230306981</td>\n",
       "      <td>5</td>\n",
       "    </tr>\n",
       "    <tr>\n",
       "      <th>897</th>\n",
       "      <td>3717692402</td>\n",
       "      <td>5</td>\n",
       "    </tr>\n",
       "  </tbody>\n",
       "</table>\n",
       "</div>"
      ],
      "text/plain": [
       "       visitorId  orders\n",
       "1023  4256040402      11\n",
       "591   2458001652      11\n",
       "569   2378935119       9\n",
       "487   2038680547       8\n",
       "44     199603092       5\n",
       "744   3062433592       5\n",
       "55     237748145       5\n",
       "917   3803269165       5\n",
       "299   1230306981       5\n",
       "897   3717692402       5"
      ]
     },
     "execution_count": 24,
     "metadata": {},
     "output_type": "execute_result"
    }
   ],
   "source": [
    "#подсчитаем количество заказов по пользователям\n",
    "ordersByUsers = (\n",
    "    orders.groupby('visitorId', as_index=False)\n",
    "    .agg({'transactionId': 'nunique'})\n",
    ")\n",
    "\n",
    "ordersByUsers.columns = ['visitorId', 'orders']\n",
    "ordersByUsers.sort_values(by='orders', ascending=False).head(10)"
   ]
  },
  {
   "cell_type": "code",
   "execution_count": 25,
   "metadata": {},
   "outputs": [
    {
     "data": {
      "text/plain": [
       "Text(0.5, 1.0, 'Количество заказов по пользователям')"
      ]
     },
     "execution_count": 25,
     "metadata": {},
     "output_type": "execute_result"
    },
    {
     "data": {
      "image/png": "[encoded data removed]",
      "text/plain": [
       "<Figure size 576x360 with 1 Axes>"
      ]
     },
     "metadata": {
      "needs_background": "light"
     },
     "output_type": "display_data"
    }
   ],
   "source": [
    "#построим точечный график\n",
    "x_values = pd.Series(range(0,len(ordersByUsers)))\n",
    "plt.figure(figsize=(8,5))\n",
    "plt.scatter(x_values, ordersByUsers['orders']) \n",
    "plt.title('Количество заказов по пользователям')"
   ]
  },
  {
   "cell_type": "markdown",
   "metadata": {},
   "source": [
    "Основная масса пользователей имеют 1-3 заказов, пользователи с выше 10 заказами, единичны и скорее всего будут аномальными."
   ]
  },
  {
   "cell_type": "markdown",
   "metadata": {},
   "source": [
    "<a id = '10-bullet'></a>\n",
    "7. Процентили количества заказов по пользователям."
   ]
  },
  {
   "cell_type": "code",
   "execution_count": 26,
   "metadata": {},
   "outputs": [
    {
     "name": "stdout",
     "output_type": "stream",
     "text": [
      "[2. 4.]\n"
     ]
    }
   ],
   "source": [
    "print(np.percentile(ordersByUsers['orders'], [95, 99])) "
   ]
  },
  {
   "cell_type": "markdown",
   "metadata": {},
   "source": [
    "Таким образом получается, что не более 5% пользователей имееют более 2х заказов и не более 1% более 4х. Выберем границу для определения аномальных пользователей равную 3м заказам."
   ]
  },
  {
   "cell_type": "markdown",
   "metadata": {},
   "source": [
    "<a id = '11-bullet'></a>\n",
    "8. Точечный график стоимостей заказов."
   ]
  },
  {
   "cell_type": "code",
   "execution_count": 27,
   "metadata": {},
   "outputs": [
    {
     "data": {
      "text/plain": [
       "Text(0.5, 1.0, 'Стоимости заказов')"
      ]
     },
     "execution_count": 27,
     "metadata": {},
     "output_type": "execute_result"
    },
    {
     "data": {
      "image/png": "[encoded data removed]",
      "text/plain": [
       "<Figure size 576x360 with 1 Axes>"
      ]
     },
     "metadata": {
      "needs_background": "light"
     },
     "output_type": "display_data"
    }
   ],
   "source": [
    "x_values = pd.Series(range(0,len(orders['revenue'])))\n",
    "plt.figure(figsize=(8,5))\n",
    "plt.scatter(x_values, orders['revenue'])\n",
    "plt.title('Стоимости заказов')"
   ]
  },
  {
   "cell_type": "code",
   "execution_count": 28,
   "metadata": {},
   "outputs": [
    {
     "data": {
      "text/plain": [
       "Text(0.5, 1.0, 'Стоимости заказов')"
      ]
     },
     "execution_count": 28,
     "metadata": {},
     "output_type": "execute_result"
    },
    {
     "data": {
      "image/png": "[encoded data removed]",
      "text/plain": [
       "<Figure size 576x360 with 1 Axes>"
      ]
     },
     "metadata": {
      "needs_background": "light"
     },
     "output_type": "display_data"
    }
   ],
   "source": [
    "x_values = pd.Series(range(0,len(orders['revenue'])))\n",
    "plt.figure(figsize=(8,5))\n",
    "plt.scatter(x_values, orders['revenue'])\n",
    "plt.axis([0,1200,0,200000])\n",
    "plt.title('Стоимости заказов')"
   ]
  },
  {
   "cell_type": "code",
   "execution_count": 29,
   "metadata": {},
   "outputs": [
    {
     "data": {
      "text/html": [
       "<div>\n",
       "<style scoped>\n",
       "    .dataframe tbody tr th:only-of-type {\n",
       "        vertical-align: middle;\n",
       "    }\n",
       "\n",
       "    .dataframe tbody tr th {\n",
       "        vertical-align: top;\n",
       "    }\n",
       "\n",
       "    .dataframe thead th {\n",
       "        text-align: right;\n",
       "    }\n",
       "</style>\n",
       "<table border=\"1\" class=\"dataframe\">\n",
       "  <thead>\n",
       "    <tr style=\"text-align: right;\">\n",
       "      <th></th>\n",
       "      <th>transactionId</th>\n",
       "      <th>visitorId</th>\n",
       "      <th>date</th>\n",
       "      <th>revenue</th>\n",
       "      <th>group</th>\n",
       "    </tr>\n",
       "  </thead>\n",
       "  <tbody>\n",
       "    <tr>\n",
       "      <th>425</th>\n",
       "      <td>590470918</td>\n",
       "      <td>1920142716</td>\n",
       "      <td>2019-08-19</td>\n",
       "      <td>1294500</td>\n",
       "      <td>B</td>\n",
       "    </tr>\n",
       "    <tr>\n",
       "      <th>1196</th>\n",
       "      <td>3936777065</td>\n",
       "      <td>2108080724</td>\n",
       "      <td>2019-08-15</td>\n",
       "      <td>202740</td>\n",
       "      <td>B</td>\n",
       "    </tr>\n",
       "    <tr>\n",
       "      <th>858</th>\n",
       "      <td>192721366</td>\n",
       "      <td>1316129916</td>\n",
       "      <td>2019-08-27</td>\n",
       "      <td>93940</td>\n",
       "      <td>A</td>\n",
       "    </tr>\n",
       "    <tr>\n",
       "      <th>1136</th>\n",
       "      <td>666610489</td>\n",
       "      <td>1307669133</td>\n",
       "      <td>2019-08-13</td>\n",
       "      <td>92550</td>\n",
       "      <td>A</td>\n",
       "    </tr>\n",
       "    <tr>\n",
       "      <th>744</th>\n",
       "      <td>3668308183</td>\n",
       "      <td>888512513</td>\n",
       "      <td>2019-08-27</td>\n",
       "      <td>86620</td>\n",
       "      <td>B</td>\n",
       "    </tr>\n",
       "    <tr>\n",
       "      <th>682</th>\n",
       "      <td>1216533772</td>\n",
       "      <td>4266935830</td>\n",
       "      <td>2019-08-29</td>\n",
       "      <td>78990</td>\n",
       "      <td>B</td>\n",
       "    </tr>\n",
       "    <tr>\n",
       "      <th>662</th>\n",
       "      <td>1811671147</td>\n",
       "      <td>4266935830</td>\n",
       "      <td>2019-08-29</td>\n",
       "      <td>78990</td>\n",
       "      <td>A</td>\n",
       "    </tr>\n",
       "    <tr>\n",
       "      <th>743</th>\n",
       "      <td>3603576309</td>\n",
       "      <td>4133034833</td>\n",
       "      <td>2019-08-09</td>\n",
       "      <td>67990</td>\n",
       "      <td>A</td>\n",
       "    </tr>\n",
       "    <tr>\n",
       "      <th>1103</th>\n",
       "      <td>1348774318</td>\n",
       "      <td>1164614297</td>\n",
       "      <td>2019-08-12</td>\n",
       "      <td>66350</td>\n",
       "      <td>A</td>\n",
       "    </tr>\n",
       "    <tr>\n",
       "      <th>1099</th>\n",
       "      <td>316924019</td>\n",
       "      <td>148427295</td>\n",
       "      <td>2019-08-12</td>\n",
       "      <td>65710</td>\n",
       "      <td>A</td>\n",
       "    </tr>\n",
       "  </tbody>\n",
       "</table>\n",
       "</div>"
      ],
      "text/plain": [
       "      transactionId   visitorId       date  revenue group\n",
       "425       590470918  1920142716 2019-08-19  1294500     B\n",
       "1196     3936777065  2108080724 2019-08-15   202740     B\n",
       "858       192721366  1316129916 2019-08-27    93940     A\n",
       "1136      666610489  1307669133 2019-08-13    92550     A\n",
       "744      3668308183   888512513 2019-08-27    86620     B\n",
       "682      1216533772  4266935830 2019-08-29    78990     B\n",
       "662      1811671147  4266935830 2019-08-29    78990     A\n",
       "743      3603576309  4133034833 2019-08-09    67990     A\n",
       "1103     1348774318  1164614297 2019-08-12    66350     A\n",
       "1099      316924019   148427295 2019-08-12    65710     A"
      ]
     },
     "execution_count": 29,
     "metadata": {},
     "output_type": "execute_result"
    }
   ],
   "source": [
    "orders.sort_values(by='revenue', ascending=False).head(10)"
   ]
  },
  {
   "cell_type": "markdown",
   "metadata": {},
   "source": [
    "Есть два аномально дорогих заказа один более 1млн и второй более 200 тыс, ,большая часть заказов находится в пределах 25-30тыс. Аномальные заказы следует удалить из теста."
   ]
  },
  {
   "cell_type": "markdown",
   "metadata": {},
   "source": [
    "<a id = '12-bullet'></a>\n",
    "9. Процентили стоимости заказов."
   ]
  },
  {
   "cell_type": "code",
   "execution_count": 30,
   "metadata": {},
   "outputs": [
    {
     "data": {
      "text/plain": [
       "array([28000. , 58233.2])"
      ]
     },
     "execution_count": 30,
     "metadata": {},
     "output_type": "execute_result"
    }
   ],
   "source": [
    "np.percentile(orders['revenue'], [95, 99])"
   ]
  },
  {
   "cell_type": "markdown",
   "metadata": {},
   "source": [
    "Не более 5 % пользователей имеют заказы дороже 28тыс, и не более 1% имеют заказы дороже 59тыс. Примем за границу для аномальных значений стоимость заказа выше 30 тыс."
   ]
  },
  {
   "cell_type": "markdown",
   "metadata": {},
   "source": [
    "<a id = '13-bullet'></a>\n",
    "10. Статистическая значимость различий в среднем количестве заказов на посетителя по \"сырым\" данным."
   ]
  },
  {
   "cell_type": "markdown",
   "metadata": {},
   "source": [
    "\n",
    "Сформулируем гипотезы. Нулевая: различий в среднем количестве заказов между группами нет. Альтернативная: различия в среднем между группами есть.\n"
   ]
  },
  {
   "cell_type": "code",
   "execution_count": 31,
   "metadata": {},
   "outputs": [],
   "source": [
    "#посчитаем количество пользователей в выбранную дату в группе A \n",
    "visitorsADaily = visitors[visitors['group'] == 'A'][['date', 'visitors']]\n",
    "visitorsADaily.columns = ['date', 'visitorsPerDateA']\n",
    "\n",
    "#посчитаем количество пользователей до выбранной даты включительно в группе A\n",
    "visitorsACummulative = visitorsADaily.apply(\n",
    "    lambda x: visitorsADaily[visitorsADaily['date'] <= x['date']].agg(\n",
    "        {'date': 'max', 'visitorsPerDateA': 'sum'}\n",
    "    ),\n",
    "    axis=1,\n",
    ")\n",
    "visitorsACummulative.columns = ['date', 'visitorsCummulativeA']\n",
    "\n",
    "#посчитаем количество пользователей в выбранную дату в группе B \n",
    "visitorsBDaily = visitors[visitors['group'] == 'B'][['date', 'visitors']]\n",
    "visitorsBDaily.columns = ['date', 'visitorsPerDateB']\n",
    "\n",
    "#количество пользователей до выбранной даты включительно в группе B\n",
    "visitorsBCummulative = visitorsBDaily.apply(\n",
    "    lambda x: visitorsBDaily[visitorsBDaily['date'] <= x['date']].agg(\n",
    "        {'date': 'max', 'visitorsPerDateB': 'sum'}\n",
    "    ),\n",
    "    axis=1,\n",
    ")\n",
    "visitorsBCummulative.columns = ['date', 'visitorsCummulativeB']"
   ]
  },
  {
   "cell_type": "code",
   "execution_count": 32,
   "metadata": {},
   "outputs": [
    {
     "name": "stdout",
     "output_type": "stream",
     "text": [
      "p-value 0.017\n",
      "Относительный прирост количества заказов по посетителям группы B по отношению к группе А 0.138\n"
     ]
    }
   ],
   "source": [
    "#посчитаем количество пользователей в выбранную дату в группе A\n",
    "ordersADaily = (\n",
    "    orders[orders['group'] == 'A'][['date', 'transactionId', 'visitorId', 'revenue']]\n",
    "    .groupby('date', as_index=False)\n",
    "    .agg({'transactionId': pd.Series.nunique, 'revenue': 'sum'})\n",
    ")\n",
    "ordersADaily.columns = ['date', 'ordersPerDateA', 'revenuePerDateA']\n",
    "# посчитаем количество пользователей до выбранной даты включительно в группе A\n",
    "ordersACummulative = ordersADaily.apply(\n",
    "    lambda x: ordersADaily[ordersADaily['date'] <= x['date']].agg(\n",
    "        {'date': 'max', 'ordersPerDateA': 'sum', 'revenuePerDateA': 'sum'}\n",
    "    ),\n",
    "    axis=1,\n",
    ").sort_values(by=['date'])\n",
    "ordersACummulative.columns = [\n",
    "    'date',\n",
    "    'ordersCummulativeA',\n",
    "    'revenueCummulativeA',\n",
    "]\n",
    "\n",
    "#посчитаем количество пользователей в выбранную дату в группе В\n",
    "ordersBDaily = (\n",
    "    orders[orders['group'] == 'B'][['date', 'transactionId', 'visitorId', 'revenue']]\n",
    "    .groupby('date', as_index=False)\n",
    "    .agg({'transactionId': pd.Series.nunique, 'revenue': 'sum'})\n",
    ")\n",
    "ordersBDaily.columns = ['date', 'ordersPerDateB', 'revenuePerDateB']\n",
    "\n",
    "# посчитаем количество пользователей до выбранной даты включительно в группе В\n",
    "ordersBCummulative = ordersBDaily.apply(\n",
    "    lambda x: ordersBDaily[ordersBDaily['date'] <= x['date']].agg(\n",
    "        {'date': 'max', 'ordersPerDateB': 'sum', 'revenuePerDateB': 'sum'}\n",
    "    ),\n",
    "    axis=1,\n",
    ").sort_values(by=['date'])\n",
    "ordersBCummulative.columns = [\n",
    "    'date',\n",
    "    'ordersCummulativeB',\n",
    "    'revenueCummulativeB',\n",
    "]\n",
    "# объединим полученные данные\n",
    "data = (\n",
    "    ordersADaily.merge(\n",
    "        ordersBDaily, left_on='date', right_on='date', how='left'\n",
    "    )\n",
    "    .merge(ordersACummulative, left_on='date', right_on='date', how='left')\n",
    "    .merge(ordersBCummulative, left_on='date', right_on='date', how='left')\n",
    "    .merge(visitorsADaily, left_on='date', right_on='date', how='left')\n",
    "    .merge(visitorsBDaily, left_on='date', right_on='date', how='left')\n",
    "    .merge(visitorsACummulative, left_on='date', right_on='date', how='left')\n",
    "    .merge(visitorsBCummulative, left_on='date', right_on='date', how='left')\n",
    ")\n",
    "\n",
    "# посчитаем количество заказов по пользователям для двух групп\n",
    "ordersByUsersA = (\n",
    "    orders[orders['group'] == 'A']\n",
    "    .groupby('visitorId', as_index=False)\n",
    "    .agg({'transactionId': pd.Series.nunique})\n",
    ")\n",
    "ordersByUsersA.columns = ['userId', 'orders']\n",
    "\n",
    "ordersByUsersB = (\n",
    "    orders[orders['group'] == 'B']\n",
    "    .groupby('visitorId', as_index=False)\n",
    "    .agg({'transactionId': pd.Series.nunique})\n",
    ")\n",
    "ordersByUsersB.columns = ['userId', 'orders'] \n",
    "\n",
    "sampleA = pd.concat(\n",
    "    [\n",
    "        ordersByUsersA['orders'],\n",
    "        pd.Series(\n",
    "            0,\n",
    "            index=np.arange(\n",
    "                data['visitorsPerDateA'].sum() - len(ordersByUsersA['orders'])\n",
    "            ),\n",
    "            name='orders',\n",
    "        ),\n",
    "    ],\n",
    "    axis=0,\n",
    ")\n",
    "\n",
    "sampleB = pd.concat(\n",
    "    [\n",
    "        ordersByUsersB['orders'],\n",
    "        pd.Series(\n",
    "            0,\n",
    "            index=np.arange(\n",
    "                data['visitorsPerDateB'].sum() - len(ordersByUsersB['orders'])\n",
    "            ),\n",
    "            name='orders',\n",
    "        ),\n",
    "    ],\n",
    "    axis=0,\n",
    ")\n",
    "print('p-value', \"{0:.3f}\".format(st.mannwhitneyu(sampleA, sampleB)[1]))\n",
    "\n",
    "print('Относительный прирост количества заказов по посетителям группы B по отношению к группе А', \"{0:.3f}\".format(\n",
    "    sampleB.mean() / sampleA.mean() - 1))"
   ]
  },
  {
   "cell_type": "markdown",
   "metadata": {},
   "source": [
    "Первое число — p-value = 0.017 меньше 0.05. Значит, по неочищенным данным разница между средним числом заказов в группах статистически значима. Относительный прирост количества заказов по посетителям группы B по отношению к группе А равен 13.8% — второе число в выводе."
   ]
  },
  {
   "cell_type": "markdown",
   "metadata": {},
   "source": [
    "<a id = '14-bullet'></a>\n",
    "11. Статистическая значимость различий в среднем чеке заказа по \"сырым\" данным."
   ]
  },
  {
   "cell_type": "markdown",
   "metadata": {},
   "source": [
    "\n",
    "Проверим статистическую значимость различий в среднем чеке между группами. Нулевая гипотеза: различий в среднем чеке между группами нет. Альтернативная гипотеза: различия в среднем чеке между группами есть. \n"
   ]
  },
  {
   "cell_type": "code",
   "execution_count": 33,
   "metadata": {},
   "outputs": [
    {
     "name": "stdout",
     "output_type": "stream",
     "text": [
      "p-value 0.729\n",
      "Относительное различие в среднем чеке между группами 0.259\n"
     ]
    }
   ],
   "source": [
    "print('p-value','{0:.3f}'.format(st.mannwhitneyu(orders[\n",
    "    orders['group']=='A']['revenue'], orders[orders['group']=='B']['revenue'])[1]))\n",
    "print('Относительное различие в среднем чеке между группами','{0:.3f}'.format(\n",
    "    orders[orders['group']=='B']['revenue'].mean()/orders[orders['group']=='A']['revenue'].mean()-1)) "
   ]
  },
  {
   "cell_type": "markdown",
   "metadata": {},
   "source": [
    "P-value значительно больше 0.05. Значит, причин отвергать нулевую гипотезу и считать, что в среднем чеке есть различия, нет. При этом, средний чек группы B значительно выше среднего чека группы A."
   ]
  },
  {
   "cell_type": "markdown",
   "metadata": {},
   "source": [
    "<a id = '15-bullet'></a>\n",
    "12. Статистическая значимость различий в среднем количестве заказов на посетителя по \"очищенным\" данным."
   ]
  },
  {
   "cell_type": "markdown",
   "metadata": {},
   "source": [
    "\n",
    "Примем за аномальных пользователей тех, кто совершил от 2 заказов или совершил заказ дороже 28 000 рублей, что соответствует 95 процентилю количества заказов и стоимости соответственно \n"
   ]
  },
  {
   "cell_type": "code",
   "execution_count": 34,
   "metadata": {},
   "outputs": [
    {
     "data": {
      "text/plain": [
       "2.0"
      ]
     },
     "execution_count": 34,
     "metadata": {},
     "output_type": "execute_result"
    }
   ],
   "source": [
    "order_pr = np.percentile(ordersByUsers['orders'], 95)\n",
    "order_pr"
   ]
  },
  {
   "cell_type": "code",
   "execution_count": 35,
   "metadata": {},
   "outputs": [
    {
     "data": {
      "text/plain": [
       "28000"
      ]
     },
     "execution_count": 35,
     "metadata": {},
     "output_type": "execute_result"
    }
   ],
   "source": [
    "revenue_pr = round(np.percentile(orders['revenue'], 95))\n",
    "revenue_pr"
   ]
  },
  {
   "cell_type": "code",
   "execution_count": 36,
   "metadata": {},
   "outputs": [
    {
     "name": "stdout",
     "output_type": "stream",
     "text": [
      "1099    148427295\n",
      "18      199603092\n",
      "928     204675465\n",
      "23      237748145\n",
      "37      249864742\n",
      "dtype: int64\n",
      "74\n"
     ]
    }
   ],
   "source": [
    "usersWithManyOrders = pd.concat(\n",
    "    [\n",
    "        ordersByUsersA[ordersByUsersA['orders'] > order_pr]['userId'],\n",
    "        ordersByUsersB[ordersByUsersB['orders'] > order_pr]['userId'],\n",
    "    ],\n",
    "    axis=0,\n",
    ")\n",
    "usersWithExpensiveOrders = orders[orders['revenue'] > revenue_pr]['visitorId']\n",
    "abnormalUsers = (\n",
    "    pd.concat([usersWithManyOrders, usersWithExpensiveOrders], axis=0)\n",
    "    .drop_duplicates()\n",
    "    .sort_values()\n",
    ")\n",
    "print(abnormalUsers.head(5))\n",
    "print(abnormalUsers.shape[0]) "
   ]
  },
  {
   "cell_type": "markdown",
   "metadata": {},
   "source": [
    "\n",
    "Проверим теже гипотезы на очищенных данных. Нулевая: различий в среднем количестве заказов между группами нет. Альтернативная: различия в среднем между группами есть.\n"
   ]
  },
  {
   "cell_type": "code",
   "execution_count": 37,
   "metadata": {},
   "outputs": [],
   "source": [
    "sampleAFiltered = pd.concat(\n",
    "    [\n",
    "        ordersByUsersA[\n",
    "            np.logical_not(ordersByUsersA['userId'].isin(abnormalUsers))\n",
    "        ]['orders'],\n",
    "        pd.Series(\n",
    "            0,\n",
    "            index=np.arange(\n",
    "                data['visitorsPerDateA'].sum() - len(ordersByUsersA['orders'])\n",
    "            ),\n",
    "            name='orders',\n",
    "        ),\n",
    "    ],\n",
    "    axis=0,\n",
    ")\n",
    "\n",
    "sampleBFiltered = pd.concat(\n",
    "    [\n",
    "        ordersByUsersB[\n",
    "            np.logical_not(ordersByUsersB['userId'].isin(abnormalUsers))\n",
    "        ]['orders'],\n",
    "        pd.Series(\n",
    "            0,\n",
    "            index=np.arange(\n",
    "                data['visitorsPerDateB'].sum() - len(ordersByUsersB['orders'])\n",
    "            ),\n",
    "            name='orders',\n",
    "        ),\n",
    "    ],\n",
    "    axis=0,\n",
    ") "
   ]
  },
  {
   "cell_type": "code",
   "execution_count": 38,
   "metadata": {},
   "outputs": [
    {
     "name": "stdout",
     "output_type": "stream",
     "text": [
      "p-value 0.013\n",
      "относительная разница между средним чеком группы В по отношению к А 0.173\n"
     ]
    }
   ],
   "source": [
    "print('p-value', '{0:.3f}'.format(st.mannwhitneyu(sampleAFiltered, sampleBFiltered)[1]))\n",
    "print('относительная разница между средним чеком группы В по отношению к А', '{0:.3f}'.format(\n",
    "    sampleBFiltered.mean()/sampleAFiltered.mean()-1)) "
   ]
  },
  {
   "cell_type": "markdown",
   "metadata": {},
   "source": [
    "После удаления аномальных данных результаты по количеству заказов практически не изменились"
   ]
  },
  {
   "cell_type": "markdown",
   "metadata": {},
   "source": [
    "<a id = '16-bullet'></a>\n",
    "13. Статистическая значимость различий в среднем чека заказа по \"очищенным\" данным."
   ]
  },
  {
   "cell_type": "markdown",
   "metadata": {},
   "source": [
    "\n",
    "Проверим статистическую значимость различий в среднем чеке между группами после удаления аномалий. Нулевая гипотеза: различий в среднем чеке между группами нет. Альтернативная гипотеза: различия в среднем чеке между группами есть. \n"
   ]
  },
  {
   "cell_type": "code",
   "execution_count": 39,
   "metadata": {},
   "outputs": [
    {
     "name": "stdout",
     "output_type": "stream",
     "text": [
      "p-value 0.738\n",
      "Относительная разница между чеками в группах -0.020\n"
     ]
    }
   ],
   "source": [
    "print('p-value', '{0:.3f}'.format(\n",
    "        st.mannwhitneyu(\n",
    "            orders[\n",
    "                np.logical_and(\n",
    "                    orders['group'] == 'A',\n",
    "                    np.logical_not(orders['visitorId'].isin(abnormalUsers)),\n",
    "                )\n",
    "            ]['revenue'],\n",
    "            orders[\n",
    "                np.logical_and(\n",
    "                    orders['group'] == 'B',\n",
    "                    np.logical_not(orders['visitorId'].isin(abnormalUsers)),\n",
    "                )\n",
    "            ]['revenue'],\n",
    "        )[1]\n",
    "    )\n",
    ")\n",
    "\n",
    "print('Относительная разница между чеками в группах', \"{0:.3f}\".format(\n",
    "        orders[\n",
    "            np.logical_and(\n",
    "                orders['group'] == 'B',\n",
    "                np.logical_not(orders['visitorId'].isin(abnormalUsers)),\n",
    "            )\n",
    "        ]['revenue'].mean()\n",
    "        / orders[\n",
    "            np.logical_and(\n",
    "                orders['group'] == 'A',\n",
    "                np.logical_not(orders['visitorId'].isin(abnormalUsers)),\n",
    "            )\n",
    "        ]['revenue'].mean()\n",
    "        - 1\n",
    "    )\n",
    ") "
   ]
  },
  {
   "cell_type": "markdown",
   "metadata": {},
   "source": [
    "После очистки данных P-value значительно больше 0.05. Значит, причин отвергать нулевую гипотезу и считать, что в среднем чеке есть различия, нет. В этом смысле результат не изменился, но относительная разница между средними чеками в двух группах снизилась значительно и составляет -2%."
   ]
  },
  {
   "cell_type": "markdown",
   "metadata": {},
   "source": [
    "<a id = '17-bullet'></a>\n",
    "14. Выводы по результатам теста."
   ]
  },
  {
   "cell_type": "markdown",
   "metadata": {},
   "source": [
    "По проведенному тесту можно сделать следующие выводы.\n",
    "Различия по среднему количеству заказов между группами и по «сырым», и по данным после удаления аномалий являются статистически значимыми. При этом относительный прирост количества заказов по группе В на 13,8 % выше в первом случае и на 17,3% во втором.\n",
    "Нет статистически значимого различия по среднему чеку между группами ни по «сырым», ни по данным после удаления аномалий, при этом после очистки данных разница между средними чеками в группах сократилась до 2%. Таким образом, можно остановить тест и зафиксировать победу группы В.\n"
   ]
  },
  {
   "cell_type": "markdown",
   "metadata": {},
   "source": [
    "Конверсия группы В (количество заказов на пользователя) значительно выше конверсии группы А и до очистки данных и после, а также имеется тенденция к росту, соответсвенно можно утверждать, что изменения положительно повлияли на выручку магазина - посещения стали чаще конвертироваться в заказы"
   ]
  },
  {
   "cell_type": "code",
   "execution_count": null,
   "metadata": {},
   "outputs": [],
   "source": []
  }
 ],
 "metadata": {
  "ExecuteTimeLog": [
   {
    "duration": 44,
    "start_time": "2024-05-10T19:48:39.980Z"
   },
   {
    "duration": 1200,
    "start_time": "2024-05-10T19:48:46.399Z"
   },
   {
    "duration": 80,
    "start_time": "2024-05-10T19:48:47.905Z"
   },
   {
    "duration": 34,
    "start_time": "2024-05-10T19:49:51.519Z"
   },
   {
    "duration": 9,
    "start_time": "2024-05-10T19:50:03.039Z"
   },
   {
    "duration": 32,
    "start_time": "2024-05-10T19:53:15.936Z"
   },
   {
    "duration": 7,
    "start_time": "2024-05-10T19:53:21.783Z"
   },
   {
    "duration": 5,
    "start_time": "2024-05-10T19:56:11.408Z"
   },
   {
    "duration": 654,
    "start_time": "2024-05-10T19:56:23.641Z"
   },
   {
    "duration": 2,
    "start_time": "2024-05-10T19:58:22.043Z"
   },
   {
    "duration": 8,
    "start_time": "2024-05-10T19:58:23.679Z"
   },
   {
    "duration": 10,
    "start_time": "2024-05-10T19:58:33.362Z"
   },
   {
    "duration": 9,
    "start_time": "2024-05-10T19:59:02.074Z"
   },
   {
    "duration": 49,
    "start_time": "2024-05-10T20:00:46.726Z"
   },
   {
    "duration": 110,
    "start_time": "2024-05-10T20:14:39.486Z"
   },
   {
    "duration": 8,
    "start_time": "2024-05-10T20:15:07.917Z"
   },
   {
    "duration": 86,
    "start_time": "2024-05-10T20:16:09.395Z"
   },
   {
    "duration": 31,
    "start_time": "2024-05-10T20:16:56.639Z"
   },
   {
    "duration": 6,
    "start_time": "2024-05-10T20:17:21.778Z"
   },
   {
    "duration": 23,
    "start_time": "2024-05-10T20:26:41.762Z"
   },
   {
    "duration": 37,
    "start_time": "2024-05-10T20:29:09.846Z"
   },
   {
    "duration": 20,
    "start_time": "2024-05-10T20:29:18.105Z"
   },
   {
    "duration": 1070,
    "start_time": "2024-05-10T20:30:37.980Z"
   },
   {
    "duration": 33,
    "start_time": "2024-05-10T20:30:39.051Z"
   },
   {
    "duration": 8,
    "start_time": "2024-05-10T20:30:39.086Z"
   },
   {
    "duration": 2,
    "start_time": "2024-05-10T20:30:39.096Z"
   },
   {
    "duration": 11,
    "start_time": "2024-05-10T20:30:39.100Z"
   },
   {
    "duration": 17,
    "start_time": "2024-05-10T20:30:39.112Z"
   },
   {
    "duration": 52,
    "start_time": "2024-05-10T20:30:39.130Z"
   },
   {
    "duration": 7,
    "start_time": "2024-05-10T20:30:39.183Z"
   },
   {
    "duration": 33,
    "start_time": "2024-05-10T20:30:39.191Z"
   },
   {
    "duration": 8,
    "start_time": "2024-05-10T20:30:39.226Z"
   },
   {
    "duration": 222,
    "start_time": "2024-05-10T20:30:39.235Z"
   },
   {
    "duration": 203,
    "start_time": "2024-05-10T20:31:45.511Z"
   },
   {
    "duration": 203,
    "start_time": "2024-05-10T20:32:28.161Z"
   },
   {
    "duration": 315,
    "start_time": "2024-05-10T20:33:31.009Z"
   },
   {
    "duration": 204,
    "start_time": "2024-05-10T20:34:13.563Z"
   },
   {
    "duration": 203,
    "start_time": "2024-05-10T20:34:22.323Z"
   },
   {
    "duration": 204,
    "start_time": "2024-05-10T20:34:36.703Z"
   },
   {
    "duration": 133,
    "start_time": "2024-05-10T20:35:07.247Z"
   },
   {
    "duration": 209,
    "start_time": "2024-05-10T20:35:28.171Z"
   },
   {
    "duration": 343,
    "start_time": "2024-05-10T20:36:31.709Z"
   },
   {
    "duration": 48,
    "start_time": "2024-05-11T16:33:07.294Z"
   },
   {
    "duration": 1356,
    "start_time": "2024-05-11T16:33:13.210Z"
   },
   {
    "duration": 87,
    "start_time": "2024-05-11T16:33:14.568Z"
   },
   {
    "duration": 10,
    "start_time": "2024-05-11T16:33:14.657Z"
   },
   {
    "duration": 10,
    "start_time": "2024-05-11T16:33:14.669Z"
   },
   {
    "duration": 21,
    "start_time": "2024-05-11T16:33:14.680Z"
   },
   {
    "duration": 10,
    "start_time": "2024-05-11T16:33:14.703Z"
   },
   {
    "duration": 96,
    "start_time": "2024-05-11T16:33:14.715Z"
   },
   {
    "duration": 8,
    "start_time": "2024-05-11T16:33:14.813Z"
   },
   {
    "duration": 84,
    "start_time": "2024-05-11T16:33:14.823Z"
   },
   {
    "duration": 8,
    "start_time": "2024-05-11T16:33:14.909Z"
   },
   {
    "duration": 271,
    "start_time": "2024-05-11T16:33:14.918Z"
   },
   {
    "duration": 296,
    "start_time": "2024-05-11T16:33:15.191Z"
   },
   {
    "duration": 264,
    "start_time": "2024-05-11T16:33:15.491Z"
   },
   {
    "duration": 431,
    "start_time": "2024-05-11T16:33:15.756Z"
   },
   {
    "duration": 264,
    "start_time": "2024-05-11T16:33:16.191Z"
   },
   {
    "duration": 416,
    "start_time": "2024-05-11T16:33:16.457Z"
   },
   {
    "duration": 71,
    "start_time": "2024-05-11T16:34:57.693Z"
   },
   {
    "duration": 214,
    "start_time": "2024-05-11T16:35:07.066Z"
   },
   {
    "duration": 288,
    "start_time": "2024-05-11T16:36:29.297Z"
   },
   {
    "duration": 299,
    "start_time": "2024-05-11T16:41:01.096Z"
   },
   {
    "duration": 359,
    "start_time": "2024-05-11T16:41:07.825Z"
   },
   {
    "duration": 278,
    "start_time": "2024-05-11T16:41:12.814Z"
   },
   {
    "duration": 250,
    "start_time": "2024-05-11T16:41:19.914Z"
   },
   {
    "duration": 273,
    "start_time": "2024-05-11T16:42:10.151Z"
   },
   {
    "duration": 385,
    "start_time": "2024-05-11T16:42:57.308Z"
   },
   {
    "duration": 429,
    "start_time": "2024-05-11T16:43:26.272Z"
   },
   {
    "duration": 292,
    "start_time": "2024-05-11T16:43:32.904Z"
   },
   {
    "duration": 308,
    "start_time": "2024-05-11T16:44:19.139Z"
   },
   {
    "duration": 369,
    "start_time": "2024-05-11T16:44:31.863Z"
   },
   {
    "duration": 415,
    "start_time": "2024-05-11T16:44:51.206Z"
   },
   {
    "duration": 263,
    "start_time": "2024-05-11T16:49:57.038Z"
   },
   {
    "duration": 307,
    "start_time": "2024-05-11T16:50:19.463Z"
   },
   {
    "duration": 308,
    "start_time": "2024-05-11T16:51:23.707Z"
   },
   {
    "duration": 311,
    "start_time": "2024-05-11T16:52:47.426Z"
   },
   {
    "duration": 305,
    "start_time": "2024-05-11T16:59:02.745Z"
   },
   {
    "duration": 55,
    "start_time": "2024-05-12T17:36:33.957Z"
   },
   {
    "duration": 1478,
    "start_time": "2024-05-12T17:36:39.269Z"
   },
   {
    "duration": 80,
    "start_time": "2024-05-12T17:36:40.750Z"
   },
   {
    "duration": 12,
    "start_time": "2024-05-12T17:36:40.831Z"
   },
   {
    "duration": 24,
    "start_time": "2024-05-12T17:36:40.844Z"
   },
   {
    "duration": 34,
    "start_time": "2024-05-12T17:36:40.871Z"
   },
   {
    "duration": 19,
    "start_time": "2024-05-12T17:36:40.907Z"
   },
   {
    "duration": 107,
    "start_time": "2024-05-12T17:36:40.928Z"
   },
   {
    "duration": 10,
    "start_time": "2024-05-12T17:36:41.037Z"
   },
   {
    "duration": 84,
    "start_time": "2024-05-12T17:36:41.048Z"
   },
   {
    "duration": 8,
    "start_time": "2024-05-12T17:36:41.134Z"
   },
   {
    "duration": 294,
    "start_time": "2024-05-12T17:36:41.143Z"
   },
   {
    "duration": 388,
    "start_time": "2024-05-12T17:36:41.439Z"
   },
   {
    "duration": 355,
    "start_time": "2024-05-12T17:36:41.828Z"
   },
   {
    "duration": 500,
    "start_time": "2024-05-12T17:36:42.186Z"
   },
   {
    "duration": 296,
    "start_time": "2024-05-12T17:36:42.687Z"
   },
   {
    "duration": 423,
    "start_time": "2024-05-12T17:36:42.985Z"
   },
   {
    "duration": 364,
    "start_time": "2024-05-12T17:42:00.482Z"
   },
   {
    "duration": 336,
    "start_time": "2024-05-12T17:43:26.708Z"
   },
   {
    "duration": 321,
    "start_time": "2024-05-12T17:43:46.365Z"
   },
   {
    "duration": 535,
    "start_time": "2024-05-12T17:53:06.438Z"
   },
   {
    "duration": 422,
    "start_time": "2024-05-12T17:53:16.127Z"
   },
   {
    "duration": 287,
    "start_time": "2024-05-12T18:00:54.834Z"
   },
   {
    "duration": 10,
    "start_time": "2024-05-12T18:00:56.170Z"
   },
   {
    "duration": 4,
    "start_time": "2024-05-12T18:01:38.991Z"
   },
   {
    "duration": 41,
    "start_time": "2024-05-12T18:01:44.979Z"
   },
   {
    "duration": 8,
    "start_time": "2024-05-12T18:01:45.841Z"
   },
   {
    "duration": 3,
    "start_time": "2024-05-12T18:01:47.717Z"
   },
   {
    "duration": 11,
    "start_time": "2024-05-12T18:01:54.239Z"
   },
   {
    "duration": 16,
    "start_time": "2024-05-12T18:01:55.864Z"
   },
   {
    "duration": 55,
    "start_time": "2024-05-12T18:01:58.823Z"
   },
   {
    "duration": 190,
    "start_time": "2024-05-12T18:02:00.349Z"
   },
   {
    "duration": 617,
    "start_time": "2024-05-12T18:03:33.236Z"
   },
   {
    "duration": 18,
    "start_time": "2024-05-12T18:04:00.335Z"
   },
   {
    "duration": 15,
    "start_time": "2024-05-12T18:04:13.917Z"
   },
   {
    "duration": 167,
    "start_time": "2024-05-12T18:04:32.433Z"
   },
   {
    "duration": 169,
    "start_time": "2024-05-12T18:04:52.082Z"
   },
   {
    "duration": 163,
    "start_time": "2024-05-12T18:06:54.182Z"
   },
   {
    "duration": 234,
    "start_time": "2024-05-12T18:07:00.907Z"
   },
   {
    "duration": 293,
    "start_time": "2024-05-12T18:07:05.359Z"
   },
   {
    "duration": 179,
    "start_time": "2024-05-12T18:07:32.479Z"
   },
   {
    "duration": 1250,
    "start_time": "2024-05-12T18:07:41.230Z"
   },
   {
    "duration": 36,
    "start_time": "2024-05-12T18:07:42.481Z"
   },
   {
    "duration": 12,
    "start_time": "2024-05-12T18:07:42.518Z"
   },
   {
    "duration": 3,
    "start_time": "2024-05-12T18:07:42.533Z"
   },
   {
    "duration": 17,
    "start_time": "2024-05-12T18:07:42.538Z"
   },
   {
    "duration": 15,
    "start_time": "2024-05-12T18:07:42.556Z"
   },
   {
    "duration": 45,
    "start_time": "2024-05-12T18:07:42.573Z"
   },
   {
    "duration": 13,
    "start_time": "2024-05-12T18:07:42.620Z"
   },
   {
    "duration": 18,
    "start_time": "2024-05-12T18:07:42.634Z"
   },
   {
    "duration": 22,
    "start_time": "2024-05-12T18:07:42.655Z"
   },
   {
    "duration": 9,
    "start_time": "2024-05-12T18:07:42.679Z"
   },
   {
    "duration": 456,
    "start_time": "2024-05-12T18:07:42.689Z"
   },
   {
    "duration": 0,
    "start_time": "2024-05-12T18:07:43.147Z"
   },
   {
    "duration": 0,
    "start_time": "2024-05-12T18:07:43.148Z"
   },
   {
    "duration": 0,
    "start_time": "2024-05-12T18:07:43.149Z"
   },
   {
    "duration": 0,
    "start_time": "2024-05-12T18:07:43.150Z"
   },
   {
    "duration": 0,
    "start_time": "2024-05-12T18:07:43.152Z"
   },
   {
    "duration": 168,
    "start_time": "2024-05-12T18:08:04.394Z"
   },
   {
    "duration": 167,
    "start_time": "2024-05-12T18:08:15.117Z"
   },
   {
    "duration": 6,
    "start_time": "2024-05-12T18:11:13.286Z"
   },
   {
    "duration": 10,
    "start_time": "2024-05-12T18:11:17.224Z"
   },
   {
    "duration": 11,
    "start_time": "2024-05-12T18:11:32.450Z"
   },
   {
    "duration": 6,
    "start_time": "2024-05-12T18:12:22.551Z"
   },
   {
    "duration": 11,
    "start_time": "2024-05-12T18:12:23.103Z"
   },
   {
    "duration": 12,
    "start_time": "2024-05-12T18:13:06.325Z"
   },
   {
    "duration": 9,
    "start_time": "2024-05-12T18:13:12.457Z"
   },
   {
    "duration": 1197,
    "start_time": "2024-05-12T18:13:22.189Z"
   },
   {
    "duration": 36,
    "start_time": "2024-05-12T18:13:23.388Z"
   },
   {
    "duration": 12,
    "start_time": "2024-05-12T18:13:23.425Z"
   },
   {
    "duration": 4,
    "start_time": "2024-05-12T18:13:23.438Z"
   },
   {
    "duration": 15,
    "start_time": "2024-05-12T18:13:23.443Z"
   },
   {
    "duration": 12,
    "start_time": "2024-05-12T18:13:23.459Z"
   },
   {
    "duration": 50,
    "start_time": "2024-05-12T18:13:23.472Z"
   },
   {
    "duration": 5,
    "start_time": "2024-05-12T18:13:23.524Z"
   },
   {
    "duration": 13,
    "start_time": "2024-05-12T18:13:23.531Z"
   },
   {
    "duration": 10,
    "start_time": "2024-05-12T18:13:23.547Z"
   },
   {
    "duration": 37,
    "start_time": "2024-05-12T18:13:23.559Z"
   },
   {
    "duration": 12,
    "start_time": "2024-05-12T18:13:23.598Z"
   },
   {
    "duration": 20,
    "start_time": "2024-05-12T18:13:23.612Z"
   },
   {
    "duration": 303,
    "start_time": "2024-05-12T18:13:23.634Z"
   },
   {
    "duration": 329,
    "start_time": "2024-05-12T18:13:23.938Z"
   },
   {
    "duration": 261,
    "start_time": "2024-05-12T18:13:24.269Z"
   },
   {
    "duration": 371,
    "start_time": "2024-05-12T18:13:24.532Z"
   },
   {
    "duration": 386,
    "start_time": "2024-05-12T18:13:24.905Z"
   },
   {
    "duration": 0,
    "start_time": "2024-05-12T18:13:25.293Z"
   },
   {
    "duration": 279,
    "start_time": "2024-05-12T18:15:01.997Z"
   },
   {
    "duration": 341,
    "start_time": "2024-05-12T18:20:11.880Z"
   },
   {
    "duration": 382,
    "start_time": "2024-05-12T18:20:34.221Z"
   },
   {
    "duration": 320,
    "start_time": "2024-05-12T18:21:24.434Z"
   },
   {
    "duration": 394,
    "start_time": "2024-05-12T18:21:36.583Z"
   },
   {
    "duration": 21,
    "start_time": "2024-05-12T18:28:10.867Z"
   },
   {
    "duration": 12,
    "start_time": "2024-05-12T18:29:27.765Z"
   },
   {
    "duration": 8,
    "start_time": "2024-05-12T18:30:17.657Z"
   },
   {
    "duration": 12,
    "start_time": "2024-05-12T18:30:37.206Z"
   },
   {
    "duration": 119,
    "start_time": "2024-05-12T18:31:23.259Z"
   },
   {
    "duration": 252,
    "start_time": "2024-05-12T18:31:48.032Z"
   },
   {
    "duration": 143,
    "start_time": "2024-05-12T18:33:31.032Z"
   },
   {
    "duration": 147,
    "start_time": "2024-05-12T18:34:03.193Z"
   },
   {
    "duration": 139,
    "start_time": "2024-05-12T18:34:16.048Z"
   },
   {
    "duration": 129,
    "start_time": "2024-05-12T18:34:24.378Z"
   },
   {
    "duration": 5,
    "start_time": "2024-05-12T18:37:03.134Z"
   },
   {
    "duration": 142,
    "start_time": "2024-05-12T18:43:09.678Z"
   },
   {
    "duration": 153,
    "start_time": "2024-05-12T18:44:23.506Z"
   },
   {
    "duration": 36,
    "start_time": "2024-05-12T18:45:17.265Z"
   },
   {
    "duration": 144,
    "start_time": "2024-05-12T18:45:18.226Z"
   },
   {
    "duration": 685,
    "start_time": "2024-05-12T18:45:20.528Z"
   },
   {
    "duration": 151,
    "start_time": "2024-05-12T18:45:35.241Z"
   },
   {
    "duration": 12,
    "start_time": "2024-05-12T18:47:01.744Z"
   },
   {
    "duration": 6,
    "start_time": "2024-05-12T18:50:46.239Z"
   },
   {
    "duration": 146,
    "start_time": "2024-05-12T18:53:46.575Z"
   },
   {
    "duration": 120,
    "start_time": "2024-05-12T19:05:16.263Z"
   },
   {
    "duration": 107,
    "start_time": "2024-05-12T19:07:19.144Z"
   },
   {
    "duration": 212,
    "start_time": "2024-05-12T19:08:48.076Z"
   },
   {
    "duration": 249,
    "start_time": "2024-05-12T19:21:41.435Z"
   },
   {
    "duration": 995,
    "start_time": "2024-05-12T19:23:23.628Z"
   },
   {
    "duration": 1187,
    "start_time": "2024-05-12T19:24:51.152Z"
   },
   {
    "duration": 36,
    "start_time": "2024-05-12T19:24:52.341Z"
   },
   {
    "duration": 12,
    "start_time": "2024-05-12T19:24:52.378Z"
   },
   {
    "duration": 5,
    "start_time": "2024-05-12T19:24:52.392Z"
   },
   {
    "duration": 14,
    "start_time": "2024-05-12T19:24:52.398Z"
   },
   {
    "duration": 10,
    "start_time": "2024-05-12T19:24:52.414Z"
   },
   {
    "duration": 61,
    "start_time": "2024-05-12T19:24:52.425Z"
   },
   {
    "duration": 5,
    "start_time": "2024-05-12T19:24:52.487Z"
   },
   {
    "duration": 24,
    "start_time": "2024-05-12T19:24:52.494Z"
   },
   {
    "duration": 11,
    "start_time": "2024-05-12T19:24:52.520Z"
   },
   {
    "duration": 29,
    "start_time": "2024-05-12T19:24:52.532Z"
   },
   {
    "duration": 11,
    "start_time": "2024-05-12T19:24:52.562Z"
   },
   {
    "duration": 11,
    "start_time": "2024-05-12T19:24:52.574Z"
   },
   {
    "duration": 300,
    "start_time": "2024-05-12T19:24:52.586Z"
   },
   {
    "duration": 346,
    "start_time": "2024-05-12T19:24:52.888Z"
   },
   {
    "duration": 236,
    "start_time": "2024-05-12T19:24:53.235Z"
   },
   {
    "duration": 353,
    "start_time": "2024-05-12T19:24:53.472Z"
   },
   {
    "duration": 244,
    "start_time": "2024-05-12T19:24:53.826Z"
   },
   {
    "duration": 360,
    "start_time": "2024-05-12T19:24:54.072Z"
   },
   {
    "duration": 11,
    "start_time": "2024-05-12T19:24:54.434Z"
   },
   {
    "duration": 148,
    "start_time": "2024-05-12T19:24:54.447Z"
   },
   {
    "duration": 4,
    "start_time": "2024-05-12T19:24:54.597Z"
   },
   {
    "duration": 167,
    "start_time": "2024-05-12T19:24:54.603Z"
   },
   {
    "duration": 167,
    "start_time": "2024-05-12T19:24:54.772Z"
   },
   {
    "duration": 11,
    "start_time": "2024-05-12T19:24:54.941Z"
   },
   {
    "duration": 5,
    "start_time": "2024-05-12T19:24:54.954Z"
   },
   {
    "duration": 1151,
    "start_time": "2024-05-12T19:24:54.961Z"
   },
   {
    "duration": 92,
    "start_time": "2024-05-12T19:27:15.721Z"
   },
   {
    "duration": 866,
    "start_time": "2024-05-12T19:28:25.293Z"
   },
   {
    "duration": 275,
    "start_time": "2024-05-12T19:29:58.799Z"
   },
   {
    "duration": 289,
    "start_time": "2024-05-12T19:31:03.875Z"
   },
   {
    "duration": 1144,
    "start_time": "2024-05-12T19:35:49.474Z"
   },
   {
    "duration": 36,
    "start_time": "2024-05-12T19:35:50.620Z"
   },
   {
    "duration": 13,
    "start_time": "2024-05-12T19:35:50.657Z"
   },
   {
    "duration": 8,
    "start_time": "2024-05-12T19:35:50.674Z"
   },
   {
    "duration": 38,
    "start_time": "2024-05-12T19:35:50.684Z"
   },
   {
    "duration": 32,
    "start_time": "2024-05-12T19:35:50.725Z"
   },
   {
    "duration": 74,
    "start_time": "2024-05-12T19:35:50.758Z"
   },
   {
    "duration": 4,
    "start_time": "2024-05-12T19:35:50.834Z"
   },
   {
    "duration": 34,
    "start_time": "2024-05-12T19:35:50.840Z"
   },
   {
    "duration": 25,
    "start_time": "2024-05-12T19:35:50.875Z"
   },
   {
    "duration": 58,
    "start_time": "2024-05-12T19:35:50.902Z"
   },
   {
    "duration": 11,
    "start_time": "2024-05-12T19:35:50.962Z"
   },
   {
    "duration": 21,
    "start_time": "2024-05-12T19:35:50.975Z"
   },
   {
    "duration": 325,
    "start_time": "2024-05-12T19:35:50.999Z"
   },
   {
    "duration": 336,
    "start_time": "2024-05-12T19:35:51.326Z"
   },
   {
    "duration": 240,
    "start_time": "2024-05-12T19:35:51.664Z"
   },
   {
    "duration": 373,
    "start_time": "2024-05-12T19:35:51.906Z"
   },
   {
    "duration": 254,
    "start_time": "2024-05-12T19:35:52.280Z"
   },
   {
    "duration": 353,
    "start_time": "2024-05-12T19:35:52.535Z"
   },
   {
    "duration": 12,
    "start_time": "2024-05-12T19:35:52.890Z"
   },
   {
    "duration": 150,
    "start_time": "2024-05-12T19:35:52.904Z"
   },
   {
    "duration": 4,
    "start_time": "2024-05-12T19:35:53.056Z"
   },
   {
    "duration": 165,
    "start_time": "2024-05-12T19:35:53.062Z"
   },
   {
    "duration": 165,
    "start_time": "2024-05-12T19:35:53.229Z"
   },
   {
    "duration": 11,
    "start_time": "2024-05-12T19:35:53.397Z"
   },
   {
    "duration": 20,
    "start_time": "2024-05-12T19:35:53.411Z"
   },
   {
    "duration": 211,
    "start_time": "2024-05-12T19:35:53.432Z"
   },
   {
    "duration": 293,
    "start_time": "2024-05-12T19:35:53.645Z"
   },
   {
    "duration": 108,
    "start_time": "2024-05-12T19:40:08.388Z"
   },
   {
    "duration": 11,
    "start_time": "2024-05-12T19:40:17.886Z"
   },
   {
    "duration": 16,
    "start_time": "2024-05-12T19:43:45.242Z"
   },
   {
    "duration": 11,
    "start_time": "2024-05-12T19:44:04.718Z"
   },
   {
    "duration": 646,
    "start_time": "2024-05-12T19:50:20.865Z"
   },
   {
    "duration": 612,
    "start_time": "2024-05-12T19:51:06.357Z"
   },
   {
    "duration": 616,
    "start_time": "2024-05-12T19:51:57.642Z"
   },
   {
    "duration": 11,
    "start_time": "2024-05-12T19:52:55.225Z"
   },
   {
    "duration": 11,
    "start_time": "2024-05-12T19:53:45.124Z"
   },
   {
    "duration": 9,
    "start_time": "2024-05-12T19:53:56.193Z"
   },
   {
    "duration": 8,
    "start_time": "2024-05-12T19:54:20.188Z"
   },
   {
    "duration": 26,
    "start_time": "2024-05-12T19:54:36.682Z"
   },
   {
    "duration": 9,
    "start_time": "2024-05-12T19:58:11.459Z"
   },
   {
    "duration": 14,
    "start_time": "2024-05-12T19:58:20.651Z"
   },
   {
    "duration": 14,
    "start_time": "2024-05-12T19:58:29.221Z"
   },
   {
    "duration": 1147,
    "start_time": "2024-05-12T20:16:37.682Z"
   },
   {
    "duration": 35,
    "start_time": "2024-05-12T20:16:38.831Z"
   },
   {
    "duration": 11,
    "start_time": "2024-05-12T20:16:38.870Z"
   },
   {
    "duration": 8,
    "start_time": "2024-05-12T20:16:38.883Z"
   },
   {
    "duration": 14,
    "start_time": "2024-05-12T20:16:38.892Z"
   },
   {
    "duration": 12,
    "start_time": "2024-05-12T20:16:38.907Z"
   },
   {
    "duration": 44,
    "start_time": "2024-05-12T20:16:38.928Z"
   },
   {
    "duration": 5,
    "start_time": "2024-05-12T20:16:38.974Z"
   },
   {
    "duration": 17,
    "start_time": "2024-05-12T20:16:38.982Z"
   },
   {
    "duration": 13,
    "start_time": "2024-05-12T20:16:39.001Z"
   },
   {
    "duration": 30,
    "start_time": "2024-05-12T20:16:39.016Z"
   },
   {
    "duration": 12,
    "start_time": "2024-05-12T20:16:39.048Z"
   },
   {
    "duration": 11,
    "start_time": "2024-05-12T20:16:39.062Z"
   },
   {
    "duration": 303,
    "start_time": "2024-05-12T20:16:39.075Z"
   },
   {
    "duration": 351,
    "start_time": "2024-05-12T20:16:39.380Z"
   },
   {
    "duration": 238,
    "start_time": "2024-05-12T20:16:39.733Z"
   },
   {
    "duration": 330,
    "start_time": "2024-05-12T20:16:39.973Z"
   },
   {
    "duration": 264,
    "start_time": "2024-05-12T20:16:40.305Z"
   },
   {
    "duration": 349,
    "start_time": "2024-05-12T20:16:40.571Z"
   },
   {
    "duration": 15,
    "start_time": "2024-05-12T20:16:40.922Z"
   },
   {
    "duration": 156,
    "start_time": "2024-05-12T20:16:40.939Z"
   },
   {
    "duration": 4,
    "start_time": "2024-05-12T20:16:41.097Z"
   },
   {
    "duration": 158,
    "start_time": "2024-05-12T20:16:41.102Z"
   },
   {
    "duration": 168,
    "start_time": "2024-05-12T20:16:41.262Z"
   },
   {
    "duration": 11,
    "start_time": "2024-05-12T20:16:41.432Z"
   },
   {
    "duration": 5,
    "start_time": "2024-05-12T20:16:41.445Z"
   },
   {
    "duration": 198,
    "start_time": "2024-05-12T20:16:41.454Z"
   },
   {
    "duration": 292,
    "start_time": "2024-05-12T20:16:41.654Z"
   },
   {
    "duration": 10,
    "start_time": "2024-05-12T20:16:41.948Z"
   },
   {
    "duration": 9,
    "start_time": "2024-05-12T20:16:41.959Z"
   },
   {
    "duration": 7,
    "start_time": "2024-05-12T20:16:41.970Z"
   },
   {
    "duration": 51,
    "start_time": "2024-05-12T20:16:41.979Z"
   },
   {
    "duration": 15,
    "start_time": "2024-05-12T20:16:42.031Z"
   },
   {
    "duration": 1338,
    "start_time": "2024-05-12T20:52:58.451Z"
   },
   {
    "duration": 89,
    "start_time": "2024-05-12T20:52:59.791Z"
   },
   {
    "duration": 12,
    "start_time": "2024-05-12T20:52:59.881Z"
   },
   {
    "duration": 3,
    "start_time": "2024-05-12T20:52:59.894Z"
   },
   {
    "duration": 16,
    "start_time": "2024-05-12T20:52:59.899Z"
   },
   {
    "duration": 10,
    "start_time": "2024-05-12T20:52:59.916Z"
   },
   {
    "duration": 91,
    "start_time": "2024-05-12T20:52:59.928Z"
   },
   {
    "duration": 5,
    "start_time": "2024-05-12T20:53:00.021Z"
   },
   {
    "duration": 64,
    "start_time": "2024-05-12T20:53:00.027Z"
   },
   {
    "duration": 66,
    "start_time": "2024-05-12T20:53:00.092Z"
   },
   {
    "duration": 103,
    "start_time": "2024-05-12T20:53:00.159Z"
   },
   {
    "duration": 11,
    "start_time": "2024-05-12T20:53:00.264Z"
   },
   {
    "duration": 51,
    "start_time": "2024-05-12T20:53:00.276Z"
   },
   {
    "duration": 296,
    "start_time": "2024-05-12T20:53:00.329Z"
   },
   {
    "duration": 306,
    "start_time": "2024-05-12T20:53:00.626Z"
   },
   {
    "duration": 218,
    "start_time": "2024-05-12T20:53:00.934Z"
   },
   {
    "duration": 392,
    "start_time": "2024-05-12T20:53:01.153Z"
   },
   {
    "duration": 255,
    "start_time": "2024-05-12T20:53:01.547Z"
   },
   {
    "duration": 310,
    "start_time": "2024-05-12T20:53:01.804Z"
   },
   {
    "duration": 11,
    "start_time": "2024-05-12T20:53:02.115Z"
   },
   {
    "duration": 143,
    "start_time": "2024-05-12T20:53:02.128Z"
   },
   {
    "duration": 4,
    "start_time": "2024-05-12T20:53:02.272Z"
   },
   {
    "duration": 150,
    "start_time": "2024-05-12T20:53:02.278Z"
   },
   {
    "duration": 160,
    "start_time": "2024-05-12T20:53:02.430Z"
   },
   {
    "duration": 10,
    "start_time": "2024-05-12T20:53:02.591Z"
   },
   {
    "duration": 5,
    "start_time": "2024-05-12T20:53:02.602Z"
   },
   {
    "duration": 174,
    "start_time": "2024-05-12T20:53:02.609Z"
   },
   {
    "duration": 296,
    "start_time": "2024-05-12T20:53:02.785Z"
   },
   {
    "duration": 11,
    "start_time": "2024-05-12T20:53:03.083Z"
   },
   {
    "duration": 9,
    "start_time": "2024-05-12T20:53:03.096Z"
   },
   {
    "duration": 8,
    "start_time": "2024-05-12T20:53:03.107Z"
   },
   {
    "duration": 46,
    "start_time": "2024-05-12T20:53:03.116Z"
   },
   {
    "duration": 12,
    "start_time": "2024-05-12T20:53:03.170Z"
   },
   {
    "duration": 67,
    "start_time": "2024-05-15T17:26:26.768Z"
   },
   {
    "duration": 1506,
    "start_time": "2024-05-15T17:26:55.670Z"
   },
   {
    "duration": 79,
    "start_time": "2024-05-15T17:26:57.178Z"
   },
   {
    "duration": 11,
    "start_time": "2024-05-15T17:26:57.259Z"
   },
   {
    "duration": 4,
    "start_time": "2024-05-15T17:26:57.273Z"
   },
   {
    "duration": 30,
    "start_time": "2024-05-15T17:26:57.279Z"
   },
   {
    "duration": 18,
    "start_time": "2024-05-15T17:26:57.312Z"
   },
   {
    "duration": 111,
    "start_time": "2024-05-15T17:26:57.332Z"
   },
   {
    "duration": 6,
    "start_time": "2024-05-15T17:26:57.445Z"
   },
   {
    "duration": 21,
    "start_time": "2024-05-15T17:26:57.452Z"
   },
   {
    "duration": 12,
    "start_time": "2024-05-15T17:26:57.477Z"
   },
   {
    "duration": 74,
    "start_time": "2024-05-15T17:26:57.490Z"
   },
   {
    "duration": 15,
    "start_time": "2024-05-15T17:26:57.565Z"
   },
   {
    "duration": 17,
    "start_time": "2024-05-15T17:26:57.582Z"
   },
   {
    "duration": 6,
    "start_time": "2024-05-15T17:26:57.601Z"
   },
   {
    "duration": 5,
    "start_time": "2024-05-15T17:26:57.609Z"
   },
   {
    "duration": 332,
    "start_time": "2024-05-15T17:26:57.616Z"
   },
   {
    "duration": 358,
    "start_time": "2024-05-15T17:26:57.950Z"
   },
   {
    "duration": 251,
    "start_time": "2024-05-15T17:26:58.309Z"
   },
   {
    "duration": 405,
    "start_time": "2024-05-15T17:26:58.562Z"
   },
   {
    "duration": 277,
    "start_time": "2024-05-15T17:26:58.968Z"
   },
   {
    "duration": 369,
    "start_time": "2024-05-15T17:26:59.246Z"
   },
   {
    "duration": 11,
    "start_time": "2024-05-15T17:26:59.617Z"
   },
   {
    "duration": 162,
    "start_time": "2024-05-15T17:26:59.630Z"
   },
   {
    "duration": 5,
    "start_time": "2024-05-15T17:26:59.794Z"
   },
   {
    "duration": 167,
    "start_time": "2024-05-15T17:26:59.801Z"
   },
   {
    "duration": 174,
    "start_time": "2024-05-15T17:26:59.971Z"
   },
   {
    "duration": 11,
    "start_time": "2024-05-15T17:27:00.146Z"
   },
   {
    "duration": 54,
    "start_time": "2024-05-15T17:27:00.160Z"
   },
   {
    "duration": 261,
    "start_time": "2024-05-15T17:27:00.216Z"
   },
   {
    "duration": 342,
    "start_time": "2024-05-15T17:27:00.479Z"
   },
   {
    "duration": 11,
    "start_time": "2024-05-15T17:27:00.823Z"
   },
   {
    "duration": 85,
    "start_time": "2024-05-15T17:27:00.835Z"
   },
   {
    "duration": 92,
    "start_time": "2024-05-15T17:27:00.922Z"
   },
   {
    "duration": 82,
    "start_time": "2024-05-15T17:27:01.015Z"
   },
   {
    "duration": 28,
    "start_time": "2024-05-15T17:27:01.099Z"
   },
   {
    "duration": 55,
    "start_time": "2024-05-15T17:36:02.377Z"
   },
   {
    "duration": 8,
    "start_time": "2024-05-15T17:36:09.208Z"
   },
   {
    "duration": 67,
    "start_time": "2024-05-15T17:38:46.738Z"
   },
   {
    "duration": 13,
    "start_time": "2024-05-15T17:38:55.656Z"
   },
   {
    "duration": 10,
    "start_time": "2024-05-15T17:39:08.492Z"
   },
   {
    "duration": 24,
    "start_time": "2024-05-15T17:43:35.092Z"
   },
   {
    "duration": 128,
    "start_time": "2024-05-15T17:44:14.965Z"
   },
   {
    "duration": 13,
    "start_time": "2024-05-15T17:44:24.226Z"
   },
   {
    "duration": 798,
    "start_time": "2024-05-15T17:44:52.223Z"
   },
   {
    "duration": 10,
    "start_time": "2024-05-15T17:45:05.746Z"
   },
   {
    "duration": 11,
    "start_time": "2024-05-15T17:45:18.600Z"
   },
   {
    "duration": 51,
    "start_time": "2024-05-15T17:45:41.559Z"
   },
   {
    "duration": 302,
    "start_time": "2024-05-15T17:53:36.620Z"
   },
   {
    "duration": 20,
    "start_time": "2024-05-15T17:57:53.438Z"
   },
   {
    "duration": 12,
    "start_time": "2024-05-15T17:58:06.827Z"
   },
   {
    "duration": 5,
    "start_time": "2024-05-15T18:00:30.338Z"
   },
   {
    "duration": 7,
    "start_time": "2024-05-15T18:00:35.931Z"
   },
   {
    "duration": 7,
    "start_time": "2024-05-15T18:00:51.179Z"
   },
   {
    "duration": 714,
    "start_time": "2024-05-15T18:01:24.319Z"
   },
   {
    "duration": 6,
    "start_time": "2024-05-15T18:01:47.771Z"
   },
   {
    "duration": 5,
    "start_time": "2024-05-15T18:02:11.812Z"
   },
   {
    "duration": 5,
    "start_time": "2024-05-15T18:02:12.502Z"
   },
   {
    "duration": 6,
    "start_time": "2024-05-15T18:04:05.272Z"
   },
   {
    "duration": 10,
    "start_time": "2024-05-15T18:04:18.162Z"
   },
   {
    "duration": 4,
    "start_time": "2024-05-15T18:04:33.215Z"
   },
   {
    "duration": 5,
    "start_time": "2024-05-15T18:04:53.505Z"
   },
   {
    "duration": 5,
    "start_time": "2024-05-15T18:05:05.486Z"
   },
   {
    "duration": 71,
    "start_time": "2024-05-15T18:05:20.976Z"
   },
   {
    "duration": 5,
    "start_time": "2024-05-15T18:05:31.329Z"
   },
   {
    "duration": 11,
    "start_time": "2024-05-15T18:06:00.958Z"
   },
   {
    "duration": 9,
    "start_time": "2024-05-15T18:08:01.223Z"
   },
   {
    "duration": 25,
    "start_time": "2024-05-15T18:08:02.689Z"
   },
   {
    "duration": 31,
    "start_time": "2024-05-15T18:10:08.493Z"
   },
   {
    "duration": 16,
    "start_time": "2024-05-15T18:12:26.550Z"
   },
   {
    "duration": 11,
    "start_time": "2024-05-15T18:20:16.830Z"
   },
   {
    "duration": 1245,
    "start_time": "2024-05-15T18:20:23.708Z"
   },
   {
    "duration": 36,
    "start_time": "2024-05-15T18:20:24.955Z"
   },
   {
    "duration": 11,
    "start_time": "2024-05-15T18:20:24.993Z"
   },
   {
    "duration": 14,
    "start_time": "2024-05-15T18:20:25.006Z"
   },
   {
    "duration": 24,
    "start_time": "2024-05-15T18:20:25.021Z"
   },
   {
    "duration": 18,
    "start_time": "2024-05-15T18:20:25.047Z"
   },
   {
    "duration": 66,
    "start_time": "2024-05-15T18:20:25.067Z"
   },
   {
    "duration": 5,
    "start_time": "2024-05-15T18:20:25.135Z"
   },
   {
    "duration": 14,
    "start_time": "2024-05-15T18:20:25.142Z"
   },
   {
    "duration": 10,
    "start_time": "2024-05-15T18:20:25.159Z"
   },
   {
    "duration": 44,
    "start_time": "2024-05-15T18:20:25.170Z"
   },
   {
    "duration": 11,
    "start_time": "2024-05-15T18:20:25.216Z"
   },
   {
    "duration": 30,
    "start_time": "2024-05-15T18:20:25.228Z"
   },
   {
    "duration": 17,
    "start_time": "2024-05-15T18:20:25.259Z"
   },
   {
    "duration": 15,
    "start_time": "2024-05-15T18:20:25.278Z"
   },
   {
    "duration": 21,
    "start_time": "2024-05-15T18:20:25.295Z"
   },
   {
    "duration": 11,
    "start_time": "2024-05-15T18:20:25.317Z"
   },
   {
    "duration": 293,
    "start_time": "2024-05-15T18:20:25.329Z"
   },
   {
    "duration": 375,
    "start_time": "2024-05-15T18:20:25.625Z"
   },
   {
    "duration": 254,
    "start_time": "2024-05-15T18:20:26.002Z"
   },
   {
    "duration": 367,
    "start_time": "2024-05-15T18:20:26.257Z"
   },
   {
    "duration": 269,
    "start_time": "2024-05-15T18:20:26.625Z"
   },
   {
    "duration": 325,
    "start_time": "2024-05-15T18:20:26.896Z"
   },
   {
    "duration": 11,
    "start_time": "2024-05-15T18:20:27.223Z"
   },
   {
    "duration": 153,
    "start_time": "2024-05-15T18:20:27.236Z"
   },
   {
    "duration": 4,
    "start_time": "2024-05-15T18:20:27.391Z"
   },
   {
    "duration": 160,
    "start_time": "2024-05-15T18:20:27.397Z"
   },
   {
    "duration": 160,
    "start_time": "2024-05-15T18:20:27.560Z"
   },
   {
    "duration": 10,
    "start_time": "2024-05-15T18:20:27.722Z"
   },
   {
    "duration": 5,
    "start_time": "2024-05-15T18:20:27.734Z"
   },
   {
    "duration": 185,
    "start_time": "2024-05-15T18:20:27.741Z"
   },
   {
    "duration": 307,
    "start_time": "2024-05-15T18:20:27.928Z"
   },
   {
    "duration": 12,
    "start_time": "2024-05-15T18:20:28.237Z"
   },
   {
    "duration": 11,
    "start_time": "2024-05-15T18:20:28.251Z"
   },
   {
    "duration": 6,
    "start_time": "2024-05-15T18:20:28.283Z"
   },
   {
    "duration": 13,
    "start_time": "2024-05-15T18:20:28.291Z"
   },
   {
    "duration": 14,
    "start_time": "2024-05-15T18:20:28.305Z"
   },
   {
    "duration": 36,
    "start_time": "2024-05-15T18:20:28.321Z"
   },
   {
    "duration": 41,
    "start_time": "2024-05-15T18:20:28.359Z"
   }
  ],
  "kernelspec": {
   "display_name": "Python 3 (ipykernel)",
   "language": "python",
   "name": "python3"
  },
  "language_info": {
   "codemirror_mode": {
    "name": "ipython",
    "version": 3
   },
   "file_extension": ".py",
   "mimetype": "text/x-python",
   "name": "python",
   "nbconvert_exporter": "python",
   "pygments_lexer": "ipython3",
   "version": "3.11.7"
  },
  "toc": {
   "base_numbering": 1,
   "nav_menu": {},
   "number_sections": false,
   "sideBar": true,
   "skip_h1_title": false,
   "title_cell": "Table of Contents",
   "title_sidebar": "Contents",
   "toc_cell": false,
   "toc_position": {
    "height": "calc(100% - 180px)",
    "left": "10px",
    "top": "150px",
    "width": "227px"
   },
   "toc_section_display": true,
   "toc_window_display": true
  }
 },
 "nbformat": 4,
 "nbformat_minor": 4
}
