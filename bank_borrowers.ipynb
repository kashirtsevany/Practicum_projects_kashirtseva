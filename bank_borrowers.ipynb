{
 "cells": [
  {
   "cell_type": "markdown",
   "id": "386f2ae7",
   "metadata": {
    "deletable": false,
    "editable": false,
    "id": "386f2ae7"
   },
   "source": [
    "# Исследование надежности заемщиков\n"
   ]
  },
  {
   "cell_type": "markdown",
   "id": "ffe86f65",
   "metadata": {
    "deletable": false,
    "editable": false,
    "id": "ffe86f65"
   },
   "source": [
    "Во второй части проекта вы выполните шаги 3 и 4. Их вручную проверит ревьюер.\n",
    "Чтобы вам не пришлось писать код заново для шагов 1 и 2, мы добавили авторские решения в ячейки с кодом. \n",
    "\n"
   ]
  },
  {
   "cell_type": "markdown",
   "id": "26613308",
   "metadata": {
    "deletable": false,
    "editable": false,
    "id": "26613308"
   },
   "source": [
    "## Откройте таблицу и изучите общую информацию о данных"
   ]
  },
  {
   "cell_type": "markdown",
   "id": "3c9f838e",
   "metadata": {
    "deletable": false,
    "editable": false,
    "id": "3c9f838e"
   },
   "source": [
    "**Задание 1. Импортируйте библиотеку pandas. Считайте данные из csv-файла в датафрейм и сохраните в переменную `data`. Путь к файлу:**\n",
    "\n",
    "`/datasets/data.csv`"
   ]
  },
  {
   "cell_type": "code",
   "execution_count": 1,
   "id": "77a68a90",
   "metadata": {
    "deletable": false,
    "id": "77a68a90"
   },
   "outputs": [],
   "source": [
    "import pandas as pd\n",
    "\n",
    "try:\n",
    "    data = pd.read_csv('/datasets/data.csv')\n",
    "except:\n",
    "    data = pd.read_csv('https://code.s3.yandex.net/datasets/data.csv')"
   ]
  },
  {
   "cell_type": "markdown",
   "id": "45365635",
   "metadata": {
    "deletable": false,
    "editable": false,
    "id": "45365635"
   },
   "source": [
    "**Задание 2. Выведите первые 20 строчек датафрейма `data` на экран.**"
   ]
  },
  {
   "cell_type": "code",
   "execution_count": 2,
   "id": "b0451a9a",
   "metadata": {
    "deletable": false,
    "id": "b0451a9a",
    "outputId": "1a8f3ef2-d323-4ec2-ddf7-89670b5944c4"
   },
   "outputs": [
    {
     "data": {
      "text/html": [
       "<div>\n",
       "<style scoped>\n",
       "    .dataframe tbody tr th:only-of-type {\n",
       "        vertical-align: middle;\n",
       "    }\n",
       "\n",
       "    .dataframe tbody tr th {\n",
       "        vertical-align: top;\n",
       "    }\n",
       "\n",
       "    .dataframe thead th {\n",
       "        text-align: right;\n",
       "    }\n",
       "</style>\n",
       "<table border=\"1\" class=\"dataframe\">\n",
       "  <thead>\n",
       "    <tr style=\"text-align: right;\">\n",
       "      <th></th>\n",
       "      <th>children</th>\n",
       "      <th>days_employed</th>\n",
       "      <th>dob_years</th>\n",
       "      <th>education</th>\n",
       "      <th>education_id</th>\n",
       "      <th>family_status</th>\n",
       "      <th>family_status_id</th>\n",
       "      <th>gender</th>\n",
       "      <th>income_type</th>\n",
       "      <th>debt</th>\n",
       "      <th>total_income</th>\n",
       "      <th>purpose</th>\n",
       "    </tr>\n",
       "  </thead>\n",
       "  <tbody>\n",
       "    <tr>\n",
       "      <th>0</th>\n",
       "      <td>1</td>\n",
       "      <td>-8437.673028</td>\n",
       "      <td>42</td>\n",
       "      <td>высшее</td>\n",
       "      <td>0</td>\n",
       "      <td>женат / замужем</td>\n",
       "      <td>0</td>\n",
       "      <td>F</td>\n",
       "      <td>сотрудник</td>\n",
       "      <td>0</td>\n",
       "      <td>253875.639453</td>\n",
       "      <td>покупка жилья</td>\n",
       "    </tr>\n",
       "    <tr>\n",
       "      <th>1</th>\n",
       "      <td>1</td>\n",
       "      <td>-4024.803754</td>\n",
       "      <td>36</td>\n",
       "      <td>среднее</td>\n",
       "      <td>1</td>\n",
       "      <td>женат / замужем</td>\n",
       "      <td>0</td>\n",
       "      <td>F</td>\n",
       "      <td>сотрудник</td>\n",
       "      <td>0</td>\n",
       "      <td>112080.014102</td>\n",
       "      <td>приобретение автомобиля</td>\n",
       "    </tr>\n",
       "    <tr>\n",
       "      <th>2</th>\n",
       "      <td>0</td>\n",
       "      <td>-5623.422610</td>\n",
       "      <td>33</td>\n",
       "      <td>Среднее</td>\n",
       "      <td>1</td>\n",
       "      <td>женат / замужем</td>\n",
       "      <td>0</td>\n",
       "      <td>M</td>\n",
       "      <td>сотрудник</td>\n",
       "      <td>0</td>\n",
       "      <td>145885.952297</td>\n",
       "      <td>покупка жилья</td>\n",
       "    </tr>\n",
       "    <tr>\n",
       "      <th>3</th>\n",
       "      <td>3</td>\n",
       "      <td>-4124.747207</td>\n",
       "      <td>32</td>\n",
       "      <td>среднее</td>\n",
       "      <td>1</td>\n",
       "      <td>женат / замужем</td>\n",
       "      <td>0</td>\n",
       "      <td>M</td>\n",
       "      <td>сотрудник</td>\n",
       "      <td>0</td>\n",
       "      <td>267628.550329</td>\n",
       "      <td>дополнительное образование</td>\n",
       "    </tr>\n",
       "    <tr>\n",
       "      <th>4</th>\n",
       "      <td>0</td>\n",
       "      <td>340266.072047</td>\n",
       "      <td>53</td>\n",
       "      <td>среднее</td>\n",
       "      <td>1</td>\n",
       "      <td>гражданский брак</td>\n",
       "      <td>1</td>\n",
       "      <td>F</td>\n",
       "      <td>пенсионер</td>\n",
       "      <td>0</td>\n",
       "      <td>158616.077870</td>\n",
       "      <td>сыграть свадьбу</td>\n",
       "    </tr>\n",
       "    <tr>\n",
       "      <th>5</th>\n",
       "      <td>0</td>\n",
       "      <td>-926.185831</td>\n",
       "      <td>27</td>\n",
       "      <td>высшее</td>\n",
       "      <td>0</td>\n",
       "      <td>гражданский брак</td>\n",
       "      <td>1</td>\n",
       "      <td>M</td>\n",
       "      <td>компаньон</td>\n",
       "      <td>0</td>\n",
       "      <td>255763.565419</td>\n",
       "      <td>покупка жилья</td>\n",
       "    </tr>\n",
       "    <tr>\n",
       "      <th>6</th>\n",
       "      <td>0</td>\n",
       "      <td>-2879.202052</td>\n",
       "      <td>43</td>\n",
       "      <td>высшее</td>\n",
       "      <td>0</td>\n",
       "      <td>женат / замужем</td>\n",
       "      <td>0</td>\n",
       "      <td>F</td>\n",
       "      <td>компаньон</td>\n",
       "      <td>0</td>\n",
       "      <td>240525.971920</td>\n",
       "      <td>операции с жильем</td>\n",
       "    </tr>\n",
       "    <tr>\n",
       "      <th>7</th>\n",
       "      <td>0</td>\n",
       "      <td>-152.779569</td>\n",
       "      <td>50</td>\n",
       "      <td>СРЕДНЕЕ</td>\n",
       "      <td>1</td>\n",
       "      <td>женат / замужем</td>\n",
       "      <td>0</td>\n",
       "      <td>M</td>\n",
       "      <td>сотрудник</td>\n",
       "      <td>0</td>\n",
       "      <td>135823.934197</td>\n",
       "      <td>образование</td>\n",
       "    </tr>\n",
       "    <tr>\n",
       "      <th>8</th>\n",
       "      <td>2</td>\n",
       "      <td>-6929.865299</td>\n",
       "      <td>35</td>\n",
       "      <td>ВЫСШЕЕ</td>\n",
       "      <td>0</td>\n",
       "      <td>гражданский брак</td>\n",
       "      <td>1</td>\n",
       "      <td>F</td>\n",
       "      <td>сотрудник</td>\n",
       "      <td>0</td>\n",
       "      <td>95856.832424</td>\n",
       "      <td>на проведение свадьбы</td>\n",
       "    </tr>\n",
       "    <tr>\n",
       "      <th>9</th>\n",
       "      <td>0</td>\n",
       "      <td>-2188.756445</td>\n",
       "      <td>41</td>\n",
       "      <td>среднее</td>\n",
       "      <td>1</td>\n",
       "      <td>женат / замужем</td>\n",
       "      <td>0</td>\n",
       "      <td>M</td>\n",
       "      <td>сотрудник</td>\n",
       "      <td>0</td>\n",
       "      <td>144425.938277</td>\n",
       "      <td>покупка жилья для семьи</td>\n",
       "    </tr>\n",
       "    <tr>\n",
       "      <th>10</th>\n",
       "      <td>2</td>\n",
       "      <td>-4171.483647</td>\n",
       "      <td>36</td>\n",
       "      <td>высшее</td>\n",
       "      <td>0</td>\n",
       "      <td>женат / замужем</td>\n",
       "      <td>0</td>\n",
       "      <td>M</td>\n",
       "      <td>компаньон</td>\n",
       "      <td>0</td>\n",
       "      <td>113943.491460</td>\n",
       "      <td>покупка недвижимости</td>\n",
       "    </tr>\n",
       "    <tr>\n",
       "      <th>11</th>\n",
       "      <td>0</td>\n",
       "      <td>-792.701887</td>\n",
       "      <td>40</td>\n",
       "      <td>среднее</td>\n",
       "      <td>1</td>\n",
       "      <td>женат / замужем</td>\n",
       "      <td>0</td>\n",
       "      <td>F</td>\n",
       "      <td>сотрудник</td>\n",
       "      <td>0</td>\n",
       "      <td>77069.234271</td>\n",
       "      <td>покупка коммерческой недвижимости</td>\n",
       "    </tr>\n",
       "    <tr>\n",
       "      <th>12</th>\n",
       "      <td>0</td>\n",
       "      <td>NaN</td>\n",
       "      <td>65</td>\n",
       "      <td>среднее</td>\n",
       "      <td>1</td>\n",
       "      <td>гражданский брак</td>\n",
       "      <td>1</td>\n",
       "      <td>M</td>\n",
       "      <td>пенсионер</td>\n",
       "      <td>0</td>\n",
       "      <td>NaN</td>\n",
       "      <td>сыграть свадьбу</td>\n",
       "    </tr>\n",
       "    <tr>\n",
       "      <th>13</th>\n",
       "      <td>0</td>\n",
       "      <td>-1846.641941</td>\n",
       "      <td>54</td>\n",
       "      <td>неоконченное высшее</td>\n",
       "      <td>2</td>\n",
       "      <td>женат / замужем</td>\n",
       "      <td>0</td>\n",
       "      <td>F</td>\n",
       "      <td>сотрудник</td>\n",
       "      <td>0</td>\n",
       "      <td>130458.228857</td>\n",
       "      <td>приобретение автомобиля</td>\n",
       "    </tr>\n",
       "    <tr>\n",
       "      <th>14</th>\n",
       "      <td>0</td>\n",
       "      <td>-1844.956182</td>\n",
       "      <td>56</td>\n",
       "      <td>высшее</td>\n",
       "      <td>0</td>\n",
       "      <td>гражданский брак</td>\n",
       "      <td>1</td>\n",
       "      <td>F</td>\n",
       "      <td>компаньон</td>\n",
       "      <td>1</td>\n",
       "      <td>165127.911772</td>\n",
       "      <td>покупка жилой недвижимости</td>\n",
       "    </tr>\n",
       "    <tr>\n",
       "      <th>15</th>\n",
       "      <td>1</td>\n",
       "      <td>-972.364419</td>\n",
       "      <td>26</td>\n",
       "      <td>среднее</td>\n",
       "      <td>1</td>\n",
       "      <td>женат / замужем</td>\n",
       "      <td>0</td>\n",
       "      <td>F</td>\n",
       "      <td>сотрудник</td>\n",
       "      <td>0</td>\n",
       "      <td>116820.904450</td>\n",
       "      <td>строительство собственной недвижимости</td>\n",
       "    </tr>\n",
       "    <tr>\n",
       "      <th>16</th>\n",
       "      <td>0</td>\n",
       "      <td>-1719.934226</td>\n",
       "      <td>35</td>\n",
       "      <td>среднее</td>\n",
       "      <td>1</td>\n",
       "      <td>женат / замужем</td>\n",
       "      <td>0</td>\n",
       "      <td>F</td>\n",
       "      <td>сотрудник</td>\n",
       "      <td>0</td>\n",
       "      <td>289202.704229</td>\n",
       "      <td>недвижимость</td>\n",
       "    </tr>\n",
       "    <tr>\n",
       "      <th>17</th>\n",
       "      <td>0</td>\n",
       "      <td>-2369.999720</td>\n",
       "      <td>33</td>\n",
       "      <td>высшее</td>\n",
       "      <td>0</td>\n",
       "      <td>гражданский брак</td>\n",
       "      <td>1</td>\n",
       "      <td>M</td>\n",
       "      <td>сотрудник</td>\n",
       "      <td>0</td>\n",
       "      <td>90410.586745</td>\n",
       "      <td>строительство недвижимости</td>\n",
       "    </tr>\n",
       "    <tr>\n",
       "      <th>18</th>\n",
       "      <td>0</td>\n",
       "      <td>400281.136913</td>\n",
       "      <td>53</td>\n",
       "      <td>среднее</td>\n",
       "      <td>1</td>\n",
       "      <td>вдовец / вдова</td>\n",
       "      <td>2</td>\n",
       "      <td>F</td>\n",
       "      <td>пенсионер</td>\n",
       "      <td>0</td>\n",
       "      <td>56823.777243</td>\n",
       "      <td>на покупку подержанного автомобиля</td>\n",
       "    </tr>\n",
       "    <tr>\n",
       "      <th>19</th>\n",
       "      <td>0</td>\n",
       "      <td>-10038.818549</td>\n",
       "      <td>48</td>\n",
       "      <td>СРЕДНЕЕ</td>\n",
       "      <td>1</td>\n",
       "      <td>в разводе</td>\n",
       "      <td>3</td>\n",
       "      <td>F</td>\n",
       "      <td>сотрудник</td>\n",
       "      <td>0</td>\n",
       "      <td>242831.107982</td>\n",
       "      <td>на покупку своего автомобиля</td>\n",
       "    </tr>\n",
       "  </tbody>\n",
       "</table>\n",
       "</div>"
      ],
      "text/plain": [
       "    children  days_employed  dob_years            education  education_id  \\\n",
       "0          1   -8437.673028         42               высшее             0   \n",
       "1          1   -4024.803754         36              среднее             1   \n",
       "2          0   -5623.422610         33              Среднее             1   \n",
       "3          3   -4124.747207         32              среднее             1   \n",
       "4          0  340266.072047         53              среднее             1   \n",
       "5          0    -926.185831         27               высшее             0   \n",
       "6          0   -2879.202052         43               высшее             0   \n",
       "7          0    -152.779569         50              СРЕДНЕЕ             1   \n",
       "8          2   -6929.865299         35               ВЫСШЕЕ             0   \n",
       "9          0   -2188.756445         41              среднее             1   \n",
       "10         2   -4171.483647         36               высшее             0   \n",
       "11         0    -792.701887         40              среднее             1   \n",
       "12         0            NaN         65              среднее             1   \n",
       "13         0   -1846.641941         54  неоконченное высшее             2   \n",
       "14         0   -1844.956182         56               высшее             0   \n",
       "15         1    -972.364419         26              среднее             1   \n",
       "16         0   -1719.934226         35              среднее             1   \n",
       "17         0   -2369.999720         33               высшее             0   \n",
       "18         0  400281.136913         53              среднее             1   \n",
       "19         0  -10038.818549         48              СРЕДНЕЕ             1   \n",
       "\n",
       "       family_status  family_status_id gender income_type  debt  \\\n",
       "0    женат / замужем                 0      F   сотрудник     0   \n",
       "1    женат / замужем                 0      F   сотрудник     0   \n",
       "2    женат / замужем                 0      M   сотрудник     0   \n",
       "3    женат / замужем                 0      M   сотрудник     0   \n",
       "4   гражданский брак                 1      F   пенсионер     0   \n",
       "5   гражданский брак                 1      M   компаньон     0   \n",
       "6    женат / замужем                 0      F   компаньон     0   \n",
       "7    женат / замужем                 0      M   сотрудник     0   \n",
       "8   гражданский брак                 1      F   сотрудник     0   \n",
       "9    женат / замужем                 0      M   сотрудник     0   \n",
       "10   женат / замужем                 0      M   компаньон     0   \n",
       "11   женат / замужем                 0      F   сотрудник     0   \n",
       "12  гражданский брак                 1      M   пенсионер     0   \n",
       "13   женат / замужем                 0      F   сотрудник     0   \n",
       "14  гражданский брак                 1      F   компаньон     1   \n",
       "15   женат / замужем                 0      F   сотрудник     0   \n",
       "16   женат / замужем                 0      F   сотрудник     0   \n",
       "17  гражданский брак                 1      M   сотрудник     0   \n",
       "18    вдовец / вдова                 2      F   пенсионер     0   \n",
       "19         в разводе                 3      F   сотрудник     0   \n",
       "\n",
       "     total_income                                 purpose  \n",
       "0   253875.639453                           покупка жилья  \n",
       "1   112080.014102                 приобретение автомобиля  \n",
       "2   145885.952297                           покупка жилья  \n",
       "3   267628.550329              дополнительное образование  \n",
       "4   158616.077870                         сыграть свадьбу  \n",
       "5   255763.565419                           покупка жилья  \n",
       "6   240525.971920                       операции с жильем  \n",
       "7   135823.934197                             образование  \n",
       "8    95856.832424                   на проведение свадьбы  \n",
       "9   144425.938277                 покупка жилья для семьи  \n",
       "10  113943.491460                    покупка недвижимости  \n",
       "11   77069.234271       покупка коммерческой недвижимости  \n",
       "12            NaN                         сыграть свадьбу  \n",
       "13  130458.228857                 приобретение автомобиля  \n",
       "14  165127.911772              покупка жилой недвижимости  \n",
       "15  116820.904450  строительство собственной недвижимости  \n",
       "16  289202.704229                            недвижимость  \n",
       "17   90410.586745              строительство недвижимости  \n",
       "18   56823.777243      на покупку подержанного автомобиля  \n",
       "19  242831.107982            на покупку своего автомобиля  "
      ]
     },
     "execution_count": 2,
     "metadata": {},
     "output_type": "execute_result"
    }
   ],
   "source": [
    "data.head(20)"
   ]
  },
  {
   "cell_type": "markdown",
   "id": "0ed8f27f",
   "metadata": {
    "deletable": false,
    "editable": false,
    "id": "0ed8f27f"
   },
   "source": [
    "**Задание 3. Выведите основную информацию о датафрейме с помощью метода `info()`.**"
   ]
  },
  {
   "cell_type": "code",
   "execution_count": 3,
   "id": "ab3f863b",
   "metadata": {
    "deletable": false,
    "id": "ab3f863b",
    "outputId": "15376089-8dad-46c9-b520-c05248d43158"
   },
   "outputs": [
    {
     "name": "stdout",
     "output_type": "stream",
     "text": [
      "<class 'pandas.core.frame.DataFrame'>\n",
      "RangeIndex: 21525 entries, 0 to 21524\n",
      "Data columns (total 12 columns):\n",
      " #   Column            Non-Null Count  Dtype  \n",
      "---  ------            --------------  -----  \n",
      " 0   children          21525 non-null  int64  \n",
      " 1   days_employed     19351 non-null  float64\n",
      " 2   dob_years         21525 non-null  int64  \n",
      " 3   education         21525 non-null  object \n",
      " 4   education_id      21525 non-null  int64  \n",
      " 5   family_status     21525 non-null  object \n",
      " 6   family_status_id  21525 non-null  int64  \n",
      " 7   gender            21525 non-null  object \n",
      " 8   income_type       21525 non-null  object \n",
      " 9   debt              21525 non-null  int64  \n",
      " 10  total_income      19351 non-null  float64\n",
      " 11  purpose           21525 non-null  object \n",
      "dtypes: float64(2), int64(5), object(5)\n",
      "memory usage: 2.0+ MB\n"
     ]
    }
   ],
   "source": [
    "data.info()"
   ]
  },
  {
   "cell_type": "markdown",
   "id": "60e3e22d",
   "metadata": {
    "deletable": false,
    "editable": false,
    "id": "60e3e22d"
   },
   "source": [
    "## Предобработка данных"
   ]
  },
  {
   "cell_type": "markdown",
   "id": "03dc170c",
   "metadata": {
    "deletable": false,
    "editable": false,
    "id": "03dc170c"
   },
   "source": [
    "### Удаление пропусков"
   ]
  },
  {
   "cell_type": "markdown",
   "id": "a4f54eef",
   "metadata": {
    "deletable": false,
    "editable": false,
    "id": "a4f54eef"
   },
   "source": [
    "**Задание 4. Выведите количество пропущенных значений для каждого столбца. Используйте комбинацию двух методов.**"
   ]
  },
  {
   "cell_type": "code",
   "execution_count": 4,
   "id": "2dc372b2",
   "metadata": {
    "deletable": false,
    "id": "2dc372b2",
    "outputId": "81f4d817-781c-465c-ed15-91ce4446810d"
   },
   "outputs": [
    {
     "data": {
      "text/plain": [
       "children               0\n",
       "days_employed       2174\n",
       "dob_years              0\n",
       "education              0\n",
       "education_id           0\n",
       "family_status          0\n",
       "family_status_id       0\n",
       "gender                 0\n",
       "income_type            0\n",
       "debt                   0\n",
       "total_income        2174\n",
       "purpose                0\n",
       "dtype: int64"
      ]
     },
     "execution_count": 4,
     "metadata": {},
     "output_type": "execute_result"
    }
   ],
   "source": [
    "data.isna().sum()"
   ]
  },
  {
   "cell_type": "markdown",
   "id": "14f011b1",
   "metadata": {
    "deletable": false,
    "editable": false,
    "id": "14f011b1"
   },
   "source": [
    "**Задание 5. В двух столбцах есть пропущенные значения. Один из них — `days_employed`. Пропуски в этом столбце вы обработаете на следующем этапе. Другой столбец с пропущенными значениями — `total_income` — хранит данные о доходах. На сумму дохода сильнее всего влияет тип занятости, поэтому заполнить пропуски в этом столбце нужно медианным значением по каждому типу из столбца `income_type`. Например, у человека с типом занятости `сотрудник` пропуск в столбце `total_income` должен быть заполнен медианным доходом среди всех записей с тем же типом.**"
   ]
  },
  {
   "cell_type": "code",
   "execution_count": 5,
   "id": "bdabfb6e",
   "metadata": {
    "deletable": false,
    "id": "bdabfb6e"
   },
   "outputs": [],
   "source": [
    "for t in data['income_type'].unique():\n",
    "    data.loc[(data['income_type'] == t) & (data['total_income'].isna()), 'total_income'] = \\\n",
    "    data.loc[(data['income_type'] == t), 'total_income'].median()"
   ]
  },
  {
   "cell_type": "markdown",
   "id": "5be34059",
   "metadata": {
    "deletable": false,
    "editable": false,
    "id": "5be34059"
   },
   "source": [
    "### Обработка аномальных значений"
   ]
  },
  {
   "cell_type": "markdown",
   "id": "a87606cb",
   "metadata": {
    "deletable": false,
    "editable": false,
    "id": "a87606cb"
   },
   "source": [
    "**Задание 6. В данных могут встречаться артефакты (аномалии) — значения, которые не отражают действительность и появились по какой-то ошибке. таким артефактом будет отрицательное количество дней трудового стажа в столбце `days_employed`. Для реальных данных это нормально. Обработайте значения в этом столбце: замените все отрицательные значения положительными с помощью метода `abs()`.**"
   ]
  },
  {
   "cell_type": "code",
   "execution_count": 6,
   "id": "020c46cc",
   "metadata": {
    "deletable": false,
    "id": "020c46cc"
   },
   "outputs": [],
   "source": [
    "data['days_employed'] = data['days_employed'].abs()"
   ]
  },
  {
   "cell_type": "markdown",
   "id": "45538a3a",
   "metadata": {
    "deletable": false,
    "editable": false,
    "id": "45538a3a"
   },
   "source": [
    "**Задание 7. Для каждого типа занятости выведите медианное значение трудового стажа `days_employed` в днях.**"
   ]
  },
  {
   "cell_type": "code",
   "execution_count": 7,
   "id": "cd3e6328",
   "metadata": {
    "deletable": false,
    "id": "cd3e6328",
    "outputId": "801ef80e-522b-4668-f34e-565af7432bcf"
   },
   "outputs": [
    {
     "data": {
      "text/plain": [
       "income_type\n",
       "безработный        366413.652744\n",
       "в декрете            3296.759962\n",
       "госслужащий          2689.368353\n",
       "компаньон            1547.382223\n",
       "пенсионер          365213.306266\n",
       "предприниматель       520.848083\n",
       "сотрудник            1574.202821\n",
       "студент               578.751554\n",
       "Name: days_employed, dtype: float64"
      ]
     },
     "execution_count": 7,
     "metadata": {},
     "output_type": "execute_result"
    }
   ],
   "source": [
    "data.groupby('income_type')['days_employed'].agg('median')"
   ]
  },
  {
   "cell_type": "markdown",
   "id": "90c5f058",
   "metadata": {
    "deletable": false,
    "editable": false,
    "id": "90c5f058"
   },
   "source": [
    "У двух типов (безработные и пенсионеры) получатся аномально большие значения. Исправить такие значения сложно, поэтому оставьте их как есть."
   ]
  },
  {
   "cell_type": "markdown",
   "id": "9652e50d",
   "metadata": {
    "deletable": false,
    "editable": false,
    "id": "9652e50d"
   },
   "source": [
    "**Задание 8. Выведите перечень уникальных значений столбца `children`.**"
   ]
  },
  {
   "cell_type": "code",
   "execution_count": 8,
   "id": "dbb37b8e",
   "metadata": {
    "deletable": false,
    "id": "dbb37b8e",
    "outputId": "6975b15c-7f95-4697-d16d-a0c79b657b03"
   },
   "outputs": [
    {
     "data": {
      "text/plain": [
       "array([ 1,  0,  3,  2, -1,  4, 20,  5])"
      ]
     },
     "execution_count": 8,
     "metadata": {},
     "output_type": "execute_result"
    }
   ],
   "source": [
    "data['children'].unique()"
   ]
  },
  {
   "cell_type": "markdown",
   "id": "2b8b0715",
   "metadata": {
    "deletable": false,
    "editable": false,
    "id": "2b8b0715"
   },
   "source": [
    "**Задание 9. В столбце `children` есть два аномальных значения. Удалите строки, в которых встречаются такие аномальные значения из датафрейма `data`.**"
   ]
  },
  {
   "cell_type": "code",
   "execution_count": 9,
   "id": "20009df8",
   "metadata": {
    "deletable": false,
    "id": "20009df8"
   },
   "outputs": [],
   "source": [
    "data = data[(data['children'] != -1) & (data['children'] != 20)]"
   ]
  },
  {
   "cell_type": "markdown",
   "id": "8c6ac9f1",
   "metadata": {
    "deletable": false,
    "editable": false,
    "id": "8c6ac9f1"
   },
   "source": [
    "**Задание 10. Ещё раз выведите перечень уникальных значений столбца `children`, чтобы убедиться, что артефакты удалены.**"
   ]
  },
  {
   "cell_type": "code",
   "execution_count": 10,
   "id": "07337b81",
   "metadata": {
    "deletable": false,
    "id": "07337b81",
    "outputId": "b2097101-d49d-44d9-901b-32a65c9463d1"
   },
   "outputs": [
    {
     "data": {
      "text/plain": [
       "array([1, 0, 3, 2, 4, 5])"
      ]
     },
     "execution_count": 10,
     "metadata": {},
     "output_type": "execute_result"
    }
   ],
   "source": [
    "data['children'].unique()"
   ]
  },
  {
   "cell_type": "markdown",
   "id": "ee3f52d4",
   "metadata": {
    "deletable": false,
    "editable": false,
    "id": "ee3f52d4"
   },
   "source": [
    "### Удаление пропусков (продолжение)"
   ]
  },
  {
   "cell_type": "markdown",
   "id": "a700b0e4",
   "metadata": {
    "deletable": false,
    "editable": false,
    "id": "a700b0e4"
   },
   "source": [
    "**Задание 11. Заполните пропуски в столбце `days_employed` медианными значениями по каждого типа занятости `income_type`.**"
   ]
  },
  {
   "cell_type": "code",
   "execution_count": 11,
   "id": "61946b83",
   "metadata": {
    "deletable": false,
    "id": "61946b83"
   },
   "outputs": [],
   "source": [
    "for t in data['income_type'].unique():\n",
    "    data.loc[(data['income_type'] == t) & (data['days_employed'].isna()), 'days_employed'] = \\\n",
    "    data.loc[(data['income_type'] == t), 'days_employed'].median()"
   ]
  },
  {
   "cell_type": "markdown",
   "id": "550dcd9b",
   "metadata": {
    "deletable": false,
    "editable": false,
    "id": "550dcd9b"
   },
   "source": [
    "**Задание 12. Убедитесь, что все пропуски заполнены. Проверьте себя и ещё раз выведите количество пропущенных значений для каждого столбца с помощью двух методов.**"
   ]
  },
  {
   "cell_type": "code",
   "execution_count": 12,
   "id": "937c7014",
   "metadata": {
    "deletable": false,
    "id": "937c7014",
    "outputId": "8da1e4e1-358e-4e87-98c9-f261bce0a7b2"
   },
   "outputs": [
    {
     "data": {
      "text/plain": [
       "children            0\n",
       "days_employed       0\n",
       "dob_years           0\n",
       "education           0\n",
       "education_id        0\n",
       "family_status       0\n",
       "family_status_id    0\n",
       "gender              0\n",
       "income_type         0\n",
       "debt                0\n",
       "total_income        0\n",
       "purpose             0\n",
       "dtype: int64"
      ]
     },
     "execution_count": 12,
     "metadata": {},
     "output_type": "execute_result"
    }
   ],
   "source": [
    "data.isna().sum()"
   ]
  },
  {
   "cell_type": "markdown",
   "id": "d522e295",
   "metadata": {
    "deletable": false,
    "editable": false,
    "id": "d522e295"
   },
   "source": [
    "### Изменение типов данных"
   ]
  },
  {
   "cell_type": "markdown",
   "id": "c229c581",
   "metadata": {
    "deletable": false,
    "editable": false,
    "id": "c229c581"
   },
   "source": [
    "**Задание 13. Замените вещественный тип данных в столбце `total_income` на целочисленный с помощью метода `astype()`.**"
   ]
  },
  {
   "cell_type": "code",
   "execution_count": 13,
   "id": "31036462",
   "metadata": {
    "deletable": false,
    "id": "31036462"
   },
   "outputs": [],
   "source": [
    "data['total_income'] = data['total_income'].astype(int)"
   ]
  },
  {
   "cell_type": "markdown",
   "id": "b8e3d1d9",
   "metadata": {
    "deletable": false,
    "editable": false,
    "id": "b8e3d1d9"
   },
   "source": [
    "### Обработка дубликатов"
   ]
  },
  {
   "cell_type": "markdown",
   "id": "9be53c49",
   "metadata": {
    "deletable": false,
    "editable": false,
    "id": "9be53c49"
   },
   "source": [
    "**Задание 14. Обработайте неявные дубликаты в столбце `education`. В этом столбце есть одни и те же значения, но записанные по-разному: с использованием заглавных и строчных букв. Приведите их к нижнему регистру.**"
   ]
  },
  {
   "cell_type": "code",
   "execution_count": 14,
   "id": "d89e73e1",
   "metadata": {
    "deletable": false,
    "id": "d89e73e1"
   },
   "outputs": [],
   "source": [
    "data['education'] = data['education'].str.lower()"
   ]
  },
  {
   "cell_type": "markdown",
   "id": "01d4500e",
   "metadata": {
    "deletable": false,
    "editable": false,
    "id": "01d4500e"
   },
   "source": [
    "**Задание 15. Выведите на экран количество строк-дубликатов в данных. Если такие строки присутствуют, удалите их.**"
   ]
  },
  {
   "cell_type": "code",
   "execution_count": 15,
   "id": "e10efb23",
   "metadata": {
    "deletable": false,
    "id": "e10efb23",
    "outputId": "9684deba-1934-42d1-99e1-cda61740f822"
   },
   "outputs": [
    {
     "data": {
      "text/plain": [
       "71"
      ]
     },
     "execution_count": 15,
     "metadata": {},
     "output_type": "execute_result"
    }
   ],
   "source": [
    "data.duplicated().sum()"
   ]
  },
  {
   "cell_type": "code",
   "execution_count": 16,
   "id": "df853f20",
   "metadata": {
    "deletable": false,
    "id": "df853f20"
   },
   "outputs": [],
   "source": [
    "data = data.drop_duplicates()"
   ]
  },
  {
   "cell_type": "markdown",
   "id": "627be38f",
   "metadata": {
    "deletable": false,
    "editable": false,
    "id": "627be38f"
   },
   "source": [
    "### Категоризация данных"
   ]
  },
  {
   "cell_type": "markdown",
   "id": "4684c3e0",
   "metadata": {
    "deletable": false,
    "editable": false,
    "id": "4684c3e0"
   },
   "source": [
    "**Задание 16. На основании диапазонов, указанных ниже, создайте в датафрейме `data` столбец `total_income_category` с категориями:**\n",
    "\n",
    "- 0–30000 — `'E'`;\n",
    "- 30001–50000 — `'D'`;\n",
    "- 50001–200000 — `'C'`;\n",
    "- 200001–1000000 — `'B'`;\n",
    "- 1000001 и выше — `'A'`.\n",
    "\n",
    "\n",
    "**Например, кредитополучателю с доходом 25000 нужно назначить категорию `'E'`, а клиенту, получающему 235000, — `'B'`. Используйте собственную функцию с именем `categorize_income()` и метод `apply()`.**"
   ]
  },
  {
   "cell_type": "code",
   "execution_count": 17,
   "id": "78965238",
   "metadata": {
    "deletable": false,
    "id": "78965238"
   },
   "outputs": [],
   "source": [
    "def categorize_income(income):\n",
    "    try:\n",
    "        if 0 <= income <= 30000:\n",
    "            return 'E'\n",
    "        elif 30001 <= income <= 50000:\n",
    "            return 'D'\n",
    "        elif 50001 <= income <= 200000:\n",
    "            return 'C'\n",
    "        elif 200001 <= income <= 1000000:\n",
    "            return 'B'\n",
    "        elif income >= 1000001:\n",
    "            return 'A'\n",
    "    except:\n",
    "        pass"
   ]
  },
  {
   "cell_type": "code",
   "execution_count": 18,
   "id": "0980ada1",
   "metadata": {
    "deletable": false,
    "id": "0980ada1"
   },
   "outputs": [],
   "source": [
    "data['total_income_category'] = data['total_income'].apply(categorize_income)"
   ]
  },
  {
   "cell_type": "markdown",
   "id": "9917bba0",
   "metadata": {
    "deletable": false,
    "editable": false,
    "id": "9917bba0"
   },
   "source": [
    "**Задание 17. Выведите на экран перечень уникальных целей взятия кредита из столбца `purpose`.**"
   ]
  },
  {
   "cell_type": "code",
   "execution_count": 19,
   "id": "ee07b65e",
   "metadata": {
    "deletable": false,
    "id": "ee07b65e",
    "outputId": "673c12d9-7d7e-4ae0-9812-c622c89dd244"
   },
   "outputs": [
    {
     "data": {
      "text/plain": [
       "array(['покупка жилья', 'приобретение автомобиля',\n",
       "       'дополнительное образование', 'сыграть свадьбу',\n",
       "       'операции с жильем', 'образование', 'на проведение свадьбы',\n",
       "       'покупка жилья для семьи', 'покупка недвижимости',\n",
       "       'покупка коммерческой недвижимости', 'покупка жилой недвижимости',\n",
       "       'строительство собственной недвижимости', 'недвижимость',\n",
       "       'строительство недвижимости', 'на покупку подержанного автомобиля',\n",
       "       'на покупку своего автомобиля',\n",
       "       'операции с коммерческой недвижимостью',\n",
       "       'строительство жилой недвижимости', 'жилье',\n",
       "       'операции со своей недвижимостью', 'автомобили',\n",
       "       'заняться образованием', 'сделка с подержанным автомобилем',\n",
       "       'получение образования', 'автомобиль', 'свадьба',\n",
       "       'получение дополнительного образования', 'покупка своего жилья',\n",
       "       'операции с недвижимостью', 'получение высшего образования',\n",
       "       'свой автомобиль', 'сделка с автомобилем',\n",
       "       'профильное образование', 'высшее образование',\n",
       "       'покупка жилья для сдачи', 'на покупку автомобиля', 'ремонт жилью',\n",
       "       'заняться высшим образованием'], dtype=object)"
      ]
     },
     "execution_count": 19,
     "metadata": {},
     "output_type": "execute_result"
    }
   ],
   "source": [
    "data['purpose'].unique()"
   ]
  },
  {
   "cell_type": "markdown",
   "id": "52b79d56",
   "metadata": {
    "deletable": false,
    "editable": false,
    "id": "52b79d56"
   },
   "source": [
    "**Задание 18. Создайте функцию, которая на основании данных из столбца `purpose` сформирует новый столбец `purpose_category`, в который войдут следующие категории:**\n",
    "\n",
    "- `'операции с автомобилем'`,\n",
    "- `'операции с недвижимостью'`,\n",
    "- `'проведение свадьбы'`,\n",
    "- `'получение образования'`.\n",
    "\n",
    "**Например, если в столбце `purpose` находится подстрока `'на покупку автомобиля'`, то в столбце `purpose_category` должна появиться строка `'операции с автомобилем'`.**\n",
    "\n",
    "**Используйте собственную функцию с именем `categorize_purpose()` и метод `apply()`. Изучите данные в столбце `purpose` и определите, какие подстроки помогут вам правильно определить категорию.**"
   ]
  },
  {
   "cell_type": "code",
   "execution_count": 20,
   "id": "be41da5d",
   "metadata": {
    "deletable": false,
    "id": "be41da5d"
   },
   "outputs": [],
   "source": [
    "def categorize_purpose(row):\n",
    "    try:\n",
    "        if 'автом' in row:\n",
    "            return 'операции с автомобилем'\n",
    "        elif 'жил' in row or 'недвиж' in row:\n",
    "            return 'операции с недвижимостью'\n",
    "        elif 'свад' in row:\n",
    "            return 'проведение свадьбы'\n",
    "        elif 'образов' in row:\n",
    "            return 'получение образования'\n",
    "    except:\n",
    "        return 'нет категории'"
   ]
  },
  {
   "cell_type": "code",
   "execution_count": 21,
   "id": "94c4a19a",
   "metadata": {
    "deletable": false,
    "id": "94c4a19a"
   },
   "outputs": [],
   "source": [
    "data['purpose_category'] = data['purpose'].apply(categorize_purpose)"
   ]
  },
  {
   "cell_type": "markdown",
   "id": "3d596c34",
   "metadata": {
    "deletable": false,
    "editable": false,
    "id": "3d596c34"
   },
   "source": [
    "### Шаг 3. Исследуйте данные и ответьте на вопросы"
   ]
  },
  {
   "cell_type": "markdown",
   "id": "648db036",
   "metadata": {
    "deletable": false,
    "editable": false,
    "id": "648db036"
   },
   "source": [
    "#### 3.1 Есть ли зависимость между количеством детей и возвратом кредита в срок?"
   ]
  },
  {
   "cell_type": "code",
   "execution_count": 22,
   "id": "5df32f45",
   "metadata": {
    "scrolled": true
   },
   "outputs": [
    {
     "data": {
      "text/html": [
       "<div>\n",
       "<style scoped>\n",
       "    .dataframe tbody tr th:only-of-type {\n",
       "        vertical-align: middle;\n",
       "    }\n",
       "\n",
       "    .dataframe tbody tr th {\n",
       "        vertical-align: top;\n",
       "    }\n",
       "\n",
       "    .dataframe thead th {\n",
       "        text-align: right;\n",
       "    }\n",
       "</style>\n",
       "<table border=\"1\" class=\"dataframe\">\n",
       "  <thead>\n",
       "    <tr style=\"text-align: right;\">\n",
       "      <th></th>\n",
       "      <th>children</th>\n",
       "      <th>days_employed</th>\n",
       "      <th>dob_years</th>\n",
       "      <th>education</th>\n",
       "      <th>education_id</th>\n",
       "      <th>family_status</th>\n",
       "      <th>family_status_id</th>\n",
       "      <th>gender</th>\n",
       "      <th>income_type</th>\n",
       "      <th>debt</th>\n",
       "      <th>total_income</th>\n",
       "      <th>purpose</th>\n",
       "      <th>total_income_category</th>\n",
       "      <th>purpose_category</th>\n",
       "    </tr>\n",
       "  </thead>\n",
       "  <tbody>\n",
       "    <tr>\n",
       "      <th>0</th>\n",
       "      <td>1</td>\n",
       "      <td>8437.673028</td>\n",
       "      <td>42</td>\n",
       "      <td>высшее</td>\n",
       "      <td>0</td>\n",
       "      <td>женат / замужем</td>\n",
       "      <td>0</td>\n",
       "      <td>F</td>\n",
       "      <td>сотрудник</td>\n",
       "      <td>0</td>\n",
       "      <td>253875</td>\n",
       "      <td>покупка жилья</td>\n",
       "      <td>B</td>\n",
       "      <td>операции с недвижимостью</td>\n",
       "    </tr>\n",
       "    <tr>\n",
       "      <th>1</th>\n",
       "      <td>1</td>\n",
       "      <td>4024.803754</td>\n",
       "      <td>36</td>\n",
       "      <td>среднее</td>\n",
       "      <td>1</td>\n",
       "      <td>женат / замужем</td>\n",
       "      <td>0</td>\n",
       "      <td>F</td>\n",
       "      <td>сотрудник</td>\n",
       "      <td>0</td>\n",
       "      <td>112080</td>\n",
       "      <td>приобретение автомобиля</td>\n",
       "      <td>C</td>\n",
       "      <td>операции с автомобилем</td>\n",
       "    </tr>\n",
       "    <tr>\n",
       "      <th>2</th>\n",
       "      <td>0</td>\n",
       "      <td>5623.422610</td>\n",
       "      <td>33</td>\n",
       "      <td>среднее</td>\n",
       "      <td>1</td>\n",
       "      <td>женат / замужем</td>\n",
       "      <td>0</td>\n",
       "      <td>M</td>\n",
       "      <td>сотрудник</td>\n",
       "      <td>0</td>\n",
       "      <td>145885</td>\n",
       "      <td>покупка жилья</td>\n",
       "      <td>C</td>\n",
       "      <td>операции с недвижимостью</td>\n",
       "    </tr>\n",
       "    <tr>\n",
       "      <th>3</th>\n",
       "      <td>3</td>\n",
       "      <td>4124.747207</td>\n",
       "      <td>32</td>\n",
       "      <td>среднее</td>\n",
       "      <td>1</td>\n",
       "      <td>женат / замужем</td>\n",
       "      <td>0</td>\n",
       "      <td>M</td>\n",
       "      <td>сотрудник</td>\n",
       "      <td>0</td>\n",
       "      <td>267628</td>\n",
       "      <td>дополнительное образование</td>\n",
       "      <td>B</td>\n",
       "      <td>получение образования</td>\n",
       "    </tr>\n",
       "    <tr>\n",
       "      <th>4</th>\n",
       "      <td>0</td>\n",
       "      <td>340266.072047</td>\n",
       "      <td>53</td>\n",
       "      <td>среднее</td>\n",
       "      <td>1</td>\n",
       "      <td>гражданский брак</td>\n",
       "      <td>1</td>\n",
       "      <td>F</td>\n",
       "      <td>пенсионер</td>\n",
       "      <td>0</td>\n",
       "      <td>158616</td>\n",
       "      <td>сыграть свадьбу</td>\n",
       "      <td>C</td>\n",
       "      <td>проведение свадьбы</td>\n",
       "    </tr>\n",
       "    <tr>\n",
       "      <th>5</th>\n",
       "      <td>0</td>\n",
       "      <td>926.185831</td>\n",
       "      <td>27</td>\n",
       "      <td>высшее</td>\n",
       "      <td>0</td>\n",
       "      <td>гражданский брак</td>\n",
       "      <td>1</td>\n",
       "      <td>M</td>\n",
       "      <td>компаньон</td>\n",
       "      <td>0</td>\n",
       "      <td>255763</td>\n",
       "      <td>покупка жилья</td>\n",
       "      <td>B</td>\n",
       "      <td>операции с недвижимостью</td>\n",
       "    </tr>\n",
       "    <tr>\n",
       "      <th>6</th>\n",
       "      <td>0</td>\n",
       "      <td>2879.202052</td>\n",
       "      <td>43</td>\n",
       "      <td>высшее</td>\n",
       "      <td>0</td>\n",
       "      <td>женат / замужем</td>\n",
       "      <td>0</td>\n",
       "      <td>F</td>\n",
       "      <td>компаньон</td>\n",
       "      <td>0</td>\n",
       "      <td>240525</td>\n",
       "      <td>операции с жильем</td>\n",
       "      <td>B</td>\n",
       "      <td>операции с недвижимостью</td>\n",
       "    </tr>\n",
       "    <tr>\n",
       "      <th>7</th>\n",
       "      <td>0</td>\n",
       "      <td>152.779569</td>\n",
       "      <td>50</td>\n",
       "      <td>среднее</td>\n",
       "      <td>1</td>\n",
       "      <td>женат / замужем</td>\n",
       "      <td>0</td>\n",
       "      <td>M</td>\n",
       "      <td>сотрудник</td>\n",
       "      <td>0</td>\n",
       "      <td>135823</td>\n",
       "      <td>образование</td>\n",
       "      <td>C</td>\n",
       "      <td>получение образования</td>\n",
       "    </tr>\n",
       "    <tr>\n",
       "      <th>8</th>\n",
       "      <td>2</td>\n",
       "      <td>6929.865299</td>\n",
       "      <td>35</td>\n",
       "      <td>высшее</td>\n",
       "      <td>0</td>\n",
       "      <td>гражданский брак</td>\n",
       "      <td>1</td>\n",
       "      <td>F</td>\n",
       "      <td>сотрудник</td>\n",
       "      <td>0</td>\n",
       "      <td>95856</td>\n",
       "      <td>на проведение свадьбы</td>\n",
       "      <td>C</td>\n",
       "      <td>проведение свадьбы</td>\n",
       "    </tr>\n",
       "    <tr>\n",
       "      <th>9</th>\n",
       "      <td>0</td>\n",
       "      <td>2188.756445</td>\n",
       "      <td>41</td>\n",
       "      <td>среднее</td>\n",
       "      <td>1</td>\n",
       "      <td>женат / замужем</td>\n",
       "      <td>0</td>\n",
       "      <td>M</td>\n",
       "      <td>сотрудник</td>\n",
       "      <td>0</td>\n",
       "      <td>144425</td>\n",
       "      <td>покупка жилья для семьи</td>\n",
       "      <td>C</td>\n",
       "      <td>операции с недвижимостью</td>\n",
       "    </tr>\n",
       "    <tr>\n",
       "      <th>10</th>\n",
       "      <td>2</td>\n",
       "      <td>4171.483647</td>\n",
       "      <td>36</td>\n",
       "      <td>высшее</td>\n",
       "      <td>0</td>\n",
       "      <td>женат / замужем</td>\n",
       "      <td>0</td>\n",
       "      <td>M</td>\n",
       "      <td>компаньон</td>\n",
       "      <td>0</td>\n",
       "      <td>113943</td>\n",
       "      <td>покупка недвижимости</td>\n",
       "      <td>C</td>\n",
       "      <td>операции с недвижимостью</td>\n",
       "    </tr>\n",
       "    <tr>\n",
       "      <th>11</th>\n",
       "      <td>0</td>\n",
       "      <td>792.701887</td>\n",
       "      <td>40</td>\n",
       "      <td>среднее</td>\n",
       "      <td>1</td>\n",
       "      <td>женат / замужем</td>\n",
       "      <td>0</td>\n",
       "      <td>F</td>\n",
       "      <td>сотрудник</td>\n",
       "      <td>0</td>\n",
       "      <td>77069</td>\n",
       "      <td>покупка коммерческой недвижимости</td>\n",
       "      <td>C</td>\n",
       "      <td>операции с недвижимостью</td>\n",
       "    </tr>\n",
       "    <tr>\n",
       "      <th>12</th>\n",
       "      <td>0</td>\n",
       "      <td>365286.622650</td>\n",
       "      <td>65</td>\n",
       "      <td>среднее</td>\n",
       "      <td>1</td>\n",
       "      <td>гражданский брак</td>\n",
       "      <td>1</td>\n",
       "      <td>M</td>\n",
       "      <td>пенсионер</td>\n",
       "      <td>0</td>\n",
       "      <td>118514</td>\n",
       "      <td>сыграть свадьбу</td>\n",
       "      <td>C</td>\n",
       "      <td>проведение свадьбы</td>\n",
       "    </tr>\n",
       "    <tr>\n",
       "      <th>13</th>\n",
       "      <td>0</td>\n",
       "      <td>1846.641941</td>\n",
       "      <td>54</td>\n",
       "      <td>неоконченное высшее</td>\n",
       "      <td>2</td>\n",
       "      <td>женат / замужем</td>\n",
       "      <td>0</td>\n",
       "      <td>F</td>\n",
       "      <td>сотрудник</td>\n",
       "      <td>0</td>\n",
       "      <td>130458</td>\n",
       "      <td>приобретение автомобиля</td>\n",
       "      <td>C</td>\n",
       "      <td>операции с автомобилем</td>\n",
       "    </tr>\n",
       "    <tr>\n",
       "      <th>14</th>\n",
       "      <td>0</td>\n",
       "      <td>1844.956182</td>\n",
       "      <td>56</td>\n",
       "      <td>высшее</td>\n",
       "      <td>0</td>\n",
       "      <td>гражданский брак</td>\n",
       "      <td>1</td>\n",
       "      <td>F</td>\n",
       "      <td>компаньон</td>\n",
       "      <td>1</td>\n",
       "      <td>165127</td>\n",
       "      <td>покупка жилой недвижимости</td>\n",
       "      <td>C</td>\n",
       "      <td>операции с недвижимостью</td>\n",
       "    </tr>\n",
       "  </tbody>\n",
       "</table>\n",
       "</div>"
      ],
      "text/plain": [
       "    children  days_employed  dob_years            education  education_id  \\\n",
       "0          1    8437.673028         42               высшее             0   \n",
       "1          1    4024.803754         36              среднее             1   \n",
       "2          0    5623.422610         33              среднее             1   \n",
       "3          3    4124.747207         32              среднее             1   \n",
       "4          0  340266.072047         53              среднее             1   \n",
       "5          0     926.185831         27               высшее             0   \n",
       "6          0    2879.202052         43               высшее             0   \n",
       "7          0     152.779569         50              среднее             1   \n",
       "8          2    6929.865299         35               высшее             0   \n",
       "9          0    2188.756445         41              среднее             1   \n",
       "10         2    4171.483647         36               высшее             0   \n",
       "11         0     792.701887         40              среднее             1   \n",
       "12         0  365286.622650         65              среднее             1   \n",
       "13         0    1846.641941         54  неоконченное высшее             2   \n",
       "14         0    1844.956182         56               высшее             0   \n",
       "\n",
       "       family_status  family_status_id gender income_type  debt  total_income  \\\n",
       "0    женат / замужем                 0      F   сотрудник     0        253875   \n",
       "1    женат / замужем                 0      F   сотрудник     0        112080   \n",
       "2    женат / замужем                 0      M   сотрудник     0        145885   \n",
       "3    женат / замужем                 0      M   сотрудник     0        267628   \n",
       "4   гражданский брак                 1      F   пенсионер     0        158616   \n",
       "5   гражданский брак                 1      M   компаньон     0        255763   \n",
       "6    женат / замужем                 0      F   компаньон     0        240525   \n",
       "7    женат / замужем                 0      M   сотрудник     0        135823   \n",
       "8   гражданский брак                 1      F   сотрудник     0         95856   \n",
       "9    женат / замужем                 0      M   сотрудник     0        144425   \n",
       "10   женат / замужем                 0      M   компаньон     0        113943   \n",
       "11   женат / замужем                 0      F   сотрудник     0         77069   \n",
       "12  гражданский брак                 1      M   пенсионер     0        118514   \n",
       "13   женат / замужем                 0      F   сотрудник     0        130458   \n",
       "14  гражданский брак                 1      F   компаньон     1        165127   \n",
       "\n",
       "                              purpose total_income_category  \\\n",
       "0                       покупка жилья                     B   \n",
       "1             приобретение автомобиля                     C   \n",
       "2                       покупка жилья                     C   \n",
       "3          дополнительное образование                     B   \n",
       "4                     сыграть свадьбу                     C   \n",
       "5                       покупка жилья                     B   \n",
       "6                   операции с жильем                     B   \n",
       "7                         образование                     C   \n",
       "8               на проведение свадьбы                     C   \n",
       "9             покупка жилья для семьи                     C   \n",
       "10               покупка недвижимости                     C   \n",
       "11  покупка коммерческой недвижимости                     C   \n",
       "12                    сыграть свадьбу                     C   \n",
       "13            приобретение автомобиля                     C   \n",
       "14         покупка жилой недвижимости                     C   \n",
       "\n",
       "            purpose_category  \n",
       "0   операции с недвижимостью  \n",
       "1     операции с автомобилем  \n",
       "2   операции с недвижимостью  \n",
       "3      получение образования  \n",
       "4         проведение свадьбы  \n",
       "5   операции с недвижимостью  \n",
       "6   операции с недвижимостью  \n",
       "7      получение образования  \n",
       "8         проведение свадьбы  \n",
       "9   операции с недвижимостью  \n",
       "10  операции с недвижимостью  \n",
       "11  операции с недвижимостью  \n",
       "12        проведение свадьбы  \n",
       "13    операции с автомобилем  \n",
       "14  операции с недвижимостью  "
      ]
     },
     "execution_count": 22,
     "metadata": {},
     "output_type": "execute_result"
    }
   ],
   "source": [
    "data.head(15) #выведем на печать измененный датафрейм"
   ]
  },
  {
   "cell_type": "code",
   "execution_count": 23,
   "id": "966bb667",
   "metadata": {},
   "outputs": [
    {
     "name": "stdout",
     "output_type": "stream",
     "text": [
      "<class 'pandas.core.frame.DataFrame'>\n",
      "Int64Index: 21331 entries, 0 to 21524\n",
      "Data columns (total 14 columns):\n",
      " #   Column                 Non-Null Count  Dtype  \n",
      "---  ------                 --------------  -----  \n",
      " 0   children               21331 non-null  int64  \n",
      " 1   days_employed          21331 non-null  float64\n",
      " 2   dob_years              21331 non-null  int64  \n",
      " 3   education              21331 non-null  object \n",
      " 4   education_id           21331 non-null  int64  \n",
      " 5   family_status          21331 non-null  object \n",
      " 6   family_status_id       21331 non-null  int64  \n",
      " 7   gender                 21331 non-null  object \n",
      " 8   income_type            21331 non-null  object \n",
      " 9   debt                   21331 non-null  int64  \n",
      " 10  total_income           21331 non-null  int64  \n",
      " 11  purpose                21331 non-null  object \n",
      " 12  total_income_category  21331 non-null  object \n",
      " 13  purpose_category       21331 non-null  object \n",
      "dtypes: float64(1), int64(6), object(7)\n",
      "memory usage: 2.4+ MB\n"
     ]
    }
   ],
   "source": [
    "data.info() # выведем информацию об измененном датафрейме"
   ]
  },
  {
   "cell_type": "code",
   "execution_count": 24,
   "id": "7fcff25e",
   "metadata": {
    "deletable": false,
    "id": "7fcff25e"
   },
   "outputs": [
    {
     "data": {
      "text/html": [
       "<div>\n",
       "<style scoped>\n",
       "    .dataframe tbody tr th:only-of-type {\n",
       "        vertical-align: middle;\n",
       "    }\n",
       "\n",
       "    .dataframe tbody tr th {\n",
       "        vertical-align: top;\n",
       "    }\n",
       "\n",
       "    .dataframe thead th {\n",
       "        text-align: right;\n",
       "    }\n",
       "</style>\n",
       "<table border=\"1\" class=\"dataframe\">\n",
       "  <thead>\n",
       "    <tr style=\"text-align: right;\">\n",
       "      <th></th>\n",
       "      <th></th>\n",
       "      <th>debt</th>\n",
       "    </tr>\n",
       "    <tr>\n",
       "      <th>children</th>\n",
       "      <th>debt</th>\n",
       "      <th></th>\n",
       "    </tr>\n",
       "  </thead>\n",
       "  <tbody>\n",
       "    <tr>\n",
       "      <th rowspan=\"2\" valign=\"top\">0</th>\n",
       "      <th>0</th>\n",
       "      <td>13028</td>\n",
       "    </tr>\n",
       "    <tr>\n",
       "      <th>1</th>\n",
       "      <td>1063</td>\n",
       "    </tr>\n",
       "    <tr>\n",
       "      <th rowspan=\"2\" valign=\"top\">1</th>\n",
       "      <th>0</th>\n",
       "      <td>4364</td>\n",
       "    </tr>\n",
       "    <tr>\n",
       "      <th>1</th>\n",
       "      <td>444</td>\n",
       "    </tr>\n",
       "    <tr>\n",
       "      <th rowspan=\"2\" valign=\"top\">2</th>\n",
       "      <th>0</th>\n",
       "      <td>1858</td>\n",
       "    </tr>\n",
       "    <tr>\n",
       "      <th>1</th>\n",
       "      <td>194</td>\n",
       "    </tr>\n",
       "    <tr>\n",
       "      <th rowspan=\"2\" valign=\"top\">3</th>\n",
       "      <th>0</th>\n",
       "      <td>303</td>\n",
       "    </tr>\n",
       "    <tr>\n",
       "      <th>1</th>\n",
       "      <td>27</td>\n",
       "    </tr>\n",
       "    <tr>\n",
       "      <th rowspan=\"2\" valign=\"top\">4</th>\n",
       "      <th>0</th>\n",
       "      <td>37</td>\n",
       "    </tr>\n",
       "    <tr>\n",
       "      <th>1</th>\n",
       "      <td>4</td>\n",
       "    </tr>\n",
       "    <tr>\n",
       "      <th>5</th>\n",
       "      <th>0</th>\n",
       "      <td>9</td>\n",
       "    </tr>\n",
       "  </tbody>\n",
       "</table>\n",
       "</div>"
      ],
      "text/plain": [
       "                debt\n",
       "children debt       \n",
       "0        0     13028\n",
       "         1      1063\n",
       "1        0      4364\n",
       "         1       444\n",
       "2        0      1858\n",
       "         1       194\n",
       "3        0       303\n",
       "         1        27\n",
       "4        0        37\n",
       "         1         4\n",
       "5        0         9"
      ]
     },
     "execution_count": 24,
     "metadata": {},
     "output_type": "execute_result"
    }
   ],
   "source": [
    "data.groupby(['children', 'debt']).agg({'debt':'count'}) # сгруппируем таблицу по количеству детей\n"
   ]
  },
  {
   "cell_type": "code",
   "execution_count": 25,
   "id": "d6675c8f",
   "metadata": {},
   "outputs": [
    {
     "data": {
      "text/html": [
       "<div>\n",
       "<style scoped>\n",
       "    .dataframe tbody tr th:only-of-type {\n",
       "        vertical-align: middle;\n",
       "    }\n",
       "\n",
       "    .dataframe tbody tr th {\n",
       "        vertical-align: top;\n",
       "    }\n",
       "\n",
       "    .dataframe thead th {\n",
       "        text-align: right;\n",
       "    }\n",
       "</style>\n",
       "<table border=\"1\" class=\"dataframe\">\n",
       "  <thead>\n",
       "    <tr style=\"text-align: right;\">\n",
       "      <th>debt_status</th>\n",
       "      <th>возврат в срок</th>\n",
       "      <th>долг по возврату</th>\n",
       "    </tr>\n",
       "    <tr>\n",
       "      <th>children</th>\n",
       "      <th></th>\n",
       "      <th></th>\n",
       "    </tr>\n",
       "  </thead>\n",
       "  <tbody>\n",
       "    <tr>\n",
       "      <th>0</th>\n",
       "      <td>13028.0</td>\n",
       "      <td>1063.0</td>\n",
       "    </tr>\n",
       "    <tr>\n",
       "      <th>1</th>\n",
       "      <td>4364.0</td>\n",
       "      <td>444.0</td>\n",
       "    </tr>\n",
       "    <tr>\n",
       "      <th>2</th>\n",
       "      <td>1858.0</td>\n",
       "      <td>194.0</td>\n",
       "    </tr>\n",
       "    <tr>\n",
       "      <th>3</th>\n",
       "      <td>303.0</td>\n",
       "      <td>27.0</td>\n",
       "    </tr>\n",
       "    <tr>\n",
       "      <th>4</th>\n",
       "      <td>37.0</td>\n",
       "      <td>4.0</td>\n",
       "    </tr>\n",
       "    <tr>\n",
       "      <th>5</th>\n",
       "      <td>9.0</td>\n",
       "      <td>NaN</td>\n",
       "    </tr>\n",
       "  </tbody>\n",
       "</table>\n",
       "</div>"
      ],
      "text/plain": [
       "debt_status  возврат в срок  долг по возврату\n",
       "children                                     \n",
       "0                   13028.0            1063.0\n",
       "1                    4364.0             444.0\n",
       "2                    1858.0             194.0\n",
       "3                     303.0              27.0\n",
       "4                      37.0               4.0\n",
       "5                       9.0               NaN"
      ]
     },
     "execution_count": 25,
     "metadata": {},
     "output_type": "execute_result"
    }
   ],
   "source": [
    "def debt_status(debt): # функция, которая заменит 0 и 1 в столбце debt на статуст \"возврат в срок\" и \"долг по возврату\"\n",
    "    if debt == 0:\n",
    "        return 'возврат в срок'\n",
    "    return 'долг по возврату'\n",
    "\n",
    "data['debt_status'] = data['debt'].apply(debt_status) # добавим новый столбец со статусом возврата кредита\n",
    "\n",
    "\n",
    "\n",
    "data_pivot = data.pivot_table(index='children', columns='debt_status', values='debt', aggfunc='count') \n",
    "# создадим сводную таблицу в разрезе количества детей и статусом возврата кредита\n",
    "data_pivot"
   ]
  },
  {
   "cell_type": "code",
   "execution_count": 26,
   "id": "e7089ce7",
   "metadata": {},
   "outputs": [
    {
     "data": {
      "text/html": [
       "<div>\n",
       "<style scoped>\n",
       "    .dataframe tbody tr th:only-of-type {\n",
       "        vertical-align: middle;\n",
       "    }\n",
       "\n",
       "    .dataframe tbody tr th {\n",
       "        vertical-align: top;\n",
       "    }\n",
       "\n",
       "    .dataframe thead th {\n",
       "        text-align: right;\n",
       "    }\n",
       "</style>\n",
       "<table border=\"1\" class=\"dataframe\">\n",
       "  <thead>\n",
       "    <tr style=\"text-align: right;\">\n",
       "      <th>debt_status</th>\n",
       "      <th>возврат в срок</th>\n",
       "      <th>долг по возврату</th>\n",
       "      <th>total_debt</th>\n",
       "      <th>ratio_debt</th>\n",
       "    </tr>\n",
       "    <tr>\n",
       "      <th>children</th>\n",
       "      <th></th>\n",
       "      <th></th>\n",
       "      <th></th>\n",
       "      <th></th>\n",
       "    </tr>\n",
       "  </thead>\n",
       "  <tbody>\n",
       "    <tr>\n",
       "      <th>4</th>\n",
       "      <td>37.0</td>\n",
       "      <td>4.0</td>\n",
       "      <td>41</td>\n",
       "      <td>0.097561</td>\n",
       "    </tr>\n",
       "    <tr>\n",
       "      <th>2</th>\n",
       "      <td>1858.0</td>\n",
       "      <td>194.0</td>\n",
       "      <td>2052</td>\n",
       "      <td>0.094542</td>\n",
       "    </tr>\n",
       "    <tr>\n",
       "      <th>1</th>\n",
       "      <td>4364.0</td>\n",
       "      <td>444.0</td>\n",
       "      <td>4808</td>\n",
       "      <td>0.092346</td>\n",
       "    </tr>\n",
       "    <tr>\n",
       "      <th>3</th>\n",
       "      <td>303.0</td>\n",
       "      <td>27.0</td>\n",
       "      <td>330</td>\n",
       "      <td>0.081818</td>\n",
       "    </tr>\n",
       "    <tr>\n",
       "      <th>0</th>\n",
       "      <td>13028.0</td>\n",
       "      <td>1063.0</td>\n",
       "      <td>14091</td>\n",
       "      <td>0.075438</td>\n",
       "    </tr>\n",
       "    <tr>\n",
       "      <th>5</th>\n",
       "      <td>9.0</td>\n",
       "      <td>NaN</td>\n",
       "      <td>9</td>\n",
       "      <td>NaN</td>\n",
       "    </tr>\n",
       "  </tbody>\n",
       "</table>\n",
       "</div>"
      ],
      "text/plain": [
       "debt_status  возврат в срок  долг по возврату  total_debt  ratio_debt\n",
       "children                                                             \n",
       "4                      37.0               4.0          41    0.097561\n",
       "2                    1858.0             194.0        2052    0.094542\n",
       "1                    4364.0             444.0        4808    0.092346\n",
       "3                     303.0              27.0         330    0.081818\n",
       "0                   13028.0            1063.0       14091    0.075438\n",
       "5                       9.0               NaN           9         NaN"
      ]
     },
     "execution_count": 26,
     "metadata": {},
     "output_type": "execute_result"
    }
   ],
   "source": [
    "data_pivot['total_debt'] = data.groupby('children')['debt'].count() #посчитаем общее количество человек для каждого типа людей\n",
    "data_pivot['ratio_debt'] = data_pivot['долг по возврату']/data_pivot['total_debt'] \n",
    "# посчитаем отношение человек, вернувших кредит с задержкой к общему количеству для каждого количества детей\n",
    "data_pivot.sort_values(by='ratio_debt', ascending=False) #выведем на печать "
   ]
  },
  {
   "cell_type": "markdown",
   "id": "2eb9088e",
   "metadata": {
    "deletable": false,
    "id": "2eb9088e"
   },
   "source": [
    "**Вывод:** Если не брать в расчет людей с 4-5ю детьми (т.к. их крайне мало в общем массиве данных), то лучше всего выплачивают кредит в срок люди не имеющие детей, а хуже всего люди имеющие 1-2 детей."
   ]
  },
  {
   "cell_type": "code",
   "execution_count": 28,
   "id": "8d62ec6b",
   "metadata": {},
   "outputs": [
    {
     "data": {
      "text/html": [
       "<div>\n",
       "<style scoped>\n",
       "    .dataframe tbody tr th:only-of-type {\n",
       "        vertical-align: middle;\n",
       "    }\n",
       "\n",
       "    .dataframe tbody tr th {\n",
       "        vertical-align: top;\n",
       "    }\n",
       "\n",
       "    .dataframe thead th {\n",
       "        text-align: right;\n",
       "    }\n",
       "</style>\n",
       "<table border=\"1\" class=\"dataframe\">\n",
       "  <thead>\n",
       "    <tr style=\"text-align: right;\">\n",
       "      <th></th>\n",
       "      <th>count</th>\n",
       "      <th>sum</th>\n",
       "      <th>mean</th>\n",
       "    </tr>\n",
       "    <tr>\n",
       "      <th>children_status</th>\n",
       "      <th></th>\n",
       "      <th></th>\n",
       "      <th></th>\n",
       "    </tr>\n",
       "  </thead>\n",
       "  <tbody>\n",
       "    <tr>\n",
       "      <th>1-2 ребенка</th>\n",
       "      <td>6860</td>\n",
       "      <td>638</td>\n",
       "      <td>0.093003</td>\n",
       "    </tr>\n",
       "    <tr>\n",
       "      <th>многодетные</th>\n",
       "      <td>380</td>\n",
       "      <td>31</td>\n",
       "      <td>0.081579</td>\n",
       "    </tr>\n",
       "    <tr>\n",
       "      <th>детей нет</th>\n",
       "      <td>14091</td>\n",
       "      <td>1063</td>\n",
       "      <td>0.075438</td>\n",
       "    </tr>\n",
       "  </tbody>\n",
       "</table>\n",
       "</div>"
      ],
      "text/plain": [
       "                 count   sum      mean\n",
       "children_status                       \n",
       "1-2 ребенка       6860   638  0.093003\n",
       "многодетные        380    31  0.081579\n",
       "детей нет        14091  1063  0.075438"
      ]
     },
     "execution_count": 28,
     "metadata": {},
     "output_type": "execute_result"
    }
   ],
   "source": [
    "def children_status(children): # функция, которая запишет статус человека по количеству детей \n",
    "    if children == 0:\n",
    "        return 'детей нет'\n",
    "    elif children >= 3:\n",
    "        return 'многодетные'\n",
    "    return '1-2 ребенка'\n",
    "\n",
    "data['children_status'] = data['children'].apply(children_status) #добавим новый столбец с детским статусом\n",
    "\n",
    "data.groupby('children_status')['debt'].agg(['count', 'sum', 'mean']).sort_values(by = 'mean', ascending = False)"
   ]
  },
  {
   "cell_type": "markdown",
   "id": "61b18ae4",
   "metadata": {},
   "source": [
    "Вывод: Люди имеющие 1-2 детей чаще имеют просрочки по кредитам люди не имеющие детей."
   ]
  },
  {
   "cell_type": "markdown",
   "id": "74c9b3a7",
   "metadata": {
    "deletable": false,
    "editable": false,
    "id": "74c9b3a7"
   },
   "source": [
    "#### 3.2 Есть ли зависимость между семейным положением и возвратом кредита в срок?"
   ]
  },
  {
   "cell_type": "code",
   "execution_count": 29,
   "id": "8098ab3b",
   "metadata": {
    "deletable": false,
    "id": "8098ab3b"
   },
   "outputs": [
    {
     "data": {
      "text/html": [
       "<div>\n",
       "<style scoped>\n",
       "    .dataframe tbody tr th:only-of-type {\n",
       "        vertical-align: middle;\n",
       "    }\n",
       "\n",
       "    .dataframe tbody tr th {\n",
       "        vertical-align: top;\n",
       "    }\n",
       "\n",
       "    .dataframe thead th {\n",
       "        text-align: right;\n",
       "    }\n",
       "</style>\n",
       "<table border=\"1\" class=\"dataframe\">\n",
       "  <thead>\n",
       "    <tr style=\"text-align: right;\">\n",
       "      <th>debt_status</th>\n",
       "      <th>возврат в срок</th>\n",
       "      <th>долг по возврату</th>\n",
       "    </tr>\n",
       "    <tr>\n",
       "      <th>family_status</th>\n",
       "      <th></th>\n",
       "      <th></th>\n",
       "    </tr>\n",
       "  </thead>\n",
       "  <tbody>\n",
       "    <tr>\n",
       "      <th>Не женат / не замужем</th>\n",
       "      <td>2523</td>\n",
       "      <td>273</td>\n",
       "    </tr>\n",
       "    <tr>\n",
       "      <th>в разводе</th>\n",
       "      <td>1105</td>\n",
       "      <td>84</td>\n",
       "    </tr>\n",
       "    <tr>\n",
       "      <th>вдовец / вдова</th>\n",
       "      <td>888</td>\n",
       "      <td>63</td>\n",
       "    </tr>\n",
       "    <tr>\n",
       "      <th>гражданский брак</th>\n",
       "      <td>3749</td>\n",
       "      <td>385</td>\n",
       "    </tr>\n",
       "    <tr>\n",
       "      <th>женат / замужем</th>\n",
       "      <td>11334</td>\n",
       "      <td>927</td>\n",
       "    </tr>\n",
       "  </tbody>\n",
       "</table>\n",
       "</div>"
      ],
      "text/plain": [
       "debt_status            возврат в срок  долг по возврату\n",
       "family_status                                          \n",
       "Не женат / не замужем            2523               273\n",
       "в разводе                        1105                84\n",
       "вдовец / вдова                    888                63\n",
       "гражданский брак                 3749               385\n",
       "женат / замужем                 11334               927"
      ]
     },
     "execution_count": 29,
     "metadata": {},
     "output_type": "execute_result"
    }
   ],
   "source": [
    "data_pivot = data.pivot_table(index='family_status', columns='debt_status', values='debt', aggfunc='count') \n",
    "# создадим сводную таблицу в разрезе семейных статусов и статусов возврата кредита\n",
    "data_pivot"
   ]
  },
  {
   "cell_type": "code",
   "execution_count": 30,
   "id": "4f5bb2bf",
   "metadata": {
    "scrolled": true
   },
   "outputs": [
    {
     "data": {
      "text/html": [
       "<div>\n",
       "<style scoped>\n",
       "    .dataframe tbody tr th:only-of-type {\n",
       "        vertical-align: middle;\n",
       "    }\n",
       "\n",
       "    .dataframe tbody tr th {\n",
       "        vertical-align: top;\n",
       "    }\n",
       "\n",
       "    .dataframe thead th {\n",
       "        text-align: right;\n",
       "    }\n",
       "</style>\n",
       "<table border=\"1\" class=\"dataframe\">\n",
       "  <thead>\n",
       "    <tr style=\"text-align: right;\">\n",
       "      <th>debt_status</th>\n",
       "      <th>возврат в срок</th>\n",
       "      <th>долг по возврату</th>\n",
       "      <th>total_debt</th>\n",
       "      <th>ratio_debt</th>\n",
       "    </tr>\n",
       "    <tr>\n",
       "      <th>family_status</th>\n",
       "      <th></th>\n",
       "      <th></th>\n",
       "      <th></th>\n",
       "      <th></th>\n",
       "    </tr>\n",
       "  </thead>\n",
       "  <tbody>\n",
       "    <tr>\n",
       "      <th>Не женат / не замужем</th>\n",
       "      <td>2523</td>\n",
       "      <td>273</td>\n",
       "      <td>2796</td>\n",
       "      <td>0.097639</td>\n",
       "    </tr>\n",
       "    <tr>\n",
       "      <th>гражданский брак</th>\n",
       "      <td>3749</td>\n",
       "      <td>385</td>\n",
       "      <td>4134</td>\n",
       "      <td>0.093130</td>\n",
       "    </tr>\n",
       "    <tr>\n",
       "      <th>женат / замужем</th>\n",
       "      <td>11334</td>\n",
       "      <td>927</td>\n",
       "      <td>12261</td>\n",
       "      <td>0.075606</td>\n",
       "    </tr>\n",
       "    <tr>\n",
       "      <th>в разводе</th>\n",
       "      <td>1105</td>\n",
       "      <td>84</td>\n",
       "      <td>1189</td>\n",
       "      <td>0.070648</td>\n",
       "    </tr>\n",
       "    <tr>\n",
       "      <th>вдовец / вдова</th>\n",
       "      <td>888</td>\n",
       "      <td>63</td>\n",
       "      <td>951</td>\n",
       "      <td>0.066246</td>\n",
       "    </tr>\n",
       "  </tbody>\n",
       "</table>\n",
       "</div>"
      ],
      "text/plain": [
       "debt_status            возврат в срок  долг по возврату  total_debt  \\\n",
       "family_status                                                         \n",
       "Не женат / не замужем            2523               273        2796   \n",
       "гражданский брак                 3749               385        4134   \n",
       "женат / замужем                 11334               927       12261   \n",
       "в разводе                        1105                84        1189   \n",
       "вдовец / вдова                    888                63         951   \n",
       "\n",
       "debt_status            ratio_debt  \n",
       "family_status                      \n",
       "Не женат / не замужем    0.097639  \n",
       "гражданский брак         0.093130  \n",
       "женат / замужем          0.075606  \n",
       "в разводе                0.070648  \n",
       "вдовец / вдова           0.066246  "
      ]
     },
     "execution_count": 30,
     "metadata": {},
     "output_type": "execute_result"
    }
   ],
   "source": [
    "data_pivot['total_debt'] = data.groupby('family_status')['debt'].count() #посчитаем общее количество взявших кредит по каждому семейному статусу\n",
    "data_pivot['ratio_debt'] = data_pivot['долг по возврату']/data_pivot['total_debt'] \n",
    "#посчитаем отношение людей вернувших кредит с опоздаем к общему количеству для каждого семейного статуса\n",
    "\n",
    "data_pivot.sort_values(by='ratio_debt', ascending =False)"
   ]
  },
  {
   "cell_type": "markdown",
   "id": "c389ca63",
   "metadata": {
    "deletable": false,
    "id": "c389ca63"
   },
   "source": [
    "**Вывод:** Хуже всего выплачивают кредиты в срок люди не состоящие в официальных отношениях, а лучше всего люди которые ранее были в официальных отношениях, а сейчас нет (в разводе, вдовцы)."
   ]
  },
  {
   "cell_type": "markdown",
   "id": "9529de68",
   "metadata": {
    "deletable": false,
    "editable": false,
    "id": "9529de68"
   },
   "source": [
    "#### 3.3 Есть ли зависимость между уровнем дохода и возвратом кредита в срок?"
   ]
  },
  {
   "cell_type": "code",
   "execution_count": 31,
   "id": "8787f44a",
   "metadata": {
    "deletable": false,
    "id": "8787f44a",
    "scrolled": true
   },
   "outputs": [
    {
     "data": {
      "text/html": [
       "<div>\n",
       "<style scoped>\n",
       "    .dataframe tbody tr th:only-of-type {\n",
       "        vertical-align: middle;\n",
       "    }\n",
       "\n",
       "    .dataframe tbody tr th {\n",
       "        vertical-align: top;\n",
       "    }\n",
       "\n",
       "    .dataframe thead th {\n",
       "        text-align: right;\n",
       "    }\n",
       "</style>\n",
       "<table border=\"1\" class=\"dataframe\">\n",
       "  <thead>\n",
       "    <tr style=\"text-align: right;\">\n",
       "      <th>debt_status</th>\n",
       "      <th>возврат в срок</th>\n",
       "      <th>долг по возврату</th>\n",
       "    </tr>\n",
       "    <tr>\n",
       "      <th>total_income_category</th>\n",
       "      <th></th>\n",
       "      <th></th>\n",
       "    </tr>\n",
       "  </thead>\n",
       "  <tbody>\n",
       "    <tr>\n",
       "      <th>A</th>\n",
       "      <td>23</td>\n",
       "      <td>2</td>\n",
       "    </tr>\n",
       "    <tr>\n",
       "      <th>B</th>\n",
       "      <td>4660</td>\n",
       "      <td>354</td>\n",
       "    </tr>\n",
       "    <tr>\n",
       "      <th>C</th>\n",
       "      <td>14568</td>\n",
       "      <td>1353</td>\n",
       "    </tr>\n",
       "    <tr>\n",
       "      <th>D</th>\n",
       "      <td>328</td>\n",
       "      <td>21</td>\n",
       "    </tr>\n",
       "    <tr>\n",
       "      <th>E</th>\n",
       "      <td>20</td>\n",
       "      <td>2</td>\n",
       "    </tr>\n",
       "  </tbody>\n",
       "</table>\n",
       "</div>"
      ],
      "text/plain": [
       "debt_status            возврат в срок  долг по возврату\n",
       "total_income_category                                  \n",
       "A                                  23                 2\n",
       "B                                4660               354\n",
       "C                               14568              1353\n",
       "D                                 328                21\n",
       "E                                  20                 2"
      ]
     },
     "execution_count": 31,
     "metadata": {},
     "output_type": "execute_result"
    }
   ],
   "source": [
    "data_pivot = data.pivot_table(index='total_income_category', columns='debt_status', values='debt', aggfunc='count') \n",
    "# создадим сводную таблицу в разрезе категорий доходов и статусом возврата кредита\n",
    "data_pivot"
   ]
  },
  {
   "cell_type": "markdown",
   "id": "ca3d85aa",
   "metadata": {},
   "source": [
    "Категории дохода\n",
    "\n",
    "0–30000 — 'E';\n",
    "30001–50000 — 'D';\n",
    "50001–200000 — 'C';\n",
    "200001–1000000 — 'B';\n",
    "1000001 и выше — 'A'."
   ]
  },
  {
   "cell_type": "code",
   "execution_count": 32,
   "id": "7d5d51b9",
   "metadata": {},
   "outputs": [
    {
     "data": {
      "text/html": [
       "<div>\n",
       "<style scoped>\n",
       "    .dataframe tbody tr th:only-of-type {\n",
       "        vertical-align: middle;\n",
       "    }\n",
       "\n",
       "    .dataframe tbody tr th {\n",
       "        vertical-align: top;\n",
       "    }\n",
       "\n",
       "    .dataframe thead th {\n",
       "        text-align: right;\n",
       "    }\n",
       "</style>\n",
       "<table border=\"1\" class=\"dataframe\">\n",
       "  <thead>\n",
       "    <tr style=\"text-align: right;\">\n",
       "      <th>debt_status</th>\n",
       "      <th>возврат в срок</th>\n",
       "      <th>долг по возврату</th>\n",
       "      <th>total_debt</th>\n",
       "      <th>ratio_debt</th>\n",
       "    </tr>\n",
       "    <tr>\n",
       "      <th>total_income_category</th>\n",
       "      <th></th>\n",
       "      <th></th>\n",
       "      <th></th>\n",
       "      <th></th>\n",
       "    </tr>\n",
       "  </thead>\n",
       "  <tbody>\n",
       "    <tr>\n",
       "      <th>E</th>\n",
       "      <td>20</td>\n",
       "      <td>2</td>\n",
       "      <td>22</td>\n",
       "      <td>0.090909</td>\n",
       "    </tr>\n",
       "    <tr>\n",
       "      <th>C</th>\n",
       "      <td>14568</td>\n",
       "      <td>1353</td>\n",
       "      <td>15921</td>\n",
       "      <td>0.084982</td>\n",
       "    </tr>\n",
       "    <tr>\n",
       "      <th>A</th>\n",
       "      <td>23</td>\n",
       "      <td>2</td>\n",
       "      <td>25</td>\n",
       "      <td>0.080000</td>\n",
       "    </tr>\n",
       "    <tr>\n",
       "      <th>B</th>\n",
       "      <td>4660</td>\n",
       "      <td>354</td>\n",
       "      <td>5014</td>\n",
       "      <td>0.070602</td>\n",
       "    </tr>\n",
       "    <tr>\n",
       "      <th>D</th>\n",
       "      <td>328</td>\n",
       "      <td>21</td>\n",
       "      <td>349</td>\n",
       "      <td>0.060172</td>\n",
       "    </tr>\n",
       "  </tbody>\n",
       "</table>\n",
       "</div>"
      ],
      "text/plain": [
       "debt_status            возврат в срок  долг по возврату  total_debt  \\\n",
       "total_income_category                                                 \n",
       "E                                  20                 2          22   \n",
       "C                               14568              1353       15921   \n",
       "A                                  23                 2          25   \n",
       "B                                4660               354        5014   \n",
       "D                                 328                21         349   \n",
       "\n",
       "debt_status            ratio_debt  \n",
       "total_income_category              \n",
       "E                        0.090909  \n",
       "C                        0.084982  \n",
       "A                        0.080000  \n",
       "B                        0.070602  \n",
       "D                        0.060172  "
      ]
     },
     "execution_count": 32,
     "metadata": {},
     "output_type": "execute_result"
    }
   ],
   "source": [
    "data_pivot['total_debt'] = data.groupby('total_income_category')['debt'].count() \n",
    "# посчитаем общее количество людей, бравших кредит,для каждой категории доходов\n",
    "data_pivot['ratio_debt'] = data_pivot['долг по возврату']/data_pivot['total_debt'] \n",
    "# посчитаем отношение количества людей вернувших кредит с опозданием к общему количеству\n",
    "\n",
    "data_pivot.sort_values(by='ratio_debt', ascending=False)"
   ]
  },
  {
   "cell_type": "markdown",
   "id": "6dd14b57",
   "metadata": {
    "deletable": false,
    "id": "6dd14b57"
   },
   "source": [
    "**Вывод:** Вывод о зависимости уровня дохода и выплатой кредита в срок довольно сложно сделать, т.к. данные распределены неравномерно, но если брать две сабые большие выборки в данной задаче - это заемщики С с доходом от 50 до 200 тыс руб. и заемщики В с доходом от 200 до 1 000 тыс руб., то заемщики с доходом выше 200 тыс руб. лучше выплачивают кредиты в срок."
   ]
  },
  {
   "cell_type": "markdown",
   "id": "1dcc9b12",
   "metadata": {
    "deletable": false,
    "editable": false,
    "id": "1dcc9b12"
   },
   "source": [
    "#### 3.4 Как разные цели кредита влияют на его возврат в срок?"
   ]
  },
  {
   "cell_type": "code",
   "execution_count": 33,
   "id": "c602bc8b",
   "metadata": {
    "deletable": false,
    "id": "c602bc8b"
   },
   "outputs": [
    {
     "data": {
      "text/html": [
       "<div>\n",
       "<style scoped>\n",
       "    .dataframe tbody tr th:only-of-type {\n",
       "        vertical-align: middle;\n",
       "    }\n",
       "\n",
       "    .dataframe tbody tr th {\n",
       "        vertical-align: top;\n",
       "    }\n",
       "\n",
       "    .dataframe thead th {\n",
       "        text-align: right;\n",
       "    }\n",
       "</style>\n",
       "<table border=\"1\" class=\"dataframe\">\n",
       "  <thead>\n",
       "    <tr style=\"text-align: right;\">\n",
       "      <th>debt_status</th>\n",
       "      <th>возврат в срок</th>\n",
       "      <th>долг по возврату</th>\n",
       "    </tr>\n",
       "    <tr>\n",
       "      <th>purpose_category</th>\n",
       "      <th></th>\n",
       "      <th></th>\n",
       "    </tr>\n",
       "  </thead>\n",
       "  <tbody>\n",
       "    <tr>\n",
       "      <th>операции с автомобилем</th>\n",
       "      <td>3879</td>\n",
       "      <td>400</td>\n",
       "    </tr>\n",
       "    <tr>\n",
       "      <th>операции с недвижимостью</th>\n",
       "      <td>9971</td>\n",
       "      <td>780</td>\n",
       "    </tr>\n",
       "    <tr>\n",
       "      <th>получение образования</th>\n",
       "      <td>3619</td>\n",
       "      <td>369</td>\n",
       "    </tr>\n",
       "    <tr>\n",
       "      <th>проведение свадьбы</th>\n",
       "      <td>2130</td>\n",
       "      <td>183</td>\n",
       "    </tr>\n",
       "  </tbody>\n",
       "</table>\n",
       "</div>"
      ],
      "text/plain": [
       "debt_status               возврат в срок  долг по возврату\n",
       "purpose_category                                          \n",
       "операции с автомобилем              3879               400\n",
       "операции с недвижимостью            9971               780\n",
       "получение образования               3619               369\n",
       "проведение свадьбы                  2130               183"
      ]
     },
     "execution_count": 33,
     "metadata": {},
     "output_type": "execute_result"
    }
   ],
   "source": [
    "data_pivot = data.pivot_table(index='purpose_category', columns='debt_status', values='debt', aggfunc='count') \n",
    "# создадим сводную таблицу в разрезе целей кредитов и статусом возврата кредита\n",
    "\n",
    "data_pivot"
   ]
  },
  {
   "cell_type": "code",
   "execution_count": 34,
   "id": "70cbc285",
   "metadata": {},
   "outputs": [
    {
     "data": {
      "text/html": [
       "<div>\n",
       "<style scoped>\n",
       "    .dataframe tbody tr th:only-of-type {\n",
       "        vertical-align: middle;\n",
       "    }\n",
       "\n",
       "    .dataframe tbody tr th {\n",
       "        vertical-align: top;\n",
       "    }\n",
       "\n",
       "    .dataframe thead th {\n",
       "        text-align: right;\n",
       "    }\n",
       "</style>\n",
       "<table border=\"1\" class=\"dataframe\">\n",
       "  <thead>\n",
       "    <tr style=\"text-align: right;\">\n",
       "      <th>debt_status</th>\n",
       "      <th>возврат в срок</th>\n",
       "      <th>долг по возврату</th>\n",
       "      <th>total_debt</th>\n",
       "      <th>ratio_debt</th>\n",
       "    </tr>\n",
       "    <tr>\n",
       "      <th>purpose_category</th>\n",
       "      <th></th>\n",
       "      <th></th>\n",
       "      <th></th>\n",
       "      <th></th>\n",
       "    </tr>\n",
       "  </thead>\n",
       "  <tbody>\n",
       "    <tr>\n",
       "      <th>операции с автомобилем</th>\n",
       "      <td>3879</td>\n",
       "      <td>400</td>\n",
       "      <td>4279</td>\n",
       "      <td>0.093480</td>\n",
       "    </tr>\n",
       "    <tr>\n",
       "      <th>получение образования</th>\n",
       "      <td>3619</td>\n",
       "      <td>369</td>\n",
       "      <td>3988</td>\n",
       "      <td>0.092528</td>\n",
       "    </tr>\n",
       "    <tr>\n",
       "      <th>проведение свадьбы</th>\n",
       "      <td>2130</td>\n",
       "      <td>183</td>\n",
       "      <td>2313</td>\n",
       "      <td>0.079118</td>\n",
       "    </tr>\n",
       "    <tr>\n",
       "      <th>операции с недвижимостью</th>\n",
       "      <td>9971</td>\n",
       "      <td>780</td>\n",
       "      <td>10751</td>\n",
       "      <td>0.072551</td>\n",
       "    </tr>\n",
       "  </tbody>\n",
       "</table>\n",
       "</div>"
      ],
      "text/plain": [
       "debt_status               возврат в срок  долг по возврату  total_debt  \\\n",
       "purpose_category                                                         \n",
       "операции с автомобилем              3879               400        4279   \n",
       "получение образования               3619               369        3988   \n",
       "проведение свадьбы                  2130               183        2313   \n",
       "операции с недвижимостью            9971               780       10751   \n",
       "\n",
       "debt_status               ratio_debt  \n",
       "purpose_category                      \n",
       "операции с автомобилем      0.093480  \n",
       "получение образования       0.092528  \n",
       "проведение свадьбы          0.079118  \n",
       "операции с недвижимостью    0.072551  "
      ]
     },
     "execution_count": 34,
     "metadata": {},
     "output_type": "execute_result"
    }
   ],
   "source": [
    "data_pivot['total_debt'] = data.groupby('purpose_category')['debt'].count() # посчитаем общее количество человек для каждой цели кредита\n",
    "data_pivot['ratio_debt'] = data_pivot['долг по возврату']/data_pivot['total_debt'] \n",
    "# посчитаем отношение количества людей вернувших кредит с опозданием к общему количеству для каждой цели\n",
    "\n",
    "data_pivot.sort_values(by='ratio_debt', ascending=False)"
   ]
  },
  {
   "cell_type": "markdown",
   "id": "cf05ed63",
   "metadata": {
    "deletable": false,
    "id": "cf05ed63"
   },
   "source": [
    "**Вывод:** Люди, взявшие кредит на покупку жилья, лучше всех выплачивают кредиты в срок. Хуже всего выплачивают кредиты в срок люди, взявшие кредит на покупку автомобиля и получение образования."
   ]
  },
  {
   "cell_type": "markdown",
   "id": "46c1f10b",
   "metadata": {
    "deletable": false,
    "editable": false,
    "id": "46c1f10b"
   },
   "source": [
    "#### 3.5 Приведите возможные причины появления пропусков в исходных данных."
   ]
  },
  {
   "cell_type": "markdown",
   "id": "3697d2a9",
   "metadata": {
    "deletable": false,
    "id": "3697d2a9"
   },
   "source": [
    "*Ответ:* Если данные заполнялись на основе анкет заемщиков банка, то может быть несколько причин отсутсвия данных или некорректных данных:\n",
    "-\"человеческий фактор\" (заемщик пропустил или неверно заполнил данные в анкете или оператор при переносе данных в базу мог ошибиться);\n",
    "-технические ошибки (предполагаю, что в данной задаче это маловероятный вариант).\n"
   ]
  },
  {
   "cell_type": "markdown",
   "id": "3137d257",
   "metadata": {
    "deletable": false,
    "editable": false,
    "id": "3137d257"
   },
   "source": [
    "#### 3.6 Объясните, почему заполнить пропуски медианным значением — лучшее решение для количественных переменных."
   ]
  },
  {
   "cell_type": "markdown",
   "id": "cf40012a",
   "metadata": {
    "deletable": false,
    "id": "cf40012a"
   },
   "source": [
    "*Ответ:* Если в данных есть сильно выбивающиеся значения и диапазон слишком большой, то использование среднего арифметического сильно исказит общую картину данных, чтобы этого избежать чаще используют заполнение пропусков медианой."
   ]
  },
  {
   "cell_type": "markdown",
   "id": "57bc304e",
   "metadata": {
    "deletable": false,
    "editable": false,
    "id": "57bc304e"
   },
   "source": [
    "### Шаг 4: общий вывод."
   ]
  },
  {
   "cell_type": "markdown",
   "id": "1ab75d1c",
   "metadata": {
    "deletable": false,
    "id": "1ab75d1c"
   },
   "source": [
    "ВЫВОД:"
   ]
  },
  {
   "cell_type": "markdown",
   "id": "28f8054f",
   "metadata": {},
   "source": [
    "    В качестве исходных данных была предоставлен массив данных по заемщикам банка. В таблице указано возраст заемщиков, образование, семейное положение, количество детей, уровень дохода, цель кредита и были ли просрочки в закрытии кредитов. На стадии предобработки были обработаны пропуски данных, дубликаты, аномальные данные и преобразованы типы данных для дальнейшего анализа.\n",
    "    На основа анализа имеющихся данных можно сделать вывод о том, что количество детей и семейное положение влияет на выплату кредитов без задержек. Самый ответственный заемщик - это человек, который состоит (или состоял) в официальном браке и не имеет детей, доход которого > 200 тыс. руб. и тот кто берет кредит на покупку жилья. Хуже всего отдают кредиты вовремя люди не состоящие в официальном браке, имеющие 1-2 детей.\n",
    "    Для более точного анализа, необходимо выявить причину аномальных данных и их пропусков, как вариант анкету заемщикам можно заполнять в электронном виде, с ячейками с заданным форматом и обязательным к заполнению. Основными метриками для решения о выдаче кредита можно считать уровень дохода, семейное положение, количество детей и цель кредита. Можно доработать анализ с учетом возраста заемщиков и региона проживания, тогда картина будет более полной."
   ]
  }
 ],
 "metadata": {
  "ExecuteTimeLog": [
   {
    "duration": 483,
    "start_time": "2024-01-13T20:11:25.525Z"
   },
   {
    "duration": 19,
    "start_time": "2024-01-13T20:12:05.218Z"
   },
   {
    "duration": 444,
    "start_time": "2024-01-13T20:16:12.619Z"
   },
   {
    "duration": 20,
    "start_time": "2024-01-13T20:16:13.065Z"
   },
   {
    "duration": 14,
    "start_time": "2024-01-13T20:16:13.086Z"
   },
   {
    "duration": 9,
    "start_time": "2024-01-13T20:16:13.102Z"
   },
   {
    "duration": 50,
    "start_time": "2024-01-13T20:16:13.112Z"
   },
   {
    "duration": 3,
    "start_time": "2024-01-13T20:16:13.163Z"
   },
   {
    "duration": 15,
    "start_time": "2024-01-13T20:16:13.167Z"
   },
   {
    "duration": 4,
    "start_time": "2024-01-13T20:16:13.183Z"
   },
   {
    "duration": 6,
    "start_time": "2024-01-13T20:16:13.188Z"
   },
   {
    "duration": 3,
    "start_time": "2024-01-13T20:16:13.197Z"
   },
   {
    "duration": 32,
    "start_time": "2024-01-13T20:16:13.201Z"
   },
   {
    "duration": 26,
    "start_time": "2024-01-13T20:16:13.235Z"
   },
   {
    "duration": 12,
    "start_time": "2024-01-13T20:16:13.263Z"
   },
   {
    "duration": 12,
    "start_time": "2024-01-13T20:16:13.276Z"
   },
   {
    "duration": 33,
    "start_time": "2024-01-13T20:16:13.289Z"
   },
   {
    "duration": 15,
    "start_time": "2024-01-13T20:16:13.323Z"
   },
   {
    "duration": 4,
    "start_time": "2024-01-13T20:16:13.339Z"
   },
   {
    "duration": 16,
    "start_time": "2024-01-13T20:16:13.344Z"
   },
   {
    "duration": 5,
    "start_time": "2024-01-13T20:16:13.361Z"
   },
   {
    "duration": 3,
    "start_time": "2024-01-13T20:16:13.367Z"
   },
   {
    "duration": 9,
    "start_time": "2024-01-13T20:16:13.371Z"
   },
   {
    "duration": 2,
    "start_time": "2024-01-13T20:16:13.381Z"
   },
   {
    "duration": 11,
    "start_time": "2024-01-13T20:16:13.385Z"
   },
   {
    "duration": 7,
    "start_time": "2024-01-13T20:16:13.397Z"
   },
   {
    "duration": 19,
    "start_time": "2024-01-13T20:16:13.405Z"
   },
   {
    "duration": 64,
    "start_time": "2024-01-13T20:19:23.329Z"
   },
   {
    "duration": 4,
    "start_time": "2024-01-13T20:20:08.175Z"
   },
   {
    "duration": 4,
    "start_time": "2024-01-13T20:20:21.023Z"
   },
   {
    "duration": 6,
    "start_time": "2024-01-13T20:21:13.447Z"
   },
   {
    "duration": 9,
    "start_time": "2024-01-13T20:30:46.042Z"
   },
   {
    "duration": 19,
    "start_time": "2024-01-13T20:31:04.392Z"
   },
   {
    "duration": 13,
    "start_time": "2024-01-13T20:31:59.250Z"
   },
   {
    "duration": 147,
    "start_time": "2024-01-13T20:35:39.986Z"
   },
   {
    "duration": 84,
    "start_time": "2024-01-13T20:36:03.655Z"
   },
   {
    "duration": 82,
    "start_time": "2024-01-13T20:36:21.667Z"
   },
   {
    "duration": 102,
    "start_time": "2024-01-13T20:36:59.555Z"
   },
   {
    "duration": 4,
    "start_time": "2024-01-13T20:37:28.171Z"
   },
   {
    "duration": 4,
    "start_time": "2024-01-13T20:37:39.599Z"
   },
   {
    "duration": 463,
    "start_time": "2024-01-13T20:37:50.907Z"
   },
   {
    "duration": 20,
    "start_time": "2024-01-13T20:37:51.372Z"
   },
   {
    "duration": 14,
    "start_time": "2024-01-13T20:37:51.394Z"
   },
   {
    "duration": 9,
    "start_time": "2024-01-13T20:37:51.410Z"
   },
   {
    "duration": 53,
    "start_time": "2024-01-13T20:37:51.420Z"
   },
   {
    "duration": 3,
    "start_time": "2024-01-13T20:37:51.474Z"
   },
   {
    "duration": 10,
    "start_time": "2024-01-13T20:37:51.478Z"
   },
   {
    "duration": 16,
    "start_time": "2024-01-13T20:37:51.489Z"
   },
   {
    "duration": 7,
    "start_time": "2024-01-13T20:37:51.506Z"
   },
   {
    "duration": 4,
    "start_time": "2024-01-13T20:37:51.515Z"
   },
   {
    "duration": 51,
    "start_time": "2024-01-13T20:37:51.520Z"
   },
   {
    "duration": 10,
    "start_time": "2024-01-13T20:37:51.572Z"
   },
   {
    "duration": 3,
    "start_time": "2024-01-13T20:37:51.583Z"
   },
   {
    "duration": 12,
    "start_time": "2024-01-13T20:37:51.587Z"
   },
   {
    "duration": 20,
    "start_time": "2024-01-13T20:37:51.600Z"
   },
   {
    "duration": 36,
    "start_time": "2024-01-13T20:37:51.622Z"
   },
   {
    "duration": 3,
    "start_time": "2024-01-13T20:37:51.660Z"
   },
   {
    "duration": 12,
    "start_time": "2024-01-13T20:37:51.664Z"
   },
   {
    "duration": 8,
    "start_time": "2024-01-13T20:37:51.678Z"
   },
   {
    "duration": 3,
    "start_time": "2024-01-13T20:37:51.687Z"
   },
   {
    "duration": 9,
    "start_time": "2024-01-13T20:37:51.691Z"
   },
   {
    "duration": 4,
    "start_time": "2024-01-13T20:37:51.701Z"
   },
   {
    "duration": 4,
    "start_time": "2024-01-13T20:37:51.707Z"
   },
   {
    "duration": 4,
    "start_time": "2024-01-13T20:37:51.712Z"
   },
   {
    "duration": 39,
    "start_time": "2024-01-13T20:37:51.717Z"
   },
   {
    "duration": 5,
    "start_time": "2024-01-13T20:38:26.027Z"
   },
   {
    "duration": 4,
    "start_time": "2024-01-13T20:39:13.227Z"
   },
   {
    "duration": 4,
    "start_time": "2024-01-13T20:39:21.828Z"
   },
   {
    "duration": 21,
    "start_time": "2024-01-13T20:39:56.081Z"
   },
   {
    "duration": 11,
    "start_time": "2024-01-13T20:42:26.224Z"
   },
   {
    "duration": 671,
    "start_time": "2024-01-14T13:15:55.291Z"
   },
   {
    "duration": 21,
    "start_time": "2024-01-14T13:15:55.964Z"
   },
   {
    "duration": 15,
    "start_time": "2024-01-14T13:15:55.986Z"
   },
   {
    "duration": 17,
    "start_time": "2024-01-14T13:15:56.002Z"
   },
   {
    "duration": 49,
    "start_time": "2024-01-14T13:15:56.020Z"
   },
   {
    "duration": 4,
    "start_time": "2024-01-14T13:15:56.070Z"
   },
   {
    "duration": 15,
    "start_time": "2024-01-14T13:15:56.075Z"
   },
   {
    "duration": 14,
    "start_time": "2024-01-14T13:15:56.091Z"
   },
   {
    "duration": 6,
    "start_time": "2024-01-14T13:15:56.106Z"
   },
   {
    "duration": 7,
    "start_time": "2024-01-14T13:15:56.116Z"
   },
   {
    "duration": 41,
    "start_time": "2024-01-14T13:15:56.124Z"
   },
   {
    "duration": 10,
    "start_time": "2024-01-14T13:15:56.166Z"
   },
   {
    "duration": 3,
    "start_time": "2024-01-14T13:15:56.177Z"
   },
   {
    "duration": 18,
    "start_time": "2024-01-14T13:15:56.181Z"
   },
   {
    "duration": 18,
    "start_time": "2024-01-14T13:15:56.200Z"
   },
   {
    "duration": 14,
    "start_time": "2024-01-14T13:15:56.220Z"
   },
   {
    "duration": 3,
    "start_time": "2024-01-14T13:15:56.236Z"
   },
   {
    "duration": 29,
    "start_time": "2024-01-14T13:15:56.241Z"
   },
   {
    "duration": 8,
    "start_time": "2024-01-14T13:15:56.271Z"
   },
   {
    "duration": 3,
    "start_time": "2024-01-14T13:15:56.280Z"
   },
   {
    "duration": 16,
    "start_time": "2024-01-14T13:15:56.284Z"
   },
   {
    "duration": 10,
    "start_time": "2024-01-14T13:15:56.302Z"
   },
   {
    "duration": 2,
    "start_time": "2024-01-14T13:15:56.313Z"
   },
   {
    "duration": 3,
    "start_time": "2024-01-14T13:15:56.317Z"
   },
   {
    "duration": 4,
    "start_time": "2024-01-14T13:15:56.321Z"
   },
   {
    "duration": 72,
    "start_time": "2024-01-14T13:21:03.131Z"
   },
   {
    "duration": 73,
    "start_time": "2024-01-14T13:24:40.457Z"
   },
   {
    "duration": 14,
    "start_time": "2024-01-14T13:24:51.040Z"
   },
   {
    "duration": 16,
    "start_time": "2024-01-14T13:27:53.716Z"
   },
   {
    "duration": 17,
    "start_time": "2024-01-14T13:37:37.606Z"
   },
   {
    "duration": 97,
    "start_time": "2024-01-14T13:51:23.853Z"
   },
   {
    "duration": 76,
    "start_time": "2024-01-14T13:51:35.015Z"
   },
   {
    "duration": 20,
    "start_time": "2024-01-14T13:51:47.061Z"
   },
   {
    "duration": 26,
    "start_time": "2024-01-14T13:53:55.689Z"
   },
   {
    "duration": 3,
    "start_time": "2024-01-14T13:58:28.866Z"
   },
   {
    "duration": 11,
    "start_time": "2024-01-14T13:58:52.034Z"
   },
   {
    "duration": 15,
    "start_time": "2024-01-14T13:59:49.862Z"
   },
   {
    "duration": 6,
    "start_time": "2024-01-14T14:10:00.608Z"
   },
   {
    "duration": 5,
    "start_time": "2024-01-14T14:11:34.329Z"
   },
   {
    "duration": 13,
    "start_time": "2024-01-14T14:12:25.091Z"
   },
   {
    "duration": 18,
    "start_time": "2024-01-14T14:16:05.864Z"
   },
   {
    "duration": 12,
    "start_time": "2024-01-14T14:17:10.606Z"
   },
   {
    "duration": 17,
    "start_time": "2024-01-14T14:19:03.265Z"
   },
   {
    "duration": 18,
    "start_time": "2024-01-14T14:19:51.050Z"
   },
   {
    "duration": 13,
    "start_time": "2024-01-14T14:19:53.849Z"
   },
   {
    "duration": 16,
    "start_time": "2024-01-14T14:20:21.204Z"
   },
   {
    "duration": 12,
    "start_time": "2024-01-14T14:20:42.148Z"
   },
   {
    "duration": 14,
    "start_time": "2024-01-14T14:21:02.009Z"
   },
   {
    "duration": 18,
    "start_time": "2024-01-14T14:23:35.674Z"
   },
   {
    "duration": 18,
    "start_time": "2024-01-14T14:24:05.564Z"
   },
   {
    "duration": 16,
    "start_time": "2024-01-14T14:34:00.217Z"
   },
   {
    "duration": 9,
    "start_time": "2024-01-14T14:34:35.269Z"
   },
   {
    "duration": 9,
    "start_time": "2024-01-14T14:34:43.618Z"
   },
   {
    "duration": 23,
    "start_time": "2024-01-14T14:34:53.401Z"
   },
   {
    "duration": 8,
    "start_time": "2024-01-14T14:34:56.486Z"
   },
   {
    "duration": 13,
    "start_time": "2024-01-14T14:34:58.569Z"
   },
   {
    "duration": 33,
    "start_time": "2024-01-14T14:55:27.048Z"
   },
   {
    "duration": 12,
    "start_time": "2024-01-14T14:56:22.803Z"
   },
   {
    "duration": 23,
    "start_time": "2024-01-14T15:00:04.183Z"
   },
   {
    "duration": 11,
    "start_time": "2024-01-14T15:00:12.522Z"
   },
   {
    "duration": 14,
    "start_time": "2024-01-14T15:07:27.605Z"
   },
   {
    "duration": 19,
    "start_time": "2024-01-14T15:07:33.285Z"
   },
   {
    "duration": 12,
    "start_time": "2024-01-14T15:07:34.342Z"
   },
   {
    "duration": 17,
    "start_time": "2024-01-14T15:13:18.785Z"
   },
   {
    "duration": 12,
    "start_time": "2024-01-14T15:16:05.896Z"
   },
   {
    "duration": 17,
    "start_time": "2024-01-14T15:19:19.640Z"
   },
   {
    "duration": 12,
    "start_time": "2024-01-14T15:21:18.305Z"
   },
   {
    "duration": 10,
    "start_time": "2024-01-14T15:21:44.366Z"
   },
   {
    "duration": 523,
    "start_time": "2024-01-14T15:50:35.439Z"
   },
   {
    "duration": 21,
    "start_time": "2024-01-14T15:50:35.964Z"
   },
   {
    "duration": 15,
    "start_time": "2024-01-14T15:50:35.987Z"
   },
   {
    "duration": 17,
    "start_time": "2024-01-14T15:50:36.005Z"
   },
   {
    "duration": 57,
    "start_time": "2024-01-14T15:50:36.024Z"
   },
   {
    "duration": 3,
    "start_time": "2024-01-14T15:50:36.083Z"
   },
   {
    "duration": 21,
    "start_time": "2024-01-14T15:50:36.088Z"
   },
   {
    "duration": 33,
    "start_time": "2024-01-14T15:50:36.111Z"
   },
   {
    "duration": 24,
    "start_time": "2024-01-14T15:50:36.146Z"
   },
   {
    "duration": 32,
    "start_time": "2024-01-14T15:50:36.173Z"
   },
   {
    "duration": 49,
    "start_time": "2024-01-14T15:50:36.206Z"
   },
   {
    "duration": 9,
    "start_time": "2024-01-14T15:50:36.257Z"
   },
   {
    "duration": 53,
    "start_time": "2024-01-14T15:50:36.268Z"
   },
   {
    "duration": 41,
    "start_time": "2024-01-14T15:50:36.323Z"
   },
   {
    "duration": 72,
    "start_time": "2024-01-14T15:50:36.366Z"
   },
   {
    "duration": 34,
    "start_time": "2024-01-14T15:50:36.439Z"
   },
   {
    "duration": 19,
    "start_time": "2024-01-14T15:50:36.474Z"
   },
   {
    "duration": 38,
    "start_time": "2024-01-14T15:50:36.495Z"
   },
   {
    "duration": 36,
    "start_time": "2024-01-14T15:50:36.535Z"
   },
   {
    "duration": 12,
    "start_time": "2024-01-14T15:50:36.573Z"
   },
   {
    "duration": 42,
    "start_time": "2024-01-14T15:50:36.587Z"
   },
   {
    "duration": 29,
    "start_time": "2024-01-14T15:50:36.630Z"
   },
   {
    "duration": 40,
    "start_time": "2024-01-14T15:50:36.661Z"
   },
   {
    "duration": 40,
    "start_time": "2024-01-14T15:50:36.702Z"
   },
   {
    "duration": 29,
    "start_time": "2024-01-14T15:50:36.744Z"
   },
   {
    "duration": 12,
    "start_time": "2024-01-14T15:50:36.774Z"
   },
   {
    "duration": 22,
    "start_time": "2024-01-14T15:50:36.788Z"
   },
   {
    "duration": 11,
    "start_time": "2024-01-14T15:50:36.813Z"
   },
   {
    "duration": 15,
    "start_time": "2024-01-14T15:50:36.825Z"
   },
   {
    "duration": 32,
    "start_time": "2024-01-14T15:50:36.841Z"
   },
   {
    "duration": 16,
    "start_time": "2024-01-14T15:50:36.875Z"
   },
   {
    "duration": 11,
    "start_time": "2024-01-14T15:50:36.893Z"
   },
   {
    "duration": 703,
    "start_time": "2024-01-14T17:38:17.954Z"
   },
   {
    "duration": 26,
    "start_time": "2024-01-14T17:38:18.659Z"
   },
   {
    "duration": 16,
    "start_time": "2024-01-14T17:38:18.687Z"
   },
   {
    "duration": 17,
    "start_time": "2024-01-14T17:38:18.705Z"
   },
   {
    "duration": 42,
    "start_time": "2024-01-14T17:38:18.723Z"
   },
   {
    "duration": 3,
    "start_time": "2024-01-14T17:38:18.767Z"
   },
   {
    "duration": 9,
    "start_time": "2024-01-14T17:38:18.771Z"
   },
   {
    "duration": 4,
    "start_time": "2024-01-14T17:38:18.782Z"
   },
   {
    "duration": 11,
    "start_time": "2024-01-14T17:38:18.787Z"
   },
   {
    "duration": 6,
    "start_time": "2024-01-14T17:38:18.802Z"
   },
   {
    "duration": 55,
    "start_time": "2024-01-14T17:38:18.810Z"
   },
   {
    "duration": 9,
    "start_time": "2024-01-14T17:38:18.867Z"
   },
   {
    "duration": 22,
    "start_time": "2024-01-14T17:38:18.878Z"
   },
   {
    "duration": 19,
    "start_time": "2024-01-14T17:38:18.902Z"
   },
   {
    "duration": 25,
    "start_time": "2024-01-14T17:38:18.923Z"
   },
   {
    "duration": 17,
    "start_time": "2024-01-14T17:38:18.950Z"
   },
   {
    "duration": 4,
    "start_time": "2024-01-14T17:38:18.968Z"
   },
   {
    "duration": 31,
    "start_time": "2024-01-14T17:38:18.974Z"
   },
   {
    "duration": 7,
    "start_time": "2024-01-14T17:38:19.007Z"
   },
   {
    "duration": 9,
    "start_time": "2024-01-14T17:38:19.015Z"
   },
   {
    "duration": 11,
    "start_time": "2024-01-14T17:38:19.025Z"
   },
   {
    "duration": 28,
    "start_time": "2024-01-14T17:38:19.038Z"
   },
   {
    "duration": 23,
    "start_time": "2024-01-14T17:38:19.067Z"
   },
   {
    "duration": 15,
    "start_time": "2024-01-14T17:38:19.091Z"
   },
   {
    "duration": 36,
    "start_time": "2024-01-14T17:38:19.108Z"
   },
   {
    "duration": 28,
    "start_time": "2024-01-14T17:38:19.145Z"
   },
   {
    "duration": 17,
    "start_time": "2024-01-14T17:38:19.175Z"
   },
   {
    "duration": 11,
    "start_time": "2024-01-14T17:38:19.195Z"
   },
   {
    "duration": 19,
    "start_time": "2024-01-14T17:38:19.207Z"
   },
   {
    "duration": 11,
    "start_time": "2024-01-14T17:38:19.227Z"
   },
   {
    "duration": 43,
    "start_time": "2024-01-14T17:38:19.239Z"
   },
   {
    "duration": 12,
    "start_time": "2024-01-14T17:38:19.284Z"
   },
   {
    "duration": 12,
    "start_time": "2024-01-14T17:40:14.004Z"
   },
   {
    "duration": 69,
    "start_time": "2024-01-14T17:41:55.017Z"
   },
   {
    "duration": 51,
    "start_time": "2024-01-15T10:37:52.763Z"
   },
   {
    "duration": 679,
    "start_time": "2024-01-15T10:38:10.998Z"
   },
   {
    "duration": 22,
    "start_time": "2024-01-15T10:38:11.679Z"
   },
   {
    "duration": 17,
    "start_time": "2024-01-15T10:38:11.703Z"
   },
   {
    "duration": 12,
    "start_time": "2024-01-15T10:38:11.723Z"
   },
   {
    "duration": 43,
    "start_time": "2024-01-15T10:38:11.736Z"
   },
   {
    "duration": 4,
    "start_time": "2024-01-15T10:38:11.781Z"
   },
   {
    "duration": 13,
    "start_time": "2024-01-15T10:38:11.786Z"
   },
   {
    "duration": 5,
    "start_time": "2024-01-15T10:38:11.800Z"
   },
   {
    "duration": 9,
    "start_time": "2024-01-15T10:38:11.807Z"
   },
   {
    "duration": 6,
    "start_time": "2024-01-15T10:38:11.841Z"
   },
   {
    "duration": 44,
    "start_time": "2024-01-15T10:38:11.848Z"
   },
   {
    "duration": 10,
    "start_time": "2024-01-15T10:38:11.894Z"
   },
   {
    "duration": 10,
    "start_time": "2024-01-15T10:38:11.906Z"
   },
   {
    "duration": 26,
    "start_time": "2024-01-15T10:38:11.918Z"
   },
   {
    "duration": 28,
    "start_time": "2024-01-15T10:38:11.946Z"
   },
   {
    "duration": 17,
    "start_time": "2024-01-15T10:38:11.976Z"
   },
   {
    "duration": 4,
    "start_time": "2024-01-15T10:38:11.994Z"
   },
   {
    "duration": 16,
    "start_time": "2024-01-15T10:38:11.999Z"
   },
   {
    "duration": 6,
    "start_time": "2024-01-15T10:38:12.016Z"
   },
   {
    "duration": 4,
    "start_time": "2024-01-15T10:38:12.023Z"
   },
   {
    "duration": 9,
    "start_time": "2024-01-15T10:38:12.043Z"
   },
   {
    "duration": 17,
    "start_time": "2024-01-15T10:38:12.053Z"
   },
   {
    "duration": 23,
    "start_time": "2024-01-15T10:38:12.072Z"
   },
   {
    "duration": 10,
    "start_time": "2024-01-15T10:38:12.097Z"
   },
   {
    "duration": 48,
    "start_time": "2024-01-15T10:38:12.109Z"
   },
   {
    "duration": 13,
    "start_time": "2024-01-15T10:38:12.159Z"
   },
   {
    "duration": 11,
    "start_time": "2024-01-15T10:38:12.174Z"
   },
   {
    "duration": 97,
    "start_time": "2024-01-15T10:38:12.188Z"
   },
   {
    "duration": 0,
    "start_time": "2024-01-15T10:38:12.286Z"
   },
   {
    "duration": 0,
    "start_time": "2024-01-15T10:38:12.287Z"
   },
   {
    "duration": 0,
    "start_time": "2024-01-15T10:38:12.288Z"
   },
   {
    "duration": 0,
    "start_time": "2024-01-15T10:38:12.289Z"
   },
   {
    "duration": 0,
    "start_time": "2024-01-15T10:38:12.291Z"
   },
   {
    "duration": 0,
    "start_time": "2024-01-15T10:38:12.293Z"
   },
   {
    "duration": 15,
    "start_time": "2024-01-15T10:38:30.441Z"
   },
   {
    "duration": 12,
    "start_time": "2024-01-15T10:38:50.010Z"
   },
   {
    "duration": 16,
    "start_time": "2024-01-15T10:39:49.172Z"
   },
   {
    "duration": 203,
    "start_time": "2024-01-15T10:43:04.111Z"
   },
   {
    "duration": 24,
    "start_time": "2024-01-15T10:47:00.087Z"
   },
   {
    "duration": 13,
    "start_time": "2024-01-15T10:47:03.416Z"
   },
   {
    "duration": 19,
    "start_time": "2024-01-15T12:23:27.309Z"
   },
   {
    "duration": 444,
    "start_time": "2024-01-15T13:26:29.786Z"
   },
   {
    "duration": 22,
    "start_time": "2024-01-15T13:26:30.232Z"
   },
   {
    "duration": 43,
    "start_time": "2024-01-15T13:26:30.256Z"
   },
   {
    "duration": 42,
    "start_time": "2024-01-15T13:26:30.301Z"
   },
   {
    "duration": 94,
    "start_time": "2024-01-15T13:26:30.345Z"
   },
   {
    "duration": 29,
    "start_time": "2024-01-15T13:26:30.440Z"
   },
   {
    "duration": 65,
    "start_time": "2024-01-15T13:26:30.471Z"
   },
   {
    "duration": 71,
    "start_time": "2024-01-15T13:26:30.538Z"
   },
   {
    "duration": 29,
    "start_time": "2024-01-15T13:26:30.611Z"
   },
   {
    "duration": 30,
    "start_time": "2024-01-15T13:26:30.643Z"
   },
   {
    "duration": 52,
    "start_time": "2024-01-15T13:26:30.674Z"
   },
   {
    "duration": 10,
    "start_time": "2024-01-15T13:26:30.727Z"
   },
   {
    "duration": 14,
    "start_time": "2024-01-15T13:26:30.739Z"
   },
   {
    "duration": 26,
    "start_time": "2024-01-15T13:26:30.754Z"
   },
   {
    "duration": 48,
    "start_time": "2024-01-15T13:26:30.782Z"
   },
   {
    "duration": 18,
    "start_time": "2024-01-15T13:26:30.831Z"
   },
   {
    "duration": 19,
    "start_time": "2024-01-15T13:26:30.850Z"
   },
   {
    "duration": 31,
    "start_time": "2024-01-15T13:26:30.871Z"
   },
   {
    "duration": 14,
    "start_time": "2024-01-15T13:26:30.904Z"
   },
   {
    "duration": 35,
    "start_time": "2024-01-15T13:26:30.919Z"
   },
   {
    "duration": 24,
    "start_time": "2024-01-15T13:26:30.956Z"
   },
   {
    "duration": 33,
    "start_time": "2024-01-15T13:26:30.982Z"
   },
   {
    "duration": 26,
    "start_time": "2024-01-15T13:26:31.016Z"
   },
   {
    "duration": 16,
    "start_time": "2024-01-15T13:26:31.044Z"
   },
   {
    "duration": 39,
    "start_time": "2024-01-15T13:26:31.062Z"
   },
   {
    "duration": 13,
    "start_time": "2024-01-15T13:26:31.104Z"
   },
   {
    "duration": 29,
    "start_time": "2024-01-15T13:26:31.119Z"
   },
   {
    "duration": 23,
    "start_time": "2024-01-15T13:26:31.151Z"
   },
   {
    "duration": 25,
    "start_time": "2024-01-15T13:26:31.176Z"
   },
   {
    "duration": 13,
    "start_time": "2024-01-15T13:26:31.203Z"
   },
   {
    "duration": 41,
    "start_time": "2024-01-15T13:26:31.217Z"
   },
   {
    "duration": 19,
    "start_time": "2024-01-15T13:26:31.260Z"
   },
   {
    "duration": 20,
    "start_time": "2024-01-15T13:26:31.281Z"
   },
   {
    "duration": 13,
    "start_time": "2024-01-15T13:26:31.302Z"
   },
   {
    "duration": 573,
    "start_time": "2024-01-28T16:24:08.828Z"
   },
   {
    "duration": 25,
    "start_time": "2024-01-28T16:24:09.405Z"
   },
   {
    "duration": 43,
    "start_time": "2024-01-28T16:24:09.433Z"
   },
   {
    "duration": 11,
    "start_time": "2024-01-28T16:24:09.478Z"
   },
   {
    "duration": 49,
    "start_time": "2024-01-28T16:24:09.491Z"
   },
   {
    "duration": 3,
    "start_time": "2024-01-28T16:24:09.542Z"
   },
   {
    "duration": 28,
    "start_time": "2024-01-28T16:24:09.546Z"
   },
   {
    "duration": 5,
    "start_time": "2024-01-28T16:24:09.575Z"
   },
   {
    "duration": 6,
    "start_time": "2024-01-28T16:24:09.582Z"
   },
   {
    "duration": 10,
    "start_time": "2024-01-28T16:24:09.592Z"
   },
   {
    "duration": 52,
    "start_time": "2024-01-28T16:24:09.604Z"
   },
   {
    "duration": 12,
    "start_time": "2024-01-28T16:24:09.657Z"
   },
   {
    "duration": 23,
    "start_time": "2024-01-28T16:24:09.671Z"
   },
   {
    "duration": 23,
    "start_time": "2024-01-28T16:24:09.696Z"
   },
   {
    "duration": 28,
    "start_time": "2024-01-28T16:24:09.721Z"
   },
   {
    "duration": 20,
    "start_time": "2024-01-28T16:24:09.750Z"
   },
   {
    "duration": 4,
    "start_time": "2024-01-28T16:24:09.772Z"
   },
   {
    "duration": 17,
    "start_time": "2024-01-28T16:24:09.798Z"
   },
   {
    "duration": 14,
    "start_time": "2024-01-28T16:24:09.817Z"
   },
   {
    "duration": 4,
    "start_time": "2024-01-28T16:24:09.833Z"
   },
   {
    "duration": 25,
    "start_time": "2024-01-28T16:24:09.839Z"
   },
   {
    "duration": 35,
    "start_time": "2024-01-28T16:24:09.866Z"
   },
   {
    "duration": 22,
    "start_time": "2024-01-28T16:24:09.905Z"
   },
   {
    "duration": 16,
    "start_time": "2024-01-28T16:24:09.929Z"
   },
   {
    "duration": 50,
    "start_time": "2024-01-28T16:24:09.946Z"
   },
   {
    "duration": 17,
    "start_time": "2024-01-28T16:24:09.998Z"
   },
   {
    "duration": 39,
    "start_time": "2024-01-28T16:24:10.017Z"
   },
   {
    "duration": 18,
    "start_time": "2024-01-28T16:24:10.059Z"
   },
   {
    "duration": 30,
    "start_time": "2024-01-28T16:24:10.079Z"
   },
   {
    "duration": 13,
    "start_time": "2024-01-28T16:24:10.111Z"
   },
   {
    "duration": 22,
    "start_time": "2024-01-28T16:24:10.125Z"
   },
   {
    "duration": 15,
    "start_time": "2024-01-28T16:24:10.149Z"
   },
   {
    "duration": 41,
    "start_time": "2024-01-28T16:24:10.166Z"
   },
   {
    "duration": 13,
    "start_time": "2024-01-28T16:24:10.209Z"
   }
  ],
  "colab": {
   "provenance": []
  },
  "kernelspec": {
   "display_name": "Python 3 (ipykernel)",
   "language": "python",
   "name": "python3"
  },
  "language_info": {
   "codemirror_mode": {
    "name": "ipython",
    "version": 3
   },
   "file_extension": ".py",
   "mimetype": "text/x-python",
   "name": "python",
   "nbconvert_exporter": "python",
   "pygments_lexer": "ipython3",
   "version": "3.11.7"
  },
  "toc": {
   "base_numbering": 1,
   "nav_menu": {},
   "number_sections": true,
   "sideBar": true,
   "skip_h1_title": true,
   "title_cell": "Table of Contents",
   "title_sidebar": "Contents",
   "toc_cell": false,
   "toc_position": {},
   "toc_section_display": true,
   "toc_window_display": true
  }
 },
 "nbformat": 4,
 "nbformat_minor": 5
}
