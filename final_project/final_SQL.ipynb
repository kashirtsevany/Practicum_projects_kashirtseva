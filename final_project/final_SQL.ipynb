{
 "cells": [
  {
   "cell_type": "markdown",
   "metadata": {},
   "source": [
    "**Финальный проект**\n",
    "\n",
    "**Задания по SQL**\n",
    "_____\n",
    "**Описание исследования.**\n",
    "    Исследование приложения для чтения книг по подписке. \n",
    "_____\n",
    "**Цель исследования.**\n",
    "    Провести исследование данных о книжном сервисе с целью сформулировать ценностное предложение для нового продукта.\n",
    "   \n",
    "_____\n",
    "**Задачи исследования.**\n",
    "\n",
    "    Необходимо провести исследования базы данных, вывести и проанализировать информацию о книгах, издательствах,авторах и пользовательских обзоров.\n",
    "_____\n",
    "**Исходные данные.**\n",
    "\n",
    "Таблица books\n",
    "    Содержит данные о книгах:\n",
    "    book_id — идентификатор книги;\n",
    "    autor_id — идентификатор автора;\n",
    "    title - название книги;\n",
    "    num_pages - количество страниц;\n",
    "    publication_date — дата публикации книги;\n",
    "    publisher_id — идентификатор издателя.\n",
    "    \n",
    "    Таблица authors\n",
    "    Содержит данные об авторах:\n",
    "    author_id - идентификатор автора;\n",
    "    author —\tимя автора.\n",
    "\n",
    "    Таблица publishers\n",
    "    Содержит данные об издательствах:\n",
    "    publisher_id —\tидентификатор издательства;\n",
    "    publisher —\tназвание издательства;\n",
    "\n",
    "    Таблица raitings\n",
    "    Содержит данные о пользовательских оценках книг:\n",
    "    raiting_id —\tидентификатор оценки;\n",
    "    book_id — идентификатор книги;\n",
    "    username — имя пользователя, оставившего оценку;\n",
    "    raiting — оценка книги.\n",
    " \n",
    "    Таблица reviews\n",
    "    Содержит данные о пользовательских обзорах на книги:\n",
    "    review_id — идентификатор обзора;\n",
    "    book_id — идентификатор книги;\n",
    "    username — имя пользователя, написавшего обзор;\n",
    "    text — текст обзора.\n",
    "\n",
    "\n",
    "**Содержание работы**\n",
    "\n",
    "**[Часть 1. Загрузка и изучение данных.](#1-bullet)**\n",
    "\n",
    "**Часть 2. Задачи**\n",
    "* [1. Посчитайте, сколько книг вышло после 1 января 2000 года.](#2-bullet)\n",
    "* [2. Для каждой книги посчитайте количество обзоров и среднюю оценку.](#3-bullet)\n",
    "* [3. Определите издательство, которое выпустило наибольшее число книг толще 50 страниц.](#4-bullet)\n",
    "* [4. Определите автора с самой высокой средней оценкой книг — учитывайте только книги с 50 и более оценками.](#5-bullet)\n",
    "* [5. Посчитайте среднее количество обзоров от пользователей, которые поставили больше 48 оценок.](#6-bullet)\n",
    "\n",
    " **[Часть 3. Вывод](#7-bullet)**"
   ]
  },
  {
   "cell_type": "code",
   "execution_count": 1,
   "metadata": {},
   "outputs": [
    {
     "name": "stdout",
     "output_type": "stream",
     "text": [
      "Requirement already satisfied: psycopg2-binary in /opt/conda/lib/python3.9/site-packages (2.9.2)\r\n"
     ]
    }
   ],
   "source": [
    "!pip install psycopg2-binary"
   ]
  },
  {
   "cell_type": "code",
   "execution_count": 2,
   "metadata": {},
   "outputs": [],
   "source": [
    "# импортируем библиотеки\n",
    "import pandas as pd\n",
    "import sqlalchemy as sa"
   ]
  },
  {
   "cell_type": "markdown",
   "metadata": {},
   "source": [
    "<a id = '1-bullet'></a>\n",
    "### Часть 1. Загрузка и изучение данных."
   ]
  },
  {
   "cell_type": "code",
   "execution_count": 3,
   "metadata": {},
   "outputs": [],
   "source": [
    "# устанавливаем параметры\n",
    "db_config = {\n",
    "            'user': 'praktikum_student', # имя пользователя\n",
    "            'pwd': 'Sdf4$2;d-d30pp', # пароль\n",
    "            'host': 'rc1b-wcoijxj3yxfsf3fs.mdb.yandexcloud.net',\n",
    "            'port': 6432, # порт подключения\n",
    "            'db': 'data-analyst-final-project-db' # название базы данных\n",
    "            }\n",
    "connection_string = 'postgresql://{user}:{pwd}@{host}:{port}/{db}'.format(**db_config)\n",
    "\n",
    "# сохраняем коннектор\n",
    "engine = sa.create_engine(connection_string, connect_args={'sslmode':'require'})\n",
    "\n",
    "# чтобы выполнить SQL-запрос, пишем функцию с использованием Pandas\n",
    "def get_sql_data(query:str, engine:sa.engine.base.Engine=engine) -> pd.DataFrame:\n",
    "    with engine.connect() as con:\n",
    "        return pd.read_sql(sql=sa.text(query), con = con)\n"
   ]
  },
  {
   "cell_type": "code",
   "execution_count": 4,
   "metadata": {},
   "outputs": [
    {
     "data": {
      "text/html": [
       "<div>\n",
       "<style scoped>\n",
       "    .dataframe tbody tr th:only-of-type {\n",
       "        vertical-align: middle;\n",
       "    }\n",
       "\n",
       "    .dataframe tbody tr th {\n",
       "        vertical-align: top;\n",
       "    }\n",
       "\n",
       "    .dataframe thead th {\n",
       "        text-align: right;\n",
       "    }\n",
       "</style>\n",
       "<table border=\"1\" class=\"dataframe\">\n",
       "  <thead>\n",
       "    <tr style=\"text-align: right;\">\n",
       "      <th></th>\n",
       "      <th>book_id</th>\n",
       "      <th>author_id</th>\n",
       "      <th>title</th>\n",
       "      <th>num_pages</th>\n",
       "      <th>publication_date</th>\n",
       "      <th>publisher_id</th>\n",
       "    </tr>\n",
       "  </thead>\n",
       "  <tbody>\n",
       "    <tr>\n",
       "      <th>0</th>\n",
       "      <td>1</td>\n",
       "      <td>546</td>\n",
       "      <td>'Salem's Lot</td>\n",
       "      <td>594</td>\n",
       "      <td>2005-11-01</td>\n",
       "      <td>93</td>\n",
       "    </tr>\n",
       "    <tr>\n",
       "      <th>1</th>\n",
       "      <td>2</td>\n",
       "      <td>465</td>\n",
       "      <td>1 000 Places to See Before You Die</td>\n",
       "      <td>992</td>\n",
       "      <td>2003-05-22</td>\n",
       "      <td>336</td>\n",
       "    </tr>\n",
       "    <tr>\n",
       "      <th>2</th>\n",
       "      <td>3</td>\n",
       "      <td>407</td>\n",
       "      <td>13 Little Blue Envelopes (Little Blue Envelope...</td>\n",
       "      <td>322</td>\n",
       "      <td>2010-12-21</td>\n",
       "      <td>135</td>\n",
       "    </tr>\n",
       "    <tr>\n",
       "      <th>3</th>\n",
       "      <td>4</td>\n",
       "      <td>82</td>\n",
       "      <td>1491: New Revelations of the Americas Before C...</td>\n",
       "      <td>541</td>\n",
       "      <td>2006-10-10</td>\n",
       "      <td>309</td>\n",
       "    </tr>\n",
       "    <tr>\n",
       "      <th>4</th>\n",
       "      <td>5</td>\n",
       "      <td>125</td>\n",
       "      <td>1776</td>\n",
       "      <td>386</td>\n",
       "      <td>2006-07-04</td>\n",
       "      <td>268</td>\n",
       "    </tr>\n",
       "  </tbody>\n",
       "</table>\n",
       "</div>"
      ],
      "text/plain": [
       "   book_id  author_id                                              title  \\\n",
       "0        1        546                                       'Salem's Lot   \n",
       "1        2        465                 1 000 Places to See Before You Die   \n",
       "2        3        407  13 Little Blue Envelopes (Little Blue Envelope...   \n",
       "3        4         82  1491: New Revelations of the Americas Before C...   \n",
       "4        5        125                                               1776   \n",
       "\n",
       "   num_pages publication_date  publisher_id  \n",
       "0        594       2005-11-01            93  \n",
       "1        992       2003-05-22           336  \n",
       "2        322       2010-12-21           135  \n",
       "3        541       2006-10-10           309  \n",
       "4        386       2006-07-04           268  "
      ]
     },
     "execution_count": 4,
     "metadata": {},
     "output_type": "execute_result"
    }
   ],
   "source": [
    "# формируем запрос и выводим данные по таблице о книгах\n",
    "query = '''SELECT * \n",
    "           FROM books \n",
    "           LIMIT 5'''\n",
    "\n",
    "get_sql_data(query)"
   ]
  },
  {
   "cell_type": "code",
   "execution_count": 5,
   "metadata": {},
   "outputs": [
    {
     "data": {
      "text/html": [
       "<div>\n",
       "<style scoped>\n",
       "    .dataframe tbody tr th:only-of-type {\n",
       "        vertical-align: middle;\n",
       "    }\n",
       "\n",
       "    .dataframe tbody tr th {\n",
       "        vertical-align: top;\n",
       "    }\n",
       "\n",
       "    .dataframe thead th {\n",
       "        text-align: right;\n",
       "    }\n",
       "</style>\n",
       "<table border=\"1\" class=\"dataframe\">\n",
       "  <thead>\n",
       "    <tr style=\"text-align: right;\">\n",
       "      <th></th>\n",
       "      <th>count</th>\n",
       "    </tr>\n",
       "  </thead>\n",
       "  <tbody>\n",
       "    <tr>\n",
       "      <th>0</th>\n",
       "      <td>1000</td>\n",
       "    </tr>\n",
       "  </tbody>\n",
       "</table>\n",
       "</div>"
      ],
      "text/plain": [
       "   count\n",
       "0   1000"
      ]
     },
     "execution_count": 5,
     "metadata": {},
     "output_type": "execute_result"
    }
   ],
   "source": [
    "# выводим количество записей в таблице о книгах\n",
    "query = '''SELECT  COUNT(*)\n",
    "           FROM books '''\n",
    "\n",
    "get_sql_data(query)"
   ]
  },
  {
   "cell_type": "code",
   "execution_count": 6,
   "metadata": {},
   "outputs": [
    {
     "data": {
      "text/html": [
       "<div>\n",
       "<style scoped>\n",
       "    .dataframe tbody tr th:only-of-type {\n",
       "        vertical-align: middle;\n",
       "    }\n",
       "\n",
       "    .dataframe tbody tr th {\n",
       "        vertical-align: top;\n",
       "    }\n",
       "\n",
       "    .dataframe thead th {\n",
       "        text-align: right;\n",
       "    }\n",
       "</style>\n",
       "<table border=\"1\" class=\"dataframe\">\n",
       "  <thead>\n",
       "    <tr style=\"text-align: right;\">\n",
       "      <th></th>\n",
       "      <th>publisher_id</th>\n",
       "      <th>publisher</th>\n",
       "    </tr>\n",
       "  </thead>\n",
       "  <tbody>\n",
       "    <tr>\n",
       "      <th>0</th>\n",
       "      <td>1</td>\n",
       "      <td>Ace</td>\n",
       "    </tr>\n",
       "    <tr>\n",
       "      <th>1</th>\n",
       "      <td>2</td>\n",
       "      <td>Ace Book</td>\n",
       "    </tr>\n",
       "    <tr>\n",
       "      <th>2</th>\n",
       "      <td>3</td>\n",
       "      <td>Ace Books</td>\n",
       "    </tr>\n",
       "    <tr>\n",
       "      <th>3</th>\n",
       "      <td>4</td>\n",
       "      <td>Ace Hardcover</td>\n",
       "    </tr>\n",
       "    <tr>\n",
       "      <th>4</th>\n",
       "      <td>5</td>\n",
       "      <td>Addison Wesley Publishing Company</td>\n",
       "    </tr>\n",
       "  </tbody>\n",
       "</table>\n",
       "</div>"
      ],
      "text/plain": [
       "   publisher_id                          publisher\n",
       "0             1                                Ace\n",
       "1             2                           Ace Book\n",
       "2             3                          Ace Books\n",
       "3             4                      Ace Hardcover\n",
       "4             5  Addison Wesley Publishing Company"
      ]
     },
     "execution_count": 6,
     "metadata": {},
     "output_type": "execute_result"
    }
   ],
   "source": [
    "# выводим данные по таблице о издательствах\n",
    "query = '''SELECT * \n",
    "           FROM publishers \n",
    "           LIMIT 5'''\n",
    "\n",
    "get_sql_data(query)"
   ]
  },
  {
   "cell_type": "code",
   "execution_count": 7,
   "metadata": {},
   "outputs": [
    {
     "data": {
      "text/html": [
       "<div>\n",
       "<style scoped>\n",
       "    .dataframe tbody tr th:only-of-type {\n",
       "        vertical-align: middle;\n",
       "    }\n",
       "\n",
       "    .dataframe tbody tr th {\n",
       "        vertical-align: top;\n",
       "    }\n",
       "\n",
       "    .dataframe thead th {\n",
       "        text-align: right;\n",
       "    }\n",
       "</style>\n",
       "<table border=\"1\" class=\"dataframe\">\n",
       "  <thead>\n",
       "    <tr style=\"text-align: right;\">\n",
       "      <th></th>\n",
       "      <th>count</th>\n",
       "    </tr>\n",
       "  </thead>\n",
       "  <tbody>\n",
       "    <tr>\n",
       "      <th>0</th>\n",
       "      <td>340</td>\n",
       "    </tr>\n",
       "  </tbody>\n",
       "</table>\n",
       "</div>"
      ],
      "text/plain": [
       "   count\n",
       "0    340"
      ]
     },
     "execution_count": 7,
     "metadata": {},
     "output_type": "execute_result"
    }
   ],
   "source": [
    "# выводим количество записей в таблице о издательствах\n",
    "query = '''SELECT COUNT(*) \n",
    "           FROM publishers '''\n",
    "\n",
    "get_sql_data(query)"
   ]
  },
  {
   "cell_type": "code",
   "execution_count": 8,
   "metadata": {},
   "outputs": [
    {
     "data": {
      "text/html": [
       "<div>\n",
       "<style scoped>\n",
       "    .dataframe tbody tr th:only-of-type {\n",
       "        vertical-align: middle;\n",
       "    }\n",
       "\n",
       "    .dataframe tbody tr th {\n",
       "        vertical-align: top;\n",
       "    }\n",
       "\n",
       "    .dataframe thead th {\n",
       "        text-align: right;\n",
       "    }\n",
       "</style>\n",
       "<table border=\"1\" class=\"dataframe\">\n",
       "  <thead>\n",
       "    <tr style=\"text-align: right;\">\n",
       "      <th></th>\n",
       "      <th>author_id</th>\n",
       "      <th>author</th>\n",
       "    </tr>\n",
       "  </thead>\n",
       "  <tbody>\n",
       "    <tr>\n",
       "      <th>0</th>\n",
       "      <td>1</td>\n",
       "      <td>A.S. Byatt</td>\n",
       "    </tr>\n",
       "    <tr>\n",
       "      <th>1</th>\n",
       "      <td>2</td>\n",
       "      <td>Aesop/Laura Harris/Laura Gibbs</td>\n",
       "    </tr>\n",
       "    <tr>\n",
       "      <th>2</th>\n",
       "      <td>3</td>\n",
       "      <td>Agatha Christie</td>\n",
       "    </tr>\n",
       "    <tr>\n",
       "      <th>3</th>\n",
       "      <td>4</td>\n",
       "      <td>Alan Brennert</td>\n",
       "    </tr>\n",
       "    <tr>\n",
       "      <th>4</th>\n",
       "      <td>5</td>\n",
       "      <td>Alan Moore/David   Lloyd</td>\n",
       "    </tr>\n",
       "  </tbody>\n",
       "</table>\n",
       "</div>"
      ],
      "text/plain": [
       "   author_id                          author\n",
       "0          1                      A.S. Byatt\n",
       "1          2  Aesop/Laura Harris/Laura Gibbs\n",
       "2          3                 Agatha Christie\n",
       "3          4                   Alan Brennert\n",
       "4          5        Alan Moore/David   Lloyd"
      ]
     },
     "execution_count": 8,
     "metadata": {},
     "output_type": "execute_result"
    }
   ],
   "source": [
    "# формируем запрос и выводим данные по таблице об авторах\n",
    "query = '''SELECT * \n",
    "           FROM authors \n",
    "           LIMIT 5'''\n",
    "\n",
    "get_sql_data(query)"
   ]
  },
  {
   "cell_type": "code",
   "execution_count": 9,
   "metadata": {},
   "outputs": [
    {
     "data": {
      "text/html": [
       "<div>\n",
       "<style scoped>\n",
       "    .dataframe tbody tr th:only-of-type {\n",
       "        vertical-align: middle;\n",
       "    }\n",
       "\n",
       "    .dataframe tbody tr th {\n",
       "        vertical-align: top;\n",
       "    }\n",
       "\n",
       "    .dataframe thead th {\n",
       "        text-align: right;\n",
       "    }\n",
       "</style>\n",
       "<table border=\"1\" class=\"dataframe\">\n",
       "  <thead>\n",
       "    <tr style=\"text-align: right;\">\n",
       "      <th></th>\n",
       "      <th>count</th>\n",
       "    </tr>\n",
       "  </thead>\n",
       "  <tbody>\n",
       "    <tr>\n",
       "      <th>0</th>\n",
       "      <td>636</td>\n",
       "    </tr>\n",
       "  </tbody>\n",
       "</table>\n",
       "</div>"
      ],
      "text/plain": [
       "   count\n",
       "0    636"
      ]
     },
     "execution_count": 9,
     "metadata": {},
     "output_type": "execute_result"
    }
   ],
   "source": [
    "# выводим количество записей в таблице об авторах\n",
    "query = '''SELECT  COUNT(*)\n",
    "           FROM authors '''\n",
    "\n",
    "get_sql_data(query)"
   ]
  },
  {
   "cell_type": "code",
   "execution_count": 10,
   "metadata": {},
   "outputs": [
    {
     "data": {
      "text/html": [
       "<div>\n",
       "<style scoped>\n",
       "    .dataframe tbody tr th:only-of-type {\n",
       "        vertical-align: middle;\n",
       "    }\n",
       "\n",
       "    .dataframe tbody tr th {\n",
       "        vertical-align: top;\n",
       "    }\n",
       "\n",
       "    .dataframe thead th {\n",
       "        text-align: right;\n",
       "    }\n",
       "</style>\n",
       "<table border=\"1\" class=\"dataframe\">\n",
       "  <thead>\n",
       "    <tr style=\"text-align: right;\">\n",
       "      <th></th>\n",
       "      <th>rating_id</th>\n",
       "      <th>book_id</th>\n",
       "      <th>username</th>\n",
       "      <th>rating</th>\n",
       "    </tr>\n",
       "  </thead>\n",
       "  <tbody>\n",
       "    <tr>\n",
       "      <th>0</th>\n",
       "      <td>1</td>\n",
       "      <td>1</td>\n",
       "      <td>ryanfranco</td>\n",
       "      <td>4</td>\n",
       "    </tr>\n",
       "    <tr>\n",
       "      <th>1</th>\n",
       "      <td>2</td>\n",
       "      <td>1</td>\n",
       "      <td>grantpatricia</td>\n",
       "      <td>2</td>\n",
       "    </tr>\n",
       "    <tr>\n",
       "      <th>2</th>\n",
       "      <td>3</td>\n",
       "      <td>1</td>\n",
       "      <td>brandtandrea</td>\n",
       "      <td>5</td>\n",
       "    </tr>\n",
       "    <tr>\n",
       "      <th>3</th>\n",
       "      <td>4</td>\n",
       "      <td>2</td>\n",
       "      <td>lorichen</td>\n",
       "      <td>3</td>\n",
       "    </tr>\n",
       "    <tr>\n",
       "      <th>4</th>\n",
       "      <td>5</td>\n",
       "      <td>2</td>\n",
       "      <td>mariokeller</td>\n",
       "      <td>2</td>\n",
       "    </tr>\n",
       "  </tbody>\n",
       "</table>\n",
       "</div>"
      ],
      "text/plain": [
       "   rating_id  book_id       username  rating\n",
       "0          1        1     ryanfranco       4\n",
       "1          2        1  grantpatricia       2\n",
       "2          3        1   brandtandrea       5\n",
       "3          4        2       lorichen       3\n",
       "4          5        2    mariokeller       2"
      ]
     },
     "execution_count": 10,
     "metadata": {},
     "output_type": "execute_result"
    }
   ],
   "source": [
    "# выводим данные по таблице о рейтингах\n",
    "query = '''SELECT * \n",
    "           FROM ratings \n",
    "           LIMIT 5'''\n",
    "\n",
    "get_sql_data(query)"
   ]
  },
  {
   "cell_type": "code",
   "execution_count": 11,
   "metadata": {},
   "outputs": [
    {
     "data": {
      "text/html": [
       "<div>\n",
       "<style scoped>\n",
       "    .dataframe tbody tr th:only-of-type {\n",
       "        vertical-align: middle;\n",
       "    }\n",
       "\n",
       "    .dataframe tbody tr th {\n",
       "        vertical-align: top;\n",
       "    }\n",
       "\n",
       "    .dataframe thead th {\n",
       "        text-align: right;\n",
       "    }\n",
       "</style>\n",
       "<table border=\"1\" class=\"dataframe\">\n",
       "  <thead>\n",
       "    <tr style=\"text-align: right;\">\n",
       "      <th></th>\n",
       "      <th>count</th>\n",
       "    </tr>\n",
       "  </thead>\n",
       "  <tbody>\n",
       "    <tr>\n",
       "      <th>0</th>\n",
       "      <td>6456</td>\n",
       "    </tr>\n",
       "  </tbody>\n",
       "</table>\n",
       "</div>"
      ],
      "text/plain": [
       "   count\n",
       "0   6456"
      ]
     },
     "execution_count": 11,
     "metadata": {},
     "output_type": "execute_result"
    }
   ],
   "source": [
    "# выводим количество записей в таблице о рейтингах\n",
    "query = '''SELECT  COUNT(*)\n",
    "           FROM ratings '''\n",
    "\n",
    "get_sql_data(query)"
   ]
  },
  {
   "cell_type": "code",
   "execution_count": 12,
   "metadata": {},
   "outputs": [
    {
     "data": {
      "text/html": [
       "<div>\n",
       "<style scoped>\n",
       "    .dataframe tbody tr th:only-of-type {\n",
       "        vertical-align: middle;\n",
       "    }\n",
       "\n",
       "    .dataframe tbody tr th {\n",
       "        vertical-align: top;\n",
       "    }\n",
       "\n",
       "    .dataframe thead th {\n",
       "        text-align: right;\n",
       "    }\n",
       "</style>\n",
       "<table border=\"1\" class=\"dataframe\">\n",
       "  <thead>\n",
       "    <tr style=\"text-align: right;\">\n",
       "      <th></th>\n",
       "      <th>review_id</th>\n",
       "      <th>book_id</th>\n",
       "      <th>username</th>\n",
       "      <th>text</th>\n",
       "    </tr>\n",
       "  </thead>\n",
       "  <tbody>\n",
       "    <tr>\n",
       "      <th>0</th>\n",
       "      <td>1</td>\n",
       "      <td>1</td>\n",
       "      <td>brandtandrea</td>\n",
       "      <td>Mention society tell send professor analysis. ...</td>\n",
       "    </tr>\n",
       "    <tr>\n",
       "      <th>1</th>\n",
       "      <td>2</td>\n",
       "      <td>1</td>\n",
       "      <td>ryanfranco</td>\n",
       "      <td>Foot glass pretty audience hit themselves. Amo...</td>\n",
       "    </tr>\n",
       "    <tr>\n",
       "      <th>2</th>\n",
       "      <td>3</td>\n",
       "      <td>2</td>\n",
       "      <td>lorichen</td>\n",
       "      <td>Listen treat keep worry. Miss husband tax but ...</td>\n",
       "    </tr>\n",
       "    <tr>\n",
       "      <th>3</th>\n",
       "      <td>4</td>\n",
       "      <td>3</td>\n",
       "      <td>johnsonamanda</td>\n",
       "      <td>Finally month interesting blue could nature cu...</td>\n",
       "    </tr>\n",
       "    <tr>\n",
       "      <th>4</th>\n",
       "      <td>5</td>\n",
       "      <td>3</td>\n",
       "      <td>scotttamara</td>\n",
       "      <td>Nation purpose heavy give wait song will. List...</td>\n",
       "    </tr>\n",
       "  </tbody>\n",
       "</table>\n",
       "</div>"
      ],
      "text/plain": [
       "   review_id  book_id       username  \\\n",
       "0          1        1   brandtandrea   \n",
       "1          2        1     ryanfranco   \n",
       "2          3        2       lorichen   \n",
       "3          4        3  johnsonamanda   \n",
       "4          5        3    scotttamara   \n",
       "\n",
       "                                                text  \n",
       "0  Mention society tell send professor analysis. ...  \n",
       "1  Foot glass pretty audience hit themselves. Amo...  \n",
       "2  Listen treat keep worry. Miss husband tax but ...  \n",
       "3  Finally month interesting blue could nature cu...  \n",
       "4  Nation purpose heavy give wait song will. List...  "
      ]
     },
     "execution_count": 12,
     "metadata": {},
     "output_type": "execute_result"
    }
   ],
   "source": [
    "# выводим данные по таблице об обзорах на книги\n",
    "query = '''SELECT * \n",
    "           FROM reviews \n",
    "           LIMIT 5'''\n",
    "\n",
    "get_sql_data(query)"
   ]
  },
  {
   "cell_type": "code",
   "execution_count": 13,
   "metadata": {},
   "outputs": [
    {
     "data": {
      "text/html": [
       "<div>\n",
       "<style scoped>\n",
       "    .dataframe tbody tr th:only-of-type {\n",
       "        vertical-align: middle;\n",
       "    }\n",
       "\n",
       "    .dataframe tbody tr th {\n",
       "        vertical-align: top;\n",
       "    }\n",
       "\n",
       "    .dataframe thead th {\n",
       "        text-align: right;\n",
       "    }\n",
       "</style>\n",
       "<table border=\"1\" class=\"dataframe\">\n",
       "  <thead>\n",
       "    <tr style=\"text-align: right;\">\n",
       "      <th></th>\n",
       "      <th>count</th>\n",
       "    </tr>\n",
       "  </thead>\n",
       "  <tbody>\n",
       "    <tr>\n",
       "      <th>0</th>\n",
       "      <td>2793</td>\n",
       "    </tr>\n",
       "  </tbody>\n",
       "</table>\n",
       "</div>"
      ],
      "text/plain": [
       "   count\n",
       "0   2793"
      ]
     },
     "execution_count": 13,
     "metadata": {},
     "output_type": "execute_result"
    }
   ],
   "source": [
    "# выводим количество записей в таблице об обзорах на книги\n",
    "query = '''SELECT  COUNT(*)\n",
    "           FROM reviews '''\n",
    "\n",
    "get_sql_data(query)"
   ]
  },
  {
   "cell_type": "markdown",
   "metadata": {},
   "source": [
    "В данных имеем 5 таблиц. Таблица с книгами содержит 1000 записей. Таблица с авторами содержит 636 записей. Таблица с издательствами содержит 340  записей. Количество записей в таблице с рейтингами по книгам 6456. Количество записей в таблице отзывов на книги 2793."
   ]
  },
  {
   "cell_type": "markdown",
   "metadata": {},
   "source": [
    "### Часть 2. Задачи"
   ]
  },
  {
   "cell_type": "markdown",
   "metadata": {},
   "source": [
    "<a id = '2-bullet'></a>\n",
    "#### Посчитайте, сколько книг вышло после 1 января 2000 года."
   ]
  },
  {
   "cell_type": "code",
   "execution_count": 14,
   "metadata": {},
   "outputs": [
    {
     "data": {
      "text/html": [
       "<div>\n",
       "<style scoped>\n",
       "    .dataframe tbody tr th:only-of-type {\n",
       "        vertical-align: middle;\n",
       "    }\n",
       "\n",
       "    .dataframe tbody tr th {\n",
       "        vertical-align: top;\n",
       "    }\n",
       "\n",
       "    .dataframe thead th {\n",
       "        text-align: right;\n",
       "    }\n",
       "</style>\n",
       "<table border=\"1\" class=\"dataframe\">\n",
       "  <thead>\n",
       "    <tr style=\"text-align: right;\">\n",
       "      <th></th>\n",
       "      <th>count</th>\n",
       "    </tr>\n",
       "  </thead>\n",
       "  <tbody>\n",
       "    <tr>\n",
       "      <th>0</th>\n",
       "      <td>819</td>\n",
       "    </tr>\n",
       "  </tbody>\n",
       "</table>\n",
       "</div>"
      ],
      "text/plain": [
       "   count\n",
       "0    819"
      ]
     },
     "execution_count": 14,
     "metadata": {},
     "output_type": "execute_result"
    }
   ],
   "source": [
    "query = '''SELECT  COUNT(book_id)\n",
    "           FROM books\n",
    "           WHERE CAST(publication_date AS date) > '2000-01-01' '''\n",
    "\n",
    "get_sql_data(query)"
   ]
  },
  {
   "cell_type": "markdown",
   "metadata": {},
   "source": [
    "Общее количество книг вышедшее после 1 января 2000 (без учета 1 января 2000) составляет 819 книг."
   ]
  },
  {
   "cell_type": "markdown",
   "metadata": {},
   "source": [
    "<a id = '3-bullet'></a>\n",
    "#### Для каждой книги посчитайте количество обзоров и среднюю оценку."
   ]
  },
  {
   "cell_type": "code",
   "execution_count": 15,
   "metadata": {},
   "outputs": [
    {
     "data": {
      "text/html": [
       "<div>\n",
       "<style scoped>\n",
       "    .dataframe tbody tr th:only-of-type {\n",
       "        vertical-align: middle;\n",
       "    }\n",
       "\n",
       "    .dataframe tbody tr th {\n",
       "        vertical-align: top;\n",
       "    }\n",
       "\n",
       "    .dataframe thead th {\n",
       "        text-align: right;\n",
       "    }\n",
       "</style>\n",
       "<table border=\"1\" class=\"dataframe\">\n",
       "  <thead>\n",
       "    <tr style=\"text-align: right;\">\n",
       "      <th></th>\n",
       "      <th>title</th>\n",
       "      <th>count_reviews</th>\n",
       "      <th>average_rating</th>\n",
       "    </tr>\n",
       "  </thead>\n",
       "  <tbody>\n",
       "    <tr>\n",
       "      <th>0</th>\n",
       "      <td>Twilight (Twilight  #1)</td>\n",
       "      <td>7</td>\n",
       "      <td>3.66</td>\n",
       "    </tr>\n",
       "    <tr>\n",
       "      <th>1</th>\n",
       "      <td>Outlander (Outlander  #1)</td>\n",
       "      <td>6</td>\n",
       "      <td>4.13</td>\n",
       "    </tr>\n",
       "    <tr>\n",
       "      <th>2</th>\n",
       "      <td>Eat  Pray  Love</td>\n",
       "      <td>6</td>\n",
       "      <td>3.40</td>\n",
       "    </tr>\n",
       "    <tr>\n",
       "      <th>3</th>\n",
       "      <td>Harry Potter and the Chamber of Secrets (Harry...</td>\n",
       "      <td>6</td>\n",
       "      <td>4.29</td>\n",
       "    </tr>\n",
       "    <tr>\n",
       "      <th>4</th>\n",
       "      <td>Harry Potter and the Prisoner of Azkaban (Harr...</td>\n",
       "      <td>6</td>\n",
       "      <td>4.41</td>\n",
       "    </tr>\n",
       "  </tbody>\n",
       "</table>\n",
       "</div>"
      ],
      "text/plain": [
       "                                               title  count_reviews  \\\n",
       "0                            Twilight (Twilight  #1)              7   \n",
       "1                          Outlander (Outlander  #1)              6   \n",
       "2                                    Eat  Pray  Love              6   \n",
       "3  Harry Potter and the Chamber of Secrets (Harry...              6   \n",
       "4  Harry Potter and the Prisoner of Azkaban (Harr...              6   \n",
       "\n",
       "   average_rating  \n",
       "0            3.66  \n",
       "1            4.13  \n",
       "2            3.40  \n",
       "3            4.29  \n",
       "4            4.41  "
      ]
     },
     "execution_count": 15,
     "metadata": {},
     "output_type": "execute_result"
    }
   ],
   "source": [
    "query = '''SELECT  b.title,\n",
    "                   COUNT(DISTINCT(rv.review_id)) AS count_reviews,\n",
    "                   ROUND(AVG(rt.rating), 2) AS average_rating\n",
    "           FROM books AS b LEFT JOIN ratings AS rt ON b.book_id=rt.book_id\n",
    "           LEFT JOIN reviews AS rv ON b.book_id=rv.book_id\n",
    "           GROUP BY b.book_id\n",
    "           ORDER BY count_reviews DESC\n",
    "           LIMIT 5 '''\n",
    "\n",
    "get_sql_data(query)"
   ]
  },
  {
   "cell_type": "markdown",
   "metadata": {},
   "source": [
    "Посчитали количество отзывов и средние оценки по книгам. Самое большое количество отзывов у книги Сумерки - 7 отзывов. "
   ]
  },
  {
   "cell_type": "markdown",
   "metadata": {},
   "source": [
    "<a id = '4-bullet'></a>\n",
    "#### Определите издательство, которое выпустило наибольшее число книг толще 50 страниц."
   ]
  },
  {
   "cell_type": "code",
   "execution_count": 16,
   "metadata": {},
   "outputs": [
    {
     "data": {
      "text/html": [
       "<div>\n",
       "<style scoped>\n",
       "    .dataframe tbody tr th:only-of-type {\n",
       "        vertical-align: middle;\n",
       "    }\n",
       "\n",
       "    .dataframe tbody tr th {\n",
       "        vertical-align: top;\n",
       "    }\n",
       "\n",
       "    .dataframe thead th {\n",
       "        text-align: right;\n",
       "    }\n",
       "</style>\n",
       "<table border=\"1\" class=\"dataframe\">\n",
       "  <thead>\n",
       "    <tr style=\"text-align: right;\">\n",
       "      <th></th>\n",
       "      <th>publisher</th>\n",
       "      <th>count</th>\n",
       "    </tr>\n",
       "  </thead>\n",
       "  <tbody>\n",
       "    <tr>\n",
       "      <th>0</th>\n",
       "      <td>Penguin Books</td>\n",
       "      <td>42</td>\n",
       "    </tr>\n",
       "  </tbody>\n",
       "</table>\n",
       "</div>"
      ],
      "text/plain": [
       "       publisher  count\n",
       "0  Penguin Books     42"
      ]
     },
     "execution_count": 16,
     "metadata": {},
     "output_type": "execute_result"
    }
   ],
   "source": [
    "query = '''SELECT p.publisher,\n",
    "                  COUNT(b.book_id)\n",
    "           FROM publishers AS p JOIN books AS b ON p.publisher_id=b.publisher_id\n",
    "           WHERE b.num_pages>50\n",
    "           GROUP BY p.publisher_id\n",
    "           ORDER BY COUNT(b.book_id) DESC\n",
    "           LIMIT 1 '''\n",
    "\n",
    "get_sql_data(query)"
   ]
  },
  {
   "cell_type": "markdown",
   "metadata": {},
   "source": [
    "Издательство выпустившее больше всего книг толще 50 страниц это Penguin Books, всего 42 книги."
   ]
  },
  {
   "cell_type": "markdown",
   "metadata": {},
   "source": [
    "<a id = '5-bullet'></a>\n",
    "#### Определите автора с самой высокой средней оценкой книг — учитывайте только книги с 50 и более оценками."
   ]
  },
  {
   "cell_type": "code",
   "execution_count": 18,
   "metadata": {},
   "outputs": [
    {
     "data": {
      "text/html": [
       "<div>\n",
       "<style scoped>\n",
       "    .dataframe tbody tr th:only-of-type {\n",
       "        vertical-align: middle;\n",
       "    }\n",
       "\n",
       "    .dataframe tbody tr th {\n",
       "        vertical-align: top;\n",
       "    }\n",
       "\n",
       "    .dataframe thead th {\n",
       "        text-align: right;\n",
       "    }\n",
       "</style>\n",
       "<table border=\"1\" class=\"dataframe\">\n",
       "  <thead>\n",
       "    <tr style=\"text-align: right;\">\n",
       "      <th></th>\n",
       "      <th>author</th>\n",
       "      <th>book_rating</th>\n",
       "    </tr>\n",
       "  </thead>\n",
       "  <tbody>\n",
       "    <tr>\n",
       "      <th>0</th>\n",
       "      <td>J.K. Rowling/Mary GrandPré</td>\n",
       "      <td>4.2871</td>\n",
       "    </tr>\n",
       "  </tbody>\n",
       "</table>\n",
       "</div>"
      ],
      "text/plain": [
       "                       author  book_rating\n",
       "0  J.K. Rowling/Mary GrandPré       4.2871"
      ]
     },
     "execution_count": 18,
     "metadata": {},
     "output_type": "execute_result"
    }
   ],
   "source": [
    "query = '''SELECT a.author,\n",
    "                  ROUND(AVG(r.rating), 4) AS book_rating\n",
    "            FROM books b JOIN authors a ON b.author_id=a.author_id\n",
    "            JOIN ratings r ON b.book_id=r.book_id\n",
    "            WHERE b.book_id IN (SELECT b.book_id\n",
    "                                FROM books AS b JOIN ratings AS rt ON b.book_id=rt.book_id\n",
    "                                GROUP BY b.book_id HAVING COUNT(rt.rating_id)>50)\n",
    "            GROUP BY a.author_id\n",
    "            ORDER BY book_rating DESC\n",
    "            LIMIT 1 '''\n",
    "\n",
    "get_sql_data(query)"
   ]
  },
  {
   "cell_type": "markdown",
   "metadata": {},
   "source": [
    "Автором с самой высокой средней оценкой книг является J.K. Rowling/Mary GrandPré."
   ]
  },
  {
   "cell_type": "markdown",
   "metadata": {},
   "source": [
    "<a id = '6-bullet'></a>\n",
    "####  Посчитайте среднее количество обзоров от пользователей, которые поставили больше 48 оценок."
   ]
  },
  {
   "cell_type": "code",
   "execution_count": 19,
   "metadata": {},
   "outputs": [
    {
     "data": {
      "text/html": [
       "<div>\n",
       "<style scoped>\n",
       "    .dataframe tbody tr th:only-of-type {\n",
       "        vertical-align: middle;\n",
       "    }\n",
       "\n",
       "    .dataframe tbody tr th {\n",
       "        vertical-align: top;\n",
       "    }\n",
       "\n",
       "    .dataframe thead th {\n",
       "        text-align: right;\n",
       "    }\n",
       "</style>\n",
       "<table border=\"1\" class=\"dataframe\">\n",
       "  <thead>\n",
       "    <tr style=\"text-align: right;\">\n",
       "      <th></th>\n",
       "      <th>avg_counts_review</th>\n",
       "    </tr>\n",
       "  </thead>\n",
       "  <tbody>\n",
       "    <tr>\n",
       "      <th>0</th>\n",
       "      <td>24.0</td>\n",
       "    </tr>\n",
       "  </tbody>\n",
       "</table>\n",
       "</div>"
      ],
      "text/plain": [
       "   avg_counts_review\n",
       "0               24.0"
      ]
     },
     "execution_count": 19,
     "metadata": {},
     "output_type": "execute_result"
    }
   ],
   "source": [
    "query = '''WITH counts AS (SELECT COUNT(review_id) OVER (PARTITION BY username) AS count_review\n",
    "                           FROM reviews\n",
    "                           WHERE username IN (SELECT username\n",
    "                                              FROM ratings \n",
    "                                              GROUP BY username\n",
    "                                              HAVING COUNT(rating_id)>48))\n",
    "           SELECT ROUND(AVG(count_review)) AS avg_counts_review\n",
    "           FROM counts '''\n",
    "\n",
    "get_sql_data(query)"
   ]
  },
  {
   "cell_type": "markdown",
   "metadata": {},
   "source": [
    "Среднее количество обзоров от пользователей, поставивших более 48 оценок составило 24 штуки."
   ]
  },
  {
   "cell_type": "markdown",
   "metadata": {},
   "source": [
    "<a id = '7-bullet'></a>\n",
    "### Выводы."
   ]
  },
  {
   "cell_type": "markdown",
   "metadata": {},
   "source": [
    "В ходе анализа имеющихся данных изучили 5 таблиц. Таблица с книгами содержит 1000 записей. Таблица с авторами содержит 636 записей. Таблица с издательствами содержит 340  записей. Количество записей в таблице с рейтингами по книгам 6456. Количество записей в таблице отзывов на книги 2793.\n",
    "Общее количество книг вышедшее после 1 января 2000 (без учета 1 января 2000) составляет 819 книг.\n",
    "Посчитали количество отзывов и средние оценки по книгам. Самое большое количество отзывов у книги Сумерки - 7 отзывов. \n",
    "Издательство выпустившее больше всего книг толще 50 страниц это Penguin Books, всего 42 книги.Автором с самой высокой средней оценкой книг является J.K. Rowling/Mary GrandPré.\n",
    "Среднее количество обзоров от пользователей, поставивших более 48 оценок составило 24 штуки."
   ]
  },
  {
   "cell_type": "code",
   "execution_count": null,
   "metadata": {},
   "outputs": [],
   "source": []
  },
  {
   "cell_type": "code",
   "execution_count": null,
   "metadata": {},
   "outputs": [],
   "source": []
  }
 ],
 "metadata": {
  "ExecuteTimeLog": [
   {
    "duration": 2663,
    "start_time": "2024-07-11T03:59:47.774Z"
   },
   {
    "duration": 498,
    "start_time": "2024-07-11T03:59:50.439Z"
   },
   {
    "duration": 64,
    "start_time": "2024-07-11T03:59:50.939Z"
   },
   {
    "duration": 7168,
    "start_time": "2024-07-11T03:59:55.489Z"
   },
   {
    "duration": 2400,
    "start_time": "2024-07-11T04:05:28.131Z"
   },
   {
    "duration": 3,
    "start_time": "2024-07-11T04:05:30.534Z"
   },
   {
    "duration": 7,
    "start_time": "2024-07-11T04:05:31.674Z"
   },
   {
    "duration": 283,
    "start_time": "2024-07-11T04:05:32.596Z"
   },
   {
    "duration": 52,
    "start_time": "2024-07-11T04:05:37.376Z"
   },
   {
    "duration": 57,
    "start_time": "2024-07-11T04:05:38.920Z"
   },
   {
    "duration": 54,
    "start_time": "2024-07-11T04:05:39.983Z"
   },
   {
    "duration": 53,
    "start_time": "2024-07-11T04:05:40.942Z"
   },
   {
    "duration": 51,
    "start_time": "2024-07-11T04:05:42.296Z"
   },
   {
    "duration": 55,
    "start_time": "2024-07-11T04:05:43.672Z"
   },
   {
    "duration": 52,
    "start_time": "2024-07-11T04:05:44.632Z"
   },
   {
    "duration": 54,
    "start_time": "2024-07-11T04:05:45.500Z"
   },
   {
    "duration": 52,
    "start_time": "2024-07-11T04:05:46.946Z"
   },
   {
    "duration": 52,
    "start_time": "2024-07-11T04:05:51.465Z"
   },
   {
    "duration": 64,
    "start_time": "2024-07-11T04:05:56.111Z"
   },
   {
    "duration": 54,
    "start_time": "2024-07-11T04:06:01.626Z"
   },
   {
    "duration": 57,
    "start_time": "2024-07-11T04:06:06.154Z"
   },
   {
    "duration": 91,
    "start_time": "2024-07-11T04:06:10.588Z"
   },
   {
    "duration": 55,
    "start_time": "2024-07-11T04:06:20.350Z"
   },
   {
    "duration": 2405,
    "start_time": "2024-07-11T04:07:26.491Z"
   },
   {
    "duration": 546,
    "start_time": "2024-07-11T04:07:28.899Z"
   },
   {
    "duration": 7712,
    "start_time": "2024-07-11T04:07:29.446Z"
   },
   {
    "duration": 236,
    "start_time": "2024-07-11T04:07:37.159Z"
   },
   {
    "duration": 49,
    "start_time": "2024-07-11T04:07:37.398Z"
   },
   {
    "duration": 55,
    "start_time": "2024-07-11T04:07:37.449Z"
   },
   {
    "duration": 49,
    "start_time": "2024-07-11T04:07:37.506Z"
   },
   {
    "duration": 51,
    "start_time": "2024-07-11T04:07:37.557Z"
   },
   {
    "duration": 57,
    "start_time": "2024-07-11T04:07:37.609Z"
   },
   {
    "duration": 51,
    "start_time": "2024-07-11T04:07:37.667Z"
   },
   {
    "duration": 50,
    "start_time": "2024-07-11T04:07:37.720Z"
   },
   {
    "duration": 51,
    "start_time": "2024-07-11T04:07:37.771Z"
   },
   {
    "duration": 50,
    "start_time": "2024-07-11T04:07:37.823Z"
   },
   {
    "duration": 49,
    "start_time": "2024-07-11T04:07:37.875Z"
   },
   {
    "duration": 69,
    "start_time": "2024-07-11T04:07:37.926Z"
   },
   {
    "duration": 50,
    "start_time": "2024-07-11T04:07:37.996Z"
   },
   {
    "duration": 54,
    "start_time": "2024-07-11T04:07:38.048Z"
   },
   {
    "duration": 52,
    "start_time": "2024-07-11T04:07:38.103Z"
   },
   {
    "duration": 2429,
    "start_time": "2024-07-11T04:08:22.707Z"
   },
   {
    "duration": 511,
    "start_time": "2024-07-11T04:08:25.139Z"
   },
   {
    "duration": 6886,
    "start_time": "2024-07-11T04:08:25.652Z"
   },
   {
    "duration": 242,
    "start_time": "2024-07-11T04:08:32.541Z"
   },
   {
    "duration": 51,
    "start_time": "2024-07-11T04:08:32.785Z"
   },
   {
    "duration": 53,
    "start_time": "2024-07-11T04:08:32.838Z"
   },
   {
    "duration": 53,
    "start_time": "2024-07-11T04:08:32.893Z"
   },
   {
    "duration": 54,
    "start_time": "2024-07-11T04:08:32.948Z"
   },
   {
    "duration": 54,
    "start_time": "2024-07-11T04:08:33.003Z"
   },
   {
    "duration": 54,
    "start_time": "2024-07-11T04:08:33.059Z"
   },
   {
    "duration": 52,
    "start_time": "2024-07-11T04:08:33.115Z"
   },
   {
    "duration": 55,
    "start_time": "2024-07-11T04:08:33.169Z"
   },
   {
    "duration": 53,
    "start_time": "2024-07-11T04:08:33.226Z"
   },
   {
    "duration": 53,
    "start_time": "2024-07-11T04:08:33.280Z"
   },
   {
    "duration": 65,
    "start_time": "2024-07-11T04:08:33.334Z"
   },
   {
    "duration": 55,
    "start_time": "2024-07-11T04:08:33.401Z"
   },
   {
    "duration": 57,
    "start_time": "2024-07-11T04:08:33.458Z"
   },
   {
    "duration": 58,
    "start_time": "2024-07-11T04:08:33.516Z"
   },
   {
    "duration": 2264,
    "start_time": "2024-07-11T18:29:20.523Z"
   },
   {
    "duration": 483,
    "start_time": "2024-07-11T18:29:22.788Z"
   },
   {
    "duration": 6932,
    "start_time": "2024-07-11T18:29:23.273Z"
   },
   {
    "duration": 246,
    "start_time": "2024-07-11T18:29:30.208Z"
   },
   {
    "duration": 51,
    "start_time": "2024-07-11T18:29:30.456Z"
   },
   {
    "duration": 51,
    "start_time": "2024-07-11T18:29:30.509Z"
   },
   {
    "duration": 51,
    "start_time": "2024-07-11T18:29:30.562Z"
   },
   {
    "duration": 93,
    "start_time": "2024-07-11T18:29:30.614Z"
   },
   {
    "duration": 52,
    "start_time": "2024-07-11T18:29:30.708Z"
   },
   {
    "duration": 61,
    "start_time": "2024-07-11T18:29:30.763Z"
   },
   {
    "duration": 88,
    "start_time": "2024-07-11T18:29:30.826Z"
   },
   {
    "duration": 83,
    "start_time": "2024-07-11T18:29:30.915Z"
   },
   {
    "duration": 60,
    "start_time": "2024-07-11T18:29:30.999Z"
   },
   {
    "duration": 51,
    "start_time": "2024-07-11T18:29:31.060Z"
   },
   {
    "duration": 62,
    "start_time": "2024-07-11T18:29:31.112Z"
   },
   {
    "duration": 52,
    "start_time": "2024-07-11T18:29:31.176Z"
   },
   {
    "duration": 55,
    "start_time": "2024-07-11T18:29:31.230Z"
   },
   {
    "duration": 95,
    "start_time": "2024-07-11T18:29:31.287Z"
   },
   {
    "duration": 55,
    "start_time": "2024-07-11T18:30:11.376Z"
   },
   {
    "duration": 74,
    "start_time": "2024-07-11T19:06:33.987Z"
   },
   {
    "duration": 49,
    "start_time": "2024-07-11T19:13:19.947Z"
   },
   {
    "duration": 2697,
    "start_time": "2024-07-11T19:13:30.913Z"
   },
   {
    "duration": 551,
    "start_time": "2024-07-11T19:13:33.612Z"
   },
   {
    "duration": 7918,
    "start_time": "2024-07-11T19:13:34.165Z"
   },
   {
    "duration": 243,
    "start_time": "2024-07-11T19:13:42.085Z"
   },
   {
    "duration": 52,
    "start_time": "2024-07-11T19:13:42.330Z"
   },
   {
    "duration": 54,
    "start_time": "2024-07-11T19:13:42.384Z"
   },
   {
    "duration": 51,
    "start_time": "2024-07-11T19:13:42.440Z"
   },
   {
    "duration": 54,
    "start_time": "2024-07-11T19:13:42.492Z"
   },
   {
    "duration": 51,
    "start_time": "2024-07-11T19:13:42.548Z"
   },
   {
    "duration": 52,
    "start_time": "2024-07-11T19:13:42.602Z"
   },
   {
    "duration": 51,
    "start_time": "2024-07-11T19:13:42.656Z"
   },
   {
    "duration": 53,
    "start_time": "2024-07-11T19:13:42.709Z"
   },
   {
    "duration": 51,
    "start_time": "2024-07-11T19:13:42.764Z"
   },
   {
    "duration": 51,
    "start_time": "2024-07-11T19:13:42.816Z"
   },
   {
    "duration": 64,
    "start_time": "2024-07-11T19:13:42.868Z"
   },
   {
    "duration": 52,
    "start_time": "2024-07-11T19:13:42.934Z"
   },
   {
    "duration": 57,
    "start_time": "2024-07-11T19:13:42.988Z"
   },
   {
    "duration": 135,
    "start_time": "2024-07-11T19:13:43.046Z"
   },
   {
    "duration": 0,
    "start_time": "2024-07-11T19:13:43.182Z"
   },
   {
    "duration": 64,
    "start_time": "2024-07-11T19:14:02.500Z"
   },
   {
    "duration": 60,
    "start_time": "2024-07-11T19:14:21.890Z"
   },
   {
    "duration": 60,
    "start_time": "2024-07-11T19:20:27.576Z"
   },
   {
    "duration": 57,
    "start_time": "2024-07-11T19:20:43.923Z"
   },
   {
    "duration": 3829,
    "start_time": "2024-07-12T04:01:58.194Z"
   },
   {
    "duration": 609,
    "start_time": "2024-07-12T04:02:02.025Z"
   },
   {
    "duration": 7194,
    "start_time": "2024-07-12T04:02:02.636Z"
   },
   {
    "duration": 269,
    "start_time": "2024-07-12T04:02:09.832Z"
   },
   {
    "duration": 50,
    "start_time": "2024-07-12T04:02:10.104Z"
   },
   {
    "duration": 67,
    "start_time": "2024-07-12T04:02:10.155Z"
   },
   {
    "duration": 51,
    "start_time": "2024-07-12T04:02:10.224Z"
   },
   {
    "duration": 55,
    "start_time": "2024-07-12T04:02:10.277Z"
   },
   {
    "duration": 50,
    "start_time": "2024-07-12T04:02:10.333Z"
   },
   {
    "duration": 56,
    "start_time": "2024-07-12T04:02:10.385Z"
   },
   {
    "duration": 55,
    "start_time": "2024-07-12T04:02:10.443Z"
   },
   {
    "duration": 57,
    "start_time": "2024-07-12T04:02:10.500Z"
   },
   {
    "duration": 54,
    "start_time": "2024-07-12T04:02:10.559Z"
   },
   {
    "duration": 53,
    "start_time": "2024-07-12T04:02:10.616Z"
   },
   {
    "duration": 61,
    "start_time": "2024-07-12T04:02:10.671Z"
   },
   {
    "duration": 54,
    "start_time": "2024-07-12T04:02:10.734Z"
   },
   {
    "duration": 55,
    "start_time": "2024-07-12T04:02:10.791Z"
   },
   {
    "duration": 57,
    "start_time": "2024-07-12T04:02:10.848Z"
   },
   {
    "duration": 56,
    "start_time": "2024-07-12T04:02:10.907Z"
   }
  ],
  "kernelspec": {
   "display_name": "Python 3 (ipykernel)",
   "language": "python",
   "name": "python3"
  },
  "language_info": {
   "codemirror_mode": {
    "name": "ipython",
    "version": 3
   },
   "file_extension": ".py",
   "mimetype": "text/x-python",
   "name": "python",
   "nbconvert_exporter": "python",
   "pygments_lexer": "ipython3",
   "version": "3.11.7"
  },
  "toc": {
   "base_numbering": 1,
   "nav_menu": {},
   "number_sections": true,
   "sideBar": true,
   "skip_h1_title": true,
   "title_cell": "Table of Contents",
   "title_sidebar": "Contents",
   "toc_cell": false,
   "toc_position": {},
   "toc_section_display": true,
   "toc_window_display": false
  }
 },
 "nbformat": 4,
 "nbformat_minor": 4
}
