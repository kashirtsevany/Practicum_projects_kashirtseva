{
 "cells": [
  {
   "cell_type": "markdown",
   "metadata": {},
   "source": [
    "# Cборный проект-1"
   ]
  },
  {
   "cell_type": "markdown",
   "metadata": {},
   "source": [
    "**Анализ данных о продажах видеоигр**\n",
    "_____\n",
    "**Описание исследования.**\n",
    "    Используя данные из открытых источников о продажах игр, оценках пользователей и экспертов, жанров и игровых платформах, необходимо выявить закономерности влияющие на успешность игры.\n",
    "_____\n",
    "**Цель исследования.**\n",
    "    \n",
    "Провести исследование видеоигр для составления плана продаж на следующие годы.\n",
    "   \n",
    "_____\n",
    "**Задачи исследования.**\n",
    "\n",
    "Необходимо провести предобработку данных, исследовательский анализ о влиянии на продажи различных факторов и статистический анализ.\n",
    "_____\n",
    "**Исходные данные.**\n",
    "    \n",
    "     Описание данных\n",
    "    Name — название игры\n",
    "    Platform — платформа\n",
    "    Year_of_Release — год выпуска\n",
    "    Genre — жанр игры\n",
    "    NA_sales — продажи в Северной Америке (миллионы проданных копий)\n",
    "    EU_sales — продажи в Европе (миллионы проданных копий)\n",
    "    JP_sales — продажи в Японии (миллионы проданных копий)\n",
    "    Other_sales — продажи в других странах (миллионы проданных копий)\n",
    "    Critic_Score — оценка критиков (максимум 100)\n",
    "    User_Score — оценка пользователей (максимум 10)\n",
    "    Rating — рейтинг от организации ESRB (англ. Entertainment Software Rating Board). Эта ассоциация определяет рейтинг компьютерных игр и присваивает им подходящую возрастную категорию.\n",
    "______\n",
    "\n",
    "**Данное исследование разделим на несколько частей.**\n",
    "\n",
    "***Часть 1. Загрузка данных:***\n",
    "* [1. Изученеие файлов с данными, получение общей информации](#1-bullet)\n",
    "\n",
    "\n",
    "***Часть 2.  Предобработка данных:***\n",
    "* [1. Проверка пропусков и дубликатов.](#2-bullet)\n",
    "* [2. Обработка столбца name.](#3-bullet)\n",
    "* [3. Обработка столбца year_of_release.](#4-bullet)\n",
    "* [4. Обработка столбца critic_score.](#5-bullet)\n",
    "* [5. Обработка столбца users_score.](#6-bullet)\n",
    "* [6. Обработка столбца rating.](#7-bullet)\n",
    "* [7. Создание столбца с суммарными продажами.](#8-bullet)\n",
    "\n",
    "\n",
    "***Часть 3. Исследовательский анализ данных:***\n",
    "* [1. Посмотрим сколько игр выпускалось в разные годы.](#9-bullet)\n",
    "* [2. Посмотрим как менялись продажи по платформам.](#10-bullet)\n",
    "* [3. Посмотрим как влияют на продажи внутри платформы отзывы пользователей и критиков.](#11-bullet)\n",
    "* [4. Посмотрим распределение игр по жанрам.](12-bullet)\n",
    "\n",
    "***Часть 4. Портрет пользователя по регионам:***\n",
    "* [1. Самые популярные платформы (топ-5).](#13-bullet)\n",
    "* [2. Самые популярные жанры(топ-5).](#14-bullet)\n",
    "* [3. Рейтинг игр.](#15-bullet)\n",
    "\n",
    "***[Часть 5. Проверка гипотез:](#16-bullet)***\n",
    "\n",
    "***[Часть 6. Общий вывод:](#17-bullet)***\n",
    "\n"
   ]
  },
  {
   "cell_type": "code",
   "execution_count": 1,
   "metadata": {},
   "outputs": [],
   "source": [
    "import pandas as pd\n",
    "import seaborn as sns\n",
    "import matplotlib.pyplot as plt\n",
    "import numpy as np\n",
    "import scipy.stats as st"
   ]
  },
  {
   "cell_type": "markdown",
   "metadata": {},
   "source": [
    "#### Загрузка данных"
   ]
  },
  {
   "cell_type": "markdown",
   "metadata": {},
   "source": [
    "<a id = '1-bullet'></a>\n",
    "1. Изученеие файлов с данными, получение общей информации."
   ]
  },
  {
   "cell_type": "markdown",
   "metadata": {},
   "source": [
    "Выведем информацию о датафрейме и выведем первые строки набора данных."
   ]
  },
  {
   "cell_type": "code",
   "execution_count": 2,
   "metadata": {},
   "outputs": [
    {
     "name": "stdout",
     "output_type": "stream",
     "text": [
      "<class 'pandas.core.frame.DataFrame'>\n",
      "RangeIndex: 16715 entries, 0 to 16714\n",
      "Data columns (total 11 columns):\n",
      " #   Column           Non-Null Count  Dtype  \n",
      "---  ------           --------------  -----  \n",
      " 0   Name             16713 non-null  object \n",
      " 1   Platform         16715 non-null  object \n",
      " 2   Year_of_Release  16446 non-null  float64\n",
      " 3   Genre            16713 non-null  object \n",
      " 4   NA_sales         16715 non-null  float64\n",
      " 5   EU_sales         16715 non-null  float64\n",
      " 6   JP_sales         16715 non-null  float64\n",
      " 7   Other_sales      16715 non-null  float64\n",
      " 8   Critic_Score     8137 non-null   float64\n",
      " 9   User_Score       10014 non-null  object \n",
      " 10  Rating           9949 non-null   object \n",
      "dtypes: float64(6), object(5)\n",
      "memory usage: 1.4+ MB\n"
     ]
    }
   ],
   "source": [
    "try:\n",
    "    games = pd.read_csv('/datasets/games.csv')\n",
    "except:\n",
    "    games = pd.read_csv('https://code.s3.yandex.net/datasets/games.csv')\n",
    "\n",
    "games.info()"
   ]
  },
  {
   "cell_type": "code",
   "execution_count": 3,
   "metadata": {},
   "outputs": [
    {
     "data": {
      "text/html": [
       "<div>\n",
       "<style scoped>\n",
       "    .dataframe tbody tr th:only-of-type {\n",
       "        vertical-align: middle;\n",
       "    }\n",
       "\n",
       "    .dataframe tbody tr th {\n",
       "        vertical-align: top;\n",
       "    }\n",
       "\n",
       "    .dataframe thead th {\n",
       "        text-align: right;\n",
       "    }\n",
       "</style>\n",
       "<table border=\"1\" class=\"dataframe\">\n",
       "  <thead>\n",
       "    <tr style=\"text-align: right;\">\n",
       "      <th></th>\n",
       "      <th>Name</th>\n",
       "      <th>Platform</th>\n",
       "      <th>Year_of_Release</th>\n",
       "      <th>Genre</th>\n",
       "      <th>NA_sales</th>\n",
       "      <th>EU_sales</th>\n",
       "      <th>JP_sales</th>\n",
       "      <th>Other_sales</th>\n",
       "      <th>Critic_Score</th>\n",
       "      <th>User_Score</th>\n",
       "      <th>Rating</th>\n",
       "    </tr>\n",
       "  </thead>\n",
       "  <tbody>\n",
       "    <tr>\n",
       "      <th>0</th>\n",
       "      <td>Wii Sports</td>\n",
       "      <td>Wii</td>\n",
       "      <td>2006.0</td>\n",
       "      <td>Sports</td>\n",
       "      <td>41.36</td>\n",
       "      <td>28.96</td>\n",
       "      <td>3.77</td>\n",
       "      <td>8.45</td>\n",
       "      <td>76.0</td>\n",
       "      <td>8</td>\n",
       "      <td>E</td>\n",
       "    </tr>\n",
       "    <tr>\n",
       "      <th>1</th>\n",
       "      <td>Super Mario Bros.</td>\n",
       "      <td>NES</td>\n",
       "      <td>1985.0</td>\n",
       "      <td>Platform</td>\n",
       "      <td>29.08</td>\n",
       "      <td>3.58</td>\n",
       "      <td>6.81</td>\n",
       "      <td>0.77</td>\n",
       "      <td>NaN</td>\n",
       "      <td>NaN</td>\n",
       "      <td>NaN</td>\n",
       "    </tr>\n",
       "    <tr>\n",
       "      <th>2</th>\n",
       "      <td>Mario Kart Wii</td>\n",
       "      <td>Wii</td>\n",
       "      <td>2008.0</td>\n",
       "      <td>Racing</td>\n",
       "      <td>15.68</td>\n",
       "      <td>12.76</td>\n",
       "      <td>3.79</td>\n",
       "      <td>3.29</td>\n",
       "      <td>82.0</td>\n",
       "      <td>8.3</td>\n",
       "      <td>E</td>\n",
       "    </tr>\n",
       "    <tr>\n",
       "      <th>3</th>\n",
       "      <td>Wii Sports Resort</td>\n",
       "      <td>Wii</td>\n",
       "      <td>2009.0</td>\n",
       "      <td>Sports</td>\n",
       "      <td>15.61</td>\n",
       "      <td>10.93</td>\n",
       "      <td>3.28</td>\n",
       "      <td>2.95</td>\n",
       "      <td>80.0</td>\n",
       "      <td>8</td>\n",
       "      <td>E</td>\n",
       "    </tr>\n",
       "    <tr>\n",
       "      <th>4</th>\n",
       "      <td>Pokemon Red/Pokemon Blue</td>\n",
       "      <td>GB</td>\n",
       "      <td>1996.0</td>\n",
       "      <td>Role-Playing</td>\n",
       "      <td>11.27</td>\n",
       "      <td>8.89</td>\n",
       "      <td>10.22</td>\n",
       "      <td>1.00</td>\n",
       "      <td>NaN</td>\n",
       "      <td>NaN</td>\n",
       "      <td>NaN</td>\n",
       "    </tr>\n",
       "    <tr>\n",
       "      <th>5</th>\n",
       "      <td>Tetris</td>\n",
       "      <td>GB</td>\n",
       "      <td>1989.0</td>\n",
       "      <td>Puzzle</td>\n",
       "      <td>23.20</td>\n",
       "      <td>2.26</td>\n",
       "      <td>4.22</td>\n",
       "      <td>0.58</td>\n",
       "      <td>NaN</td>\n",
       "      <td>NaN</td>\n",
       "      <td>NaN</td>\n",
       "    </tr>\n",
       "    <tr>\n",
       "      <th>6</th>\n",
       "      <td>New Super Mario Bros.</td>\n",
       "      <td>DS</td>\n",
       "      <td>2006.0</td>\n",
       "      <td>Platform</td>\n",
       "      <td>11.28</td>\n",
       "      <td>9.14</td>\n",
       "      <td>6.50</td>\n",
       "      <td>2.88</td>\n",
       "      <td>89.0</td>\n",
       "      <td>8.5</td>\n",
       "      <td>E</td>\n",
       "    </tr>\n",
       "    <tr>\n",
       "      <th>7</th>\n",
       "      <td>Wii Play</td>\n",
       "      <td>Wii</td>\n",
       "      <td>2006.0</td>\n",
       "      <td>Misc</td>\n",
       "      <td>13.96</td>\n",
       "      <td>9.18</td>\n",
       "      <td>2.93</td>\n",
       "      <td>2.84</td>\n",
       "      <td>58.0</td>\n",
       "      <td>6.6</td>\n",
       "      <td>E</td>\n",
       "    </tr>\n",
       "    <tr>\n",
       "      <th>8</th>\n",
       "      <td>New Super Mario Bros. Wii</td>\n",
       "      <td>Wii</td>\n",
       "      <td>2009.0</td>\n",
       "      <td>Platform</td>\n",
       "      <td>14.44</td>\n",
       "      <td>6.94</td>\n",
       "      <td>4.70</td>\n",
       "      <td>2.24</td>\n",
       "      <td>87.0</td>\n",
       "      <td>8.4</td>\n",
       "      <td>E</td>\n",
       "    </tr>\n",
       "    <tr>\n",
       "      <th>9</th>\n",
       "      <td>Duck Hunt</td>\n",
       "      <td>NES</td>\n",
       "      <td>1984.0</td>\n",
       "      <td>Shooter</td>\n",
       "      <td>26.93</td>\n",
       "      <td>0.63</td>\n",
       "      <td>0.28</td>\n",
       "      <td>0.47</td>\n",
       "      <td>NaN</td>\n",
       "      <td>NaN</td>\n",
       "      <td>NaN</td>\n",
       "    </tr>\n",
       "  </tbody>\n",
       "</table>\n",
       "</div>"
      ],
      "text/plain": [
       "                        Name Platform  Year_of_Release         Genre  \\\n",
       "0                 Wii Sports      Wii           2006.0        Sports   \n",
       "1          Super Mario Bros.      NES           1985.0      Platform   \n",
       "2             Mario Kart Wii      Wii           2008.0        Racing   \n",
       "3          Wii Sports Resort      Wii           2009.0        Sports   \n",
       "4   Pokemon Red/Pokemon Blue       GB           1996.0  Role-Playing   \n",
       "5                     Tetris       GB           1989.0        Puzzle   \n",
       "6      New Super Mario Bros.       DS           2006.0      Platform   \n",
       "7                   Wii Play      Wii           2006.0          Misc   \n",
       "8  New Super Mario Bros. Wii      Wii           2009.0      Platform   \n",
       "9                  Duck Hunt      NES           1984.0       Shooter   \n",
       "\n",
       "   NA_sales  EU_sales  JP_sales  Other_sales  Critic_Score User_Score Rating  \n",
       "0     41.36     28.96      3.77         8.45          76.0          8      E  \n",
       "1     29.08      3.58      6.81         0.77           NaN        NaN    NaN  \n",
       "2     15.68     12.76      3.79         3.29          82.0        8.3      E  \n",
       "3     15.61     10.93      3.28         2.95          80.0          8      E  \n",
       "4     11.27      8.89     10.22         1.00           NaN        NaN    NaN  \n",
       "5     23.20      2.26      4.22         0.58           NaN        NaN    NaN  \n",
       "6     11.28      9.14      6.50         2.88          89.0        8.5      E  \n",
       "7     13.96      9.18      2.93         2.84          58.0        6.6      E  \n",
       "8     14.44      6.94      4.70         2.24          87.0        8.4      E  \n",
       "9     26.93      0.63      0.28         0.47           NaN        NaN    NaN  "
      ]
     },
     "execution_count": 3,
     "metadata": {},
     "output_type": "execute_result"
    }
   ],
   "source": [
    "games.head(10)"
   ]
  },
  {
   "cell_type": "markdown",
   "metadata": {},
   "source": [
    "    Описание данных\n",
    "    Name — название игры\n",
    "    Platform — платформа\n",
    "    Year_of_Release — год выпуска\n",
    "    Genre — жанр игры\n",
    "    NA_sales — продажи в Северной Америке (миллионы проданных копий)\n",
    "    EU_sales — продажи в Европе (миллионы проданных копий)\n",
    "    JP_sales — продажи в Японии (миллионы проданных копий)\n",
    "    Other_sales — продажи в других странах (миллионы проданных копий)\n",
    "    Critic_Score — оценка критиков (максимум 100)\n",
    "    User_Score — оценка пользователей (максимум 10)\n",
    "    Rating — рейтинг от организации ESRB (англ. Entertainment Software Rating Board). Эта ассоциация определяет рейтинг компьютерных игр и присваивает им подходящую возрастную категорию."
   ]
  },
  {
   "cell_type": "markdown",
   "metadata": {},
   "source": [
    "#### Предобработка данных"
   ]
  },
  {
   "cell_type": "markdown",
   "metadata": {},
   "source": [
    "<a id = '2-bullet'></a>\n",
    "##### Проверка пропусков и дубликатов."
   ]
  },
  {
   "cell_type": "markdown",
   "metadata": {},
   "source": [
    "Проверим датафрейм на явные дубликаты и пропуски, затем будем обрабатывать данные по столбцам проверяя на неявные дубликаты, заполняя пропуски и меняя тип данных где это необходимо"
   ]
  },
  {
   "cell_type": "code",
   "execution_count": 4,
   "metadata": {},
   "outputs": [],
   "source": [
    "games.columns = games.columns.str.lower() #переведем названия столбцов в нижний регистр"
   ]
  },
  {
   "cell_type": "code",
   "execution_count": 5,
   "metadata": {},
   "outputs": [
    {
     "data": {
      "text/plain": [
       "0"
      ]
     },
     "execution_count": 5,
     "metadata": {},
     "output_type": "execute_result"
    }
   ],
   "source": [
    "games.duplicated().sum() #проверка явных дубликатов"
   ]
  },
  {
   "cell_type": "code",
   "execution_count": 6,
   "metadata": {},
   "outputs": [
    {
     "data": {
      "text/plain": [
       "name                  2\n",
       "platform              0\n",
       "year_of_release     269\n",
       "genre                 2\n",
       "na_sales              0\n",
       "eu_sales              0\n",
       "jp_sales              0\n",
       "other_sales           0\n",
       "critic_score       8578\n",
       "user_score         6701\n",
       "rating             6766\n",
       "dtype: int64"
      ]
     },
     "execution_count": 6,
     "metadata": {},
     "output_type": "execute_result"
    }
   ],
   "source": [
    "games.isna().sum() # проверка пропусков в столбцах"
   ]
  },
  {
   "cell_type": "markdown",
   "metadata": {},
   "source": [
    "<a id = '3-bullet'></a>\n",
    "##### Обработка столбца name"
   ]
  },
  {
   "cell_type": "code",
   "execution_count": 7,
   "metadata": {},
   "outputs": [
    {
     "data": {
      "text/html": [
       "<div>\n",
       "<style scoped>\n",
       "    .dataframe tbody tr th:only-of-type {\n",
       "        vertical-align: middle;\n",
       "    }\n",
       "\n",
       "    .dataframe tbody tr th {\n",
       "        vertical-align: top;\n",
       "    }\n",
       "\n",
       "    .dataframe thead th {\n",
       "        text-align: right;\n",
       "    }\n",
       "</style>\n",
       "<table border=\"1\" class=\"dataframe\">\n",
       "  <thead>\n",
       "    <tr style=\"text-align: right;\">\n",
       "      <th></th>\n",
       "      <th>name</th>\n",
       "      <th>platform</th>\n",
       "      <th>year_of_release</th>\n",
       "      <th>genre</th>\n",
       "      <th>na_sales</th>\n",
       "      <th>eu_sales</th>\n",
       "      <th>jp_sales</th>\n",
       "      <th>other_sales</th>\n",
       "      <th>critic_score</th>\n",
       "      <th>user_score</th>\n",
       "      <th>rating</th>\n",
       "    </tr>\n",
       "  </thead>\n",
       "  <tbody>\n",
       "    <tr>\n",
       "      <th>659</th>\n",
       "      <td>NaN</td>\n",
       "      <td>GEN</td>\n",
       "      <td>1993.0</td>\n",
       "      <td>NaN</td>\n",
       "      <td>1.78</td>\n",
       "      <td>0.53</td>\n",
       "      <td>0.00</td>\n",
       "      <td>0.08</td>\n",
       "      <td>NaN</td>\n",
       "      <td>NaN</td>\n",
       "      <td>NaN</td>\n",
       "    </tr>\n",
       "    <tr>\n",
       "      <th>14244</th>\n",
       "      <td>NaN</td>\n",
       "      <td>GEN</td>\n",
       "      <td>1993.0</td>\n",
       "      <td>NaN</td>\n",
       "      <td>0.00</td>\n",
       "      <td>0.00</td>\n",
       "      <td>0.03</td>\n",
       "      <td>0.00</td>\n",
       "      <td>NaN</td>\n",
       "      <td>NaN</td>\n",
       "      <td>NaN</td>\n",
       "    </tr>\n",
       "  </tbody>\n",
       "</table>\n",
       "</div>"
      ],
      "text/plain": [
       "      name platform  year_of_release genre  na_sales  eu_sales  jp_sales  \\\n",
       "659    NaN      GEN           1993.0   NaN      1.78      0.53      0.00   \n",
       "14244  NaN      GEN           1993.0   NaN      0.00      0.00      0.03   \n",
       "\n",
       "       other_sales  critic_score user_score rating  \n",
       "659           0.08           NaN        NaN    NaN  \n",
       "14244         0.00           NaN        NaN    NaN  "
      ]
     },
     "execution_count": 7,
     "metadata": {},
     "output_type": "execute_result"
    }
   ],
   "source": [
    " games.loc[ games['name'].isna()] #выведем две строки с нулевым значением в имени"
   ]
  },
  {
   "cell_type": "code",
   "execution_count": 8,
   "metadata": {},
   "outputs": [],
   "source": [
    "games = games.dropna(subset=['name']) # удалим эти строки, т.к. они выглядят аномальными и не повлияют на анализ"
   ]
  },
  {
   "cell_type": "markdown",
   "metadata": {},
   "source": [
    "\n",
    "    Рассмотрим по столбцам:\n",
    "        - для столбца name были удалены две строки, т.к. при выведении их на экран увидела что там практически нет ценной информации и их всего две, возможно была какая то техническая ошибка\n",
    "        - для столбца с годом выпуска и оценками критиков -пустые значения были заменены на заглушки 0, это позволило сохранить данные и поменять тип столбца. Пустые значения года выпуска возможно тоже какая то техническая ошибка.\n",
    "        - для столбца с оценками значения TBD были заменены на пустые значения, чтобы изменить тип данных.\n",
    "        Пустые значения в столбцах с оценками могли возникнуть из-за того что данные предоставлены с 80х годов, в то время вполне могли не практиковать выставление оценок. Либо по тем играм по которым недостаточно отзывов(оценок).\n",
    "        Все заглушки и пустые значения отсекались при анализе соответствующих столбцов.\n",
    "        Мне всегда хочется дать второй шанс данным и выжать из них максимум, поэтому удаляю в крайнем случае.\n",
    "        Для столбца с рейтингами пустое значение заменила на \"Рейтинг не определен\", эти рейтинги выставляет Американская ассоциация, вполне возможно не все игры выходят на американский рынок и они могут не иметь этого рейтинга.\n"
   ]
  },
  {
   "cell_type": "code",
   "execution_count": 9,
   "metadata": {},
   "outputs": [
    {
     "data": {
      "text/html": [
       "<div>\n",
       "<style scoped>\n",
       "    .dataframe tbody tr th:only-of-type {\n",
       "        vertical-align: middle;\n",
       "    }\n",
       "\n",
       "    .dataframe tbody tr th {\n",
       "        vertical-align: top;\n",
       "    }\n",
       "\n",
       "    .dataframe thead th {\n",
       "        text-align: right;\n",
       "    }\n",
       "</style>\n",
       "<table border=\"1\" class=\"dataframe\">\n",
       "  <thead>\n",
       "    <tr style=\"text-align: right;\">\n",
       "      <th></th>\n",
       "      <th>name</th>\n",
       "      <th>platform</th>\n",
       "      <th>year_of_release</th>\n",
       "      <th>genre</th>\n",
       "      <th>na_sales</th>\n",
       "      <th>eu_sales</th>\n",
       "      <th>jp_sales</th>\n",
       "      <th>other_sales</th>\n",
       "      <th>critic_score</th>\n",
       "      <th>user_score</th>\n",
       "      <th>rating</th>\n",
       "    </tr>\n",
       "  </thead>\n",
       "  <tbody>\n",
       "    <tr>\n",
       "      <th>805</th>\n",
       "      <td>Rock Band</td>\n",
       "      <td>Wii</td>\n",
       "      <td>NaN</td>\n",
       "      <td>Misc</td>\n",
       "      <td>1.33</td>\n",
       "      <td>0.56</td>\n",
       "      <td>0.00</td>\n",
       "      <td>0.20</td>\n",
       "      <td>80.0</td>\n",
       "      <td>6.3</td>\n",
       "      <td>T</td>\n",
       "    </tr>\n",
       "    <tr>\n",
       "      <th>6342</th>\n",
       "      <td>Gun</td>\n",
       "      <td>X360</td>\n",
       "      <td>NaN</td>\n",
       "      <td>Shooter</td>\n",
       "      <td>0.24</td>\n",
       "      <td>0.01</td>\n",
       "      <td>0.00</td>\n",
       "      <td>0.02</td>\n",
       "      <td>75.0</td>\n",
       "      <td>7.5</td>\n",
       "      <td>M</td>\n",
       "    </tr>\n",
       "    <tr>\n",
       "      <th>1585</th>\n",
       "      <td>Combat</td>\n",
       "      <td>2600</td>\n",
       "      <td>NaN</td>\n",
       "      <td>Action</td>\n",
       "      <td>1.17</td>\n",
       "      <td>0.07</td>\n",
       "      <td>0.00</td>\n",
       "      <td>0.01</td>\n",
       "      <td>NaN</td>\n",
       "      <td>NaN</td>\n",
       "      <td>NaN</td>\n",
       "    </tr>\n",
       "    <tr>\n",
       "      <th>15557</th>\n",
       "      <td>Yu-Gi-Oh! 5D's Wheelie Breakers (JP sales)</td>\n",
       "      <td>Wii</td>\n",
       "      <td>NaN</td>\n",
       "      <td>Racing</td>\n",
       "      <td>0.00</td>\n",
       "      <td>0.00</td>\n",
       "      <td>0.02</td>\n",
       "      <td>0.00</td>\n",
       "      <td>NaN</td>\n",
       "      <td>NaN</td>\n",
       "      <td>NaN</td>\n",
       "    </tr>\n",
       "    <tr>\n",
       "      <th>1506</th>\n",
       "      <td>Adventure</td>\n",
       "      <td>2600</td>\n",
       "      <td>NaN</td>\n",
       "      <td>Adventure</td>\n",
       "      <td>1.21</td>\n",
       "      <td>0.08</td>\n",
       "      <td>0.00</td>\n",
       "      <td>0.01</td>\n",
       "      <td>NaN</td>\n",
       "      <td>NaN</td>\n",
       "      <td>NaN</td>\n",
       "    </tr>\n",
       "    <tr>\n",
       "      <th>11943</th>\n",
       "      <td>Dream Trigger 3D</td>\n",
       "      <td>3DS</td>\n",
       "      <td>NaN</td>\n",
       "      <td>Shooter</td>\n",
       "      <td>0.04</td>\n",
       "      <td>0.02</td>\n",
       "      <td>0.00</td>\n",
       "      <td>0.01</td>\n",
       "      <td>54.0</td>\n",
       "      <td>6.3</td>\n",
       "      <td>E</td>\n",
       "    </tr>\n",
       "    <tr>\n",
       "      <th>2492</th>\n",
       "      <td>MLB SlugFest 20-03</td>\n",
       "      <td>PS2</td>\n",
       "      <td>NaN</td>\n",
       "      <td>Sports</td>\n",
       "      <td>0.41</td>\n",
       "      <td>0.32</td>\n",
       "      <td>0.00</td>\n",
       "      <td>0.11</td>\n",
       "      <td>77.0</td>\n",
       "      <td>8.2</td>\n",
       "      <td>E</td>\n",
       "    </tr>\n",
       "    <tr>\n",
       "      <th>14950</th>\n",
       "      <td>Combat Wings: The Great Battles of WWII</td>\n",
       "      <td>Wii</td>\n",
       "      <td>NaN</td>\n",
       "      <td>Simulation</td>\n",
       "      <td>0.02</td>\n",
       "      <td>0.00</td>\n",
       "      <td>0.00</td>\n",
       "      <td>0.00</td>\n",
       "      <td>NaN</td>\n",
       "      <td>NaN</td>\n",
       "      <td>NaN</td>\n",
       "    </tr>\n",
       "    <tr>\n",
       "      <th>678</th>\n",
       "      <td>LEGO Indiana Jones: The Original Adventures</td>\n",
       "      <td>Wii</td>\n",
       "      <td>NaN</td>\n",
       "      <td>Action</td>\n",
       "      <td>1.51</td>\n",
       "      <td>0.61</td>\n",
       "      <td>0.00</td>\n",
       "      <td>0.21</td>\n",
       "      <td>78.0</td>\n",
       "      <td>6.6</td>\n",
       "      <td>E10+</td>\n",
       "    </tr>\n",
       "    <tr>\n",
       "      <th>9516</th>\n",
       "      <td>Nintendo Puzzle Collection</td>\n",
       "      <td>GC</td>\n",
       "      <td>NaN</td>\n",
       "      <td>Puzzle</td>\n",
       "      <td>0.00</td>\n",
       "      <td>0.00</td>\n",
       "      <td>0.13</td>\n",
       "      <td>0.00</td>\n",
       "      <td>NaN</td>\n",
       "      <td>NaN</td>\n",
       "      <td>NaN</td>\n",
       "    </tr>\n",
       "  </tbody>\n",
       "</table>\n",
       "</div>"
      ],
      "text/plain": [
       "                                              name platform  year_of_release  \\\n",
       "805                                      Rock Band      Wii              NaN   \n",
       "6342                                           Gun     X360              NaN   \n",
       "1585                                        Combat     2600              NaN   \n",
       "15557   Yu-Gi-Oh! 5D's Wheelie Breakers (JP sales)      Wii              NaN   \n",
       "1506                                     Adventure     2600              NaN   \n",
       "11943                             Dream Trigger 3D      3DS              NaN   \n",
       "2492                            MLB SlugFest 20-03      PS2              NaN   \n",
       "14950      Combat Wings: The Great Battles of WWII      Wii              NaN   \n",
       "678    LEGO Indiana Jones: The Original Adventures      Wii              NaN   \n",
       "9516                    Nintendo Puzzle Collection       GC              NaN   \n",
       "\n",
       "            genre  na_sales  eu_sales  jp_sales  other_sales  critic_score  \\\n",
       "805          Misc      1.33      0.56      0.00         0.20          80.0   \n",
       "6342      Shooter      0.24      0.01      0.00         0.02          75.0   \n",
       "1585       Action      1.17      0.07      0.00         0.01           NaN   \n",
       "15557      Racing      0.00      0.00      0.02         0.00           NaN   \n",
       "1506    Adventure      1.21      0.08      0.00         0.01           NaN   \n",
       "11943     Shooter      0.04      0.02      0.00         0.01          54.0   \n",
       "2492       Sports      0.41      0.32      0.00         0.11          77.0   \n",
       "14950  Simulation      0.02      0.00      0.00         0.00           NaN   \n",
       "678        Action      1.51      0.61      0.00         0.21          78.0   \n",
       "9516       Puzzle      0.00      0.00      0.13         0.00           NaN   \n",
       "\n",
       "      user_score rating  \n",
       "805          6.3      T  \n",
       "6342         7.5      M  \n",
       "1585         NaN    NaN  \n",
       "15557        NaN    NaN  \n",
       "1506         NaN    NaN  \n",
       "11943        6.3      E  \n",
       "2492         8.2      E  \n",
       "14950        NaN    NaN  \n",
       "678          6.6   E10+  \n",
       "9516         NaN    NaN  "
      ]
     },
     "execution_count": 9,
     "metadata": {},
     "output_type": "execute_result"
    }
   ],
   "source": [
    " games.loc[ games['year_of_release'].isna()].sample(10)"
   ]
  },
  {
   "cell_type": "code",
   "execution_count": 10,
   "metadata": {},
   "outputs": [
    {
     "data": {
      "text/html": [
       "<div>\n",
       "<style scoped>\n",
       "    .dataframe tbody tr th:only-of-type {\n",
       "        vertical-align: middle;\n",
       "    }\n",
       "\n",
       "    .dataframe tbody tr th {\n",
       "        vertical-align: top;\n",
       "    }\n",
       "\n",
       "    .dataframe thead th {\n",
       "        text-align: right;\n",
       "    }\n",
       "</style>\n",
       "<table border=\"1\" class=\"dataframe\">\n",
       "  <thead>\n",
       "    <tr style=\"text-align: right;\">\n",
       "      <th></th>\n",
       "      <th>name</th>\n",
       "      <th>platform</th>\n",
       "      <th>year_of_release</th>\n",
       "      <th>genre</th>\n",
       "      <th>na_sales</th>\n",
       "      <th>eu_sales</th>\n",
       "      <th>jp_sales</th>\n",
       "      <th>other_sales</th>\n",
       "      <th>critic_score</th>\n",
       "      <th>user_score</th>\n",
       "      <th>rating</th>\n",
       "    </tr>\n",
       "  </thead>\n",
       "  <tbody>\n",
       "    <tr>\n",
       "      <th>12989</th>\n",
       "      <td>Rockin' Pretty</td>\n",
       "      <td>DS</td>\n",
       "      <td>2009.0</td>\n",
       "      <td>Misc</td>\n",
       "      <td>0.05</td>\n",
       "      <td>0.00</td>\n",
       "      <td>0.00</td>\n",
       "      <td>0.00</td>\n",
       "      <td>NaN</td>\n",
       "      <td>tbd</td>\n",
       "      <td>E</td>\n",
       "    </tr>\n",
       "    <tr>\n",
       "      <th>4107</th>\n",
       "      <td>Vigilante 8: 2nd Offense</td>\n",
       "      <td>PS</td>\n",
       "      <td>1999.0</td>\n",
       "      <td>Racing</td>\n",
       "      <td>0.27</td>\n",
       "      <td>0.18</td>\n",
       "      <td>0.00</td>\n",
       "      <td>0.03</td>\n",
       "      <td>NaN</td>\n",
       "      <td>NaN</td>\n",
       "      <td>NaN</td>\n",
       "    </tr>\n",
       "    <tr>\n",
       "      <th>8855</th>\n",
       "      <td>T'ai Fu: Wrath of the Tiger</td>\n",
       "      <td>PS</td>\n",
       "      <td>1998.0</td>\n",
       "      <td>Action</td>\n",
       "      <td>0.08</td>\n",
       "      <td>0.06</td>\n",
       "      <td>0.00</td>\n",
       "      <td>0.01</td>\n",
       "      <td>NaN</td>\n",
       "      <td>NaN</td>\n",
       "      <td>NaN</td>\n",
       "    </tr>\n",
       "    <tr>\n",
       "      <th>11662</th>\n",
       "      <td>The Idolm@ster</td>\n",
       "      <td>X360</td>\n",
       "      <td>2007.0</td>\n",
       "      <td>Simulation</td>\n",
       "      <td>0.00</td>\n",
       "      <td>0.00</td>\n",
       "      <td>0.08</td>\n",
       "      <td>0.00</td>\n",
       "      <td>NaN</td>\n",
       "      <td>NaN</td>\n",
       "      <td>NaN</td>\n",
       "    </tr>\n",
       "    <tr>\n",
       "      <th>16618</th>\n",
       "      <td>Xblaze: Lost Memories</td>\n",
       "      <td>PSV</td>\n",
       "      <td>2015.0</td>\n",
       "      <td>Adventure</td>\n",
       "      <td>0.01</td>\n",
       "      <td>0.00</td>\n",
       "      <td>0.00</td>\n",
       "      <td>0.00</td>\n",
       "      <td>NaN</td>\n",
       "      <td>7</td>\n",
       "      <td>M</td>\n",
       "    </tr>\n",
       "    <tr>\n",
       "      <th>1339</th>\n",
       "      <td>SNK vs. Capcom: The Match of the Millennium</td>\n",
       "      <td>PSP</td>\n",
       "      <td>2006.0</td>\n",
       "      <td>Fighting</td>\n",
       "      <td>0.53</td>\n",
       "      <td>0.57</td>\n",
       "      <td>0.00</td>\n",
       "      <td>0.34</td>\n",
       "      <td>NaN</td>\n",
       "      <td>NaN</td>\n",
       "      <td>NaN</td>\n",
       "    </tr>\n",
       "    <tr>\n",
       "      <th>9530</th>\n",
       "      <td>Puyo Puyo!! 20th Anniversary</td>\n",
       "      <td>3DS</td>\n",
       "      <td>2011.0</td>\n",
       "      <td>Puzzle</td>\n",
       "      <td>0.00</td>\n",
       "      <td>0.00</td>\n",
       "      <td>0.13</td>\n",
       "      <td>0.00</td>\n",
       "      <td>NaN</td>\n",
       "      <td>NaN</td>\n",
       "      <td>NaN</td>\n",
       "    </tr>\n",
       "    <tr>\n",
       "      <th>8293</th>\n",
       "      <td>.hack//G.U. Vol.3//Redemption</td>\n",
       "      <td>PS2</td>\n",
       "      <td>2007.0</td>\n",
       "      <td>Role-Playing</td>\n",
       "      <td>0.00</td>\n",
       "      <td>0.00</td>\n",
       "      <td>0.17</td>\n",
       "      <td>0.00</td>\n",
       "      <td>NaN</td>\n",
       "      <td>NaN</td>\n",
       "      <td>NaN</td>\n",
       "    </tr>\n",
       "    <tr>\n",
       "      <th>8094</th>\n",
       "      <td>Gokujou Parodius</td>\n",
       "      <td>SNES</td>\n",
       "      <td>1994.0</td>\n",
       "      <td>Shooter</td>\n",
       "      <td>0.00</td>\n",
       "      <td>0.00</td>\n",
       "      <td>0.18</td>\n",
       "      <td>0.00</td>\n",
       "      <td>NaN</td>\n",
       "      <td>NaN</td>\n",
       "      <td>NaN</td>\n",
       "    </tr>\n",
       "    <tr>\n",
       "      <th>2708</th>\n",
       "      <td>Lost Planet 2</td>\n",
       "      <td>X360</td>\n",
       "      <td>2010.0</td>\n",
       "      <td>Shooter</td>\n",
       "      <td>0.38</td>\n",
       "      <td>0.23</td>\n",
       "      <td>0.08</td>\n",
       "      <td>0.06</td>\n",
       "      <td>NaN</td>\n",
       "      <td>NaN</td>\n",
       "      <td>NaN</td>\n",
       "    </tr>\n",
       "  </tbody>\n",
       "</table>\n",
       "</div>"
      ],
      "text/plain": [
       "                                              name platform  year_of_release  \\\n",
       "12989                               Rockin' Pretty       DS           2009.0   \n",
       "4107                      Vigilante 8: 2nd Offense       PS           1999.0   \n",
       "8855                   T'ai Fu: Wrath of the Tiger       PS           1998.0   \n",
       "11662                               The Idolm@ster     X360           2007.0   \n",
       "16618                        Xblaze: Lost Memories      PSV           2015.0   \n",
       "1339   SNK vs. Capcom: The Match of the Millennium      PSP           2006.0   \n",
       "9530                  Puyo Puyo!! 20th Anniversary      3DS           2011.0   \n",
       "8293                 .hack//G.U. Vol.3//Redemption      PS2           2007.0   \n",
       "8094                              Gokujou Parodius     SNES           1994.0   \n",
       "2708                                 Lost Planet 2     X360           2010.0   \n",
       "\n",
       "              genre  na_sales  eu_sales  jp_sales  other_sales  critic_score  \\\n",
       "12989          Misc      0.05      0.00      0.00         0.00           NaN   \n",
       "4107         Racing      0.27      0.18      0.00         0.03           NaN   \n",
       "8855         Action      0.08      0.06      0.00         0.01           NaN   \n",
       "11662    Simulation      0.00      0.00      0.08         0.00           NaN   \n",
       "16618     Adventure      0.01      0.00      0.00         0.00           NaN   \n",
       "1339       Fighting      0.53      0.57      0.00         0.34           NaN   \n",
       "9530         Puzzle      0.00      0.00      0.13         0.00           NaN   \n",
       "8293   Role-Playing      0.00      0.00      0.17         0.00           NaN   \n",
       "8094        Shooter      0.00      0.00      0.18         0.00           NaN   \n",
       "2708        Shooter      0.38      0.23      0.08         0.06           NaN   \n",
       "\n",
       "      user_score rating  \n",
       "12989        tbd      E  \n",
       "4107         NaN    NaN  \n",
       "8855         NaN    NaN  \n",
       "11662        NaN    NaN  \n",
       "16618          7      M  \n",
       "1339         NaN    NaN  \n",
       "9530         NaN    NaN  \n",
       "8293         NaN    NaN  \n",
       "8094         NaN    NaN  \n",
       "2708         NaN    NaN  "
      ]
     },
     "execution_count": 10,
     "metadata": {},
     "output_type": "execute_result"
    }
   ],
   "source": [
    "games.loc[ games['critic_score'].isna()].sample(10)"
   ]
  },
  {
   "cell_type": "code",
   "execution_count": 11,
   "metadata": {},
   "outputs": [
    {
     "data": {
      "text/plain": [
       "0"
      ]
     },
     "execution_count": 11,
     "metadata": {},
     "output_type": "execute_result"
    }
   ],
   "source": [
    "games['name'].isna().sum()"
   ]
  },
  {
   "cell_type": "code",
   "execution_count": 12,
   "metadata": {},
   "outputs": [],
   "source": [
    "games['name'] =games['name'].str.lower() #приведем названия игр в нижний регистр"
   ]
  },
  {
   "cell_type": "code",
   "execution_count": 13,
   "metadata": {},
   "outputs": [
    {
     "data": {
      "text/html": [
       "<div>\n",
       "<style scoped>\n",
       "    .dataframe tbody tr th:only-of-type {\n",
       "        vertical-align: middle;\n",
       "    }\n",
       "\n",
       "    .dataframe tbody tr th {\n",
       "        vertical-align: top;\n",
       "    }\n",
       "\n",
       "    .dataframe thead th {\n",
       "        text-align: right;\n",
       "    }\n",
       "</style>\n",
       "<table border=\"1\" class=\"dataframe\">\n",
       "  <thead>\n",
       "    <tr style=\"text-align: right;\">\n",
       "      <th></th>\n",
       "      <th>name</th>\n",
       "      <th>platform</th>\n",
       "      <th>year_of_release</th>\n",
       "      <th>genre</th>\n",
       "      <th>na_sales</th>\n",
       "      <th>eu_sales</th>\n",
       "      <th>jp_sales</th>\n",
       "      <th>other_sales</th>\n",
       "      <th>critic_score</th>\n",
       "      <th>user_score</th>\n",
       "      <th>rating</th>\n",
       "    </tr>\n",
       "  </thead>\n",
       "  <tbody>\n",
       "    <tr>\n",
       "      <th>16230</th>\n",
       "      <td>madden nfl 13</td>\n",
       "      <td>PS3</td>\n",
       "      <td>2012.0</td>\n",
       "      <td>Sports</td>\n",
       "      <td>0.0</td>\n",
       "      <td>0.01</td>\n",
       "      <td>0.0</td>\n",
       "      <td>0.0</td>\n",
       "      <td>83.0</td>\n",
       "      <td>5.5</td>\n",
       "      <td>E</td>\n",
       "    </tr>\n",
       "  </tbody>\n",
       "</table>\n",
       "</div>"
      ],
      "text/plain": [
       "                name platform  year_of_release   genre  na_sales  eu_sales  \\\n",
       "16230  madden nfl 13      PS3           2012.0  Sports       0.0      0.01   \n",
       "\n",
       "       jp_sales  other_sales  critic_score user_score rating  \n",
       "16230       0.0          0.0          83.0        5.5      E  "
      ]
     },
     "execution_count": 13,
     "metadata": {},
     "output_type": "execute_result"
    }
   ],
   "source": [
    "# уникальных значений в столбце с играми достаточно много\n",
    "# попробуем проверить неявные дубликаты в сочетании с платформой и годом выпуска\n",
    "games[games.duplicated(['name', 'platform', 'year_of_release'])]"
   ]
  },
  {
   "cell_type": "code",
   "execution_count": 14,
   "metadata": {},
   "outputs": [
    {
     "data": {
      "text/html": [
       "<div>\n",
       "<style scoped>\n",
       "    .dataframe tbody tr th:only-of-type {\n",
       "        vertical-align: middle;\n",
       "    }\n",
       "\n",
       "    .dataframe tbody tr th {\n",
       "        vertical-align: top;\n",
       "    }\n",
       "\n",
       "    .dataframe thead th {\n",
       "        text-align: right;\n",
       "    }\n",
       "</style>\n",
       "<table border=\"1\" class=\"dataframe\">\n",
       "  <thead>\n",
       "    <tr style=\"text-align: right;\">\n",
       "      <th></th>\n",
       "      <th>name</th>\n",
       "      <th>platform</th>\n",
       "      <th>year_of_release</th>\n",
       "      <th>genre</th>\n",
       "      <th>na_sales</th>\n",
       "      <th>eu_sales</th>\n",
       "      <th>jp_sales</th>\n",
       "      <th>other_sales</th>\n",
       "      <th>critic_score</th>\n",
       "      <th>user_score</th>\n",
       "      <th>rating</th>\n",
       "    </tr>\n",
       "  </thead>\n",
       "  <tbody>\n",
       "    <tr>\n",
       "      <th>507</th>\n",
       "      <td>madden nfl 13</td>\n",
       "      <td>X360</td>\n",
       "      <td>2012.0</td>\n",
       "      <td>Sports</td>\n",
       "      <td>2.53</td>\n",
       "      <td>0.15</td>\n",
       "      <td>0.0</td>\n",
       "      <td>0.17</td>\n",
       "      <td>81.0</td>\n",
       "      <td>5.8</td>\n",
       "      <td>E</td>\n",
       "    </tr>\n",
       "    <tr>\n",
       "      <th>604</th>\n",
       "      <td>madden nfl 13</td>\n",
       "      <td>PS3</td>\n",
       "      <td>2012.0</td>\n",
       "      <td>Sports</td>\n",
       "      <td>2.11</td>\n",
       "      <td>0.22</td>\n",
       "      <td>0.0</td>\n",
       "      <td>0.23</td>\n",
       "      <td>83.0</td>\n",
       "      <td>5.5</td>\n",
       "      <td>E</td>\n",
       "    </tr>\n",
       "    <tr>\n",
       "      <th>3986</th>\n",
       "      <td>madden nfl 13</td>\n",
       "      <td>Wii</td>\n",
       "      <td>2012.0</td>\n",
       "      <td>Sports</td>\n",
       "      <td>0.47</td>\n",
       "      <td>0.00</td>\n",
       "      <td>0.0</td>\n",
       "      <td>0.03</td>\n",
       "      <td>NaN</td>\n",
       "      <td>7.3</td>\n",
       "      <td>E</td>\n",
       "    </tr>\n",
       "    <tr>\n",
       "      <th>5887</th>\n",
       "      <td>madden nfl 13</td>\n",
       "      <td>PSV</td>\n",
       "      <td>2012.0</td>\n",
       "      <td>Sports</td>\n",
       "      <td>0.28</td>\n",
       "      <td>0.00</td>\n",
       "      <td>0.0</td>\n",
       "      <td>0.02</td>\n",
       "      <td>63.0</td>\n",
       "      <td>7.3</td>\n",
       "      <td>E</td>\n",
       "    </tr>\n",
       "    <tr>\n",
       "      <th>7066</th>\n",
       "      <td>madden nfl 13</td>\n",
       "      <td>WiiU</td>\n",
       "      <td>2012.0</td>\n",
       "      <td>Sports</td>\n",
       "      <td>0.21</td>\n",
       "      <td>0.00</td>\n",
       "      <td>0.0</td>\n",
       "      <td>0.02</td>\n",
       "      <td>75.0</td>\n",
       "      <td>6.7</td>\n",
       "      <td>E</td>\n",
       "    </tr>\n",
       "    <tr>\n",
       "      <th>16230</th>\n",
       "      <td>madden nfl 13</td>\n",
       "      <td>PS3</td>\n",
       "      <td>2012.0</td>\n",
       "      <td>Sports</td>\n",
       "      <td>0.00</td>\n",
       "      <td>0.01</td>\n",
       "      <td>0.0</td>\n",
       "      <td>0.00</td>\n",
       "      <td>83.0</td>\n",
       "      <td>5.5</td>\n",
       "      <td>E</td>\n",
       "    </tr>\n",
       "  </tbody>\n",
       "</table>\n",
       "</div>"
      ],
      "text/plain": [
       "                name platform  year_of_release   genre  na_sales  eu_sales  \\\n",
       "507    madden nfl 13     X360           2012.0  Sports      2.53      0.15   \n",
       "604    madden nfl 13      PS3           2012.0  Sports      2.11      0.22   \n",
       "3986   madden nfl 13      Wii           2012.0  Sports      0.47      0.00   \n",
       "5887   madden nfl 13      PSV           2012.0  Sports      0.28      0.00   \n",
       "7066   madden nfl 13     WiiU           2012.0  Sports      0.21      0.00   \n",
       "16230  madden nfl 13      PS3           2012.0  Sports      0.00      0.01   \n",
       "\n",
       "       jp_sales  other_sales  critic_score user_score rating  \n",
       "507         0.0         0.17          81.0        5.8      E  \n",
       "604         0.0         0.23          83.0        5.5      E  \n",
       "3986        0.0         0.03           NaN        7.3      E  \n",
       "5887        0.0         0.02          63.0        7.3      E  \n",
       "7066        0.0         0.02          75.0        6.7      E  \n",
       "16230       0.0         0.00          83.0        5.5      E  "
      ]
     },
     "execution_count": 14,
     "metadata": {},
     "output_type": "execute_result"
    }
   ],
   "source": [
    "games[games['name']=='madden nfl 13']"
   ]
  },
  {
   "cell_type": "code",
   "execution_count": 15,
   "metadata": {},
   "outputs": [],
   "source": [
    "games = games.drop(16230) #удалим дубликат"
   ]
  },
  {
   "cell_type": "markdown",
   "metadata": {},
   "source": [
    "<a id = '4-bullet'></a>\n",
    "##### Обработка столбца year_of_release"
   ]
  },
  {
   "cell_type": "code",
   "execution_count": 16,
   "metadata": {},
   "outputs": [
    {
     "data": {
      "text/plain": [
       "array([2006., 1985., 2008., 2009., 1996., 1989., 1984., 2005., 1999.,\n",
       "       2007., 2010., 2013., 2004., 1990., 1988., 2002., 2001., 2011.,\n",
       "       1998., 2015., 2012., 2014., 1992., 1997., 1993., 1994., 1982.,\n",
       "       2016., 2003., 1986., 2000.,   nan, 1995., 1991., 1981., 1987.,\n",
       "       1980., 1983.])"
      ]
     },
     "execution_count": 16,
     "metadata": {},
     "output_type": "execute_result"
    }
   ],
   "source": [
    " games['year_of_release'].unique() "
   ]
  },
  {
   "cell_type": "code",
   "execution_count": 17,
   "metadata": {},
   "outputs": [],
   "source": [
    "games['year_of_release'] = games['year_of_release'].fillna(0) # заменим пропуски года выпуска на 0"
   ]
  },
  {
   "cell_type": "code",
   "execution_count": 18,
   "metadata": {},
   "outputs": [],
   "source": [
    "# заменим значения столбца с годом выпуска игры на целочисленный тип\n",
    "games['year_of_release'] = games['year_of_release'].astype('int')"
   ]
  },
  {
   "cell_type": "markdown",
   "metadata": {},
   "source": [
    "<a id = '5-bullet'></a>\n",
    "##### Обработка столбца critic_score"
   ]
  },
  {
   "cell_type": "code",
   "execution_count": 19,
   "metadata": {},
   "outputs": [
    {
     "data": {
      "text/plain": [
       "array([76., nan, 82., 80., 89., 58., 87., 91., 61., 97., 95., 77., 88.,\n",
       "       83., 94., 93., 85., 86., 98., 96., 90., 84., 73., 74., 78., 92.,\n",
       "       71., 72., 68., 62., 49., 67., 81., 66., 56., 79., 70., 59., 64.,\n",
       "       75., 60., 63., 69., 50., 25., 42., 44., 55., 48., 57., 29., 47.,\n",
       "       65., 54., 20., 53., 37., 38., 33., 52., 30., 32., 43., 45., 51.,\n",
       "       40., 46., 39., 34., 35., 41., 36., 28., 31., 27., 26., 19., 23.,\n",
       "       24., 21., 17., 22., 13.])"
      ]
     },
     "execution_count": 19,
     "metadata": {},
     "output_type": "execute_result"
    }
   ],
   "source": [
    " games['critic_score'].unique() "
   ]
  },
  {
   "cell_type": "code",
   "execution_count": 20,
   "metadata": {},
   "outputs": [],
   "source": [
    "# убедились, что оценки критиков имеют значения от 1 до 100 с шагом 1, \n",
    "# заменим пропуски на 0, а тип данных на целочисленное значение\n",
    "games['critic_score'] = games['critic_score'].fillna(0)\n",
    "games['critic_score'] = games['critic_score'].astype('int')"
   ]
  },
  {
   "cell_type": "markdown",
   "metadata": {},
   "source": [
    "<a id = '6-bullet'></a>\n",
    "##### Обработка столбца user_score"
   ]
  },
  {
   "cell_type": "code",
   "execution_count": 21,
   "metadata": {},
   "outputs": [
    {
     "data": {
      "text/plain": [
       "array(['8', nan, '8.3', '8.5', '6.6', '8.4', '8.6', '7.7', '6.3', '7.4',\n",
       "       '8.2', '9', '7.9', '8.1', '8.7', '7.1', '3.4', '5.3', '4.8', '3.2',\n",
       "       '8.9', '6.4', '7.8', '7.5', '2.6', '7.2', '9.2', '7', '7.3', '4.3',\n",
       "       '7.6', '5.7', '5', '9.1', '6.5', 'tbd', '8.8', '6.9', '9.4', '6.8',\n",
       "       '6.1', '6.7', '5.4', '4', '4.9', '4.5', '9.3', '6.2', '4.2', '6',\n",
       "       '3.7', '4.1', '5.8', '5.6', '5.5', '4.4', '4.6', '5.9', '3.9',\n",
       "       '3.1', '2.9', '5.2', '3.3', '4.7', '5.1', '3.5', '2.5', '1.9', '3',\n",
       "       '2.7', '2.2', '2', '9.5', '2.1', '3.6', '2.8', '1.8', '3.8', '0',\n",
       "       '1.6', '9.6', '2.4', '1.7', '1.1', '0.3', '1.5', '0.7', '1.2',\n",
       "       '2.3', '0.5', '1.3', '0.2', '0.6', '1.4', '0.9', '1', '9.7'],\n",
       "      dtype=object)"
      ]
     },
     "execution_count": 21,
     "metadata": {},
     "output_type": "execute_result"
    }
   ],
   "source": [
    " games['user_score'].unique()"
   ]
  },
  {
   "cell_type": "markdown",
   "metadata": {},
   "source": [
    "Значение 'tbd' это абривеатура, которая переводится как \"подлежит определению\", предполагаю что можно заменить эти ячейки на пустые значения, это позволит изменить тип столбца из строкового в тип число."
   ]
  },
  {
   "cell_type": "code",
   "execution_count": 22,
   "metadata": {
    "scrolled": true
   },
   "outputs": [
    {
     "name": "stderr",
     "output_type": "stream",
     "text": [
      "/opt/conda/lib/python3.9/site-packages/pandas/core/indexing.py:1637: SettingWithCopyWarning: \n",
      "A value is trying to be set on a copy of a slice from a DataFrame\n",
      "\n",
      "See the caveats in the documentation: https://pandas.pydata.org/pandas-docs/stable/user_guide/indexing.html#returning-a-view-versus-a-copy\n",
      "  self._setitem_single_block(indexer, value, name)\n"
     ]
    }
   ],
   "source": [
    "games['user_score'].loc[games['user_score']=='tbd'] = np.nan"
   ]
  },
  {
   "cell_type": "code",
   "execution_count": 23,
   "metadata": {},
   "outputs": [],
   "source": [
    "games['user_score'] = games['user_score'].astype('float') # изменение типа данных"
   ]
  },
  {
   "cell_type": "code",
   "execution_count": 24,
   "metadata": {},
   "outputs": [
    {
     "data": {
      "text/plain": [
       "array([8. , nan, 8.3, 8.5, 6.6, 8.4, 8.6, 7.7, 6.3, 7.4, 8.2, 9. , 7.9,\n",
       "       8.1, 8.7, 7.1, 3.4, 5.3, 4.8, 3.2, 8.9, 6.4, 7.8, 7.5, 2.6, 7.2,\n",
       "       9.2, 7. , 7.3, 4.3, 7.6, 5.7, 5. , 9.1, 6.5, 8.8, 6.9, 9.4, 6.8,\n",
       "       6.1, 6.7, 5.4, 4. , 4.9, 4.5, 9.3, 6.2, 4.2, 6. , 3.7, 4.1, 5.8,\n",
       "       5.6, 5.5, 4.4, 4.6, 5.9, 3.9, 3.1, 2.9, 5.2, 3.3, 4.7, 5.1, 3.5,\n",
       "       2.5, 1.9, 3. , 2.7, 2.2, 2. , 9.5, 2.1, 3.6, 2.8, 1.8, 3.8, 0. ,\n",
       "       1.6, 9.6, 2.4, 1.7, 1.1, 0.3, 1.5, 0.7, 1.2, 2.3, 0.5, 1.3, 0.2,\n",
       "       0.6, 1.4, 0.9, 1. , 9.7])"
      ]
     },
     "execution_count": 24,
     "metadata": {},
     "output_type": "execute_result"
    }
   ],
   "source": [
    " games['user_score'].unique() # проверим, несмотря на предупреждение все сработало как нужно"
   ]
  },
  {
   "cell_type": "markdown",
   "metadata": {},
   "source": [
    "<a id = '7-bullet'></a>\n",
    "##### Обработка столбца rating"
   ]
  },
  {
   "cell_type": "code",
   "execution_count": 25,
   "metadata": {},
   "outputs": [
    {
     "data": {
      "text/plain": [
       "array(['E', nan, 'M', 'T', 'E10+', 'K-A', 'AO', 'EC', 'RP'], dtype=object)"
      ]
     },
     "execution_count": 25,
     "metadata": {},
     "output_type": "execute_result"
    }
   ],
   "source": [
    " games['rating'].unique()"
   ]
  },
  {
   "cell_type": "markdown",
   "metadata": {},
   "source": [
    "    Система ESRB - США, Мексика и Канада\n",
    "    EC\tДля детей младшего возраста. Подходит для детей от 3 лет.\n",
    "    K-A kids-to-adult детям и взрослым\n",
    "    E\tПодходит для всех возрастных категорий. \n",
    "    E 10+\tПодходит для лиц старше 10 лет. \n",
    "    T\tПодходит для лиц старше 13 лет. \n",
    "    M\tПодходит для лиц старше 17 лет. \n",
    "    AO\tПодходит для взрослых старше 18 лет. \n",
    "    RP\tКатегория ещё не присвоена. Играм с категорией RP еще не присвоен окончательный рейтинг ESRB.\n",
    "    Заменим пустые значения на тип RP"
   ]
  },
  {
   "cell_type": "code",
   "execution_count": 26,
   "metadata": {},
   "outputs": [],
   "source": [
    "games['rating'] = games['rating']. fillna ('RP') # заменим пустые значения на рейтинг не определен"
   ]
  },
  {
   "cell_type": "code",
   "execution_count": 27,
   "metadata": {},
   "outputs": [
    {
     "data": {
      "text/plain": [
       "array(['E', 'RP', 'M', 'T', 'E10+', 'K-A', 'AO', 'EC'], dtype=object)"
      ]
     },
     "execution_count": 27,
     "metadata": {},
     "output_type": "execute_result"
    }
   ],
   "source": [
    "games['rating'].unique()"
   ]
  },
  {
   "cell_type": "code",
   "execution_count": 28,
   "metadata": {},
   "outputs": [
    {
     "name": "stdout",
     "output_type": "stream",
     "text": [
      "<class 'pandas.core.frame.DataFrame'>\n",
      "Int64Index: 16712 entries, 0 to 16714\n",
      "Data columns (total 11 columns):\n",
      " #   Column           Non-Null Count  Dtype  \n",
      "---  ------           --------------  -----  \n",
      " 0   name             16712 non-null  object \n",
      " 1   platform         16712 non-null  object \n",
      " 2   year_of_release  16712 non-null  int64  \n",
      " 3   genre            16712 non-null  object \n",
      " 4   na_sales         16712 non-null  float64\n",
      " 5   eu_sales         16712 non-null  float64\n",
      " 6   jp_sales         16712 non-null  float64\n",
      " 7   other_sales      16712 non-null  float64\n",
      " 8   critic_score     16712 non-null  int64  \n",
      " 9   user_score       7589 non-null   float64\n",
      " 10  rating           16712 non-null  object \n",
      "dtypes: float64(5), int64(2), object(4)\n",
      "memory usage: 1.5+ MB\n"
     ]
    }
   ],
   "source": [
    "games.info() # выведем информацию о датафрейме после всех изменений"
   ]
  },
  {
   "cell_type": "code",
   "execution_count": 29,
   "metadata": {},
   "outputs": [
    {
     "data": {
      "text/plain": [
       "name                  0\n",
       "platform              0\n",
       "year_of_release       0\n",
       "genre                 0\n",
       "na_sales              0\n",
       "eu_sales              0\n",
       "jp_sales              0\n",
       "other_sales           0\n",
       "critic_score          0\n",
       "user_score         9123\n",
       "rating                0\n",
       "dtype: int64"
      ]
     },
     "execution_count": 29,
     "metadata": {},
     "output_type": "execute_result"
    }
   ],
   "source": [
    "games.isna().sum() # проверка пропусков в столбцах"
   ]
  },
  {
   "cell_type": "markdown",
   "metadata": {},
   "source": [
    "<a id = '8-bullet'></a>\n",
    "##### Создание столбца с суммарными продажами"
   ]
  },
  {
   "cell_type": "code",
   "execution_count": 30,
   "metadata": {},
   "outputs": [
    {
     "data": {
      "text/html": [
       "<div>\n",
       "<style scoped>\n",
       "    .dataframe tbody tr th:only-of-type {\n",
       "        vertical-align: middle;\n",
       "    }\n",
       "\n",
       "    .dataframe tbody tr th {\n",
       "        vertical-align: top;\n",
       "    }\n",
       "\n",
       "    .dataframe thead th {\n",
       "        text-align: right;\n",
       "    }\n",
       "</style>\n",
       "<table border=\"1\" class=\"dataframe\">\n",
       "  <thead>\n",
       "    <tr style=\"text-align: right;\">\n",
       "      <th></th>\n",
       "      <th>name</th>\n",
       "      <th>platform</th>\n",
       "      <th>year_of_release</th>\n",
       "      <th>genre</th>\n",
       "      <th>na_sales</th>\n",
       "      <th>eu_sales</th>\n",
       "      <th>jp_sales</th>\n",
       "      <th>other_sales</th>\n",
       "      <th>critic_score</th>\n",
       "      <th>user_score</th>\n",
       "      <th>rating</th>\n",
       "      <th>total_sales</th>\n",
       "    </tr>\n",
       "  </thead>\n",
       "  <tbody>\n",
       "    <tr>\n",
       "      <th>1</th>\n",
       "      <td>super mario bros.</td>\n",
       "      <td>NES</td>\n",
       "      <td>1985</td>\n",
       "      <td>Platform</td>\n",
       "      <td>29.08</td>\n",
       "      <td>3.58</td>\n",
       "      <td>6.81</td>\n",
       "      <td>0.77</td>\n",
       "      <td>0</td>\n",
       "      <td>NaN</td>\n",
       "      <td>RP</td>\n",
       "      <td>40.24</td>\n",
       "    </tr>\n",
       "    <tr>\n",
       "      <th>374</th>\n",
       "      <td>kung fu</td>\n",
       "      <td>NES</td>\n",
       "      <td>1985</td>\n",
       "      <td>Action</td>\n",
       "      <td>1.64</td>\n",
       "      <td>0.38</td>\n",
       "      <td>1.42</td>\n",
       "      <td>0.06</td>\n",
       "      <td>0</td>\n",
       "      <td>NaN</td>\n",
       "      <td>RP</td>\n",
       "      <td>3.50</td>\n",
       "    </tr>\n",
       "    <tr>\n",
       "      <th>869</th>\n",
       "      <td>soccer</td>\n",
       "      <td>NES</td>\n",
       "      <td>1985</td>\n",
       "      <td>Sports</td>\n",
       "      <td>0.18</td>\n",
       "      <td>0.23</td>\n",
       "      <td>1.53</td>\n",
       "      <td>0.02</td>\n",
       "      <td>0</td>\n",
       "      <td>NaN</td>\n",
       "      <td>RP</td>\n",
       "      <td>1.96</td>\n",
       "    </tr>\n",
       "    <tr>\n",
       "      <th>1262</th>\n",
       "      <td>ice climber</td>\n",
       "      <td>NES</td>\n",
       "      <td>1985</td>\n",
       "      <td>Platform</td>\n",
       "      <td>0.46</td>\n",
       "      <td>0.10</td>\n",
       "      <td>0.92</td>\n",
       "      <td>0.02</td>\n",
       "      <td>0</td>\n",
       "      <td>NaN</td>\n",
       "      <td>RP</td>\n",
       "      <td>1.50</td>\n",
       "    </tr>\n",
       "    <tr>\n",
       "      <th>1482</th>\n",
       "      <td>gyromite</td>\n",
       "      <td>NES</td>\n",
       "      <td>1985</td>\n",
       "      <td>Puzzle</td>\n",
       "      <td>0.73</td>\n",
       "      <td>0.16</td>\n",
       "      <td>0.40</td>\n",
       "      <td>0.03</td>\n",
       "      <td>0</td>\n",
       "      <td>NaN</td>\n",
       "      <td>RP</td>\n",
       "      <td>1.32</td>\n",
       "    </tr>\n",
       "  </tbody>\n",
       "</table>\n",
       "</div>"
      ],
      "text/plain": [
       "                   name platform  year_of_release     genre  na_sales  \\\n",
       "1     super mario bros.      NES             1985  Platform     29.08   \n",
       "374             kung fu      NES             1985    Action      1.64   \n",
       "869              soccer      NES             1985    Sports      0.18   \n",
       "1262        ice climber      NES             1985  Platform      0.46   \n",
       "1482           gyromite      NES             1985    Puzzle      0.73   \n",
       "\n",
       "      eu_sales  jp_sales  other_sales  critic_score  user_score rating  \\\n",
       "1         3.58      6.81         0.77             0         NaN     RP   \n",
       "374       0.38      1.42         0.06             0         NaN     RP   \n",
       "869       0.23      1.53         0.02             0         NaN     RP   \n",
       "1262      0.10      0.92         0.02             0         NaN     RP   \n",
       "1482      0.16      0.40         0.03             0         NaN     RP   \n",
       "\n",
       "      total_sales  \n",
       "1           40.24  \n",
       "374          3.50  \n",
       "869          1.96  \n",
       "1262         1.50  \n",
       "1482         1.32  "
      ]
     },
     "execution_count": 30,
     "metadata": {},
     "output_type": "execute_result"
    }
   ],
   "source": [
    "games['total_sales'] = games['na_sales']+games['eu_sales']+games['jp_sales']+games['other_sales']\n",
    "games[games['year_of_release']==1985].head()"
   ]
  },
  {
   "cell_type": "markdown",
   "metadata": {},
   "source": [
    "   **Вывод**\n",
    "         \n",
    "         Были обработаны явные и неявные дубликаты, пустые значения в предложенном датафрейме, а так же измененены некоторые типы данных для удобства дальнейшего исследования.\n",
    "         \n",
    "         Пропуски могли возникнуть по нескольким причинам. Т.к. временной период достаточно большой, вполне возможно в более райнние годы появления не практиковалось составление рейтингов для игр, оценки критиков и пользователей.Так же возможны технические ошибки при составление датафрейма, данные явно набирались из разных мсточников. Пропуски в оценках видеоигр еще возможны, если отзывов на конкретную игру крайне мало.\n",
    "         \n",
    "         Для обработки пропусков использовали следующие способы: \n",
    "    * в столбцах year_of_release и critic_score пропуски заменили значением 0, этого значения нет в этих столбцах, его легко можно будет отсортировать при необходимости, изменили тип данных на целое число;\n",
    "    * в столбце user_score оставили пустые значения и также изменили на пустое значение, там где оценка не определена, чтобы привести в цифровой тип данных;\n",
    "    * в столбце rating заменили пустые значения на RP - рейтинг не определен;\n",
    "    \n",
    "    Добавили в датафрейм столбец с общими продажами по всем регионам\n",
    "     "
   ]
  },
  {
   "cell_type": "markdown",
   "metadata": {},
   "source": [
    "#### Исследовательский анализ данных"
   ]
  },
  {
   "cell_type": "markdown",
   "metadata": {},
   "source": [
    "<a id = '9-bullet'></a>\n",
    "##### Посмотрим сколько игр выпускалось в разные годы"
   ]
  },
  {
   "cell_type": "code",
   "execution_count": 31,
   "metadata": {},
   "outputs": [
    {
     "data": {
      "text/plain": [
       "Text(0.5, 1.0, 'Распределение выпускаемых игр по годам')"
      ]
     },
     "execution_count": 31,
     "metadata": {},
     "output_type": "execute_result"
    },
    {
     "data": {
      "image/png": "[encoded data removed]",
      "text/plain": [
       "<Figure size 432x288 with 1 Axes>"
      ]
     },
     "metadata": {
      "needs_background": "light"
     },
     "output_type": "display_data"
    }
   ],
   "source": [
    "games[games['year_of_release'] !=0].pivot_table(index='year_of_release', values='name', aggfunc='count').plot(grid=True)\n",
    "plt.xlabel('Год')\n",
    "plt.ylabel('Количество игр')\n",
    "plt.title('Распределение выпускаемых игр по годам')"
   ]
  },
  {
   "cell_type": "code",
   "execution_count": 32,
   "metadata": {},
   "outputs": [
    {
     "data": {
      "text/plain": [
       "Text(0.5, 1.0, 'Распределение выпускаемых игр по годам без дубликатов')"
      ]
     },
     "execution_count": 32,
     "metadata": {},
     "output_type": "execute_result"
    },
    {
     "data": {
      "image/png": "[encoded data removed]",
      "text/plain": [
       "<Figure size 432x288 with 1 Axes>"
      ]
     },
     "metadata": {
      "needs_background": "light"
     },
     "output_type": "display_data"
    }
   ],
   "source": [
    "games_2 = games[games.duplicated(['name', 'year_of_release'])==False]\n",
    "games_2[games_2['year_of_release'] !=0].pivot_table(index='year_of_release', values='name', aggfunc='count').plot(grid=True)\n",
    "plt.xlabel('Год')\n",
    "plt.ylabel('Количество игр')\n",
    "plt.title('Распределение выпускаемых игр по годам без дубликатов')"
   ]
  },
  {
   "cell_type": "markdown",
   "metadata": {},
   "source": [
    "Если не учитывать одни и теже игры выпущенные в одном году на разных платформах, график получится таки же по форме, но с пиком по количеству игр меньше."
   ]
  },
  {
   "cell_type": "markdown",
   "metadata": {},
   "source": [
    "Данные представлены с 1980 года, далее количество игр постепенно увеличивалось, пик выпуска игр приходится на 2007-2009гг, далее количество игр идет на спад, предполагаю это связано с развитием мобильных игр. Для дальнейшего анализа можно не использовать данные до 1990 года, в связи со значительно меньшем количестве игр."
   ]
  },
  {
   "cell_type": "markdown",
   "metadata": {},
   "source": [
    "<a id = '10-bullet'></a>\n",
    "##### Посмотрим как менялись продажи по платформам"
   ]
  },
  {
   "cell_type": "code",
   "execution_count": 33,
   "metadata": {},
   "outputs": [
    {
     "data": {
      "text/html": [
       "<div>\n",
       "<style scoped>\n",
       "    .dataframe tbody tr th:only-of-type {\n",
       "        vertical-align: middle;\n",
       "    }\n",
       "\n",
       "    .dataframe tbody tr th {\n",
       "        vertical-align: top;\n",
       "    }\n",
       "\n",
       "    .dataframe thead th {\n",
       "        text-align: right;\n",
       "    }\n",
       "</style>\n",
       "<table border=\"1\" class=\"dataframe\">\n",
       "  <thead>\n",
       "    <tr style=\"text-align: right;\">\n",
       "      <th></th>\n",
       "      <th>total_sales</th>\n",
       "    </tr>\n",
       "    <tr>\n",
       "      <th>platform</th>\n",
       "      <th></th>\n",
       "    </tr>\n",
       "  </thead>\n",
       "  <tbody>\n",
       "    <tr>\n",
       "      <th>PS2</th>\n",
       "      <td>1233.56</td>\n",
       "    </tr>\n",
       "    <tr>\n",
       "      <th>X360</th>\n",
       "      <td>961.24</td>\n",
       "    </tr>\n",
       "    <tr>\n",
       "      <th>PS3</th>\n",
       "      <td>931.33</td>\n",
       "    </tr>\n",
       "    <tr>\n",
       "      <th>Wii</th>\n",
       "      <td>891.18</td>\n",
       "    </tr>\n",
       "    <tr>\n",
       "      <th>DS</th>\n",
       "      <td>802.76</td>\n",
       "    </tr>\n",
       "    <tr>\n",
       "      <th>PS</th>\n",
       "      <td>727.58</td>\n",
       "    </tr>\n",
       "    <tr>\n",
       "      <th>PS4</th>\n",
       "      <td>314.14</td>\n",
       "    </tr>\n",
       "    <tr>\n",
       "      <th>GBA</th>\n",
       "      <td>312.88</td>\n",
       "    </tr>\n",
       "    <tr>\n",
       "      <th>PSP</th>\n",
       "      <td>289.53</td>\n",
       "    </tr>\n",
       "    <tr>\n",
       "      <th>3DS</th>\n",
       "      <td>257.81</td>\n",
       "    </tr>\n",
       "  </tbody>\n",
       "</table>\n",
       "</div>"
      ],
      "text/plain": [
       "          total_sales\n",
       "platform             \n",
       "PS2           1233.56\n",
       "X360           961.24\n",
       "PS3            931.33\n",
       "Wii            891.18\n",
       "DS             802.76\n",
       "PS             727.58\n",
       "PS4            314.14\n",
       "GBA            312.88\n",
       "PSP            289.53\n",
       "3DS            257.81"
      ]
     },
     "execution_count": 33,
     "metadata": {},
     "output_type": "execute_result"
    }
   ],
   "source": [
    "# выберем топ 10 платформ с наибольшими суммарными продажами, отсекая данные до 1990\n",
    "top_platform = games[games['year_of_release'] >1990].pivot_table(\n",
    "    index='platform', values='total_sales', aggfunc='sum').sort_values(\n",
    "    by = 'total_sales', ascending = False).head(10)\n",
    "top_platform"
   ]
  },
  {
   "cell_type": "code",
   "execution_count": 34,
   "metadata": {},
   "outputs": [
    {
     "data": {
      "text/plain": [
       "Text(0.5, 1.0, 'Топ-10 платформ по суммарным продажам')"
      ]
     },
     "execution_count": 34,
     "metadata": {},
     "output_type": "execute_result"
    },
    {
     "data": {
      "image/png": "[encoded data removed]",
      "text/plain": [
       "<Figure size 1440x360 with 1 Axes>"
      ]
     },
     "metadata": {
      "needs_background": "light"
     },
     "output_type": "display_data"
    }
   ],
   "source": [
    "# построим графики продаж по платформам из топ 10 \n",
    "\n",
    "games_top_platform = games[games['year_of_release'] >1990].query('platform in @top_platform.index').pivot_table(\n",
    "    index='year_of_release', columns='platform', values='total_sales', aggfunc='sum').reset_index() \n",
    "# games_top_platform датафрейм с топ-10 платформ по продажам\n",
    "\n",
    "games_top_platform.plot(grid=True, figsize = (20,5), x='year_of_release')\n",
    "plt.xlabel('Год')\n",
    "plt.ylabel('Продажи')\n",
    "plt.title('Топ-10 платформ по суммарным продажам')"
   ]
  },
  {
   "cell_type": "markdown",
   "metadata": {},
   "source": [
    "Из графика видно что средний срок активной работы платформы 5-7 лет. Компания Sony выпускает новую платформу, когда продажи по след идут на спад. Скоро должна выйти новая платформа (PS4 Pro вышла в ноябре 2016 г)"
   ]
  },
  {
   "cell_type": "code",
   "execution_count": 35,
   "metadata": {},
   "outputs": [
    {
     "data": {
      "text/plain": [
       "7.0"
      ]
     },
     "execution_count": 35,
     "metadata": {},
     "output_type": "execute_result"
    }
   ],
   "source": [
    "# рассчитаем средний срок работы платформы по всему датафрейму\n",
    "platform_work_period = games[games['year_of_release'] !=0].pivot_table(\n",
    "    index='platform', values='year_of_release', aggfunc=['min', 'max'])\n",
    "platform_work_period['period'] = platform_work_period['max'] - platform_work_period['min'] +1\n",
    "platform_work_period['period'].median() \n",
    "#берем медиану тк платформа PC выпускает игры на прояжении всего периода исследования, что исказит средний период работы платформ"
   ]
  },
  {
   "cell_type": "markdown",
   "metadata": {},
   "source": [
    "Будем использовать данные с 2013 по 2016гг."
   ]
  },
  {
   "cell_type": "code",
   "execution_count": 36,
   "metadata": {},
   "outputs": [],
   "source": [
    "games_act = games.loc[games['year_of_release']>2012] # датафрейм с данными с 2013 по 2016 гг"
   ]
  },
  {
   "cell_type": "code",
   "execution_count": 37,
   "metadata": {},
   "outputs": [
    {
     "data": {
      "text/html": [
       "<div>\n",
       "<style scoped>\n",
       "    .dataframe tbody tr th:only-of-type {\n",
       "        vertical-align: middle;\n",
       "    }\n",
       "\n",
       "    .dataframe tbody tr th {\n",
       "        vertical-align: top;\n",
       "    }\n",
       "\n",
       "    .dataframe thead th {\n",
       "        text-align: right;\n",
       "    }\n",
       "</style>\n",
       "<table border=\"1\" class=\"dataframe\">\n",
       "  <thead>\n",
       "    <tr style=\"text-align: right;\">\n",
       "      <th></th>\n",
       "      <th>total_sales</th>\n",
       "    </tr>\n",
       "    <tr>\n",
       "      <th>platform</th>\n",
       "      <th></th>\n",
       "    </tr>\n",
       "  </thead>\n",
       "  <tbody>\n",
       "    <tr>\n",
       "      <th>PS4</th>\n",
       "      <td>314.14</td>\n",
       "    </tr>\n",
       "    <tr>\n",
       "      <th>PS3</th>\n",
       "      <td>181.43</td>\n",
       "    </tr>\n",
       "    <tr>\n",
       "      <th>XOne</th>\n",
       "      <td>159.32</td>\n",
       "    </tr>\n",
       "    <tr>\n",
       "      <th>3DS</th>\n",
       "      <td>143.25</td>\n",
       "    </tr>\n",
       "    <tr>\n",
       "      <th>X360</th>\n",
       "      <td>136.80</td>\n",
       "    </tr>\n",
       "    <tr>\n",
       "      <th>WiiU</th>\n",
       "      <td>64.63</td>\n",
       "    </tr>\n",
       "    <tr>\n",
       "      <th>PC</th>\n",
       "      <td>39.43</td>\n",
       "    </tr>\n",
       "    <tr>\n",
       "      <th>PSV</th>\n",
       "      <td>32.99</td>\n",
       "    </tr>\n",
       "  </tbody>\n",
       "</table>\n",
       "</div>"
      ],
      "text/plain": [
       "          total_sales\n",
       "platform             \n",
       "PS4            314.14\n",
       "PS3            181.43\n",
       "XOne           159.32\n",
       "3DS            143.25\n",
       "X360           136.80\n",
       "WiiU            64.63\n",
       "PC              39.43\n",
       "PSV             32.99"
      ]
     },
     "execution_count": 37,
     "metadata": {},
     "output_type": "execute_result"
    }
   ],
   "source": [
    "# выберем топ-8 платформ по суммарным продажам за последние 4 года\n",
    "\n",
    "top_platform_act = games_act.pivot_table(index='platform', values='total_sales', aggfunc='sum').sort_values(\n",
    "    by = 'total_sales', ascending = False).head(8)\n",
    "top_platform_act"
   ]
  },
  {
   "cell_type": "code",
   "execution_count": 38,
   "metadata": {},
   "outputs": [
    {
     "data": {
      "text/plain": [
       "Text(0.5, 1.0, 'Топ-8 платформ по суммарным продажам за актуальный период')"
      ]
     },
     "execution_count": 38,
     "metadata": {},
     "output_type": "execute_result"
    },
    {
     "data": {
      "image/png": "[encoded data removed]",
      "text/plain": [
       "<Figure size 720x360 with 1 Axes>"
      ]
     },
     "metadata": {
      "needs_background": "light"
     },
     "output_type": "display_data"
    }
   ],
   "source": [
    "# построим графики продаж для топ-8 платформ за актуальный период\n",
    "sales_act_top_platform = games_act.query('platform in @top_platform_act.index').pivot_table(\n",
    "    index='year_of_release', columns='platform', values='total_sales', aggfunc='sum').reset_index()\n",
    "sales_act_top_platform.plot(grid=True, figsize = (10,5), x='year_of_release')\n",
    "plt.legend(bbox_to_anchor=(1, 0.6))\n",
    "plt.xticks([2013, 2014, 2015, 2016])\n",
    "plt.xlabel('Год')\n",
    "plt.ylabel('Продажи')\n",
    "plt.title('Топ-8 платформ по суммарным продажам за актуальный период')"
   ]
  },
  {
   "cell_type": "code",
   "execution_count": 39,
   "metadata": {},
   "outputs": [
    {
     "data": {
      "text/html": [
       "<div>\n",
       "<style scoped>\n",
       "    .dataframe tbody tr th:only-of-type {\n",
       "        vertical-align: middle;\n",
       "    }\n",
       "\n",
       "    .dataframe tbody tr th {\n",
       "        vertical-align: top;\n",
       "    }\n",
       "\n",
       "    .dataframe thead th {\n",
       "        text-align: right;\n",
       "    }\n",
       "</style>\n",
       "<table border=\"1\" class=\"dataframe\">\n",
       "  <thead>\n",
       "    <tr style=\"text-align: right;\">\n",
       "      <th>platform</th>\n",
       "      <th>year_of_release</th>\n",
       "      <th>3DS</th>\n",
       "      <th>PC</th>\n",
       "      <th>PS3</th>\n",
       "      <th>PS4</th>\n",
       "      <th>PSV</th>\n",
       "      <th>WiiU</th>\n",
       "      <th>X360</th>\n",
       "      <th>XOne</th>\n",
       "    </tr>\n",
       "  </thead>\n",
       "  <tbody>\n",
       "    <tr>\n",
       "      <th>0</th>\n",
       "      <td>2013</td>\n",
       "      <td>56.57</td>\n",
       "      <td>12.38</td>\n",
       "      <td>113.25</td>\n",
       "      <td>25.99</td>\n",
       "      <td>10.59</td>\n",
       "      <td>21.65</td>\n",
       "      <td>88.58</td>\n",
       "      <td>18.96</td>\n",
       "    </tr>\n",
       "    <tr>\n",
       "      <th>1</th>\n",
       "      <td>2014</td>\n",
       "      <td>43.76</td>\n",
       "      <td>13.28</td>\n",
       "      <td>47.76</td>\n",
       "      <td>100.00</td>\n",
       "      <td>11.90</td>\n",
       "      <td>22.03</td>\n",
       "      <td>34.74</td>\n",
       "      <td>54.07</td>\n",
       "    </tr>\n",
       "    <tr>\n",
       "      <th>2</th>\n",
       "      <td>2015</td>\n",
       "      <td>27.78</td>\n",
       "      <td>8.52</td>\n",
       "      <td>16.82</td>\n",
       "      <td>118.90</td>\n",
       "      <td>6.25</td>\n",
       "      <td>16.35</td>\n",
       "      <td>11.96</td>\n",
       "      <td>60.14</td>\n",
       "    </tr>\n",
       "    <tr>\n",
       "      <th>3</th>\n",
       "      <td>2016</td>\n",
       "      <td>15.14</td>\n",
       "      <td>5.25</td>\n",
       "      <td>3.60</td>\n",
       "      <td>69.25</td>\n",
       "      <td>4.25</td>\n",
       "      <td>4.60</td>\n",
       "      <td>1.52</td>\n",
       "      <td>26.15</td>\n",
       "    </tr>\n",
       "  </tbody>\n",
       "</table>\n",
       "</div>"
      ],
      "text/plain": [
       "platform  year_of_release    3DS     PC     PS3     PS4    PSV   WiiU   X360  \\\n",
       "0                    2013  56.57  12.38  113.25   25.99  10.59  21.65  88.58   \n",
       "1                    2014  43.76  13.28   47.76  100.00  11.90  22.03  34.74   \n",
       "2                    2015  27.78   8.52   16.82  118.90   6.25  16.35  11.96   \n",
       "3                    2016  15.14   5.25    3.60   69.25   4.25   4.60   1.52   \n",
       "\n",
       "platform   XOne  \n",
       "0         18.96  \n",
       "1         54.07  \n",
       "2         60.14  \n",
       "3         26.15  "
      ]
     },
     "execution_count": 39,
     "metadata": {},
     "output_type": "execute_result"
    }
   ],
   "source": [
    "sales_act_top_platform # сводная таблица по продажам на топ-8 платоформах"
   ]
  },
  {
   "cell_type": "markdown",
   "metadata": {},
   "source": [
    "    За последние 4 года максимальные продажи у платформ PS4, PS3, XOne. На 2016 год продажи по всем платформам падают. Наибольшие продажи за 2016 по платформам PS4 и XOne, т.к. они являются относительно свежими и видимо наиболее востребованными и потенциально прибыльными на данный момент."
   ]
  },
  {
   "cell_type": "code",
   "execution_count": 40,
   "metadata": {},
   "outputs": [
    {
     "data": {
      "text/plain": [
       "Text(0.5, 1.0, 'Топ-8 платформ по суммарным продажам за актуальный период')"
      ]
     },
     "execution_count": 40,
     "metadata": {},
     "output_type": "execute_result"
    },
    {
     "data": {
      "image/png": "[encoded data removed]",
      "text/plain": [
       "<Figure size 1080x720 with 1 Axes>"
      ]
     },
     "metadata": {
      "needs_background": "light"
     },
     "output_type": "display_data"
    }
   ],
   "source": [
    "# построим диаграмму размаха для каждой платформы из топ-8\n",
    "games_act_top_platform = games_act.query('platform in @top_platform_act.index')\n",
    "plt.figure(figsize=(15, 10))\n",
    "sns.boxplot(data=games_act_top_platform, x='platform', y='total_sales')\n",
    "#plt.ylim(0, 3)\n",
    "plt.xlabel('Платформа')\n",
    "plt.ylabel('Продажи')\n",
    "plt.title('Топ-8 платформ по суммарным продажам за актуальный период')"
   ]
  },
  {
   "cell_type": "markdown",
   "metadata": {},
   "source": [
    "    Построим увеличенный график и используем describe()."
   ]
  },
  {
   "cell_type": "code",
   "execution_count": 41,
   "metadata": {},
   "outputs": [
    {
     "data": {
      "text/plain": [
       "Text(0.5, 1.0, 'Топ-8 платформ по суммарным продажам за актуальный период')"
      ]
     },
     "execution_count": 41,
     "metadata": {},
     "output_type": "execute_result"
    },
    {
     "data": {
      "image/png": "[encoded data removed]",
      "text/plain": [
       "<Figure size 1080x720 with 1 Axes>"
      ]
     },
     "metadata": {
      "needs_background": "light"
     },
     "output_type": "display_data"
    }
   ],
   "source": [
    "# построим диаграмму размаха для каждой платформы из топ-8, с увеличением диаграмм размаха\n",
    "games_act_top_platform = games_act.query('platform in @top_platform_act.index')\n",
    "plt.figure(figsize=(15, 10))\n",
    "sns.boxplot(data=games_act_top_platform, x='platform', y='total_sales')\n",
    "plt.ylim(0, 0.8)\n",
    "plt.xlabel('Платформа')\n",
    "plt.ylabel('Продажи')\n",
    "plt.title('Топ-8 платформ по суммарным продажам за актуальный период')"
   ]
  },
  {
   "cell_type": "code",
   "execution_count": 42,
   "metadata": {},
   "outputs": [
    {
     "data": {
      "text/plain": [
       "count    345.000000\n",
       "mean       0.525884\n",
       "std        1.451939\n",
       "min        0.010000\n",
       "25%        0.040000\n",
       "50%        0.150000\n",
       "75%        0.510000\n",
       "max       21.050000\n",
       "Name: total_sales, dtype: float64"
      ]
     },
     "execution_count": 42,
     "metadata": {},
     "output_type": "execute_result"
    }
   ],
   "source": [
    "games_act_top_platform.loc[games_act_top_platform['platform']=='PS3']['total_sales'].describe()"
   ]
  },
  {
   "cell_type": "code",
   "execution_count": 43,
   "metadata": {},
   "outputs": [
    {
     "data": {
      "text/plain": [
       "count    392.000000\n",
       "mean       0.801378\n",
       "std        1.609456\n",
       "min        0.010000\n",
       "25%        0.060000\n",
       "50%        0.200000\n",
       "75%        0.730000\n",
       "max       14.630000\n",
       "Name: total_sales, dtype: float64"
      ]
     },
     "execution_count": 43,
     "metadata": {},
     "output_type": "execute_result"
    }
   ],
   "source": [
    "games_act_top_platform.loc[games_act_top_platform['platform']=='PS4']['total_sales'].describe()"
   ]
  },
  {
   "cell_type": "code",
   "execution_count": 44,
   "metadata": {},
   "outputs": [
    {
     "data": {
      "text/plain": [
       "count    247.000000\n",
       "mean       0.645020\n",
       "std        1.036139\n",
       "min        0.010000\n",
       "25%        0.060000\n",
       "50%        0.220000\n",
       "75%        0.685000\n",
       "max        7.390000\n",
       "Name: total_sales, dtype: float64"
      ]
     },
     "execution_count": 44,
     "metadata": {},
     "output_type": "execute_result"
    }
   ],
   "source": [
    "games_act_top_platform.loc[games_act_top_platform['platform']=='XOne']['total_sales'].describe()"
   ]
  },
  {
   "cell_type": "code",
   "execution_count": 45,
   "metadata": {},
   "outputs": [
    {
     "data": {
      "text/plain": [
       "count    186.000000\n",
       "mean       0.735484\n",
       "std        1.663275\n",
       "min        0.010000\n",
       "25%        0.080000\n",
       "50%        0.265000\n",
       "75%        0.795000\n",
       "max       16.270000\n",
       "Name: total_sales, dtype: float64"
      ]
     },
     "execution_count": 45,
     "metadata": {},
     "output_type": "execute_result"
    }
   ],
   "source": [
    "games_act_top_platform.loc[games_act_top_platform['platform']=='X360']['total_sales'].describe()"
   ]
  },
  {
   "cell_type": "markdown",
   "metadata": {},
   "source": [
    "Большая часть игр у каждой платформы приносит доход в диапазоне до 0,5-0,8 млн, медианное значение в районе 0,2 млн за игру. Имеется большое количество выбросов - видимо это единичные игры с большим доходом (популярные игры). Т.е. у основной массы игр продажи небольшие, но большую долю продаж составляют популярные (хитовые) игры."
   ]
  },
  {
   "cell_type": "markdown",
   "metadata": {},
   "source": [
    "<a id = '11-bullet'></a>\n",
    "#####     Посмотрим как влияют на продажи внутри платформы отзывы пользователей и критиков"
   ]
  },
  {
   "cell_type": "code",
   "execution_count": 46,
   "metadata": {},
   "outputs": [
    {
     "name": "stdout",
     "output_type": "stream",
     "text": [
      "Коэффициент корреляции 0.22\n"
     ]
    },
    {
     "data": {
      "image/png": "[encoded data removed]",
      "text/plain": [
       "<Figure size 432x288 with 1 Axes>"
      ]
     },
     "metadata": {
      "needs_background": "light"
     },
     "output_type": "display_data"
    }
   ],
   "source": [
    "# постороим диаграмму рассеяния для топ-8 платформ по оценкам критиков и пользователей и посчитаем коэффициенты корреляции\n",
    "games_act_top_platform[games_act_top_platform['critic_score']>0].plot(y='total_sales',x='critic_score', kind='scatter')\n",
    "plt.xlabel('Оценка критиков')\n",
    "plt.ylabel('Продажи')\n",
    "plt.title('Топ-8 платформ')\n",
    "print('Коэффициент корреляции', games_act_top_platform['total_sales'].corr(games_act_top_platform['critic_score']).round(2))"
   ]
  },
  {
   "cell_type": "code",
   "execution_count": 47,
   "metadata": {},
   "outputs": [
    {
     "name": "stdout",
     "output_type": "stream",
     "text": [
      "Коэффициент корреляции -0.0\n"
     ]
    },
    {
     "data": {
      "image/png": "[encoded data removed]",
      "text/plain": [
       "<Figure size 432x288 with 1 Axes>"
      ]
     },
     "metadata": {
      "needs_background": "light"
     },
     "output_type": "display_data"
    }
   ],
   "source": [
    "games_act_top_platform.plot(y='total_sales',x='user_score', kind='scatter')\n",
    "plt.xlabel('Оценка пользователей')\n",
    "plt.ylabel('Продажи')\n",
    "plt.title('Топ-8 платформ')\n",
    "print('Коэффициент корреляции', games_act_top_platform['total_sales'].corr(games_act_top_platform['user_score']).round(2))"
   ]
  },
  {
   "cell_type": "code",
   "execution_count": 48,
   "metadata": {},
   "outputs": [],
   "source": [
    "# функцию для изучения корреляции между продажами и оценками критиков и пользователей для любой платформы\n",
    "\n",
    "def platfotm_corr(p):\n",
    "    games_act_top_platform[(games_act_top_platform['platform']==p)&(games_act_top_platform['critic_score']>0)].plot(\n",
    "        y='total_sales',x='critic_score', kind='scatter')\n",
    "    plt.xlabel('Оценка критиков')\n",
    "    plt.ylabel('Продажи')\n",
    "    plt.title(p)\n",
    "    print('Коэффициент корреляции по оценкам критиков', games_act_top_platform[games_act_top_platform['platform']==p][\n",
    "        'total_sales'].corr(games_act_top_platform[games_act_top_platform['platform']==p]['critic_score']).round(2))\n",
    "    games_act_top_platform[games_act_top_platform['platform']==p].plot(y='total_sales',x='user_score', kind='scatter')\n",
    "    plt.xlabel('Оценка пользователей')\n",
    "    plt.ylabel('Продажи')\n",
    "    plt.title(p)\n",
    "    print('Коэффициент корреляции по оценкам пользователей', games_act_top_platform[games_act_top_platform['platform']==p][\n",
    "        'total_sales'].corr(games_act_top_platform[games_act_top_platform['platform']==p]['user_score']).round(2))"
   ]
  },
  {
   "cell_type": "markdown",
   "metadata": {},
   "source": [
    "Изучим корреляцию для нескольких платформ - с максимальными продажами за актуальный период, и две платформы отмеченные как перспективные."
   ]
  },
  {
   "cell_type": "code",
   "execution_count": 49,
   "metadata": {},
   "outputs": [
    {
     "name": "stdout",
     "output_type": "stream",
     "text": [
      "Коэффициент корреляции по оценкам критиков 0.28\n",
      "Коэффициент корреляции по оценкам пользователей 0.0\n"
     ]
    },
    {
     "data": {
      "image/png": "[encoded data removed]",
      "text/plain": [
       "<Figure size 432x288 with 1 Axes>"
      ]
     },
     "metadata": {
      "needs_background": "light"
     },
     "output_type": "display_data"
    },
    {
     "data": {
      "image/png": "[encoded data removed]",
      "text/plain": [
       "<Figure size 432x288 with 1 Axes>"
      ]
     },
     "metadata": {
      "needs_background": "light"
     },
     "output_type": "display_data"
    }
   ],
   "source": [
    "platfotm_corr('PS3')"
   ]
  },
  {
   "cell_type": "code",
   "execution_count": 50,
   "metadata": {},
   "outputs": [
    {
     "name": "stdout",
     "output_type": "stream",
     "text": [
      "Коэффициент корреляции по оценкам критиков 0.23\n",
      "Коэффициент корреляции по оценкам пользователей -0.03\n"
     ]
    },
    {
     "data": {
      "image/png": "[encoded data removed]",
      "text/plain": [
       "<Figure size 432x288 with 1 Axes>"
      ]
     },
     "metadata": {
      "needs_background": "light"
     },
     "output_type": "display_data"
    },
    {
     "data": {
      "image/png": "[encoded data removed]",
      "text/plain": [
       "<Figure size 432x288 with 1 Axes>"
      ]
     },
     "metadata": {
      "needs_background": "light"
     },
     "output_type": "display_data"
    }
   ],
   "source": [
    "platfotm_corr('PS4')"
   ]
  },
  {
   "cell_type": "code",
   "execution_count": 51,
   "metadata": {},
   "outputs": [
    {
     "name": "stdout",
     "output_type": "stream",
     "text": [
      "Коэффициент корреляции по оценкам критиков 0.27\n",
      "Коэффициент корреляции по оценкам пользователей -0.07\n"
     ]
    },
    {
     "data": {
      "image/png": "[encoded data removed]",
      "text/plain": [
       "<Figure size 432x288 with 1 Axes>"
      ]
     },
     "metadata": {
      "needs_background": "light"
     },
     "output_type": "display_data"
    },
    {
     "data": {
      "image/png": "[encoded data removed]",
      "text/plain": [
       "<Figure size 432x288 with 1 Axes>"
      ]
     },
     "metadata": {
      "needs_background": "light"
     },
     "output_type": "display_data"
    }
   ],
   "source": [
    "platfotm_corr('XOne')"
   ]
  },
  {
   "cell_type": "markdown",
   "metadata": {},
   "source": [
    "    Оценки критиков демонстрируют прямую, средне-слабую корреляцию с продажами игр. Оценки пользователей корреляции с продажами не имеют. Но с точки зрения продаж логично обращать внимание хотябы на оценки критиков."
   ]
  },
  {
   "cell_type": "markdown",
   "metadata": {},
   "source": [
    "<a id = '12-bullet'></a>\n",
    "#####     Посмотрим распределение игр по жанрам"
   ]
  },
  {
   "cell_type": "code",
   "execution_count": 52,
   "metadata": {},
   "outputs": [
    {
     "data": {
      "text/html": [
       "<div>\n",
       "<style scoped>\n",
       "    .dataframe tbody tr th:only-of-type {\n",
       "        vertical-align: middle;\n",
       "    }\n",
       "\n",
       "    .dataframe tbody tr th {\n",
       "        vertical-align: top;\n",
       "    }\n",
       "\n",
       "    .dataframe thead th {\n",
       "        text-align: right;\n",
       "    }\n",
       "</style>\n",
       "<table border=\"1\" class=\"dataframe\">\n",
       "  <thead>\n",
       "    <tr style=\"text-align: right;\">\n",
       "      <th></th>\n",
       "      <th>genre</th>\n",
       "      <th>total_sales</th>\n",
       "      <th>games</th>\n",
       "      <th>mean</th>\n",
       "    </tr>\n",
       "  </thead>\n",
       "  <tbody>\n",
       "    <tr>\n",
       "      <th>0</th>\n",
       "      <td>Action</td>\n",
       "      <td>321.87</td>\n",
       "      <td>766</td>\n",
       "      <td>0.420196</td>\n",
       "    </tr>\n",
       "    <tr>\n",
       "      <th>8</th>\n",
       "      <td>Shooter</td>\n",
       "      <td>232.98</td>\n",
       "      <td>187</td>\n",
       "      <td>1.245882</td>\n",
       "    </tr>\n",
       "    <tr>\n",
       "      <th>10</th>\n",
       "      <td>Sports</td>\n",
       "      <td>150.65</td>\n",
       "      <td>214</td>\n",
       "      <td>0.703972</td>\n",
       "    </tr>\n",
       "    <tr>\n",
       "      <th>7</th>\n",
       "      <td>Role-Playing</td>\n",
       "      <td>145.89</td>\n",
       "      <td>292</td>\n",
       "      <td>0.499623</td>\n",
       "    </tr>\n",
       "    <tr>\n",
       "      <th>3</th>\n",
       "      <td>Misc</td>\n",
       "      <td>62.82</td>\n",
       "      <td>155</td>\n",
       "      <td>0.405290</td>\n",
       "    </tr>\n",
       "    <tr>\n",
       "      <th>4</th>\n",
       "      <td>Platform</td>\n",
       "      <td>42.63</td>\n",
       "      <td>74</td>\n",
       "      <td>0.576081</td>\n",
       "    </tr>\n",
       "    <tr>\n",
       "      <th>6</th>\n",
       "      <td>Racing</td>\n",
       "      <td>39.89</td>\n",
       "      <td>85</td>\n",
       "      <td>0.469294</td>\n",
       "    </tr>\n",
       "    <tr>\n",
       "      <th>2</th>\n",
       "      <td>Fighting</td>\n",
       "      <td>35.31</td>\n",
       "      <td>80</td>\n",
       "      <td>0.441375</td>\n",
       "    </tr>\n",
       "    <tr>\n",
       "      <th>1</th>\n",
       "      <td>Adventure</td>\n",
       "      <td>23.64</td>\n",
       "      <td>245</td>\n",
       "      <td>0.096490</td>\n",
       "    </tr>\n",
       "    <tr>\n",
       "      <th>9</th>\n",
       "      <td>Simulation</td>\n",
       "      <td>21.76</td>\n",
       "      <td>62</td>\n",
       "      <td>0.350968</td>\n",
       "    </tr>\n",
       "    <tr>\n",
       "      <th>11</th>\n",
       "      <td>Strategy</td>\n",
       "      <td>10.08</td>\n",
       "      <td>56</td>\n",
       "      <td>0.180000</td>\n",
       "    </tr>\n",
       "    <tr>\n",
       "      <th>5</th>\n",
       "      <td>Puzzle</td>\n",
       "      <td>3.17</td>\n",
       "      <td>17</td>\n",
       "      <td>0.186471</td>\n",
       "    </tr>\n",
       "  </tbody>\n",
       "</table>\n",
       "</div>"
      ],
      "text/plain": [
       "           genre  total_sales  games      mean\n",
       "0         Action       321.87    766  0.420196\n",
       "8        Shooter       232.98    187  1.245882\n",
       "10        Sports       150.65    214  0.703972\n",
       "7   Role-Playing       145.89    292  0.499623\n",
       "3           Misc        62.82    155  0.405290\n",
       "4       Platform        42.63     74  0.576081\n",
       "6         Racing        39.89     85  0.469294\n",
       "2       Fighting        35.31     80  0.441375\n",
       "1      Adventure        23.64    245  0.096490\n",
       "9     Simulation        21.76     62  0.350968\n",
       "11      Strategy        10.08     56  0.180000\n",
       "5         Puzzle         3.17     17  0.186471"
      ]
     },
     "execution_count": 52,
     "metadata": {},
     "output_type": "execute_result"
    }
   ],
   "source": [
    "genre_act = games_act.pivot_table(index='genre', values='total_sales', aggfunc=['sum', 'count', 'mean']).reset_index()\n",
    "genre_act.columns = ['genre', 'total_sales', 'games', 'mean']\n",
    "genre_act.sort_values(by = 'total_sales', ascending = False)"
   ]
  },
  {
   "cell_type": "code",
   "execution_count": 53,
   "metadata": {},
   "outputs": [
    {
     "data": {
      "text/plain": [
       "Text(0.5, 1.0, 'Распределение игр по жанрам')"
      ]
     },
     "execution_count": 53,
     "metadata": {},
     "output_type": "execute_result"
    },
    {
     "data": {
      "image/png": "[encoded data removed]",
      "text/plain": [
       "<Figure size 720x576 with 1 Axes>"
      ]
     },
     "metadata": {},
     "output_type": "display_data"
    }
   ],
   "source": [
    "plt.figure(figsize=(10,8))\n",
    "plt.pie(genre_act['total_sales'], labels=genre_act['genre'], autopct='%1.1f%%')\n",
    "plt.title('Распределение игр по жанрам')"
   ]
  },
  {
   "cell_type": "markdown",
   "metadata": {},
   "source": [
    "Самые прибыльные жанры по выборке за актуальный период это Экшены, Шутеры и спортивные и РПГ игры, при этом средняя цена игры у шутеров значительно выше, чем в остальных жанрах. Распределение между по жанрам с максимальными и минимальными продажами имеют существенную разницу по сумме продаж и количеству игр."
   ]
  },
  {
   "cell_type": "markdown",
   "metadata": {},
   "source": [
    "**Вывод**\n",
    "\n",
    "    Данные представлены с 1980 года. Со временем количество игр постепенно увеличивалось, в 2000 количество выпускаемых игр стало расти быстрее, пик выпуска игр приходится на 2007-2009гг. После 2009г количество игр идет на спад, предполагаю это может быть связано с экономическим кризисом и последующим увеличением рынка мобильных игр. Для дальнейшего анализа можно не использовать данные до 1990 года, в связи со значительно меньшем количестве игр.\n",
    "    Из построенных графиков и расчета средней продолжительности жизни платформы считаем, что актуальный период равен 7 годам. За последние 7 лет максимальные продажи у платформ PS3, X360, PS4. На 2016 год продажи по всем платформам идут на спад. Наибольшие продажи за 2016 по платформам PS4 и XOne, т.к. они являются относительно свежими и видимо наиболее востребованными и потенциально прибыльными на данный момент.\n",
    "    Основную долю продаж по платформам составляют популярные (хитовые) игры.\n",
    "    Была изучена корреляция для нескольких платформ - с максимальными продажами за актуальный период, и две платформы отмеченные как перспективные. Внутри платформ оценки критиков имеют слабое влияние на продажи игр, а оценки пользователей вообще практически не влияют.\n",
    "    Самые прибыльные жанры по выборке за актуальный период это Экшены, Шутеры и спортивные и РПГ игры, при этом средняя цена игры у шутеров значительно выше, чем в остальных жанрах."
   ]
  },
  {
   "cell_type": "markdown",
   "metadata": {},
   "source": [
    "#### Портрет пользователя для каждого региона"
   ]
  },
  {
   "cell_type": "markdown",
   "metadata": {},
   "source": [
    "<a id = '13-bullet'></a>\n",
    "##### Самые популярные платформы (топ-5)."
   ]
  },
  {
   "cell_type": "code",
   "execution_count": 54,
   "metadata": {},
   "outputs": [],
   "source": [
    "# создадим функцию для визуализации данных в разрезе определенного столбца данных и продажами в определенном регионе\n",
    "\n",
    "def games_region(i, sales):\n",
    "\n",
    "    games_top_platform_region = games_act.pivot_table(index=i, values=sales, aggfunc='sum').reset_index().sort_values(\n",
    "        by = sales, ascending = False).head(5)\n",
    "\n",
    "    display(games_top_platform_region)\n",
    "\n",
    "    plt.figure(figsize=(5,5))\n",
    "    plt.pie(games_top_platform_region[sales], labels=games_top_platform_region[i], autopct='%1.1f%%')\n",
    "    plt.title('Распределение игр')"
   ]
  },
  {
   "cell_type": "code",
   "execution_count": 55,
   "metadata": {},
   "outputs": [
    {
     "data": {
      "text/html": [
       "<div>\n",
       "<style scoped>\n",
       "    .dataframe tbody tr th:only-of-type {\n",
       "        vertical-align: middle;\n",
       "    }\n",
       "\n",
       "    .dataframe tbody tr th {\n",
       "        vertical-align: top;\n",
       "    }\n",
       "\n",
       "    .dataframe thead th {\n",
       "        text-align: right;\n",
       "    }\n",
       "</style>\n",
       "<table border=\"1\" class=\"dataframe\">\n",
       "  <thead>\n",
       "    <tr style=\"text-align: right;\">\n",
       "      <th></th>\n",
       "      <th>platform</th>\n",
       "      <th>na_sales</th>\n",
       "    </tr>\n",
       "  </thead>\n",
       "  <tbody>\n",
       "    <tr>\n",
       "      <th>4</th>\n",
       "      <td>PS4</td>\n",
       "      <td>108.74</td>\n",
       "    </tr>\n",
       "    <tr>\n",
       "      <th>10</th>\n",
       "      <td>XOne</td>\n",
       "      <td>93.12</td>\n",
       "    </tr>\n",
       "    <tr>\n",
       "      <th>9</th>\n",
       "      <td>X360</td>\n",
       "      <td>81.66</td>\n",
       "    </tr>\n",
       "    <tr>\n",
       "      <th>3</th>\n",
       "      <td>PS3</td>\n",
       "      <td>63.50</td>\n",
       "    </tr>\n",
       "    <tr>\n",
       "      <th>0</th>\n",
       "      <td>3DS</td>\n",
       "      <td>38.20</td>\n",
       "    </tr>\n",
       "  </tbody>\n",
       "</table>\n",
       "</div>"
      ],
      "text/plain": [
       "   platform  na_sales\n",
       "4       PS4    108.74\n",
       "10     XOne     93.12\n",
       "9      X360     81.66\n",
       "3       PS3     63.50\n",
       "0       3DS     38.20"
      ]
     },
     "metadata": {},
     "output_type": "display_data"
    },
    {
     "data": {
      "image/png": "[encoded data removed]",
      "text/plain": [
       "<Figure size 360x360 with 1 Axes>"
      ]
     },
     "metadata": {},
     "output_type": "display_data"
    }
   ],
   "source": [
    "games_region('platform', 'na_sales')"
   ]
  },
  {
   "cell_type": "code",
   "execution_count": 56,
   "metadata": {},
   "outputs": [
    {
     "data": {
      "text/html": [
       "<div>\n",
       "<style scoped>\n",
       "    .dataframe tbody tr th:only-of-type {\n",
       "        vertical-align: middle;\n",
       "    }\n",
       "\n",
       "    .dataframe tbody tr th {\n",
       "        vertical-align: top;\n",
       "    }\n",
       "\n",
       "    .dataframe thead th {\n",
       "        text-align: right;\n",
       "    }\n",
       "</style>\n",
       "<table border=\"1\" class=\"dataframe\">\n",
       "  <thead>\n",
       "    <tr style=\"text-align: right;\">\n",
       "      <th></th>\n",
       "      <th>platform</th>\n",
       "      <th>eu_sales</th>\n",
       "    </tr>\n",
       "  </thead>\n",
       "  <tbody>\n",
       "    <tr>\n",
       "      <th>4</th>\n",
       "      <td>PS4</td>\n",
       "      <td>141.09</td>\n",
       "    </tr>\n",
       "    <tr>\n",
       "      <th>3</th>\n",
       "      <td>PS3</td>\n",
       "      <td>67.81</td>\n",
       "    </tr>\n",
       "    <tr>\n",
       "      <th>10</th>\n",
       "      <td>XOne</td>\n",
       "      <td>51.59</td>\n",
       "    </tr>\n",
       "    <tr>\n",
       "      <th>9</th>\n",
       "      <td>X360</td>\n",
       "      <td>42.52</td>\n",
       "    </tr>\n",
       "    <tr>\n",
       "      <th>0</th>\n",
       "      <td>3DS</td>\n",
       "      <td>30.96</td>\n",
       "    </tr>\n",
       "  </tbody>\n",
       "</table>\n",
       "</div>"
      ],
      "text/plain": [
       "   platform  eu_sales\n",
       "4       PS4    141.09\n",
       "3       PS3     67.81\n",
       "10     XOne     51.59\n",
       "9      X360     42.52\n",
       "0       3DS     30.96"
      ]
     },
     "metadata": {},
     "output_type": "display_data"
    },
    {
     "data": {
      "image/png": "[encoded data removed]",
      "text/plain": [
       "<Figure size 360x360 with 1 Axes>"
      ]
     },
     "metadata": {},
     "output_type": "display_data"
    }
   ],
   "source": [
    "games_region('platform', 'eu_sales')"
   ]
  },
  {
   "cell_type": "code",
   "execution_count": 57,
   "metadata": {},
   "outputs": [
    {
     "data": {
      "text/html": [
       "<div>\n",
       "<style scoped>\n",
       "    .dataframe tbody tr th:only-of-type {\n",
       "        vertical-align: middle;\n",
       "    }\n",
       "\n",
       "    .dataframe tbody tr th {\n",
       "        vertical-align: top;\n",
       "    }\n",
       "\n",
       "    .dataframe thead th {\n",
       "        text-align: right;\n",
       "    }\n",
       "</style>\n",
       "<table border=\"1\" class=\"dataframe\">\n",
       "  <thead>\n",
       "    <tr style=\"text-align: right;\">\n",
       "      <th></th>\n",
       "      <th>platform</th>\n",
       "      <th>jp_sales</th>\n",
       "    </tr>\n",
       "  </thead>\n",
       "  <tbody>\n",
       "    <tr>\n",
       "      <th>0</th>\n",
       "      <td>3DS</td>\n",
       "      <td>67.81</td>\n",
       "    </tr>\n",
       "    <tr>\n",
       "      <th>3</th>\n",
       "      <td>PS3</td>\n",
       "      <td>23.35</td>\n",
       "    </tr>\n",
       "    <tr>\n",
       "      <th>6</th>\n",
       "      <td>PSV</td>\n",
       "      <td>18.59</td>\n",
       "    </tr>\n",
       "    <tr>\n",
       "      <th>4</th>\n",
       "      <td>PS4</td>\n",
       "      <td>15.96</td>\n",
       "    </tr>\n",
       "    <tr>\n",
       "      <th>8</th>\n",
       "      <td>WiiU</td>\n",
       "      <td>10.88</td>\n",
       "    </tr>\n",
       "  </tbody>\n",
       "</table>\n",
       "</div>"
      ],
      "text/plain": [
       "  platform  jp_sales\n",
       "0      3DS     67.81\n",
       "3      PS3     23.35\n",
       "6      PSV     18.59\n",
       "4      PS4     15.96\n",
       "8     WiiU     10.88"
      ]
     },
     "metadata": {},
     "output_type": "display_data"
    },
    {
     "data": {
      "image/png": "[encoded data removed]",
      "text/plain": [
       "<Figure size 360x360 with 1 Axes>"
      ]
     },
     "metadata": {},
     "output_type": "display_data"
    }
   ],
   "source": [
    "games_region('platform', 'jp_sales')"
   ]
  },
  {
   "cell_type": "markdown",
   "metadata": {},
   "source": [
    "Самые популярные платформы для Америки и Европы это PS3, PS4 и ХOne, на них приходится более половины продаж. В Японии самые популярные платформы PS3  и 3DS. Вообще у Европы и Америки популярные платформы почти одни и теже, немного по другому распределены доли продаж. В Японии больше предпочитают портативные консоли."
   ]
  },
  {
   "cell_type": "markdown",
   "metadata": {},
   "source": [
    "<a id = '14-bullet'></a>\n",
    "##### Самые популярные жанры(топ-5)"
   ]
  },
  {
   "cell_type": "code",
   "execution_count": 69,
   "metadata": {},
   "outputs": [
    {
     "data": {
      "text/html": [
       "<div>\n",
       "<style scoped>\n",
       "    .dataframe tbody tr th:only-of-type {\n",
       "        vertical-align: middle;\n",
       "    }\n",
       "\n",
       "    .dataframe tbody tr th {\n",
       "        vertical-align: top;\n",
       "    }\n",
       "\n",
       "    .dataframe thead th {\n",
       "        text-align: right;\n",
       "    }\n",
       "</style>\n",
       "<table border=\"1\" class=\"dataframe\">\n",
       "  <thead>\n",
       "    <tr style=\"text-align: right;\">\n",
       "      <th></th>\n",
       "      <th>genre</th>\n",
       "      <th>na_sales</th>\n",
       "    </tr>\n",
       "  </thead>\n",
       "  <tbody>\n",
       "    <tr>\n",
       "      <th>0</th>\n",
       "      <td>Action</td>\n",
       "      <td>126.05</td>\n",
       "    </tr>\n",
       "    <tr>\n",
       "      <th>8</th>\n",
       "      <td>Shooter</td>\n",
       "      <td>109.74</td>\n",
       "    </tr>\n",
       "    <tr>\n",
       "      <th>10</th>\n",
       "      <td>Sports</td>\n",
       "      <td>65.27</td>\n",
       "    </tr>\n",
       "    <tr>\n",
       "      <th>7</th>\n",
       "      <td>Role-Playing</td>\n",
       "      <td>46.40</td>\n",
       "    </tr>\n",
       "    <tr>\n",
       "      <th>3</th>\n",
       "      <td>Misc</td>\n",
       "      <td>27.49</td>\n",
       "    </tr>\n",
       "  </tbody>\n",
       "</table>\n",
       "</div>"
      ],
      "text/plain": [
       "           genre  na_sales\n",
       "0         Action    126.05\n",
       "8        Shooter    109.74\n",
       "10        Sports     65.27\n",
       "7   Role-Playing     46.40\n",
       "3           Misc     27.49"
      ]
     },
     "metadata": {},
     "output_type": "display_data"
    },
    {
     "data": {
      "image/png": "[encoded data removed]",
      "text/plain": [
       "<Figure size 360x360 with 1 Axes>"
      ]
     },
     "metadata": {},
     "output_type": "display_data"
    }
   ],
   "source": [
    "games_region('genre', 'na_sales')"
   ]
  },
  {
   "cell_type": "code",
   "execution_count": 70,
   "metadata": {},
   "outputs": [
    {
     "data": {
      "text/html": [
       "<div>\n",
       "<style scoped>\n",
       "    .dataframe tbody tr th:only-of-type {\n",
       "        vertical-align: middle;\n",
       "    }\n",
       "\n",
       "    .dataframe tbody tr th {\n",
       "        vertical-align: top;\n",
       "    }\n",
       "\n",
       "    .dataframe thead th {\n",
       "        text-align: right;\n",
       "    }\n",
       "</style>\n",
       "<table border=\"1\" class=\"dataframe\">\n",
       "  <thead>\n",
       "    <tr style=\"text-align: right;\">\n",
       "      <th></th>\n",
       "      <th>genre</th>\n",
       "      <th>eu_sales</th>\n",
       "    </tr>\n",
       "  </thead>\n",
       "  <tbody>\n",
       "    <tr>\n",
       "      <th>0</th>\n",
       "      <td>Action</td>\n",
       "      <td>118.13</td>\n",
       "    </tr>\n",
       "    <tr>\n",
       "      <th>8</th>\n",
       "      <td>Shooter</td>\n",
       "      <td>87.86</td>\n",
       "    </tr>\n",
       "    <tr>\n",
       "      <th>10</th>\n",
       "      <td>Sports</td>\n",
       "      <td>60.52</td>\n",
       "    </tr>\n",
       "    <tr>\n",
       "      <th>7</th>\n",
       "      <td>Role-Playing</td>\n",
       "      <td>36.97</td>\n",
       "    </tr>\n",
       "    <tr>\n",
       "      <th>6</th>\n",
       "      <td>Racing</td>\n",
       "      <td>20.19</td>\n",
       "    </tr>\n",
       "  </tbody>\n",
       "</table>\n",
       "</div>"
      ],
      "text/plain": [
       "           genre  eu_sales\n",
       "0         Action    118.13\n",
       "8        Shooter     87.86\n",
       "10        Sports     60.52\n",
       "7   Role-Playing     36.97\n",
       "6         Racing     20.19"
      ]
     },
     "metadata": {},
     "output_type": "display_data"
    },
    {
     "data": {
      "image/png": "[encoded data removed]",
      "text/plain": [
       "<Figure size 360x360 with 1 Axes>"
      ]
     },
     "metadata": {},
     "output_type": "display_data"
    }
   ],
   "source": [
    "games_region('genre', 'eu_sales')"
   ]
  },
  {
   "cell_type": "code",
   "execution_count": 60,
   "metadata": {},
   "outputs": [
    {
     "data": {
      "text/html": [
       "<div>\n",
       "<style scoped>\n",
       "    .dataframe tbody tr th:only-of-type {\n",
       "        vertical-align: middle;\n",
       "    }\n",
       "\n",
       "    .dataframe tbody tr th {\n",
       "        vertical-align: top;\n",
       "    }\n",
       "\n",
       "    .dataframe thead th {\n",
       "        text-align: right;\n",
       "    }\n",
       "</style>\n",
       "<table border=\"1\" class=\"dataframe\">\n",
       "  <thead>\n",
       "    <tr style=\"text-align: right;\">\n",
       "      <th></th>\n",
       "      <th>genre</th>\n",
       "      <th>jp_sales</th>\n",
       "    </tr>\n",
       "  </thead>\n",
       "  <tbody>\n",
       "    <tr>\n",
       "      <th>7</th>\n",
       "      <td>Role-Playing</td>\n",
       "      <td>51.04</td>\n",
       "    </tr>\n",
       "    <tr>\n",
       "      <th>0</th>\n",
       "      <td>Action</td>\n",
       "      <td>40.49</td>\n",
       "    </tr>\n",
       "    <tr>\n",
       "      <th>3</th>\n",
       "      <td>Misc</td>\n",
       "      <td>9.20</td>\n",
       "    </tr>\n",
       "    <tr>\n",
       "      <th>2</th>\n",
       "      <td>Fighting</td>\n",
       "      <td>7.65</td>\n",
       "    </tr>\n",
       "    <tr>\n",
       "      <th>8</th>\n",
       "      <td>Shooter</td>\n",
       "      <td>6.61</td>\n",
       "    </tr>\n",
       "  </tbody>\n",
       "</table>\n",
       "</div>"
      ],
      "text/plain": [
       "          genre  jp_sales\n",
       "7  Role-Playing     51.04\n",
       "0        Action     40.49\n",
       "3          Misc      9.20\n",
       "2      Fighting      7.65\n",
       "8       Shooter      6.61"
      ]
     },
     "metadata": {},
     "output_type": "display_data"
    },
    {
     "data": {
      "image/png": "[encoded data removed]",
      "text/plain": [
       "<Figure size 360x360 with 1 Axes>"
      ]
     },
     "metadata": {},
     "output_type": "display_data"
    }
   ],
   "source": [
    "games_region('genre', 'jp_sales')"
   ]
  },
  {
   "cell_type": "markdown",
   "metadata": {},
   "source": [
    "По жанрам также Америка и Европа предпочитают Экшены, Шутеры и спортивные игры, в Японии же на первом месте РПГ, хотя экшены тоже популярны."
   ]
  },
  {
   "cell_type": "markdown",
   "metadata": {},
   "source": [
    "<a id = '15-bullet'></a>\n",
    "##### Рейтинги игр"
   ]
  },
  {
   "cell_type": "markdown",
   "metadata": {},
   "source": [
    "     Система ESRB - США, Мексика и Канада\n",
    "    EC\tДля детей младшего возраста. Подходит для детей от 3 лет.\n",
    "    K-A kids-to-adult детям и взрослым\n",
    "    E\tПодходит для всех возрастных категорий. \n",
    "    E 10+\tПодходит для лиц старше 10 лет. \n",
    "    T\tПодходит для лиц старше 13 лет. \n",
    "    M\tПодходит для лиц старше 17 лет. \n",
    "    AO\tПодходит для взрослых старше 18 лет. \n",
    "    RP\tКатегория ещё не присвоена. Играм с категорией RP еще не присвоен окончательный рейтинг ESRB.\n",
    "    Заменим пустые значения на тип RP"
   ]
  },
  {
   "cell_type": "code",
   "execution_count": 71,
   "metadata": {},
   "outputs": [
    {
     "data": {
      "text/html": [
       "<div>\n",
       "<style scoped>\n",
       "    .dataframe tbody tr th:only-of-type {\n",
       "        vertical-align: middle;\n",
       "    }\n",
       "\n",
       "    .dataframe tbody tr th {\n",
       "        vertical-align: top;\n",
       "    }\n",
       "\n",
       "    .dataframe thead th {\n",
       "        text-align: right;\n",
       "    }\n",
       "</style>\n",
       "<table border=\"1\" class=\"dataframe\">\n",
       "  <thead>\n",
       "    <tr style=\"text-align: right;\">\n",
       "      <th></th>\n",
       "      <th>rating</th>\n",
       "      <th>na_sales</th>\n",
       "    </tr>\n",
       "  </thead>\n",
       "  <tbody>\n",
       "    <tr>\n",
       "      <th>2</th>\n",
       "      <td>M</td>\n",
       "      <td>165.21</td>\n",
       "    </tr>\n",
       "    <tr>\n",
       "      <th>3</th>\n",
       "      <td>RP</td>\n",
       "      <td>89.42</td>\n",
       "    </tr>\n",
       "    <tr>\n",
       "      <th>0</th>\n",
       "      <td>E</td>\n",
       "      <td>79.05</td>\n",
       "    </tr>\n",
       "    <tr>\n",
       "      <th>1</th>\n",
       "      <td>E10+</td>\n",
       "      <td>54.24</td>\n",
       "    </tr>\n",
       "    <tr>\n",
       "      <th>4</th>\n",
       "      <td>T</td>\n",
       "      <td>49.79</td>\n",
       "    </tr>\n",
       "  </tbody>\n",
       "</table>\n",
       "</div>"
      ],
      "text/plain": [
       "  rating  na_sales\n",
       "2      M    165.21\n",
       "3     RP     89.42\n",
       "0      E     79.05\n",
       "1   E10+     54.24\n",
       "4      T     49.79"
      ]
     },
     "metadata": {},
     "output_type": "display_data"
    },
    {
     "data": {
      "image/png": "[encoded data removed]",
      "text/plain": [
       "<Figure size 360x360 with 1 Axes>"
      ]
     },
     "metadata": {},
     "output_type": "display_data"
    }
   ],
   "source": [
    "games_region('rating', 'na_sales')"
   ]
  },
  {
   "cell_type": "code",
   "execution_count": 62,
   "metadata": {},
   "outputs": [
    {
     "data": {
      "text/html": [
       "<div>\n",
       "<style scoped>\n",
       "    .dataframe tbody tr th:only-of-type {\n",
       "        vertical-align: middle;\n",
       "    }\n",
       "\n",
       "    .dataframe tbody tr th {\n",
       "        vertical-align: top;\n",
       "    }\n",
       "\n",
       "    .dataframe thead th {\n",
       "        text-align: right;\n",
       "    }\n",
       "</style>\n",
       "<table border=\"1\" class=\"dataframe\">\n",
       "  <thead>\n",
       "    <tr style=\"text-align: right;\">\n",
       "      <th></th>\n",
       "      <th>rating</th>\n",
       "      <th>eu_sales</th>\n",
       "    </tr>\n",
       "  </thead>\n",
       "  <tbody>\n",
       "    <tr>\n",
       "      <th>2</th>\n",
       "      <td>M</td>\n",
       "      <td>145.32</td>\n",
       "    </tr>\n",
       "    <tr>\n",
       "      <th>0</th>\n",
       "      <td>E</td>\n",
       "      <td>83.36</td>\n",
       "    </tr>\n",
       "    <tr>\n",
       "      <th>3</th>\n",
       "      <td>RP</td>\n",
       "      <td>78.91</td>\n",
       "    </tr>\n",
       "    <tr>\n",
       "      <th>1</th>\n",
       "      <td>E10+</td>\n",
       "      <td>42.69</td>\n",
       "    </tr>\n",
       "    <tr>\n",
       "      <th>4</th>\n",
       "      <td>T</td>\n",
       "      <td>41.95</td>\n",
       "    </tr>\n",
       "  </tbody>\n",
       "</table>\n",
       "</div>"
      ],
      "text/plain": [
       "  rating  eu_sales\n",
       "2      M    145.32\n",
       "0      E     83.36\n",
       "3     RP     78.91\n",
       "1   E10+     42.69\n",
       "4      T     41.95"
      ]
     },
     "metadata": {},
     "output_type": "display_data"
    },
    {
     "data": {
      "image/png": "[encoded data removed]",
      "text/plain": [
       "<Figure size 360x360 with 1 Axes>"
      ]
     },
     "metadata": {},
     "output_type": "display_data"
    }
   ],
   "source": [
    "games_region('rating', 'eu_sales')"
   ]
  },
  {
   "cell_type": "code",
   "execution_count": 63,
   "metadata": {},
   "outputs": [
    {
     "data": {
      "text/html": [
       "<div>\n",
       "<style scoped>\n",
       "    .dataframe tbody tr th:only-of-type {\n",
       "        vertical-align: middle;\n",
       "    }\n",
       "\n",
       "    .dataframe tbody tr th {\n",
       "        vertical-align: top;\n",
       "    }\n",
       "\n",
       "    .dataframe thead th {\n",
       "        text-align: right;\n",
       "    }\n",
       "</style>\n",
       "<table border=\"1\" class=\"dataframe\">\n",
       "  <thead>\n",
       "    <tr style=\"text-align: right;\">\n",
       "      <th></th>\n",
       "      <th>rating</th>\n",
       "      <th>jp_sales</th>\n",
       "    </tr>\n",
       "  </thead>\n",
       "  <tbody>\n",
       "    <tr>\n",
       "      <th>3</th>\n",
       "      <td>RP</td>\n",
       "      <td>85.05</td>\n",
       "    </tr>\n",
       "    <tr>\n",
       "      <th>4</th>\n",
       "      <td>T</td>\n",
       "      <td>20.59</td>\n",
       "    </tr>\n",
       "    <tr>\n",
       "      <th>0</th>\n",
       "      <td>E</td>\n",
       "      <td>15.14</td>\n",
       "    </tr>\n",
       "    <tr>\n",
       "      <th>2</th>\n",
       "      <td>M</td>\n",
       "      <td>14.11</td>\n",
       "    </tr>\n",
       "    <tr>\n",
       "      <th>1</th>\n",
       "      <td>E10+</td>\n",
       "      <td>5.89</td>\n",
       "    </tr>\n",
       "  </tbody>\n",
       "</table>\n",
       "</div>"
      ],
      "text/plain": [
       "  rating  jp_sales\n",
       "3     RP     85.05\n",
       "4      T     20.59\n",
       "0      E     15.14\n",
       "2      M     14.11\n",
       "1   E10+      5.89"
      ]
     },
     "metadata": {},
     "output_type": "display_data"
    },
    {
     "data": {
      "image/png": "[encoded data removed]",
      "text/plain": [
       "<Figure size 360x360 with 1 Axes>"
      ]
     },
     "metadata": {},
     "output_type": "display_data"
    }
   ],
   "source": [
    "games_region('rating', 'jp_sales')"
   ]
  },
  {
   "cell_type": "code",
   "execution_count": 64,
   "metadata": {},
   "outputs": [
    {
     "data": {
      "text/html": [
       "<div>\n",
       "<style scoped>\n",
       "    .dataframe tbody tr th:only-of-type {\n",
       "        vertical-align: middle;\n",
       "    }\n",
       "\n",
       "    .dataframe tbody tr th {\n",
       "        vertical-align: top;\n",
       "    }\n",
       "\n",
       "    .dataframe thead th {\n",
       "        text-align: right;\n",
       "    }\n",
       "</style>\n",
       "<table border=\"1\" class=\"dataframe\">\n",
       "  <thead>\n",
       "    <tr style=\"text-align: right;\">\n",
       "      <th></th>\n",
       "      <th>name</th>\n",
       "      <th>platform</th>\n",
       "      <th>year_of_release</th>\n",
       "      <th>genre</th>\n",
       "      <th>na_sales</th>\n",
       "      <th>eu_sales</th>\n",
       "      <th>jp_sales</th>\n",
       "      <th>other_sales</th>\n",
       "      <th>critic_score</th>\n",
       "      <th>user_score</th>\n",
       "      <th>rating</th>\n",
       "      <th>total_sales</th>\n",
       "    </tr>\n",
       "  </thead>\n",
       "  <tbody>\n",
       "    <tr>\n",
       "      <th>33</th>\n",
       "      <td>pokemon x/pokemon y</td>\n",
       "      <td>3DS</td>\n",
       "      <td>2013</td>\n",
       "      <td>Role-Playing</td>\n",
       "      <td>5.28</td>\n",
       "      <td>4.19</td>\n",
       "      <td>4.35</td>\n",
       "      <td>0.78</td>\n",
       "      <td>0</td>\n",
       "      <td>NaN</td>\n",
       "      <td>RP</td>\n",
       "      <td>14.60</td>\n",
       "    </tr>\n",
       "    <tr>\n",
       "      <th>385</th>\n",
       "      <td>monster hunter 4</td>\n",
       "      <td>3DS</td>\n",
       "      <td>2013</td>\n",
       "      <td>Role-Playing</td>\n",
       "      <td>0.00</td>\n",
       "      <td>0.00</td>\n",
       "      <td>3.44</td>\n",
       "      <td>0.00</td>\n",
       "      <td>0</td>\n",
       "      <td>NaN</td>\n",
       "      <td>RP</td>\n",
       "      <td>3.44</td>\n",
       "    </tr>\n",
       "    <tr>\n",
       "      <th>412</th>\n",
       "      <td>yokai watch 2 ganso/honke</td>\n",
       "      <td>3DS</td>\n",
       "      <td>2014</td>\n",
       "      <td>Role-Playing</td>\n",
       "      <td>0.09</td>\n",
       "      <td>0.00</td>\n",
       "      <td>3.18</td>\n",
       "      <td>0.01</td>\n",
       "      <td>0</td>\n",
       "      <td>NaN</td>\n",
       "      <td>RP</td>\n",
       "      <td>3.28</td>\n",
       "    </tr>\n",
       "    <tr>\n",
       "      <th>47</th>\n",
       "      <td>pokemon omega ruby/pokemon alpha sapphire</td>\n",
       "      <td>3DS</td>\n",
       "      <td>2014</td>\n",
       "      <td>Role-Playing</td>\n",
       "      <td>4.35</td>\n",
       "      <td>3.49</td>\n",
       "      <td>3.10</td>\n",
       "      <td>0.74</td>\n",
       "      <td>0</td>\n",
       "      <td>NaN</td>\n",
       "      <td>RP</td>\n",
       "      <td>11.68</td>\n",
       "    </tr>\n",
       "    <tr>\n",
       "      <th>406</th>\n",
       "      <td>monster hunter x</td>\n",
       "      <td>3DS</td>\n",
       "      <td>2015</td>\n",
       "      <td>Action</td>\n",
       "      <td>0.27</td>\n",
       "      <td>0.21</td>\n",
       "      <td>2.79</td>\n",
       "      <td>0.05</td>\n",
       "      <td>0</td>\n",
       "      <td>NaN</td>\n",
       "      <td>RP</td>\n",
       "      <td>3.32</td>\n",
       "    </tr>\n",
       "    <tr>\n",
       "      <th>563</th>\n",
       "      <td>yokai watch 2 shinuchi</td>\n",
       "      <td>3DS</td>\n",
       "      <td>2014</td>\n",
       "      <td>Role-Playing</td>\n",
       "      <td>0.00</td>\n",
       "      <td>0.00</td>\n",
       "      <td>2.68</td>\n",
       "      <td>0.00</td>\n",
       "      <td>0</td>\n",
       "      <td>NaN</td>\n",
       "      <td>RP</td>\n",
       "      <td>2.68</td>\n",
       "    </tr>\n",
       "    <tr>\n",
       "      <th>96</th>\n",
       "      <td>super smash bros. for wii u and 3ds</td>\n",
       "      <td>3DS</td>\n",
       "      <td>2014</td>\n",
       "      <td>Fighting</td>\n",
       "      <td>3.27</td>\n",
       "      <td>1.37</td>\n",
       "      <td>2.43</td>\n",
       "      <td>0.48</td>\n",
       "      <td>0</td>\n",
       "      <td>NaN</td>\n",
       "      <td>RP</td>\n",
       "      <td>7.55</td>\n",
       "    </tr>\n",
       "    <tr>\n",
       "      <th>694</th>\n",
       "      <td>yokai watch busters</td>\n",
       "      <td>3DS</td>\n",
       "      <td>2015</td>\n",
       "      <td>Action</td>\n",
       "      <td>0.00</td>\n",
       "      <td>0.00</td>\n",
       "      <td>2.29</td>\n",
       "      <td>0.00</td>\n",
       "      <td>0</td>\n",
       "      <td>NaN</td>\n",
       "      <td>RP</td>\n",
       "      <td>2.29</td>\n",
       "    </tr>\n",
       "    <tr>\n",
       "      <th>108</th>\n",
       "      <td>pokemon sun/moon</td>\n",
       "      <td>3DS</td>\n",
       "      <td>2016</td>\n",
       "      <td>Role-Playing</td>\n",
       "      <td>2.98</td>\n",
       "      <td>1.45</td>\n",
       "      <td>2.26</td>\n",
       "      <td>0.45</td>\n",
       "      <td>0</td>\n",
       "      <td>NaN</td>\n",
       "      <td>RP</td>\n",
       "      <td>7.14</td>\n",
       "    </tr>\n",
       "    <tr>\n",
       "      <th>184</th>\n",
       "      <td>tomodachi life</td>\n",
       "      <td>3DS</td>\n",
       "      <td>2013</td>\n",
       "      <td>Simulation</td>\n",
       "      <td>0.97</td>\n",
       "      <td>2.11</td>\n",
       "      <td>1.90</td>\n",
       "      <td>0.24</td>\n",
       "      <td>0</td>\n",
       "      <td>NaN</td>\n",
       "      <td>RP</td>\n",
       "      <td>5.22</td>\n",
       "    </tr>\n",
       "    <tr>\n",
       "      <th>1244</th>\n",
       "      <td>puzzle &amp; dragons</td>\n",
       "      <td>3DS</td>\n",
       "      <td>2013</td>\n",
       "      <td>Role-Playing</td>\n",
       "      <td>0.00</td>\n",
       "      <td>0.00</td>\n",
       "      <td>1.51</td>\n",
       "      <td>0.00</td>\n",
       "      <td>0</td>\n",
       "      <td>NaN</td>\n",
       "      <td>RP</td>\n",
       "      <td>1.51</td>\n",
       "    </tr>\n",
       "    <tr>\n",
       "      <th>798</th>\n",
       "      <td>yokai watch</td>\n",
       "      <td>3DS</td>\n",
       "      <td>2013</td>\n",
       "      <td>Role-Playing</td>\n",
       "      <td>0.25</td>\n",
       "      <td>0.45</td>\n",
       "      <td>1.33</td>\n",
       "      <td>0.05</td>\n",
       "      <td>0</td>\n",
       "      <td>NaN</td>\n",
       "      <td>RP</td>\n",
       "      <td>2.08</td>\n",
       "    </tr>\n",
       "    <tr>\n",
       "      <th>1466</th>\n",
       "      <td>yokai watch 3</td>\n",
       "      <td>3DS</td>\n",
       "      <td>2016</td>\n",
       "      <td>Action</td>\n",
       "      <td>0.00</td>\n",
       "      <td>0.00</td>\n",
       "      <td>1.33</td>\n",
       "      <td>0.00</td>\n",
       "      <td>0</td>\n",
       "      <td>NaN</td>\n",
       "      <td>RP</td>\n",
       "      <td>1.33</td>\n",
       "    </tr>\n",
       "    <tr>\n",
       "      <th>1302</th>\n",
       "      <td>dragon quest vii: warriors of eden</td>\n",
       "      <td>3DS</td>\n",
       "      <td>2013</td>\n",
       "      <td>Role-Playing</td>\n",
       "      <td>0.06</td>\n",
       "      <td>0.09</td>\n",
       "      <td>1.30</td>\n",
       "      <td>0.01</td>\n",
       "      <td>0</td>\n",
       "      <td>NaN</td>\n",
       "      <td>RP</td>\n",
       "      <td>1.46</td>\n",
       "    </tr>\n",
       "    <tr>\n",
       "      <th>868</th>\n",
       "      <td>minecraft</td>\n",
       "      <td>PSV</td>\n",
       "      <td>2014</td>\n",
       "      <td>Misc</td>\n",
       "      <td>0.18</td>\n",
       "      <td>0.64</td>\n",
       "      <td>0.90</td>\n",
       "      <td>0.24</td>\n",
       "      <td>0</td>\n",
       "      <td>NaN</td>\n",
       "      <td>RP</td>\n",
       "      <td>1.96</td>\n",
       "    </tr>\n",
       "  </tbody>\n",
       "</table>\n",
       "</div>"
      ],
      "text/plain": [
       "                                           name platform  year_of_release  \\\n",
       "33                          pokemon x/pokemon y      3DS             2013   \n",
       "385                            monster hunter 4      3DS             2013   \n",
       "412                   yokai watch 2 ganso/honke      3DS             2014   \n",
       "47    pokemon omega ruby/pokemon alpha sapphire      3DS             2014   \n",
       "406                            monster hunter x      3DS             2015   \n",
       "563                      yokai watch 2 shinuchi      3DS             2014   \n",
       "96          super smash bros. for wii u and 3ds      3DS             2014   \n",
       "694                         yokai watch busters      3DS             2015   \n",
       "108                            pokemon sun/moon      3DS             2016   \n",
       "184                              tomodachi life      3DS             2013   \n",
       "1244                           puzzle & dragons      3DS             2013   \n",
       "798                                 yokai watch      3DS             2013   \n",
       "1466                              yokai watch 3      3DS             2016   \n",
       "1302         dragon quest vii: warriors of eden      3DS             2013   \n",
       "868                                   minecraft      PSV             2014   \n",
       "\n",
       "             genre  na_sales  eu_sales  jp_sales  other_sales  critic_score  \\\n",
       "33    Role-Playing      5.28      4.19      4.35         0.78             0   \n",
       "385   Role-Playing      0.00      0.00      3.44         0.00             0   \n",
       "412   Role-Playing      0.09      0.00      3.18         0.01             0   \n",
       "47    Role-Playing      4.35      3.49      3.10         0.74             0   \n",
       "406         Action      0.27      0.21      2.79         0.05             0   \n",
       "563   Role-Playing      0.00      0.00      2.68         0.00             0   \n",
       "96        Fighting      3.27      1.37      2.43         0.48             0   \n",
       "694         Action      0.00      0.00      2.29         0.00             0   \n",
       "108   Role-Playing      2.98      1.45      2.26         0.45             0   \n",
       "184     Simulation      0.97      2.11      1.90         0.24             0   \n",
       "1244  Role-Playing      0.00      0.00      1.51         0.00             0   \n",
       "798   Role-Playing      0.25      0.45      1.33         0.05             0   \n",
       "1466        Action      0.00      0.00      1.33         0.00             0   \n",
       "1302  Role-Playing      0.06      0.09      1.30         0.01             0   \n",
       "868           Misc      0.18      0.64      0.90         0.24             0   \n",
       "\n",
       "      user_score rating  total_sales  \n",
       "33           NaN     RP        14.60  \n",
       "385          NaN     RP         3.44  \n",
       "412          NaN     RP         3.28  \n",
       "47           NaN     RP        11.68  \n",
       "406          NaN     RP         3.32  \n",
       "563          NaN     RP         2.68  \n",
       "96           NaN     RP         7.55  \n",
       "694          NaN     RP         2.29  \n",
       "108          NaN     RP         7.14  \n",
       "184          NaN     RP         5.22  \n",
       "1244         NaN     RP         1.51  \n",
       "798          NaN     RP         2.08  \n",
       "1466         NaN     RP         1.33  \n",
       "1302         NaN     RP         1.46  \n",
       "868          NaN     RP         1.96  "
      ]
     },
     "execution_count": 64,
     "metadata": {},
     "output_type": "execute_result"
    }
   ],
   "source": [
    "games_act.loc[games_act['rating']=='RP'].sort_values(by = 'jp_sales', ascending = False).head(15)"
   ]
  },
  {
   "cell_type": "markdown",
   "metadata": {},
   "source": [
    "По рейтингам у Европы и Америки тоже практически идентичное распределение, самый популярные игры с рейтингом для всей семьи. В Японии же самые популярные игры с неопределенным рейтингом, в основном это японские игры про Покемонов. "
   ]
  },
  {
   "cell_type": "markdown",
   "metadata": {},
   "source": [
    "**Вывод**\n",
    "\n",
    "    Портрет пользователя для Америки и Европы будет практически идентичным, пользователи предпочитаю игры на PS3, PS4 и ХOne, Экшены, Шутеры и Спортивные игры желательно с рейтингом для всей семьи. В Японии отдают предпочтение играм на портативных консолях, в основном РПГ и предпочтительно про Покемонов."
   ]
  },
  {
   "cell_type": "markdown",
   "metadata": {},
   "source": [
    "<a id = '16-bullet'></a>\n",
    "#### Проверка гипотез"
   ]
  },
  {
   "cell_type": "markdown",
   "metadata": {},
   "source": [
    "#####  Средние пользовательские рейтинги платформ Xbox One и PC одинаковые"
   ]
  },
  {
   "cell_type": "markdown",
   "metadata": {},
   "source": [
    "В данном случае нулевая гипотеза: средний пользовательский рейтинг платформы Xbox One = средний пользовательский рейтинг платформы PC. Альтернативная гипотеза: средний пользовательский рейтинг платформы Xbox One не равны среднего пользовательского рейтинга платформы PC."
   ]
  },
  {
   "cell_type": "code",
   "execution_count": 65,
   "metadata": {},
   "outputs": [
    {
     "data": {
      "text/plain": [
       "Text(0.5, 0, 'Оценки пользователей')"
      ]
     },
     "execution_count": 65,
     "metadata": {},
     "output_type": "execute_result"
    },
    {
     "data": {
      "image/png": "[encoded data removed]",
      "text/plain": [
       "<Figure size 432x288 with 1 Axes>"
      ]
     },
     "metadata": {
      "needs_background": "light"
     },
     "output_type": "display_data"
    }
   ],
   "source": [
    "games_xone = games_act.loc[(games['platform']=='XOne')&(games['user_score'].isna()==False)]\n",
    "games_pc = games_act.loc[(games['platform']=='PC')&(games['user_score'].isna()==False)]\n",
    "plt.hist(games_pc['user_score'], bins=10, label='для PC')\n",
    "plt.hist(games_xone['user_score'], bins=10, label='для XOne', stacked=True)\n",
    "plt.legend()\n",
    "plt.xlabel(\"Оценки пользователей\")"
   ]
  },
  {
   "cell_type": "code",
   "execution_count": 66,
   "metadata": {},
   "outputs": [
    {
     "name": "stdout",
     "output_type": "stream",
     "text": [
      "p-value: 0.14759594013430463\n",
      "Нет оснований отвергнуть нулевую гипотезу\n"
     ]
    }
   ],
   "source": [
    "alpha = 0.05\n",
    "\n",
    "# проводим ttest для двух выборок, в качестве альтернативной используем одностороннюю гипотезу «больше»\n",
    "results = st.ttest_ind(games_xone['user_score'], games_pc['user_score'], equal_var=False)\n",
    "\n",
    "print(f'p-value: {results.pvalue}')\n",
    "\n",
    "# проверяем p-value\n",
    "if results.pvalue < alpha:\n",
    "    print('Отвергаем нулевую гипотезу')\n",
    "else:\n",
    "    print('Нет оснований отвергнуть нулевую гипотезу')"
   ]
  },
  {
   "cell_type": "markdown",
   "metadata": {},
   "source": [
    "   Нет оснований утверждать что средние пользовательские рейтинги для двух выбранных платформ различаются."
   ]
  },
  {
   "cell_type": "markdown",
   "metadata": {},
   "source": [
    "##### Средние пользовательские рейтинги жанров Action (англ. «действие», экшен-игры) и Sports (англ. «спортивные соревнования») разные."
   ]
  },
  {
   "cell_type": "markdown",
   "metadata": {},
   "source": [
    "В данном случае нулевая гипотеза: средний пользовательский рейтинг жанра Action = средний пользовательский рейтинг жанра Sports. Альтернативная гипотеза: средний пользовательский рейтинг жанра Action не равен среднему пользовательскому рейтингу жанра Sports."
   ]
  },
  {
   "cell_type": "code",
   "execution_count": 67,
   "metadata": {},
   "outputs": [
    {
     "data": {
      "text/plain": [
       "Text(0.5, 0, 'Оценки пользователей')"
      ]
     },
     "execution_count": 67,
     "metadata": {},
     "output_type": "execute_result"
    },
    {
     "data": {
      "image/png": "[encoded data removed]",
      "text/plain": [
       "<Figure size 432x288 with 1 Axes>"
      ]
     },
     "metadata": {
      "needs_background": "light"
     },
     "output_type": "display_data"
    }
   ],
   "source": [
    "games_action = games_act.loc[(games['genre']=='Action')&(games['user_score'].isna()==False)]\n",
    "games_sports = games_act.loc[(games['genre']=='Sports')&(games['user_score'].isna()==False)]\n",
    "plt.hist(games_action['user_score'], bins=10, label='Аction')\n",
    "plt.hist(games_sports['user_score'], bins=10, label='Sports', stacked=True)\n",
    "plt.legend()\n",
    "plt.xlabel(\"Оценки пользователей\")"
   ]
  },
  {
   "cell_type": "code",
   "execution_count": 68,
   "metadata": {},
   "outputs": [
    {
     "name": "stdout",
     "output_type": "stream",
     "text": [
      "p-value: 1.4460039700704315e-20\n",
      "Отвергаем нулевую гипотезу\n"
     ]
    }
   ],
   "source": [
    "\n",
    "\n",
    "alpha = 0.05\n",
    "\n",
    "# проводим ttest для двух выборок\n",
    "results = st.ttest_ind(games_action['user_score'], games_sports['user_score'], equal_var=False)\n",
    "\n",
    "print(f'p-value: {results.pvalue}')\n",
    "\n",
    "# проверяем p-value\n",
    "if results.pvalue < alpha:\n",
    "    print('Отвергаем нулевую гипотезу')\n",
    "else:\n",
    "    print('Нет оснований отвергнуть нулевую гипотезу')"
   ]
  },
  {
   "cell_type": "markdown",
   "metadata": {},
   "source": [
    "Для жанров Action и Sports, нулевая гипотеза не подтвердилась, т.е средние пользовательские рейтинги жанров разные."
   ]
  },
  {
   "cell_type": "markdown",
   "metadata": {},
   "source": [
    "  По сути мы сравнивали средние двух генеральных совокупностей (независимых), поэтому нулевая гипотеза была сформулирована так: «средние значения совокупностей равны», а альтернативная «средние значения совокупностей не равны». Для проверки гипотез был использован метод для проверки гипотезы о равенстве среднего двух генеральных совокупностей по взятым из них выборкам: scipy.stats.ttest_ind(array1, array2, equal_var, alternative). Делали тест для неравных дисперсий и двухсторонней альтернативной гипотезы.\n",
    "\n",
    "  Обе гипотезы подтвердились.\n",
    "* Средние пользовательские рейтинги платформ Xbox One и PC одинаковые;\n",
    "* Средние пользовательские рейтинги жанров Action (англ. «действие», экшен-игры) и Sports (англ. «спортивные соревнования») разные.\n"
   ]
  },
  {
   "cell_type": "markdown",
   "metadata": {},
   "source": [
    "<a id = '17-bullet'></a>\n",
    "#### Общий вывод"
   ]
  },
  {
   "cell_type": "markdown",
   "metadata": {},
   "source": [
    "\n",
    "        В ходе анализа данных был определен актуальный период работы игровой платформы, это 3-4 года. На текущий момент продажи по всем платформам идут на спад. Наибольшие продажи за 2016 по платформам PS4 и XOne, это самые свежие платформы, на них и стоит сделать основную ставку в компании 2017г. Таже предполагаем, что в ближайшее время будет выпуск новой игровой платформы от Sony, следует учесть этот факт в планировании рекламного бюджета.\n",
    "       Для планирования на след год по регионам Америка и Европа следует отдать предпочтение хитовым играм (например те что регулярно выпускают новые части) по жанрам Экшен, Шутеры и спортивные игры, с рейтингом для всей семьи и для подростков.\n",
    "       Для Японии следует выбирать игры в жанре РПГ и игры про Покемонов.\n",
    "       Стоит выбирать инры с хорошими оценками критиков.</font>\n"
   ]
  }
 ],
 "metadata": {
  "ExecuteTimeLog": [
   {
    "duration": 45,
    "start_time": "2024-02-27T19:56:32.483Z"
   },
   {
    "duration": 1207,
    "start_time": "2024-02-27T19:56:42.826Z"
   },
   {
    "duration": 144,
    "start_time": "2024-02-27T19:56:46.043Z"
   },
   {
    "duration": 63,
    "start_time": "2024-02-27T19:56:57.020Z"
   },
   {
    "duration": 18,
    "start_time": "2024-02-27T19:59:07.875Z"
   },
   {
    "duration": 16,
    "start_time": "2024-02-27T19:59:17.736Z"
   },
   {
    "duration": 17,
    "start_time": "2024-02-27T20:09:47.562Z"
   },
   {
    "duration": 21,
    "start_time": "2024-02-27T20:09:49.188Z"
   },
   {
    "duration": 5,
    "start_time": "2024-02-27T20:14:21.345Z"
   },
   {
    "duration": 5,
    "start_time": "2024-02-27T20:14:49.558Z"
   },
   {
    "duration": 5,
    "start_time": "2024-02-27T20:15:28.415Z"
   },
   {
    "duration": 5,
    "start_time": "2024-02-27T20:16:05.615Z"
   },
   {
    "duration": 5,
    "start_time": "2024-02-27T20:17:20.917Z"
   },
   {
    "duration": 5,
    "start_time": "2024-02-27T20:17:37.330Z"
   },
   {
    "duration": 4,
    "start_time": "2024-02-27T20:18:08.365Z"
   },
   {
    "duration": 21,
    "start_time": "2024-02-27T20:22:20.812Z"
   },
   {
    "duration": 13,
    "start_time": "2024-02-27T20:23:22.363Z"
   },
   {
    "duration": 8,
    "start_time": "2024-02-27T20:25:13.638Z"
   },
   {
    "duration": 9,
    "start_time": "2024-02-27T20:25:22.683Z"
   },
   {
    "duration": 5,
    "start_time": "2024-02-27T20:25:58.240Z"
   },
   {
    "duration": 45,
    "start_time": "2024-03-02T11:57:08.163Z"
   },
   {
    "duration": 1276,
    "start_time": "2024-03-02T11:57:15.954Z"
   },
   {
    "duration": 113,
    "start_time": "2024-03-02T11:57:17.232Z"
   },
   {
    "duration": 18,
    "start_time": "2024-03-02T11:57:17.346Z"
   },
   {
    "duration": 3,
    "start_time": "2024-03-02T11:57:17.366Z"
   },
   {
    "duration": 17,
    "start_time": "2024-03-02T11:57:17.371Z"
   },
   {
    "duration": 9,
    "start_time": "2024-03-02T11:57:17.389Z"
   },
   {
    "duration": 1162,
    "start_time": "2024-03-02T11:57:17.400Z"
   },
   {
    "duration": 0,
    "start_time": "2024-03-02T11:57:18.563Z"
   },
   {
    "duration": 0,
    "start_time": "2024-03-02T11:57:18.565Z"
   },
   {
    "duration": 0,
    "start_time": "2024-03-02T11:57:18.566Z"
   },
   {
    "duration": 0,
    "start_time": "2024-03-02T11:57:18.567Z"
   },
   {
    "duration": 3,
    "start_time": "2024-03-02T11:57:24.462Z"
   },
   {
    "duration": 5,
    "start_time": "2024-03-02T11:57:35.150Z"
   },
   {
    "duration": 5,
    "start_time": "2024-03-02T11:57:42.056Z"
   },
   {
    "duration": 14,
    "start_time": "2024-03-02T11:58:15.315Z"
   },
   {
    "duration": 3,
    "start_time": "2024-03-02T11:58:49.364Z"
   },
   {
    "duration": 19,
    "start_time": "2024-03-02T12:01:14.022Z"
   },
   {
    "duration": 4,
    "start_time": "2024-03-02T12:02:53.775Z"
   },
   {
    "duration": 14,
    "start_time": "2024-03-02T12:04:16.097Z"
   },
   {
    "duration": 8,
    "start_time": "2024-03-02T12:04:23.325Z"
   },
   {
    "duration": 8,
    "start_time": "2024-03-02T12:04:29.407Z"
   },
   {
    "duration": 5,
    "start_time": "2024-03-02T12:04:55.193Z"
   },
   {
    "duration": 4,
    "start_time": "2024-03-02T12:05:56.164Z"
   },
   {
    "duration": 4,
    "start_time": "2024-03-02T12:06:22.563Z"
   },
   {
    "duration": 6,
    "start_time": "2024-03-02T12:06:45.926Z"
   },
   {
    "duration": 1061,
    "start_time": "2024-03-02T12:06:53.356Z"
   },
   {
    "duration": 75,
    "start_time": "2024-03-02T12:06:54.419Z"
   },
   {
    "duration": 21,
    "start_time": "2024-03-02T12:06:54.495Z"
   },
   {
    "duration": 13,
    "start_time": "2024-03-02T12:06:54.517Z"
   },
   {
    "duration": 10,
    "start_time": "2024-03-02T12:06:54.532Z"
   },
   {
    "duration": 16,
    "start_time": "2024-03-02T12:06:54.543Z"
   },
   {
    "duration": 8,
    "start_time": "2024-03-02T12:06:54.560Z"
   },
   {
    "duration": 22,
    "start_time": "2024-03-02T12:06:54.569Z"
   },
   {
    "duration": 9,
    "start_time": "2024-03-02T12:06:54.593Z"
   },
   {
    "duration": 31,
    "start_time": "2024-03-02T12:06:54.604Z"
   },
   {
    "duration": 12,
    "start_time": "2024-03-02T12:06:54.637Z"
   },
   {
    "duration": 11,
    "start_time": "2024-03-02T12:06:54.651Z"
   },
   {
    "duration": 21,
    "start_time": "2024-03-02T12:06:54.664Z"
   },
   {
    "duration": 14,
    "start_time": "2024-03-02T12:06:54.687Z"
   },
   {
    "duration": 10,
    "start_time": "2024-03-02T12:06:54.703Z"
   },
   {
    "duration": 9,
    "start_time": "2024-03-02T12:11:07.236Z"
   },
   {
    "duration": 1026,
    "start_time": "2024-03-02T12:12:54.194Z"
   },
   {
    "duration": 69,
    "start_time": "2024-03-02T12:12:55.222Z"
   },
   {
    "duration": 19,
    "start_time": "2024-03-02T12:12:55.294Z"
   },
   {
    "duration": 3,
    "start_time": "2024-03-02T12:12:55.314Z"
   },
   {
    "duration": 5,
    "start_time": "2024-03-02T12:12:55.319Z"
   },
   {
    "duration": 14,
    "start_time": "2024-03-02T12:12:55.325Z"
   },
   {
    "duration": 3,
    "start_time": "2024-03-02T12:12:55.341Z"
   },
   {
    "duration": 35,
    "start_time": "2024-03-02T12:12:55.346Z"
   },
   {
    "duration": 10,
    "start_time": "2024-03-02T12:12:55.382Z"
   },
   {
    "duration": 26,
    "start_time": "2024-03-02T12:12:55.393Z"
   },
   {
    "duration": 8,
    "start_time": "2024-03-02T12:12:55.420Z"
   },
   {
    "duration": 5,
    "start_time": "2024-03-02T12:12:55.430Z"
   },
   {
    "duration": 5,
    "start_time": "2024-03-02T12:12:55.437Z"
   },
   {
    "duration": 5,
    "start_time": "2024-03-02T12:12:55.465Z"
   },
   {
    "duration": 6,
    "start_time": "2024-03-02T12:12:55.472Z"
   },
   {
    "duration": 20,
    "start_time": "2024-03-02T12:15:48.525Z"
   },
   {
    "duration": 69,
    "start_time": "2024-03-02T12:20:00.295Z"
   },
   {
    "duration": 1111,
    "start_time": "2024-03-02T12:21:18.542Z"
   },
   {
    "duration": 70,
    "start_time": "2024-03-02T12:21:19.656Z"
   },
   {
    "duration": 17,
    "start_time": "2024-03-02T12:21:19.728Z"
   },
   {
    "duration": 56,
    "start_time": "2024-03-02T12:21:19.747Z"
   },
   {
    "duration": 18,
    "start_time": "2024-03-02T12:21:19.804Z"
   },
   {
    "duration": 18,
    "start_time": "2024-03-02T12:21:19.823Z"
   },
   {
    "duration": 8,
    "start_time": "2024-03-02T12:21:19.843Z"
   },
   {
    "duration": 48,
    "start_time": "2024-03-02T12:21:19.853Z"
   },
   {
    "duration": 19,
    "start_time": "2024-03-02T12:21:19.902Z"
   },
   {
    "duration": 14,
    "start_time": "2024-03-02T12:21:19.923Z"
   },
   {
    "duration": 18,
    "start_time": "2024-03-02T12:21:19.939Z"
   },
   {
    "duration": 6,
    "start_time": "2024-03-02T12:21:19.959Z"
   },
   {
    "duration": 30,
    "start_time": "2024-03-02T12:21:19.966Z"
   },
   {
    "duration": 65,
    "start_time": "2024-03-02T12:21:19.998Z"
   },
   {
    "duration": 6,
    "start_time": "2024-03-02T12:21:20.066Z"
   },
   {
    "duration": 20,
    "start_time": "2024-03-02T12:21:20.074Z"
   },
   {
    "duration": 11,
    "start_time": "2024-03-02T12:21:20.096Z"
   },
   {
    "duration": 58,
    "start_time": "2024-03-02T12:23:11.881Z"
   },
   {
    "duration": 21,
    "start_time": "2024-03-02T12:25:53.645Z"
   },
   {
    "duration": 59,
    "start_time": "2024-03-02T12:26:09.923Z"
   },
   {
    "duration": 69,
    "start_time": "2024-03-02T12:27:05.883Z"
   },
   {
    "duration": 30,
    "start_time": "2024-03-02T12:28:33.793Z"
   },
   {
    "duration": 98,
    "start_time": "2024-03-02T12:28:57.634Z"
   },
   {
    "duration": 14,
    "start_time": "2024-03-02T12:29:06.845Z"
   },
   {
    "duration": 46,
    "start_time": "2024-03-02T12:29:24.855Z"
   },
   {
    "duration": 60,
    "start_time": "2024-03-02T12:29:48.100Z"
   },
   {
    "duration": 13,
    "start_time": "2024-03-02T12:30:18.426Z"
   },
   {
    "duration": 1072,
    "start_time": "2024-03-02T12:30:43.444Z"
   },
   {
    "duration": 66,
    "start_time": "2024-03-02T12:30:44.518Z"
   },
   {
    "duration": 19,
    "start_time": "2024-03-02T12:30:44.586Z"
   },
   {
    "duration": 47,
    "start_time": "2024-03-02T12:30:44.608Z"
   },
   {
    "duration": 37,
    "start_time": "2024-03-02T12:30:44.657Z"
   },
   {
    "duration": 32,
    "start_time": "2024-03-02T12:30:44.695Z"
   },
   {
    "duration": 19,
    "start_time": "2024-03-02T12:30:44.729Z"
   },
   {
    "duration": 40,
    "start_time": "2024-03-02T12:30:44.749Z"
   },
   {
    "duration": 40,
    "start_time": "2024-03-02T12:30:44.790Z"
   },
   {
    "duration": 21,
    "start_time": "2024-03-02T12:30:44.832Z"
   },
   {
    "duration": 42,
    "start_time": "2024-03-02T12:30:44.854Z"
   },
   {
    "duration": 63,
    "start_time": "2024-03-02T12:30:44.898Z"
   },
   {
    "duration": 46,
    "start_time": "2024-03-02T12:30:44.962Z"
   },
   {
    "duration": 99,
    "start_time": "2024-03-02T12:30:45.010Z"
   },
   {
    "duration": 30,
    "start_time": "2024-03-02T12:30:45.111Z"
   },
   {
    "duration": 53,
    "start_time": "2024-03-02T12:30:45.143Z"
   },
   {
    "duration": 43,
    "start_time": "2024-03-02T12:30:45.198Z"
   },
   {
    "duration": 3,
    "start_time": "2024-03-02T12:31:11.131Z"
   },
   {
    "duration": 13,
    "start_time": "2024-03-02T12:31:14.859Z"
   },
   {
    "duration": 4,
    "start_time": "2024-03-02T12:31:19.972Z"
   },
   {
    "duration": 5,
    "start_time": "2024-03-02T12:31:20.643Z"
   },
   {
    "duration": 4,
    "start_time": "2024-03-02T12:31:21.256Z"
   },
   {
    "duration": 13,
    "start_time": "2024-03-02T12:31:22.148Z"
   },
   {
    "duration": 93,
    "start_time": "2024-03-02T12:31:47.875Z"
   },
   {
    "duration": 12,
    "start_time": "2024-03-02T12:33:35.644Z"
   },
   {
    "duration": 11,
    "start_time": "2024-03-02T12:33:49.986Z"
   },
   {
    "duration": 3,
    "start_time": "2024-03-02T12:36:09.652Z"
   },
   {
    "duration": 12,
    "start_time": "2024-03-02T12:36:11.651Z"
   },
   {
    "duration": 4,
    "start_time": "2024-03-02T12:36:28.389Z"
   },
   {
    "duration": 6,
    "start_time": "2024-03-02T12:36:33.171Z"
   },
   {
    "duration": 5,
    "start_time": "2024-03-02T12:37:04.856Z"
   },
   {
    "duration": 15,
    "start_time": "2024-03-02T12:37:06.144Z"
   },
   {
    "duration": 14,
    "start_time": "2024-03-02T12:37:13.713Z"
   },
   {
    "duration": 10,
    "start_time": "2024-03-02T12:37:17.614Z"
   },
   {
    "duration": 1047,
    "start_time": "2024-03-02T12:38:20.572Z"
   },
   {
    "duration": 67,
    "start_time": "2024-03-02T12:38:21.620Z"
   },
   {
    "duration": 18,
    "start_time": "2024-03-02T12:38:21.689Z"
   },
   {
    "duration": 19,
    "start_time": "2024-03-02T12:38:21.709Z"
   },
   {
    "duration": 5,
    "start_time": "2024-03-02T12:38:21.729Z"
   },
   {
    "duration": 6,
    "start_time": "2024-03-02T12:38:21.735Z"
   },
   {
    "duration": 7,
    "start_time": "2024-03-02T12:38:21.742Z"
   },
   {
    "duration": 5,
    "start_time": "2024-03-02T12:38:21.750Z"
   },
   {
    "duration": 14,
    "start_time": "2024-03-02T12:38:21.765Z"
   },
   {
    "duration": 14,
    "start_time": "2024-03-02T12:38:21.782Z"
   },
   {
    "duration": 10,
    "start_time": "2024-03-02T12:38:21.798Z"
   },
   {
    "duration": 19,
    "start_time": "2024-03-02T12:38:21.809Z"
   },
   {
    "duration": 35,
    "start_time": "2024-03-02T12:38:21.830Z"
   },
   {
    "duration": 5,
    "start_time": "2024-03-02T12:38:21.867Z"
   },
   {
    "duration": 9,
    "start_time": "2024-03-02T12:38:21.873Z"
   },
   {
    "duration": 5,
    "start_time": "2024-03-02T12:38:21.883Z"
   },
   {
    "duration": 5,
    "start_time": "2024-03-02T12:38:21.889Z"
   },
   {
    "duration": 5,
    "start_time": "2024-03-02T12:38:21.895Z"
   },
   {
    "duration": 5,
    "start_time": "2024-03-02T12:40:26.457Z"
   },
   {
    "duration": 5,
    "start_time": "2024-03-02T12:41:42.382Z"
   },
   {
    "duration": 7,
    "start_time": "2024-03-02T12:44:32.580Z"
   },
   {
    "duration": 4,
    "start_time": "2024-03-02T12:44:45.276Z"
   },
   {
    "duration": 91,
    "start_time": "2024-03-02T12:44:59.988Z"
   },
   {
    "duration": 6,
    "start_time": "2024-03-02T12:45:23.657Z"
   },
   {
    "duration": 8,
    "start_time": "2024-03-02T12:47:00.483Z"
   },
   {
    "duration": 5,
    "start_time": "2024-03-02T12:47:45.586Z"
   },
   {
    "duration": 6,
    "start_time": "2024-03-02T12:47:47.202Z"
   },
   {
    "duration": 5,
    "start_time": "2024-03-02T12:48:24.672Z"
   },
   {
    "duration": 4,
    "start_time": "2024-03-02T12:48:27.565Z"
   },
   {
    "duration": 5,
    "start_time": "2024-03-02T12:48:28.272Z"
   },
   {
    "duration": 1002,
    "start_time": "2024-03-02T12:48:35.420Z"
   },
   {
    "duration": 86,
    "start_time": "2024-03-02T12:48:36.424Z"
   },
   {
    "duration": 24,
    "start_time": "2024-03-02T12:48:36.512Z"
   },
   {
    "duration": 3,
    "start_time": "2024-03-02T12:48:36.538Z"
   },
   {
    "duration": 24,
    "start_time": "2024-03-02T12:48:36.543Z"
   },
   {
    "duration": 16,
    "start_time": "2024-03-02T12:48:36.568Z"
   },
   {
    "duration": 29,
    "start_time": "2024-03-02T12:48:36.586Z"
   },
   {
    "duration": 22,
    "start_time": "2024-03-02T12:48:36.616Z"
   },
   {
    "duration": 36,
    "start_time": "2024-03-02T12:48:36.640Z"
   },
   {
    "duration": 18,
    "start_time": "2024-03-02T12:48:36.679Z"
   },
   {
    "duration": 14,
    "start_time": "2024-03-02T12:48:36.699Z"
   },
   {
    "duration": 15,
    "start_time": "2024-03-02T12:48:36.715Z"
   },
   {
    "duration": 33,
    "start_time": "2024-03-02T12:48:36.732Z"
   },
   {
    "duration": 6,
    "start_time": "2024-03-02T12:48:36.767Z"
   },
   {
    "duration": 10,
    "start_time": "2024-03-02T12:48:36.775Z"
   },
   {
    "duration": 14,
    "start_time": "2024-03-02T12:48:36.786Z"
   },
   {
    "duration": 11,
    "start_time": "2024-03-02T12:48:36.802Z"
   },
   {
    "duration": 16,
    "start_time": "2024-03-02T12:48:36.814Z"
   },
   {
    "duration": 5,
    "start_time": "2024-03-02T12:49:59.581Z"
   },
   {
    "duration": 5,
    "start_time": "2024-03-02T12:50:02.362Z"
   },
   {
    "duration": 4,
    "start_time": "2024-03-02T12:50:03.070Z"
   },
   {
    "duration": 4,
    "start_time": "2024-03-02T12:53:43.657Z"
   },
   {
    "duration": 5,
    "start_time": "2024-03-02T12:53:53.951Z"
   },
   {
    "duration": 9,
    "start_time": "2024-03-02T12:54:08.561Z"
   },
   {
    "duration": 9,
    "start_time": "2024-03-02T12:59:12.568Z"
   },
   {
    "duration": 1010,
    "start_time": "2024-03-02T12:59:19.507Z"
   },
   {
    "duration": 65,
    "start_time": "2024-03-02T12:59:20.519Z"
   },
   {
    "duration": 17,
    "start_time": "2024-03-02T12:59:20.586Z"
   },
   {
    "duration": 17,
    "start_time": "2024-03-02T12:59:20.605Z"
   },
   {
    "duration": 31,
    "start_time": "2024-03-02T12:59:20.623Z"
   },
   {
    "duration": 34,
    "start_time": "2024-03-02T12:59:20.656Z"
   },
   {
    "duration": 19,
    "start_time": "2024-03-02T12:59:20.691Z"
   },
   {
    "duration": 24,
    "start_time": "2024-03-02T12:59:20.712Z"
   },
   {
    "duration": 44,
    "start_time": "2024-03-02T12:59:20.738Z"
   },
   {
    "duration": 33,
    "start_time": "2024-03-02T12:59:20.784Z"
   },
   {
    "duration": 35,
    "start_time": "2024-03-02T12:59:20.818Z"
   },
   {
    "duration": 15,
    "start_time": "2024-03-02T12:59:20.855Z"
   },
   {
    "duration": 21,
    "start_time": "2024-03-02T12:59:20.871Z"
   },
   {
    "duration": 29,
    "start_time": "2024-03-02T12:59:20.893Z"
   },
   {
    "duration": 23,
    "start_time": "2024-03-02T12:59:20.923Z"
   },
   {
    "duration": 32,
    "start_time": "2024-03-02T12:59:20.947Z"
   },
   {
    "duration": 25,
    "start_time": "2024-03-02T12:59:20.981Z"
   },
   {
    "duration": 23,
    "start_time": "2024-03-02T12:59:21.008Z"
   },
   {
    "duration": 13,
    "start_time": "2024-03-02T12:59:21.033Z"
   },
   {
    "duration": 20,
    "start_time": "2024-03-02T12:59:21.047Z"
   },
   {
    "duration": 34,
    "start_time": "2024-03-02T12:59:21.068Z"
   },
   {
    "duration": 25,
    "start_time": "2024-03-02T12:59:21.103Z"
   },
   {
    "duration": 54,
    "start_time": "2024-03-02T18:06:06.609Z"
   },
   {
    "duration": 1374,
    "start_time": "2024-03-02T18:06:17.393Z"
   },
   {
    "duration": 206,
    "start_time": "2024-03-02T18:06:18.772Z"
   },
   {
    "duration": 21,
    "start_time": "2024-03-02T18:06:18.979Z"
   },
   {
    "duration": 3,
    "start_time": "2024-03-02T18:06:19.002Z"
   },
   {
    "duration": 8,
    "start_time": "2024-03-02T18:06:19.007Z"
   },
   {
    "duration": 6,
    "start_time": "2024-03-02T18:06:19.016Z"
   },
   {
    "duration": 5,
    "start_time": "2024-03-02T18:06:19.024Z"
   },
   {
    "duration": 10,
    "start_time": "2024-03-02T18:06:19.031Z"
   },
   {
    "duration": 43,
    "start_time": "2024-03-02T18:06:19.043Z"
   },
   {
    "duration": 17,
    "start_time": "2024-03-02T18:06:19.089Z"
   },
   {
    "duration": 10,
    "start_time": "2024-03-02T18:06:19.108Z"
   },
   {
    "duration": 15,
    "start_time": "2024-03-02T18:06:19.119Z"
   },
   {
    "duration": 41,
    "start_time": "2024-03-02T18:06:19.136Z"
   },
   {
    "duration": 7,
    "start_time": "2024-03-02T18:06:19.180Z"
   },
   {
    "duration": 26,
    "start_time": "2024-03-02T18:06:19.189Z"
   },
   {
    "duration": 6,
    "start_time": "2024-03-02T18:06:19.217Z"
   },
   {
    "duration": 12,
    "start_time": "2024-03-02T18:06:19.224Z"
   },
   {
    "duration": 7,
    "start_time": "2024-03-02T18:06:19.238Z"
   },
   {
    "duration": 30,
    "start_time": "2024-03-02T18:06:19.246Z"
   },
   {
    "duration": 12,
    "start_time": "2024-03-02T18:06:19.278Z"
   },
   {
    "duration": 7,
    "start_time": "2024-03-02T18:06:19.292Z"
   },
   {
    "duration": 7,
    "start_time": "2024-03-02T18:06:19.300Z"
   },
   {
    "duration": 11,
    "start_time": "2024-03-02T18:06:19.308Z"
   },
   {
    "duration": 14,
    "start_time": "2024-03-02T18:07:13.395Z"
   },
   {
    "duration": 19,
    "start_time": "2024-03-02T18:08:29.143Z"
   },
   {
    "duration": 26,
    "start_time": "2024-03-02T18:08:58.997Z"
   },
   {
    "duration": 20,
    "start_time": "2024-03-02T18:09:34.583Z"
   },
   {
    "duration": 11,
    "start_time": "2024-03-02T18:10:23.572Z"
   },
   {
    "duration": 168,
    "start_time": "2024-03-02T18:12:04.193Z"
   },
   {
    "duration": 6,
    "start_time": "2024-03-02T18:12:19.148Z"
   },
   {
    "duration": 22,
    "start_time": "2024-03-02T18:13:00.193Z"
   },
   {
    "duration": 13,
    "start_time": "2024-03-02T18:14:46.704Z"
   },
   {
    "duration": 9,
    "start_time": "2024-03-02T18:15:15.133Z"
   },
   {
    "duration": 14,
    "start_time": "2024-03-02T18:15:21.702Z"
   },
   {
    "duration": 15,
    "start_time": "2024-03-02T18:15:40.755Z"
   },
   {
    "duration": 22,
    "start_time": "2024-03-02T18:15:56.718Z"
   },
   {
    "duration": 14,
    "start_time": "2024-03-02T18:16:18.838Z"
   },
   {
    "duration": 14,
    "start_time": "2024-03-02T18:17:13.809Z"
   },
   {
    "duration": 13,
    "start_time": "2024-03-02T18:17:29.594Z"
   },
   {
    "duration": 13,
    "start_time": "2024-03-02T18:17:38.948Z"
   },
   {
    "duration": 22,
    "start_time": "2024-03-02T18:19:05.391Z"
   },
   {
    "duration": 21,
    "start_time": "2024-03-02T18:19:22.825Z"
   },
   {
    "duration": 14,
    "start_time": "2024-03-02T18:21:24.313Z"
   },
   {
    "duration": 10,
    "start_time": "2024-03-02T18:21:42.934Z"
   },
   {
    "duration": 13,
    "start_time": "2024-03-02T18:21:50.484Z"
   },
   {
    "duration": 13,
    "start_time": "2024-03-02T18:23:09.956Z"
   },
   {
    "duration": 21,
    "start_time": "2024-03-02T18:23:26.908Z"
   },
   {
    "duration": 10,
    "start_time": "2024-03-02T18:23:38.975Z"
   },
   {
    "duration": 13,
    "start_time": "2024-03-02T18:23:58.170Z"
   },
   {
    "duration": 14,
    "start_time": "2024-03-02T18:24:22.964Z"
   },
   {
    "duration": 19,
    "start_time": "2024-03-02T18:24:44.051Z"
   },
   {
    "duration": 9,
    "start_time": "2024-03-02T18:38:18.167Z"
   },
   {
    "duration": 21,
    "start_time": "2024-03-02T18:38:20.882Z"
   },
   {
    "duration": 107,
    "start_time": "2024-03-02T18:42:11.591Z"
   },
   {
    "duration": 15,
    "start_time": "2024-03-02T18:46:33.887Z"
   },
   {
    "duration": 12,
    "start_time": "2024-03-02T18:47:02.389Z"
   },
   {
    "duration": 9,
    "start_time": "2024-03-02T18:47:12.050Z"
   },
   {
    "duration": 33,
    "start_time": "2024-03-02T18:47:13.525Z"
   },
   {
    "duration": 11,
    "start_time": "2024-03-02T18:47:19.676Z"
   },
   {
    "duration": 5,
    "start_time": "2024-03-02T18:47:51.905Z"
   },
   {
    "duration": 7,
    "start_time": "2024-03-02T18:47:56.406Z"
   },
   {
    "duration": 12,
    "start_time": "2024-03-02T18:48:31.246Z"
   },
   {
    "duration": 11,
    "start_time": "2024-03-02T18:48:41.927Z"
   },
   {
    "duration": 96,
    "start_time": "2024-03-02T18:48:51.469Z"
   },
   {
    "duration": 11,
    "start_time": "2024-03-02T18:49:02.202Z"
   },
   {
    "duration": 24,
    "start_time": "2024-03-02T18:50:08.183Z"
   },
   {
    "duration": 32,
    "start_time": "2024-03-02T18:50:59.243Z"
   },
   {
    "duration": 23,
    "start_time": "2024-03-02T18:52:20.743Z"
   },
   {
    "duration": 6,
    "start_time": "2024-03-02T18:57:37.650Z"
   },
   {
    "duration": 21,
    "start_time": "2024-03-02T18:58:21.017Z"
   },
   {
    "duration": 24,
    "start_time": "2024-03-02T18:59:16.043Z"
   },
   {
    "duration": 33,
    "start_time": "2024-03-02T18:59:57.852Z"
   },
   {
    "duration": 27,
    "start_time": "2024-03-02T19:01:04.142Z"
   },
   {
    "duration": 18,
    "start_time": "2024-03-02T19:02:07.927Z"
   },
   {
    "duration": 7,
    "start_time": "2024-03-02T19:09:01.904Z"
   },
   {
    "duration": 21,
    "start_time": "2024-03-02T19:09:36.322Z"
   },
   {
    "duration": 12,
    "start_time": "2024-03-02T19:10:10.457Z"
   },
   {
    "duration": 42,
    "start_time": "2024-03-02T19:10:38.876Z"
   },
   {
    "duration": 9,
    "start_time": "2024-03-02T19:12:49.941Z"
   },
   {
    "duration": 22,
    "start_time": "2024-03-02T19:12:56.174Z"
   },
   {
    "duration": 15,
    "start_time": "2024-03-02T19:18:14.900Z"
   },
   {
    "duration": 197,
    "start_time": "2024-03-02T19:19:21.918Z"
   },
   {
    "duration": 174,
    "start_time": "2024-03-02T19:19:54.596Z"
   },
   {
    "duration": 165,
    "start_time": "2024-03-02T19:20:43.787Z"
   },
   {
    "duration": 1135,
    "start_time": "2024-03-02T19:23:46.023Z"
   },
   {
    "duration": 73,
    "start_time": "2024-03-02T19:23:47.160Z"
   },
   {
    "duration": 20,
    "start_time": "2024-03-02T19:23:47.235Z"
   },
   {
    "duration": 3,
    "start_time": "2024-03-02T19:23:47.257Z"
   },
   {
    "duration": 16,
    "start_time": "2024-03-02T19:23:47.261Z"
   },
   {
    "duration": 5,
    "start_time": "2024-03-02T19:23:47.279Z"
   },
   {
    "duration": 8,
    "start_time": "2024-03-02T19:23:47.286Z"
   },
   {
    "duration": 8,
    "start_time": "2024-03-02T19:23:47.295Z"
   },
   {
    "duration": 15,
    "start_time": "2024-03-02T19:23:47.304Z"
   },
   {
    "duration": 22,
    "start_time": "2024-03-02T19:23:47.322Z"
   },
   {
    "duration": 31,
    "start_time": "2024-03-02T19:23:47.346Z"
   },
   {
    "duration": 14,
    "start_time": "2024-03-02T19:23:47.379Z"
   },
   {
    "duration": 9,
    "start_time": "2024-03-02T19:23:47.395Z"
   },
   {
    "duration": 6,
    "start_time": "2024-03-02T19:23:47.406Z"
   },
   {
    "duration": 11,
    "start_time": "2024-03-02T19:23:47.414Z"
   },
   {
    "duration": 59,
    "start_time": "2024-03-02T19:23:47.426Z"
   },
   {
    "duration": 32,
    "start_time": "2024-03-02T19:23:47.486Z"
   },
   {
    "duration": 6,
    "start_time": "2024-03-02T19:23:47.519Z"
   },
   {
    "duration": 19,
    "start_time": "2024-03-02T19:23:47.526Z"
   },
   {
    "duration": 22,
    "start_time": "2024-03-02T19:23:47.546Z"
   },
   {
    "duration": 13,
    "start_time": "2024-03-02T19:23:47.573Z"
   },
   {
    "duration": 25,
    "start_time": "2024-03-02T19:23:47.588Z"
   },
   {
    "duration": 11,
    "start_time": "2024-03-02T19:23:47.614Z"
   },
   {
    "duration": 9,
    "start_time": "2024-03-02T19:23:47.627Z"
   },
   {
    "duration": 14,
    "start_time": "2024-03-02T19:23:47.638Z"
   },
   {
    "duration": 20,
    "start_time": "2024-03-02T19:23:47.654Z"
   },
   {
    "duration": 184,
    "start_time": "2024-03-02T19:23:47.676Z"
   },
   {
    "duration": 196,
    "start_time": "2024-03-02T19:24:36.422Z"
   },
   {
    "duration": 173,
    "start_time": "2024-03-02T19:24:48.110Z"
   },
   {
    "duration": 193,
    "start_time": "2024-03-02T19:25:03.395Z"
   },
   {
    "duration": 164,
    "start_time": "2024-03-02T19:25:45.346Z"
   },
   {
    "duration": 246,
    "start_time": "2024-03-02T19:26:51.293Z"
   },
   {
    "duration": 206,
    "start_time": "2024-03-02T19:27:06.774Z"
   },
   {
    "duration": 186,
    "start_time": "2024-03-02T19:27:24.508Z"
   },
   {
    "duration": 161,
    "start_time": "2024-03-02T19:27:44.931Z"
   },
   {
    "duration": 18,
    "start_time": "2024-03-02T19:31:54.600Z"
   },
   {
    "duration": 109,
    "start_time": "2024-03-02T19:33:35.135Z"
   },
   {
    "duration": 16,
    "start_time": "2024-03-02T19:33:48.797Z"
   },
   {
    "duration": 15,
    "start_time": "2024-03-02T19:34:06.217Z"
   },
   {
    "duration": 14,
    "start_time": "2024-03-02T19:36:33.840Z"
   },
   {
    "duration": 15,
    "start_time": "2024-03-02T19:36:47.832Z"
   },
   {
    "duration": 15,
    "start_time": "2024-03-02T19:37:03.537Z"
   },
   {
    "duration": 16,
    "start_time": "2024-03-02T19:37:09.659Z"
   },
   {
    "duration": 87,
    "start_time": "2024-03-02T19:38:47.528Z"
   },
   {
    "duration": 5,
    "start_time": "2024-03-02T19:40:24.361Z"
   },
   {
    "duration": 1165,
    "start_time": "2024-03-02T19:40:31.727Z"
   },
   {
    "duration": 72,
    "start_time": "2024-03-02T19:40:32.894Z"
   },
   {
    "duration": 20,
    "start_time": "2024-03-02T19:40:32.968Z"
   },
   {
    "duration": 13,
    "start_time": "2024-03-02T19:40:32.989Z"
   },
   {
    "duration": 11,
    "start_time": "2024-03-02T19:40:33.003Z"
   },
   {
    "duration": 6,
    "start_time": "2024-03-02T19:40:33.016Z"
   },
   {
    "duration": 16,
    "start_time": "2024-03-02T19:40:33.023Z"
   },
   {
    "duration": 6,
    "start_time": "2024-03-02T19:40:33.041Z"
   },
   {
    "duration": 25,
    "start_time": "2024-03-02T19:40:33.049Z"
   },
   {
    "duration": 17,
    "start_time": "2024-03-02T19:40:33.077Z"
   },
   {
    "duration": 10,
    "start_time": "2024-03-02T19:40:33.095Z"
   },
   {
    "duration": 17,
    "start_time": "2024-03-02T19:40:33.106Z"
   },
   {
    "duration": 7,
    "start_time": "2024-03-02T19:40:33.125Z"
   },
   {
    "duration": 10,
    "start_time": "2024-03-02T19:40:33.133Z"
   },
   {
    "duration": 10,
    "start_time": "2024-03-02T19:40:33.172Z"
   },
   {
    "duration": 27,
    "start_time": "2024-03-02T19:40:33.184Z"
   },
   {
    "duration": 27,
    "start_time": "2024-03-02T19:40:33.213Z"
   },
   {
    "duration": 22,
    "start_time": "2024-03-02T19:40:33.242Z"
   },
   {
    "duration": 15,
    "start_time": "2024-03-02T19:40:33.266Z"
   },
   {
    "duration": 7,
    "start_time": "2024-03-02T19:40:33.282Z"
   },
   {
    "duration": 13,
    "start_time": "2024-03-02T19:40:33.290Z"
   },
   {
    "duration": 15,
    "start_time": "2024-03-02T19:40:33.305Z"
   },
   {
    "duration": 6,
    "start_time": "2024-03-02T19:40:33.321Z"
   },
   {
    "duration": 27,
    "start_time": "2024-03-02T19:40:33.328Z"
   },
   {
    "duration": 9,
    "start_time": "2024-03-02T19:40:33.357Z"
   },
   {
    "duration": 23,
    "start_time": "2024-03-02T19:40:33.368Z"
   },
   {
    "duration": 208,
    "start_time": "2024-03-02T19:40:33.393Z"
   },
   {
    "duration": 20,
    "start_time": "2024-03-02T19:40:33.605Z"
   },
   {
    "duration": 5,
    "start_time": "2024-03-02T19:40:51.547Z"
   },
   {
    "duration": 1144,
    "start_time": "2024-03-02T19:41:12.230Z"
   },
   {
    "duration": 76,
    "start_time": "2024-03-02T19:41:13.376Z"
   },
   {
    "duration": 23,
    "start_time": "2024-03-02T19:41:13.454Z"
   },
   {
    "duration": 5,
    "start_time": "2024-03-02T19:41:13.480Z"
   },
   {
    "duration": 17,
    "start_time": "2024-03-02T19:41:13.488Z"
   },
   {
    "duration": 8,
    "start_time": "2024-03-02T19:41:13.506Z"
   },
   {
    "duration": 24,
    "start_time": "2024-03-02T19:41:13.515Z"
   },
   {
    "duration": 10,
    "start_time": "2024-03-02T19:41:13.541Z"
   },
   {
    "duration": 27,
    "start_time": "2024-03-02T19:41:13.553Z"
   },
   {
    "duration": 17,
    "start_time": "2024-03-02T19:41:13.583Z"
   },
   {
    "duration": 12,
    "start_time": "2024-03-02T19:41:13.602Z"
   },
   {
    "duration": 15,
    "start_time": "2024-03-02T19:41:13.615Z"
   },
   {
    "duration": 21,
    "start_time": "2024-03-02T19:41:13.632Z"
   },
   {
    "duration": 6,
    "start_time": "2024-03-02T19:41:13.673Z"
   },
   {
    "duration": 11,
    "start_time": "2024-03-02T19:41:13.680Z"
   },
   {
    "duration": 34,
    "start_time": "2024-03-02T19:41:13.692Z"
   },
   {
    "duration": 30,
    "start_time": "2024-03-02T19:41:13.728Z"
   },
   {
    "duration": 6,
    "start_time": "2024-03-02T19:41:13.772Z"
   },
   {
    "duration": 20,
    "start_time": "2024-03-02T19:41:13.780Z"
   },
   {
    "duration": 12,
    "start_time": "2024-03-02T19:41:13.802Z"
   },
   {
    "duration": 6,
    "start_time": "2024-03-02T19:41:13.816Z"
   },
   {
    "duration": 8,
    "start_time": "2024-03-02T19:41:13.824Z"
   },
   {
    "duration": 14,
    "start_time": "2024-03-02T19:41:13.834Z"
   },
   {
    "duration": 24,
    "start_time": "2024-03-02T19:41:13.850Z"
   },
   {
    "duration": 9,
    "start_time": "2024-03-02T19:41:13.876Z"
   },
   {
    "duration": 17,
    "start_time": "2024-03-02T19:41:13.887Z"
   },
   {
    "duration": 210,
    "start_time": "2024-03-02T19:41:13.905Z"
   },
   {
    "duration": 25,
    "start_time": "2024-03-02T19:41:14.117Z"
   },
   {
    "duration": 1183,
    "start_time": "2024-03-02T19:43:04.270Z"
   },
   {
    "duration": 73,
    "start_time": "2024-03-02T19:43:05.455Z"
   },
   {
    "duration": 22,
    "start_time": "2024-03-02T19:43:05.530Z"
   },
   {
    "duration": 4,
    "start_time": "2024-03-02T19:43:05.554Z"
   },
   {
    "duration": 20,
    "start_time": "2024-03-02T19:43:05.559Z"
   },
   {
    "duration": 4,
    "start_time": "2024-03-02T19:43:05.581Z"
   },
   {
    "duration": 6,
    "start_time": "2024-03-02T19:43:05.586Z"
   },
   {
    "duration": 8,
    "start_time": "2024-03-02T19:43:05.593Z"
   },
   {
    "duration": 17,
    "start_time": "2024-03-02T19:43:05.602Z"
   },
   {
    "duration": 17,
    "start_time": "2024-03-02T19:43:05.621Z"
   },
   {
    "duration": 38,
    "start_time": "2024-03-02T19:43:05.640Z"
   },
   {
    "duration": 15,
    "start_time": "2024-03-02T19:43:05.680Z"
   },
   {
    "duration": 7,
    "start_time": "2024-03-02T19:43:05.697Z"
   },
   {
    "duration": 10,
    "start_time": "2024-03-02T19:43:05.705Z"
   },
   {
    "duration": 19,
    "start_time": "2024-03-02T19:43:05.716Z"
   },
   {
    "duration": 59,
    "start_time": "2024-03-02T19:43:05.737Z"
   },
   {
    "duration": 43,
    "start_time": "2024-03-02T19:43:05.798Z"
   },
   {
    "duration": 31,
    "start_time": "2024-03-02T19:43:05.843Z"
   },
   {
    "duration": 8,
    "start_time": "2024-03-02T19:43:05.876Z"
   },
   {
    "duration": 8,
    "start_time": "2024-03-02T19:43:05.886Z"
   },
   {
    "duration": 9,
    "start_time": "2024-03-02T19:43:05.895Z"
   },
   {
    "duration": 5,
    "start_time": "2024-03-02T19:43:05.905Z"
   },
   {
    "duration": 5,
    "start_time": "2024-03-02T19:43:05.912Z"
   },
   {
    "duration": 7,
    "start_time": "2024-03-02T19:43:05.918Z"
   },
   {
    "duration": 53,
    "start_time": "2024-03-02T19:43:05.927Z"
   },
   {
    "duration": 127,
    "start_time": "2024-03-02T19:43:05.981Z"
   },
   {
    "duration": 0,
    "start_time": "2024-03-02T19:43:06.110Z"
   },
   {
    "duration": 0,
    "start_time": "2024-03-02T19:43:06.112Z"
   },
   {
    "duration": 0,
    "start_time": "2024-03-02T19:43:06.113Z"
   },
   {
    "duration": 18,
    "start_time": "2024-03-02T19:43:58.911Z"
   },
   {
    "duration": 19,
    "start_time": "2024-03-02T19:47:51.373Z"
   },
   {
    "duration": 17,
    "start_time": "2024-03-02T19:48:54.991Z"
   },
   {
    "duration": 7,
    "start_time": "2024-03-02T19:51:25.794Z"
   },
   {
    "duration": 16,
    "start_time": "2024-03-02T19:51:26.518Z"
   },
   {
    "duration": 10,
    "start_time": "2024-03-02T19:52:24.370Z"
   },
   {
    "duration": 189,
    "start_time": "2024-03-02T19:52:31.975Z"
   },
   {
    "duration": 181,
    "start_time": "2024-03-02T19:53:30.467Z"
   },
   {
    "duration": 22,
    "start_time": "2024-03-02T19:53:42.749Z"
   },
   {
    "duration": 15,
    "start_time": "2024-03-02T19:53:58.766Z"
   },
   {
    "duration": 16,
    "start_time": "2024-03-02T19:54:49.864Z"
   },
   {
    "duration": 115,
    "start_time": "2024-03-02T19:58:04.931Z"
   },
   {
    "duration": 21,
    "start_time": "2024-03-02T19:58:18.636Z"
   },
   {
    "duration": 10,
    "start_time": "2024-03-02T19:58:53.173Z"
   },
   {
    "duration": 19,
    "start_time": "2024-03-02T20:06:51.525Z"
   },
   {
    "duration": 11,
    "start_time": "2024-03-02T20:07:11.554Z"
   },
   {
    "duration": 15,
    "start_time": "2024-03-02T20:07:25.369Z"
   },
   {
    "duration": 8,
    "start_time": "2024-03-02T20:10:10.644Z"
   },
   {
    "duration": 17,
    "start_time": "2024-03-02T20:14:18.323Z"
   },
   {
    "duration": 23,
    "start_time": "2024-03-02T20:14:28.957Z"
   },
   {
    "duration": 27,
    "start_time": "2024-03-02T20:15:00.310Z"
   },
   {
    "duration": 1643,
    "start_time": "2024-03-02T20:17:29.456Z"
   },
   {
    "duration": 171,
    "start_time": "2024-03-02T20:18:13.079Z"
   },
   {
    "duration": 182,
    "start_time": "2024-03-02T20:18:49.563Z"
   },
   {
    "duration": 199,
    "start_time": "2024-03-02T20:19:02.130Z"
   },
   {
    "duration": 204,
    "start_time": "2024-03-02T20:20:10.492Z"
   },
   {
    "duration": 216,
    "start_time": "2024-03-02T20:21:04.986Z"
   },
   {
    "duration": 97,
    "start_time": "2024-03-02T20:23:40.454Z"
   },
   {
    "duration": 1558,
    "start_time": "2024-03-02T20:23:52.106Z"
   },
   {
    "duration": 506,
    "start_time": "2024-03-02T20:24:12.820Z"
   },
   {
    "duration": 44,
    "start_time": "2024-03-02T20:24:35.508Z"
   },
   {
    "duration": 40,
    "start_time": "2024-03-02T20:24:57.928Z"
   },
   {
    "duration": 363,
    "start_time": "2024-03-02T20:25:07.816Z"
   },
   {
    "duration": 288,
    "start_time": "2024-03-02T20:25:31.689Z"
   },
   {
    "duration": 23,
    "start_time": "2024-03-02T20:29:31.150Z"
   },
   {
    "duration": 22,
    "start_time": "2024-03-02T20:29:45.390Z"
   },
   {
    "duration": 23,
    "start_time": "2024-03-02T20:30:01.499Z"
   },
   {
    "duration": 27,
    "start_time": "2024-03-02T20:32:04.333Z"
   },
   {
    "duration": 24,
    "start_time": "2024-03-02T20:32:19.510Z"
   },
   {
    "duration": 24,
    "start_time": "2024-03-02T20:32:35.014Z"
   },
   {
    "duration": 23,
    "start_time": "2024-03-02T20:33:00.010Z"
   },
   {
    "duration": 4,
    "start_time": "2024-03-02T20:37:24.947Z"
   },
   {
    "duration": 5,
    "start_time": "2024-03-02T20:38:23.932Z"
   },
   {
    "duration": 14,
    "start_time": "2024-03-02T20:38:39.225Z"
   },
   {
    "duration": 10,
    "start_time": "2024-03-02T20:40:56.243Z"
   },
   {
    "duration": 284,
    "start_time": "2024-03-02T20:40:57.419Z"
   },
   {
    "duration": 319,
    "start_time": "2024-03-02T20:41:31.765Z"
   },
   {
    "duration": 9,
    "start_time": "2024-03-02T20:41:48.807Z"
   },
   {
    "duration": 281,
    "start_time": "2024-03-02T20:42:21.182Z"
   },
   {
    "duration": 54,
    "start_time": "2024-03-03T07:43:25.135Z"
   },
   {
    "duration": 1477,
    "start_time": "2024-03-03T07:43:41.373Z"
   },
   {
    "duration": 203,
    "start_time": "2024-03-03T07:43:45.749Z"
   },
   {
    "duration": 21,
    "start_time": "2024-03-03T07:43:47.732Z"
   },
   {
    "duration": 3,
    "start_time": "2024-03-03T07:43:51.188Z"
   },
   {
    "duration": 19,
    "start_time": "2024-03-03T07:43:52.624Z"
   },
   {
    "duration": 13,
    "start_time": "2024-03-03T07:43:53.611Z"
   },
   {
    "duration": 15,
    "start_time": "2024-03-03T07:47:35.662Z"
   },
   {
    "duration": 12,
    "start_time": "2024-03-03T07:48:03.809Z"
   },
   {
    "duration": 10,
    "start_time": "2024-03-03T07:48:34.896Z"
   },
   {
    "duration": 20,
    "start_time": "2024-03-03T07:49:40.133Z"
   },
   {
    "duration": 32,
    "start_time": "2024-03-03T07:51:12.608Z"
   },
   {
    "duration": 27,
    "start_time": "2024-03-03T07:52:44.218Z"
   },
   {
    "duration": 30,
    "start_time": "2024-03-03T07:53:23.736Z"
   },
   {
    "duration": 14,
    "start_time": "2024-03-03T07:56:13.034Z"
   },
   {
    "duration": 22,
    "start_time": "2024-03-03T07:56:47.981Z"
   },
   {
    "duration": 8,
    "start_time": "2024-03-03T07:57:01.989Z"
   },
   {
    "duration": 6,
    "start_time": "2024-03-03T07:57:02.550Z"
   },
   {
    "duration": 10,
    "start_time": "2024-03-03T07:57:03.142Z"
   },
   {
    "duration": 21,
    "start_time": "2024-03-03T07:57:03.811Z"
   },
   {
    "duration": 38,
    "start_time": "2024-03-03T07:57:04.889Z"
   },
   {
    "duration": 10,
    "start_time": "2024-03-03T07:57:05.625Z"
   },
   {
    "duration": 9,
    "start_time": "2024-03-03T07:57:16.130Z"
   },
   {
    "duration": 13,
    "start_time": "2024-03-03T07:57:29.039Z"
   },
   {
    "duration": 15,
    "start_time": "2024-03-03T07:57:45.706Z"
   },
   {
    "duration": 18,
    "start_time": "2024-03-03T08:01:43.336Z"
   },
   {
    "duration": 16,
    "start_time": "2024-03-03T08:02:35.922Z"
   },
   {
    "duration": 5,
    "start_time": "2024-03-03T08:03:24.980Z"
   },
   {
    "duration": 9,
    "start_time": "2024-03-03T08:04:11.248Z"
   },
   {
    "duration": 5,
    "start_time": "2024-03-03T08:04:12.187Z"
   },
   {
    "duration": 5,
    "start_time": "2024-03-03T08:04:47.110Z"
   },
   {
    "duration": 1257,
    "start_time": "2024-03-03T08:04:59.226Z"
   },
   {
    "duration": 75,
    "start_time": "2024-03-03T08:05:00.486Z"
   },
   {
    "duration": 98,
    "start_time": "2024-03-03T08:05:00.562Z"
   },
   {
    "duration": 66,
    "start_time": "2024-03-03T08:05:00.662Z"
   },
   {
    "duration": 106,
    "start_time": "2024-03-03T08:05:00.729Z"
   },
   {
    "duration": 223,
    "start_time": "2024-03-03T08:05:00.836Z"
   },
   {
    "duration": 160,
    "start_time": "2024-03-03T08:05:01.061Z"
   },
   {
    "duration": 38,
    "start_time": "2024-03-03T08:05:01.223Z"
   },
   {
    "duration": 45,
    "start_time": "2024-03-03T08:05:01.263Z"
   },
   {
    "duration": 60,
    "start_time": "2024-03-03T08:05:01.311Z"
   },
   {
    "duration": 35,
    "start_time": "2024-03-03T08:05:01.372Z"
   },
   {
    "duration": 17,
    "start_time": "2024-03-03T08:05:01.409Z"
   },
   {
    "duration": 27,
    "start_time": "2024-03-03T08:05:01.427Z"
   },
   {
    "duration": 20,
    "start_time": "2024-03-03T08:05:01.456Z"
   },
   {
    "duration": 28,
    "start_time": "2024-03-03T08:05:01.477Z"
   },
   {
    "duration": 30,
    "start_time": "2024-03-03T08:05:01.507Z"
   },
   {
    "duration": 37,
    "start_time": "2024-03-03T08:05:01.539Z"
   },
   {
    "duration": 63,
    "start_time": "2024-03-03T08:05:01.578Z"
   },
   {
    "duration": 62,
    "start_time": "2024-03-03T08:05:01.643Z"
   },
   {
    "duration": 28,
    "start_time": "2024-03-03T08:05:01.707Z"
   },
   {
    "duration": 111,
    "start_time": "2024-03-03T08:05:01.737Z"
   },
   {
    "duration": 74,
    "start_time": "2024-03-03T08:05:01.850Z"
   },
   {
    "duration": 59,
    "start_time": "2024-03-03T08:05:01.926Z"
   },
   {
    "duration": 130,
    "start_time": "2024-03-03T08:05:01.987Z"
   },
   {
    "duration": 98,
    "start_time": "2024-03-03T08:05:02.118Z"
   },
   {
    "duration": 41,
    "start_time": "2024-03-03T08:05:02.217Z"
   },
   {
    "duration": 140,
    "start_time": "2024-03-03T08:05:02.259Z"
   },
   {
    "duration": 0,
    "start_time": "2024-03-03T08:05:02.401Z"
   },
   {
    "duration": 0,
    "start_time": "2024-03-03T08:05:02.402Z"
   },
   {
    "duration": 0,
    "start_time": "2024-03-03T08:05:02.403Z"
   },
   {
    "duration": 0,
    "start_time": "2024-03-03T08:05:02.404Z"
   },
   {
    "duration": 0,
    "start_time": "2024-03-03T08:05:02.405Z"
   },
   {
    "duration": 0,
    "start_time": "2024-03-03T08:05:02.407Z"
   },
   {
    "duration": 0,
    "start_time": "2024-03-03T08:05:02.408Z"
   },
   {
    "duration": 0,
    "start_time": "2024-03-03T08:05:02.409Z"
   },
   {
    "duration": 4,
    "start_time": "2024-03-03T08:06:38.759Z"
   },
   {
    "duration": 3,
    "start_time": "2024-03-03T08:06:39.243Z"
   },
   {
    "duration": 4,
    "start_time": "2024-03-03T08:07:27.587Z"
   },
   {
    "duration": 1143,
    "start_time": "2024-03-03T08:07:42.024Z"
   },
   {
    "duration": 72,
    "start_time": "2024-03-03T08:07:43.169Z"
   },
   {
    "duration": 31,
    "start_time": "2024-03-03T08:07:43.243Z"
   },
   {
    "duration": 4,
    "start_time": "2024-03-03T08:07:43.277Z"
   },
   {
    "duration": 20,
    "start_time": "2024-03-03T08:07:43.291Z"
   },
   {
    "duration": 11,
    "start_time": "2024-03-03T08:07:43.313Z"
   },
   {
    "duration": 15,
    "start_time": "2024-03-03T08:07:43.326Z"
   },
   {
    "duration": 25,
    "start_time": "2024-03-03T08:07:43.344Z"
   },
   {
    "duration": 22,
    "start_time": "2024-03-03T08:07:43.371Z"
   },
   {
    "duration": 10,
    "start_time": "2024-03-03T08:07:43.395Z"
   },
   {
    "duration": 21,
    "start_time": "2024-03-03T08:07:43.406Z"
   },
   {
    "duration": 16,
    "start_time": "2024-03-03T08:07:43.429Z"
   },
   {
    "duration": 50,
    "start_time": "2024-03-03T08:07:43.446Z"
   },
   {
    "duration": 13,
    "start_time": "2024-03-03T08:07:43.498Z"
   },
   {
    "duration": 5,
    "start_time": "2024-03-03T08:07:43.513Z"
   },
   {
    "duration": 5,
    "start_time": "2024-03-03T08:07:43.520Z"
   },
   {
    "duration": 12,
    "start_time": "2024-03-03T08:07:43.527Z"
   },
   {
    "duration": 7,
    "start_time": "2024-03-03T08:07:43.541Z"
   },
   {
    "duration": 17,
    "start_time": "2024-03-03T08:07:43.550Z"
   },
   {
    "duration": 28,
    "start_time": "2024-03-03T08:07:43.569Z"
   },
   {
    "duration": 8,
    "start_time": "2024-03-03T08:07:43.599Z"
   },
   {
    "duration": 20,
    "start_time": "2024-03-03T08:07:43.609Z"
   },
   {
    "duration": 11,
    "start_time": "2024-03-03T08:07:43.630Z"
   },
   {
    "duration": 7,
    "start_time": "2024-03-03T08:07:43.643Z"
   },
   {
    "duration": 23,
    "start_time": "2024-03-03T08:07:43.652Z"
   },
   {
    "duration": 8,
    "start_time": "2024-03-03T08:07:43.677Z"
   },
   {
    "duration": 17,
    "start_time": "2024-03-03T08:07:43.686Z"
   },
   {
    "duration": 187,
    "start_time": "2024-03-03T08:07:43.706Z"
   },
   {
    "duration": 15,
    "start_time": "2024-03-03T08:07:43.896Z"
   },
   {
    "duration": 323,
    "start_time": "2024-03-03T08:07:43.913Z"
   },
   {
    "duration": 25,
    "start_time": "2024-03-03T08:07:44.237Z"
   },
   {
    "duration": 4,
    "start_time": "2024-03-03T08:07:44.263Z"
   },
   {
    "duration": 11,
    "start_time": "2024-03-03T08:07:44.269Z"
   },
   {
    "duration": 290,
    "start_time": "2024-03-03T08:07:44.282Z"
   },
   {
    "duration": 4,
    "start_time": "2024-03-03T08:09:47.040Z"
   },
   {
    "duration": 4,
    "start_time": "2024-03-03T08:10:14.646Z"
   },
   {
    "duration": 5,
    "start_time": "2024-03-03T08:10:48.593Z"
   },
   {
    "duration": 6,
    "start_time": "2024-03-03T08:11:39.045Z"
   },
   {
    "duration": 5,
    "start_time": "2024-03-03T08:11:45.692Z"
   },
   {
    "duration": 4,
    "start_time": "2024-03-03T08:12:05.515Z"
   },
   {
    "duration": 903,
    "start_time": "2024-03-03T08:14:05.689Z"
   },
   {
    "duration": 4,
    "start_time": "2024-03-03T08:15:40.671Z"
   },
   {
    "duration": 5,
    "start_time": "2024-03-03T08:15:43.189Z"
   },
   {
    "duration": 4,
    "start_time": "2024-03-03T08:15:43.773Z"
   },
   {
    "duration": 1133,
    "start_time": "2024-03-03T08:15:49.736Z"
   },
   {
    "duration": 71,
    "start_time": "2024-03-03T08:15:50.871Z"
   },
   {
    "duration": 20,
    "start_time": "2024-03-03T08:15:50.944Z"
   },
   {
    "duration": 4,
    "start_time": "2024-03-03T08:15:50.966Z"
   },
   {
    "duration": 28,
    "start_time": "2024-03-03T08:15:50.972Z"
   },
   {
    "duration": 10,
    "start_time": "2024-03-03T08:15:51.001Z"
   },
   {
    "duration": 24,
    "start_time": "2024-03-03T08:15:51.013Z"
   },
   {
    "duration": 13,
    "start_time": "2024-03-03T08:15:51.042Z"
   },
   {
    "duration": 24,
    "start_time": "2024-03-03T08:15:51.057Z"
   },
   {
    "duration": 19,
    "start_time": "2024-03-03T08:15:51.085Z"
   },
   {
    "duration": 25,
    "start_time": "2024-03-03T08:15:51.106Z"
   },
   {
    "duration": 19,
    "start_time": "2024-03-03T08:15:51.133Z"
   },
   {
    "duration": 13,
    "start_time": "2024-03-03T08:15:51.155Z"
   },
   {
    "duration": 25,
    "start_time": "2024-03-03T08:15:51.170Z"
   },
   {
    "duration": 9,
    "start_time": "2024-03-03T08:15:51.197Z"
   },
   {
    "duration": 8,
    "start_time": "2024-03-03T08:15:51.208Z"
   },
   {
    "duration": 6,
    "start_time": "2024-03-03T08:15:51.218Z"
   },
   {
    "duration": 12,
    "start_time": "2024-03-03T08:15:51.226Z"
   },
   {
    "duration": 25,
    "start_time": "2024-03-03T08:15:51.241Z"
   },
   {
    "duration": 25,
    "start_time": "2024-03-03T08:15:51.267Z"
   },
   {
    "duration": 18,
    "start_time": "2024-03-03T08:15:51.294Z"
   },
   {
    "duration": 24,
    "start_time": "2024-03-03T08:15:51.314Z"
   },
   {
    "duration": 14,
    "start_time": "2024-03-03T08:15:51.340Z"
   },
   {
    "duration": 8,
    "start_time": "2024-03-03T08:15:51.356Z"
   },
   {
    "duration": 14,
    "start_time": "2024-03-03T08:15:51.366Z"
   },
   {
    "duration": 24,
    "start_time": "2024-03-03T08:15:51.382Z"
   },
   {
    "duration": 186,
    "start_time": "2024-03-03T08:15:51.407Z"
   },
   {
    "duration": 15,
    "start_time": "2024-03-03T08:15:51.596Z"
   },
   {
    "duration": 327,
    "start_time": "2024-03-03T08:15:51.613Z"
   },
   {
    "duration": 26,
    "start_time": "2024-03-03T08:15:51.941Z"
   },
   {
    "duration": 5,
    "start_time": "2024-03-03T08:15:51.969Z"
   },
   {
    "duration": 13,
    "start_time": "2024-03-03T08:15:51.975Z"
   },
   {
    "duration": 300,
    "start_time": "2024-03-03T08:15:51.989Z"
   },
   {
    "duration": 4,
    "start_time": "2024-03-03T08:16:46.785Z"
   },
   {
    "duration": 5,
    "start_time": "2024-03-03T08:16:47.302Z"
   },
   {
    "duration": 5,
    "start_time": "2024-03-03T08:17:37.224Z"
   },
   {
    "duration": 5,
    "start_time": "2024-03-03T08:17:41.135Z"
   },
   {
    "duration": 6,
    "start_time": "2024-03-03T08:17:41.720Z"
   },
   {
    "duration": 15,
    "start_time": "2024-03-03T08:20:34.644Z"
   },
   {
    "duration": 11,
    "start_time": "2024-03-03T08:21:11.886Z"
   },
   {
    "duration": 309,
    "start_time": "2024-03-03T08:33:09.925Z"
   },
   {
    "duration": 328,
    "start_time": "2024-03-03T08:34:07.777Z"
   },
   {
    "duration": 5,
    "start_time": "2024-03-03T08:37:00.331Z"
   },
   {
    "duration": 10,
    "start_time": "2024-03-03T08:38:00.348Z"
   },
   {
    "duration": 307,
    "start_time": "2024-03-03T08:38:09.270Z"
   },
   {
    "duration": 11,
    "start_time": "2024-03-03T08:42:43.596Z"
   },
   {
    "duration": 61,
    "start_time": "2024-03-03T08:46:13.444Z"
   },
   {
    "duration": 114,
    "start_time": "2024-03-03T08:48:31.573Z"
   },
   {
    "duration": 18,
    "start_time": "2024-03-03T08:49:46.170Z"
   },
   {
    "duration": 24,
    "start_time": "2024-03-03T08:50:11.667Z"
   },
   {
    "duration": 7,
    "start_time": "2024-03-03T08:50:49.653Z"
   },
   {
    "duration": 315,
    "start_time": "2024-03-03T08:51:13.687Z"
   },
   {
    "duration": 106,
    "start_time": "2024-03-03T08:52:45.513Z"
   },
   {
    "duration": 417,
    "start_time": "2024-03-03T08:53:10.972Z"
   },
   {
    "duration": 326,
    "start_time": "2024-03-03T08:54:12.118Z"
   },
   {
    "duration": 341,
    "start_time": "2024-03-03T08:54:39.668Z"
   },
   {
    "duration": 437,
    "start_time": "2024-03-03T08:55:08.562Z"
   },
   {
    "duration": 543,
    "start_time": "2024-03-03T08:55:16.632Z"
   },
   {
    "duration": 14,
    "start_time": "2024-03-03T08:56:52.998Z"
   },
   {
    "duration": 1041,
    "start_time": "2024-03-03T08:57:25.685Z"
   },
   {
    "duration": 946,
    "start_time": "2024-03-03T08:58:52.007Z"
   },
   {
    "duration": 524,
    "start_time": "2024-03-03T08:59:03.006Z"
   },
   {
    "duration": 682,
    "start_time": "2024-03-03T08:59:15.640Z"
   },
   {
    "duration": 436,
    "start_time": "2024-03-03T08:59:39.161Z"
   },
   {
    "duration": 437,
    "start_time": "2024-03-03T08:59:46.554Z"
   },
   {
    "duration": 167,
    "start_time": "2024-03-03T09:01:21.146Z"
   },
   {
    "duration": 323,
    "start_time": "2024-03-03T09:01:27.704Z"
   },
   {
    "duration": 326,
    "start_time": "2024-03-03T09:02:27.191Z"
   },
   {
    "duration": 20,
    "start_time": "2024-03-03T09:03:00.410Z"
   },
   {
    "duration": 16,
    "start_time": "2024-03-03T09:03:20.100Z"
   },
   {
    "duration": 335,
    "start_time": "2024-03-03T09:03:26.593Z"
   },
   {
    "duration": 167,
    "start_time": "2024-03-03T09:04:27.506Z"
   },
   {
    "duration": 329,
    "start_time": "2024-03-03T09:04:40.308Z"
   },
   {
    "duration": 808,
    "start_time": "2024-03-03T09:05:18.005Z"
   },
   {
    "duration": 920,
    "start_time": "2024-03-03T09:05:36.395Z"
   },
   {
    "duration": 549,
    "start_time": "2024-03-03T09:05:50.469Z"
   },
   {
    "duration": 334,
    "start_time": "2024-03-03T09:25:13.075Z"
   },
   {
    "duration": 25,
    "start_time": "2024-03-03T09:25:21.676Z"
   },
   {
    "duration": 5,
    "start_time": "2024-03-03T09:25:23.681Z"
   },
   {
    "duration": 30,
    "start_time": "2024-03-03T09:27:13.775Z"
   },
   {
    "duration": 40,
    "start_time": "2024-03-03T09:27:21.395Z"
   },
   {
    "duration": 1351,
    "start_time": "2024-03-03T09:27:29.787Z"
   },
   {
    "duration": 90,
    "start_time": "2024-03-03T09:27:31.141Z"
   },
   {
    "duration": 24,
    "start_time": "2024-03-03T09:27:31.233Z"
   },
   {
    "duration": 54,
    "start_time": "2024-03-03T09:27:31.260Z"
   },
   {
    "duration": 113,
    "start_time": "2024-03-03T09:27:31.316Z"
   },
   {
    "duration": 39,
    "start_time": "2024-03-03T09:27:31.431Z"
   },
   {
    "duration": 100,
    "start_time": "2024-03-03T09:27:31.472Z"
   },
   {
    "duration": 136,
    "start_time": "2024-03-03T09:27:31.574Z"
   },
   {
    "duration": 100,
    "start_time": "2024-03-03T09:27:31.712Z"
   },
   {
    "duration": 87,
    "start_time": "2024-03-03T09:27:31.816Z"
   },
   {
    "duration": 55,
    "start_time": "2024-03-03T09:27:31.904Z"
   },
   {
    "duration": 52,
    "start_time": "2024-03-03T09:27:31.960Z"
   },
   {
    "duration": 11,
    "start_time": "2024-03-03T09:27:32.014Z"
   },
   {
    "duration": 21,
    "start_time": "2024-03-03T09:27:32.027Z"
   },
   {
    "duration": 25,
    "start_time": "2024-03-03T09:27:32.050Z"
   },
   {
    "duration": 11,
    "start_time": "2024-03-03T09:27:32.077Z"
   },
   {
    "duration": 47,
    "start_time": "2024-03-03T09:27:32.091Z"
   },
   {
    "duration": 10,
    "start_time": "2024-03-03T09:27:32.140Z"
   },
   {
    "duration": 24,
    "start_time": "2024-03-03T09:27:32.152Z"
   },
   {
    "duration": 130,
    "start_time": "2024-03-03T09:27:32.178Z"
   },
   {
    "duration": 88,
    "start_time": "2024-03-03T09:27:32.310Z"
   },
   {
    "duration": 33,
    "start_time": "2024-03-03T09:27:32.400Z"
   },
   {
    "duration": 15,
    "start_time": "2024-03-03T09:27:32.435Z"
   },
   {
    "duration": 13,
    "start_time": "2024-03-03T09:27:32.451Z"
   },
   {
    "duration": 20,
    "start_time": "2024-03-03T09:27:32.466Z"
   },
   {
    "duration": 50,
    "start_time": "2024-03-03T09:27:32.488Z"
   },
   {
    "duration": 35,
    "start_time": "2024-03-03T09:27:32.539Z"
   },
   {
    "duration": 35,
    "start_time": "2024-03-03T09:27:32.577Z"
   },
   {
    "duration": 209,
    "start_time": "2024-03-03T09:27:32.615Z"
   },
   {
    "duration": 125,
    "start_time": "2024-03-03T09:27:32.825Z"
   },
   {
    "duration": 0,
    "start_time": "2024-03-03T09:27:32.952Z"
   },
   {
    "duration": 0,
    "start_time": "2024-03-03T09:27:32.953Z"
   },
   {
    "duration": 0,
    "start_time": "2024-03-03T09:27:32.954Z"
   },
   {
    "duration": 0,
    "start_time": "2024-03-03T09:27:32.956Z"
   },
   {
    "duration": 0,
    "start_time": "2024-03-03T09:27:32.957Z"
   },
   {
    "duration": 1,
    "start_time": "2024-03-03T09:27:32.958Z"
   },
   {
    "duration": 22,
    "start_time": "2024-03-03T09:28:00.848Z"
   },
   {
    "duration": 25,
    "start_time": "2024-03-03T09:28:33.377Z"
   },
   {
    "duration": 113,
    "start_time": "2024-03-03T09:28:49.994Z"
   },
   {
    "duration": 26,
    "start_time": "2024-03-03T09:29:01.362Z"
   },
   {
    "duration": 27,
    "start_time": "2024-03-03T09:29:20.269Z"
   },
   {
    "duration": 17,
    "start_time": "2024-03-03T09:30:42.386Z"
   },
   {
    "duration": 15,
    "start_time": "2024-03-03T09:30:53.171Z"
   },
   {
    "duration": 13,
    "start_time": "2024-03-03T09:33:28.946Z"
   },
   {
    "duration": 1278,
    "start_time": "2024-03-03T09:33:36.738Z"
   },
   {
    "duration": 71,
    "start_time": "2024-03-03T09:33:38.017Z"
   },
   {
    "duration": 29,
    "start_time": "2024-03-03T09:33:38.090Z"
   },
   {
    "duration": 3,
    "start_time": "2024-03-03T09:33:38.122Z"
   },
   {
    "duration": 27,
    "start_time": "2024-03-03T09:33:38.127Z"
   },
   {
    "duration": 12,
    "start_time": "2024-03-03T09:33:38.156Z"
   },
   {
    "duration": 23,
    "start_time": "2024-03-03T09:33:38.191Z"
   },
   {
    "duration": 14,
    "start_time": "2024-03-03T09:33:38.216Z"
   },
   {
    "duration": 6,
    "start_time": "2024-03-03T09:33:38.232Z"
   },
   {
    "duration": 38,
    "start_time": "2024-03-03T09:33:38.240Z"
   },
   {
    "duration": 32,
    "start_time": "2024-03-03T09:33:38.280Z"
   },
   {
    "duration": 21,
    "start_time": "2024-03-03T09:33:38.314Z"
   },
   {
    "duration": 12,
    "start_time": "2024-03-03T09:33:38.337Z"
   },
   {
    "duration": 5,
    "start_time": "2024-03-03T09:33:38.351Z"
   },
   {
    "duration": 47,
    "start_time": "2024-03-03T09:33:38.357Z"
   },
   {
    "duration": 6,
    "start_time": "2024-03-03T09:33:38.407Z"
   },
   {
    "duration": 6,
    "start_time": "2024-03-03T09:33:38.416Z"
   },
   {
    "duration": 6,
    "start_time": "2024-03-03T09:33:38.424Z"
   },
   {
    "duration": 13,
    "start_time": "2024-03-03T09:33:38.431Z"
   },
   {
    "duration": 6,
    "start_time": "2024-03-03T09:33:38.446Z"
   },
   {
    "duration": 5,
    "start_time": "2024-03-03T09:33:38.454Z"
   },
   {
    "duration": 35,
    "start_time": "2024-03-03T09:33:38.461Z"
   },
   {
    "duration": 11,
    "start_time": "2024-03-03T09:33:38.499Z"
   },
   {
    "duration": 7,
    "start_time": "2024-03-03T09:33:38.513Z"
   },
   {
    "duration": 7,
    "start_time": "2024-03-03T09:33:38.522Z"
   },
   {
    "duration": 15,
    "start_time": "2024-03-03T09:33:38.530Z"
   },
   {
    "duration": 10,
    "start_time": "2024-03-03T09:33:38.546Z"
   },
   {
    "duration": 48,
    "start_time": "2024-03-03T09:33:38.559Z"
   },
   {
    "duration": 213,
    "start_time": "2024-03-03T09:33:38.609Z"
   },
   {
    "duration": 15,
    "start_time": "2024-03-03T09:33:38.824Z"
   },
   {
    "duration": 368,
    "start_time": "2024-03-03T09:33:38.840Z"
   },
   {
    "duration": 28,
    "start_time": "2024-03-03T09:33:39.212Z"
   },
   {
    "duration": 5,
    "start_time": "2024-03-03T09:33:39.241Z"
   },
   {
    "duration": 11,
    "start_time": "2024-03-03T09:33:39.247Z"
   },
   {
    "duration": 368,
    "start_time": "2024-03-03T09:33:39.260Z"
   },
   {
    "duration": 605,
    "start_time": "2024-03-03T09:33:39.630Z"
   },
   {
    "duration": 533,
    "start_time": "2024-03-03T09:34:08.127Z"
   },
   {
    "duration": 597,
    "start_time": "2024-03-03T09:37:47.879Z"
   },
   {
    "duration": 612,
    "start_time": "2024-03-03T09:38:04.533Z"
   },
   {
    "duration": 616,
    "start_time": "2024-03-03T09:38:23.676Z"
   },
   {
    "duration": 11,
    "start_time": "2024-03-03T09:38:52.731Z"
   },
   {
    "duration": 336,
    "start_time": "2024-03-03T09:38:53.396Z"
   },
   {
    "duration": 535,
    "start_time": "2024-03-03T09:39:54.510Z"
   },
   {
    "duration": 15,
    "start_time": "2024-03-03T09:47:06.741Z"
   },
   {
    "duration": 18,
    "start_time": "2024-03-03T09:47:23.998Z"
   },
   {
    "duration": 552,
    "start_time": "2024-03-03T09:49:57.924Z"
   },
   {
    "duration": 31,
    "start_time": "2024-03-03T09:50:00.021Z"
   },
   {
    "duration": 131,
    "start_time": "2024-03-03T09:50:30.998Z"
   },
   {
    "duration": 31,
    "start_time": "2024-03-03T09:50:43.471Z"
   },
   {
    "duration": 561,
    "start_time": "2024-03-03T09:52:30.735Z"
   },
   {
    "duration": 576,
    "start_time": "2024-03-03T09:53:20.334Z"
   },
   {
    "duration": 11,
    "start_time": "2024-03-03T09:57:58.033Z"
   },
   {
    "duration": 26,
    "start_time": "2024-03-03T10:00:59.797Z"
   },
   {
    "duration": 309,
    "start_time": "2024-03-03T10:01:50.512Z"
   },
   {
    "duration": 27,
    "start_time": "2024-03-03T10:02:07.581Z"
   },
   {
    "duration": 301,
    "start_time": "2024-03-03T10:04:13.482Z"
   },
   {
    "duration": 17,
    "start_time": "2024-03-03T10:04:20.948Z"
   },
   {
    "duration": 467,
    "start_time": "2024-03-03T10:04:38.327Z"
   },
   {
    "duration": 22,
    "start_time": "2024-03-03T10:04:59.913Z"
   },
   {
    "duration": 212,
    "start_time": "2024-03-03T10:10:05.650Z"
   },
   {
    "duration": 21,
    "start_time": "2024-03-03T10:10:15.518Z"
   },
   {
    "duration": 24,
    "start_time": "2024-03-03T10:13:11.224Z"
   },
   {
    "duration": 27,
    "start_time": "2024-03-03T10:14:33.829Z"
   },
   {
    "duration": 25,
    "start_time": "2024-03-03T10:27:02.868Z"
   },
   {
    "duration": 5,
    "start_time": "2024-03-03T10:27:41.948Z"
   },
   {
    "duration": 15,
    "start_time": "2024-03-03T10:27:42.817Z"
   },
   {
    "duration": 1291,
    "start_time": "2024-03-03T10:27:52.656Z"
   },
   {
    "duration": 87,
    "start_time": "2024-03-03T10:27:53.949Z"
   },
   {
    "duration": 26,
    "start_time": "2024-03-03T10:27:54.038Z"
   },
   {
    "duration": 4,
    "start_time": "2024-03-03T10:27:54.066Z"
   },
   {
    "duration": 32,
    "start_time": "2024-03-03T10:27:54.072Z"
   },
   {
    "duration": 10,
    "start_time": "2024-03-03T10:27:54.106Z"
   },
   {
    "duration": 16,
    "start_time": "2024-03-03T10:27:54.117Z"
   },
   {
    "duration": 11,
    "start_time": "2024-03-03T10:27:54.135Z"
   },
   {
    "duration": 13,
    "start_time": "2024-03-03T10:27:54.147Z"
   },
   {
    "duration": 38,
    "start_time": "2024-03-03T10:27:54.163Z"
   },
   {
    "duration": 21,
    "start_time": "2024-03-03T10:27:54.203Z"
   },
   {
    "duration": 19,
    "start_time": "2024-03-03T10:27:54.226Z"
   },
   {
    "duration": 5,
    "start_time": "2024-03-03T10:27:54.247Z"
   },
   {
    "duration": 9,
    "start_time": "2024-03-03T10:27:54.253Z"
   },
   {
    "duration": 4,
    "start_time": "2024-03-03T10:27:54.291Z"
   },
   {
    "duration": 29,
    "start_time": "2024-03-03T10:27:54.297Z"
   },
   {
    "duration": 17,
    "start_time": "2024-03-03T10:27:54.328Z"
   },
   {
    "duration": 22,
    "start_time": "2024-03-03T10:27:54.347Z"
   },
   {
    "duration": 12,
    "start_time": "2024-03-03T10:27:54.371Z"
   },
   {
    "duration": 25,
    "start_time": "2024-03-03T10:27:54.385Z"
   },
   {
    "duration": 12,
    "start_time": "2024-03-03T10:27:54.413Z"
   },
   {
    "duration": 13,
    "start_time": "2024-03-03T10:27:54.435Z"
   },
   {
    "duration": 12,
    "start_time": "2024-03-03T10:27:54.451Z"
   },
   {
    "duration": 11,
    "start_time": "2024-03-03T10:27:54.465Z"
   },
   {
    "duration": 13,
    "start_time": "2024-03-03T10:27:54.478Z"
   },
   {
    "duration": 18,
    "start_time": "2024-03-03T10:27:54.493Z"
   },
   {
    "duration": 12,
    "start_time": "2024-03-03T10:27:54.513Z"
   },
   {
    "duration": 23,
    "start_time": "2024-03-03T10:27:54.530Z"
   },
   {
    "duration": 217,
    "start_time": "2024-03-03T10:27:54.555Z"
   },
   {
    "duration": 24,
    "start_time": "2024-03-03T10:27:54.774Z"
   },
   {
    "duration": 324,
    "start_time": "2024-03-03T10:27:54.800Z"
   },
   {
    "duration": 26,
    "start_time": "2024-03-03T10:27:55.125Z"
   },
   {
    "duration": 17,
    "start_time": "2024-03-03T10:27:55.153Z"
   },
   {
    "duration": 19,
    "start_time": "2024-03-03T10:27:55.171Z"
   },
   {
    "duration": 324,
    "start_time": "2024-03-03T10:27:55.192Z"
   },
   {
    "duration": 16,
    "start_time": "2024-03-03T10:27:55.518Z"
   },
   {
    "duration": 189,
    "start_time": "2024-03-03T10:27:55.536Z"
   },
   {
    "duration": 0,
    "start_time": "2024-03-03T10:27:55.727Z"
   },
   {
    "duration": 0,
    "start_time": "2024-03-03T10:27:55.729Z"
   },
   {
    "duration": 5,
    "start_time": "2024-03-03T10:28:09.519Z"
   },
   {
    "duration": 15,
    "start_time": "2024-03-03T10:28:13.233Z"
   },
   {
    "duration": 23,
    "start_time": "2024-03-03T10:29:56.310Z"
   },
   {
    "duration": 15,
    "start_time": "2024-03-03T10:30:07.488Z"
   },
   {
    "duration": 1256,
    "start_time": "2024-03-03T10:30:20.556Z"
   },
   {
    "duration": 72,
    "start_time": "2024-03-03T10:30:21.813Z"
   },
   {
    "duration": 19,
    "start_time": "2024-03-03T10:30:21.887Z"
   },
   {
    "duration": 35,
    "start_time": "2024-03-03T10:30:21.909Z"
   },
   {
    "duration": 64,
    "start_time": "2024-03-03T10:30:21.945Z"
   },
   {
    "duration": 21,
    "start_time": "2024-03-03T10:30:22.010Z"
   },
   {
    "duration": 57,
    "start_time": "2024-03-03T10:30:22.032Z"
   },
   {
    "duration": 31,
    "start_time": "2024-03-03T10:30:22.091Z"
   },
   {
    "duration": 47,
    "start_time": "2024-03-03T10:30:22.123Z"
   },
   {
    "duration": 52,
    "start_time": "2024-03-03T10:30:22.172Z"
   },
   {
    "duration": 45,
    "start_time": "2024-03-03T10:30:22.226Z"
   },
   {
    "duration": 63,
    "start_time": "2024-03-03T10:30:22.273Z"
   },
   {
    "duration": 24,
    "start_time": "2024-03-03T10:30:22.338Z"
   },
   {
    "duration": 56,
    "start_time": "2024-03-03T10:30:22.364Z"
   },
   {
    "duration": 29,
    "start_time": "2024-03-03T10:30:22.421Z"
   },
   {
    "duration": 39,
    "start_time": "2024-03-03T10:30:22.452Z"
   },
   {
    "duration": 68,
    "start_time": "2024-03-03T10:30:22.493Z"
   },
   {
    "duration": 31,
    "start_time": "2024-03-03T10:30:22.563Z"
   },
   {
    "duration": 61,
    "start_time": "2024-03-03T10:30:22.596Z"
   },
   {
    "duration": 77,
    "start_time": "2024-03-03T10:30:22.659Z"
   },
   {
    "duration": 33,
    "start_time": "2024-03-03T10:30:22.738Z"
   },
   {
    "duration": 39,
    "start_time": "2024-03-03T10:30:22.772Z"
   },
   {
    "duration": 46,
    "start_time": "2024-03-03T10:30:22.813Z"
   },
   {
    "duration": 15,
    "start_time": "2024-03-03T10:30:22.861Z"
   },
   {
    "duration": 26,
    "start_time": "2024-03-03T10:30:22.878Z"
   },
   {
    "duration": 42,
    "start_time": "2024-03-03T10:30:22.905Z"
   },
   {
    "duration": 55,
    "start_time": "2024-03-03T10:30:22.949Z"
   },
   {
    "duration": 60,
    "start_time": "2024-03-03T10:30:23.007Z"
   },
   {
    "duration": 224,
    "start_time": "2024-03-03T10:30:23.068Z"
   },
   {
    "duration": 16,
    "start_time": "2024-03-03T10:30:23.293Z"
   },
   {
    "duration": 414,
    "start_time": "2024-03-03T10:30:23.310Z"
   },
   {
    "duration": 24,
    "start_time": "2024-03-03T10:30:23.725Z"
   },
   {
    "duration": 4,
    "start_time": "2024-03-03T10:30:23.750Z"
   },
   {
    "duration": 15,
    "start_time": "2024-03-03T10:30:23.756Z"
   },
   {
    "duration": 327,
    "start_time": "2024-03-03T10:30:23.772Z"
   },
   {
    "duration": 16,
    "start_time": "2024-03-03T10:30:24.100Z"
   },
   {
    "duration": 145,
    "start_time": "2024-03-03T10:30:24.118Z"
   },
   {
    "duration": 0,
    "start_time": "2024-03-03T10:30:24.264Z"
   },
   {
    "duration": 0,
    "start_time": "2024-03-03T10:30:24.266Z"
   },
   {
    "duration": 20,
    "start_time": "2024-03-03T10:30:49.817Z"
   },
   {
    "duration": 18,
    "start_time": "2024-03-03T10:31:11.875Z"
   },
   {
    "duration": 16,
    "start_time": "2024-03-03T10:31:42.903Z"
   },
   {
    "duration": 1189,
    "start_time": "2024-03-03T10:32:12.212Z"
   },
   {
    "duration": 68,
    "start_time": "2024-03-03T10:32:13.403Z"
   },
   {
    "duration": 23,
    "start_time": "2024-03-03T10:32:13.473Z"
   },
   {
    "duration": 4,
    "start_time": "2024-03-03T10:32:13.499Z"
   },
   {
    "duration": 25,
    "start_time": "2024-03-03T10:32:13.504Z"
   },
   {
    "duration": 10,
    "start_time": "2024-03-03T10:32:13.530Z"
   },
   {
    "duration": 15,
    "start_time": "2024-03-03T10:32:13.541Z"
   },
   {
    "duration": 10,
    "start_time": "2024-03-03T10:32:13.557Z"
   },
   {
    "duration": 24,
    "start_time": "2024-03-03T10:32:13.569Z"
   },
   {
    "duration": 10,
    "start_time": "2024-03-03T10:32:13.596Z"
   },
   {
    "duration": 23,
    "start_time": "2024-03-03T10:32:13.608Z"
   },
   {
    "duration": 18,
    "start_time": "2024-03-03T10:32:13.632Z"
   },
   {
    "duration": 9,
    "start_time": "2024-03-03T10:32:13.652Z"
   },
   {
    "duration": 31,
    "start_time": "2024-03-03T10:32:13.663Z"
   },
   {
    "duration": 32,
    "start_time": "2024-03-03T10:32:13.695Z"
   },
   {
    "duration": 13,
    "start_time": "2024-03-03T10:32:13.729Z"
   },
   {
    "duration": 10,
    "start_time": "2024-03-03T10:32:13.744Z"
   },
   {
    "duration": 7,
    "start_time": "2024-03-03T10:32:13.755Z"
   },
   {
    "duration": 10,
    "start_time": "2024-03-03T10:32:13.764Z"
   },
   {
    "duration": 12,
    "start_time": "2024-03-03T10:32:13.775Z"
   },
   {
    "duration": 6,
    "start_time": "2024-03-03T10:32:13.789Z"
   },
   {
    "duration": 8,
    "start_time": "2024-03-03T10:32:13.797Z"
   },
   {
    "duration": 8,
    "start_time": "2024-03-03T10:32:13.807Z"
   },
   {
    "duration": 29,
    "start_time": "2024-03-03T10:32:13.817Z"
   },
   {
    "duration": 11,
    "start_time": "2024-03-03T10:32:13.848Z"
   },
   {
    "duration": 18,
    "start_time": "2024-03-03T10:32:13.861Z"
   },
   {
    "duration": 11,
    "start_time": "2024-03-03T10:32:13.881Z"
   },
   {
    "duration": 19,
    "start_time": "2024-03-03T10:32:13.897Z"
   },
   {
    "duration": 239,
    "start_time": "2024-03-03T10:32:13.918Z"
   },
   {
    "duration": 16,
    "start_time": "2024-03-03T10:32:14.159Z"
   },
   {
    "duration": 375,
    "start_time": "2024-03-03T10:32:14.177Z"
   },
   {
    "duration": 26,
    "start_time": "2024-03-03T10:32:14.553Z"
   },
   {
    "duration": 5,
    "start_time": "2024-03-03T10:32:14.580Z"
   },
   {
    "duration": 14,
    "start_time": "2024-03-03T10:32:14.586Z"
   },
   {
    "duration": 348,
    "start_time": "2024-03-03T10:32:14.602Z"
   },
   {
    "duration": 20,
    "start_time": "2024-03-03T10:32:14.952Z"
   },
   {
    "duration": 132,
    "start_time": "2024-03-03T10:32:14.974Z"
   },
   {
    "duration": 0,
    "start_time": "2024-03-03T10:32:15.108Z"
   },
   {
    "duration": 0,
    "start_time": "2024-03-03T10:32:15.109Z"
   },
   {
    "duration": 373,
    "start_time": "2024-03-03T10:32:36.780Z"
   },
   {
    "duration": 442,
    "start_time": "2024-03-03T10:32:53.849Z"
   },
   {
    "duration": 18,
    "start_time": "2024-03-03T10:33:24.801Z"
   },
   {
    "duration": 15,
    "start_time": "2024-03-03T10:33:56.706Z"
   },
   {
    "duration": 561,
    "start_time": "2024-03-03T10:34:26.020Z"
   },
   {
    "duration": 390,
    "start_time": "2024-03-03T10:34:43.672Z"
   },
   {
    "duration": 426,
    "start_time": "2024-03-03T10:35:00.885Z"
   },
   {
    "duration": 384,
    "start_time": "2024-03-03T10:35:24.166Z"
   },
   {
    "duration": 370,
    "start_time": "2024-03-03T10:35:32.993Z"
   },
   {
    "duration": 321,
    "start_time": "2024-03-03T10:35:40.079Z"
   },
   {
    "duration": 409,
    "start_time": "2024-03-03T10:35:52.465Z"
   },
   {
    "duration": 21,
    "start_time": "2024-03-03T10:36:24.066Z"
   },
   {
    "duration": 28,
    "start_time": "2024-03-03T10:42:02.056Z"
   },
   {
    "duration": 2062,
    "start_time": "2024-03-03T10:43:37.744Z"
   },
   {
    "duration": 1517,
    "start_time": "2024-03-03T10:43:53.872Z"
   },
   {
    "duration": 29,
    "start_time": "2024-03-03T10:44:46.854Z"
   },
   {
    "duration": 211,
    "start_time": "2024-03-03T10:45:01.011Z"
   },
   {
    "duration": 295,
    "start_time": "2024-03-03T10:45:15.705Z"
   },
   {
    "duration": 233,
    "start_time": "2024-03-03T10:45:27.122Z"
   },
   {
    "duration": 256,
    "start_time": "2024-03-03T10:45:37.884Z"
   },
   {
    "duration": 265,
    "start_time": "2024-03-03T10:45:43.780Z"
   },
   {
    "duration": 242,
    "start_time": "2024-03-03T10:46:20.414Z"
   },
   {
    "duration": 470,
    "start_time": "2024-03-03T10:46:36.296Z"
   },
   {
    "duration": 25,
    "start_time": "2024-03-03T10:46:48.474Z"
   },
   {
    "duration": 242,
    "start_time": "2024-03-03T10:46:49.192Z"
   },
   {
    "duration": 290,
    "start_time": "2024-03-03T10:47:12.027Z"
   },
   {
    "duration": 30,
    "start_time": "2024-03-03T10:49:24.628Z"
   },
   {
    "duration": 159,
    "start_time": "2024-03-03T10:50:28.765Z"
   },
   {
    "duration": 285,
    "start_time": "2024-03-03T10:51:14.802Z"
   },
   {
    "duration": 181,
    "start_time": "2024-03-03T10:51:33.850Z"
   },
   {
    "duration": 170,
    "start_time": "2024-03-03T10:51:40.958Z"
   },
   {
    "duration": 197,
    "start_time": "2024-03-03T10:51:45.922Z"
   },
   {
    "duration": 191,
    "start_time": "2024-03-03T10:51:52.249Z"
   },
   {
    "duration": 183,
    "start_time": "2024-03-03T10:52:10.314Z"
   },
   {
    "duration": 14,
    "start_time": "2024-03-03T12:23:59.037Z"
   },
   {
    "duration": 156,
    "start_time": "2024-03-03T12:24:06.866Z"
   },
   {
    "duration": 146,
    "start_time": "2024-03-03T12:24:37.302Z"
   },
   {
    "duration": 155,
    "start_time": "2024-03-03T12:24:42.451Z"
   },
   {
    "duration": 159,
    "start_time": "2024-03-03T12:24:54.037Z"
   },
   {
    "duration": 141,
    "start_time": "2024-03-03T12:25:01.346Z"
   },
   {
    "duration": 165,
    "start_time": "2024-03-03T12:25:36.981Z"
   },
   {
    "duration": 154,
    "start_time": "2024-03-03T12:26:16.800Z"
   },
   {
    "duration": 141,
    "start_time": "2024-03-03T12:26:42.379Z"
   },
   {
    "duration": 139,
    "start_time": "2024-03-03T12:27:34.409Z"
   },
   {
    "duration": 146,
    "start_time": "2024-03-03T12:29:34.116Z"
   },
   {
    "duration": 132,
    "start_time": "2024-03-03T12:30:24.724Z"
   },
   {
    "duration": 144,
    "start_time": "2024-03-03T12:30:41.352Z"
   },
   {
    "duration": 134,
    "start_time": "2024-03-03T12:30:51.747Z"
   },
   {
    "duration": 143,
    "start_time": "2024-03-03T12:32:31.003Z"
   },
   {
    "duration": 136,
    "start_time": "2024-03-03T12:33:10.228Z"
   },
   {
    "duration": 139,
    "start_time": "2024-03-03T12:35:47.868Z"
   },
   {
    "duration": 143,
    "start_time": "2024-03-03T12:36:37.231Z"
   },
   {
    "duration": 445,
    "start_time": "2024-03-03T12:38:35.116Z"
   },
   {
    "duration": 101,
    "start_time": "2024-03-03T12:42:07.191Z"
   },
   {
    "duration": 5,
    "start_time": "2024-03-03T12:42:33.253Z"
   },
   {
    "duration": 5,
    "start_time": "2024-03-03T12:42:35.698Z"
   },
   {
    "duration": 259,
    "start_time": "2024-03-03T12:43:04.172Z"
   },
   {
    "duration": 5,
    "start_time": "2024-03-03T12:43:58.953Z"
   },
   {
    "duration": 303,
    "start_time": "2024-03-03T12:44:30.658Z"
   },
   {
    "duration": 293,
    "start_time": "2024-03-03T12:45:00.137Z"
   },
   {
    "duration": 13,
    "start_time": "2024-03-03T12:51:00.737Z"
   },
   {
    "duration": 27,
    "start_time": "2024-03-03T12:51:21.783Z"
   },
   {
    "duration": 14,
    "start_time": "2024-03-03T12:52:28.719Z"
   },
   {
    "duration": 18,
    "start_time": "2024-03-03T12:53:23.273Z"
   },
   {
    "duration": 15,
    "start_time": "2024-03-03T12:54:25.924Z"
   },
   {
    "duration": 15,
    "start_time": "2024-03-03T12:54:43.578Z"
   },
   {
    "duration": 1283,
    "start_time": "2024-03-03T12:54:53.797Z"
   },
   {
    "duration": 72,
    "start_time": "2024-03-03T12:54:55.083Z"
   },
   {
    "duration": 21,
    "start_time": "2024-03-03T12:54:55.157Z"
   },
   {
    "duration": 31,
    "start_time": "2024-03-03T12:54:55.181Z"
   },
   {
    "duration": 56,
    "start_time": "2024-03-03T12:54:55.214Z"
   },
   {
    "duration": 49,
    "start_time": "2024-03-03T12:54:55.272Z"
   },
   {
    "duration": 30,
    "start_time": "2024-03-03T12:54:55.322Z"
   },
   {
    "duration": 16,
    "start_time": "2024-03-03T12:54:55.353Z"
   },
   {
    "duration": 29,
    "start_time": "2024-03-03T12:54:55.371Z"
   },
   {
    "duration": 30,
    "start_time": "2024-03-03T12:54:55.402Z"
   },
   {
    "duration": 30,
    "start_time": "2024-03-03T12:54:55.433Z"
   },
   {
    "duration": 52,
    "start_time": "2024-03-03T12:54:55.465Z"
   },
   {
    "duration": 6,
    "start_time": "2024-03-03T12:54:55.519Z"
   },
   {
    "duration": 7,
    "start_time": "2024-03-03T12:54:55.526Z"
   },
   {
    "duration": 21,
    "start_time": "2024-03-03T12:54:55.535Z"
   },
   {
    "duration": 17,
    "start_time": "2024-03-03T12:54:55.557Z"
   },
   {
    "duration": 14,
    "start_time": "2024-03-03T12:54:55.576Z"
   },
   {
    "duration": 9,
    "start_time": "2024-03-03T12:54:55.591Z"
   },
   {
    "duration": 7,
    "start_time": "2024-03-03T12:54:55.602Z"
   },
   {
    "duration": 11,
    "start_time": "2024-03-03T12:54:55.611Z"
   },
   {
    "duration": 14,
    "start_time": "2024-03-03T12:54:55.624Z"
   },
   {
    "duration": 18,
    "start_time": "2024-03-03T12:54:55.640Z"
   },
   {
    "duration": 36,
    "start_time": "2024-03-03T12:54:55.660Z"
   },
   {
    "duration": 12,
    "start_time": "2024-03-03T12:54:55.697Z"
   },
   {
    "duration": 27,
    "start_time": "2024-03-03T12:54:55.710Z"
   },
   {
    "duration": 43,
    "start_time": "2024-03-03T12:54:55.739Z"
   },
   {
    "duration": 11,
    "start_time": "2024-03-03T12:54:55.784Z"
   },
   {
    "duration": 35,
    "start_time": "2024-03-03T12:54:55.798Z"
   },
   {
    "duration": 194,
    "start_time": "2024-03-03T12:54:55.835Z"
   },
   {
    "duration": 18,
    "start_time": "2024-03-03T12:54:56.031Z"
   },
   {
    "duration": 333,
    "start_time": "2024-03-03T12:54:56.051Z"
   },
   {
    "duration": 27,
    "start_time": "2024-03-03T12:54:56.385Z"
   },
   {
    "duration": 4,
    "start_time": "2024-03-03T12:54:56.413Z"
   },
   {
    "duration": 34,
    "start_time": "2024-03-03T12:54:56.419Z"
   },
   {
    "duration": 328,
    "start_time": "2024-03-03T12:54:56.454Z"
   },
   {
    "duration": 16,
    "start_time": "2024-03-03T12:54:56.791Z"
   },
   {
    "duration": 314,
    "start_time": "2024-03-03T12:54:56.809Z"
   },
   {
    "duration": 151,
    "start_time": "2024-03-03T12:54:57.124Z"
   },
   {
    "duration": 148,
    "start_time": "2024-03-03T12:54:57.277Z"
   },
   {
    "duration": 6,
    "start_time": "2024-03-03T12:54:57.427Z"
   },
   {
    "duration": 301,
    "start_time": "2024-03-03T12:54:57.435Z"
   },
   {
    "duration": 347,
    "start_time": "2024-03-03T12:54:57.738Z"
   },
   {
    "duration": 366,
    "start_time": "2024-03-03T12:54:58.091Z"
   },
   {
    "duration": 42,
    "start_time": "2024-03-03T12:54:58.459Z"
   },
   {
    "duration": 192,
    "start_time": "2024-03-03T12:54:58.503Z"
   },
   {
    "duration": 17,
    "start_time": "2024-03-03T12:54:58.696Z"
   },
   {
    "duration": 23,
    "start_time": "2024-03-03T12:56:49.083Z"
   },
   {
    "duration": 15,
    "start_time": "2024-03-03T12:58:03.316Z"
   },
   {
    "duration": 37,
    "start_time": "2024-03-03T13:00:10.568Z"
   },
   {
    "duration": 214,
    "start_time": "2024-03-03T13:03:02.249Z"
   },
   {
    "duration": 1762,
    "start_time": "2024-03-03T13:03:39.189Z"
   },
   {
    "duration": 1595,
    "start_time": "2024-03-03T13:03:43.191Z"
   },
   {
    "duration": 181,
    "start_time": "2024-03-03T13:04:24.459Z"
   },
   {
    "duration": 187,
    "start_time": "2024-03-03T13:04:42.367Z"
   },
   {
    "duration": 188,
    "start_time": "2024-03-03T13:05:18.619Z"
   },
   {
    "duration": 178,
    "start_time": "2024-03-03T13:06:05.031Z"
   },
   {
    "duration": 211,
    "start_time": "2024-03-03T13:07:41.485Z"
   },
   {
    "duration": 166,
    "start_time": "2024-03-03T13:08:04.209Z"
   },
   {
    "duration": 161,
    "start_time": "2024-03-03T13:08:22.464Z"
   },
   {
    "duration": 179,
    "start_time": "2024-03-03T13:08:33.513Z"
   },
   {
    "duration": 1613,
    "start_time": "2024-03-03T13:14:05.432Z"
   },
   {
    "duration": 2431,
    "start_time": "2024-03-03T13:14:27.193Z"
   },
   {
    "duration": 278,
    "start_time": "2024-03-03T13:14:47.855Z"
   },
   {
    "duration": 148,
    "start_time": "2024-03-03T13:14:58.618Z"
   },
   {
    "duration": 158,
    "start_time": "2024-03-03T13:15:09.191Z"
   },
   {
    "duration": 127,
    "start_time": "2024-03-03T13:18:46.977Z"
   },
   {
    "duration": 4,
    "start_time": "2024-03-03T13:19:08.755Z"
   },
   {
    "duration": 4,
    "start_time": "2024-03-03T13:19:13.154Z"
   },
   {
    "duration": 127,
    "start_time": "2024-03-03T13:19:43.429Z"
   },
   {
    "duration": 115,
    "start_time": "2024-03-03T13:25:03.239Z"
   },
   {
    "duration": 5,
    "start_time": "2024-03-03T13:25:22.258Z"
   },
   {
    "duration": 2415,
    "start_time": "2024-03-03T13:25:22.988Z"
   },
   {
    "duration": 4,
    "start_time": "2024-03-03T13:25:39.246Z"
   },
   {
    "duration": 115,
    "start_time": "2024-03-03T13:25:39.914Z"
   },
   {
    "duration": 127,
    "start_time": "2024-03-03T13:25:42.497Z"
   },
   {
    "duration": 104,
    "start_time": "2024-03-03T13:26:07.670Z"
   },
   {
    "duration": 109,
    "start_time": "2024-03-03T13:26:23.641Z"
   },
   {
    "duration": 128,
    "start_time": "2024-03-03T13:27:42.741Z"
   },
   {
    "duration": 114,
    "start_time": "2024-03-03T13:28:00.172Z"
   },
   {
    "duration": 111,
    "start_time": "2024-03-03T13:28:16.646Z"
   },
   {
    "duration": 5,
    "start_time": "2024-03-03T13:38:37.768Z"
   },
   {
    "duration": 6,
    "start_time": "2024-03-03T13:39:40.549Z"
   },
   {
    "duration": 257,
    "start_time": "2024-03-03T13:39:44.669Z"
   },
   {
    "duration": 310,
    "start_time": "2024-03-03T13:39:51.530Z"
   },
   {
    "duration": 301,
    "start_time": "2024-03-03T13:39:52.320Z"
   },
   {
    "duration": 134,
    "start_time": "2024-03-03T13:41:02.552Z"
   },
   {
    "duration": 132,
    "start_time": "2024-03-03T13:41:05.632Z"
   },
   {
    "duration": 5,
    "start_time": "2024-03-03T13:41:06.886Z"
   },
   {
    "duration": 422,
    "start_time": "2024-03-03T13:41:23.459Z"
   },
   {
    "duration": 110,
    "start_time": "2024-03-03T13:45:01.759Z"
   },
   {
    "duration": 104,
    "start_time": "2024-03-03T13:45:11.869Z"
   },
   {
    "duration": 115,
    "start_time": "2024-03-03T13:53:48.961Z"
   },
   {
    "duration": 109,
    "start_time": "2024-03-03T13:54:25.232Z"
   },
   {
    "duration": 10,
    "start_time": "2024-03-03T13:57:24.806Z"
   },
   {
    "duration": 23,
    "start_time": "2024-03-03T13:57:35.296Z"
   },
   {
    "duration": 21,
    "start_time": "2024-03-03T13:58:14.528Z"
   },
   {
    "duration": 11,
    "start_time": "2024-03-03T14:19:23.331Z"
   },
   {
    "duration": 26,
    "start_time": "2024-03-03T14:19:58.168Z"
   },
   {
    "duration": 13,
    "start_time": "2024-03-03T14:21:36.238Z"
   },
   {
    "duration": 11,
    "start_time": "2024-03-03T14:21:44.663Z"
   },
   {
    "duration": 26,
    "start_time": "2024-03-03T14:22:19.763Z"
   },
   {
    "duration": 12,
    "start_time": "2024-03-03T14:22:57.943Z"
   },
   {
    "duration": 52,
    "start_time": "2024-03-03T14:23:54.070Z"
   },
   {
    "duration": 1310,
    "start_time": "2024-03-03T14:24:04.083Z"
   },
   {
    "duration": 72,
    "start_time": "2024-03-03T14:24:05.395Z"
   },
   {
    "duration": 21,
    "start_time": "2024-03-03T14:24:05.469Z"
   },
   {
    "duration": 4,
    "start_time": "2024-03-03T14:24:05.491Z"
   },
   {
    "duration": 28,
    "start_time": "2024-03-03T14:24:05.496Z"
   },
   {
    "duration": 11,
    "start_time": "2024-03-03T14:24:05.526Z"
   },
   {
    "duration": 19,
    "start_time": "2024-03-03T14:24:05.540Z"
   },
   {
    "duration": 13,
    "start_time": "2024-03-03T14:24:05.561Z"
   },
   {
    "duration": 8,
    "start_time": "2024-03-03T14:24:05.576Z"
   },
   {
    "duration": 10,
    "start_time": "2024-03-03T14:24:05.593Z"
   },
   {
    "duration": 29,
    "start_time": "2024-03-03T14:24:05.605Z"
   },
   {
    "duration": 30,
    "start_time": "2024-03-03T14:24:05.636Z"
   },
   {
    "duration": 42,
    "start_time": "2024-03-03T14:24:05.668Z"
   },
   {
    "duration": 29,
    "start_time": "2024-03-03T14:24:05.712Z"
   },
   {
    "duration": 23,
    "start_time": "2024-03-03T14:24:05.742Z"
   },
   {
    "duration": 18,
    "start_time": "2024-03-03T14:24:05.766Z"
   },
   {
    "duration": 7,
    "start_time": "2024-03-03T14:24:05.785Z"
   },
   {
    "duration": 8,
    "start_time": "2024-03-03T14:24:05.794Z"
   },
   {
    "duration": 23,
    "start_time": "2024-03-03T14:24:05.804Z"
   },
   {
    "duration": 7,
    "start_time": "2024-03-03T14:24:05.829Z"
   },
   {
    "duration": 6,
    "start_time": "2024-03-03T14:24:05.837Z"
   },
   {
    "duration": 12,
    "start_time": "2024-03-03T14:24:05.845Z"
   },
   {
    "duration": 9,
    "start_time": "2024-03-03T14:24:05.859Z"
   },
   {
    "duration": 23,
    "start_time": "2024-03-03T14:24:05.870Z"
   },
   {
    "duration": 16,
    "start_time": "2024-03-03T14:24:05.895Z"
   },
   {
    "duration": 18,
    "start_time": "2024-03-03T14:24:05.912Z"
   },
   {
    "duration": 10,
    "start_time": "2024-03-03T14:24:05.931Z"
   },
   {
    "duration": 15,
    "start_time": "2024-03-03T14:24:05.945Z"
   },
   {
    "duration": 210,
    "start_time": "2024-03-03T14:24:05.962Z"
   },
   {
    "duration": 20,
    "start_time": "2024-03-03T14:24:06.174Z"
   },
   {
    "duration": 329,
    "start_time": "2024-03-03T14:24:06.195Z"
   },
   {
    "duration": 27,
    "start_time": "2024-03-03T14:24:06.526Z"
   },
   {
    "duration": 6,
    "start_time": "2024-03-03T14:24:06.555Z"
   },
   {
    "duration": 16,
    "start_time": "2024-03-03T14:24:06.563Z"
   },
   {
    "duration": 320,
    "start_time": "2024-03-03T14:24:06.581Z"
   },
   {
    "duration": 16,
    "start_time": "2024-03-03T14:24:06.903Z"
   },
   {
    "duration": 315,
    "start_time": "2024-03-03T14:24:06.921Z"
   },
   {
    "duration": 148,
    "start_time": "2024-03-03T14:24:07.238Z"
   },
   {
    "duration": 143,
    "start_time": "2024-03-03T14:24:07.388Z"
   },
   {
    "duration": 6,
    "start_time": "2024-03-03T14:24:07.532Z"
   },
   {
    "duration": 299,
    "start_time": "2024-03-03T14:24:07.540Z"
   },
   {
    "duration": 310,
    "start_time": "2024-03-03T14:24:07.842Z"
   },
   {
    "duration": 374,
    "start_time": "2024-03-03T14:24:08.153Z"
   },
   {
    "duration": 28,
    "start_time": "2024-03-03T14:24:08.528Z"
   },
   {
    "duration": 202,
    "start_time": "2024-03-03T14:24:08.558Z"
   },
   {
    "duration": 4,
    "start_time": "2024-03-03T14:24:08.761Z"
   },
   {
    "duration": 159,
    "start_time": "2024-03-03T14:24:08.767Z"
   },
   {
    "duration": 113,
    "start_time": "2024-03-03T14:24:08.928Z"
   },
   {
    "duration": 131,
    "start_time": "2024-03-03T14:24:09.043Z"
   },
   {
    "duration": 126,
    "start_time": "2024-03-03T14:24:09.176Z"
   },
   {
    "duration": 124,
    "start_time": "2024-03-03T14:24:09.303Z"
   },
   {
    "duration": 127,
    "start_time": "2024-03-03T14:24:09.429Z"
   },
   {
    "duration": 117,
    "start_time": "2024-03-03T14:24:09.558Z"
   },
   {
    "duration": 138,
    "start_time": "2024-03-03T14:24:09.676Z"
   },
   {
    "duration": 126,
    "start_time": "2024-03-03T14:24:09.816Z"
   },
   {
    "duration": 21,
    "start_time": "2024-03-03T14:24:09.943Z"
   },
   {
    "duration": 29,
    "start_time": "2024-03-03T14:24:09.965Z"
   },
   {
    "duration": 17,
    "start_time": "2024-03-03T14:26:44.035Z"
   },
   {
    "duration": 13,
    "start_time": "2024-03-03T14:32:32.410Z"
   },
   {
    "duration": 15,
    "start_time": "2024-03-03T14:37:18.626Z"
   },
   {
    "duration": 4,
    "start_time": "2024-03-03T14:51:42.693Z"
   },
   {
    "duration": 1275,
    "start_time": "2024-03-03T14:51:50.603Z"
   },
   {
    "duration": 70,
    "start_time": "2024-03-03T14:51:51.881Z"
   },
   {
    "duration": 23,
    "start_time": "2024-03-03T14:51:51.953Z"
   },
   {
    "duration": 9,
    "start_time": "2024-03-03T14:51:51.978Z"
   },
   {
    "duration": 24,
    "start_time": "2024-03-03T14:51:51.989Z"
   },
   {
    "duration": 11,
    "start_time": "2024-03-03T14:51:52.015Z"
   },
   {
    "duration": 21,
    "start_time": "2024-03-03T14:51:52.028Z"
   },
   {
    "duration": 16,
    "start_time": "2024-03-03T14:51:52.051Z"
   },
   {
    "duration": 28,
    "start_time": "2024-03-03T14:51:52.069Z"
   },
   {
    "duration": 16,
    "start_time": "2024-03-03T14:51:52.101Z"
   },
   {
    "duration": 25,
    "start_time": "2024-03-03T14:51:52.118Z"
   },
   {
    "duration": 22,
    "start_time": "2024-03-03T14:51:52.145Z"
   },
   {
    "duration": 23,
    "start_time": "2024-03-03T14:51:52.169Z"
   },
   {
    "duration": 5,
    "start_time": "2024-03-03T14:51:52.194Z"
   },
   {
    "duration": 25,
    "start_time": "2024-03-03T14:51:52.201Z"
   },
   {
    "duration": 9,
    "start_time": "2024-03-03T14:51:52.228Z"
   },
   {
    "duration": 7,
    "start_time": "2024-03-03T14:51:52.239Z"
   },
   {
    "duration": 5,
    "start_time": "2024-03-03T14:51:52.248Z"
   },
   {
    "duration": 6,
    "start_time": "2024-03-03T14:51:52.255Z"
   },
   {
    "duration": 8,
    "start_time": "2024-03-03T14:51:52.263Z"
   },
   {
    "duration": 11,
    "start_time": "2024-03-03T14:51:52.291Z"
   },
   {
    "duration": 7,
    "start_time": "2024-03-03T14:51:52.304Z"
   },
   {
    "duration": 6,
    "start_time": "2024-03-03T14:51:52.313Z"
   },
   {
    "duration": 4,
    "start_time": "2024-03-03T14:51:52.321Z"
   },
   {
    "duration": 6,
    "start_time": "2024-03-03T14:51:52.327Z"
   },
   {
    "duration": 16,
    "start_time": "2024-03-03T14:51:52.334Z"
   },
   {
    "duration": 43,
    "start_time": "2024-03-03T14:51:52.351Z"
   },
   {
    "duration": 17,
    "start_time": "2024-03-03T14:51:52.398Z"
   },
   {
    "duration": 206,
    "start_time": "2024-03-03T14:51:52.416Z"
   },
   {
    "duration": 16,
    "start_time": "2024-03-03T14:51:52.623Z"
   },
   {
    "duration": 328,
    "start_time": "2024-03-03T14:51:52.640Z"
   },
   {
    "duration": 26,
    "start_time": "2024-03-03T14:51:52.970Z"
   },
   {
    "duration": 4,
    "start_time": "2024-03-03T14:51:52.998Z"
   },
   {
    "duration": 16,
    "start_time": "2024-03-03T14:51:53.004Z"
   },
   {
    "duration": 325,
    "start_time": "2024-03-03T14:51:53.022Z"
   },
   {
    "duration": 16,
    "start_time": "2024-03-03T14:51:53.349Z"
   },
   {
    "duration": 331,
    "start_time": "2024-03-03T14:51:53.367Z"
   },
   {
    "duration": 139,
    "start_time": "2024-03-03T14:51:53.700Z"
   },
   {
    "duration": 147,
    "start_time": "2024-03-03T14:51:53.841Z"
   },
   {
    "duration": 6,
    "start_time": "2024-03-03T14:51:53.991Z"
   },
   {
    "duration": 286,
    "start_time": "2024-03-03T14:51:53.998Z"
   },
   {
    "duration": 304,
    "start_time": "2024-03-03T14:51:54.291Z"
   },
   {
    "duration": 387,
    "start_time": "2024-03-03T14:51:54.597Z"
   },
   {
    "duration": 124,
    "start_time": "2024-03-03T14:51:54.991Z"
   },
   {
    "duration": 0,
    "start_time": "2024-03-03T14:51:55.117Z"
   },
   {
    "duration": 0,
    "start_time": "2024-03-03T14:51:55.118Z"
   },
   {
    "duration": 0,
    "start_time": "2024-03-03T14:51:55.119Z"
   },
   {
    "duration": 0,
    "start_time": "2024-03-03T14:51:55.120Z"
   },
   {
    "duration": 0,
    "start_time": "2024-03-03T14:51:55.121Z"
   },
   {
    "duration": 0,
    "start_time": "2024-03-03T14:51:55.122Z"
   },
   {
    "duration": 0,
    "start_time": "2024-03-03T14:51:55.123Z"
   },
   {
    "duration": 0,
    "start_time": "2024-03-03T14:51:55.124Z"
   },
   {
    "duration": 0,
    "start_time": "2024-03-03T14:51:55.125Z"
   },
   {
    "duration": 0,
    "start_time": "2024-03-03T14:51:55.127Z"
   },
   {
    "duration": 0,
    "start_time": "2024-03-03T14:51:55.128Z"
   },
   {
    "duration": 0,
    "start_time": "2024-03-03T14:51:55.129Z"
   },
   {
    "duration": 0,
    "start_time": "2024-03-03T14:51:55.130Z"
   },
   {
    "duration": 0,
    "start_time": "2024-03-03T14:51:55.131Z"
   },
   {
    "duration": 0,
    "start_time": "2024-03-03T14:51:55.132Z"
   },
   {
    "duration": 1307,
    "start_time": "2024-03-03T14:52:28.718Z"
   },
   {
    "duration": 72,
    "start_time": "2024-03-03T14:52:30.027Z"
   },
   {
    "duration": 113,
    "start_time": "2024-03-03T14:52:30.101Z"
   },
   {
    "duration": 377,
    "start_time": "2024-03-03T14:52:30.216Z"
   },
   {
    "duration": 141,
    "start_time": "2024-03-03T14:52:30.595Z"
   },
   {
    "duration": 61,
    "start_time": "2024-03-03T14:52:30.738Z"
   },
   {
    "duration": 87,
    "start_time": "2024-03-03T14:52:30.801Z"
   },
   {
    "duration": 102,
    "start_time": "2024-03-03T14:52:30.890Z"
   },
   {
    "duration": 68,
    "start_time": "2024-03-03T14:52:30.994Z"
   },
   {
    "duration": 185,
    "start_time": "2024-03-03T14:52:31.066Z"
   },
   {
    "duration": 82,
    "start_time": "2024-03-03T14:52:31.253Z"
   },
   {
    "duration": 163,
    "start_time": "2024-03-03T14:52:31.337Z"
   },
   {
    "duration": 143,
    "start_time": "2024-03-03T14:52:31.502Z"
   },
   {
    "duration": 50,
    "start_time": "2024-03-03T14:52:31.647Z"
   },
   {
    "duration": 64,
    "start_time": "2024-03-03T14:52:31.699Z"
   },
   {
    "duration": 160,
    "start_time": "2024-03-03T14:52:31.764Z"
   },
   {
    "duration": 39,
    "start_time": "2024-03-03T14:52:31.926Z"
   },
   {
    "duration": 38,
    "start_time": "2024-03-03T14:52:31.967Z"
   },
   {
    "duration": 63,
    "start_time": "2024-03-03T14:52:32.007Z"
   },
   {
    "duration": 218,
    "start_time": "2024-03-03T14:52:32.072Z"
   },
   {
    "duration": 81,
    "start_time": "2024-03-03T14:52:32.292Z"
   },
   {
    "duration": 43,
    "start_time": "2024-03-03T14:52:32.375Z"
   },
   {
    "duration": 21,
    "start_time": "2024-03-03T14:52:32.420Z"
   },
   {
    "duration": 70,
    "start_time": "2024-03-03T14:52:32.442Z"
   },
   {
    "duration": 284,
    "start_time": "2024-03-03T14:52:32.514Z"
   },
   {
    "duration": 174,
    "start_time": "2024-03-03T14:52:32.800Z"
   },
   {
    "duration": 197,
    "start_time": "2024-03-03T14:52:32.976Z"
   },
   {
    "duration": 72,
    "start_time": "2024-03-03T14:52:33.177Z"
   },
   {
    "duration": 210,
    "start_time": "2024-03-03T14:52:33.250Z"
   },
   {
    "duration": 15,
    "start_time": "2024-03-03T14:52:33.462Z"
   },
   {
    "duration": 337,
    "start_time": "2024-03-03T14:52:33.479Z"
   },
   {
    "duration": 28,
    "start_time": "2024-03-03T14:52:33.818Z"
   },
   {
    "duration": 66,
    "start_time": "2024-03-03T14:52:33.848Z"
   },
   {
    "duration": 44,
    "start_time": "2024-03-03T14:52:33.916Z"
   },
   {
    "duration": 332,
    "start_time": "2024-03-03T14:52:33.962Z"
   },
   {
    "duration": 16,
    "start_time": "2024-03-03T14:52:34.296Z"
   },
   {
    "duration": 323,
    "start_time": "2024-03-03T14:52:34.314Z"
   },
   {
    "duration": 145,
    "start_time": "2024-03-03T14:52:34.639Z"
   },
   {
    "duration": 141,
    "start_time": "2024-03-03T14:52:34.786Z"
   },
   {
    "duration": 5,
    "start_time": "2024-03-03T14:52:34.929Z"
   },
   {
    "duration": 328,
    "start_time": "2024-03-03T14:52:34.936Z"
   },
   {
    "duration": 338,
    "start_time": "2024-03-03T14:52:35.267Z"
   },
   {
    "duration": 406,
    "start_time": "2024-03-03T14:52:35.607Z"
   },
   {
    "duration": 99,
    "start_time": "2024-03-03T14:52:36.015Z"
   },
   {
    "duration": 0,
    "start_time": "2024-03-03T14:52:36.116Z"
   },
   {
    "duration": 0,
    "start_time": "2024-03-03T14:52:36.117Z"
   },
   {
    "duration": 0,
    "start_time": "2024-03-03T14:52:36.118Z"
   },
   {
    "duration": 0,
    "start_time": "2024-03-03T14:52:36.120Z"
   },
   {
    "duration": 0,
    "start_time": "2024-03-03T14:52:36.121Z"
   },
   {
    "duration": 0,
    "start_time": "2024-03-03T14:52:36.123Z"
   },
   {
    "duration": 0,
    "start_time": "2024-03-03T14:52:36.123Z"
   },
   {
    "duration": 0,
    "start_time": "2024-03-03T14:52:36.125Z"
   },
   {
    "duration": 0,
    "start_time": "2024-03-03T14:52:36.127Z"
   },
   {
    "duration": 0,
    "start_time": "2024-03-03T14:52:36.127Z"
   },
   {
    "duration": 0,
    "start_time": "2024-03-03T14:52:36.129Z"
   },
   {
    "duration": 0,
    "start_time": "2024-03-03T14:52:36.130Z"
   },
   {
    "duration": 0,
    "start_time": "2024-03-03T14:52:36.131Z"
   },
   {
    "duration": 0,
    "start_time": "2024-03-03T14:52:36.132Z"
   },
   {
    "duration": 0,
    "start_time": "2024-03-03T14:52:36.133Z"
   },
   {
    "duration": 28,
    "start_time": "2024-03-03T14:52:58.726Z"
   },
   {
    "duration": 197,
    "start_time": "2024-03-03T14:52:59.394Z"
   },
   {
    "duration": 4,
    "start_time": "2024-03-03T14:53:02.179Z"
   },
   {
    "duration": 110,
    "start_time": "2024-03-03T14:53:02.749Z"
   },
   {
    "duration": 113,
    "start_time": "2024-03-03T14:53:03.285Z"
   },
   {
    "duration": 108,
    "start_time": "2024-03-03T14:53:03.837Z"
   },
   {
    "duration": 110,
    "start_time": "2024-03-03T14:53:06.529Z"
   },
   {
    "duration": 113,
    "start_time": "2024-03-03T14:53:07.124Z"
   },
   {
    "duration": 111,
    "start_time": "2024-03-03T14:53:07.767Z"
   },
   {
    "duration": 114,
    "start_time": "2024-03-03T14:53:09.766Z"
   },
   {
    "duration": 108,
    "start_time": "2024-03-03T14:53:10.367Z"
   },
   {
    "duration": 112,
    "start_time": "2024-03-03T14:53:10.959Z"
   },
   {
    "duration": 21,
    "start_time": "2024-03-03T14:53:11.543Z"
   },
   {
    "duration": 12,
    "start_time": "2024-03-03T14:53:16.014Z"
   },
   {
    "duration": 13,
    "start_time": "2024-03-03T14:53:18.305Z"
   },
   {
    "duration": 5,
    "start_time": "2024-03-03T15:03:50.040Z"
   },
   {
    "duration": 6,
    "start_time": "2024-03-03T15:03:55.392Z"
   },
   {
    "duration": 1248,
    "start_time": "2024-03-03T15:04:04.715Z"
   },
   {
    "duration": 81,
    "start_time": "2024-03-03T15:04:05.965Z"
   },
   {
    "duration": 22,
    "start_time": "2024-03-03T15:04:06.048Z"
   },
   {
    "duration": 3,
    "start_time": "2024-03-03T15:04:06.073Z"
   },
   {
    "duration": 18,
    "start_time": "2024-03-03T15:04:06.091Z"
   },
   {
    "duration": 9,
    "start_time": "2024-03-03T15:04:06.111Z"
   },
   {
    "duration": 16,
    "start_time": "2024-03-03T15:04:06.122Z"
   },
   {
    "duration": 15,
    "start_time": "2024-03-03T15:04:06.139Z"
   },
   {
    "duration": 5,
    "start_time": "2024-03-03T15:04:06.156Z"
   },
   {
    "duration": 36,
    "start_time": "2024-03-03T15:04:06.163Z"
   },
   {
    "duration": 24,
    "start_time": "2024-03-03T15:04:06.200Z"
   },
   {
    "duration": 16,
    "start_time": "2024-03-03T15:04:06.225Z"
   },
   {
    "duration": 16,
    "start_time": "2024-03-03T15:04:06.243Z"
   },
   {
    "duration": 7,
    "start_time": "2024-03-03T15:04:06.261Z"
   },
   {
    "duration": 16,
    "start_time": "2024-03-03T15:04:06.269Z"
   },
   {
    "duration": 24,
    "start_time": "2024-03-03T15:04:06.287Z"
   },
   {
    "duration": 11,
    "start_time": "2024-03-03T15:04:06.313Z"
   },
   {
    "duration": 17,
    "start_time": "2024-03-03T15:04:06.326Z"
   },
   {
    "duration": 23,
    "start_time": "2024-03-03T15:04:06.345Z"
   },
   {
    "duration": 30,
    "start_time": "2024-03-03T15:04:06.370Z"
   },
   {
    "duration": 19,
    "start_time": "2024-03-03T15:04:06.402Z"
   },
   {
    "duration": 10,
    "start_time": "2024-03-03T15:04:06.423Z"
   },
   {
    "duration": 8,
    "start_time": "2024-03-03T15:04:06.434Z"
   },
   {
    "duration": 11,
    "start_time": "2024-03-03T15:04:06.444Z"
   },
   {
    "duration": 7,
    "start_time": "2024-03-03T15:04:06.457Z"
   },
   {
    "duration": 16,
    "start_time": "2024-03-03T15:04:06.465Z"
   },
   {
    "duration": 16,
    "start_time": "2024-03-03T15:04:06.483Z"
   },
   {
    "duration": 27,
    "start_time": "2024-03-03T15:04:06.503Z"
   },
   {
    "duration": 180,
    "start_time": "2024-03-03T15:04:06.532Z"
   },
   {
    "duration": 15,
    "start_time": "2024-03-03T15:04:06.713Z"
   },
   {
    "duration": 326,
    "start_time": "2024-03-03T15:04:06.730Z"
   },
   {
    "duration": 26,
    "start_time": "2024-03-03T15:04:07.058Z"
   },
   {
    "duration": 5,
    "start_time": "2024-03-03T15:04:07.085Z"
   },
   {
    "duration": 42,
    "start_time": "2024-03-03T15:04:07.091Z"
   },
   {
    "duration": 323,
    "start_time": "2024-03-03T15:04:07.135Z"
   },
   {
    "duration": 18,
    "start_time": "2024-03-03T15:04:07.460Z"
   },
   {
    "duration": 335,
    "start_time": "2024-03-03T15:04:07.479Z"
   },
   {
    "duration": 138,
    "start_time": "2024-03-03T15:04:07.816Z"
   },
   {
    "duration": 153,
    "start_time": "2024-03-03T15:04:07.956Z"
   },
   {
    "duration": 5,
    "start_time": "2024-03-03T15:04:08.111Z"
   },
   {
    "duration": 280,
    "start_time": "2024-03-03T15:04:08.118Z"
   },
   {
    "duration": 332,
    "start_time": "2024-03-03T15:04:08.400Z"
   },
   {
    "duration": 382,
    "start_time": "2024-03-03T15:04:08.733Z"
   },
   {
    "duration": 30,
    "start_time": "2024-03-03T15:04:09.116Z"
   },
   {
    "duration": 204,
    "start_time": "2024-03-03T15:04:09.148Z"
   },
   {
    "duration": 4,
    "start_time": "2024-03-03T15:04:09.353Z"
   },
   {
    "duration": 118,
    "start_time": "2024-03-03T15:04:09.359Z"
   },
   {
    "duration": 126,
    "start_time": "2024-03-03T15:04:09.479Z"
   },
   {
    "duration": 116,
    "start_time": "2024-03-03T15:04:09.607Z"
   },
   {
    "duration": 159,
    "start_time": "2024-03-03T15:04:09.725Z"
   },
   {
    "duration": 133,
    "start_time": "2024-03-03T15:04:09.885Z"
   },
   {
    "duration": 127,
    "start_time": "2024-03-03T15:04:10.019Z"
   },
   {
    "duration": 114,
    "start_time": "2024-03-03T15:04:10.147Z"
   },
   {
    "duration": 112,
    "start_time": "2024-03-03T15:04:10.262Z"
   },
   {
    "duration": 121,
    "start_time": "2024-03-03T15:04:10.375Z"
   },
   {
    "duration": 21,
    "start_time": "2024-03-03T15:04:10.497Z"
   },
   {
    "duration": 12,
    "start_time": "2024-03-03T15:04:10.519Z"
   },
   {
    "duration": 11,
    "start_time": "2024-03-03T15:04:10.532Z"
   },
   {
    "duration": 22,
    "start_time": "2024-03-03T15:09:52.665Z"
   },
   {
    "duration": 21,
    "start_time": "2024-03-03T15:45:38.664Z"
   },
   {
    "duration": 19,
    "start_time": "2024-03-03T15:46:50.342Z"
   },
   {
    "duration": 303,
    "start_time": "2024-03-03T15:47:08.580Z"
   },
   {
    "duration": 307,
    "start_time": "2024-03-03T15:49:22.859Z"
   },
   {
    "duration": 26,
    "start_time": "2024-03-03T15:49:31.575Z"
   },
   {
    "duration": 1297,
    "start_time": "2024-03-03T15:56:38.403Z"
   },
   {
    "duration": 74,
    "start_time": "2024-03-03T15:56:39.701Z"
   },
   {
    "duration": 21,
    "start_time": "2024-03-03T15:56:39.776Z"
   },
   {
    "duration": 9,
    "start_time": "2024-03-03T15:56:39.800Z"
   },
   {
    "duration": 29,
    "start_time": "2024-03-03T15:56:39.811Z"
   },
   {
    "duration": 13,
    "start_time": "2024-03-03T15:56:39.842Z"
   },
   {
    "duration": 34,
    "start_time": "2024-03-03T15:56:39.857Z"
   },
   {
    "duration": 9,
    "start_time": "2024-03-03T15:56:39.893Z"
   },
   {
    "duration": 15,
    "start_time": "2024-03-03T15:56:39.904Z"
   },
   {
    "duration": 13,
    "start_time": "2024-03-03T15:56:39.922Z"
   },
   {
    "duration": 39,
    "start_time": "2024-03-03T15:56:39.937Z"
   },
   {
    "duration": 19,
    "start_time": "2024-03-03T15:56:39.977Z"
   },
   {
    "duration": 15,
    "start_time": "2024-03-03T15:56:39.999Z"
   },
   {
    "duration": 23,
    "start_time": "2024-03-03T15:56:40.016Z"
   },
   {
    "duration": 38,
    "start_time": "2024-03-03T15:56:40.041Z"
   },
   {
    "duration": 5,
    "start_time": "2024-03-03T15:56:40.081Z"
   },
   {
    "duration": 11,
    "start_time": "2024-03-03T15:56:40.088Z"
   },
   {
    "duration": 11,
    "start_time": "2024-03-03T15:56:40.101Z"
   },
   {
    "duration": 5,
    "start_time": "2024-03-03T15:56:40.114Z"
   },
   {
    "duration": 36,
    "start_time": "2024-03-03T15:56:40.121Z"
   },
   {
    "duration": 16,
    "start_time": "2024-03-03T15:56:40.159Z"
   },
   {
    "duration": 12,
    "start_time": "2024-03-03T15:56:40.177Z"
   },
   {
    "duration": 7,
    "start_time": "2024-03-03T15:56:40.192Z"
   },
   {
    "duration": 10,
    "start_time": "2024-03-03T15:56:40.201Z"
   },
   {
    "duration": 10,
    "start_time": "2024-03-03T15:56:40.213Z"
   },
   {
    "duration": 15,
    "start_time": "2024-03-03T15:56:40.226Z"
   },
   {
    "duration": 11,
    "start_time": "2024-03-03T15:56:40.243Z"
   },
   {
    "duration": 22,
    "start_time": "2024-03-03T15:56:40.291Z"
   },
   {
    "duration": 207,
    "start_time": "2024-03-03T15:56:40.315Z"
   },
   {
    "duration": 18,
    "start_time": "2024-03-03T15:56:40.523Z"
   },
   {
    "duration": 341,
    "start_time": "2024-03-03T15:56:40.543Z"
   },
   {
    "duration": 26,
    "start_time": "2024-03-03T15:56:40.886Z"
   },
   {
    "duration": 7,
    "start_time": "2024-03-03T15:56:40.913Z"
   },
   {
    "duration": 25,
    "start_time": "2024-03-03T15:56:40.922Z"
   },
   {
    "duration": 353,
    "start_time": "2024-03-03T15:56:40.948Z"
   },
   {
    "duration": 16,
    "start_time": "2024-03-03T15:56:41.303Z"
   },
   {
    "duration": 348,
    "start_time": "2024-03-03T15:56:41.321Z"
   },
   {
    "duration": 146,
    "start_time": "2024-03-03T15:56:41.671Z"
   },
   {
    "duration": 174,
    "start_time": "2024-03-03T15:56:41.818Z"
   },
   {
    "duration": 8,
    "start_time": "2024-03-03T15:56:41.994Z"
   },
   {
    "duration": 300,
    "start_time": "2024-03-03T15:56:42.004Z"
   },
   {
    "duration": 349,
    "start_time": "2024-03-03T15:56:42.305Z"
   },
   {
    "duration": 444,
    "start_time": "2024-03-03T15:56:42.656Z"
   },
   {
    "duration": 31,
    "start_time": "2024-03-03T15:56:43.102Z"
   },
   {
    "duration": 221,
    "start_time": "2024-03-03T15:56:43.135Z"
   },
   {
    "duration": 5,
    "start_time": "2024-03-03T15:56:43.358Z"
   },
   {
    "duration": 129,
    "start_time": "2024-03-03T15:56:43.365Z"
   },
   {
    "duration": 123,
    "start_time": "2024-03-03T15:56:43.496Z"
   },
   {
    "duration": 116,
    "start_time": "2024-03-03T15:56:43.621Z"
   },
   {
    "duration": 140,
    "start_time": "2024-03-03T15:56:43.739Z"
   },
   {
    "duration": 128,
    "start_time": "2024-03-03T15:56:43.881Z"
   },
   {
    "duration": 133,
    "start_time": "2024-03-03T15:56:44.011Z"
   },
   {
    "duration": 133,
    "start_time": "2024-03-03T15:56:44.146Z"
   },
   {
    "duration": 123,
    "start_time": "2024-03-03T15:56:44.281Z"
   },
   {
    "duration": 125,
    "start_time": "2024-03-03T15:56:44.406Z"
   },
   {
    "duration": 20,
    "start_time": "2024-03-03T15:56:44.533Z"
   },
   {
    "duration": 13,
    "start_time": "2024-03-03T15:56:44.555Z"
   },
   {
    "duration": 31,
    "start_time": "2024-03-03T15:56:44.570Z"
   },
   {
    "duration": 314,
    "start_time": "2024-03-03T15:57:22.321Z"
   },
   {
    "duration": 408,
    "start_time": "2024-03-03T16:01:51.957Z"
   },
   {
    "duration": 178,
    "start_time": "2024-03-03T16:04:12.196Z"
   },
   {
    "duration": 5,
    "start_time": "2024-03-03T16:05:47.449Z"
   },
   {
    "duration": 115,
    "start_time": "2024-03-03T16:28:59.178Z"
   },
   {
    "duration": 296,
    "start_time": "2024-03-03T17:53:16.565Z"
   },
   {
    "duration": 284,
    "start_time": "2024-03-03T17:53:33.304Z"
   },
   {
    "duration": 300,
    "start_time": "2024-03-03T17:53:49.060Z"
   },
   {
    "duration": 430,
    "start_time": "2024-03-03T17:54:03.810Z"
   },
   {
    "duration": 223,
    "start_time": "2024-03-03T17:54:52.524Z"
   },
   {
    "duration": 254,
    "start_time": "2024-03-03T17:55:29.191Z"
   },
   {
    "duration": 244,
    "start_time": "2024-03-03T17:55:56.674Z"
   },
   {
    "duration": 265,
    "start_time": "2024-03-03T17:56:03.954Z"
   },
   {
    "duration": 197,
    "start_time": "2024-03-03T17:58:24.725Z"
   },
   {
    "duration": 1429,
    "start_time": "2024-03-03T17:59:24.120Z"
   },
   {
    "duration": 93,
    "start_time": "2024-03-03T17:59:25.552Z"
   },
   {
    "duration": 28,
    "start_time": "2024-03-03T17:59:25.647Z"
   },
   {
    "duration": 16,
    "start_time": "2024-03-03T17:59:25.677Z"
   },
   {
    "duration": 30,
    "start_time": "2024-03-03T17:59:25.696Z"
   },
   {
    "duration": 22,
    "start_time": "2024-03-03T17:59:25.730Z"
   },
   {
    "duration": 50,
    "start_time": "2024-03-03T17:59:25.754Z"
   },
   {
    "duration": 23,
    "start_time": "2024-03-03T17:59:25.806Z"
   },
   {
    "duration": 40,
    "start_time": "2024-03-03T17:59:25.831Z"
   },
   {
    "duration": 13,
    "start_time": "2024-03-03T17:59:25.874Z"
   },
   {
    "duration": 64,
    "start_time": "2024-03-03T17:59:25.889Z"
   },
   {
    "duration": 19,
    "start_time": "2024-03-03T17:59:25.955Z"
   },
   {
    "duration": 7,
    "start_time": "2024-03-03T17:59:25.976Z"
   },
   {
    "duration": 37,
    "start_time": "2024-03-03T17:59:25.984Z"
   },
   {
    "duration": 28,
    "start_time": "2024-03-03T17:59:26.023Z"
   },
   {
    "duration": 17,
    "start_time": "2024-03-03T17:59:26.052Z"
   },
   {
    "duration": 16,
    "start_time": "2024-03-03T17:59:26.071Z"
   },
   {
    "duration": 19,
    "start_time": "2024-03-03T17:59:26.089Z"
   },
   {
    "duration": 35,
    "start_time": "2024-03-03T17:59:26.112Z"
   },
   {
    "duration": 23,
    "start_time": "2024-03-03T17:59:26.148Z"
   },
   {
    "duration": 23,
    "start_time": "2024-03-03T17:59:26.173Z"
   },
   {
    "duration": 27,
    "start_time": "2024-03-03T17:59:26.197Z"
   },
   {
    "duration": 18,
    "start_time": "2024-03-03T17:59:26.225Z"
   },
   {
    "duration": 25,
    "start_time": "2024-03-03T17:59:26.244Z"
   },
   {
    "duration": 14,
    "start_time": "2024-03-03T17:59:26.271Z"
   },
   {
    "duration": 38,
    "start_time": "2024-03-03T17:59:26.287Z"
   },
   {
    "duration": 24,
    "start_time": "2024-03-03T17:59:26.326Z"
   },
   {
    "duration": 34,
    "start_time": "2024-03-03T17:59:26.354Z"
   },
   {
    "duration": 230,
    "start_time": "2024-03-03T17:59:26.390Z"
   },
   {
    "duration": 16,
    "start_time": "2024-03-03T17:59:26.623Z"
   },
   {
    "duration": 344,
    "start_time": "2024-03-03T17:59:26.640Z"
   },
   {
    "duration": 31,
    "start_time": "2024-03-03T17:59:26.985Z"
   },
   {
    "duration": 5,
    "start_time": "2024-03-03T17:59:27.020Z"
   },
   {
    "duration": 20,
    "start_time": "2024-03-03T17:59:27.026Z"
   },
   {
    "duration": 392,
    "start_time": "2024-03-03T17:59:27.048Z"
   },
   {
    "duration": 15,
    "start_time": "2024-03-03T17:59:27.442Z"
   },
   {
    "duration": 372,
    "start_time": "2024-03-03T17:59:27.459Z"
   },
   {
    "duration": 160,
    "start_time": "2024-03-03T17:59:27.832Z"
   },
   {
    "duration": 174,
    "start_time": "2024-03-03T17:59:27.995Z"
   },
   {
    "duration": 5,
    "start_time": "2024-03-03T17:59:28.171Z"
   },
   {
    "duration": 299,
    "start_time": "2024-03-03T17:59:28.178Z"
   },
   {
    "duration": 359,
    "start_time": "2024-03-03T17:59:28.479Z"
   },
   {
    "duration": 409,
    "start_time": "2024-03-03T17:59:28.839Z"
   },
   {
    "duration": 28,
    "start_time": "2024-03-03T17:59:29.250Z"
   },
   {
    "duration": 234,
    "start_time": "2024-03-03T17:59:29.280Z"
   },
   {
    "duration": 6,
    "start_time": "2024-03-03T17:59:29.520Z"
   },
   {
    "duration": 128,
    "start_time": "2024-03-03T17:59:29.528Z"
   },
   {
    "duration": 129,
    "start_time": "2024-03-03T17:59:29.658Z"
   },
   {
    "duration": 154,
    "start_time": "2024-03-03T17:59:29.797Z"
   },
   {
    "duration": 174,
    "start_time": "2024-03-03T17:59:29.953Z"
   },
   {
    "duration": 136,
    "start_time": "2024-03-03T17:59:30.129Z"
   },
   {
    "duration": 276,
    "start_time": "2024-03-03T17:59:30.267Z"
   },
   {
    "duration": 138,
    "start_time": "2024-03-03T17:59:30.545Z"
   },
   {
    "duration": 146,
    "start_time": "2024-03-03T17:59:30.685Z"
   },
   {
    "duration": 147,
    "start_time": "2024-03-03T17:59:30.833Z"
   },
   {
    "duration": 46,
    "start_time": "2024-03-03T17:59:30.982Z"
   },
   {
    "duration": 336,
    "start_time": "2024-03-03T17:59:31.030Z"
   },
   {
    "duration": 5,
    "start_time": "2024-03-03T17:59:31.368Z"
   },
   {
    "duration": 347,
    "start_time": "2024-03-03T17:59:31.375Z"
   },
   {
    "duration": 7,
    "start_time": "2024-03-03T17:59:31.724Z"
   },
   {
    "duration": 75,
    "start_time": "2024-03-04T15:03:38.213Z"
   },
   {
    "duration": 70,
    "start_time": "2024-03-04T15:03:55.540Z"
   },
   {
    "duration": 43,
    "start_time": "2024-03-04T15:11:20.274Z"
   },
   {
    "duration": 1348,
    "start_time": "2024-03-04T15:11:29.813Z"
   },
   {
    "duration": 108,
    "start_time": "2024-03-04T15:11:31.163Z"
   },
   {
    "duration": 19,
    "start_time": "2024-03-04T15:11:31.273Z"
   },
   {
    "duration": 28,
    "start_time": "2024-03-04T15:11:31.294Z"
   },
   {
    "duration": 35,
    "start_time": "2024-03-04T15:11:31.323Z"
   },
   {
    "duration": 15,
    "start_time": "2024-03-04T15:11:31.360Z"
   },
   {
    "duration": 32,
    "start_time": "2024-03-04T15:11:31.377Z"
   },
   {
    "duration": 16,
    "start_time": "2024-03-04T15:11:31.411Z"
   },
   {
    "duration": 55,
    "start_time": "2024-03-04T15:11:31.428Z"
   },
   {
    "duration": 31,
    "start_time": "2024-03-04T15:11:31.486Z"
   },
   {
    "duration": 27,
    "start_time": "2024-03-04T15:11:31.519Z"
   },
   {
    "duration": 33,
    "start_time": "2024-03-04T15:11:31.547Z"
   },
   {
    "duration": 31,
    "start_time": "2024-03-04T15:11:31.582Z"
   },
   {
    "duration": 57,
    "start_time": "2024-03-04T15:11:31.615Z"
   },
   {
    "duration": 41,
    "start_time": "2024-03-04T15:11:31.674Z"
   },
   {
    "duration": 23,
    "start_time": "2024-03-04T15:11:31.716Z"
   },
   {
    "duration": 15,
    "start_time": "2024-03-04T15:11:31.740Z"
   },
   {
    "duration": 17,
    "start_time": "2024-03-04T15:11:31.757Z"
   },
   {
    "duration": 21,
    "start_time": "2024-03-04T15:11:31.775Z"
   },
   {
    "duration": 15,
    "start_time": "2024-03-04T15:11:31.798Z"
   },
   {
    "duration": 7,
    "start_time": "2024-03-04T15:11:31.815Z"
   },
   {
    "duration": 14,
    "start_time": "2024-03-04T15:11:31.823Z"
   },
   {
    "duration": 18,
    "start_time": "2024-03-04T15:11:31.838Z"
   },
   {
    "duration": 15,
    "start_time": "2024-03-04T15:11:31.858Z"
   },
   {
    "duration": 24,
    "start_time": "2024-03-04T15:11:31.874Z"
   },
   {
    "duration": 30,
    "start_time": "2024-03-04T15:11:31.900Z"
   },
   {
    "duration": 23,
    "start_time": "2024-03-04T15:11:31.931Z"
   },
   {
    "duration": 9,
    "start_time": "2024-03-04T15:11:31.957Z"
   },
   {
    "duration": 18,
    "start_time": "2024-03-04T15:11:31.967Z"
   },
   {
    "duration": 175,
    "start_time": "2024-03-04T15:11:31.987Z"
   },
   {
    "duration": 17,
    "start_time": "2024-03-04T15:11:32.163Z"
   },
   {
    "duration": 325,
    "start_time": "2024-03-04T15:11:32.182Z"
   },
   {
    "duration": 23,
    "start_time": "2024-03-04T15:11:32.509Z"
   },
   {
    "duration": 4,
    "start_time": "2024-03-04T15:11:32.533Z"
   },
   {
    "duration": 17,
    "start_time": "2024-03-04T15:11:32.539Z"
   },
   {
    "duration": 281,
    "start_time": "2024-03-04T15:11:32.558Z"
   },
   {
    "duration": 23,
    "start_time": "2024-03-04T15:11:32.841Z"
   },
   {
    "duration": 343,
    "start_time": "2024-03-04T15:11:32.866Z"
   },
   {
    "duration": 145,
    "start_time": "2024-03-04T15:11:33.215Z"
   },
   {
    "duration": 161,
    "start_time": "2024-03-04T15:11:33.361Z"
   },
   {
    "duration": 6,
    "start_time": "2024-03-04T15:11:33.524Z"
   },
   {
    "duration": 267,
    "start_time": "2024-03-04T15:11:33.532Z"
   },
   {
    "duration": 294,
    "start_time": "2024-03-04T15:11:33.801Z"
   },
   {
    "duration": 381,
    "start_time": "2024-03-04T15:11:34.096Z"
   },
   {
    "duration": 38,
    "start_time": "2024-03-04T15:11:34.479Z"
   },
   {
    "duration": 199,
    "start_time": "2024-03-04T15:11:34.518Z"
   },
   {
    "duration": 6,
    "start_time": "2024-03-04T15:11:34.719Z"
   },
   {
    "duration": 117,
    "start_time": "2024-03-04T15:11:34.727Z"
   },
   {
    "duration": 116,
    "start_time": "2024-03-04T15:11:34.845Z"
   },
   {
    "duration": 116,
    "start_time": "2024-03-04T15:11:34.963Z"
   },
   {
    "duration": 111,
    "start_time": "2024-03-04T15:11:35.081Z"
   },
   {
    "duration": 122,
    "start_time": "2024-03-04T15:11:35.194Z"
   },
   {
    "duration": 126,
    "start_time": "2024-03-04T15:11:35.318Z"
   },
   {
    "duration": 119,
    "start_time": "2024-03-04T15:11:35.446Z"
   },
   {
    "duration": 121,
    "start_time": "2024-03-04T15:11:35.567Z"
   },
   {
    "duration": 145,
    "start_time": "2024-03-04T15:11:35.690Z"
   },
   {
    "duration": 22,
    "start_time": "2024-03-04T15:11:35.837Z"
   },
   {
    "duration": 206,
    "start_time": "2024-03-04T15:11:35.861Z"
   },
   {
    "duration": 5,
    "start_time": "2024-03-04T15:11:36.069Z"
   },
   {
    "duration": 188,
    "start_time": "2024-03-04T15:11:36.076Z"
   },
   {
    "duration": 5,
    "start_time": "2024-03-04T15:11:36.265Z"
   },
   {
    "duration": 457,
    "start_time": "2024-03-04T15:26:23.602Z"
   },
   {
    "duration": 329,
    "start_time": "2024-03-04T15:26:31.305Z"
   },
   {
    "duration": 1133,
    "start_time": "2024-03-04T15:26:37.843Z"
   },
   {
    "duration": 69,
    "start_time": "2024-03-04T15:26:38.978Z"
   },
   {
    "duration": 21,
    "start_time": "2024-03-04T15:26:39.048Z"
   },
   {
    "duration": 4,
    "start_time": "2024-03-04T15:26:39.071Z"
   },
   {
    "duration": 40,
    "start_time": "2024-03-04T15:26:39.076Z"
   },
   {
    "duration": 33,
    "start_time": "2024-03-04T15:26:39.118Z"
   },
   {
    "duration": 48,
    "start_time": "2024-03-04T15:26:39.153Z"
   },
   {
    "duration": 37,
    "start_time": "2024-03-04T15:26:39.202Z"
   },
   {
    "duration": 22,
    "start_time": "2024-03-04T15:26:39.240Z"
   },
   {
    "duration": 34,
    "start_time": "2024-03-04T15:26:39.264Z"
   },
   {
    "duration": 17,
    "start_time": "2024-03-04T15:26:39.299Z"
   },
   {
    "duration": 14,
    "start_time": "2024-03-04T15:26:39.318Z"
   },
   {
    "duration": 17,
    "start_time": "2024-03-04T15:26:39.334Z"
   },
   {
    "duration": 15,
    "start_time": "2024-03-04T15:26:39.352Z"
   },
   {
    "duration": 8,
    "start_time": "2024-03-04T15:26:39.369Z"
   },
   {
    "duration": 5,
    "start_time": "2024-03-04T15:26:39.379Z"
   },
   {
    "duration": 13,
    "start_time": "2024-03-04T15:26:39.385Z"
   },
   {
    "duration": 3,
    "start_time": "2024-03-04T15:26:39.414Z"
   },
   {
    "duration": 4,
    "start_time": "2024-03-04T15:26:39.419Z"
   },
   {
    "duration": 4,
    "start_time": "2024-03-04T15:26:39.425Z"
   },
   {
    "duration": 11,
    "start_time": "2024-03-04T15:26:39.430Z"
   },
   {
    "duration": 10,
    "start_time": "2024-03-04T15:26:39.442Z"
   },
   {
    "duration": 15,
    "start_time": "2024-03-04T15:26:39.453Z"
   },
   {
    "duration": 9,
    "start_time": "2024-03-04T15:26:39.469Z"
   },
   {
    "duration": 6,
    "start_time": "2024-03-04T15:26:39.479Z"
   },
   {
    "duration": 6,
    "start_time": "2024-03-04T15:26:39.486Z"
   },
   {
    "duration": 22,
    "start_time": "2024-03-04T15:26:39.493Z"
   },
   {
    "duration": 12,
    "start_time": "2024-03-04T15:26:39.519Z"
   },
   {
    "duration": 10,
    "start_time": "2024-03-04T15:26:39.533Z"
   },
   {
    "duration": 16,
    "start_time": "2024-03-04T15:26:39.544Z"
   },
   {
    "duration": 204,
    "start_time": "2024-03-04T15:26:39.561Z"
   },
   {
    "duration": 16,
    "start_time": "2024-03-04T15:26:39.766Z"
   },
   {
    "duration": 295,
    "start_time": "2024-03-04T15:26:39.784Z"
   },
   {
    "duration": 23,
    "start_time": "2024-03-04T15:26:40.080Z"
   },
   {
    "duration": 4,
    "start_time": "2024-03-04T15:26:40.104Z"
   },
   {
    "duration": 19,
    "start_time": "2024-03-04T15:26:40.109Z"
   },
   {
    "duration": 274,
    "start_time": "2024-03-04T15:26:40.129Z"
   },
   {
    "duration": 18,
    "start_time": "2024-03-04T15:26:40.405Z"
   },
   {
    "duration": 281,
    "start_time": "2024-03-04T15:26:40.424Z"
   },
   {
    "duration": 138,
    "start_time": "2024-03-04T15:26:40.707Z"
   },
   {
    "duration": 145,
    "start_time": "2024-03-04T15:26:40.847Z"
   },
   {
    "duration": 5,
    "start_time": "2024-03-04T15:26:40.994Z"
   },
   {
    "duration": 257,
    "start_time": "2024-03-04T15:26:41.000Z"
   },
   {
    "duration": 284,
    "start_time": "2024-03-04T15:26:41.259Z"
   },
   {
    "duration": 335,
    "start_time": "2024-03-04T15:26:41.545Z"
   },
   {
    "duration": 38,
    "start_time": "2024-03-04T15:26:41.881Z"
   },
   {
    "duration": 177,
    "start_time": "2024-03-04T15:26:41.921Z"
   },
   {
    "duration": 4,
    "start_time": "2024-03-04T15:26:42.100Z"
   },
   {
    "duration": 113,
    "start_time": "2024-03-04T15:26:42.114Z"
   },
   {
    "duration": 113,
    "start_time": "2024-03-04T15:26:42.229Z"
   },
   {
    "duration": 116,
    "start_time": "2024-03-04T15:26:42.344Z"
   },
   {
    "duration": 111,
    "start_time": "2024-03-04T15:26:42.461Z"
   },
   {
    "duration": 107,
    "start_time": "2024-03-04T15:26:42.573Z"
   },
   {
    "duration": 108,
    "start_time": "2024-03-04T15:26:42.682Z"
   },
   {
    "duration": 108,
    "start_time": "2024-03-04T15:26:42.792Z"
   },
   {
    "duration": 103,
    "start_time": "2024-03-04T15:26:42.902Z"
   },
   {
    "duration": 105,
    "start_time": "2024-03-04T15:26:43.014Z"
   },
   {
    "duration": 20,
    "start_time": "2024-03-04T15:26:43.121Z"
   },
   {
    "duration": 201,
    "start_time": "2024-03-04T15:26:43.142Z"
   },
   {
    "duration": 5,
    "start_time": "2024-03-04T15:26:43.345Z"
   },
   {
    "duration": 188,
    "start_time": "2024-03-04T15:26:43.352Z"
   },
   {
    "duration": 6,
    "start_time": "2024-03-04T15:26:43.542Z"
   },
   {
    "duration": 378,
    "start_time": "2024-03-04T15:27:10.831Z"
   },
   {
    "duration": 286,
    "start_time": "2024-03-04T15:27:24.574Z"
   },
   {
    "duration": 303,
    "start_time": "2024-03-04T15:27:57.640Z"
   },
   {
    "duration": 1097,
    "start_time": "2024-03-04T15:28:14.662Z"
   },
   {
    "duration": 67,
    "start_time": "2024-03-04T15:28:18.359Z"
   },
   {
    "duration": 21,
    "start_time": "2024-03-04T15:28:21.733Z"
   },
   {
    "duration": 3,
    "start_time": "2024-03-04T15:28:24.790Z"
   },
   {
    "duration": 17,
    "start_time": "2024-03-04T15:28:25.444Z"
   },
   {
    "duration": 9,
    "start_time": "2024-03-04T15:28:26.951Z"
   },
   {
    "duration": 14,
    "start_time": "2024-03-04T15:28:28.471Z"
   },
   {
    "duration": 7,
    "start_time": "2024-03-04T15:28:30.473Z"
   },
   {
    "duration": 16,
    "start_time": "2024-03-04T15:28:31.811Z"
   },
   {
    "duration": 16,
    "start_time": "2024-03-04T15:28:32.673Z"
   },
   {
    "duration": 16,
    "start_time": "2024-03-04T15:29:17.665Z"
   },
   {
    "duration": 16,
    "start_time": "2024-03-04T15:29:27.052Z"
   },
   {
    "duration": 17,
    "start_time": "2024-03-04T15:29:35.019Z"
   },
   {
    "duration": 17,
    "start_time": "2024-03-04T15:29:49.777Z"
   },
   {
    "duration": 16,
    "start_time": "2024-03-04T15:30:04.454Z"
   },
   {
    "duration": 5,
    "start_time": "2024-03-04T15:30:48.829Z"
   },
   {
    "duration": 8,
    "start_time": "2024-03-04T15:31:01.998Z"
   },
   {
    "duration": 17,
    "start_time": "2024-03-04T15:31:02.589Z"
   },
   {
    "duration": 16,
    "start_time": "2024-03-04T15:31:12.618Z"
   },
   {
    "duration": 4,
    "start_time": "2024-03-04T15:31:13.900Z"
   },
   {
    "duration": 22,
    "start_time": "2024-03-04T15:31:31.615Z"
   },
   {
    "duration": 17,
    "start_time": "2024-03-04T15:32:22.116Z"
   },
   {
    "duration": 23,
    "start_time": "2024-03-04T15:33:12.011Z"
   },
   {
    "duration": 1170,
    "start_time": "2024-03-04T15:34:28.199Z"
   },
   {
    "duration": 64,
    "start_time": "2024-03-04T15:34:29.371Z"
   },
   {
    "duration": 18,
    "start_time": "2024-03-04T15:34:29.437Z"
   },
   {
    "duration": 7,
    "start_time": "2024-03-04T15:34:29.457Z"
   },
   {
    "duration": 21,
    "start_time": "2024-03-04T15:34:29.465Z"
   },
   {
    "duration": 10,
    "start_time": "2024-03-04T15:34:29.487Z"
   },
   {
    "duration": 27,
    "start_time": "2024-03-04T15:34:29.498Z"
   },
   {
    "duration": 8,
    "start_time": "2024-03-04T15:34:29.527Z"
   },
   {
    "duration": 26,
    "start_time": "2024-03-04T15:34:29.537Z"
   },
   {
    "duration": 18,
    "start_time": "2024-03-04T15:34:29.568Z"
   },
   {
    "duration": 28,
    "start_time": "2024-03-04T15:34:29.588Z"
   },
   {
    "duration": 14,
    "start_time": "2024-03-04T15:34:29.618Z"
   },
   {
    "duration": 21,
    "start_time": "2024-03-04T15:34:29.634Z"
   },
   {
    "duration": 23,
    "start_time": "2024-03-04T15:34:29.657Z"
   },
   {
    "duration": 13,
    "start_time": "2024-03-04T15:34:29.681Z"
   },
   {
    "duration": 10,
    "start_time": "2024-03-04T15:34:29.696Z"
   },
   {
    "duration": 21,
    "start_time": "2024-03-04T15:34:29.708Z"
   },
   {
    "duration": 16,
    "start_time": "2024-03-04T15:34:29.731Z"
   },
   {
    "duration": 39,
    "start_time": "2024-03-04T15:34:29.749Z"
   },
   {
    "duration": 13,
    "start_time": "2024-03-04T15:34:29.790Z"
   },
   {
    "duration": 9,
    "start_time": "2024-03-04T15:34:29.805Z"
   },
   {
    "duration": 6,
    "start_time": "2024-03-04T15:34:29.815Z"
   },
   {
    "duration": 7,
    "start_time": "2024-03-04T15:34:29.823Z"
   },
   {
    "duration": 11,
    "start_time": "2024-03-04T15:34:29.831Z"
   },
   {
    "duration": 7,
    "start_time": "2024-03-04T15:34:29.844Z"
   },
   {
    "duration": 11,
    "start_time": "2024-03-04T15:34:29.852Z"
   },
   {
    "duration": 7,
    "start_time": "2024-03-04T15:34:29.864Z"
   },
   {
    "duration": 17,
    "start_time": "2024-03-04T15:34:29.875Z"
   },
   {
    "duration": 9,
    "start_time": "2024-03-04T15:34:29.915Z"
   },
   {
    "duration": 16,
    "start_time": "2024-03-04T15:34:29.925Z"
   },
   {
    "duration": 197,
    "start_time": "2024-03-04T15:34:29.943Z"
   },
   {
    "duration": 20,
    "start_time": "2024-03-04T15:34:30.142Z"
   },
   {
    "duration": 336,
    "start_time": "2024-03-04T15:34:30.163Z"
   },
   {
    "duration": 22,
    "start_time": "2024-03-04T15:34:30.501Z"
   },
   {
    "duration": 64,
    "start_time": "2024-03-04T15:34:30.524Z"
   },
   {
    "duration": 47,
    "start_time": "2024-03-04T15:34:30.590Z"
   },
   {
    "duration": 331,
    "start_time": "2024-03-04T15:34:30.638Z"
   },
   {
    "duration": 14,
    "start_time": "2024-03-04T15:34:30.971Z"
   },
   {
    "duration": 334,
    "start_time": "2024-03-04T15:34:30.986Z"
   },
   {
    "duration": 136,
    "start_time": "2024-03-04T15:34:31.322Z"
   },
   {
    "duration": 134,
    "start_time": "2024-03-04T15:34:31.459Z"
   },
   {
    "duration": 5,
    "start_time": "2024-03-04T15:34:31.594Z"
   },
   {
    "duration": 308,
    "start_time": "2024-03-04T15:34:31.601Z"
   },
   {
    "duration": 280,
    "start_time": "2024-03-04T15:34:31.915Z"
   },
   {
    "duration": 348,
    "start_time": "2024-03-04T15:34:32.197Z"
   },
   {
    "duration": 26,
    "start_time": "2024-03-04T15:34:32.547Z"
   },
   {
    "duration": 185,
    "start_time": "2024-03-04T15:34:32.574Z"
   },
   {
    "duration": 4,
    "start_time": "2024-03-04T15:34:32.761Z"
   },
   {
    "duration": 114,
    "start_time": "2024-03-04T15:34:32.767Z"
   },
   {
    "duration": 102,
    "start_time": "2024-03-04T15:34:32.883Z"
   },
   {
    "duration": 106,
    "start_time": "2024-03-04T15:34:32.987Z"
   },
   {
    "duration": 106,
    "start_time": "2024-03-04T15:34:33.095Z"
   },
   {
    "duration": 121,
    "start_time": "2024-03-04T15:34:33.202Z"
   },
   {
    "duration": 119,
    "start_time": "2024-03-04T15:34:33.325Z"
   },
   {
    "duration": 115,
    "start_time": "2024-03-04T15:34:33.445Z"
   },
   {
    "duration": 108,
    "start_time": "2024-03-04T15:34:33.562Z"
   },
   {
    "duration": 102,
    "start_time": "2024-03-04T15:34:33.672Z"
   },
   {
    "duration": 19,
    "start_time": "2024-03-04T15:34:33.775Z"
   },
   {
    "duration": 188,
    "start_time": "2024-03-04T15:34:33.796Z"
   },
   {
    "duration": 5,
    "start_time": "2024-03-04T15:34:33.985Z"
   },
   {
    "duration": 183,
    "start_time": "2024-03-04T15:34:33.991Z"
   },
   {
    "duration": 5,
    "start_time": "2024-03-04T15:34:34.176Z"
   },
   {
    "duration": 26,
    "start_time": "2024-03-04T15:55:36.094Z"
   },
   {
    "duration": 10,
    "start_time": "2024-03-04T15:57:47.815Z"
   },
   {
    "duration": 263,
    "start_time": "2024-03-04T15:58:31.137Z"
   },
   {
    "duration": 1150,
    "start_time": "2024-03-04T15:58:59.304Z"
   },
   {
    "duration": 67,
    "start_time": "2024-03-04T15:59:00.456Z"
   },
   {
    "duration": 18,
    "start_time": "2024-03-04T15:59:00.524Z"
   },
   {
    "duration": 32,
    "start_time": "2024-03-04T15:59:00.544Z"
   },
   {
    "duration": 55,
    "start_time": "2024-03-04T15:59:00.577Z"
   },
   {
    "duration": 32,
    "start_time": "2024-03-04T15:59:00.634Z"
   },
   {
    "duration": 67,
    "start_time": "2024-03-04T15:59:00.667Z"
   },
   {
    "duration": 60,
    "start_time": "2024-03-04T15:59:00.735Z"
   },
   {
    "duration": 65,
    "start_time": "2024-03-04T15:59:00.797Z"
   },
   {
    "duration": 127,
    "start_time": "2024-03-04T15:59:00.864Z"
   },
   {
    "duration": 46,
    "start_time": "2024-03-04T15:59:00.992Z"
   },
   {
    "duration": 39,
    "start_time": "2024-03-04T15:59:01.040Z"
   },
   {
    "duration": 58,
    "start_time": "2024-03-04T15:59:01.080Z"
   },
   {
    "duration": 38,
    "start_time": "2024-03-04T15:59:01.139Z"
   },
   {
    "duration": 56,
    "start_time": "2024-03-04T15:59:01.178Z"
   },
   {
    "duration": 53,
    "start_time": "2024-03-04T15:59:01.235Z"
   },
   {
    "duration": 36,
    "start_time": "2024-03-04T15:59:01.290Z"
   },
   {
    "duration": 33,
    "start_time": "2024-03-04T15:59:01.328Z"
   },
   {
    "duration": 58,
    "start_time": "2024-03-04T15:59:01.363Z"
   },
   {
    "duration": 40,
    "start_time": "2024-03-04T15:59:01.423Z"
   },
   {
    "duration": 66,
    "start_time": "2024-03-04T15:59:01.465Z"
   },
   {
    "duration": 64,
    "start_time": "2024-03-04T15:59:01.533Z"
   },
   {
    "duration": 111,
    "start_time": "2024-03-04T15:59:01.599Z"
   },
   {
    "duration": 201,
    "start_time": "2024-03-04T15:59:01.712Z"
   },
   {
    "duration": 42,
    "start_time": "2024-03-04T15:59:01.915Z"
   },
   {
    "duration": 60,
    "start_time": "2024-03-04T15:59:01.958Z"
   },
   {
    "duration": 54,
    "start_time": "2024-03-04T15:59:02.019Z"
   },
   {
    "duration": 51,
    "start_time": "2024-03-04T15:59:02.077Z"
   },
   {
    "duration": 16,
    "start_time": "2024-03-04T15:59:02.130Z"
   },
   {
    "duration": 18,
    "start_time": "2024-03-04T15:59:02.147Z"
   },
   {
    "duration": 199,
    "start_time": "2024-03-04T15:59:02.166Z"
   },
   {
    "duration": 168,
    "start_time": "2024-03-04T15:59:02.367Z"
   },
   {
    "duration": 18,
    "start_time": "2024-03-04T15:59:02.536Z"
   },
   {
    "duration": 328,
    "start_time": "2024-03-04T15:59:02.555Z"
   },
   {
    "duration": 23,
    "start_time": "2024-03-04T15:59:02.884Z"
   },
   {
    "duration": 3,
    "start_time": "2024-03-04T15:59:02.909Z"
   },
   {
    "duration": 31,
    "start_time": "2024-03-04T15:59:02.914Z"
   },
   {
    "duration": 282,
    "start_time": "2024-03-04T15:59:02.946Z"
   },
   {
    "duration": 15,
    "start_time": "2024-03-04T15:59:03.229Z"
   },
   {
    "duration": 298,
    "start_time": "2024-03-04T15:59:03.246Z"
   },
   {
    "duration": 137,
    "start_time": "2024-03-04T15:59:03.545Z"
   },
   {
    "duration": 135,
    "start_time": "2024-03-04T15:59:03.684Z"
   },
   {
    "duration": 5,
    "start_time": "2024-03-04T15:59:03.820Z"
   },
   {
    "duration": 245,
    "start_time": "2024-03-04T15:59:03.827Z"
   },
   {
    "duration": 355,
    "start_time": "2024-03-04T15:59:04.073Z"
   },
   {
    "duration": 274,
    "start_time": "2024-03-04T15:59:04.430Z"
   },
   {
    "duration": 26,
    "start_time": "2024-03-04T15:59:04.705Z"
   },
   {
    "duration": 210,
    "start_time": "2024-03-04T15:59:04.733Z"
   },
   {
    "duration": 3,
    "start_time": "2024-03-04T15:59:04.945Z"
   },
   {
    "duration": 113,
    "start_time": "2024-03-04T15:59:04.950Z"
   },
   {
    "duration": 106,
    "start_time": "2024-03-04T15:59:05.064Z"
   },
   {
    "duration": 111,
    "start_time": "2024-03-04T15:59:05.172Z"
   },
   {
    "duration": 110,
    "start_time": "2024-03-04T15:59:05.285Z"
   },
   {
    "duration": 105,
    "start_time": "2024-03-04T15:59:05.397Z"
   },
   {
    "duration": 121,
    "start_time": "2024-03-04T15:59:05.504Z"
   },
   {
    "duration": 105,
    "start_time": "2024-03-04T15:59:05.627Z"
   },
   {
    "duration": 130,
    "start_time": "2024-03-04T15:59:05.733Z"
   },
   {
    "duration": 114,
    "start_time": "2024-03-04T15:59:05.864Z"
   },
   {
    "duration": 22,
    "start_time": "2024-03-04T15:59:05.979Z"
   },
   {
    "duration": 204,
    "start_time": "2024-03-04T15:59:06.003Z"
   },
   {
    "duration": 7,
    "start_time": "2024-03-04T15:59:06.208Z"
   },
   {
    "duration": 253,
    "start_time": "2024-03-04T15:59:06.216Z"
   },
   {
    "duration": 5,
    "start_time": "2024-03-04T15:59:06.471Z"
   },
   {
    "duration": 167,
    "start_time": "2024-03-04T15:59:53.345Z"
   },
   {
    "duration": 21,
    "start_time": "2024-03-04T16:01:05.012Z"
   },
   {
    "duration": 23,
    "start_time": "2024-03-04T16:01:43.916Z"
   },
   {
    "duration": 1159,
    "start_time": "2024-03-04T16:02:06.304Z"
   },
   {
    "duration": 67,
    "start_time": "2024-03-04T16:02:07.464Z"
   },
   {
    "duration": 19,
    "start_time": "2024-03-04T16:02:07.532Z"
   },
   {
    "duration": 3,
    "start_time": "2024-03-04T16:02:07.553Z"
   },
   {
    "duration": 25,
    "start_time": "2024-03-04T16:02:07.557Z"
   },
   {
    "duration": 8,
    "start_time": "2024-03-04T16:02:07.584Z"
   },
   {
    "duration": 21,
    "start_time": "2024-03-04T16:02:07.594Z"
   },
   {
    "duration": 8,
    "start_time": "2024-03-04T16:02:07.617Z"
   },
   {
    "duration": 15,
    "start_time": "2024-03-04T16:02:07.627Z"
   },
   {
    "duration": 16,
    "start_time": "2024-03-04T16:02:07.645Z"
   },
   {
    "duration": 4,
    "start_time": "2024-03-04T16:02:07.663Z"
   },
   {
    "duration": 13,
    "start_time": "2024-03-04T16:02:07.669Z"
   },
   {
    "duration": 41,
    "start_time": "2024-03-04T16:02:07.684Z"
   },
   {
    "duration": 15,
    "start_time": "2024-03-04T16:02:07.726Z"
   },
   {
    "duration": 10,
    "start_time": "2024-03-04T16:02:07.743Z"
   },
   {
    "duration": 4,
    "start_time": "2024-03-04T16:02:07.755Z"
   },
   {
    "duration": 5,
    "start_time": "2024-03-04T16:02:07.760Z"
   },
   {
    "duration": 18,
    "start_time": "2024-03-04T16:02:07.766Z"
   },
   {
    "duration": 7,
    "start_time": "2024-03-04T16:02:07.786Z"
   },
   {
    "duration": 4,
    "start_time": "2024-03-04T16:02:07.794Z"
   },
   {
    "duration": 14,
    "start_time": "2024-03-04T16:02:07.800Z"
   },
   {
    "duration": 6,
    "start_time": "2024-03-04T16:02:07.816Z"
   },
   {
    "duration": 5,
    "start_time": "2024-03-04T16:02:07.823Z"
   },
   {
    "duration": 8,
    "start_time": "2024-03-04T16:02:07.830Z"
   },
   {
    "duration": 6,
    "start_time": "2024-03-04T16:02:07.840Z"
   },
   {
    "duration": 4,
    "start_time": "2024-03-04T16:02:07.847Z"
   },
   {
    "duration": 5,
    "start_time": "2024-03-04T16:02:07.852Z"
   },
   {
    "duration": 12,
    "start_time": "2024-03-04T16:02:07.861Z"
   },
   {
    "duration": 40,
    "start_time": "2024-03-04T16:02:07.875Z"
   },
   {
    "duration": 16,
    "start_time": "2024-03-04T16:02:07.917Z"
   },
   {
    "duration": 193,
    "start_time": "2024-03-04T16:02:07.935Z"
   },
   {
    "duration": 185,
    "start_time": "2024-03-04T16:02:08.130Z"
   },
   {
    "duration": 21,
    "start_time": "2024-03-04T16:02:08.316Z"
   },
   {
    "duration": 16,
    "start_time": "2024-03-04T16:02:08.339Z"
   },
   {
    "duration": 307,
    "start_time": "2024-03-04T16:02:08.356Z"
   },
   {
    "duration": 21,
    "start_time": "2024-03-04T16:02:08.664Z"
   },
   {
    "duration": 3,
    "start_time": "2024-03-04T16:02:08.687Z"
   },
   {
    "duration": 15,
    "start_time": "2024-03-04T16:02:08.692Z"
   },
   {
    "duration": 276,
    "start_time": "2024-03-04T16:02:08.709Z"
   },
   {
    "duration": 14,
    "start_time": "2024-03-04T16:02:08.986Z"
   },
   {
    "duration": 285,
    "start_time": "2024-03-04T16:02:09.002Z"
   },
   {
    "duration": 128,
    "start_time": "2024-03-04T16:02:09.289Z"
   },
   {
    "duration": 149,
    "start_time": "2024-03-04T16:02:09.419Z"
   },
   {
    "duration": 5,
    "start_time": "2024-03-04T16:02:09.569Z"
   },
   {
    "duration": 281,
    "start_time": "2024-03-04T16:02:09.576Z"
   },
   {
    "duration": 356,
    "start_time": "2024-03-04T16:02:09.859Z"
   },
   {
    "duration": 281,
    "start_time": "2024-03-04T16:02:10.216Z"
   },
   {
    "duration": 34,
    "start_time": "2024-03-04T16:02:10.498Z"
   },
   {
    "duration": 184,
    "start_time": "2024-03-04T16:02:10.533Z"
   },
   {
    "duration": 4,
    "start_time": "2024-03-04T16:02:10.719Z"
   },
   {
    "duration": 122,
    "start_time": "2024-03-04T16:02:10.724Z"
   },
   {
    "duration": 125,
    "start_time": "2024-03-04T16:02:10.848Z"
   },
   {
    "duration": 101,
    "start_time": "2024-03-04T16:02:10.975Z"
   },
   {
    "duration": 112,
    "start_time": "2024-03-04T16:02:11.078Z"
   },
   {
    "duration": 111,
    "start_time": "2024-03-04T16:02:11.191Z"
   },
   {
    "duration": 113,
    "start_time": "2024-03-04T16:02:11.303Z"
   },
   {
    "duration": 105,
    "start_time": "2024-03-04T16:02:11.418Z"
   },
   {
    "duration": 102,
    "start_time": "2024-03-04T16:02:11.525Z"
   },
   {
    "duration": 106,
    "start_time": "2024-03-04T16:02:11.629Z"
   },
   {
    "duration": 18,
    "start_time": "2024-03-04T16:02:11.737Z"
   },
   {
    "duration": 188,
    "start_time": "2024-03-04T16:02:11.756Z"
   },
   {
    "duration": 5,
    "start_time": "2024-03-04T16:02:11.945Z"
   },
   {
    "duration": 271,
    "start_time": "2024-03-04T16:02:11.951Z"
   },
   {
    "duration": 5,
    "start_time": "2024-03-04T16:02:12.224Z"
   },
   {
    "duration": 1000,
    "start_time": "2024-03-04T16:03:50.422Z"
   },
   {
    "duration": 973,
    "start_time": "2024-03-04T16:04:04.667Z"
   },
   {
    "duration": 10,
    "start_time": "2024-03-04T16:06:00.586Z"
   },
   {
    "duration": 169,
    "start_time": "2024-03-04T16:07:25.116Z"
   },
   {
    "duration": 12,
    "start_time": "2024-03-04T16:07:37.183Z"
   },
   {
    "duration": 5,
    "start_time": "2024-03-04T16:14:59.400Z"
   },
   {
    "duration": 18,
    "start_time": "2024-03-04T16:15:16.841Z"
   },
   {
    "duration": 279,
    "start_time": "2024-03-04T16:15:18.701Z"
   },
   {
    "duration": 268,
    "start_time": "2024-03-04T16:15:44.423Z"
   },
   {
    "duration": 273,
    "start_time": "2024-03-04T16:15:56.150Z"
   },
   {
    "duration": 287,
    "start_time": "2024-03-04T16:16:08.087Z"
   },
   {
    "duration": 271,
    "start_time": "2024-03-04T16:16:29.312Z"
   },
   {
    "duration": 263,
    "start_time": "2024-03-04T16:17:13.779Z"
   },
   {
    "duration": 266,
    "start_time": "2024-03-04T16:17:46.435Z"
   },
   {
    "duration": 283,
    "start_time": "2024-03-04T16:17:55.975Z"
   },
   {
    "duration": 287,
    "start_time": "2024-03-04T16:18:12.146Z"
   },
   {
    "duration": 369,
    "start_time": "2024-03-04T16:18:21.725Z"
   },
   {
    "duration": 280,
    "start_time": "2024-03-04T16:18:33.169Z"
   },
   {
    "duration": 284,
    "start_time": "2024-03-04T16:18:42.917Z"
   },
   {
    "duration": 71,
    "start_time": "2024-03-04T16:21:07.366Z"
   },
   {
    "duration": 307,
    "start_time": "2024-03-04T16:21:12.663Z"
   },
   {
    "duration": 291,
    "start_time": "2024-03-04T16:21:28.674Z"
   },
   {
    "duration": 271,
    "start_time": "2024-03-04T16:23:06.914Z"
   },
   {
    "duration": 255,
    "start_time": "2024-03-04T16:23:19.303Z"
   },
   {
    "duration": 250,
    "start_time": "2024-03-04T16:24:33.842Z"
   },
   {
    "duration": 253,
    "start_time": "2024-03-04T16:24:42.411Z"
   },
   {
    "duration": 289,
    "start_time": "2024-03-04T16:25:32.549Z"
   },
   {
    "duration": 374,
    "start_time": "2024-03-04T16:26:53.943Z"
   },
   {
    "duration": 284,
    "start_time": "2024-03-04T16:28:33.750Z"
   },
   {
    "duration": 284,
    "start_time": "2024-03-04T16:29:02.757Z"
   },
   {
    "duration": 15,
    "start_time": "2024-03-04T16:29:26.272Z"
   },
   {
    "duration": 1154,
    "start_time": "2024-03-04T16:29:32.475Z"
   },
   {
    "duration": 74,
    "start_time": "2024-03-04T16:29:33.632Z"
   },
   {
    "duration": 23,
    "start_time": "2024-03-04T16:29:33.708Z"
   },
   {
    "duration": 8,
    "start_time": "2024-03-04T16:29:33.733Z"
   },
   {
    "duration": 24,
    "start_time": "2024-03-04T16:29:33.743Z"
   },
   {
    "duration": 12,
    "start_time": "2024-03-04T16:29:33.769Z"
   },
   {
    "duration": 18,
    "start_time": "2024-03-04T16:29:33.783Z"
   },
   {
    "duration": 17,
    "start_time": "2024-03-04T16:29:33.802Z"
   },
   {
    "duration": 17,
    "start_time": "2024-03-04T16:29:33.820Z"
   },
   {
    "duration": 23,
    "start_time": "2024-03-04T16:29:33.839Z"
   },
   {
    "duration": 5,
    "start_time": "2024-03-04T16:29:33.864Z"
   },
   {
    "duration": 10,
    "start_time": "2024-03-04T16:29:33.871Z"
   },
   {
    "duration": 41,
    "start_time": "2024-03-04T16:29:33.882Z"
   },
   {
    "duration": 16,
    "start_time": "2024-03-04T16:29:33.924Z"
   },
   {
    "duration": 6,
    "start_time": "2024-03-04T16:29:33.942Z"
   },
   {
    "duration": 6,
    "start_time": "2024-03-04T16:29:33.949Z"
   },
   {
    "duration": 4,
    "start_time": "2024-03-04T16:29:33.956Z"
   },
   {
    "duration": 5,
    "start_time": "2024-03-04T16:29:33.961Z"
   },
   {
    "duration": 7,
    "start_time": "2024-03-04T16:29:33.967Z"
   },
   {
    "duration": 5,
    "start_time": "2024-03-04T16:29:34.015Z"
   },
   {
    "duration": 5,
    "start_time": "2024-03-04T16:29:34.021Z"
   },
   {
    "duration": 6,
    "start_time": "2024-03-04T16:29:34.027Z"
   },
   {
    "duration": 5,
    "start_time": "2024-03-04T16:29:34.035Z"
   },
   {
    "duration": 5,
    "start_time": "2024-03-04T16:29:34.041Z"
   },
   {
    "duration": 7,
    "start_time": "2024-03-04T16:29:34.047Z"
   },
   {
    "duration": 7,
    "start_time": "2024-03-04T16:29:34.055Z"
   },
   {
    "duration": 6,
    "start_time": "2024-03-04T16:29:34.063Z"
   },
   {
    "duration": 50,
    "start_time": "2024-03-04T16:29:34.073Z"
   },
   {
    "duration": 8,
    "start_time": "2024-03-04T16:29:34.125Z"
   },
   {
    "duration": 16,
    "start_time": "2024-03-04T16:29:34.135Z"
   },
   {
    "duration": 199,
    "start_time": "2024-03-04T16:29:34.153Z"
   },
   {
    "duration": 165,
    "start_time": "2024-03-04T16:29:34.353Z"
   },
   {
    "duration": 16,
    "start_time": "2024-03-04T16:29:34.519Z"
   },
   {
    "duration": 310,
    "start_time": "2024-03-04T16:29:34.537Z"
   },
   {
    "duration": 24,
    "start_time": "2024-03-04T16:29:34.849Z"
   },
   {
    "duration": 4,
    "start_time": "2024-03-04T16:29:34.875Z"
   },
   {
    "duration": 24,
    "start_time": "2024-03-04T16:29:34.880Z"
   },
   {
    "duration": 264,
    "start_time": "2024-03-04T16:29:34.906Z"
   },
   {
    "duration": 13,
    "start_time": "2024-03-04T16:29:35.172Z"
   },
   {
    "duration": 274,
    "start_time": "2024-03-04T16:29:35.186Z"
   },
   {
    "duration": 294,
    "start_time": "2024-03-04T16:29:35.462Z"
   },
   {
    "duration": 202,
    "start_time": "2024-03-04T16:29:35.758Z"
   },
   {
    "duration": 128,
    "start_time": "2024-03-04T16:29:35.962Z"
   },
   {
    "duration": 5,
    "start_time": "2024-03-04T16:29:36.091Z"
   },
   {
    "duration": 260,
    "start_time": "2024-03-04T16:29:36.098Z"
   },
   {
    "duration": 277,
    "start_time": "2024-03-04T16:29:36.359Z"
   },
   {
    "duration": 295,
    "start_time": "2024-03-04T16:29:36.637Z"
   },
   {
    "duration": 24,
    "start_time": "2024-03-04T16:29:36.934Z"
   },
   {
    "duration": 185,
    "start_time": "2024-03-04T16:29:36.960Z"
   },
   {
    "duration": 4,
    "start_time": "2024-03-04T16:29:37.147Z"
   },
   {
    "duration": 115,
    "start_time": "2024-03-04T16:29:37.152Z"
   },
   {
    "duration": 125,
    "start_time": "2024-03-04T16:29:37.269Z"
   },
   {
    "duration": 108,
    "start_time": "2024-03-04T16:29:37.396Z"
   },
   {
    "duration": 116,
    "start_time": "2024-03-04T16:29:37.514Z"
   },
   {
    "duration": 112,
    "start_time": "2024-03-04T16:29:37.632Z"
   },
   {
    "duration": 110,
    "start_time": "2024-03-04T16:29:37.746Z"
   },
   {
    "duration": 111,
    "start_time": "2024-03-04T16:29:37.858Z"
   },
   {
    "duration": 103,
    "start_time": "2024-03-04T16:29:37.971Z"
   },
   {
    "duration": 117,
    "start_time": "2024-03-04T16:29:38.076Z"
   },
   {
    "duration": 28,
    "start_time": "2024-03-04T16:29:38.195Z"
   },
   {
    "duration": 271,
    "start_time": "2024-03-04T16:29:38.224Z"
   },
   {
    "duration": 4,
    "start_time": "2024-03-04T16:29:38.497Z"
   },
   {
    "duration": 157,
    "start_time": "2024-03-04T16:29:38.515Z"
   },
   {
    "duration": 7,
    "start_time": "2024-03-04T16:29:38.674Z"
   },
   {
    "duration": 12,
    "start_time": "2024-03-04T16:32:39.772Z"
   },
   {
    "duration": 214,
    "start_time": "2024-03-04T16:32:43.310Z"
   },
   {
    "duration": 12,
    "start_time": "2024-03-04T16:33:03.298Z"
   },
   {
    "duration": 13,
    "start_time": "2024-03-04T16:35:46.069Z"
   },
   {
    "duration": 15,
    "start_time": "2024-03-04T16:36:10.184Z"
   },
   {
    "duration": 217,
    "start_time": "2024-03-04T16:36:24.026Z"
   },
   {
    "duration": 215,
    "start_time": "2024-03-04T16:36:38.991Z"
   },
   {
    "duration": 11,
    "start_time": "2024-03-04T16:36:49.488Z"
   },
   {
    "duration": 229,
    "start_time": "2024-03-04T16:37:10.150Z"
   },
   {
    "duration": 254,
    "start_time": "2024-03-04T16:37:25.077Z"
   },
   {
    "duration": 119,
    "start_time": "2024-03-04T16:42:45.522Z"
   },
   {
    "duration": 115,
    "start_time": "2024-03-04T16:42:47.951Z"
   },
   {
    "duration": 5,
    "start_time": "2024-03-04T16:42:48.706Z"
   },
   {
    "duration": 310,
    "start_time": "2024-03-04T16:43:25.257Z"
   },
   {
    "duration": 268,
    "start_time": "2024-03-04T16:43:25.837Z"
   },
   {
    "duration": 282,
    "start_time": "2024-03-04T16:43:26.746Z"
   },
   {
    "duration": 238,
    "start_time": "2024-03-04T16:49:21.283Z"
   },
   {
    "duration": 237,
    "start_time": "2024-03-04T16:49:22.998Z"
   },
   {
    "duration": 8,
    "start_time": "2024-03-04T16:59:22.469Z"
   },
   {
    "duration": 115,
    "start_time": "2024-03-04T17:00:00.081Z"
   },
   {
    "duration": 9,
    "start_time": "2024-03-04T17:00:30.874Z"
   },
   {
    "duration": 8,
    "start_time": "2024-03-04T17:01:58.427Z"
   },
   {
    "duration": 8,
    "start_time": "2024-03-04T17:02:02.526Z"
   },
   {
    "duration": 8,
    "start_time": "2024-03-04T17:02:04.320Z"
   },
   {
    "duration": 154,
    "start_time": "2024-03-04T17:15:43.266Z"
   },
   {
    "duration": 1106,
    "start_time": "2024-03-04T17:42:52.444Z"
   },
   {
    "duration": 78,
    "start_time": "2024-03-04T17:42:53.552Z"
   },
   {
    "duration": 18,
    "start_time": "2024-03-04T17:42:53.631Z"
   },
   {
    "duration": 3,
    "start_time": "2024-03-04T17:42:53.650Z"
   },
   {
    "duration": 29,
    "start_time": "2024-03-04T17:42:53.654Z"
   },
   {
    "duration": 10,
    "start_time": "2024-03-04T17:42:53.685Z"
   },
   {
    "duration": 26,
    "start_time": "2024-03-04T17:42:53.696Z"
   },
   {
    "duration": 13,
    "start_time": "2024-03-04T17:42:53.724Z"
   },
   {
    "duration": 18,
    "start_time": "2024-03-04T17:42:53.738Z"
   },
   {
    "duration": 16,
    "start_time": "2024-03-04T17:42:53.759Z"
   },
   {
    "duration": 4,
    "start_time": "2024-03-04T17:42:53.777Z"
   },
   {
    "duration": 12,
    "start_time": "2024-03-04T17:42:53.783Z"
   },
   {
    "duration": 30,
    "start_time": "2024-03-04T17:42:53.797Z"
   },
   {
    "duration": 15,
    "start_time": "2024-03-04T17:42:53.829Z"
   },
   {
    "duration": 7,
    "start_time": "2024-03-04T17:42:53.845Z"
   },
   {
    "duration": 10,
    "start_time": "2024-03-04T17:42:53.854Z"
   },
   {
    "duration": 5,
    "start_time": "2024-03-04T17:42:53.865Z"
   },
   {
    "duration": 7,
    "start_time": "2024-03-04T17:42:53.871Z"
   },
   {
    "duration": 9,
    "start_time": "2024-03-04T17:42:53.880Z"
   },
   {
    "duration": 23,
    "start_time": "2024-03-04T17:42:53.891Z"
   },
   {
    "duration": 5,
    "start_time": "2024-03-04T17:42:53.916Z"
   },
   {
    "duration": 15,
    "start_time": "2024-03-04T17:42:53.923Z"
   },
   {
    "duration": 22,
    "start_time": "2024-03-04T17:42:53.940Z"
   },
   {
    "duration": 18,
    "start_time": "2024-03-04T17:42:53.963Z"
   },
   {
    "duration": 10,
    "start_time": "2024-03-04T17:42:53.983Z"
   },
   {
    "duration": 6,
    "start_time": "2024-03-04T17:42:53.995Z"
   },
   {
    "duration": 7,
    "start_time": "2024-03-04T17:42:54.003Z"
   },
   {
    "duration": 13,
    "start_time": "2024-03-04T17:42:54.013Z"
   },
   {
    "duration": 10,
    "start_time": "2024-03-04T17:42:54.028Z"
   },
   {
    "duration": 16,
    "start_time": "2024-03-04T17:42:54.040Z"
   },
   {
    "duration": 196,
    "start_time": "2024-03-04T17:42:54.057Z"
   },
   {
    "duration": 172,
    "start_time": "2024-03-04T17:42:54.255Z"
   },
   {
    "duration": 17,
    "start_time": "2024-03-04T17:42:54.428Z"
   },
   {
    "duration": 300,
    "start_time": "2024-03-04T17:42:54.447Z"
   },
   {
    "duration": 22,
    "start_time": "2024-03-04T17:42:54.748Z"
   },
   {
    "duration": 10,
    "start_time": "2024-03-04T17:42:54.771Z"
   },
   {
    "duration": 30,
    "start_time": "2024-03-04T17:42:54.782Z"
   },
   {
    "duration": 263,
    "start_time": "2024-03-04T17:42:54.814Z"
   },
   {
    "duration": 12,
    "start_time": "2024-03-04T17:42:55.079Z"
   },
   {
    "duration": 245,
    "start_time": "2024-03-04T17:42:55.093Z"
   },
   {
    "duration": 263,
    "start_time": "2024-03-04T17:42:55.340Z"
   },
   {
    "duration": 12,
    "start_time": "2024-03-04T17:42:55.604Z"
   },
   {
    "duration": 11,
    "start_time": "2024-03-04T17:42:55.618Z"
   },
   {
    "duration": 18,
    "start_time": "2024-03-04T17:42:55.631Z"
   },
   {
    "duration": 8,
    "start_time": "2024-03-04T17:42:55.651Z"
   },
   {
    "duration": 142,
    "start_time": "2024-03-04T17:42:55.660Z"
   },
   {
    "duration": 194,
    "start_time": "2024-03-04T17:42:55.803Z"
   },
   {
    "duration": 5,
    "start_time": "2024-03-04T17:42:55.999Z"
   },
   {
    "duration": 245,
    "start_time": "2024-03-04T17:42:56.015Z"
   },
   {
    "duration": 285,
    "start_time": "2024-03-04T17:42:56.262Z"
   },
   {
    "duration": 274,
    "start_time": "2024-03-04T17:42:56.548Z"
   },
   {
    "duration": 27,
    "start_time": "2024-03-04T17:42:56.823Z"
   },
   {
    "duration": 188,
    "start_time": "2024-03-04T17:42:56.851Z"
   },
   {
    "duration": 4,
    "start_time": "2024-03-04T17:42:57.040Z"
   },
   {
    "duration": 118,
    "start_time": "2024-03-04T17:42:57.045Z"
   },
   {
    "duration": 104,
    "start_time": "2024-03-04T17:42:57.164Z"
   },
   {
    "duration": 121,
    "start_time": "2024-03-04T17:42:57.270Z"
   },
   {
    "duration": 109,
    "start_time": "2024-03-04T17:42:57.393Z"
   },
   {
    "duration": 118,
    "start_time": "2024-03-04T17:42:57.504Z"
   },
   {
    "duration": 116,
    "start_time": "2024-03-04T17:42:57.624Z"
   },
   {
    "duration": 107,
    "start_time": "2024-03-04T17:42:57.742Z"
   },
   {
    "duration": 110,
    "start_time": "2024-03-04T17:42:57.851Z"
   },
   {
    "duration": 109,
    "start_time": "2024-03-04T17:42:57.963Z"
   },
   {
    "duration": 22,
    "start_time": "2024-03-04T17:42:58.073Z"
   },
   {
    "duration": 202,
    "start_time": "2024-03-04T17:42:58.096Z"
   },
   {
    "duration": 5,
    "start_time": "2024-03-04T17:42:58.299Z"
   },
   {
    "duration": 251,
    "start_time": "2024-03-04T17:42:58.305Z"
   },
   {
    "duration": 6,
    "start_time": "2024-03-04T17:42:58.557Z"
   },
   {
    "duration": 98,
    "start_time": "2024-03-04T17:45:14.073Z"
   },
   {
    "duration": 101,
    "start_time": "2024-03-04T17:45:14.950Z"
   },
   {
    "duration": 100,
    "start_time": "2024-03-04T17:45:50.718Z"
   }
  ],
  "kernelspec": {
   "display_name": "Python 3 (ipykernel)",
   "language": "python",
   "name": "python3"
  },
  "language_info": {
   "codemirror_mode": {
    "name": "ipython",
    "version": 3
   },
   "file_extension": ".py",
   "mimetype": "text/x-python",
   "name": "python",
   "nbconvert_exporter": "python",
   "pygments_lexer": "ipython3",
   "version": "3.11.7"
  },
  "toc": {
   "base_numbering": 1,
   "nav_menu": {},
   "number_sections": true,
   "sideBar": true,
   "skip_h1_title": true,
   "title_cell": "Table of Contents",
   "title_sidebar": "Contents",
   "toc_cell": false,
   "toc_position": {},
   "toc_section_display": true,
   "toc_window_display": false
  }
 },
 "nbformat": 4,
 "nbformat_minor": 4
}
