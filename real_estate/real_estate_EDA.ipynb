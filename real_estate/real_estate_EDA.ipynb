{
 "cells": [
  {
   "cell_type": "markdown",
   "metadata": {
    "id": "-VFbjcb3Awb7"
   },
   "source": [
    "# Исследование объявлений о продаже квартир\n",
    "\n",
    "В вашем распоряжении данные сервиса Яндекс Недвижимость — архив объявлений о продаже квартир в Санкт-Петербурге и соседних населённых пунктах за несколько лет. Вам нужно научиться определять рыночную стоимость объектов недвижимости. Для этого проведите исследовательский анализ данных и установите параметры, влияющие на цену объектов. Это позволит построить автоматизированную систему: она отследит аномалии и мошенническую деятельность.\n",
    "\n",
    "По каждой квартире на продажу доступны два вида данных. Первые вписаны пользователем, вторые — получены автоматически на основе картографических данных. Например, расстояние до центра, аэропорта и других объектов — эти данные автоматически получены из геосервисов. Количество парков и водоёмов также заполняется без участия пользователя."
   ]
  },
  {
   "cell_type": "markdown",
   "metadata": {},
   "source": [
    "**План работы**\n",
    "1. Предобработка данных (обработка пропущенных значений, аномалий, явных и неявных дубликатов)\n",
    "2. Создание новых столбцов для дальнейшего анализа\n",
    "3. Исследование данных с исмпользованием графиков и срезов\n",
    "4. Отсекание аномалий для дальнейшего анализа\n",
    "5. Исследование и выявление зависимостей различных метрик выборки"
   ]
  },
  {
   "cell_type": "markdown",
   "metadata": {
    "id": "aeFLH07FAwb9"
   },
   "source": [
    "### Откройте файл с данными и изучите общую информацию"
   ]
  },
  {
   "cell_type": "code",
   "execution_count": 1,
   "metadata": {
    "id": "7MZxY65pAwb9"
   },
   "outputs": [
    {
     "name": "stdout",
     "output_type": "stream",
     "text": [
      "<class 'pandas.core.frame.DataFrame'>\n",
      "RangeIndex: 23699 entries, 0 to 23698\n",
      "Data columns (total 22 columns):\n",
      " #   Column                Non-Null Count  Dtype  \n",
      "---  ------                --------------  -----  \n",
      " 0   total_images          23699 non-null  int64  \n",
      " 1   last_price            23699 non-null  float64\n",
      " 2   total_area            23699 non-null  float64\n",
      " 3   first_day_exposition  23699 non-null  object \n",
      " 4   rooms                 23699 non-null  int64  \n",
      " 5   ceiling_height        14504 non-null  float64\n",
      " 6   floors_total          23613 non-null  float64\n",
      " 7   living_area           21796 non-null  float64\n",
      " 8   floor                 23699 non-null  int64  \n",
      " 9   is_apartment          2775 non-null   object \n",
      " 10  studio                23699 non-null  bool   \n",
      " 11  open_plan             23699 non-null  bool   \n",
      " 12  kitchen_area          21421 non-null  float64\n",
      " 13  balcony               12180 non-null  float64\n",
      " 14  locality_name         23650 non-null  object \n",
      " 15  airports_nearest      18157 non-null  float64\n",
      " 16  cityCenters_nearest   18180 non-null  float64\n",
      " 17  parks_around3000      18181 non-null  float64\n",
      " 18  parks_nearest         8079 non-null   float64\n",
      " 19  ponds_around3000      18181 non-null  float64\n",
      " 20  ponds_nearest         9110 non-null   float64\n",
      " 21  days_exposition       20518 non-null  float64\n",
      "dtypes: bool(2), float64(14), int64(3), object(3)\n",
      "memory usage: 3.7+ MB\n"
     ]
    }
   ],
   "source": [
    "import numpy as np \n",
    "import pandas as pd\n",
    "try:\n",
    "    data = pd.read_csv('/datasets/real_estate_data.csv', sep='\\t')\n",
    "except:\n",
    "    data = pd.read_csv('https://code.s3.yandex.net/datasets/real_estate_data.csv', sep='\\t')\n",
    "\n",
    "data.info()"
   ]
  },
  {
   "cell_type": "code",
   "execution_count": 2,
   "metadata": {},
   "outputs": [
    {
     "data": {
      "text/html": [
       "<div>\n",
       "<style scoped>\n",
       "    .dataframe tbody tr th:only-of-type {\n",
       "        vertical-align: middle;\n",
       "    }\n",
       "\n",
       "    .dataframe tbody tr th {\n",
       "        vertical-align: top;\n",
       "    }\n",
       "\n",
       "    .dataframe thead th {\n",
       "        text-align: right;\n",
       "    }\n",
       "</style>\n",
       "<table border=\"1\" class=\"dataframe\">\n",
       "  <thead>\n",
       "    <tr style=\"text-align: right;\">\n",
       "      <th></th>\n",
       "      <th>total_images</th>\n",
       "      <th>last_price</th>\n",
       "      <th>total_area</th>\n",
       "      <th>first_day_exposition</th>\n",
       "      <th>rooms</th>\n",
       "      <th>ceiling_height</th>\n",
       "      <th>floors_total</th>\n",
       "      <th>living_area</th>\n",
       "      <th>floor</th>\n",
       "      <th>is_apartment</th>\n",
       "      <th>...</th>\n",
       "      <th>kitchen_area</th>\n",
       "      <th>balcony</th>\n",
       "      <th>locality_name</th>\n",
       "      <th>airports_nearest</th>\n",
       "      <th>cityCenters_nearest</th>\n",
       "      <th>parks_around3000</th>\n",
       "      <th>parks_nearest</th>\n",
       "      <th>ponds_around3000</th>\n",
       "      <th>ponds_nearest</th>\n",
       "      <th>days_exposition</th>\n",
       "    </tr>\n",
       "  </thead>\n",
       "  <tbody>\n",
       "    <tr>\n",
       "      <th>0</th>\n",
       "      <td>20</td>\n",
       "      <td>13000000.0</td>\n",
       "      <td>108.00</td>\n",
       "      <td>2019-03-07T00:00:00</td>\n",
       "      <td>3</td>\n",
       "      <td>2.70</td>\n",
       "      <td>16.0</td>\n",
       "      <td>51.00</td>\n",
       "      <td>8</td>\n",
       "      <td>NaN</td>\n",
       "      <td>...</td>\n",
       "      <td>25.00</td>\n",
       "      <td>NaN</td>\n",
       "      <td>Санкт-Петербург</td>\n",
       "      <td>18863.0</td>\n",
       "      <td>16028.0</td>\n",
       "      <td>1.0</td>\n",
       "      <td>482.0</td>\n",
       "      <td>2.0</td>\n",
       "      <td>755.0</td>\n",
       "      <td>NaN</td>\n",
       "    </tr>\n",
       "    <tr>\n",
       "      <th>1</th>\n",
       "      <td>7</td>\n",
       "      <td>3350000.0</td>\n",
       "      <td>40.40</td>\n",
       "      <td>2018-12-04T00:00:00</td>\n",
       "      <td>1</td>\n",
       "      <td>NaN</td>\n",
       "      <td>11.0</td>\n",
       "      <td>18.60</td>\n",
       "      <td>1</td>\n",
       "      <td>NaN</td>\n",
       "      <td>...</td>\n",
       "      <td>11.00</td>\n",
       "      <td>2.0</td>\n",
       "      <td>посёлок Шушары</td>\n",
       "      <td>12817.0</td>\n",
       "      <td>18603.0</td>\n",
       "      <td>0.0</td>\n",
       "      <td>NaN</td>\n",
       "      <td>0.0</td>\n",
       "      <td>NaN</td>\n",
       "      <td>81.0</td>\n",
       "    </tr>\n",
       "    <tr>\n",
       "      <th>2</th>\n",
       "      <td>10</td>\n",
       "      <td>5196000.0</td>\n",
       "      <td>56.00</td>\n",
       "      <td>2015-08-20T00:00:00</td>\n",
       "      <td>2</td>\n",
       "      <td>NaN</td>\n",
       "      <td>5.0</td>\n",
       "      <td>34.30</td>\n",
       "      <td>4</td>\n",
       "      <td>NaN</td>\n",
       "      <td>...</td>\n",
       "      <td>8.30</td>\n",
       "      <td>0.0</td>\n",
       "      <td>Санкт-Петербург</td>\n",
       "      <td>21741.0</td>\n",
       "      <td>13933.0</td>\n",
       "      <td>1.0</td>\n",
       "      <td>90.0</td>\n",
       "      <td>2.0</td>\n",
       "      <td>574.0</td>\n",
       "      <td>558.0</td>\n",
       "    </tr>\n",
       "    <tr>\n",
       "      <th>3</th>\n",
       "      <td>0</td>\n",
       "      <td>64900000.0</td>\n",
       "      <td>159.00</td>\n",
       "      <td>2015-07-24T00:00:00</td>\n",
       "      <td>3</td>\n",
       "      <td>NaN</td>\n",
       "      <td>14.0</td>\n",
       "      <td>NaN</td>\n",
       "      <td>9</td>\n",
       "      <td>NaN</td>\n",
       "      <td>...</td>\n",
       "      <td>NaN</td>\n",
       "      <td>0.0</td>\n",
       "      <td>Санкт-Петербург</td>\n",
       "      <td>28098.0</td>\n",
       "      <td>6800.0</td>\n",
       "      <td>2.0</td>\n",
       "      <td>84.0</td>\n",
       "      <td>3.0</td>\n",
       "      <td>234.0</td>\n",
       "      <td>424.0</td>\n",
       "    </tr>\n",
       "    <tr>\n",
       "      <th>4</th>\n",
       "      <td>2</td>\n",
       "      <td>10000000.0</td>\n",
       "      <td>100.00</td>\n",
       "      <td>2018-06-19T00:00:00</td>\n",
       "      <td>2</td>\n",
       "      <td>3.03</td>\n",
       "      <td>14.0</td>\n",
       "      <td>32.00</td>\n",
       "      <td>13</td>\n",
       "      <td>NaN</td>\n",
       "      <td>...</td>\n",
       "      <td>41.00</td>\n",
       "      <td>NaN</td>\n",
       "      <td>Санкт-Петербург</td>\n",
       "      <td>31856.0</td>\n",
       "      <td>8098.0</td>\n",
       "      <td>2.0</td>\n",
       "      <td>112.0</td>\n",
       "      <td>1.0</td>\n",
       "      <td>48.0</td>\n",
       "      <td>121.0</td>\n",
       "    </tr>\n",
       "    <tr>\n",
       "      <th>5</th>\n",
       "      <td>10</td>\n",
       "      <td>2890000.0</td>\n",
       "      <td>30.40</td>\n",
       "      <td>2018-09-10T00:00:00</td>\n",
       "      <td>1</td>\n",
       "      <td>NaN</td>\n",
       "      <td>12.0</td>\n",
       "      <td>14.40</td>\n",
       "      <td>5</td>\n",
       "      <td>NaN</td>\n",
       "      <td>...</td>\n",
       "      <td>9.10</td>\n",
       "      <td>NaN</td>\n",
       "      <td>городской посёлок Янино-1</td>\n",
       "      <td>NaN</td>\n",
       "      <td>NaN</td>\n",
       "      <td>NaN</td>\n",
       "      <td>NaN</td>\n",
       "      <td>NaN</td>\n",
       "      <td>NaN</td>\n",
       "      <td>55.0</td>\n",
       "    </tr>\n",
       "    <tr>\n",
       "      <th>6</th>\n",
       "      <td>6</td>\n",
       "      <td>3700000.0</td>\n",
       "      <td>37.30</td>\n",
       "      <td>2017-11-02T00:00:00</td>\n",
       "      <td>1</td>\n",
       "      <td>NaN</td>\n",
       "      <td>26.0</td>\n",
       "      <td>10.60</td>\n",
       "      <td>6</td>\n",
       "      <td>NaN</td>\n",
       "      <td>...</td>\n",
       "      <td>14.40</td>\n",
       "      <td>1.0</td>\n",
       "      <td>посёлок Парголово</td>\n",
       "      <td>52996.0</td>\n",
       "      <td>19143.0</td>\n",
       "      <td>0.0</td>\n",
       "      <td>NaN</td>\n",
       "      <td>0.0</td>\n",
       "      <td>NaN</td>\n",
       "      <td>155.0</td>\n",
       "    </tr>\n",
       "    <tr>\n",
       "      <th>7</th>\n",
       "      <td>5</td>\n",
       "      <td>7915000.0</td>\n",
       "      <td>71.60</td>\n",
       "      <td>2019-04-18T00:00:00</td>\n",
       "      <td>2</td>\n",
       "      <td>NaN</td>\n",
       "      <td>24.0</td>\n",
       "      <td>NaN</td>\n",
       "      <td>22</td>\n",
       "      <td>NaN</td>\n",
       "      <td>...</td>\n",
       "      <td>18.90</td>\n",
       "      <td>2.0</td>\n",
       "      <td>Санкт-Петербург</td>\n",
       "      <td>23982.0</td>\n",
       "      <td>11634.0</td>\n",
       "      <td>0.0</td>\n",
       "      <td>NaN</td>\n",
       "      <td>0.0</td>\n",
       "      <td>NaN</td>\n",
       "      <td>NaN</td>\n",
       "    </tr>\n",
       "    <tr>\n",
       "      <th>8</th>\n",
       "      <td>20</td>\n",
       "      <td>2900000.0</td>\n",
       "      <td>33.16</td>\n",
       "      <td>2018-05-23T00:00:00</td>\n",
       "      <td>1</td>\n",
       "      <td>NaN</td>\n",
       "      <td>27.0</td>\n",
       "      <td>15.43</td>\n",
       "      <td>26</td>\n",
       "      <td>NaN</td>\n",
       "      <td>...</td>\n",
       "      <td>8.81</td>\n",
       "      <td>NaN</td>\n",
       "      <td>посёлок Мурино</td>\n",
       "      <td>NaN</td>\n",
       "      <td>NaN</td>\n",
       "      <td>NaN</td>\n",
       "      <td>NaN</td>\n",
       "      <td>NaN</td>\n",
       "      <td>NaN</td>\n",
       "      <td>189.0</td>\n",
       "    </tr>\n",
       "    <tr>\n",
       "      <th>9</th>\n",
       "      <td>18</td>\n",
       "      <td>5400000.0</td>\n",
       "      <td>61.00</td>\n",
       "      <td>2017-02-26T00:00:00</td>\n",
       "      <td>3</td>\n",
       "      <td>2.50</td>\n",
       "      <td>9.0</td>\n",
       "      <td>43.60</td>\n",
       "      <td>7</td>\n",
       "      <td>NaN</td>\n",
       "      <td>...</td>\n",
       "      <td>6.50</td>\n",
       "      <td>2.0</td>\n",
       "      <td>Санкт-Петербург</td>\n",
       "      <td>50898.0</td>\n",
       "      <td>15008.0</td>\n",
       "      <td>0.0</td>\n",
       "      <td>NaN</td>\n",
       "      <td>0.0</td>\n",
       "      <td>NaN</td>\n",
       "      <td>289.0</td>\n",
       "    </tr>\n",
       "  </tbody>\n",
       "</table>\n",
       "<p>10 rows × 22 columns</p>\n",
       "</div>"
      ],
      "text/plain": [
       "   total_images  last_price  total_area first_day_exposition  rooms  \\\n",
       "0            20  13000000.0      108.00  2019-03-07T00:00:00      3   \n",
       "1             7   3350000.0       40.40  2018-12-04T00:00:00      1   \n",
       "2            10   5196000.0       56.00  2015-08-20T00:00:00      2   \n",
       "3             0  64900000.0      159.00  2015-07-24T00:00:00      3   \n",
       "4             2  10000000.0      100.00  2018-06-19T00:00:00      2   \n",
       "5            10   2890000.0       30.40  2018-09-10T00:00:00      1   \n",
       "6             6   3700000.0       37.30  2017-11-02T00:00:00      1   \n",
       "7             5   7915000.0       71.60  2019-04-18T00:00:00      2   \n",
       "8            20   2900000.0       33.16  2018-05-23T00:00:00      1   \n",
       "9            18   5400000.0       61.00  2017-02-26T00:00:00      3   \n",
       "\n",
       "   ceiling_height  floors_total  living_area  floor is_apartment  ...  \\\n",
       "0            2.70          16.0        51.00      8          NaN  ...   \n",
       "1             NaN          11.0        18.60      1          NaN  ...   \n",
       "2             NaN           5.0        34.30      4          NaN  ...   \n",
       "3             NaN          14.0          NaN      9          NaN  ...   \n",
       "4            3.03          14.0        32.00     13          NaN  ...   \n",
       "5             NaN          12.0        14.40      5          NaN  ...   \n",
       "6             NaN          26.0        10.60      6          NaN  ...   \n",
       "7             NaN          24.0          NaN     22          NaN  ...   \n",
       "8             NaN          27.0        15.43     26          NaN  ...   \n",
       "9            2.50           9.0        43.60      7          NaN  ...   \n",
       "\n",
       "   kitchen_area  balcony              locality_name  airports_nearest  \\\n",
       "0         25.00      NaN            Санкт-Петербург           18863.0   \n",
       "1         11.00      2.0             посёлок Шушары           12817.0   \n",
       "2          8.30      0.0            Санкт-Петербург           21741.0   \n",
       "3           NaN      0.0            Санкт-Петербург           28098.0   \n",
       "4         41.00      NaN            Санкт-Петербург           31856.0   \n",
       "5          9.10      NaN  городской посёлок Янино-1               NaN   \n",
       "6         14.40      1.0          посёлок Парголово           52996.0   \n",
       "7         18.90      2.0            Санкт-Петербург           23982.0   \n",
       "8          8.81      NaN             посёлок Мурино               NaN   \n",
       "9          6.50      2.0            Санкт-Петербург           50898.0   \n",
       "\n",
       "  cityCenters_nearest  parks_around3000  parks_nearest  ponds_around3000  \\\n",
       "0             16028.0               1.0          482.0               2.0   \n",
       "1             18603.0               0.0            NaN               0.0   \n",
       "2             13933.0               1.0           90.0               2.0   \n",
       "3              6800.0               2.0           84.0               3.0   \n",
       "4              8098.0               2.0          112.0               1.0   \n",
       "5                 NaN               NaN            NaN               NaN   \n",
       "6             19143.0               0.0            NaN               0.0   \n",
       "7             11634.0               0.0            NaN               0.0   \n",
       "8                 NaN               NaN            NaN               NaN   \n",
       "9             15008.0               0.0            NaN               0.0   \n",
       "\n",
       "   ponds_nearest  days_exposition  \n",
       "0          755.0              NaN  \n",
       "1            NaN             81.0  \n",
       "2          574.0            558.0  \n",
       "3          234.0            424.0  \n",
       "4           48.0            121.0  \n",
       "5            NaN             55.0  \n",
       "6            NaN            155.0  \n",
       "7            NaN              NaN  \n",
       "8            NaN            189.0  \n",
       "9            NaN            289.0  \n",
       "\n",
       "[10 rows x 22 columns]"
      ]
     },
     "execution_count": 2,
     "metadata": {},
     "output_type": "execute_result"
    }
   ],
   "source": [
    "data.head(10)"
   ]
  },
  {
   "cell_type": "code",
   "execution_count": 3,
   "metadata": {},
   "outputs": [
    {
     "data": {
      "text/plain": [
       "array([[<AxesSubplot:title={'center':'total_images'}>,\n",
       "        <AxesSubplot:title={'center':'last_price'}>,\n",
       "        <AxesSubplot:title={'center':'total_area'}>,\n",
       "        <AxesSubplot:title={'center':'rooms'}>],\n",
       "       [<AxesSubplot:title={'center':'ceiling_height'}>,\n",
       "        <AxesSubplot:title={'center':'floors_total'}>,\n",
       "        <AxesSubplot:title={'center':'living_area'}>,\n",
       "        <AxesSubplot:title={'center':'floor'}>],\n",
       "       [<AxesSubplot:title={'center':'kitchen_area'}>,\n",
       "        <AxesSubplot:title={'center':'balcony'}>,\n",
       "        <AxesSubplot:title={'center':'airports_nearest'}>,\n",
       "        <AxesSubplot:title={'center':'cityCenters_nearest'}>],\n",
       "       [<AxesSubplot:title={'center':'parks_around3000'}>,\n",
       "        <AxesSubplot:title={'center':'parks_nearest'}>,\n",
       "        <AxesSubplot:title={'center':'ponds_around3000'}>,\n",
       "        <AxesSubplot:title={'center':'ponds_nearest'}>],\n",
       "       [<AxesSubplot:title={'center':'days_exposition'}>, <AxesSubplot:>,\n",
       "        <AxesSubplot:>, <AxesSubplot:>]], dtype=object)"
      ]
     },
     "execution_count": 3,
     "metadata": {},
     "output_type": "execute_result"
    },
    {
     "data": {
      "image/png": "[encoded data removed]",
      "text/plain": [
       "<Figure size 1080x1440 with 20 Axes>"
      ]
     },
     "metadata": {
      "needs_background": "light"
     },
     "output_type": "display_data"
    }
   ],
   "source": [
    "data.hist(figsize=(15,20))"
   ]
  },
  {
   "cell_type": "markdown",
   "metadata": {
    "id": "-O5NtivEAwb9"
   },
   "source": [
    "### Выполните предобработку данных"
   ]
  },
  {
   "cell_type": "code",
   "execution_count": 4,
   "metadata": {
    "id": "7v3vAeTuAwb-"
   },
   "outputs": [
    {
     "data": {
      "text/plain": [
       "total_images                0\n",
       "last_price                  0\n",
       "total_area                  0\n",
       "first_day_exposition        0\n",
       "rooms                       0\n",
       "ceiling_height           9195\n",
       "floors_total               86\n",
       "living_area              1903\n",
       "floor                       0\n",
       "is_apartment            20924\n",
       "studio                      0\n",
       "open_plan                   0\n",
       "kitchen_area             2278\n",
       "balcony                 11519\n",
       "locality_name              49\n",
       "airports_nearest         5542\n",
       "cityCenters_nearest      5519\n",
       "parks_around3000         5518\n",
       "parks_nearest           15620\n",
       "ponds_around3000         5518\n",
       "ponds_nearest           14589\n",
       "days_exposition          3181\n",
       "dtype: int64"
      ]
     },
     "execution_count": 4,
     "metadata": {},
     "output_type": "execute_result"
    }
   ],
   "source": [
    "data.isna().sum() #найдем нулевые занчения по всем столбцам"
   ]
  },
  {
   "cell_type": "markdown",
   "metadata": {},
   "source": [
    "#### Обработка пропущенных значений в столбцах"
   ]
  },
  {
   "cell_type": "code",
   "execution_count": 5,
   "metadata": {},
   "outputs": [],
   "source": [
    "#т.к. количество пустых значений в столбцах <1% от общего числа строк, удалим строки с пустыми значениями в этих столбцах\n",
    "data=data.dropna(subset=['floors_total','locality_name']) "
   ]
  },
  {
   "cell_type": "markdown",
   "metadata": {},
   "source": [
    "Обработка пропусков в столбце ceiling_height"
   ]
  },
  {
   "cell_type": "code",
   "execution_count": 6,
   "metadata": {},
   "outputs": [
    {
     "data": {
      "text/plain": [
       "array([  2.7 ,    nan,   3.03,   2.5 ,   2.67,   2.56,   3.05,   2.75,\n",
       "         2.6 ,   2.9 ,   2.8 ,   2.55,   3.  ,   2.65,   3.2 ,   2.61,\n",
       "         3.25,   3.45,   2.77,   2.85,   2.64,   2.57,   4.15,   3.5 ,\n",
       "         3.3 ,   2.71,   4.  ,   2.47,   2.73,   2.84,   3.1 ,   2.34,\n",
       "         3.4 ,   3.06,   2.72,   2.54,   2.51,   2.78,   2.76,  25.  ,\n",
       "         2.58,   3.7 ,   2.52,   5.2 ,   2.87,   2.66,   2.59,   2.  ,\n",
       "         2.45,   3.6 ,   2.92,   3.11,   3.13,   3.8 ,   3.15,   3.55,\n",
       "         3.16,   3.62,   3.12,   2.53,   2.74,   2.96,   2.46,   5.3 ,\n",
       "         5.  ,   2.79,   2.95,   4.06,   2.94,   3.82,   3.54,   3.53,\n",
       "         2.83,   4.7 ,   2.4 ,   3.38,   3.01,   5.6 ,   3.65,   3.9 ,\n",
       "         3.18,   3.35,   2.3 ,   3.57,   2.48,   2.62,   2.82,   3.98,\n",
       "         2.63,   3.83,   3.52,   3.95,   3.75,   2.88,   3.67,   3.87,\n",
       "         3.66,   3.85,   3.86,   4.19,   3.24,   4.8 ,   4.5 ,   4.2 ,\n",
       "         3.36,  32.  ,   3.08,   3.68,   3.07,   3.37,   3.09,   8.  ,\n",
       "         3.26,   3.34,   2.81,   3.44,   2.97,   3.14,   4.37,   2.68,\n",
       "         3.22,   3.27,  27.  ,   4.1 ,   2.93,   3.46,  24.  ,   3.47,\n",
       "         3.33,   3.63,   3.32,  26.  ,   1.2 ,   8.3 ,   2.98,   2.86,\n",
       "         3.17,   4.4 ,   3.28,   3.04,   4.45,   5.5 ,   3.84,   3.23,\n",
       "         3.02,   3.21,   3.43,   3.78,   4.3 ,   3.39,   2.69,   3.31,\n",
       "         4.65,   3.56,   2.2 ,   3.51,   3.93,   3.42,   2.99,   3.49,\n",
       "        14.  ,   4.14,   2.91,   3.88,   1.75,   4.25,   3.29,  20.  ,\n",
       "         2.25,   3.76,   3.69,   6.  ,  22.6 ,   2.89,   3.58,   5.8 ,\n",
       "        27.5 ,   2.49,   4.9 ,   3.48,  10.3 ,   1.  , 100.  ,   3.59])"
      ]
     },
     "execution_count": 6,
     "metadata": {},
     "output_type": "execute_result"
    }
   ],
   "source": [
    "data['ceiling_height'].unique()"
   ]
  },
  {
   "cell_type": "code",
   "execution_count": 7,
   "metadata": {},
   "outputs": [],
   "source": [
    "# видно что есть не только нулевые значения высоты потолка но и аномальные \n",
    "# примем что это опечатки в запятой и значения более 11 метров уменьшим в 10 раз для дальнейшей обработки\n",
    "data.loc[data['ceiling_height']>11 , 'ceiling_height'] = data['ceiling_height']*0.1"
   ]
  },
  {
   "cell_type": "code",
   "execution_count": 8,
   "metadata": {},
   "outputs": [
    {
     "data": {
      "text/plain": [
       "floors_total\n",
       "1.0     2.80\n",
       "2.0     2.70\n",
       "3.0     2.80\n",
       "4.0     3.00\n",
       "5.0     2.55\n",
       "6.0     3.00\n",
       "7.0     3.00\n",
       "8.0     2.80\n",
       "9.0     2.55\n",
       "10.0    2.60\n",
       "11.0    2.75\n",
       "12.0    2.65\n",
       "13.0    2.70\n",
       "14.0    2.60\n",
       "15.0    2.70\n",
       "16.0    2.70\n",
       "17.0    2.70\n",
       "18.0    2.70\n",
       "19.0    2.75\n",
       "20.0    2.75\n",
       "21.0    2.70\n",
       "22.0    2.75\n",
       "23.0    2.75\n",
       "24.0    2.75\n",
       "25.0    2.75\n",
       "26.0    2.66\n",
       "27.0    2.70\n",
       "28.0    2.60\n",
       "29.0    2.60\n",
       "33.0     NaN\n",
       "34.0    2.65\n",
       "35.0    2.70\n",
       "36.0    2.70\n",
       "37.0    1.75\n",
       "52.0    2.65\n",
       "60.0    2.88\n",
       "Name: ceiling_height, dtype: float64"
      ]
     },
     "execution_count": 8,
     "metadata": {},
     "output_type": "execute_result"
    }
   ],
   "source": [
    "#высота потолка в квартире зависит в том числе от этажности здания, буду заполнять высоту потолков медианным значением по этажности зданий\n",
    "data.groupby('floors_total')['ceiling_height'].agg('median')"
   ]
  },
  {
   "cell_type": "code",
   "execution_count": 9,
   "metadata": {},
   "outputs": [],
   "source": [
    "#высота потолка в квартире зависит в том числе от этажности здания, буду заполнять высоту потолков медианным значением по этажности зданий\n",
    "data.loc[data['floors_total'] == 33, 'ceiling_height'] = data['ceiling_height'].median() # закроем аномалию для 33 этажного здания общей медианой \n",
    "#заменим пустые значения медианами по этажности зданий\n",
    "for t in data['floors_total'].unique():\n",
    "    data.loc[(data['floors_total'] == t) & (data['ceiling_height'].isna()), 'ceiling_height'] = data.loc[\n",
    "            (data['floors_total'] == t), 'ceiling_height'].median()\n",
    "  \n",
    "        "
   ]
  },
  {
   "cell_type": "code",
   "execution_count": 10,
   "metadata": {},
   "outputs": [],
   "source": [
    "#предполагаю что стобец is_apartment не заполнен для тех квартир, которые не являются аппартаментами, поэтому заполню пропуски значение False\n",
    "data.loc[data['is_apartment'].isna(), 'is_apartment'] = False\n",
    "\n",
    "# если не указано число балконов, то скорее всего их нет, заменим пустые значения на 0 и сменим тип столбца на целочисленный\n",
    "data.loc[data['balcony'].isna(), 'balcony'] = 0\n"
   ]
  },
  {
   "cell_type": "markdown",
   "metadata": {},
   "source": [
    "Обработка пропустков в столбцах living_area и kitchen_area"
   ]
  },
  {
   "cell_type": "code",
   "execution_count": 11,
   "metadata": {},
   "outputs": [
    {
     "data": {
      "text/plain": [
       "0.9397711143610334"
      ]
     },
     "execution_count": 11,
     "metadata": {},
     "output_type": "execute_result"
    }
   ],
   "source": [
    "data['living_area'].corr(data['total_area'])"
   ]
  },
  {
   "cell_type": "code",
   "execution_count": 12,
   "metadata": {},
   "outputs": [
    {
     "data": {
      "text/plain": [
       "0.6092476784548312"
      ]
     },
     "execution_count": 12,
     "metadata": {},
     "output_type": "execute_result"
    }
   ],
   "source": [
    "data['kitchen_area'].corr(data['total_area'])"
   ]
  },
  {
   "cell_type": "markdown",
   "metadata": {},
   "source": [
    "    Площадь кухни и жилая площадь зависят от общей площади квартиры, т.к. в выборке нет данных о санузлах и нежилых помещениях, то посчитаем отношение средней жилой площади к средней общей площади и заполним пустые значения умножив жилую площадь на полученный коэффициент. Тоже самое проделаем с площадью кухни.\n"
   ]
  },
  {
   "cell_type": "code",
   "execution_count": 13,
   "metadata": {},
   "outputs": [],
   "source": [
    "Living_k = data['living_area'].mean()/data['total_area'].mean()\n",
    "kitchen_k = data['kitchen_area'].mean()/data['total_area'].mean()\n",
    "\n",
    "data.loc[data['living_area'].isna(), 'living_area'] = data['total_area']*Living_k\n",
    "data.loc[data['kitchen_area'].isna(), 'kitchen_area'] = data['total_area']*kitchen_k\n",
    "\n"
   ]
  },
  {
   "cell_type": "code",
   "execution_count": 14,
   "metadata": {},
   "outputs": [],
   "source": [
    "#пропуски в столбце days_exposition заполняем медианным значением по всей выборке\n",
    "#data.loc[data['days_exposition'].isna(), 'days_exposition'] = data['days_exposition'].median()       "
   ]
  },
  {
   "cell_type": "code",
   "execution_count": 15,
   "metadata": {},
   "outputs": [
    {
     "data": {
      "text/html": [
       "<div>\n",
       "<style scoped>\n",
       "    .dataframe tbody tr th:only-of-type {\n",
       "        vertical-align: middle;\n",
       "    }\n",
       "\n",
       "    .dataframe tbody tr th {\n",
       "        vertical-align: top;\n",
       "    }\n",
       "\n",
       "    .dataframe thead th {\n",
       "        text-align: right;\n",
       "    }\n",
       "</style>\n",
       "<table border=\"1\" class=\"dataframe\">\n",
       "  <thead>\n",
       "    <tr style=\"text-align: right;\">\n",
       "      <th></th>\n",
       "      <th>first_day_exposition</th>\n",
       "    </tr>\n",
       "    <tr>\n",
       "      <th>year_exposition</th>\n",
       "      <th></th>\n",
       "    </tr>\n",
       "  </thead>\n",
       "  <tbody>\n",
       "    <tr>\n",
       "      <th>2014</th>\n",
       "      <td>18</td>\n",
       "    </tr>\n",
       "    <tr>\n",
       "      <th>2015</th>\n",
       "      <td>70</td>\n",
       "    </tr>\n",
       "    <tr>\n",
       "      <th>2016</th>\n",
       "      <td>67</td>\n",
       "    </tr>\n",
       "    <tr>\n",
       "      <th>2017</th>\n",
       "      <td>271</td>\n",
       "    </tr>\n",
       "    <tr>\n",
       "      <th>2018</th>\n",
       "      <td>957</td>\n",
       "    </tr>\n",
       "    <tr>\n",
       "      <th>2019</th>\n",
       "      <td>1788</td>\n",
       "    </tr>\n",
       "  </tbody>\n",
       "</table>\n",
       "</div>"
      ],
      "text/plain": [
       "                 first_day_exposition\n",
       "year_exposition                      \n",
       "2014                               18\n",
       "2015                               70\n",
       "2016                               67\n",
       "2017                              271\n",
       "2018                              957\n",
       "2019                             1788"
      ]
     },
     "execution_count": 15,
     "metadata": {},
     "output_type": "execute_result"
    }
   ],
   "source": [
    "data['first_day_exposition'] = pd.to_datetime(data['first_day_exposition'], format='%Y-%m-%dT%H:%M:%S')\n",
    "data['first_day_exposition'] = data['first_day_exposition'].dt.round('1D')\n",
    "data['year_exposition'] = data['first_day_exposition'].dt.year\n",
    "data_exposition = data.loc[data['days_exposition'].isna()] \n",
    "data_exposition.pivot_table(index='year_exposition', values='first_day_exposition', aggfunc='count')"
   ]
  },
  {
   "cell_type": "markdown",
   "metadata": {},
   "source": [
    "\n",
    "    При анализе данных в столбце days_exposition по годам, стало ясно что большая часть пропущенных значений в этом столбце с датой публикации в 2019 году, т.е. вероятнее всего это еще не проданные квартиры. В таком случае пропуски не следует считать случайными, попробуем проводить анализ оставив этот столбец как есть\n"
   ]
  },
  {
   "cell_type": "code",
   "execution_count": 16,
   "metadata": {},
   "outputs": [
    {
     "data": {
      "text/plain": [
       "total_images                0\n",
       "last_price                  0\n",
       "total_area                  0\n",
       "first_day_exposition        0\n",
       "rooms                       0\n",
       "ceiling_height              0\n",
       "floors_total                0\n",
       "living_area                 0\n",
       "floor                       0\n",
       "is_apartment                0\n",
       "studio                      0\n",
       "open_plan                   0\n",
       "kitchen_area                0\n",
       "balcony                     0\n",
       "locality_name               0\n",
       "airports_nearest         5524\n",
       "cityCenters_nearest      5501\n",
       "parks_around3000         5500\n",
       "parks_nearest           15535\n",
       "ponds_around3000         5500\n",
       "ponds_nearest           14529\n",
       "days_exposition          3171\n",
       "year_exposition             0\n",
       "dtype: int64"
      ]
     },
     "execution_count": 16,
     "metadata": {},
     "output_type": "execute_result"
    }
   ],
   "source": [
    "data.isna().sum() #проверим нулевые значения по всем столбцам"
   ]
  },
  {
   "cell_type": "markdown",
   "metadata": {},
   "source": [
    "    Были обработаны пустые значения в столбцах, которые по условию задачи заполняются пользователем, таким образом можно считать что большая часть пропущенных данных образовалась из-за человеческого фактора (не указан признак в виду его отсутсвия, не заполнено количество балконов если их нет, пропущены по ошибке данные и тд).\n",
    "    Остальные столбцы с нулевыми значениями по условиям задачи получены на основе картографических данных и они заполняются без участия пользователей, поэтому оставим их как есть. Предположу, что могла быть какая-либо техническая ошибка. Так же отмечу, что для столбца с количеством парков parks_around3000  в радиусе 3км = 0 значение в стобце parks_nearest = NaN, такая же ситуация для столбцов с водоемами."
   ]
  },
  {
   "cell_type": "markdown",
   "metadata": {},
   "source": [
    "#### Изменение типов данных в столбцах"
   ]
  },
  {
   "cell_type": "code",
   "execution_count": 17,
   "metadata": {},
   "outputs": [],
   "source": [
    "# изменим типы данных в некоторых столбцах для удобства работы с ними\n",
    "data['floors_total'] = data['floors_total'].astype(int) \n",
    "data['is_apartment'] = data['is_apartment'].astype(bool)\n",
    "data['balcony'] = data['balcony'].astype(int)\n",
    "#data['days_exposition'] = data['days_exposition'].astype(int)"
   ]
  },
  {
   "cell_type": "code",
   "execution_count": 18,
   "metadata": {},
   "outputs": [],
   "source": [
    "# столбец с датой размещения объявления приведем к соответствующему формату\n",
    "#data['first_day_exposition'] = pd.to_datetime(data['first_day_exposition'], format='%Y-%m-%dT%H:%M:%S')\n",
    "#data['first_day_exposition'] = data['first_day_exposition'].dt.round('1D')"
   ]
  },
  {
   "cell_type": "code",
   "execution_count": 19,
   "metadata": {},
   "outputs": [
    {
     "name": "stdout",
     "output_type": "stream",
     "text": [
      "<class 'pandas.core.frame.DataFrame'>\n",
      "Int64Index: 23565 entries, 0 to 23698\n",
      "Data columns (total 23 columns):\n",
      " #   Column                Non-Null Count  Dtype         \n",
      "---  ------                --------------  -----         \n",
      " 0   total_images          23565 non-null  int64         \n",
      " 1   last_price            23565 non-null  float64       \n",
      " 2   total_area            23565 non-null  float64       \n",
      " 3   first_day_exposition  23565 non-null  datetime64[ns]\n",
      " 4   rooms                 23565 non-null  int64         \n",
      " 5   ceiling_height        23565 non-null  float64       \n",
      " 6   floors_total          23565 non-null  int64         \n",
      " 7   living_area           23565 non-null  float64       \n",
      " 8   floor                 23565 non-null  int64         \n",
      " 9   is_apartment          23565 non-null  bool          \n",
      " 10  studio                23565 non-null  bool          \n",
      " 11  open_plan             23565 non-null  bool          \n",
      " 12  kitchen_area          23565 non-null  float64       \n",
      " 13  balcony               23565 non-null  int64         \n",
      " 14  locality_name         23565 non-null  object        \n",
      " 15  airports_nearest      18041 non-null  float64       \n",
      " 16  cityCenters_nearest   18064 non-null  float64       \n",
      " 17  parks_around3000      18065 non-null  float64       \n",
      " 18  parks_nearest         8030 non-null   float64       \n",
      " 19  ponds_around3000      18065 non-null  float64       \n",
      " 20  ponds_nearest         9036 non-null   float64       \n",
      " 21  days_exposition       20394 non-null  float64       \n",
      " 22  year_exposition       23565 non-null  int64         \n",
      "dtypes: bool(3), datetime64[ns](1), float64(12), int64(6), object(1)\n",
      "memory usage: 4.3+ MB\n"
     ]
    }
   ],
   "source": [
    "data.info()"
   ]
  },
  {
   "cell_type": "markdown",
   "metadata": {},
   "source": [
    "Изменение типов данных в столбцах необходимо для удобства при анализе данных, при построении графиков и вывода результатов. Также от типа данных зависит скорость работы кода и используемая память"
   ]
  },
  {
   "cell_type": "markdown",
   "metadata": {},
   "source": [
    "#### Устранение неявных дубликатов в столбце locality_name\n"
   ]
  },
  {
   "cell_type": "code",
   "execution_count": 20,
   "metadata": {},
   "outputs": [
    {
     "data": {
      "text/plain": [
       "['бокситогорск',\n",
       " 'волосово',\n",
       " 'волхов',\n",
       " 'всеволожск',\n",
       " 'выборг',\n",
       " 'высоцк',\n",
       " 'гатчина',\n",
       " 'городской поселок большая ижора',\n",
       " 'городской поселок янино-1',\n",
       " 'городской посёлок будогощь',\n",
       " 'городской посёлок виллози',\n",
       " 'городской посёлок лесогорский',\n",
       " 'городской посёлок мга',\n",
       " 'городской посёлок назия',\n",
       " 'городской посёлок новоселье',\n",
       " 'городской посёлок павлово',\n",
       " 'городской посёлок рощино',\n",
       " 'городской посёлок свирьстрой',\n",
       " 'городской посёлок советский',\n",
       " 'городской посёлок фёдоровское',\n",
       " 'городской посёлок янино-1',\n",
       " 'деревня агалатово',\n",
       " 'деревня аро',\n",
       " 'деревня батово',\n",
       " 'деревня бегуницы',\n",
       " 'деревня белогорка',\n",
       " 'деревня большая вруда',\n",
       " 'деревня большая пустомержа',\n",
       " 'деревня большие колпаны',\n",
       " 'деревня большое рейзино',\n",
       " 'деревня большой сабск',\n",
       " 'деревня бор',\n",
       " 'деревня борисова грива',\n",
       " 'деревня ваганово',\n",
       " 'деревня вартемяги',\n",
       " 'деревня вахнова кара',\n",
       " 'деревня выскатка',\n",
       " 'деревня гарболово',\n",
       " 'деревня глинка',\n",
       " 'деревня горбунки',\n",
       " 'деревня гостилицы',\n",
       " 'деревня заклинье',\n",
       " 'деревня заневка',\n",
       " 'деревня зимитицы',\n",
       " 'деревня извара',\n",
       " 'деревня иссад',\n",
       " 'деревня калитино',\n",
       " 'деревня кальтино',\n",
       " 'деревня камышовка',\n",
       " 'деревня каськово',\n",
       " 'деревня келози',\n",
       " 'деревня кипень',\n",
       " 'деревня кисельня',\n",
       " 'деревня колтуши',\n",
       " 'деревня коркино',\n",
       " 'деревня котлы',\n",
       " 'деревня кривко',\n",
       " 'деревня кудрово',\n",
       " 'деревня кузьмолово',\n",
       " 'деревня курковицы',\n",
       " 'деревня куровицы',\n",
       " 'деревня куттузи',\n",
       " 'деревня лаврики',\n",
       " 'деревня лаголово',\n",
       " 'деревня лампово',\n",
       " 'деревня лесколово',\n",
       " 'деревня лопухинка',\n",
       " 'деревня лупполово',\n",
       " 'деревня малая романовка',\n",
       " 'деревня малое верево',\n",
       " 'деревня малое карлино',\n",
       " 'деревня малые колпаны',\n",
       " 'деревня мануйлово',\n",
       " 'деревня меньково',\n",
       " 'деревня мины',\n",
       " 'деревня мистолово',\n",
       " 'деревня ненимяки',\n",
       " 'деревня нижние осельки',\n",
       " 'деревня нижняя',\n",
       " 'деревня низино',\n",
       " 'деревня новое девяткино',\n",
       " 'деревня новолисино',\n",
       " 'деревня нурма',\n",
       " 'деревня оржицы',\n",
       " 'деревня парицы',\n",
       " 'деревня пельгора',\n",
       " 'деревня пеники',\n",
       " 'деревня пижма',\n",
       " 'деревня пикколово',\n",
       " 'деревня пудомяги',\n",
       " 'деревня пустынка',\n",
       " 'деревня пчева',\n",
       " 'деревня рабитицы',\n",
       " 'деревня разбегаево',\n",
       " 'деревня раздолье',\n",
       " 'деревня разметелево',\n",
       " 'деревня рапполово',\n",
       " 'деревня реброво',\n",
       " 'деревня русско',\n",
       " 'деревня сижно',\n",
       " 'деревня снегирёвка',\n",
       " 'деревня старая',\n",
       " 'деревня старая пустошь',\n",
       " 'деревня старое хинколово',\n",
       " 'деревня старополье',\n",
       " 'деревня старосиверская',\n",
       " 'деревня старые бегуницы',\n",
       " 'деревня суоранда',\n",
       " 'деревня сяськелево',\n",
       " 'деревня тарасово',\n",
       " 'деревня терпилицы',\n",
       " 'деревня тихковицы',\n",
       " 'деревня тойворово',\n",
       " 'деревня торосово',\n",
       " 'деревня торошковичи',\n",
       " 'деревня трубников бор',\n",
       " 'деревня фалилеево',\n",
       " 'деревня фёдоровское',\n",
       " 'деревня хапо-ое',\n",
       " 'деревня хязельки',\n",
       " 'деревня чудской бор',\n",
       " 'деревня шпаньково',\n",
       " 'деревня щеглово',\n",
       " 'деревня юкки',\n",
       " 'деревня ялгино',\n",
       " 'деревня яльгелево',\n",
       " 'деревня ям-тесово',\n",
       " 'зеленогорск',\n",
       " 'ивангород',\n",
       " 'каменногорск',\n",
       " 'кингисепп',\n",
       " 'кириши',\n",
       " 'кировск',\n",
       " 'колпино',\n",
       " 'коммунар',\n",
       " 'коттеджный поселок кивеннапа север',\n",
       " 'коттеджный поселок счастье',\n",
       " 'коттеджный посёлок лесное',\n",
       " 'красное село',\n",
       " 'кронштадт',\n",
       " 'кудрово',\n",
       " 'лодейное поле',\n",
       " 'ломоносов',\n",
       " 'луга',\n",
       " 'любань',\n",
       " 'мурино',\n",
       " 'никольское',\n",
       " 'новая ладога',\n",
       " 'отрадное',\n",
       " 'павловск',\n",
       " 'петергоф',\n",
       " 'пикалёво',\n",
       " 'подпорожье',\n",
       " 'поселок аннино',\n",
       " 'поселок барышево',\n",
       " 'поселок бугры',\n",
       " 'поселок возрождение',\n",
       " 'поселок войсковицы',\n",
       " 'поселок володарское',\n",
       " 'поселок гаврилово',\n",
       " 'поселок гарболово',\n",
       " 'поселок гладкое',\n",
       " 'поселок глажево',\n",
       " 'поселок глебычево',\n",
       " 'поселок гончарово',\n",
       " 'поселок городского типа большая ижора',\n",
       " 'поселок городского типа вырица',\n",
       " 'поселок городского типа дружная горка',\n",
       " 'поселок городского типа дубровка',\n",
       " 'поселок городского типа ефимовский',\n",
       " 'поселок городского типа имени свердлова',\n",
       " 'поселок городского типа кондратьево',\n",
       " 'поселок городского типа красный бор',\n",
       " 'поселок городского типа кузьмоловский',\n",
       " 'поселок городского типа лебяжье',\n",
       " 'поселок городского типа лесогорский',\n",
       " 'поселок городского типа назия',\n",
       " 'поселок городского типа никольский',\n",
       " 'поселок городского типа приладожский',\n",
       " 'поселок городского типа рахья',\n",
       " 'поселок городского типа рощино',\n",
       " 'поселок городского типа рябово',\n",
       " 'поселок городского типа синявино',\n",
       " 'поселок городского типа советский',\n",
       " 'поселок городского типа токсово',\n",
       " 'поселок городского типа форносово',\n",
       " 'поселок громово',\n",
       " 'поселок дружноселье',\n",
       " 'поселок елизаветино',\n",
       " 'поселок жилгородок',\n",
       " 'поселок жилпосёлок',\n",
       " 'поселок житково',\n",
       " 'поселок заводской',\n",
       " 'поселок запорожское',\n",
       " 'поселок зимитицы',\n",
       " 'поселок ильичёво',\n",
       " 'поселок калитино',\n",
       " 'поселок каложицы',\n",
       " 'поселок кингисеппский',\n",
       " 'поселок кирпичное',\n",
       " 'поселок кобралово',\n",
       " 'поселок кобринское',\n",
       " 'поселок коммунары',\n",
       " 'поселок коробицыно',\n",
       " 'поселок котельский',\n",
       " 'поселок красная долина',\n",
       " 'поселок красносельское',\n",
       " 'поселок лесное',\n",
       " 'поселок лисий нос',\n",
       " 'поселок лукаши',\n",
       " 'поселок любань',\n",
       " 'поселок мельниково',\n",
       " 'поселок мичуринское',\n",
       " 'поселок молодцово',\n",
       " 'поселок мурино',\n",
       " 'поселок новый свет',\n",
       " 'поселок новый учхоз',\n",
       " 'поселок оредеж',\n",
       " 'поселок пансионат зелёный бор',\n",
       " 'поселок первомайское',\n",
       " 'поселок перово',\n",
       " 'поселок петровское',\n",
       " 'поселок победа',\n",
       " 'поселок поляны',\n",
       " 'поселок почап',\n",
       " 'поселок починок',\n",
       " 'поселок пушное',\n",
       " 'поселок пчевжа',\n",
       " 'поселок рабитицы',\n",
       " 'поселок романовка',\n",
       " 'поселок ромашки',\n",
       " 'поселок рябово',\n",
       " 'поселок севастьяново',\n",
       " 'поселок селезнёво',\n",
       " 'поселок сельцо',\n",
       " 'поселок семиозерье',\n",
       " 'поселок семрино',\n",
       " 'поселок серебрянский',\n",
       " 'поселок совхозный',\n",
       " 'поселок станции вещево',\n",
       " 'поселок станции корнево',\n",
       " 'поселок станции лужайка',\n",
       " 'поселок станции приветнинское',\n",
       " 'поселок старая малукса',\n",
       " 'поселок стеклянный',\n",
       " 'поселок сумино',\n",
       " 'поселок суходолье',\n",
       " 'поселок тельмана',\n",
       " 'поселок терволово',\n",
       " 'поселок торковичи',\n",
       " 'поселок тёсово-4',\n",
       " 'поселок углово',\n",
       " 'поселок усть-луга',\n",
       " 'поселок ушаки',\n",
       " 'поселок цвелодубово',\n",
       " 'поселок цвылёво',\n",
       " 'посёлок александровская',\n",
       " 'посёлок алексеевка',\n",
       " 'посёлок аннино',\n",
       " 'посёлок белоостров',\n",
       " 'посёлок бугры',\n",
       " 'посёлок возрождение',\n",
       " 'посёлок войскорово',\n",
       " 'посёлок высокоключевой',\n",
       " 'посёлок гаврилово',\n",
       " 'посёлок городского типа важины',\n",
       " 'посёлок городского типа вознесенье',\n",
       " 'посёлок городского типа вырица',\n",
       " 'посёлок городского типа имени морозова',\n",
       " 'посёлок городского типа имени свердлова',\n",
       " 'посёлок городского типа красный бор',\n",
       " 'посёлок городского типа кузнечное',\n",
       " 'посёлок городского типа кузьмоловский',\n",
       " 'посёлок городского типа лебяжье',\n",
       " 'посёлок городского типа мга',\n",
       " 'посёлок городского типа павлово',\n",
       " 'посёлок городского типа рощино',\n",
       " 'посёлок городского типа рябово',\n",
       " 'посёлок городского типа сиверский',\n",
       " 'посёлок городского типа тайцы',\n",
       " 'посёлок городского типа токсово',\n",
       " 'посёлок городского типа ульяновка',\n",
       " 'посёлок городского типа форносово',\n",
       " 'посёлок дзержинского',\n",
       " 'посёлок жилгородок',\n",
       " 'посёлок ильичёво',\n",
       " 'посёлок кикерино',\n",
       " 'посёлок кобралово',\n",
       " 'посёлок коробицыно',\n",
       " 'посёлок левашово',\n",
       " 'посёлок ленинское',\n",
       " 'посёлок лисий нос',\n",
       " 'посёлок мельниково',\n",
       " 'посёлок металлострой',\n",
       " 'посёлок мичуринское',\n",
       " 'посёлок молодёжное',\n",
       " 'посёлок мурино',\n",
       " 'посёлок мыза-ивановка',\n",
       " 'посёлок новогорелово',\n",
       " 'посёлок новый свет',\n",
       " 'посёлок пансионат зелёный бор',\n",
       " 'посёлок парголово',\n",
       " 'посёлок перово',\n",
       " 'посёлок песочный',\n",
       " 'посёлок петро-славянка',\n",
       " 'посёлок петровское',\n",
       " 'посёлок платформа 69-й километр',\n",
       " 'посёлок плодовое',\n",
       " 'посёлок плоское',\n",
       " 'посёлок победа',\n",
       " 'посёлок поляны',\n",
       " 'посёлок понтонный',\n",
       " 'посёлок при железнодорожной станции вещево',\n",
       " 'посёлок при железнодорожной станции приветнинское',\n",
       " 'посёлок пригородный',\n",
       " 'посёлок пудость',\n",
       " 'посёлок репино',\n",
       " 'посёлок ропша',\n",
       " 'посёлок сапёрное',\n",
       " 'посёлок сапёрный',\n",
       " 'посёлок сосново',\n",
       " 'посёлок станции громово',\n",
       " 'посёлок станции свирь',\n",
       " 'посёлок старая малукса',\n",
       " 'посёлок стеклянный',\n",
       " 'посёлок стрельна',\n",
       " 'посёлок суйда',\n",
       " 'посёлок сумино',\n",
       " 'посёлок тельмана',\n",
       " 'посёлок терволово',\n",
       " 'посёлок торфяное',\n",
       " 'посёлок усть-ижора',\n",
       " 'посёлок усть-луга',\n",
       " 'посёлок форт красная горка',\n",
       " 'посёлок шугозеро',\n",
       " 'посёлок шушары',\n",
       " 'посёлок щеглово',\n",
       " 'приморск',\n",
       " 'приозерск',\n",
       " 'пушкин',\n",
       " 'садоводческое некоммерческое товарищество лесная поляна',\n",
       " 'садовое товарищество новая ропша',\n",
       " 'садовое товарищество приладожский',\n",
       " 'садовое товарищество рахья',\n",
       " 'садовое товарищество садко',\n",
       " 'санкт-петербург',\n",
       " 'светогорск',\n",
       " 'село копорье',\n",
       " 'село никольское',\n",
       " 'село павлово',\n",
       " 'село паша',\n",
       " 'село путилово',\n",
       " 'село рождествено',\n",
       " 'село русско-высоцкое',\n",
       " 'село старая ладога',\n",
       " 'село шум',\n",
       " 'сертолово',\n",
       " 'сестрорецк',\n",
       " 'сланцы',\n",
       " 'сосновый бор',\n",
       " 'сясьстрой',\n",
       " 'тихвин',\n",
       " 'тосно',\n",
       " 'шлиссельбург']"
      ]
     },
     "execution_count": 20,
     "metadata": {},
     "output_type": "execute_result"
    }
   ],
   "source": [
    "#сначала приведем все названия к нижнему регистру\n",
    "data['locality_name'] = data['locality_name'].str.lower()\n",
    "sorted(data['locality_name'].unique())"
   ]
  },
  {
   "cell_type": "code",
   "execution_count": 21,
   "metadata": {},
   "outputs": [
    {
     "data": {
      "text/plain": [
       "364"
      ]
     },
     "execution_count": 21,
     "metadata": {},
     "output_type": "execute_result"
    }
   ],
   "source": [
    "data['locality_name'].nunique()"
   ]
  },
  {
   "cell_type": "code",
   "execution_count": 22,
   "metadata": {},
   "outputs": [
    {
     "data": {
      "text/plain": [
       "['бокситогорск',\n",
       " 'волосово',\n",
       " 'волхов',\n",
       " 'всеволожск',\n",
       " 'выборг',\n",
       " 'высоцк',\n",
       " 'гатчина',\n",
       " 'деревня агалатово',\n",
       " 'деревня аро',\n",
       " 'деревня батово',\n",
       " 'деревня бегуницы',\n",
       " 'деревня белогорка',\n",
       " 'деревня большая вруда',\n",
       " 'деревня большая пустомержа',\n",
       " 'деревня большие колпаны',\n",
       " 'деревня большое рейзино',\n",
       " 'деревня большой сабск',\n",
       " 'деревня бор',\n",
       " 'деревня борисова грива',\n",
       " 'деревня ваганово',\n",
       " 'деревня вартемяги',\n",
       " 'деревня вахнова кара',\n",
       " 'деревня выскатка',\n",
       " 'деревня гарболово',\n",
       " 'деревня глинка',\n",
       " 'деревня горбунки',\n",
       " 'деревня гостилицы',\n",
       " 'деревня заклинье',\n",
       " 'деревня заневка',\n",
       " 'деревня зимитицы',\n",
       " 'деревня извара',\n",
       " 'деревня иссад',\n",
       " 'деревня калитино',\n",
       " 'деревня кальтино',\n",
       " 'деревня камышовка',\n",
       " 'деревня каськово',\n",
       " 'деревня келози',\n",
       " 'деревня кипень',\n",
       " 'деревня кисельня',\n",
       " 'деревня колтуши',\n",
       " 'деревня коркино',\n",
       " 'деревня котлы',\n",
       " 'деревня кривко',\n",
       " 'деревня кудрово',\n",
       " 'деревня кузьмолово',\n",
       " 'деревня курковицы',\n",
       " 'деревня куровицы',\n",
       " 'деревня куттузи',\n",
       " 'деревня лаврики',\n",
       " 'деревня лаголово',\n",
       " 'деревня лампово',\n",
       " 'деревня лесколово',\n",
       " 'деревня лопухинка',\n",
       " 'деревня лупполово',\n",
       " 'деревня малая романовка',\n",
       " 'деревня малое верево',\n",
       " 'деревня малое карлино',\n",
       " 'деревня малые колпаны',\n",
       " 'деревня мануйлово',\n",
       " 'деревня меньково',\n",
       " 'деревня мины',\n",
       " 'деревня мистолово',\n",
       " 'деревня ненимяки',\n",
       " 'деревня нижние осельки',\n",
       " 'деревня нижняя',\n",
       " 'деревня низино',\n",
       " 'деревня новое девяткино',\n",
       " 'деревня новолисино',\n",
       " 'деревня нурма',\n",
       " 'деревня оржицы',\n",
       " 'деревня парицы',\n",
       " 'деревня пельгора',\n",
       " 'деревня пеники',\n",
       " 'деревня пижма',\n",
       " 'деревня пикколово',\n",
       " 'деревня пудомяги',\n",
       " 'деревня пустынка',\n",
       " 'деревня пчева',\n",
       " 'деревня рабитицы',\n",
       " 'деревня разбегаево',\n",
       " 'деревня раздолье',\n",
       " 'деревня разметелево',\n",
       " 'деревня рапполово',\n",
       " 'деревня реброво',\n",
       " 'деревня русско',\n",
       " 'деревня сижно',\n",
       " 'деревня снегиревка',\n",
       " 'деревня старая',\n",
       " 'деревня старая пустошь',\n",
       " 'деревня старое хинколово',\n",
       " 'деревня старополье',\n",
       " 'деревня старосиверская',\n",
       " 'деревня старые бегуницы',\n",
       " 'деревня суоранда',\n",
       " 'деревня сяськелево',\n",
       " 'деревня тарасово',\n",
       " 'деревня терпилицы',\n",
       " 'деревня тихковицы',\n",
       " 'деревня тойворово',\n",
       " 'деревня торосово',\n",
       " 'деревня торошковичи',\n",
       " 'деревня трубников бор',\n",
       " 'деревня фалилеево',\n",
       " 'деревня федоровское',\n",
       " 'деревня хапо-ое',\n",
       " 'деревня хязельки',\n",
       " 'деревня чудской бор',\n",
       " 'деревня шпаньково',\n",
       " 'деревня щеглово',\n",
       " 'деревня юкки',\n",
       " 'деревня ялгино',\n",
       " 'деревня яльгелево',\n",
       " 'деревня ям-тесово',\n",
       " 'зеленогорск',\n",
       " 'ивангород',\n",
       " 'каменногорск',\n",
       " 'кингисепп',\n",
       " 'кириши',\n",
       " 'кировск',\n",
       " 'колпино',\n",
       " 'коммунар',\n",
       " 'коттеджный поселок кивеннапа север',\n",
       " 'коттеджный поселок лесное',\n",
       " 'коттеджный поселок счастье',\n",
       " 'красное село',\n",
       " 'кронштадт',\n",
       " 'кудрово',\n",
       " 'лодейное поле',\n",
       " 'ломоносов',\n",
       " 'луга',\n",
       " 'никольское',\n",
       " 'новая ладога',\n",
       " 'отрадное',\n",
       " 'павловск',\n",
       " 'петергоф',\n",
       " 'пикалево',\n",
       " 'подпорожье',\n",
       " 'поселок александровская',\n",
       " 'поселок алексеевка',\n",
       " 'поселок аннино',\n",
       " 'поселок барышево',\n",
       " 'поселок белоостров',\n",
       " 'поселок бугры',\n",
       " 'поселок возрождение',\n",
       " 'поселок войсковицы',\n",
       " 'поселок войскорово',\n",
       " 'поселок володарское',\n",
       " 'поселок высокоключевой',\n",
       " 'поселок гаврилово',\n",
       " 'поселок гарболово',\n",
       " 'поселок гладкое',\n",
       " 'поселок глажево',\n",
       " 'поселок глебычево',\n",
       " 'поселок гончарово',\n",
       " 'поселок городского типа большая ижора',\n",
       " 'поселок городского типа будогощь',\n",
       " 'поселок городского типа важины',\n",
       " 'поселок городского типа виллози',\n",
       " 'поселок городского типа вознесенье',\n",
       " 'поселок городского типа вырица',\n",
       " 'поселок городского типа дружная горка',\n",
       " 'поселок городского типа дубровка',\n",
       " 'поселок городского типа ефимовский',\n",
       " 'поселок городского типа имени морозова',\n",
       " 'поселок городского типа имени свердлова',\n",
       " 'поселок городского типа кондратьево',\n",
       " 'поселок городского типа красный бор',\n",
       " 'поселок городского типа кузнечное',\n",
       " 'поселок городского типа кузьмоловский',\n",
       " 'поселок городского типа лебяжье',\n",
       " 'поселок городского типа лесогорский',\n",
       " 'поселок городского типа мга',\n",
       " 'поселок городского типа назия',\n",
       " 'поселок городского типа никольский',\n",
       " 'поселок городского типа новоселье',\n",
       " 'поселок городского типа павлово',\n",
       " 'поселок городского типа приладожский',\n",
       " 'поселок городского типа рахья',\n",
       " 'поселок городского типа рощино',\n",
       " 'поселок городского типа рябово',\n",
       " 'поселок городского типа свирьстрой',\n",
       " 'поселок городского типа сиверский',\n",
       " 'поселок городского типа синявино',\n",
       " 'поселок городского типа советский',\n",
       " 'поселок городского типа тайцы',\n",
       " 'поселок городского типа токсово',\n",
       " 'поселок городского типа ульяновка',\n",
       " 'поселок городского типа федоровское',\n",
       " 'поселок городского типа форносово',\n",
       " 'поселок городского типа янино-1',\n",
       " 'поселок громово',\n",
       " 'поселок дзержинского',\n",
       " 'поселок дружноселье',\n",
       " 'поселок елизаветино',\n",
       " 'поселок жилгородок',\n",
       " 'поселок жилпоселок',\n",
       " 'поселок житково',\n",
       " 'поселок заводской',\n",
       " 'поселок запорожское',\n",
       " 'поселок зимитицы',\n",
       " 'поселок ильичево',\n",
       " 'поселок калитино',\n",
       " 'поселок каложицы',\n",
       " 'поселок кикерино',\n",
       " 'поселок кингисеппский',\n",
       " 'поселок кирпичное',\n",
       " 'поселок кобралово',\n",
       " 'поселок кобринское',\n",
       " 'поселок коммунары',\n",
       " 'поселок коробицыно',\n",
       " 'поселок котельский',\n",
       " 'поселок красная долина',\n",
       " 'поселок красносельское',\n",
       " 'поселок левашово',\n",
       " 'поселок ленинское',\n",
       " 'поселок лесное',\n",
       " 'поселок лисий нос',\n",
       " 'поселок лукаши',\n",
       " 'поселок любань',\n",
       " 'поселок мельниково',\n",
       " 'поселок металлострой',\n",
       " 'поселок мичуринское',\n",
       " 'поселок молодежное',\n",
       " 'поселок молодцово',\n",
       " 'поселок мурино',\n",
       " 'поселок мыза-ивановка',\n",
       " 'поселок новогорелово',\n",
       " 'поселок новый свет',\n",
       " 'поселок новый учхоз',\n",
       " 'поселок оредеж',\n",
       " 'поселок пансионат зеленый бор',\n",
       " 'поселок парголово',\n",
       " 'поселок первомайское',\n",
       " 'поселок перово',\n",
       " 'поселок песочный',\n",
       " 'поселок петро-славянка',\n",
       " 'поселок петровское',\n",
       " 'поселок платформа 69-й километр',\n",
       " 'поселок плодовое',\n",
       " 'поселок плоское',\n",
       " 'поселок победа',\n",
       " 'поселок поляны',\n",
       " 'поселок понтонный',\n",
       " 'поселок почап',\n",
       " 'поселок починок',\n",
       " 'поселок пригородный',\n",
       " 'поселок пудость',\n",
       " 'поселок пушное',\n",
       " 'поселок пчевжа',\n",
       " 'поселок рабитицы',\n",
       " 'поселок репино',\n",
       " 'поселок романовка',\n",
       " 'поселок ромашки',\n",
       " 'поселок ропша',\n",
       " 'поселок саперное',\n",
       " 'поселок саперный',\n",
       " 'поселок севастьяново',\n",
       " 'поселок селезнево',\n",
       " 'поселок сельцо',\n",
       " 'поселок семиозерье',\n",
       " 'поселок семрино',\n",
       " 'поселок серебрянский',\n",
       " 'поселок совхозный',\n",
       " 'поселок сосново',\n",
       " 'поселок станции вещево',\n",
       " 'поселок станции громово',\n",
       " 'поселок станции корнево',\n",
       " 'поселок станции лужайка',\n",
       " 'поселок станции приветнинское',\n",
       " 'поселок станции свирь',\n",
       " 'поселок старая малукса',\n",
       " 'поселок стеклянный',\n",
       " 'поселок стрельна',\n",
       " 'поселок суйда',\n",
       " 'поселок сумино',\n",
       " 'поселок суходолье',\n",
       " 'поселок тельмана',\n",
       " 'поселок терволово',\n",
       " 'поселок тесово-4',\n",
       " 'поселок торковичи',\n",
       " 'поселок торфяное',\n",
       " 'поселок углово',\n",
       " 'поселок усть-ижора',\n",
       " 'поселок усть-луга',\n",
       " 'поселок ушаки',\n",
       " 'поселок форт красная горка',\n",
       " 'поселок цвелодубово',\n",
       " 'поселок цвылево',\n",
       " 'поселок шугозеро',\n",
       " 'поселок шушары',\n",
       " 'поселок щеглово',\n",
       " 'приморск',\n",
       " 'приозерск',\n",
       " 'пушкин',\n",
       " 'садоводческое некоммерческое товарищество лесная поляна',\n",
       " 'садовое товарищество новая ропша',\n",
       " 'садовое товарищество приладожский',\n",
       " 'садовое товарищество рахья',\n",
       " 'садовое товарищество садко',\n",
       " 'санкт-петербург',\n",
       " 'светогорск',\n",
       " 'село копорье',\n",
       " 'село никольское',\n",
       " 'село павлово',\n",
       " 'село паша',\n",
       " 'село путилово',\n",
       " 'село рождествено',\n",
       " 'село русско-высоцкое',\n",
       " 'село старая ладога',\n",
       " 'село шум',\n",
       " 'сертолово',\n",
       " 'сестрорецк',\n",
       " 'сланцы',\n",
       " 'сосновый бор',\n",
       " 'сясьстрой',\n",
       " 'тихвин',\n",
       " 'тосно',\n",
       " 'шлиссельбург']"
      ]
     },
     "execution_count": 22,
     "metadata": {},
     "output_type": "execute_result"
    }
   ],
   "source": [
    "data['locality_name'] = data['locality_name'].str.replace('ё', 'е').str.replace(\n",
    "    'городской поселок', 'поселок городского типа').str.replace('при железнодорожной станции', 'станции').replace(\n",
    "    'мурино','поселок мурино').replace('поселок рябово','поселок городского типа рябово').replace(\n",
    "    'любань','поселок любань')\n",
    "\n",
    "sorted(data['locality_name'].unique())"
   ]
  },
  {
   "cell_type": "code",
   "execution_count": 23,
   "metadata": {},
   "outputs": [
    {
     "data": {
      "text/plain": [
       "318"
      ]
     },
     "execution_count": 23,
     "metadata": {},
     "output_type": "execute_result"
    }
   ],
   "source": [
    "data['locality_name'].nunique()"
   ]
  },
  {
   "cell_type": "markdown",
   "metadata": {
    "id": "QCcvyY6YAwb-"
   },
   "source": [
    "### Добавьте в таблицу новые столбцы"
   ]
  },
  {
   "cell_type": "code",
   "execution_count": 24,
   "metadata": {
    "id": "Z8eJek3IAwb-"
   },
   "outputs": [
    {
     "data": {
      "text/html": [
       "<div>\n",
       "<style scoped>\n",
       "    .dataframe tbody tr th:only-of-type {\n",
       "        vertical-align: middle;\n",
       "    }\n",
       "\n",
       "    .dataframe tbody tr th {\n",
       "        vertical-align: top;\n",
       "    }\n",
       "\n",
       "    .dataframe thead th {\n",
       "        text-align: right;\n",
       "    }\n",
       "</style>\n",
       "<table border=\"1\" class=\"dataframe\">\n",
       "  <thead>\n",
       "    <tr style=\"text-align: right;\">\n",
       "      <th></th>\n",
       "      <th>total_images</th>\n",
       "      <th>last_price</th>\n",
       "      <th>total_area</th>\n",
       "      <th>first_day_exposition</th>\n",
       "      <th>rooms</th>\n",
       "      <th>ceiling_height</th>\n",
       "      <th>floors_total</th>\n",
       "      <th>living_area</th>\n",
       "      <th>floor</th>\n",
       "      <th>is_apartment</th>\n",
       "      <th>...</th>\n",
       "      <th>parks_nearest</th>\n",
       "      <th>ponds_around3000</th>\n",
       "      <th>ponds_nearest</th>\n",
       "      <th>days_exposition</th>\n",
       "      <th>year_exposition</th>\n",
       "      <th>one_meter_price</th>\n",
       "      <th>weekday_exposition</th>\n",
       "      <th>month_exposition</th>\n",
       "      <th>floor_type</th>\n",
       "      <th>citycenters_nearest_km</th>\n",
       "    </tr>\n",
       "  </thead>\n",
       "  <tbody>\n",
       "    <tr>\n",
       "      <th>0</th>\n",
       "      <td>20</td>\n",
       "      <td>13000000.0</td>\n",
       "      <td>108.00</td>\n",
       "      <td>2019-03-07</td>\n",
       "      <td>3</td>\n",
       "      <td>2.70</td>\n",
       "      <td>16</td>\n",
       "      <td>51.000000</td>\n",
       "      <td>8</td>\n",
       "      <td>False</td>\n",
       "      <td>...</td>\n",
       "      <td>482.0</td>\n",
       "      <td>2.0</td>\n",
       "      <td>755.0</td>\n",
       "      <td>NaN</td>\n",
       "      <td>2019</td>\n",
       "      <td>120370.37</td>\n",
       "      <td>3</td>\n",
       "      <td>3</td>\n",
       "      <td>другой</td>\n",
       "      <td>16.0</td>\n",
       "    </tr>\n",
       "    <tr>\n",
       "      <th>1</th>\n",
       "      <td>7</td>\n",
       "      <td>3350000.0</td>\n",
       "      <td>40.40</td>\n",
       "      <td>2018-12-04</td>\n",
       "      <td>1</td>\n",
       "      <td>2.75</td>\n",
       "      <td>11</td>\n",
       "      <td>18.600000</td>\n",
       "      <td>1</td>\n",
       "      <td>False</td>\n",
       "      <td>...</td>\n",
       "      <td>NaN</td>\n",
       "      <td>0.0</td>\n",
       "      <td>NaN</td>\n",
       "      <td>81.0</td>\n",
       "      <td>2018</td>\n",
       "      <td>82920.79</td>\n",
       "      <td>1</td>\n",
       "      <td>12</td>\n",
       "      <td>первый</td>\n",
       "      <td>19.0</td>\n",
       "    </tr>\n",
       "    <tr>\n",
       "      <th>2</th>\n",
       "      <td>10</td>\n",
       "      <td>5196000.0</td>\n",
       "      <td>56.00</td>\n",
       "      <td>2015-08-20</td>\n",
       "      <td>2</td>\n",
       "      <td>2.55</td>\n",
       "      <td>5</td>\n",
       "      <td>34.300000</td>\n",
       "      <td>4</td>\n",
       "      <td>False</td>\n",
       "      <td>...</td>\n",
       "      <td>90.0</td>\n",
       "      <td>2.0</td>\n",
       "      <td>574.0</td>\n",
       "      <td>558.0</td>\n",
       "      <td>2015</td>\n",
       "      <td>92785.71</td>\n",
       "      <td>3</td>\n",
       "      <td>8</td>\n",
       "      <td>другой</td>\n",
       "      <td>14.0</td>\n",
       "    </tr>\n",
       "    <tr>\n",
       "      <th>3</th>\n",
       "      <td>0</td>\n",
       "      <td>64900000.0</td>\n",
       "      <td>159.00</td>\n",
       "      <td>2015-07-24</td>\n",
       "      <td>3</td>\n",
       "      <td>2.60</td>\n",
       "      <td>14</td>\n",
       "      <td>90.816648</td>\n",
       "      <td>9</td>\n",
       "      <td>False</td>\n",
       "      <td>...</td>\n",
       "      <td>84.0</td>\n",
       "      <td>3.0</td>\n",
       "      <td>234.0</td>\n",
       "      <td>424.0</td>\n",
       "      <td>2015</td>\n",
       "      <td>408176.10</td>\n",
       "      <td>4</td>\n",
       "      <td>7</td>\n",
       "      <td>другой</td>\n",
       "      <td>7.0</td>\n",
       "    </tr>\n",
       "    <tr>\n",
       "      <th>4</th>\n",
       "      <td>2</td>\n",
       "      <td>10000000.0</td>\n",
       "      <td>100.00</td>\n",
       "      <td>2018-06-19</td>\n",
       "      <td>2</td>\n",
       "      <td>3.03</td>\n",
       "      <td>14</td>\n",
       "      <td>32.000000</td>\n",
       "      <td>13</td>\n",
       "      <td>False</td>\n",
       "      <td>...</td>\n",
       "      <td>112.0</td>\n",
       "      <td>1.0</td>\n",
       "      <td>48.0</td>\n",
       "      <td>121.0</td>\n",
       "      <td>2018</td>\n",
       "      <td>100000.00</td>\n",
       "      <td>1</td>\n",
       "      <td>6</td>\n",
       "      <td>другой</td>\n",
       "      <td>8.0</td>\n",
       "    </tr>\n",
       "    <tr>\n",
       "      <th>5</th>\n",
       "      <td>10</td>\n",
       "      <td>2890000.0</td>\n",
       "      <td>30.40</td>\n",
       "      <td>2018-09-10</td>\n",
       "      <td>1</td>\n",
       "      <td>2.65</td>\n",
       "      <td>12</td>\n",
       "      <td>14.400000</td>\n",
       "      <td>5</td>\n",
       "      <td>False</td>\n",
       "      <td>...</td>\n",
       "      <td>NaN</td>\n",
       "      <td>NaN</td>\n",
       "      <td>NaN</td>\n",
       "      <td>55.0</td>\n",
       "      <td>2018</td>\n",
       "      <td>95065.79</td>\n",
       "      <td>0</td>\n",
       "      <td>9</td>\n",
       "      <td>другой</td>\n",
       "      <td>NaN</td>\n",
       "    </tr>\n",
       "    <tr>\n",
       "      <th>6</th>\n",
       "      <td>6</td>\n",
       "      <td>3700000.0</td>\n",
       "      <td>37.30</td>\n",
       "      <td>2017-11-02</td>\n",
       "      <td>1</td>\n",
       "      <td>2.66</td>\n",
       "      <td>26</td>\n",
       "      <td>10.600000</td>\n",
       "      <td>6</td>\n",
       "      <td>False</td>\n",
       "      <td>...</td>\n",
       "      <td>NaN</td>\n",
       "      <td>0.0</td>\n",
       "      <td>NaN</td>\n",
       "      <td>155.0</td>\n",
       "      <td>2017</td>\n",
       "      <td>99195.71</td>\n",
       "      <td>3</td>\n",
       "      <td>11</td>\n",
       "      <td>другой</td>\n",
       "      <td>19.0</td>\n",
       "    </tr>\n",
       "    <tr>\n",
       "      <th>7</th>\n",
       "      <td>5</td>\n",
       "      <td>7915000.0</td>\n",
       "      <td>71.60</td>\n",
       "      <td>2019-04-18</td>\n",
       "      <td>2</td>\n",
       "      <td>2.75</td>\n",
       "      <td>24</td>\n",
       "      <td>40.896050</td>\n",
       "      <td>22</td>\n",
       "      <td>False</td>\n",
       "      <td>...</td>\n",
       "      <td>NaN</td>\n",
       "      <td>0.0</td>\n",
       "      <td>NaN</td>\n",
       "      <td>NaN</td>\n",
       "      <td>2019</td>\n",
       "      <td>110544.69</td>\n",
       "      <td>3</td>\n",
       "      <td>4</td>\n",
       "      <td>другой</td>\n",
       "      <td>12.0</td>\n",
       "    </tr>\n",
       "    <tr>\n",
       "      <th>8</th>\n",
       "      <td>20</td>\n",
       "      <td>2900000.0</td>\n",
       "      <td>33.16</td>\n",
       "      <td>2018-05-23</td>\n",
       "      <td>1</td>\n",
       "      <td>2.70</td>\n",
       "      <td>27</td>\n",
       "      <td>15.430000</td>\n",
       "      <td>26</td>\n",
       "      <td>False</td>\n",
       "      <td>...</td>\n",
       "      <td>NaN</td>\n",
       "      <td>NaN</td>\n",
       "      <td>NaN</td>\n",
       "      <td>189.0</td>\n",
       "      <td>2018</td>\n",
       "      <td>87454.76</td>\n",
       "      <td>2</td>\n",
       "      <td>5</td>\n",
       "      <td>другой</td>\n",
       "      <td>NaN</td>\n",
       "    </tr>\n",
       "    <tr>\n",
       "      <th>9</th>\n",
       "      <td>18</td>\n",
       "      <td>5400000.0</td>\n",
       "      <td>61.00</td>\n",
       "      <td>2017-02-26</td>\n",
       "      <td>3</td>\n",
       "      <td>2.50</td>\n",
       "      <td>9</td>\n",
       "      <td>43.600000</td>\n",
       "      <td>7</td>\n",
       "      <td>False</td>\n",
       "      <td>...</td>\n",
       "      <td>NaN</td>\n",
       "      <td>0.0</td>\n",
       "      <td>NaN</td>\n",
       "      <td>289.0</td>\n",
       "      <td>2017</td>\n",
       "      <td>88524.59</td>\n",
       "      <td>6</td>\n",
       "      <td>2</td>\n",
       "      <td>другой</td>\n",
       "      <td>15.0</td>\n",
       "    </tr>\n",
       "  </tbody>\n",
       "</table>\n",
       "<p>10 rows × 28 columns</p>\n",
       "</div>"
      ],
      "text/plain": [
       "   total_images  last_price  total_area first_day_exposition  rooms  \\\n",
       "0            20  13000000.0      108.00           2019-03-07      3   \n",
       "1             7   3350000.0       40.40           2018-12-04      1   \n",
       "2            10   5196000.0       56.00           2015-08-20      2   \n",
       "3             0  64900000.0      159.00           2015-07-24      3   \n",
       "4             2  10000000.0      100.00           2018-06-19      2   \n",
       "5            10   2890000.0       30.40           2018-09-10      1   \n",
       "6             6   3700000.0       37.30           2017-11-02      1   \n",
       "7             5   7915000.0       71.60           2019-04-18      2   \n",
       "8            20   2900000.0       33.16           2018-05-23      1   \n",
       "9            18   5400000.0       61.00           2017-02-26      3   \n",
       "\n",
       "   ceiling_height  floors_total  living_area  floor  is_apartment  ...  \\\n",
       "0            2.70            16    51.000000      8         False  ...   \n",
       "1            2.75            11    18.600000      1         False  ...   \n",
       "2            2.55             5    34.300000      4         False  ...   \n",
       "3            2.60            14    90.816648      9         False  ...   \n",
       "4            3.03            14    32.000000     13         False  ...   \n",
       "5            2.65            12    14.400000      5         False  ...   \n",
       "6            2.66            26    10.600000      6         False  ...   \n",
       "7            2.75            24    40.896050     22         False  ...   \n",
       "8            2.70            27    15.430000     26         False  ...   \n",
       "9            2.50             9    43.600000      7         False  ...   \n",
       "\n",
       "   parks_nearest  ponds_around3000  ponds_nearest  days_exposition  \\\n",
       "0          482.0               2.0          755.0              NaN   \n",
       "1            NaN               0.0            NaN             81.0   \n",
       "2           90.0               2.0          574.0            558.0   \n",
       "3           84.0               3.0          234.0            424.0   \n",
       "4          112.0               1.0           48.0            121.0   \n",
       "5            NaN               NaN            NaN             55.0   \n",
       "6            NaN               0.0            NaN            155.0   \n",
       "7            NaN               0.0            NaN              NaN   \n",
       "8            NaN               NaN            NaN            189.0   \n",
       "9            NaN               0.0            NaN            289.0   \n",
       "\n",
       "  year_exposition  one_meter_price  weekday_exposition  month_exposition  \\\n",
       "0            2019        120370.37                   3                 3   \n",
       "1            2018         82920.79                   1                12   \n",
       "2            2015         92785.71                   3                 8   \n",
       "3            2015        408176.10                   4                 7   \n",
       "4            2018        100000.00                   1                 6   \n",
       "5            2018         95065.79                   0                 9   \n",
       "6            2017         99195.71                   3                11   \n",
       "7            2019        110544.69                   3                 4   \n",
       "8            2018         87454.76                   2                 5   \n",
       "9            2017         88524.59                   6                 2   \n",
       "\n",
       "   floor_type  citycenters_nearest_km  \n",
       "0      другой                    16.0  \n",
       "1      первый                    19.0  \n",
       "2      другой                    14.0  \n",
       "3      другой                     7.0  \n",
       "4      другой                     8.0  \n",
       "5      другой                     NaN  \n",
       "6      другой                    19.0  \n",
       "7      другой                    12.0  \n",
       "8      другой                     NaN  \n",
       "9      другой                    15.0  \n",
       "\n",
       "[10 rows x 28 columns]"
      ]
     },
     "execution_count": 24,
     "metadata": {},
     "output_type": "execute_result"
    }
   ],
   "source": [
    "data['one_meter_price'] = (data['last_price']/data['total_area']).round(2) # создадим столбец с ценой одного квадратного метра\n",
    "\n",
    "data['weekday_exposition'] = data['first_day_exposition'].dt.weekday #создадим столбец с номером дня недели публикации объявления\n",
    "data['month_exposition'] = data['first_day_exposition'].dt.month # столбец с месяцем публикации объявления\n",
    "#data['year_exposition'] = data['first_day_exposition'].dt.year #столбец с годом публикации обьявления\n",
    "\n",
    "# добавим столбец с типом этажа, для этого создадим функцию, кот будет проверять номер этажа\n",
    "def floor_type(row): \n",
    "    if row['floor'] == 1:\n",
    "        return 'первый'\n",
    "    elif row['floor'] == row['floors_total']:\n",
    "        return 'последний'\n",
    "    return 'другой'\n",
    "\n",
    "data['floor_type'] = data.apply(floor_type, axis=1) \n",
    "\n",
    "data = data.rename(columns={'cityCenters_nearest':'citycenters_nearest'}) # приведем название столбца к нижнему регистру\n",
    "data['citycenters_nearest_km'] = (data['citycenters_nearest']/1000).round(0) # создадим столбец с расстоянием до центра в км\n",
    "\n",
    "data.head(10)"
   ]
  },
  {
   "cell_type": "markdown",
   "metadata": {
    "id": "pPyxrKWTAwb-"
   },
   "source": [
    "### Проведите исследовательский анализ данных"
   ]
  },
  {
   "cell_type": "markdown",
   "metadata": {
    "id": "V2f0D3kLAwb-"
   },
   "source": [
    "#### Изучение параметры объектов"
   ]
  },
  {
   "cell_type": "code",
   "execution_count": 25,
   "metadata": {},
   "outputs": [
    {
     "data": {
      "text/plain": [
       "23565"
      ]
     },
     "execution_count": 25,
     "metadata": {},
     "output_type": "execute_result"
    }
   ],
   "source": [
    "data_rows = data.shape[0]\n",
    "data_rows"
   ]
  },
  {
   "cell_type": "markdown",
   "metadata": {},
   "source": [
    "##### Изучим данные об общей площади, жилой площади и площади кухни, будем строить гистограммы и отсекать данные слишком выбивающиеся из выборки"
   ]
  },
  {
   "cell_type": "code",
   "execution_count": 26,
   "metadata": {},
   "outputs": [
    {
     "data": {
      "text/plain": [
       "count    23565.000000\n",
       "mean        60.322824\n",
       "std         35.657060\n",
       "min         12.000000\n",
       "25%         40.000000\n",
       "50%         52.000000\n",
       "75%         69.700000\n",
       "max        900.000000\n",
       "Name: total_area, dtype: float64"
      ]
     },
     "execution_count": 26,
     "metadata": {},
     "output_type": "execute_result"
    }
   ],
   "source": [
    "data['total_area'].describe()"
   ]
  },
  {
   "cell_type": "code",
   "execution_count": 27,
   "metadata": {},
   "outputs": [
    {
     "data": {
      "text/plain": [
       "<AxesSubplot:>"
      ]
     },
     "execution_count": 27,
     "metadata": {},
     "output_type": "execute_result"
    },
    {
     "data": {
      "image/png": "[encoded data removed]",
      "text/plain": [
       "<Figure size 432x288 with 1 Axes>"
      ]
     },
     "metadata": {
      "needs_background": "light"
     },
     "output_type": "display_data"
    }
   ],
   "source": [
    "data['total_area'].hist(bins=30, range=(10,300))"
   ]
  },
  {
   "cell_type": "code",
   "execution_count": 28,
   "metadata": {},
   "outputs": [],
   "source": [
    "#отсечем 1% от крайних значений, т.к. они явно выбиваются из выборки\n",
    "data = data.loc[(data['total_area']<np.percentile(data['total_area'], 99))&(\n",
    "    data['total_area']>np.percentile(data['total_area'], 1))] "
   ]
  },
  {
   "cell_type": "code",
   "execution_count": 29,
   "metadata": {},
   "outputs": [
    {
     "data": {
      "text/plain": [
       "count    23093.000000\n",
       "mean        33.450438\n",
       "std         17.194180\n",
       "min          2.000000\n",
       "25%         19.000000\n",
       "50%         30.000000\n",
       "75%         42.000000\n",
       "max        164.700000\n",
       "Name: living_area, dtype: float64"
      ]
     },
     "execution_count": 29,
     "metadata": {},
     "output_type": "execute_result"
    }
   ],
   "source": [
    "data['living_area'].describe()"
   ]
  },
  {
   "cell_type": "code",
   "execution_count": 30,
   "metadata": {},
   "outputs": [
    {
     "data": {
      "text/plain": [
       "18.000000     861\n",
       "17.000000     659\n",
       "30.000000     598\n",
       "20.000000     473\n",
       "16.000000     465\n",
       "             ... \n",
       "40.390000       1\n",
       "19.488453       1\n",
       "164.700000      1\n",
       "59.173614       1\n",
       "16.740000       1\n",
       "Name: living_area, Length: 2225, dtype: int64"
      ]
     },
     "execution_count": 30,
     "metadata": {},
     "output_type": "execute_result"
    }
   ],
   "source": [
    "data['living_area'].value_counts()"
   ]
  },
  {
   "cell_type": "code",
   "execution_count": 31,
   "metadata": {},
   "outputs": [
    {
     "data": {
      "text/plain": [
       "<AxesSubplot:>"
      ]
     },
     "execution_count": 31,
     "metadata": {},
     "output_type": "execute_result"
    },
    {
     "data": {
      "image/png": "[encoded data removed]",
      "text/plain": [
       "<Figure size 432x288 with 1 Axes>"
      ]
     },
     "metadata": {
      "needs_background": "light"
     },
     "output_type": "display_data"
    }
   ],
   "source": [
    "data['living_area'].hist(bins=20, range=(10,200))"
   ]
  },
  {
   "cell_type": "code",
   "execution_count": 32,
   "metadata": {},
   "outputs": [],
   "source": [
    "#отсечем 1% от крайних значений, т.к. они явно выбиваются из выборки\n",
    "#data = data.loc[(data['living_area']<np.percentile(data['living_area'], 99))&(\n",
    "    #data['living_area']>np.percentile(data['living_area'], 1))] "
   ]
  },
  {
   "cell_type": "code",
   "execution_count": 33,
   "metadata": {},
   "outputs": [
    {
     "data": {
      "text/html": [
       "<div>\n",
       "<style scoped>\n",
       "    .dataframe tbody tr th:only-of-type {\n",
       "        vertical-align: middle;\n",
       "    }\n",
       "\n",
       "    .dataframe tbody tr th {\n",
       "        vertical-align: top;\n",
       "    }\n",
       "\n",
       "    .dataframe thead th {\n",
       "        text-align: right;\n",
       "    }\n",
       "</style>\n",
       "<table border=\"1\" class=\"dataframe\">\n",
       "  <thead>\n",
       "    <tr style=\"text-align: right;\">\n",
       "      <th></th>\n",
       "      <th>total_images</th>\n",
       "      <th>last_price</th>\n",
       "      <th>total_area</th>\n",
       "      <th>first_day_exposition</th>\n",
       "      <th>rooms</th>\n",
       "      <th>ceiling_height</th>\n",
       "      <th>floors_total</th>\n",
       "      <th>living_area</th>\n",
       "      <th>floor</th>\n",
       "      <th>is_apartment</th>\n",
       "      <th>...</th>\n",
       "      <th>parks_nearest</th>\n",
       "      <th>ponds_around3000</th>\n",
       "      <th>ponds_nearest</th>\n",
       "      <th>days_exposition</th>\n",
       "      <th>year_exposition</th>\n",
       "      <th>one_meter_price</th>\n",
       "      <th>weekday_exposition</th>\n",
       "      <th>month_exposition</th>\n",
       "      <th>floor_type</th>\n",
       "      <th>citycenters_nearest_km</th>\n",
       "    </tr>\n",
       "  </thead>\n",
       "  <tbody>\n",
       "  </tbody>\n",
       "</table>\n",
       "<p>0 rows × 28 columns</p>\n",
       "</div>"
      ],
      "text/plain": [
       "Empty DataFrame\n",
       "Columns: [total_images, last_price, total_area, first_day_exposition, rooms, ceiling_height, floors_total, living_area, floor, is_apartment, studio, open_plan, kitchen_area, balcony, locality_name, airports_nearest, citycenters_nearest, parks_around3000, parks_nearest, ponds_around3000, ponds_nearest, days_exposition, year_exposition, one_meter_price, weekday_exposition, month_exposition, floor_type, citycenters_nearest_km]\n",
       "Index: []\n",
       "\n",
       "[0 rows x 28 columns]"
      ]
     },
     "execution_count": 33,
     "metadata": {},
     "output_type": "execute_result"
    }
   ],
   "source": [
    "#т.к. на гистограмме есть выбросы, проверим нет ли аномальных данных, когда жилая площадь больше общей или меньше кухни\n",
    "data.loc[data['total_area']<data['living_area']] \n"
   ]
  },
  {
   "cell_type": "code",
   "execution_count": 34,
   "metadata": {},
   "outputs": [
    {
     "data": {
      "text/html": [
       "<div>\n",
       "<style scoped>\n",
       "    .dataframe tbody tr th:only-of-type {\n",
       "        vertical-align: middle;\n",
       "    }\n",
       "\n",
       "    .dataframe tbody tr th {\n",
       "        vertical-align: top;\n",
       "    }\n",
       "\n",
       "    .dataframe thead th {\n",
       "        text-align: right;\n",
       "    }\n",
       "</style>\n",
       "<table border=\"1\" class=\"dataframe\">\n",
       "  <thead>\n",
       "    <tr style=\"text-align: right;\">\n",
       "      <th></th>\n",
       "      <th>total_images</th>\n",
       "      <th>last_price</th>\n",
       "      <th>total_area</th>\n",
       "      <th>first_day_exposition</th>\n",
       "      <th>rooms</th>\n",
       "      <th>ceiling_height</th>\n",
       "      <th>floors_total</th>\n",
       "      <th>living_area</th>\n",
       "      <th>floor</th>\n",
       "      <th>is_apartment</th>\n",
       "      <th>...</th>\n",
       "      <th>parks_nearest</th>\n",
       "      <th>ponds_around3000</th>\n",
       "      <th>ponds_nearest</th>\n",
       "      <th>days_exposition</th>\n",
       "      <th>year_exposition</th>\n",
       "      <th>one_meter_price</th>\n",
       "      <th>weekday_exposition</th>\n",
       "      <th>month_exposition</th>\n",
       "      <th>floor_type</th>\n",
       "      <th>citycenters_nearest_km</th>\n",
       "    </tr>\n",
       "  </thead>\n",
       "  <tbody>\n",
       "    <tr>\n",
       "      <th>4</th>\n",
       "      <td>2</td>\n",
       "      <td>10000000.0</td>\n",
       "      <td>100.00</td>\n",
       "      <td>2018-06-19</td>\n",
       "      <td>2</td>\n",
       "      <td>3.03</td>\n",
       "      <td>14</td>\n",
       "      <td>32.00</td>\n",
       "      <td>13</td>\n",
       "      <td>False</td>\n",
       "      <td>...</td>\n",
       "      <td>112.0</td>\n",
       "      <td>1.0</td>\n",
       "      <td>48.0</td>\n",
       "      <td>121.0</td>\n",
       "      <td>2018</td>\n",
       "      <td>100000.00</td>\n",
       "      <td>1</td>\n",
       "      <td>6</td>\n",
       "      <td>другой</td>\n",
       "      <td>8.0</td>\n",
       "    </tr>\n",
       "    <tr>\n",
       "      <th>6</th>\n",
       "      <td>6</td>\n",
       "      <td>3700000.0</td>\n",
       "      <td>37.30</td>\n",
       "      <td>2017-11-02</td>\n",
       "      <td>1</td>\n",
       "      <td>2.66</td>\n",
       "      <td>26</td>\n",
       "      <td>10.60</td>\n",
       "      <td>6</td>\n",
       "      <td>False</td>\n",
       "      <td>...</td>\n",
       "      <td>NaN</td>\n",
       "      <td>0.0</td>\n",
       "      <td>NaN</td>\n",
       "      <td>155.0</td>\n",
       "      <td>2017</td>\n",
       "      <td>99195.71</td>\n",
       "      <td>3</td>\n",
       "      <td>11</td>\n",
       "      <td>другой</td>\n",
       "      <td>19.0</td>\n",
       "    </tr>\n",
       "    <tr>\n",
       "      <th>51</th>\n",
       "      <td>7</td>\n",
       "      <td>45000000.0</td>\n",
       "      <td>161.00</td>\n",
       "      <td>2017-10-17</td>\n",
       "      <td>3</td>\n",
       "      <td>3.20</td>\n",
       "      <td>8</td>\n",
       "      <td>38.00</td>\n",
       "      <td>4</td>\n",
       "      <td>False</td>\n",
       "      <td>...</td>\n",
       "      <td>NaN</td>\n",
       "      <td>3.0</td>\n",
       "      <td>99.0</td>\n",
       "      <td>541.0</td>\n",
       "      <td>2017</td>\n",
       "      <td>279503.11</td>\n",
       "      <td>1</td>\n",
       "      <td>10</td>\n",
       "      <td>другой</td>\n",
       "      <td>7.0</td>\n",
       "    </tr>\n",
       "    <tr>\n",
       "      <th>53</th>\n",
       "      <td>7</td>\n",
       "      <td>4300000.0</td>\n",
       "      <td>39.10</td>\n",
       "      <td>2017-11-10</td>\n",
       "      <td>1</td>\n",
       "      <td>2.75</td>\n",
       "      <td>25</td>\n",
       "      <td>15.40</td>\n",
       "      <td>13</td>\n",
       "      <td>False</td>\n",
       "      <td>...</td>\n",
       "      <td>NaN</td>\n",
       "      <td>0.0</td>\n",
       "      <td>NaN</td>\n",
       "      <td>6.0</td>\n",
       "      <td>2017</td>\n",
       "      <td>109974.42</td>\n",
       "      <td>4</td>\n",
       "      <td>11</td>\n",
       "      <td>другой</td>\n",
       "      <td>19.0</td>\n",
       "    </tr>\n",
       "    <tr>\n",
       "      <th>101</th>\n",
       "      <td>4</td>\n",
       "      <td>3000000.0</td>\n",
       "      <td>37.00</td>\n",
       "      <td>2019-03-23</td>\n",
       "      <td>1</td>\n",
       "      <td>2.75</td>\n",
       "      <td>10</td>\n",
       "      <td>12.00</td>\n",
       "      <td>3</td>\n",
       "      <td>False</td>\n",
       "      <td>...</td>\n",
       "      <td>NaN</td>\n",
       "      <td>NaN</td>\n",
       "      <td>NaN</td>\n",
       "      <td>NaN</td>\n",
       "      <td>2019</td>\n",
       "      <td>81081.08</td>\n",
       "      <td>5</td>\n",
       "      <td>3</td>\n",
       "      <td>другой</td>\n",
       "      <td>NaN</td>\n",
       "    </tr>\n",
       "    <tr>\n",
       "      <th>...</th>\n",
       "      <td>...</td>\n",
       "      <td>...</td>\n",
       "      <td>...</td>\n",
       "      <td>...</td>\n",
       "      <td>...</td>\n",
       "      <td>...</td>\n",
       "      <td>...</td>\n",
       "      <td>...</td>\n",
       "      <td>...</td>\n",
       "      <td>...</td>\n",
       "      <td>...</td>\n",
       "      <td>...</td>\n",
       "      <td>...</td>\n",
       "      <td>...</td>\n",
       "      <td>...</td>\n",
       "      <td>...</td>\n",
       "      <td>...</td>\n",
       "      <td>...</td>\n",
       "      <td>...</td>\n",
       "      <td>...</td>\n",
       "      <td>...</td>\n",
       "    </tr>\n",
       "    <tr>\n",
       "      <th>23208</th>\n",
       "      <td>12</td>\n",
       "      <td>4800000.0</td>\n",
       "      <td>37.00</td>\n",
       "      <td>2016-02-24</td>\n",
       "      <td>1</td>\n",
       "      <td>2.60</td>\n",
       "      <td>14</td>\n",
       "      <td>8.00</td>\n",
       "      <td>11</td>\n",
       "      <td>False</td>\n",
       "      <td>...</td>\n",
       "      <td>358.0</td>\n",
       "      <td>1.0</td>\n",
       "      <td>950.0</td>\n",
       "      <td>139.0</td>\n",
       "      <td>2016</td>\n",
       "      <td>129729.73</td>\n",
       "      <td>2</td>\n",
       "      <td>2</td>\n",
       "      <td>другой</td>\n",
       "      <td>12.0</td>\n",
       "    </tr>\n",
       "    <tr>\n",
       "      <th>23388</th>\n",
       "      <td>7</td>\n",
       "      <td>5400000.0</td>\n",
       "      <td>43.00</td>\n",
       "      <td>2017-04-24</td>\n",
       "      <td>1</td>\n",
       "      <td>2.70</td>\n",
       "      <td>18</td>\n",
       "      <td>12.00</td>\n",
       "      <td>8</td>\n",
       "      <td>False</td>\n",
       "      <td>...</td>\n",
       "      <td>NaN</td>\n",
       "      <td>0.0</td>\n",
       "      <td>NaN</td>\n",
       "      <td>124.0</td>\n",
       "      <td>2017</td>\n",
       "      <td>125581.40</td>\n",
       "      <td>0</td>\n",
       "      <td>4</td>\n",
       "      <td>другой</td>\n",
       "      <td>16.0</td>\n",
       "    </tr>\n",
       "    <tr>\n",
       "      <th>23481</th>\n",
       "      <td>1</td>\n",
       "      <td>3000000.0</td>\n",
       "      <td>37.29</td>\n",
       "      <td>2019-04-15</td>\n",
       "      <td>1</td>\n",
       "      <td>2.75</td>\n",
       "      <td>19</td>\n",
       "      <td>10.08</td>\n",
       "      <td>10</td>\n",
       "      <td>False</td>\n",
       "      <td>...</td>\n",
       "      <td>NaN</td>\n",
       "      <td>0.0</td>\n",
       "      <td>NaN</td>\n",
       "      <td>7.0</td>\n",
       "      <td>2019</td>\n",
       "      <td>80450.52</td>\n",
       "      <td>0</td>\n",
       "      <td>4</td>\n",
       "      <td>другой</td>\n",
       "      <td>15.0</td>\n",
       "    </tr>\n",
       "    <tr>\n",
       "      <th>23573</th>\n",
       "      <td>8</td>\n",
       "      <td>6290000.0</td>\n",
       "      <td>47.67</td>\n",
       "      <td>2019-03-20</td>\n",
       "      <td>1</td>\n",
       "      <td>3.60</td>\n",
       "      <td>12</td>\n",
       "      <td>13.59</td>\n",
       "      <td>12</td>\n",
       "      <td>False</td>\n",
       "      <td>...</td>\n",
       "      <td>253.0</td>\n",
       "      <td>2.0</td>\n",
       "      <td>99.0</td>\n",
       "      <td>19.0</td>\n",
       "      <td>2019</td>\n",
       "      <td>131948.81</td>\n",
       "      <td>2</td>\n",
       "      <td>3</td>\n",
       "      <td>последний</td>\n",
       "      <td>16.0</td>\n",
       "    </tr>\n",
       "    <tr>\n",
       "      <th>23574</th>\n",
       "      <td>14</td>\n",
       "      <td>64990000.0</td>\n",
       "      <td>139.00</td>\n",
       "      <td>2015-11-24</td>\n",
       "      <td>3</td>\n",
       "      <td>3.00</td>\n",
       "      <td>8</td>\n",
       "      <td>3.00</td>\n",
       "      <td>8</td>\n",
       "      <td>False</td>\n",
       "      <td>...</td>\n",
       "      <td>630.0</td>\n",
       "      <td>3.0</td>\n",
       "      <td>100.0</td>\n",
       "      <td>280.0</td>\n",
       "      <td>2015</td>\n",
       "      <td>467553.96</td>\n",
       "      <td>1</td>\n",
       "      <td>11</td>\n",
       "      <td>последний</td>\n",
       "      <td>6.0</td>\n",
       "    </tr>\n",
       "  </tbody>\n",
       "</table>\n",
       "<p>353 rows × 28 columns</p>\n",
       "</div>"
      ],
      "text/plain": [
       "       total_images  last_price  total_area first_day_exposition  rooms  \\\n",
       "4                 2  10000000.0      100.00           2018-06-19      2   \n",
       "6                 6   3700000.0       37.30           2017-11-02      1   \n",
       "51                7  45000000.0      161.00           2017-10-17      3   \n",
       "53                7   4300000.0       39.10           2017-11-10      1   \n",
       "101               4   3000000.0       37.00           2019-03-23      1   \n",
       "...             ...         ...         ...                  ...    ...   \n",
       "23208            12   4800000.0       37.00           2016-02-24      1   \n",
       "23388             7   5400000.0       43.00           2017-04-24      1   \n",
       "23481             1   3000000.0       37.29           2019-04-15      1   \n",
       "23573             8   6290000.0       47.67           2019-03-20      1   \n",
       "23574            14  64990000.0      139.00           2015-11-24      3   \n",
       "\n",
       "       ceiling_height  floors_total  living_area  floor  is_apartment  ...  \\\n",
       "4                3.03            14        32.00     13         False  ...   \n",
       "6                2.66            26        10.60      6         False  ...   \n",
       "51               3.20             8        38.00      4         False  ...   \n",
       "53               2.75            25        15.40     13         False  ...   \n",
       "101              2.75            10        12.00      3         False  ...   \n",
       "...               ...           ...          ...    ...           ...  ...   \n",
       "23208            2.60            14         8.00     11         False  ...   \n",
       "23388            2.70            18        12.00      8         False  ...   \n",
       "23481            2.75            19        10.08     10         False  ...   \n",
       "23573            3.60            12        13.59     12         False  ...   \n",
       "23574            3.00             8         3.00      8         False  ...   \n",
       "\n",
       "       parks_nearest  ponds_around3000  ponds_nearest  days_exposition  \\\n",
       "4              112.0               1.0           48.0            121.0   \n",
       "6                NaN               0.0            NaN            155.0   \n",
       "51               NaN               3.0           99.0            541.0   \n",
       "53               NaN               0.0            NaN              6.0   \n",
       "101              NaN               NaN            NaN              NaN   \n",
       "...              ...               ...            ...              ...   \n",
       "23208          358.0               1.0          950.0            139.0   \n",
       "23388            NaN               0.0            NaN            124.0   \n",
       "23481            NaN               0.0            NaN              7.0   \n",
       "23573          253.0               2.0           99.0             19.0   \n",
       "23574          630.0               3.0          100.0            280.0   \n",
       "\n",
       "      year_exposition  one_meter_price  weekday_exposition  month_exposition  \\\n",
       "4                2018        100000.00                   1                 6   \n",
       "6                2017         99195.71                   3                11   \n",
       "51               2017        279503.11                   1                10   \n",
       "53               2017        109974.42                   4                11   \n",
       "101              2019         81081.08                   5                 3   \n",
       "...               ...              ...                 ...               ...   \n",
       "23208            2016        129729.73                   2                 2   \n",
       "23388            2017        125581.40                   0                 4   \n",
       "23481            2019         80450.52                   0                 4   \n",
       "23573            2019        131948.81                   2                 3   \n",
       "23574            2015        467553.96                   1                11   \n",
       "\n",
       "       floor_type  citycenters_nearest_km  \n",
       "4          другой                     8.0  \n",
       "6          другой                    19.0  \n",
       "51         другой                     7.0  \n",
       "53         другой                    19.0  \n",
       "101        другой                     NaN  \n",
       "...           ...                     ...  \n",
       "23208      другой                    12.0  \n",
       "23388      другой                    16.0  \n",
       "23481      другой                    15.0  \n",
       "23573   последний                    16.0  \n",
       "23574   последний                     6.0  \n",
       "\n",
       "[353 rows x 28 columns]"
      ]
     },
     "execution_count": 34,
     "metadata": {},
     "output_type": "execute_result"
    }
   ],
   "source": [
    "data.loc[data['living_area']<data['kitchen_area']]"
   ]
  },
  {
   "cell_type": "code",
   "execution_count": 35,
   "metadata": {},
   "outputs": [],
   "source": [
    "#удалим строки в которых площадь кухни сильно превышает жилую площадь, как аномальные\n",
    "data = data.loc[data['living_area']>data['kitchen_area']] "
   ]
  },
  {
   "cell_type": "code",
   "execution_count": 36,
   "metadata": {},
   "outputs": [
    {
     "data": {
      "text/html": [
       "<div>\n",
       "<style scoped>\n",
       "    .dataframe tbody tr th:only-of-type {\n",
       "        vertical-align: middle;\n",
       "    }\n",
       "\n",
       "    .dataframe tbody tr th {\n",
       "        vertical-align: top;\n",
       "    }\n",
       "\n",
       "    .dataframe thead th {\n",
       "        text-align: right;\n",
       "    }\n",
       "</style>\n",
       "<table border=\"1\" class=\"dataframe\">\n",
       "  <thead>\n",
       "    <tr style=\"text-align: right;\">\n",
       "      <th></th>\n",
       "      <th>total_images</th>\n",
       "      <th>last_price</th>\n",
       "      <th>total_area</th>\n",
       "      <th>first_day_exposition</th>\n",
       "      <th>rooms</th>\n",
       "      <th>ceiling_height</th>\n",
       "      <th>floors_total</th>\n",
       "      <th>living_area</th>\n",
       "      <th>floor</th>\n",
       "      <th>is_apartment</th>\n",
       "      <th>...</th>\n",
       "      <th>parks_nearest</th>\n",
       "      <th>ponds_around3000</th>\n",
       "      <th>ponds_nearest</th>\n",
       "      <th>days_exposition</th>\n",
       "      <th>year_exposition</th>\n",
       "      <th>one_meter_price</th>\n",
       "      <th>weekday_exposition</th>\n",
       "      <th>month_exposition</th>\n",
       "      <th>floor_type</th>\n",
       "      <th>citycenters_nearest_km</th>\n",
       "    </tr>\n",
       "  </thead>\n",
       "  <tbody>\n",
       "    <tr>\n",
       "      <th>184</th>\n",
       "      <td>7</td>\n",
       "      <td>2600000.0</td>\n",
       "      <td>30.20</td>\n",
       "      <td>2018-02-14</td>\n",
       "      <td>1</td>\n",
       "      <td>2.65</td>\n",
       "      <td>9</td>\n",
       "      <td>26.10</td>\n",
       "      <td>5</td>\n",
       "      <td>False</td>\n",
       "      <td>...</td>\n",
       "      <td>NaN</td>\n",
       "      <td>1.0</td>\n",
       "      <td>824.0</td>\n",
       "      <td>12.0</td>\n",
       "      <td>2018</td>\n",
       "      <td>86092.72</td>\n",
       "      <td>2</td>\n",
       "      <td>2</td>\n",
       "      <td>другой</td>\n",
       "      <td>15.0</td>\n",
       "    </tr>\n",
       "    <tr>\n",
       "      <th>424</th>\n",
       "      <td>14</td>\n",
       "      <td>11500000.0</td>\n",
       "      <td>98.00</td>\n",
       "      <td>2016-05-10</td>\n",
       "      <td>3</td>\n",
       "      <td>2.65</td>\n",
       "      <td>3</td>\n",
       "      <td>88.00</td>\n",
       "      <td>3</td>\n",
       "      <td>False</td>\n",
       "      <td>...</td>\n",
       "      <td>NaN</td>\n",
       "      <td>0.0</td>\n",
       "      <td>NaN</td>\n",
       "      <td>90.0</td>\n",
       "      <td>2016</td>\n",
       "      <td>117346.94</td>\n",
       "      <td>1</td>\n",
       "      <td>5</td>\n",
       "      <td>последний</td>\n",
       "      <td>13.0</td>\n",
       "    </tr>\n",
       "    <tr>\n",
       "      <th>440</th>\n",
       "      <td>8</td>\n",
       "      <td>2480000.0</td>\n",
       "      <td>27.11</td>\n",
       "      <td>2018-03-12</td>\n",
       "      <td>0</td>\n",
       "      <td>2.70</td>\n",
       "      <td>17</td>\n",
       "      <td>24.75</td>\n",
       "      <td>4</td>\n",
       "      <td>False</td>\n",
       "      <td>...</td>\n",
       "      <td>NaN</td>\n",
       "      <td>2.0</td>\n",
       "      <td>982.0</td>\n",
       "      <td>64.0</td>\n",
       "      <td>2018</td>\n",
       "      <td>91479.16</td>\n",
       "      <td>0</td>\n",
       "      <td>3</td>\n",
       "      <td>другой</td>\n",
       "      <td>15.0</td>\n",
       "    </tr>\n",
       "    <tr>\n",
       "      <th>551</th>\n",
       "      <td>8</td>\n",
       "      <td>3100000.0</td>\n",
       "      <td>31.59</td>\n",
       "      <td>2018-03-08</td>\n",
       "      <td>1</td>\n",
       "      <td>2.70</td>\n",
       "      <td>19</td>\n",
       "      <td>30.55</td>\n",
       "      <td>2</td>\n",
       "      <td>False</td>\n",
       "      <td>...</td>\n",
       "      <td>NaN</td>\n",
       "      <td>NaN</td>\n",
       "      <td>NaN</td>\n",
       "      <td>70.0</td>\n",
       "      <td>2018</td>\n",
       "      <td>98132.32</td>\n",
       "      <td>3</td>\n",
       "      <td>3</td>\n",
       "      <td>другой</td>\n",
       "      <td>NaN</td>\n",
       "    </tr>\n",
       "    <tr>\n",
       "      <th>601</th>\n",
       "      <td>12</td>\n",
       "      <td>5600000.0</td>\n",
       "      <td>53.70</td>\n",
       "      <td>2017-04-18</td>\n",
       "      <td>2</td>\n",
       "      <td>2.50</td>\n",
       "      <td>12</td>\n",
       "      <td>48.30</td>\n",
       "      <td>5</td>\n",
       "      <td>False</td>\n",
       "      <td>...</td>\n",
       "      <td>220.0</td>\n",
       "      <td>1.0</td>\n",
       "      <td>1250.0</td>\n",
       "      <td>167.0</td>\n",
       "      <td>2017</td>\n",
       "      <td>104283.05</td>\n",
       "      <td>1</td>\n",
       "      <td>4</td>\n",
       "      <td>другой</td>\n",
       "      <td>13.0</td>\n",
       "    </tr>\n",
       "    <tr>\n",
       "      <th>...</th>\n",
       "      <td>...</td>\n",
       "      <td>...</td>\n",
       "      <td>...</td>\n",
       "      <td>...</td>\n",
       "      <td>...</td>\n",
       "      <td>...</td>\n",
       "      <td>...</td>\n",
       "      <td>...</td>\n",
       "      <td>...</td>\n",
       "      <td>...</td>\n",
       "      <td>...</td>\n",
       "      <td>...</td>\n",
       "      <td>...</td>\n",
       "      <td>...</td>\n",
       "      <td>...</td>\n",
       "      <td>...</td>\n",
       "      <td>...</td>\n",
       "      <td>...</td>\n",
       "      <td>...</td>\n",
       "      <td>...</td>\n",
       "      <td>...</td>\n",
       "    </tr>\n",
       "    <tr>\n",
       "      <th>21956</th>\n",
       "      <td>0</td>\n",
       "      <td>5200000.0</td>\n",
       "      <td>46.00</td>\n",
       "      <td>2018-07-20</td>\n",
       "      <td>2</td>\n",
       "      <td>2.55</td>\n",
       "      <td>5</td>\n",
       "      <td>44.00</td>\n",
       "      <td>5</td>\n",
       "      <td>False</td>\n",
       "      <td>...</td>\n",
       "      <td>488.0</td>\n",
       "      <td>0.0</td>\n",
       "      <td>NaN</td>\n",
       "      <td>7.0</td>\n",
       "      <td>2018</td>\n",
       "      <td>113043.48</td>\n",
       "      <td>4</td>\n",
       "      <td>7</td>\n",
       "      <td>последний</td>\n",
       "      <td>15.0</td>\n",
       "    </tr>\n",
       "    <tr>\n",
       "      <th>22095</th>\n",
       "      <td>6</td>\n",
       "      <td>2194000.0</td>\n",
       "      <td>36.50</td>\n",
       "      <td>2017-09-27</td>\n",
       "      <td>1</td>\n",
       "      <td>2.80</td>\n",
       "      <td>3</td>\n",
       "      <td>33.20</td>\n",
       "      <td>3</td>\n",
       "      <td>False</td>\n",
       "      <td>...</td>\n",
       "      <td>NaN</td>\n",
       "      <td>2.0</td>\n",
       "      <td>639.0</td>\n",
       "      <td>36.0</td>\n",
       "      <td>2017</td>\n",
       "      <td>60109.59</td>\n",
       "      <td>2</td>\n",
       "      <td>9</td>\n",
       "      <td>последний</td>\n",
       "      <td>18.0</td>\n",
       "    </tr>\n",
       "    <tr>\n",
       "      <th>22246</th>\n",
       "      <td>6</td>\n",
       "      <td>3100000.0</td>\n",
       "      <td>27.30</td>\n",
       "      <td>2018-05-29</td>\n",
       "      <td>0</td>\n",
       "      <td>2.70</td>\n",
       "      <td>16</td>\n",
       "      <td>23.30</td>\n",
       "      <td>15</td>\n",
       "      <td>False</td>\n",
       "      <td>...</td>\n",
       "      <td>NaN</td>\n",
       "      <td>0.0</td>\n",
       "      <td>NaN</td>\n",
       "      <td>59.0</td>\n",
       "      <td>2018</td>\n",
       "      <td>113553.11</td>\n",
       "      <td>1</td>\n",
       "      <td>5</td>\n",
       "      <td>другой</td>\n",
       "      <td>10.0</td>\n",
       "    </tr>\n",
       "    <tr>\n",
       "      <th>23102</th>\n",
       "      <td>0</td>\n",
       "      <td>5800000.0</td>\n",
       "      <td>66.00</td>\n",
       "      <td>2017-06-09</td>\n",
       "      <td>5</td>\n",
       "      <td>2.55</td>\n",
       "      <td>5</td>\n",
       "      <td>55.50</td>\n",
       "      <td>1</td>\n",
       "      <td>False</td>\n",
       "      <td>...</td>\n",
       "      <td>NaN</td>\n",
       "      <td>0.0</td>\n",
       "      <td>NaN</td>\n",
       "      <td>21.0</td>\n",
       "      <td>2017</td>\n",
       "      <td>87878.79</td>\n",
       "      <td>4</td>\n",
       "      <td>6</td>\n",
       "      <td>первый</td>\n",
       "      <td>12.0</td>\n",
       "    </tr>\n",
       "    <tr>\n",
       "      <th>23202</th>\n",
       "      <td>13</td>\n",
       "      <td>4919880.0</td>\n",
       "      <td>67.92</td>\n",
       "      <td>2018-10-23</td>\n",
       "      <td>2</td>\n",
       "      <td>2.80</td>\n",
       "      <td>3</td>\n",
       "      <td>63.00</td>\n",
       "      <td>3</td>\n",
       "      <td>False</td>\n",
       "      <td>...</td>\n",
       "      <td>NaN</td>\n",
       "      <td>NaN</td>\n",
       "      <td>NaN</td>\n",
       "      <td>60.0</td>\n",
       "      <td>2018</td>\n",
       "      <td>72436.40</td>\n",
       "      <td>1</td>\n",
       "      <td>10</td>\n",
       "      <td>последний</td>\n",
       "      <td>NaN</td>\n",
       "    </tr>\n",
       "  </tbody>\n",
       "</table>\n",
       "<p>92 rows × 28 columns</p>\n",
       "</div>"
      ],
      "text/plain": [
       "       total_images  last_price  total_area first_day_exposition  rooms  \\\n",
       "184               7   2600000.0       30.20           2018-02-14      1   \n",
       "424              14  11500000.0       98.00           2016-05-10      3   \n",
       "440               8   2480000.0       27.11           2018-03-12      0   \n",
       "551               8   3100000.0       31.59           2018-03-08      1   \n",
       "601              12   5600000.0       53.70           2017-04-18      2   \n",
       "...             ...         ...         ...                  ...    ...   \n",
       "21956             0   5200000.0       46.00           2018-07-20      2   \n",
       "22095             6   2194000.0       36.50           2017-09-27      1   \n",
       "22246             6   3100000.0       27.30           2018-05-29      0   \n",
       "23102             0   5800000.0       66.00           2017-06-09      5   \n",
       "23202            13   4919880.0       67.92           2018-10-23      2   \n",
       "\n",
       "       ceiling_height  floors_total  living_area  floor  is_apartment  ...  \\\n",
       "184              2.65             9        26.10      5         False  ...   \n",
       "424              2.65             3        88.00      3         False  ...   \n",
       "440              2.70            17        24.75      4         False  ...   \n",
       "551              2.70            19        30.55      2         False  ...   \n",
       "601              2.50            12        48.30      5         False  ...   \n",
       "...               ...           ...          ...    ...           ...  ...   \n",
       "21956            2.55             5        44.00      5         False  ...   \n",
       "22095            2.80             3        33.20      3         False  ...   \n",
       "22246            2.70            16        23.30     15         False  ...   \n",
       "23102            2.55             5        55.50      1         False  ...   \n",
       "23202            2.80             3        63.00      3         False  ...   \n",
       "\n",
       "       parks_nearest  ponds_around3000  ponds_nearest  days_exposition  \\\n",
       "184              NaN               1.0          824.0             12.0   \n",
       "424              NaN               0.0            NaN             90.0   \n",
       "440              NaN               2.0          982.0             64.0   \n",
       "551              NaN               NaN            NaN             70.0   \n",
       "601            220.0               1.0         1250.0            167.0   \n",
       "...              ...               ...            ...              ...   \n",
       "21956          488.0               0.0            NaN              7.0   \n",
       "22095            NaN               2.0          639.0             36.0   \n",
       "22246            NaN               0.0            NaN             59.0   \n",
       "23102            NaN               0.0            NaN             21.0   \n",
       "23202            NaN               NaN            NaN             60.0   \n",
       "\n",
       "      year_exposition  one_meter_price  weekday_exposition  month_exposition  \\\n",
       "184              2018         86092.72                   2                 2   \n",
       "424              2016        117346.94                   1                 5   \n",
       "440              2018         91479.16                   0                 3   \n",
       "551              2018         98132.32                   3                 3   \n",
       "601              2017        104283.05                   1                 4   \n",
       "...               ...              ...                 ...               ...   \n",
       "21956            2018        113043.48                   4                 7   \n",
       "22095            2017         60109.59                   2                 9   \n",
       "22246            2018        113553.11                   1                 5   \n",
       "23102            2017         87878.79                   4                 6   \n",
       "23202            2018         72436.40                   1                10   \n",
       "\n",
       "       floor_type  citycenters_nearest_km  \n",
       "184        другой                    15.0  \n",
       "424     последний                    13.0  \n",
       "440        другой                    15.0  \n",
       "551        другой                     NaN  \n",
       "601        другой                    13.0  \n",
       "...           ...                     ...  \n",
       "21956   последний                    15.0  \n",
       "22095   последний                    18.0  \n",
       "22246      другой                    10.0  \n",
       "23102      первый                    12.0  \n",
       "23202   последний                     NaN  \n",
       "\n",
       "[92 rows x 28 columns]"
      ]
     },
     "execution_count": 36,
     "metadata": {},
     "output_type": "execute_result"
    }
   ],
   "source": [
    "data.loc[(data['living_area']+data['kitchen_area'])>data['total_area']]"
   ]
  },
  {
   "cell_type": "code",
   "execution_count": 37,
   "metadata": {},
   "outputs": [],
   "source": [
    "#удалим строки в которых суммарно площадь кухни и жилая сильно превышает общую площадь, как аномальные\n",
    "data = data.loc[(data['living_area']+data['kitchen_area'])<data['total_area']] "
   ]
  },
  {
   "cell_type": "code",
   "execution_count": 38,
   "metadata": {},
   "outputs": [
    {
     "data": {
      "text/plain": [
       "<AxesSubplot:>"
      ]
     },
     "execution_count": 38,
     "metadata": {},
     "output_type": "execute_result"
    },
    {
     "data": {
      "image/png": "[encoded data removed]",
      "text/plain": [
       "<Figure size 432x288 with 1 Axes>"
      ]
     },
     "metadata": {
      "needs_background": "light"
     },
     "output_type": "display_data"
    }
   ],
   "source": [
    "data['living_area'].hist(bins=10, range=(10,100))"
   ]
  },
  {
   "cell_type": "code",
   "execution_count": 39,
   "metadata": {},
   "outputs": [
    {
     "data": {
      "text/plain": [
       "count    22546.000000\n",
       "mean        10.051267\n",
       "std          4.635050\n",
       "min          1.300000\n",
       "25%          7.000000\n",
       "50%          9.000000\n",
       "75%         11.500000\n",
       "max         77.000000\n",
       "Name: kitchen_area, dtype: float64"
      ]
     },
     "execution_count": 39,
     "metadata": {},
     "output_type": "execute_result"
    }
   ],
   "source": [
    "data['kitchen_area'].describe()"
   ]
  },
  {
   "cell_type": "code",
   "execution_count": 40,
   "metadata": {},
   "outputs": [
    {
     "data": {
      "text/plain": [
       "20217    1.30\n",
       "16367    2.00\n",
       "906      2.00\n",
       "11033    2.00\n",
       "17834    2.30\n",
       "7950     2.89\n",
       "15014    3.00\n",
       "17424    3.00\n",
       "13814    3.00\n",
       "3078     3.20\n",
       "Name: kitchen_area, dtype: float64"
      ]
     },
     "execution_count": 40,
     "metadata": {},
     "output_type": "execute_result"
    }
   ],
   "source": [
    "data['kitchen_area'].sort_values(ascending=True).head(10)"
   ]
  },
  {
   "cell_type": "code",
   "execution_count": 41,
   "metadata": {},
   "outputs": [
    {
     "data": {
      "text/plain": [
       "<AxesSubplot:>"
      ]
     },
     "execution_count": 41,
     "metadata": {},
     "output_type": "execute_result"
    },
    {
     "data": {
      "image/png": "[encoded data removed]",
      "text/plain": [
       "<Figure size 432x288 with 1 Axes>"
      ]
     },
     "metadata": {
      "needs_background": "light"
     },
     "output_type": "display_data"
    }
   ],
   "source": [
    "data['kitchen_area'].hist(bins=30, range=(10,50))"
   ]
  },
  {
   "cell_type": "code",
   "execution_count": 42,
   "metadata": {},
   "outputs": [],
   "source": [
    "#отсечем 1% от крайних значений, т.к. они явно выбиваются из выборки\n",
    "#data = data.loc[(data['kitchen_area']<np.percentile(data['kitchen_area'], 99))&(\n",
    "    #data['kitchen_area']>np.percentile(data['kitchen_area'], 1))] "
   ]
  },
  {
   "cell_type": "markdown",
   "metadata": {},
   "source": [
    "##### Изучим данные о цене недвижимости будем строить гистограммы и отсекать данные слишком выбивающиеся из выборки"
   ]
  },
  {
   "cell_type": "code",
   "execution_count": 43,
   "metadata": {},
   "outputs": [
    {
     "data": {
      "text/plain": [
       "count    2.254600e+04\n",
       "mean     5.987714e+06\n",
       "std      6.055735e+06\n",
       "min      4.300000e+05\n",
       "25%      3.450000e+06\n",
       "50%      4.600000e+06\n",
       "75%      6.688750e+06\n",
       "max      3.300000e+08\n",
       "Name: last_price, dtype: float64"
      ]
     },
     "execution_count": 43,
     "metadata": {},
     "output_type": "execute_result"
    }
   ],
   "source": [
    "data['last_price'].describe()"
   ]
  },
  {
   "cell_type": "code",
   "execution_count": 44,
   "metadata": {},
   "outputs": [
    {
     "data": {
      "text/plain": [
       "<AxesSubplot:>"
      ]
     },
     "execution_count": 44,
     "metadata": {},
     "output_type": "execute_result"
    },
    {
     "data": {
      "image/png": "[encoded data removed]",
      "text/plain": [
       "<Figure size 432x288 with 1 Axes>"
      ]
     },
     "metadata": {
      "needs_background": "light"
     },
     "output_type": "display_data"
    }
   ],
   "source": [
    "data['last_price'].hist(bins=30, range=(4.300000e+05, 3.000000e+07))"
   ]
  },
  {
   "cell_type": "code",
   "execution_count": 45,
   "metadata": {},
   "outputs": [],
   "source": [
    "#отсечем 1% от крайних значений, т.к. они явно выбиваются из выборки\n",
    "data = data.loc[(data['last_price']<np.percentile(data['last_price'], 99))&(\n",
    "    data['last_price']>np.percentile(data['last_price'], 1))] "
   ]
  },
  {
   "cell_type": "markdown",
   "metadata": {},
   "source": [
    "##### Изучим данные о количестве комнат, этаже, высоте потолка будем строить гистограммы и отсекать данные слишком выбивающиеся из выборки"
   ]
  },
  {
   "cell_type": "code",
   "execution_count": 46,
   "metadata": {},
   "outputs": [
    {
     "data": {
      "text/plain": [
       "count    22084.000000\n",
       "mean         2.047817\n",
       "std          0.978913\n",
       "min          0.000000\n",
       "25%          1.000000\n",
       "50%          2.000000\n",
       "75%          3.000000\n",
       "max         11.000000\n",
       "Name: rooms, dtype: float64"
      ]
     },
     "execution_count": 46,
     "metadata": {},
     "output_type": "execute_result"
    }
   ],
   "source": [
    "data['rooms'].describe()"
   ]
  },
  {
   "cell_type": "code",
   "execution_count": 47,
   "metadata": {},
   "outputs": [
    {
     "data": {
      "text/plain": [
       "2     7616\n",
       "1     7435\n",
       "3     5559\n",
       "4     1062\n",
       "5      231\n",
       "0      106\n",
       "6       54\n",
       "7       18\n",
       "8        2\n",
       "11       1\n",
       "Name: rooms, dtype: int64"
      ]
     },
     "execution_count": 47,
     "metadata": {},
     "output_type": "execute_result"
    }
   ],
   "source": [
    "data['rooms'].value_counts()"
   ]
  },
  {
   "cell_type": "code",
   "execution_count": 48,
   "metadata": {},
   "outputs": [],
   "source": [
    "data = data.loc[data['rooms']<8] #оставим квартиры с комнатами меньше 8"
   ]
  },
  {
   "cell_type": "code",
   "execution_count": 49,
   "metadata": {},
   "outputs": [
    {
     "data": {
      "text/html": [
       "<div>\n",
       "<style scoped>\n",
       "    .dataframe tbody tr th:only-of-type {\n",
       "        vertical-align: middle;\n",
       "    }\n",
       "\n",
       "    .dataframe tbody tr th {\n",
       "        vertical-align: top;\n",
       "    }\n",
       "\n",
       "    .dataframe thead th {\n",
       "        text-align: right;\n",
       "    }\n",
       "</style>\n",
       "<table border=\"1\" class=\"dataframe\">\n",
       "  <thead>\n",
       "    <tr style=\"text-align: right;\">\n",
       "      <th></th>\n",
       "      <th>last_price</th>\n",
       "      <th>total_area</th>\n",
       "      <th>first_day_exposition</th>\n",
       "      <th>rooms</th>\n",
       "      <th>ceiling_height</th>\n",
       "      <th>floors_total</th>\n",
       "      <th>living_area</th>\n",
       "      <th>floor</th>\n",
       "      <th>is_apartment</th>\n",
       "      <th>studio</th>\n",
       "      <th>open_plan</th>\n",
       "      <th>kitchen_area</th>\n",
       "      <th>balcony</th>\n",
       "      <th>locality_name</th>\n",
       "    </tr>\n",
       "  </thead>\n",
       "  <tbody>\n",
       "    <tr>\n",
       "      <th>144</th>\n",
       "      <td>2450000.0</td>\n",
       "      <td>27.0</td>\n",
       "      <td>2017-03-30</td>\n",
       "      <td>0</td>\n",
       "      <td>2.75</td>\n",
       "      <td>24</td>\n",
       "      <td>15.500000</td>\n",
       "      <td>2</td>\n",
       "      <td>False</td>\n",
       "      <td>True</td>\n",
       "      <td>False</td>\n",
       "      <td>4.727014</td>\n",
       "      <td>2</td>\n",
       "      <td>поселок мурино</td>\n",
       "    </tr>\n",
       "    <tr>\n",
       "      <th>508</th>\n",
       "      <td>3375000.0</td>\n",
       "      <td>34.4</td>\n",
       "      <td>2017-03-28</td>\n",
       "      <td>0</td>\n",
       "      <td>2.66</td>\n",
       "      <td>26</td>\n",
       "      <td>24.300000</td>\n",
       "      <td>19</td>\n",
       "      <td>False</td>\n",
       "      <td>False</td>\n",
       "      <td>True</td>\n",
       "      <td>6.022566</td>\n",
       "      <td>1</td>\n",
       "      <td>поселок парголово</td>\n",
       "    </tr>\n",
       "    <tr>\n",
       "      <th>780</th>\n",
       "      <td>2600000.0</td>\n",
       "      <td>26.1</td>\n",
       "      <td>2018-02-20</td>\n",
       "      <td>0</td>\n",
       "      <td>2.70</td>\n",
       "      <td>18</td>\n",
       "      <td>14.907638</td>\n",
       "      <td>8</td>\n",
       "      <td>False</td>\n",
       "      <td>False</td>\n",
       "      <td>True</td>\n",
       "      <td>4.569447</td>\n",
       "      <td>1</td>\n",
       "      <td>поселок мурино</td>\n",
       "    </tr>\n",
       "    <tr>\n",
       "      <th>839</th>\n",
       "      <td>1900000.0</td>\n",
       "      <td>35.0</td>\n",
       "      <td>2017-04-14</td>\n",
       "      <td>0</td>\n",
       "      <td>2.70</td>\n",
       "      <td>5</td>\n",
       "      <td>15.000000</td>\n",
       "      <td>3</td>\n",
       "      <td>False</td>\n",
       "      <td>False</td>\n",
       "      <td>True</td>\n",
       "      <td>6.127611</td>\n",
       "      <td>1</td>\n",
       "      <td>поселок новый свет</td>\n",
       "    </tr>\n",
       "    <tr>\n",
       "      <th>1173</th>\n",
       "      <td>3240000.0</td>\n",
       "      <td>29.0</td>\n",
       "      <td>2018-10-30</td>\n",
       "      <td>0</td>\n",
       "      <td>2.75</td>\n",
       "      <td>24</td>\n",
       "      <td>17.000000</td>\n",
       "      <td>2</td>\n",
       "      <td>False</td>\n",
       "      <td>True</td>\n",
       "      <td>False</td>\n",
       "      <td>5.077163</td>\n",
       "      <td>2</td>\n",
       "      <td>санкт-петербург</td>\n",
       "    </tr>\n",
       "    <tr>\n",
       "      <th>...</th>\n",
       "      <td>...</td>\n",
       "      <td>...</td>\n",
       "      <td>...</td>\n",
       "      <td>...</td>\n",
       "      <td>...</td>\n",
       "      <td>...</td>\n",
       "      <td>...</td>\n",
       "      <td>...</td>\n",
       "      <td>...</td>\n",
       "      <td>...</td>\n",
       "      <td>...</td>\n",
       "      <td>...</td>\n",
       "      <td>...</td>\n",
       "      <td>...</td>\n",
       "    </tr>\n",
       "    <tr>\n",
       "      <th>23210</th>\n",
       "      <td>3200000.0</td>\n",
       "      <td>26.0</td>\n",
       "      <td>2017-09-01</td>\n",
       "      <td>0</td>\n",
       "      <td>2.75</td>\n",
       "      <td>25</td>\n",
       "      <td>18.000000</td>\n",
       "      <td>16</td>\n",
       "      <td>False</td>\n",
       "      <td>True</td>\n",
       "      <td>False</td>\n",
       "      <td>4.551940</td>\n",
       "      <td>0</td>\n",
       "      <td>санкт-петербург</td>\n",
       "    </tr>\n",
       "    <tr>\n",
       "      <th>23442</th>\n",
       "      <td>2500000.0</td>\n",
       "      <td>27.7</td>\n",
       "      <td>2017-09-28</td>\n",
       "      <td>0</td>\n",
       "      <td>2.75</td>\n",
       "      <td>24</td>\n",
       "      <td>18.000000</td>\n",
       "      <td>4</td>\n",
       "      <td>False</td>\n",
       "      <td>False</td>\n",
       "      <td>True</td>\n",
       "      <td>4.849566</td>\n",
       "      <td>2</td>\n",
       "      <td>поселок мурино</td>\n",
       "    </tr>\n",
       "    <tr>\n",
       "      <th>23554</th>\n",
       "      <td>3350000.0</td>\n",
       "      <td>26.0</td>\n",
       "      <td>2018-09-07</td>\n",
       "      <td>0</td>\n",
       "      <td>2.75</td>\n",
       "      <td>19</td>\n",
       "      <td>14.850521</td>\n",
       "      <td>8</td>\n",
       "      <td>False</td>\n",
       "      <td>True</td>\n",
       "      <td>False</td>\n",
       "      <td>4.551940</td>\n",
       "      <td>0</td>\n",
       "      <td>санкт-петербург</td>\n",
       "    </tr>\n",
       "    <tr>\n",
       "      <th>23592</th>\n",
       "      <td>1450000.0</td>\n",
       "      <td>29.0</td>\n",
       "      <td>2017-11-11</td>\n",
       "      <td>0</td>\n",
       "      <td>2.55</td>\n",
       "      <td>9</td>\n",
       "      <td>18.000000</td>\n",
       "      <td>8</td>\n",
       "      <td>False</td>\n",
       "      <td>False</td>\n",
       "      <td>True</td>\n",
       "      <td>5.077163</td>\n",
       "      <td>2</td>\n",
       "      <td>никольское</td>\n",
       "    </tr>\n",
       "    <tr>\n",
       "      <th>23637</th>\n",
       "      <td>2350000.0</td>\n",
       "      <td>26.0</td>\n",
       "      <td>2018-06-26</td>\n",
       "      <td>0</td>\n",
       "      <td>2.75</td>\n",
       "      <td>25</td>\n",
       "      <td>17.000000</td>\n",
       "      <td>4</td>\n",
       "      <td>False</td>\n",
       "      <td>True</td>\n",
       "      <td>False</td>\n",
       "      <td>4.551940</td>\n",
       "      <td>2</td>\n",
       "      <td>поселок бугры</td>\n",
       "    </tr>\n",
       "  </tbody>\n",
       "</table>\n",
       "<p>106 rows × 14 columns</p>\n",
       "</div>"
      ],
      "text/plain": [
       "       last_price  total_area first_day_exposition  rooms  ceiling_height  \\\n",
       "144     2450000.0        27.0           2017-03-30      0            2.75   \n",
       "508     3375000.0        34.4           2017-03-28      0            2.66   \n",
       "780     2600000.0        26.1           2018-02-20      0            2.70   \n",
       "839     1900000.0        35.0           2017-04-14      0            2.70   \n",
       "1173    3240000.0        29.0           2018-10-30      0            2.75   \n",
       "...           ...         ...                  ...    ...             ...   \n",
       "23210   3200000.0        26.0           2017-09-01      0            2.75   \n",
       "23442   2500000.0        27.7           2017-09-28      0            2.75   \n",
       "23554   3350000.0        26.0           2018-09-07      0            2.75   \n",
       "23592   1450000.0        29.0           2017-11-11      0            2.55   \n",
       "23637   2350000.0        26.0           2018-06-26      0            2.75   \n",
       "\n",
       "       floors_total  living_area  floor  is_apartment  studio  open_plan  \\\n",
       "144              24    15.500000      2         False    True      False   \n",
       "508              26    24.300000     19         False   False       True   \n",
       "780              18    14.907638      8         False   False       True   \n",
       "839               5    15.000000      3         False   False       True   \n",
       "1173             24    17.000000      2         False    True      False   \n",
       "...             ...          ...    ...           ...     ...        ...   \n",
       "23210            25    18.000000     16         False    True      False   \n",
       "23442            24    18.000000      4         False   False       True   \n",
       "23554            19    14.850521      8         False    True      False   \n",
       "23592             9    18.000000      8         False   False       True   \n",
       "23637            25    17.000000      4         False    True      False   \n",
       "\n",
       "       kitchen_area  balcony       locality_name  \n",
       "144        4.727014        2      поселок мурино  \n",
       "508        6.022566        1   поселок парголово  \n",
       "780        4.569447        1      поселок мурино  \n",
       "839        6.127611        1  поселок новый свет  \n",
       "1173       5.077163        2     санкт-петербург  \n",
       "...             ...      ...                 ...  \n",
       "23210      4.551940        0     санкт-петербург  \n",
       "23442      4.849566        2      поселок мурино  \n",
       "23554      4.551940        0     санкт-петербург  \n",
       "23592      5.077163        2          никольское  \n",
       "23637      4.551940        2       поселок бугры  \n",
       "\n",
       "[106 rows x 14 columns]"
      ]
     },
     "execution_count": 49,
     "metadata": {},
     "output_type": "execute_result"
    }
   ],
   "source": [
    "data.loc[:, 'last_price':'locality_name'].loc[data['rooms']==0]"
   ]
  },
  {
   "cell_type": "code",
   "execution_count": 50,
   "metadata": {},
   "outputs": [],
   "source": [
    "# ориентируясь на площадь недвижимости, условно примем что там где стоит количество комнат 0, это однокомнатные квартиры\n",
    "# т.к. скорее всего 0 комнат стоит у студий либо у квартир с открытой планировкой\n",
    "\n",
    "data['rooms'].loc[data['rooms']==0] = 1 "
   ]
  },
  {
   "cell_type": "code",
   "execution_count": 51,
   "metadata": {},
   "outputs": [
    {
     "data": {
      "text/plain": [
       "<AxesSubplot:>"
      ]
     },
     "execution_count": 51,
     "metadata": {},
     "output_type": "execute_result"
    },
    {
     "data": {
      "image/png": "[encoded data removed]",
      "text/plain": [
       "<Figure size 432x288 with 1 Axes>"
      ]
     },
     "metadata": {
      "needs_background": "light"
     },
     "output_type": "display_data"
    }
   ],
   "source": [
    "data['rooms'].hist(bins=7, range=(0, 7))"
   ]
  },
  {
   "cell_type": "code",
   "execution_count": 52,
   "metadata": {},
   "outputs": [
    {
     "data": {
      "text/plain": [
       "count    22081.000000\n",
       "mean         2.698603\n",
       "std          0.236330\n",
       "min          1.000000\n",
       "25%          2.550000\n",
       "50%          2.650000\n",
       "75%          2.750000\n",
       "max         10.300000\n",
       "Name: ceiling_height, dtype: float64"
      ]
     },
     "execution_count": 52,
     "metadata": {},
     "output_type": "execute_result"
    }
   ],
   "source": [
    "data['ceiling_height'].describe()"
   ]
  },
  {
   "cell_type": "code",
   "execution_count": 53,
   "metadata": {},
   "outputs": [],
   "source": [
    "#отсечем квартиры с потолками ниже 2м и выше 5 как аномальные значения\n",
    "data = data.loc[(data['ceiling_height']<5)&(data['ceiling_height']>2)] "
   ]
  },
  {
   "cell_type": "code",
   "execution_count": 54,
   "metadata": {},
   "outputs": [
    {
     "data": {
      "text/plain": [
       "<AxesSubplot:>"
      ]
     },
     "execution_count": 54,
     "metadata": {},
     "output_type": "execute_result"
    },
    {
     "data": {
      "image/png": "[encoded data removed]",
      "text/plain": [
       "<Figure size 432x288 with 1 Axes>"
      ]
     },
     "metadata": {
      "needs_background": "light"
     },
     "output_type": "display_data"
    }
   ],
   "source": [
    "data['ceiling_height'].hist(bins=20, range=(2, 5))"
   ]
  },
  {
   "cell_type": "code",
   "execution_count": 55,
   "metadata": {},
   "outputs": [
    {
     "data": {
      "text/plain": [
       "<AxesSubplot:>"
      ]
     },
     "execution_count": 55,
     "metadata": {},
     "output_type": "execute_result"
    },
    {
     "data": {
      "image/png": "[encoded data removed]",
      "text/plain": [
       "<Figure size 432x288 with 1 Axes>"
      ]
     },
     "metadata": {
      "needs_background": "light"
     },
     "output_type": "display_data"
    }
   ],
   "source": [
    "data['floor_type'].hist(bins=3)"
   ]
  },
  {
   "cell_type": "code",
   "execution_count": 56,
   "metadata": {},
   "outputs": [
    {
     "data": {
      "text/plain": [
       "count    22059.000000\n",
       "mean        10.711229\n",
       "std          6.560419\n",
       "min          1.000000\n",
       "25%          5.000000\n",
       "50%          9.000000\n",
       "75%         16.000000\n",
       "max         60.000000\n",
       "Name: floors_total, dtype: float64"
      ]
     },
     "execution_count": 56,
     "metadata": {},
     "output_type": "execute_result"
    }
   ],
   "source": [
    "data['floors_total'].describe()"
   ]
  },
  {
   "cell_type": "code",
   "execution_count": 57,
   "metadata": {},
   "outputs": [
    {
     "data": {
      "text/plain": [
       "<AxesSubplot:>"
      ]
     },
     "execution_count": 57,
     "metadata": {},
     "output_type": "execute_result"
    },
    {
     "data": {
      "image/png": "[encoded data removed]",
      "text/plain": [
       "<Figure size 432x288 with 1 Axes>"
      ]
     },
     "metadata": {
      "needs_background": "light"
     },
     "output_type": "display_data"
    }
   ],
   "source": [
    "data['floors_total'].hist(bins=30)"
   ]
  },
  {
   "cell_type": "markdown",
   "metadata": {},
   "source": [
    "##### Изучим данные о расстоянии до центра и ближайшего парка"
   ]
  },
  {
   "cell_type": "code",
   "execution_count": 58,
   "metadata": {},
   "outputs": [
    {
     "data": {
      "text/plain": [
       "count    17055.000000\n",
       "mean     14465.629493\n",
       "std       8614.937797\n",
       "min        208.000000\n",
       "25%       9766.500000\n",
       "50%      13242.000000\n",
       "75%      16424.500000\n",
       "max      65968.000000\n",
       "Name: citycenters_nearest, dtype: float64"
      ]
     },
     "execution_count": 58,
     "metadata": {},
     "output_type": "execute_result"
    }
   ],
   "source": [
    "data['citycenters_nearest'].describe()"
   ]
  },
  {
   "cell_type": "code",
   "execution_count": 59,
   "metadata": {},
   "outputs": [
    {
     "data": {
      "text/plain": [
       "<AxesSubplot:>"
      ]
     },
     "execution_count": 59,
     "metadata": {},
     "output_type": "execute_result"
    },
    {
     "data": {
      "image/png": "[encoded data removed]",
      "text/plain": [
       "<Figure size 432x288 with 1 Axes>"
      ]
     },
     "metadata": {
      "needs_background": "light"
     },
     "output_type": "display_data"
    }
   ],
   "source": [
    "data['citycenters_nearest'].hist(bins=30)"
   ]
  },
  {
   "cell_type": "code",
   "execution_count": 60,
   "metadata": {},
   "outputs": [
    {
     "data": {
      "text/plain": [
       "count    7450.000000\n",
       "mean      493.922282\n",
       "std       340.537595\n",
       "min         1.000000\n",
       "25%       292.000000\n",
       "50%       456.000000\n",
       "75%       615.000000\n",
       "max      3190.000000\n",
       "Name: parks_nearest, dtype: float64"
      ]
     },
     "execution_count": 60,
     "metadata": {},
     "output_type": "execute_result"
    }
   ],
   "source": [
    "data['parks_nearest'].describe()"
   ]
  },
  {
   "cell_type": "code",
   "execution_count": 61,
   "metadata": {},
   "outputs": [
    {
     "data": {
      "text/plain": [
       "<AxesSubplot:>"
      ]
     },
     "execution_count": 61,
     "metadata": {},
     "output_type": "execute_result"
    },
    {
     "data": {
      "image/png": "[encoded data removed]",
      "text/plain": [
       "<Figure size 432x288 with 1 Axes>"
      ]
     },
     "metadata": {
      "needs_background": "light"
     },
     "output_type": "display_data"
    }
   ],
   "source": [
    "data['parks_nearest'].hist(bins=30)"
   ]
  },
  {
   "cell_type": "code",
   "execution_count": 62,
   "metadata": {},
   "outputs": [
    {
     "data": {
      "text/plain": [
       "0.9360916613621897"
      ]
     },
     "execution_count": 62,
     "metadata": {},
     "output_type": "execute_result"
    }
   ],
   "source": [
    "#после отсечения всех выбросов и аномалий проверим сколько данных из выборки сохранилось\n",
    "data_rows_after = data.shape[0]\n",
    "data_rows_after/data_rows"
   ]
  },
  {
   "cell_type": "markdown",
   "metadata": {},
   "source": [
    "    Для площадей квартир обработали выбросы, убрали по 1% с крайних значений по столбцам выборки, т.к. туда вошли самые редко встречающиеся и аномальные значения. А так же удалили нелогичные данные, где кухня больше жилой площади или сумма площади кухни и жилой больше общей. \n",
    "    Для цены объекта недвижимости так же убрали по 1% данных от краев выборки, т.к. они выбивались.\n",
    "    Оставили данные с высотой потолков от 2 до 5 м, количество комнат до 7, для квартир свободной планировки и студий, где количество комнат было проставлено как 0, поменяла на 1 комнату.\n",
    "    Для типа этажей выяснили, что меньше всего квартир на первом этаже дома, а больше всего на других этажах. Больше всего продается квартир в 5 и 9 этажках.\n",
    "    Для расстояния до центра города и до ближайшего парка получили почти нормальное распределение, оставили как есть (учитывая что данные по этим параметрам заполнены не для все выборки).\n"
   ]
  },
  {
   "cell_type": "markdown",
   "metadata": {},
   "source": [
    "#### Как быстро продавались квартиры\n"
   ]
  },
  {
   "cell_type": "code",
   "execution_count": 63,
   "metadata": {},
   "outputs": [
    {
     "data": {
      "text/plain": [
       "count    19154.000000\n",
       "mean       179.567244\n",
       "std        218.148352\n",
       "min          1.000000\n",
       "25%         45.000000\n",
       "50%         95.000000\n",
       "75%        229.000000\n",
       "max       1580.000000\n",
       "Name: days_exposition, dtype: float64"
      ]
     },
     "execution_count": 63,
     "metadata": {},
     "output_type": "execute_result"
    }
   ],
   "source": [
    "data['days_exposition'].describe()"
   ]
  },
  {
   "cell_type": "code",
   "execution_count": 64,
   "metadata": {},
   "outputs": [
    {
     "data": {
      "text/plain": [
       "45.0      811\n",
       "60.0      521\n",
       "7.0       217\n",
       "30.0      197\n",
       "90.0      176\n",
       "         ... \n",
       "773.0       1\n",
       "1030.0      1\n",
       "985.0       1\n",
       "1452.0      1\n",
       "1174.0      1\n",
       "Name: days_exposition, Length: 1123, dtype: int64"
      ]
     },
     "execution_count": 64,
     "metadata": {},
     "output_type": "execute_result"
    }
   ],
   "source": [
    "data['days_exposition'].value_counts()"
   ]
  },
  {
   "cell_type": "code",
   "execution_count": 65,
   "metadata": {},
   "outputs": [],
   "source": [
    "#отсечем 1% от максимального значения, т.к. они явно выбиваются из выборки\n",
    "#data = data.loc[data['days_exposition']<np.percentile(data['days_exposition'], 99)] "
   ]
  },
  {
   "cell_type": "code",
   "execution_count": 81,
   "metadata": {},
   "outputs": [
    {
     "data": {
      "text/plain": [
       "<AxesSubplot:>"
      ]
     },
     "execution_count": 81,
     "metadata": {},
     "output_type": "execute_result"
    },
    {
     "data": {
      "image/png": "[encoded data removed]",
      "text/plain": [
       "<Figure size 432x288 with 1 Axes>"
      ]
     },
     "metadata": {
      "needs_background": "light"
     },
     "output_type": "display_data"
    }
   ],
   "source": [
    "data['days_exposition'].hist(bins=50, range=(1,300))"
   ]
  },
  {
   "cell_type": "markdown",
   "metadata": {},
   "source": [
    "Максимальное количество осуществлялось на 45 и 60 день публикации, предполагаю это какие то контрольные точки для сервиса, где размещены объявления. (Как для авито, например, через 30 дней предлагают либо закрыть обьявление, либо продлить).\n",
    "Судя по графику продажу до двух месяцев можно считать быстрой, больше года это уже долгая продажа. "
   ]
  },
  {
   "cell_type": "markdown",
   "metadata": {},
   "source": [
    "#### Определение факторов, влияющих на общую стоимость объекта"
   ]
  },
  {
   "cell_type": "code",
   "execution_count": 68,
   "metadata": {},
   "outputs": [
    {
     "data": {
      "text/plain": [
       "Index(['total_images', 'last_price', 'total_area', 'first_day_exposition',\n",
       "       'rooms', 'ceiling_height', 'floors_total', 'living_area', 'floor',\n",
       "       'is_apartment', 'studio', 'open_plan', 'kitchen_area', 'balcony',\n",
       "       'locality_name', 'airports_nearest', 'citycenters_nearest',\n",
       "       'parks_around3000', 'parks_nearest', 'ponds_around3000',\n",
       "       'ponds_nearest', 'days_exposition', 'year_exposition',\n",
       "       'one_meter_price', 'weekday_exposition', 'month_exposition',\n",
       "       'floor_type', 'citycenters_nearest_km'],\n",
       "      dtype='object')"
      ]
     },
     "execution_count": 68,
     "metadata": {},
     "output_type": "execute_result"
    }
   ],
   "source": [
    "data.columns"
   ]
  },
  {
   "cell_type": "code",
   "execution_count": 69,
   "metadata": {},
   "outputs": [
    {
     "data": {
      "text/html": [
       "<div>\n",
       "<style scoped>\n",
       "    .dataframe tbody tr th:only-of-type {\n",
       "        vertical-align: middle;\n",
       "    }\n",
       "\n",
       "    .dataframe tbody tr th {\n",
       "        vertical-align: top;\n",
       "    }\n",
       "\n",
       "    .dataframe thead th {\n",
       "        text-align: right;\n",
       "    }\n",
       "</style>\n",
       "<table border=\"1\" class=\"dataframe\">\n",
       "  <thead>\n",
       "    <tr style=\"text-align: right;\">\n",
       "      <th></th>\n",
       "      <th>last_price</th>\n",
       "      <th>total_area</th>\n",
       "      <th>rooms</th>\n",
       "      <th>living_area</th>\n",
       "      <th>kitchen_area</th>\n",
       "      <th>year_exposition</th>\n",
       "      <th>weekday_exposition</th>\n",
       "      <th>month_exposition</th>\n",
       "    </tr>\n",
       "  </thead>\n",
       "  <tbody>\n",
       "    <tr>\n",
       "      <th>last_price</th>\n",
       "      <td>1.000000</td>\n",
       "      <td>0.786500</td>\n",
       "      <td>0.502999</td>\n",
       "      <td>0.692493</td>\n",
       "      <td>0.635638</td>\n",
       "      <td>-0.025795</td>\n",
       "      <td>-0.013844</td>\n",
       "      <td>0.005116</td>\n",
       "    </tr>\n",
       "    <tr>\n",
       "      <th>total_area</th>\n",
       "      <td>0.786500</td>\n",
       "      <td>1.000000</td>\n",
       "      <td>0.796082</td>\n",
       "      <td>0.937046</td>\n",
       "      <td>0.629011</td>\n",
       "      <td>-0.073886</td>\n",
       "      <td>-0.012239</td>\n",
       "      <td>0.006823</td>\n",
       "    </tr>\n",
       "    <tr>\n",
       "      <th>rooms</th>\n",
       "      <td>0.502999</td>\n",
       "      <td>0.796082</td>\n",
       "      <td>1.000000</td>\n",
       "      <td>0.874704</td>\n",
       "      <td>0.265919</td>\n",
       "      <td>-0.042116</td>\n",
       "      <td>-0.003020</td>\n",
       "      <td>-0.004314</td>\n",
       "    </tr>\n",
       "    <tr>\n",
       "      <th>living_area</th>\n",
       "      <td>0.692493</td>\n",
       "      <td>0.937046</td>\n",
       "      <td>0.874704</td>\n",
       "      <td>1.000000</td>\n",
       "      <td>0.425972</td>\n",
       "      <td>-0.062744</td>\n",
       "      <td>-0.009152</td>\n",
       "      <td>-0.002213</td>\n",
       "    </tr>\n",
       "    <tr>\n",
       "      <th>kitchen_area</th>\n",
       "      <td>0.635638</td>\n",
       "      <td>0.629011</td>\n",
       "      <td>0.265919</td>\n",
       "      <td>0.425972</td>\n",
       "      <td>1.000000</td>\n",
       "      <td>-0.052839</td>\n",
       "      <td>-0.007409</td>\n",
       "      <td>0.015338</td>\n",
       "    </tr>\n",
       "    <tr>\n",
       "      <th>year_exposition</th>\n",
       "      <td>-0.025795</td>\n",
       "      <td>-0.073886</td>\n",
       "      <td>-0.042116</td>\n",
       "      <td>-0.062744</td>\n",
       "      <td>-0.052839</td>\n",
       "      <td>1.000000</td>\n",
       "      <td>0.000213</td>\n",
       "      <td>-0.273407</td>\n",
       "    </tr>\n",
       "    <tr>\n",
       "      <th>weekday_exposition</th>\n",
       "      <td>-0.013844</td>\n",
       "      <td>-0.012239</td>\n",
       "      <td>-0.003020</td>\n",
       "      <td>-0.009152</td>\n",
       "      <td>-0.007409</td>\n",
       "      <td>0.000213</td>\n",
       "      <td>1.000000</td>\n",
       "      <td>0.010473</td>\n",
       "    </tr>\n",
       "    <tr>\n",
       "      <th>month_exposition</th>\n",
       "      <td>0.005116</td>\n",
       "      <td>0.006823</td>\n",
       "      <td>-0.004314</td>\n",
       "      <td>-0.002213</td>\n",
       "      <td>0.015338</td>\n",
       "      <td>-0.273407</td>\n",
       "      <td>0.010473</td>\n",
       "      <td>1.000000</td>\n",
       "    </tr>\n",
       "  </tbody>\n",
       "</table>\n",
       "</div>"
      ],
      "text/plain": [
       "                    last_price  total_area     rooms  living_area  \\\n",
       "last_price            1.000000    0.786500  0.502999     0.692493   \n",
       "total_area            0.786500    1.000000  0.796082     0.937046   \n",
       "rooms                 0.502999    0.796082  1.000000     0.874704   \n",
       "living_area           0.692493    0.937046  0.874704     1.000000   \n",
       "kitchen_area          0.635638    0.629011  0.265919     0.425972   \n",
       "year_exposition      -0.025795   -0.073886 -0.042116    -0.062744   \n",
       "weekday_exposition   -0.013844   -0.012239 -0.003020    -0.009152   \n",
       "month_exposition      0.005116    0.006823 -0.004314    -0.002213   \n",
       "\n",
       "                    kitchen_area  year_exposition  weekday_exposition  \\\n",
       "last_price              0.635638        -0.025795           -0.013844   \n",
       "total_area              0.629011        -0.073886           -0.012239   \n",
       "rooms                   0.265919        -0.042116           -0.003020   \n",
       "living_area             0.425972        -0.062744           -0.009152   \n",
       "kitchen_area            1.000000        -0.052839           -0.007409   \n",
       "year_exposition        -0.052839         1.000000            0.000213   \n",
       "weekday_exposition     -0.007409         0.000213            1.000000   \n",
       "month_exposition        0.015338        -0.273407            0.010473   \n",
       "\n",
       "                    month_exposition  \n",
       "last_price                  0.005116  \n",
       "total_area                  0.006823  \n",
       "rooms                      -0.004314  \n",
       "living_area                -0.002213  \n",
       "kitchen_area                0.015338  \n",
       "year_exposition            -0.273407  \n",
       "weekday_exposition          0.010473  \n",
       "month_exposition            1.000000  "
      ]
     },
     "execution_count": 69,
     "metadata": {},
     "output_type": "execute_result"
    }
   ],
   "source": [
    "data_corr = data.drop(['total_images', 'first_day_exposition',\n",
    "       'ceiling_height', 'floors_total', 'floor',\n",
    "       'is_apartment', 'studio', 'open_plan', 'balcony',\n",
    "       'locality_name', 'airports_nearest', 'citycenters_nearest',\n",
    "       'parks_around3000', 'parks_nearest', 'ponds_around3000',\n",
    "       'ponds_nearest', 'days_exposition', 'one_meter_price',\n",
    "       'citycenters_nearest_km'], axis=1)\n",
    "data_corr.corr() # построим матрицу корреляции\n"
   ]
  },
  {
   "cell_type": "code",
   "execution_count": 70,
   "metadata": {},
   "outputs": [
    {
     "data": {
      "image/png": "[encoded data removed]",
      "text/plain": [
       "<Figure size 432x288 with 1 Axes>"
      ]
     },
     "metadata": {
      "needs_background": "light"
     },
     "output_type": "display_data"
    },
    {
     "data": {
      "image/png": "[encoded data removed]",
      "text/plain": [
       "<Figure size 432x288 with 1 Axes>"
      ]
     },
     "metadata": {
      "needs_background": "light"
     },
     "output_type": "display_data"
    },
    {
     "data": {
      "image/png": "[encoded data removed]",
      "text/plain": [
       "<Figure size 432x288 with 1 Axes>"
      ]
     },
     "metadata": {
      "needs_background": "light"
     },
     "output_type": "display_data"
    }
   ],
   "source": [
    "# наибольший коэффициент корреляции между ценой, общей площадью квартиры, жилой площадьи и кухней, что вполне логично и ожидаемо\n",
    "import matplotlib.pyplot as plt\n",
    "data.plot(y='total_area', x='last_price', kind='scatter', grid=True)\n",
    "plt.show()\n",
    "data.plot(y='living_area', x='last_price', kind='scatter', grid=True)\n",
    "plt.show()\n",
    "data.plot(y='living_area', x='last_price', kind='scatter', grid=True)\n",
    "plt.show()"
   ]
  },
  {
   "cell_type": "code",
   "execution_count": 71,
   "metadata": {},
   "outputs": [
    {
     "data": {
      "text/plain": [
       "<AxesSubplot:xlabel='rooms'>"
      ]
     },
     "execution_count": 71,
     "metadata": {},
     "output_type": "execute_result"
    },
    {
     "data": {
      "image/png": "[encoded data removed]",
      "text/plain": [
       "<Figure size 432x288 with 1 Axes>"
      ]
     },
     "metadata": {
      "needs_background": "light"
     },
     "output_type": "display_data"
    }
   ],
   "source": [
    "data.pivot_table(index='rooms', values='last_price').plot(grid=True) # зависимость между ценой и количеством комнат"
   ]
  },
  {
   "cell_type": "code",
   "execution_count": 72,
   "metadata": {},
   "outputs": [
    {
     "data": {
      "text/plain": [
       "<AxesSubplot:xlabel='floor_type'>"
      ]
     },
     "execution_count": 72,
     "metadata": {},
     "output_type": "execute_result"
    },
    {
     "data": {
      "image/png": "[encoded data removed]",
      "text/plain": [
       "<Figure size 432x288 with 1 Axes>"
      ]
     },
     "metadata": {
      "needs_background": "light"
     },
     "output_type": "display_data"
    }
   ],
   "source": [
    "data.pivot_table(index='floor_type', values='last_price').plot(grid=True)  # зависимость между ценой и типом этажа"
   ]
  },
  {
   "cell_type": "code",
   "execution_count": 73,
   "metadata": {},
   "outputs": [
    {
     "data": {
      "image/png": "[encoded data removed]",
      "text/plain": [
       "<Figure size 432x288 with 1 Axes>"
      ]
     },
     "metadata": {
      "needs_background": "light"
     },
     "output_type": "display_data"
    },
    {
     "data": {
      "image/png": "[encoded data removed]",
      "text/plain": [
       "<Figure size 432x288 with 1 Axes>"
      ]
     },
     "metadata": {
      "needs_background": "light"
     },
     "output_type": "display_data"
    },
    {
     "data": {
      "text/plain": [
       "<AxesSubplot:xlabel='year_exposition'>"
      ]
     },
     "execution_count": 73,
     "metadata": {},
     "output_type": "execute_result"
    },
    {
     "data": {
      "image/png": "[encoded data removed]",
      "text/plain": [
       "<Figure size 432x288 with 1 Axes>"
      ]
     },
     "metadata": {
      "needs_background": "light"
     },
     "output_type": "display_data"
    }
   ],
   "source": [
    "# зависимость между ценой и временем размещения объявления\n",
    "data.pivot_table(index='weekday_exposition', values='last_price').plot(grid=True)\n",
    "plt.show()\n",
    "data.pivot_table(index='month_exposition', values='last_price').plot(grid=True)\n",
    "plt.show()\n",
    "data.pivot_table(index='year_exposition', values='last_price').plot(grid=True)"
   ]
  },
  {
   "cell_type": "code",
   "execution_count": 74,
   "metadata": {},
   "outputs": [
    {
     "data": {
      "text/html": [
       "<div>\n",
       "<style scoped>\n",
       "    .dataframe tbody tr th:only-of-type {\n",
       "        vertical-align: middle;\n",
       "    }\n",
       "\n",
       "    .dataframe tbody tr th {\n",
       "        vertical-align: top;\n",
       "    }\n",
       "\n",
       "    .dataframe thead th {\n",
       "        text-align: right;\n",
       "    }\n",
       "</style>\n",
       "<table border=\"1\" class=\"dataframe\">\n",
       "  <thead>\n",
       "    <tr style=\"text-align: right;\">\n",
       "      <th></th>\n",
       "      <th>last_price</th>\n",
       "    </tr>\n",
       "    <tr>\n",
       "      <th>year_exposition</th>\n",
       "      <th></th>\n",
       "    </tr>\n",
       "  </thead>\n",
       "  <tbody>\n",
       "    <tr>\n",
       "      <th>2014</th>\n",
       "      <td>9.057874e+06</td>\n",
       "    </tr>\n",
       "    <tr>\n",
       "      <th>2015</th>\n",
       "      <td>6.399683e+06</td>\n",
       "    </tr>\n",
       "    <tr>\n",
       "      <th>2016</th>\n",
       "      <td>5.613846e+06</td>\n",
       "    </tr>\n",
       "    <tr>\n",
       "      <th>2017</th>\n",
       "      <td>5.553727e+06</td>\n",
       "    </tr>\n",
       "    <tr>\n",
       "      <th>2018</th>\n",
       "      <td>5.518694e+06</td>\n",
       "    </tr>\n",
       "    <tr>\n",
       "      <th>2019</th>\n",
       "      <td>5.963203e+06</td>\n",
       "    </tr>\n",
       "  </tbody>\n",
       "</table>\n",
       "</div>"
      ],
      "text/plain": [
       "                   last_price\n",
       "year_exposition              \n",
       "2014             9.057874e+06\n",
       "2015             6.399683e+06\n",
       "2016             5.613846e+06\n",
       "2017             5.553727e+06\n",
       "2018             5.518694e+06\n",
       "2019             5.963203e+06"
      ]
     },
     "execution_count": 74,
     "metadata": {},
     "output_type": "execute_result"
    }
   ],
   "source": [
    "data.pivot_table(index='year_exposition', values='last_price', aggfunc='mean')"
   ]
  },
  {
   "cell_type": "markdown",
   "metadata": {},
   "source": [
    "На графиках выявили явную зависимость цены от площади квартиры, количеству комнат - при увелечении изучаемого параметра цена увеличивается, что вполне логично и ожидаемо.\n",
    "Так же можно сказать что цена за квадратный метр квартир на первом этаже существенно меньше, чем для других этажей.\n",
    "Цена при размещении обьявления в выходные дни ниже чем в будни, но это вполне возможно связано с меньшим количеством обьявлений \"дорогих\" квартир, т.к. их продают через риэлторов или агентсква недвижимости, которые вероятнее всего размещают объявления в будние дни.\n",
    "Такая же история для летних месяцев, когда большая часть населения находится в отпусках, сентябрь в этом плане более урожайный месяц, можно сказать что продажа недвижимости имеет небольшую зависимость от сезона.\n",
    "А вот для года размещения обьявления график получился интересным - явно видно в 2014 году резкое повышение цен на недвижимость, в следсвии валютно-финансового кризиса в нашей стране. В последующие года начался спад цен на недвижимость и только к 2019г постепенный рост.\n"
   ]
  },
  {
   "cell_type": "markdown",
   "metadata": {},
   "source": [
    "#### Изучение цены квадратного метра недвижимости в разных населенных пунктах"
   ]
  },
  {
   "cell_type": "code",
   "execution_count": 75,
   "metadata": {},
   "outputs": [
    {
     "data": {
      "text/html": [
       "<div>\n",
       "<style scoped>\n",
       "    .dataframe tbody tr th:only-of-type {\n",
       "        vertical-align: middle;\n",
       "    }\n",
       "\n",
       "    .dataframe tbody tr th {\n",
       "        vertical-align: top;\n",
       "    }\n",
       "\n",
       "    .dataframe thead th {\n",
       "        text-align: right;\n",
       "    }\n",
       "</style>\n",
       "<table border=\"1\" class=\"dataframe\">\n",
       "  <thead>\n",
       "    <tr style=\"text-align: right;\">\n",
       "      <th></th>\n",
       "      <th>count</th>\n",
       "      <th>mean</th>\n",
       "    </tr>\n",
       "    <tr>\n",
       "      <th>locality_name</th>\n",
       "      <th></th>\n",
       "      <th></th>\n",
       "    </tr>\n",
       "  </thead>\n",
       "  <tbody>\n",
       "    <tr>\n",
       "      <th>санкт-петербург</th>\n",
       "      <td>14703</td>\n",
       "      <td>109339.847797</td>\n",
       "    </tr>\n",
       "    <tr>\n",
       "      <th>пушкин</th>\n",
       "      <td>353</td>\n",
       "      <td>102314.455977</td>\n",
       "    </tr>\n",
       "    <tr>\n",
       "      <th>деревня кудрово</th>\n",
       "      <td>263</td>\n",
       "      <td>91932.405551</td>\n",
       "    </tr>\n",
       "    <tr>\n",
       "      <th>поселок парголово</th>\n",
       "      <td>308</td>\n",
       "      <td>89916.297532</td>\n",
       "    </tr>\n",
       "    <tr>\n",
       "      <th>поселок мурино</th>\n",
       "      <td>522</td>\n",
       "      <td>84919.836054</td>\n",
       "    </tr>\n",
       "    <tr>\n",
       "      <th>поселок шушары</th>\n",
       "      <td>421</td>\n",
       "      <td>77827.610380</td>\n",
       "    </tr>\n",
       "    <tr>\n",
       "      <th>колпино</th>\n",
       "      <td>335</td>\n",
       "      <td>75295.341075</td>\n",
       "    </tr>\n",
       "    <tr>\n",
       "      <th>гатчина</th>\n",
       "      <td>300</td>\n",
       "      <td>68753.189000</td>\n",
       "    </tr>\n",
       "    <tr>\n",
       "      <th>всеволожск</th>\n",
       "      <td>383</td>\n",
       "      <td>68613.208825</td>\n",
       "    </tr>\n",
       "    <tr>\n",
       "      <th>выборг</th>\n",
       "      <td>224</td>\n",
       "      <td>58508.854688</td>\n",
       "    </tr>\n",
       "  </tbody>\n",
       "</table>\n",
       "</div>"
      ],
      "text/plain": [
       "                   count           mean\n",
       "locality_name                          \n",
       "санкт-петербург    14703  109339.847797\n",
       "пушкин               353  102314.455977\n",
       "деревня кудрово      263   91932.405551\n",
       "поселок парголово    308   89916.297532\n",
       "поселок мурино       522   84919.836054\n",
       "поселок шушары       421   77827.610380\n",
       "колпино              335   75295.341075\n",
       "гатчина              300   68753.189000\n",
       "всеволожск           383   68613.208825\n",
       "выборг               224   58508.854688"
      ]
     },
     "execution_count": 75,
     "metadata": {},
     "output_type": "execute_result"
    }
   ],
   "source": [
    "city_top = data.groupby('locality_name')['one_meter_price'].agg(['count', 'mean'])\\\n",
    "    .sort_values(by = 'count', ascending = False).head(10)\n",
    "\n",
    "city_top.sort_values(by = 'mean', ascending = False)\n"
   ]
  },
  {
   "cell_type": "markdown",
   "metadata": {},
   "source": [
    "Самая высокая цена за квадратный метр, в самом Санкт-Петербурге, в г. Пушкин (бывшее Царское село, известное туристическое место, высокая цена на недвижимость вполне оправдана). Деревня Кудрово и Мурино являются ближайшими пригородами Питера, так что в высокая цена на недвижимость тоже вполне оправдана. Поселок Парголово нахоится в выбогском районе, там находится парк с озерами и исторически достопримечательности, согласно Википедии население растет уверенными темпами с 2012 года, делаю вывод что место популярное и востребованное, следовательно высокая цена вполне оправдана. Самая низкая цена за квадратный метр в Выборге, видимо не самое популярное место для покупки квартиры, в следствие чего дешевле цены за квадратный метр."
   ]
  },
  {
   "cell_type": "markdown",
   "metadata": {},
   "source": [
    "#### Изучение стоимости квартир в зависимости от расстояния до центра города\n"
   ]
  },
  {
   "cell_type": "code",
   "execution_count": 84,
   "metadata": {},
   "outputs": [
    {
     "data": {
      "text/plain": [
       "Text(0.5, 0, 'Расстояниe от центра города')"
      ]
     },
     "execution_count": 84,
     "metadata": {},
     "output_type": "execute_result"
    },
    {
     "data": {
      "image/png": "[encoded data removed]",
      "text/plain": [
       "<Figure size 432x288 with 1 Axes>"
      ]
     },
     "metadata": {
      "needs_background": "light"
     },
     "output_type": "display_data"
    }
   ],
   "source": [
    "data_citycenter_price = data.query('locality_name==\"санкт-петербург\"').pivot_table(\n",
    "    index='citycenters_nearest_km', values='last_price', aggfunc='mean')\n",
    "\n",
    "data_citycenter_price.columns = ['price_mean']\n",
    "\n",
    "plt.bar(data_citycenter_price.index, data_citycenter_price['price_mean'])\n",
    "plt.ylabel(\"Средняя цена за недвижимость\")\n",
    "plt.xlabel(\"Расстояниe от центра города\")"
   ]
  },
  {
   "cell_type": "code",
   "execution_count": 77,
   "metadata": {},
   "outputs": [
    {
     "data": {
      "text/html": [
       "<div>\n",
       "<style scoped>\n",
       "    .dataframe tbody tr th:only-of-type {\n",
       "        vertical-align: middle;\n",
       "    }\n",
       "\n",
       "    .dataframe tbody tr th {\n",
       "        vertical-align: top;\n",
       "    }\n",
       "\n",
       "    .dataframe thead th {\n",
       "        text-align: right;\n",
       "    }\n",
       "</style>\n",
       "<table border=\"1\" class=\"dataframe\">\n",
       "  <thead>\n",
       "    <tr style=\"text-align: right;\">\n",
       "      <th></th>\n",
       "      <th>total_images</th>\n",
       "      <th>last_price</th>\n",
       "      <th>total_area</th>\n",
       "      <th>first_day_exposition</th>\n",
       "      <th>rooms</th>\n",
       "      <th>ceiling_height</th>\n",
       "      <th>floors_total</th>\n",
       "      <th>living_area</th>\n",
       "      <th>floor</th>\n",
       "      <th>is_apartment</th>\n",
       "      <th>...</th>\n",
       "      <th>parks_nearest</th>\n",
       "      <th>ponds_around3000</th>\n",
       "      <th>ponds_nearest</th>\n",
       "      <th>days_exposition</th>\n",
       "      <th>year_exposition</th>\n",
       "      <th>one_meter_price</th>\n",
       "      <th>weekday_exposition</th>\n",
       "      <th>month_exposition</th>\n",
       "      <th>floor_type</th>\n",
       "      <th>citycenters_nearest_km</th>\n",
       "    </tr>\n",
       "  </thead>\n",
       "  <tbody>\n",
       "    <tr>\n",
       "      <th>748</th>\n",
       "      <td>13</td>\n",
       "      <td>14350000.0</td>\n",
       "      <td>74.0</td>\n",
       "      <td>2017-11-28</td>\n",
       "      <td>2</td>\n",
       "      <td>3.13</td>\n",
       "      <td>5</td>\n",
       "      <td>30.0</td>\n",
       "      <td>3</td>\n",
       "      <td>False</td>\n",
       "      <td>...</td>\n",
       "      <td>1496.0</td>\n",
       "      <td>0.0</td>\n",
       "      <td>NaN</td>\n",
       "      <td>128.0</td>\n",
       "      <td>2017</td>\n",
       "      <td>193918.92</td>\n",
       "      <td>1</td>\n",
       "      <td>11</td>\n",
       "      <td>другой</td>\n",
       "      <td>27.0</td>\n",
       "    </tr>\n",
       "    <tr>\n",
       "      <th>5961</th>\n",
       "      <td>6</td>\n",
       "      <td>2250000.0</td>\n",
       "      <td>32.0</td>\n",
       "      <td>2018-02-27</td>\n",
       "      <td>1</td>\n",
       "      <td>2.70</td>\n",
       "      <td>2</td>\n",
       "      <td>16.5</td>\n",
       "      <td>2</td>\n",
       "      <td>False</td>\n",
       "      <td>...</td>\n",
       "      <td>NaN</td>\n",
       "      <td>0.0</td>\n",
       "      <td>NaN</td>\n",
       "      <td>178.0</td>\n",
       "      <td>2018</td>\n",
       "      <td>70312.50</td>\n",
       "      <td>1</td>\n",
       "      <td>2</td>\n",
       "      <td>последний</td>\n",
       "      <td>27.0</td>\n",
       "    </tr>\n",
       "  </tbody>\n",
       "</table>\n",
       "<p>2 rows × 28 columns</p>\n",
       "</div>"
      ],
      "text/plain": [
       "      total_images  last_price  total_area first_day_exposition  rooms  \\\n",
       "748             13  14350000.0        74.0           2017-11-28      2   \n",
       "5961             6   2250000.0        32.0           2018-02-27      1   \n",
       "\n",
       "      ceiling_height  floors_total  living_area  floor  is_apartment  ...  \\\n",
       "748             3.13             5         30.0      3         False  ...   \n",
       "5961            2.70             2         16.5      2         False  ...   \n",
       "\n",
       "      parks_nearest  ponds_around3000  ponds_nearest  days_exposition  \\\n",
       "748          1496.0               0.0            NaN            128.0   \n",
       "5961            NaN               0.0            NaN            178.0   \n",
       "\n",
       "     year_exposition  one_meter_price  weekday_exposition  month_exposition  \\\n",
       "748             2017        193918.92                   1                11   \n",
       "5961            2018         70312.50                   1                 2   \n",
       "\n",
       "      floor_type  citycenters_nearest_km  \n",
       "748       другой                    27.0  \n",
       "5961   последний                    27.0  \n",
       "\n",
       "[2 rows x 28 columns]"
      ]
     },
     "execution_count": 77,
     "metadata": {},
     "output_type": "execute_result"
    }
   ],
   "source": [
    "# изучим аномальный выброс на 27 км\n",
    "data.loc[(data['citycenters_nearest_km'] ==27)&(\n",
    "    data['locality_name']==\"санкт-петербург\")]"
   ]
  },
  {
   "cell_type": "markdown",
   "metadata": {},
   "source": [
    "    В целом чем ближе к центру тем средняя цена на недвижимость выше, но случаются и выбросы, например, на 27 км выброс случился из за малого количества квартир на этой отметке, цена одной из них сильно выше, что дает большой выброс по среднему значению."
   ]
  },
  {
   "cell_type": "markdown",
   "metadata": {
    "id": "h7VpzkIDAwb-"
   },
   "source": [
    "### Напишите общий вывод"
   ]
  },
  {
   "cell_type": "markdown",
   "metadata": {
    "id": "3H4lnp_KAwb-"
   },
   "source": [
    "**В ходе исследования были проанализированные данные сервиса ЯндексНедвижимость по Санкт-Петербургу. Были обработаны и заполнены по возможности пустые значения в столбцах. А также проанализированы и удалены аномальные значения и выбросы данных по всей выборке.\n",
    " Так же в ходе исследования выяснили, что меньше всего квартир продается на первом этаже дома, а больше всего на других этажах. Больше всего продается квартир в 5 и 9 этажках. Выявили зависимости цены от площади квартиры, количеству комнат и этажа. Чем больше комнат и площадь квартиры тем она дороже, также дороже квартиры не на первом и последних этажах.\n",
    "Проанализировали скорость продажи недвижимости, а также зависимость цены квартиры от даты создания обьявления на продажу.\n",
    "Лучше всего квартиры продаются в первые два месяца. Начиная с 2019 года рынок недвижимости начал нарастать после кризиса в 2014 году.\n",
    "    Так же проанализировали цены за квадратный метр в зависимости от населенного пункта и удаления от центра города. Самые дорогие квартиры в центре Санкт-Петербурга и в г. Пушкин.\n",
    "    Такой анализ можно применять для улучшения сервиса по продаже недвижимости, добавив возможность автоматически проверять при заколнении данные об объекте недвижимости или добавив дополнительные данные**\n",
    "\n",
    "\n",
    "\n"
   ]
  }
 ],
 "metadata": {
  "ExecuteTimeLog": [
   {
    "duration": 641,
    "start_time": "2024-01-28T16:34:19.505Z"
   },
   {
    "duration": 14,
    "start_time": "2024-01-28T16:35:37.524Z"
   },
   {
    "duration": 115,
    "start_time": "2024-01-28T16:40:06.882Z"
   },
   {
    "duration": 7,
    "start_time": "2024-01-28T16:40:10.533Z"
   },
   {
    "duration": 116,
    "start_time": "2024-01-28T16:49:17.494Z"
   },
   {
    "duration": 48,
    "start_time": "2024-01-28T16:49:24.655Z"
   },
   {
    "duration": 32,
    "start_time": "2024-01-28T16:49:35.361Z"
   },
   {
    "duration": 2548,
    "start_time": "2024-01-28T16:54:32.196Z"
   },
   {
    "duration": 2688,
    "start_time": "2024-01-28T18:00:20.439Z"
   },
   {
    "duration": 2347,
    "start_time": "2024-01-28T18:00:40.410Z"
   },
   {
    "duration": 2169,
    "start_time": "2024-01-28T18:01:03.782Z"
   },
   {
    "duration": 570,
    "start_time": "2024-02-02T15:23:54.692Z"
   },
   {
    "duration": 21,
    "start_time": "2024-02-02T15:23:58.208Z"
   },
   {
    "duration": 152,
    "start_time": "2024-02-02T15:25:14.246Z"
   },
   {
    "duration": 116,
    "start_time": "2024-02-02T15:26:26.601Z"
   },
   {
    "duration": 42,
    "start_time": "2024-02-02T15:26:30.433Z"
   },
   {
    "duration": 2599,
    "start_time": "2024-02-02T15:26:39.746Z"
   },
   {
    "duration": 16,
    "start_time": "2024-02-02T15:28:33.674Z"
   },
   {
    "duration": 16,
    "start_time": "2024-02-02T15:35:11.609Z"
   },
   {
    "duration": 21,
    "start_time": "2024-02-02T15:35:21.877Z"
   },
   {
    "duration": 13,
    "start_time": "2024-02-02T15:35:52.644Z"
   },
   {
    "duration": 18,
    "start_time": "2024-02-02T15:37:22.153Z"
   },
   {
    "duration": 86,
    "start_time": "2024-02-02T15:39:13.929Z"
   },
   {
    "duration": 12,
    "start_time": "2024-02-02T15:40:24.529Z"
   },
   {
    "duration": 14,
    "start_time": "2024-02-02T15:41:01.204Z"
   },
   {
    "duration": 89,
    "start_time": "2024-02-02T15:44:39.289Z"
   },
   {
    "duration": 15,
    "start_time": "2024-02-02T15:45:09.808Z"
   },
   {
    "duration": 8,
    "start_time": "2024-02-02T15:55:58.760Z"
   },
   {
    "duration": 10,
    "start_time": "2024-02-02T15:58:13.442Z"
   },
   {
    "duration": 5,
    "start_time": "2024-02-02T15:58:24.261Z"
   },
   {
    "duration": 1502,
    "start_time": "2024-02-02T15:59:20.075Z"
   },
   {
    "duration": 739,
    "start_time": "2024-02-02T15:59:44.680Z"
   },
   {
    "duration": 723,
    "start_time": "2024-02-02T16:00:07.714Z"
   },
   {
    "duration": 1378,
    "start_time": "2024-02-02T16:01:30.624Z"
   },
   {
    "duration": 22,
    "start_time": "2024-02-02T16:02:35.116Z"
   },
   {
    "duration": 24,
    "start_time": "2024-02-02T16:03:27.085Z"
   },
   {
    "duration": 12,
    "start_time": "2024-02-02T16:04:54.029Z"
   },
   {
    "duration": 13,
    "start_time": "2024-02-02T16:05:42.238Z"
   },
   {
    "duration": 9,
    "start_time": "2024-02-02T16:09:03.024Z"
   },
   {
    "duration": 19,
    "start_time": "2024-02-02T16:09:20.786Z"
   },
   {
    "duration": 11,
    "start_time": "2024-02-02T16:12:41.447Z"
   },
   {
    "duration": 7,
    "start_time": "2024-02-02T16:13:04.959Z"
   },
   {
    "duration": 8,
    "start_time": "2024-02-02T16:13:46.004Z"
   },
   {
    "duration": 7,
    "start_time": "2024-02-02T16:14:19.694Z"
   },
   {
    "duration": 58,
    "start_time": "2024-02-02T16:16:49.279Z"
   },
   {
    "duration": 57,
    "start_time": "2024-02-02T16:17:09.219Z"
   },
   {
    "duration": 25,
    "start_time": "2024-02-02T16:18:49.467Z"
   },
   {
    "duration": 23,
    "start_time": "2024-02-02T16:21:05.281Z"
   },
   {
    "duration": 43,
    "start_time": "2024-02-02T16:21:15.211Z"
   },
   {
    "duration": 23,
    "start_time": "2024-02-02T16:22:17.758Z"
   },
   {
    "duration": 93,
    "start_time": "2024-02-02T16:24:23.170Z"
   },
   {
    "duration": 105,
    "start_time": "2024-02-02T16:24:45.012Z"
   },
   {
    "duration": 57,
    "start_time": "2024-02-02T16:24:54.256Z"
   },
   {
    "duration": 58,
    "start_time": "2024-02-02T16:25:42.901Z"
   },
   {
    "duration": 9,
    "start_time": "2024-02-02T16:26:59.950Z"
   },
   {
    "duration": 56,
    "start_time": "2024-02-02T16:27:27.457Z"
   },
   {
    "duration": 57,
    "start_time": "2024-02-02T16:27:42.086Z"
   },
   {
    "duration": 59,
    "start_time": "2024-02-02T16:28:05.592Z"
   },
   {
    "duration": 23,
    "start_time": "2024-02-02T16:28:54.487Z"
   },
   {
    "duration": 8,
    "start_time": "2024-02-02T16:29:05.915Z"
   },
   {
    "duration": 14,
    "start_time": "2024-02-02T16:29:17.911Z"
   },
   {
    "duration": 116,
    "start_time": "2024-02-02T16:29:34.904Z"
   },
   {
    "duration": 9,
    "start_time": "2024-02-02T16:29:51.516Z"
   },
   {
    "duration": 12,
    "start_time": "2024-02-02T16:29:56.260Z"
   },
   {
    "duration": 9,
    "start_time": "2024-02-02T16:30:19.225Z"
   },
   {
    "duration": 9,
    "start_time": "2024-02-02T16:30:44.055Z"
   },
   {
    "duration": 58,
    "start_time": "2024-02-02T16:30:49.496Z"
   },
   {
    "duration": 58,
    "start_time": "2024-02-02T16:31:42.680Z"
   },
   {
    "duration": 8,
    "start_time": "2024-02-02T16:38:05.200Z"
   },
   {
    "duration": 14,
    "start_time": "2024-02-02T16:38:14.215Z"
   },
   {
    "duration": 15,
    "start_time": "2024-02-02T16:38:30.257Z"
   },
   {
    "duration": 41,
    "start_time": "2024-02-02T16:38:48.861Z"
   },
   {
    "duration": 30,
    "start_time": "2024-02-02T16:40:12.468Z"
   },
   {
    "duration": 34,
    "start_time": "2024-02-02T16:41:23.477Z"
   },
   {
    "duration": 60,
    "start_time": "2024-02-02T16:41:51.952Z"
   },
   {
    "duration": 68,
    "start_time": "2024-02-02T16:42:54.498Z"
   },
   {
    "duration": 539,
    "start_time": "2024-02-02T16:44:48.167Z"
   },
   {
    "duration": 36,
    "start_time": "2024-02-02T16:44:48.708Z"
   },
   {
    "duration": 2260,
    "start_time": "2024-02-02T16:44:48.745Z"
   },
   {
    "duration": 10,
    "start_time": "2024-02-02T16:44:51.007Z"
   },
   {
    "duration": 16,
    "start_time": "2024-02-02T16:44:51.019Z"
   },
   {
    "duration": 8,
    "start_time": "2024-02-02T16:44:51.037Z"
   },
   {
    "duration": 17,
    "start_time": "2024-02-02T16:44:51.046Z"
   },
   {
    "duration": 68,
    "start_time": "2024-02-02T16:44:51.064Z"
   },
   {
    "duration": 90,
    "start_time": "2024-02-02T16:44:51.133Z"
   },
   {
    "duration": 31,
    "start_time": "2024-02-02T16:46:25.431Z"
   },
   {
    "duration": 78,
    "start_time": "2024-02-02T16:46:30.328Z"
   },
   {
    "duration": 514,
    "start_time": "2024-02-02T16:46:48.878Z"
   },
   {
    "duration": 38,
    "start_time": "2024-02-02T16:46:49.394Z"
   },
   {
    "duration": 2288,
    "start_time": "2024-02-02T16:46:49.433Z"
   },
   {
    "duration": 11,
    "start_time": "2024-02-02T16:46:51.724Z"
   },
   {
    "duration": 17,
    "start_time": "2024-02-02T16:46:51.737Z"
   },
   {
    "duration": 22,
    "start_time": "2024-02-02T16:46:51.755Z"
   },
   {
    "duration": 18,
    "start_time": "2024-02-02T16:46:51.778Z"
   },
   {
    "duration": 69,
    "start_time": "2024-02-02T16:46:51.798Z"
   },
   {
    "duration": 78,
    "start_time": "2024-02-02T16:46:51.868Z"
   },
   {
    "duration": 118,
    "start_time": "2024-02-02T16:47:58.642Z"
   },
   {
    "duration": 10,
    "start_time": "2024-02-02T16:48:15.101Z"
   },
   {
    "duration": 13,
    "start_time": "2024-02-02T16:48:25.951Z"
   },
   {
    "duration": 10,
    "start_time": "2024-02-02T16:48:47.025Z"
   },
   {
    "duration": 70,
    "start_time": "2024-02-02T16:50:25.793Z"
   },
   {
    "duration": 114,
    "start_time": "2024-02-02T16:51:52.385Z"
   },
   {
    "duration": 30,
    "start_time": "2024-02-02T16:51:57.705Z"
   },
   {
    "duration": 2023,
    "start_time": "2024-02-02T16:51:59.305Z"
   },
   {
    "duration": 16,
    "start_time": "2024-02-02T16:52:29.885Z"
   },
   {
    "duration": 15,
    "start_time": "2024-02-02T16:53:06.169Z"
   },
   {
    "duration": 15,
    "start_time": "2024-02-02T16:53:33.147Z"
   },
   {
    "duration": 18,
    "start_time": "2024-02-02T16:54:51.163Z"
   },
   {
    "duration": 547,
    "start_time": "2024-02-02T16:55:11.064Z"
   },
   {
    "duration": 37,
    "start_time": "2024-02-02T16:55:11.612Z"
   },
   {
    "duration": 2299,
    "start_time": "2024-02-02T16:55:11.650Z"
   },
   {
    "duration": 15,
    "start_time": "2024-02-02T16:55:13.952Z"
   },
   {
    "duration": 26,
    "start_time": "2024-02-02T16:55:13.969Z"
   },
   {
    "duration": 15,
    "start_time": "2024-02-02T16:55:13.997Z"
   },
   {
    "duration": 8,
    "start_time": "2024-02-02T16:55:14.013Z"
   },
   {
    "duration": 17,
    "start_time": "2024-02-02T16:55:14.022Z"
   },
   {
    "duration": 14,
    "start_time": "2024-02-02T16:55:14.040Z"
   },
   {
    "duration": 92,
    "start_time": "2024-02-02T16:55:14.056Z"
   },
   {
    "duration": 14,
    "start_time": "2024-02-02T16:55:14.150Z"
   },
   {
    "duration": 24,
    "start_time": "2024-02-02T16:55:14.165Z"
   },
   {
    "duration": 6,
    "start_time": "2024-02-02T16:56:26.370Z"
   },
   {
    "duration": 7,
    "start_time": "2024-02-02T16:57:10.462Z"
   },
   {
    "duration": 10,
    "start_time": "2024-02-02T17:01:33.669Z"
   },
   {
    "duration": 14,
    "start_time": "2024-02-02T17:01:40.544Z"
   },
   {
    "duration": 77,
    "start_time": "2024-02-02T17:02:00.353Z"
   },
   {
    "duration": 14,
    "start_time": "2024-02-02T17:02:44.269Z"
   },
   {
    "duration": 15,
    "start_time": "2024-02-02T17:03:54.667Z"
   },
   {
    "duration": 39,
    "start_time": "2024-02-02T17:06:24.913Z"
   },
   {
    "duration": 29,
    "start_time": "2024-02-02T17:07:24.094Z"
   },
   {
    "duration": 25,
    "start_time": "2024-02-02T17:12:40.224Z"
   },
   {
    "duration": 84,
    "start_time": "2024-02-02T17:13:14.145Z"
   },
   {
    "duration": 26,
    "start_time": "2024-02-02T17:17:40.370Z"
   },
   {
    "duration": 25,
    "start_time": "2024-02-02T17:18:14.573Z"
   },
   {
    "duration": 49,
    "start_time": "2024-02-02T17:19:00.599Z"
   },
   {
    "duration": 16,
    "start_time": "2024-02-02T17:21:16.236Z"
   },
   {
    "duration": 20,
    "start_time": "2024-02-02T17:23:00.803Z"
   },
   {
    "duration": 15,
    "start_time": "2024-02-02T17:23:57.677Z"
   },
   {
    "duration": 18,
    "start_time": "2024-02-02T17:24:07.100Z"
   },
   {
    "duration": 24,
    "start_time": "2024-02-02T17:24:23.944Z"
   },
   {
    "duration": 22,
    "start_time": "2024-02-02T17:25:27.369Z"
   },
   {
    "duration": 238,
    "start_time": "2024-02-02T18:10:33.437Z"
   },
   {
    "duration": 229,
    "start_time": "2024-02-02T18:11:40.022Z"
   },
   {
    "duration": 237,
    "start_time": "2024-02-02T18:11:54.515Z"
   },
   {
    "duration": 16,
    "start_time": "2024-02-02T18:12:06.087Z"
   },
   {
    "duration": 5,
    "start_time": "2024-02-02T18:12:10.832Z"
   },
   {
    "duration": 4,
    "start_time": "2024-02-02T18:12:15.126Z"
   },
   {
    "duration": 6,
    "start_time": "2024-02-02T18:12:29.321Z"
   },
   {
    "duration": 243,
    "start_time": "2024-02-02T18:13:30.824Z"
   },
   {
    "duration": 6,
    "start_time": "2024-02-02T18:14:00.150Z"
   },
   {
    "duration": 70,
    "start_time": "2024-02-02T18:14:51.049Z"
   },
   {
    "duration": 68,
    "start_time": "2024-02-02T18:14:56.419Z"
   },
   {
    "duration": 15,
    "start_time": "2024-02-02T18:14:57.865Z"
   },
   {
    "duration": 8,
    "start_time": "2024-02-02T18:19:09.754Z"
   },
   {
    "duration": 7,
    "start_time": "2024-02-02T18:19:44.900Z"
   },
   {
    "duration": 4,
    "start_time": "2024-02-02T18:26:38.285Z"
   },
   {
    "duration": 7,
    "start_time": "2024-02-02T18:26:49.447Z"
   },
   {
    "duration": 7,
    "start_time": "2024-02-02T18:26:55.447Z"
   },
   {
    "duration": 8,
    "start_time": "2024-02-02T18:27:02.024Z"
   },
   {
    "duration": 532,
    "start_time": "2024-02-02T18:27:08.772Z"
   },
   {
    "duration": 39,
    "start_time": "2024-02-02T18:27:09.305Z"
   },
   {
    "duration": 2372,
    "start_time": "2024-02-02T18:27:09.345Z"
   },
   {
    "duration": 10,
    "start_time": "2024-02-02T18:27:11.720Z"
   },
   {
    "duration": 12,
    "start_time": "2024-02-02T18:27:11.732Z"
   },
   {
    "duration": 5,
    "start_time": "2024-02-02T18:27:11.746Z"
   },
   {
    "duration": 6,
    "start_time": "2024-02-02T18:27:11.753Z"
   },
   {
    "duration": 14,
    "start_time": "2024-02-02T18:27:11.760Z"
   },
   {
    "duration": 8,
    "start_time": "2024-02-02T18:27:11.775Z"
   },
   {
    "duration": 11,
    "start_time": "2024-02-02T18:27:11.785Z"
   },
   {
    "duration": 93,
    "start_time": "2024-02-02T18:27:11.798Z"
   },
   {
    "duration": 14,
    "start_time": "2024-02-02T18:27:11.893Z"
   },
   {
    "duration": 17,
    "start_time": "2024-02-02T18:27:11.908Z"
   },
   {
    "duration": 22,
    "start_time": "2024-02-02T18:27:11.927Z"
   },
   {
    "duration": 8,
    "start_time": "2024-02-02T18:31:42.901Z"
   },
   {
    "duration": 8,
    "start_time": "2024-02-02T18:32:00.643Z"
   },
   {
    "duration": 587,
    "start_time": "2024-02-02T18:32:07.261Z"
   },
   {
    "duration": 40,
    "start_time": "2024-02-02T18:32:07.850Z"
   },
   {
    "duration": 2313,
    "start_time": "2024-02-02T18:32:07.892Z"
   },
   {
    "duration": 10,
    "start_time": "2024-02-02T18:32:10.208Z"
   },
   {
    "duration": 14,
    "start_time": "2024-02-02T18:32:10.219Z"
   },
   {
    "duration": 6,
    "start_time": "2024-02-02T18:32:10.234Z"
   },
   {
    "duration": 15,
    "start_time": "2024-02-02T18:32:10.241Z"
   },
   {
    "duration": 5,
    "start_time": "2024-02-02T18:32:10.257Z"
   },
   {
    "duration": 10,
    "start_time": "2024-02-02T18:32:10.263Z"
   },
   {
    "duration": 9,
    "start_time": "2024-02-02T18:32:10.275Z"
   },
   {
    "duration": 77,
    "start_time": "2024-02-02T18:32:10.285Z"
   },
   {
    "duration": 19,
    "start_time": "2024-02-02T18:32:10.364Z"
   },
   {
    "duration": 16,
    "start_time": "2024-02-02T18:32:10.385Z"
   },
   {
    "duration": 39,
    "start_time": "2024-02-02T18:32:10.403Z"
   },
   {
    "duration": 6,
    "start_time": "2024-02-02T18:34:50.011Z"
   },
   {
    "duration": 5,
    "start_time": "2024-02-02T18:36:41.496Z"
   },
   {
    "duration": 59,
    "start_time": "2024-02-02T18:41:47.610Z"
   },
   {
    "duration": 7,
    "start_time": "2024-02-02T18:42:00.092Z"
   },
   {
    "duration": 13,
    "start_time": "2024-02-02T18:42:39.944Z"
   },
   {
    "duration": 6,
    "start_time": "2024-02-02T18:45:24.340Z"
   },
   {
    "duration": 13,
    "start_time": "2024-02-02T18:46:35.033Z"
   },
   {
    "duration": 5,
    "start_time": "2024-02-02T18:52:20.647Z"
   },
   {
    "duration": 7,
    "start_time": "2024-02-02T18:54:50.141Z"
   },
   {
    "duration": 99,
    "start_time": "2024-02-02T18:58:08.478Z"
   },
   {
    "duration": 13,
    "start_time": "2024-02-02T18:58:39.954Z"
   },
   {
    "duration": 1107,
    "start_time": "2024-02-02T18:59:07.712Z"
   },
   {
    "duration": 6,
    "start_time": "2024-02-02T18:59:18.455Z"
   },
   {
    "duration": 9,
    "start_time": "2024-02-02T18:59:24.453Z"
   },
   {
    "duration": 8,
    "start_time": "2024-02-02T19:01:32.845Z"
   },
   {
    "duration": 16,
    "start_time": "2024-02-02T19:02:05.185Z"
   },
   {
    "duration": 6,
    "start_time": "2024-02-02T19:02:21.730Z"
   },
   {
    "duration": 13,
    "start_time": "2024-02-02T19:02:22.442Z"
   },
   {
    "duration": 6,
    "start_time": "2024-02-02T19:02:54.288Z"
   },
   {
    "duration": 15,
    "start_time": "2024-02-02T19:02:56.865Z"
   },
   {
    "duration": 1092,
    "start_time": "2024-02-02T19:08:56.512Z"
   },
   {
    "duration": 9,
    "start_time": "2024-02-02T19:09:34.095Z"
   },
   {
    "duration": 14,
    "start_time": "2024-02-02T19:11:50.677Z"
   },
   {
    "duration": 6,
    "start_time": "2024-02-02T19:12:14.090Z"
   },
   {
    "duration": 13,
    "start_time": "2024-02-02T19:12:15.586Z"
   },
   {
    "duration": 7,
    "start_time": "2024-02-02T19:12:19.966Z"
   },
   {
    "duration": 513,
    "start_time": "2024-02-02T19:12:25.495Z"
   },
   {
    "duration": 41,
    "start_time": "2024-02-02T19:12:26.010Z"
   },
   {
    "duration": 2341,
    "start_time": "2024-02-02T19:12:26.053Z"
   },
   {
    "duration": 11,
    "start_time": "2024-02-02T19:12:28.397Z"
   },
   {
    "duration": 13,
    "start_time": "2024-02-02T19:12:28.410Z"
   },
   {
    "duration": 8,
    "start_time": "2024-02-02T19:12:28.425Z"
   },
   {
    "duration": 11,
    "start_time": "2024-02-02T19:12:28.435Z"
   },
   {
    "duration": 12,
    "start_time": "2024-02-02T19:12:28.448Z"
   },
   {
    "duration": 66,
    "start_time": "2024-02-02T19:12:28.462Z"
   },
   {
    "duration": 111,
    "start_time": "2024-02-02T19:12:28.531Z"
   },
   {
    "duration": 0,
    "start_time": "2024-02-02T19:12:28.644Z"
   },
   {
    "duration": 0,
    "start_time": "2024-02-02T19:12:28.646Z"
   },
   {
    "duration": 0,
    "start_time": "2024-02-02T19:12:28.647Z"
   },
   {
    "duration": 0,
    "start_time": "2024-02-02T19:12:28.648Z"
   },
   {
    "duration": 58,
    "start_time": "2024-02-02T19:12:42.539Z"
   },
   {
    "duration": 18,
    "start_time": "2024-02-02T19:12:51.700Z"
   },
   {
    "duration": 503,
    "start_time": "2024-02-02T19:12:57.823Z"
   },
   {
    "duration": 45,
    "start_time": "2024-02-02T19:12:58.329Z"
   },
   {
    "duration": 2327,
    "start_time": "2024-02-02T19:12:58.375Z"
   },
   {
    "duration": 12,
    "start_time": "2024-02-02T19:13:00.704Z"
   },
   {
    "duration": 40,
    "start_time": "2024-02-02T19:13:00.718Z"
   },
   {
    "duration": 29,
    "start_time": "2024-02-02T19:13:00.760Z"
   },
   {
    "duration": 39,
    "start_time": "2024-02-02T19:13:00.791Z"
   },
   {
    "duration": 28,
    "start_time": "2024-02-02T19:13:00.832Z"
   },
   {
    "duration": 97,
    "start_time": "2024-02-02T19:13:00.862Z"
   },
   {
    "duration": 84,
    "start_time": "2024-02-02T19:13:00.962Z"
   },
   {
    "duration": 0,
    "start_time": "2024-02-02T19:13:01.048Z"
   },
   {
    "duration": 0,
    "start_time": "2024-02-02T19:13:01.050Z"
   },
   {
    "duration": 0,
    "start_time": "2024-02-02T19:13:01.051Z"
   },
   {
    "duration": 0,
    "start_time": "2024-02-02T19:13:01.053Z"
   },
   {
    "duration": 6,
    "start_time": "2024-02-02T19:13:31.669Z"
   },
   {
    "duration": 6,
    "start_time": "2024-02-02T19:13:56.623Z"
   },
   {
    "duration": 560,
    "start_time": "2024-02-02T19:14:21.765Z"
   },
   {
    "duration": 38,
    "start_time": "2024-02-02T19:14:29.723Z"
   },
   {
    "duration": 2402,
    "start_time": "2024-02-02T19:14:32.329Z"
   },
   {
    "duration": 10,
    "start_time": "2024-02-02T19:14:38.899Z"
   },
   {
    "duration": 12,
    "start_time": "2024-02-02T19:16:30.311Z"
   },
   {
    "duration": 6,
    "start_time": "2024-02-02T19:16:31.181Z"
   },
   {
    "duration": 6,
    "start_time": "2024-02-02T19:16:31.919Z"
   },
   {
    "duration": 5,
    "start_time": "2024-02-02T19:16:38.065Z"
   },
   {
    "duration": 58,
    "start_time": "2024-02-02T19:16:38.919Z"
   },
   {
    "duration": 57,
    "start_time": "2024-02-02T19:20:01.503Z"
   },
   {
    "duration": 58,
    "start_time": "2024-02-02T19:20:05.014Z"
   },
   {
    "duration": 58,
    "start_time": "2024-02-02T19:20:47.282Z"
   },
   {
    "duration": 56,
    "start_time": "2024-02-02T19:21:15.290Z"
   },
   {
    "duration": 62,
    "start_time": "2024-02-02T19:24:25.587Z"
   },
   {
    "duration": 56,
    "start_time": "2024-02-02T19:24:49.582Z"
   },
   {
    "duration": 93,
    "start_time": "2024-02-02T19:25:29.392Z"
   },
   {
    "duration": 58,
    "start_time": "2024-02-02T19:25:35.837Z"
   },
   {
    "duration": 84,
    "start_time": "2024-02-02T19:25:37.713Z"
   },
   {
    "duration": 59,
    "start_time": "2024-02-02T19:27:52.747Z"
   },
   {
    "duration": 128,
    "start_time": "2024-02-02T19:28:42.782Z"
   },
   {
    "duration": 43,
    "start_time": "2024-02-02T19:28:50.476Z"
   },
   {
    "duration": 57,
    "start_time": "2024-02-02T19:28:54.095Z"
   },
   {
    "duration": 20,
    "start_time": "2024-02-02T19:28:56.450Z"
   },
   {
    "duration": 563,
    "start_time": "2024-02-02T19:29:17.146Z"
   },
   {
    "duration": 36,
    "start_time": "2024-02-02T19:29:17.711Z"
   },
   {
    "duration": 2325,
    "start_time": "2024-02-02T19:29:17.749Z"
   },
   {
    "duration": 11,
    "start_time": "2024-02-02T19:29:20.076Z"
   },
   {
    "duration": 20,
    "start_time": "2024-02-02T19:29:20.089Z"
   },
   {
    "duration": 7,
    "start_time": "2024-02-02T19:29:20.111Z"
   },
   {
    "duration": 7,
    "start_time": "2024-02-02T19:29:20.120Z"
   },
   {
    "duration": 12,
    "start_time": "2024-02-02T19:29:20.129Z"
   },
   {
    "duration": 77,
    "start_time": "2024-02-02T19:29:20.143Z"
   },
   {
    "duration": 93,
    "start_time": "2024-02-02T19:29:20.223Z"
   },
   {
    "duration": 0,
    "start_time": "2024-02-02T19:29:20.318Z"
   },
   {
    "duration": 0,
    "start_time": "2024-02-02T19:29:20.319Z"
   },
   {
    "duration": 0,
    "start_time": "2024-02-02T19:29:20.320Z"
   },
   {
    "duration": 0,
    "start_time": "2024-02-02T19:29:20.322Z"
   },
   {
    "duration": 4,
    "start_time": "2024-02-02T19:30:20.797Z"
   },
   {
    "duration": 809,
    "start_time": "2024-02-02T19:31:00.574Z"
   },
   {
    "duration": 11,
    "start_time": "2024-02-02T19:33:03.006Z"
   },
   {
    "duration": 513,
    "start_time": "2024-02-02T19:33:20.720Z"
   },
   {
    "duration": 38,
    "start_time": "2024-02-02T19:33:21.593Z"
   },
   {
    "duration": 2340,
    "start_time": "2024-02-02T19:33:26.309Z"
   },
   {
    "duration": 11,
    "start_time": "2024-02-02T19:33:34.315Z"
   },
   {
    "duration": 13,
    "start_time": "2024-02-02T19:33:37.714Z"
   },
   {
    "duration": 6,
    "start_time": "2024-02-02T19:33:38.822Z"
   },
   {
    "duration": 5,
    "start_time": "2024-02-02T19:33:40.174Z"
   },
   {
    "duration": 5,
    "start_time": "2024-02-02T19:33:45.052Z"
   },
   {
    "duration": 8,
    "start_time": "2024-02-02T19:33:46.265Z"
   },
   {
    "duration": 86,
    "start_time": "2024-02-02T19:34:31.952Z"
   },
   {
    "duration": 60,
    "start_time": "2024-02-02T19:35:51.479Z"
   },
   {
    "duration": 6,
    "start_time": "2024-02-02T19:35:53.875Z"
   },
   {
    "duration": 17,
    "start_time": "2024-02-02T19:36:08.711Z"
   },
   {
    "duration": 15,
    "start_time": "2024-02-02T19:36:28.176Z"
   },
   {
    "duration": 9,
    "start_time": "2024-02-02T19:37:24.135Z"
   },
   {
    "duration": 40,
    "start_time": "2024-02-02T19:37:32.827Z"
   },
   {
    "duration": 9,
    "start_time": "2024-02-02T19:39:52.611Z"
   },
   {
    "duration": 44,
    "start_time": "2024-02-02T19:40:32.750Z"
   },
   {
    "duration": 12,
    "start_time": "2024-02-02T19:42:11.314Z"
   },
   {
    "duration": 15,
    "start_time": "2024-02-02T19:42:36.293Z"
   },
   {
    "duration": 7,
    "start_time": "2024-02-02T19:43:59.214Z"
   },
   {
    "duration": 17,
    "start_time": "2024-02-02T19:44:09.065Z"
   },
   {
    "duration": 10,
    "start_time": "2024-02-02T19:44:46.287Z"
   },
   {
    "duration": 58,
    "start_time": "2024-02-02T20:03:05.522Z"
   },
   {
    "duration": 557,
    "start_time": "2024-02-02T20:03:32.340Z"
   },
   {
    "duration": 38,
    "start_time": "2024-02-02T20:03:32.899Z"
   },
   {
    "duration": 2340,
    "start_time": "2024-02-02T20:03:32.938Z"
   },
   {
    "duration": 10,
    "start_time": "2024-02-02T20:03:35.280Z"
   },
   {
    "duration": 51,
    "start_time": "2024-02-02T20:03:35.292Z"
   },
   {
    "duration": 31,
    "start_time": "2024-02-02T20:03:35.344Z"
   },
   {
    "duration": 17,
    "start_time": "2024-02-02T20:03:35.376Z"
   },
   {
    "duration": 12,
    "start_time": "2024-02-02T20:03:35.395Z"
   },
   {
    "duration": 34,
    "start_time": "2024-02-02T20:03:35.408Z"
   },
   {
    "duration": 86,
    "start_time": "2024-02-02T20:03:35.445Z"
   },
   {
    "duration": 12,
    "start_time": "2024-02-02T20:03:35.533Z"
   },
   {
    "duration": 15,
    "start_time": "2024-02-02T20:03:35.547Z"
   },
   {
    "duration": 39,
    "start_time": "2024-02-02T20:03:35.564Z"
   },
   {
    "duration": 30,
    "start_time": "2024-02-02T20:03:35.605Z"
   },
   {
    "duration": 68,
    "start_time": "2024-02-02T20:06:36.852Z"
   },
   {
    "duration": 60,
    "start_time": "2024-02-02T20:07:18.914Z"
   },
   {
    "duration": 58,
    "start_time": "2024-02-02T20:09:08.717Z"
   },
   {
    "duration": 57,
    "start_time": "2024-02-02T20:09:11.023Z"
   },
   {
    "duration": 93,
    "start_time": "2024-02-02T20:10:24.735Z"
   },
   {
    "duration": 65,
    "start_time": "2024-02-02T20:11:20.893Z"
   },
   {
    "duration": 57,
    "start_time": "2024-02-02T20:14:14.116Z"
   },
   {
    "duration": 5,
    "start_time": "2024-02-02T20:16:24.520Z"
   },
   {
    "duration": 8,
    "start_time": "2024-02-02T20:16:25.788Z"
   },
   {
    "duration": 2,
    "start_time": "2024-02-02T20:28:00.453Z"
   },
   {
    "duration": 8,
    "start_time": "2024-02-02T20:30:13.708Z"
   },
   {
    "duration": 58,
    "start_time": "2024-02-02T20:30:17.702Z"
   },
   {
    "duration": 554,
    "start_time": "2024-02-02T20:30:23.773Z"
   },
   {
    "duration": 37,
    "start_time": "2024-02-02T20:30:24.329Z"
   },
   {
    "duration": 2316,
    "start_time": "2024-02-02T20:30:24.373Z"
   },
   {
    "duration": 10,
    "start_time": "2024-02-02T20:30:26.692Z"
   },
   {
    "duration": 13,
    "start_time": "2024-02-02T20:30:26.704Z"
   },
   {
    "duration": 6,
    "start_time": "2024-02-02T20:30:26.718Z"
   },
   {
    "duration": 11,
    "start_time": "2024-02-02T20:30:26.725Z"
   },
   {
    "duration": 17,
    "start_time": "2024-02-02T20:30:26.738Z"
   },
   {
    "duration": 77,
    "start_time": "2024-02-02T20:30:26.756Z"
   },
   {
    "duration": 7,
    "start_time": "2024-02-02T20:30:26.835Z"
   },
   {
    "duration": 36,
    "start_time": "2024-02-02T20:30:26.843Z"
   },
   {
    "duration": 7,
    "start_time": "2024-02-02T20:30:26.881Z"
   },
   {
    "duration": 14,
    "start_time": "2024-02-02T20:30:26.889Z"
   },
   {
    "duration": 13,
    "start_time": "2024-02-02T20:30:26.904Z"
   },
   {
    "duration": 8,
    "start_time": "2024-02-02T20:34:30.513Z"
   },
   {
    "duration": 86,
    "start_time": "2024-02-02T20:46:13.230Z"
   },
   {
    "duration": 717,
    "start_time": "2024-02-02T20:46:39.287Z"
   },
   {
    "duration": 668,
    "start_time": "2024-02-02T20:47:08.497Z"
   },
   {
    "duration": 10,
    "start_time": "2024-02-02T20:47:46.647Z"
   },
   {
    "duration": 27,
    "start_time": "2024-02-02T20:48:01.407Z"
   },
   {
    "duration": 15,
    "start_time": "2024-02-02T20:48:14.491Z"
   },
   {
    "duration": 5,
    "start_time": "2024-02-02T20:48:48.819Z"
   },
   {
    "duration": 15,
    "start_time": "2024-02-02T20:48:49.390Z"
   },
   {
    "duration": 15,
    "start_time": "2024-02-02T20:48:53.211Z"
   },
   {
    "duration": 755,
    "start_time": "2024-02-04T09:55:59.949Z"
   },
   {
    "duration": 48,
    "start_time": "2024-02-04T09:56:00.707Z"
   },
   {
    "duration": 2621,
    "start_time": "2024-02-04T09:56:00.757Z"
   },
   {
    "duration": 11,
    "start_time": "2024-02-04T09:56:03.380Z"
   },
   {
    "duration": 36,
    "start_time": "2024-02-04T09:56:03.392Z"
   },
   {
    "duration": 32,
    "start_time": "2024-02-04T09:56:03.432Z"
   },
   {
    "duration": 21,
    "start_time": "2024-02-04T09:56:03.466Z"
   },
   {
    "duration": 33,
    "start_time": "2024-02-04T09:56:03.490Z"
   },
   {
    "duration": 88,
    "start_time": "2024-02-04T09:56:03.525Z"
   },
   {
    "duration": 7,
    "start_time": "2024-02-04T09:56:03.615Z"
   },
   {
    "duration": 31,
    "start_time": "2024-02-04T09:56:03.623Z"
   },
   {
    "duration": 23,
    "start_time": "2024-02-04T09:56:03.656Z"
   },
   {
    "duration": 27,
    "start_time": "2024-02-04T09:56:03.681Z"
   },
   {
    "duration": 48,
    "start_time": "2024-02-04T09:56:03.710Z"
   },
   {
    "duration": 37,
    "start_time": "2024-02-04T09:56:03.760Z"
   },
   {
    "duration": 55,
    "start_time": "2024-02-04T09:56:03.799Z"
   },
   {
    "duration": 15,
    "start_time": "2024-02-04T10:03:07.134Z"
   },
   {
    "duration": 21,
    "start_time": "2024-02-04T10:04:51.443Z"
   },
   {
    "duration": 22,
    "start_time": "2024-02-04T10:05:04.999Z"
   },
   {
    "duration": 23,
    "start_time": "2024-02-04T10:12:41.603Z"
   },
   {
    "duration": 21,
    "start_time": "2024-02-04T10:12:46.906Z"
   },
   {
    "duration": 13,
    "start_time": "2024-02-04T10:22:27.990Z"
   },
   {
    "duration": 30,
    "start_time": "2024-02-04T10:22:39.570Z"
   },
   {
    "duration": 19,
    "start_time": "2024-02-04T10:22:48.358Z"
   },
   {
    "duration": 18,
    "start_time": "2024-02-04T10:23:04.276Z"
   },
   {
    "duration": 87,
    "start_time": "2024-02-04T10:29:02.798Z"
   },
   {
    "duration": 17,
    "start_time": "2024-02-04T10:29:21.621Z"
   },
   {
    "duration": 21,
    "start_time": "2024-02-04T10:29:42.104Z"
   },
   {
    "duration": 34,
    "start_time": "2024-02-04T10:43:33.014Z"
   },
   {
    "duration": 10,
    "start_time": "2024-02-04T10:44:04.533Z"
   },
   {
    "duration": 25,
    "start_time": "2024-02-04T10:44:49.872Z"
   },
   {
    "duration": 53,
    "start_time": "2024-02-04T10:49:21.086Z"
   },
   {
    "duration": 47,
    "start_time": "2024-02-04T10:49:45.339Z"
   },
   {
    "duration": 10,
    "start_time": "2024-02-04T10:49:50.090Z"
   },
   {
    "duration": 96,
    "start_time": "2024-02-04T11:07:41.463Z"
   },
   {
    "duration": 64,
    "start_time": "2024-02-04T11:07:47.812Z"
   },
   {
    "duration": 9,
    "start_time": "2024-02-04T11:07:52.079Z"
   },
   {
    "duration": 8,
    "start_time": "2024-02-04T11:08:35.042Z"
   },
   {
    "duration": 32,
    "start_time": "2024-02-04T11:08:41.213Z"
   },
   {
    "duration": 9,
    "start_time": "2024-02-04T11:08:43.807Z"
   },
   {
    "duration": 539,
    "start_time": "2024-02-04T11:09:32.178Z"
   },
   {
    "duration": 71,
    "start_time": "2024-02-04T11:09:32.718Z"
   },
   {
    "duration": 2591,
    "start_time": "2024-02-04T11:09:32.791Z"
   },
   {
    "duration": 10,
    "start_time": "2024-02-04T11:09:35.384Z"
   },
   {
    "duration": 14,
    "start_time": "2024-02-04T11:09:35.395Z"
   },
   {
    "duration": 6,
    "start_time": "2024-02-04T11:09:35.411Z"
   },
   {
    "duration": 5,
    "start_time": "2024-02-04T11:09:35.418Z"
   },
   {
    "duration": 8,
    "start_time": "2024-02-04T11:09:35.425Z"
   },
   {
    "duration": 90,
    "start_time": "2024-02-04T11:09:35.434Z"
   },
   {
    "duration": 7,
    "start_time": "2024-02-04T11:09:35.527Z"
   },
   {
    "duration": 12,
    "start_time": "2024-02-04T11:09:35.536Z"
   },
   {
    "duration": 6,
    "start_time": "2024-02-04T11:09:35.549Z"
   },
   {
    "duration": 11,
    "start_time": "2024-02-04T11:09:35.572Z"
   },
   {
    "duration": 11,
    "start_time": "2024-02-04T11:09:35.585Z"
   },
   {
    "duration": 11,
    "start_time": "2024-02-04T11:09:35.598Z"
   },
   {
    "duration": 15,
    "start_time": "2024-02-04T11:09:35.611Z"
   },
   {
    "duration": 58,
    "start_time": "2024-02-04T11:09:35.628Z"
   },
   {
    "duration": 9,
    "start_time": "2024-02-04T11:09:35.688Z"
   },
   {
    "duration": 50,
    "start_time": "2024-02-04T11:09:35.698Z"
   },
   {
    "duration": 28,
    "start_time": "2024-02-04T11:09:35.750Z"
   },
   {
    "duration": 4,
    "start_time": "2024-02-04T11:23:09.098Z"
   },
   {
    "duration": 81,
    "start_time": "2024-02-04T11:27:46.849Z"
   },
   {
    "duration": 12,
    "start_time": "2024-02-04T11:29:20.488Z"
   },
   {
    "duration": 14,
    "start_time": "2024-02-04T11:30:15.251Z"
   },
   {
    "duration": 14,
    "start_time": "2024-02-04T11:40:00.828Z"
   },
   {
    "duration": 55,
    "start_time": "2024-02-04T11:40:17.156Z"
   },
   {
    "duration": 388,
    "start_time": "2024-02-04T12:12:01.573Z"
   },
   {
    "duration": 388,
    "start_time": "2024-02-04T13:57:48.308Z"
   },
   {
    "duration": 295,
    "start_time": "2024-02-04T14:00:34.045Z"
   },
   {
    "duration": 117,
    "start_time": "2024-02-04T14:01:05.492Z"
   },
   {
    "duration": 147,
    "start_time": "2024-02-04T14:01:21.209Z"
   },
   {
    "duration": 177,
    "start_time": "2024-02-04T14:01:38.012Z"
   },
   {
    "duration": 149,
    "start_time": "2024-02-04T14:01:48.459Z"
   },
   {
    "duration": 168,
    "start_time": "2024-02-04T14:02:25.403Z"
   },
   {
    "duration": 170,
    "start_time": "2024-02-04T14:02:43.949Z"
   },
   {
    "duration": 12,
    "start_time": "2024-02-04T14:05:44.079Z"
   },
   {
    "duration": 171,
    "start_time": "2024-02-04T14:06:02.075Z"
   },
   {
    "duration": 165,
    "start_time": "2024-02-04T14:06:23.187Z"
   },
   {
    "duration": 140,
    "start_time": "2024-02-04T14:06:28.269Z"
   },
   {
    "duration": 160,
    "start_time": "2024-02-04T14:06:33.600Z"
   },
   {
    "duration": 215,
    "start_time": "2024-02-04T14:06:47.254Z"
   },
   {
    "duration": 174,
    "start_time": "2024-02-04T14:10:39.461Z"
   },
   {
    "duration": 148,
    "start_time": "2024-02-04T14:10:56.819Z"
   },
   {
    "duration": 3,
    "start_time": "2024-02-04T14:12:23.278Z"
   },
   {
    "duration": 7,
    "start_time": "2024-02-04T14:12:30.556Z"
   },
   {
    "duration": 6,
    "start_time": "2024-02-04T14:13:00.496Z"
   },
   {
    "duration": 10,
    "start_time": "2024-02-04T14:16:04.036Z"
   },
   {
    "duration": 8,
    "start_time": "2024-02-04T14:18:22.452Z"
   },
   {
    "duration": 7,
    "start_time": "2024-02-04T14:19:07.819Z"
   },
   {
    "duration": 8,
    "start_time": "2024-02-04T14:19:30.479Z"
   },
   {
    "duration": 8,
    "start_time": "2024-02-04T14:20:39.137Z"
   },
   {
    "duration": 7,
    "start_time": "2024-02-04T14:20:47.812Z"
   },
   {
    "duration": 7,
    "start_time": "2024-02-04T14:21:01.080Z"
   },
   {
    "duration": 7,
    "start_time": "2024-02-04T14:21:43.312Z"
   },
   {
    "duration": 8,
    "start_time": "2024-02-04T14:22:22.793Z"
   },
   {
    "duration": 6,
    "start_time": "2024-02-04T14:22:32.720Z"
   },
   {
    "duration": 8,
    "start_time": "2024-02-04T14:22:55.818Z"
   },
   {
    "duration": 7,
    "start_time": "2024-02-04T14:27:20.691Z"
   },
   {
    "duration": 7,
    "start_time": "2024-02-04T14:27:31.196Z"
   },
   {
    "duration": 7,
    "start_time": "2024-02-04T14:28:11.645Z"
   },
   {
    "duration": 8,
    "start_time": "2024-02-04T14:29:05.816Z"
   },
   {
    "duration": 167,
    "start_time": "2024-02-04T14:29:49.991Z"
   },
   {
    "duration": 10,
    "start_time": "2024-02-04T14:29:52.330Z"
   },
   {
    "duration": 8,
    "start_time": "2024-02-04T14:30:12.589Z"
   },
   {
    "duration": 8,
    "start_time": "2024-02-04T14:30:43.130Z"
   },
   {
    "duration": 4,
    "start_time": "2024-02-04T14:41:45.310Z"
   },
   {
    "duration": 154,
    "start_time": "2024-02-04T14:41:46.133Z"
   },
   {
    "duration": 5,
    "start_time": "2024-02-04T14:41:57.909Z"
   },
   {
    "duration": 171,
    "start_time": "2024-02-04T14:42:00.008Z"
   },
   {
    "duration": 4,
    "start_time": "2024-02-04T14:42:05.105Z"
   },
   {
    "duration": 5,
    "start_time": "2024-02-04T14:42:16.610Z"
   },
   {
    "duration": 3,
    "start_time": "2024-02-04T14:42:18.561Z"
   },
   {
    "duration": 549,
    "start_time": "2024-02-04T14:42:25.641Z"
   },
   {
    "duration": 39,
    "start_time": "2024-02-04T14:42:26.192Z"
   },
   {
    "duration": 2318,
    "start_time": "2024-02-04T14:42:26.232Z"
   },
   {
    "duration": 11,
    "start_time": "2024-02-04T14:42:28.552Z"
   },
   {
    "duration": 13,
    "start_time": "2024-02-04T14:42:28.564Z"
   },
   {
    "duration": 7,
    "start_time": "2024-02-04T14:42:28.578Z"
   },
   {
    "duration": 7,
    "start_time": "2024-02-04T14:42:28.586Z"
   },
   {
    "duration": 10,
    "start_time": "2024-02-04T14:42:28.594Z"
   },
   {
    "duration": 83,
    "start_time": "2024-02-04T14:42:28.606Z"
   },
   {
    "duration": 6,
    "start_time": "2024-02-04T14:42:28.691Z"
   },
   {
    "duration": 14,
    "start_time": "2024-02-04T14:42:28.698Z"
   },
   {
    "duration": 6,
    "start_time": "2024-02-04T14:42:28.714Z"
   },
   {
    "duration": 10,
    "start_time": "2024-02-04T14:42:28.721Z"
   },
   {
    "duration": 10,
    "start_time": "2024-02-04T14:42:28.732Z"
   },
   {
    "duration": 10,
    "start_time": "2024-02-04T14:42:28.743Z"
   },
   {
    "duration": 14,
    "start_time": "2024-02-04T14:42:28.772Z"
   },
   {
    "duration": 24,
    "start_time": "2024-02-04T14:42:28.788Z"
   },
   {
    "duration": 7,
    "start_time": "2024-02-04T14:42:28.813Z"
   },
   {
    "duration": 78,
    "start_time": "2024-02-04T14:42:28.822Z"
   },
   {
    "duration": 13,
    "start_time": "2024-02-04T14:42:28.902Z"
   },
   {
    "duration": 394,
    "start_time": "2024-02-04T14:42:28.917Z"
   },
   {
    "duration": 8,
    "start_time": "2024-02-04T14:42:29.313Z"
   },
   {
    "duration": 8,
    "start_time": "2024-02-04T14:42:29.322Z"
   },
   {
    "duration": 8,
    "start_time": "2024-02-04T14:42:29.331Z"
   },
   {
    "duration": 183,
    "start_time": "2024-02-04T14:42:29.341Z"
   },
   {
    "duration": 175,
    "start_time": "2024-02-04T14:42:46.653Z"
   },
   {
    "duration": 9,
    "start_time": "2024-02-04T14:43:33.930Z"
   },
   {
    "duration": 173,
    "start_time": "2024-02-04T14:43:34.564Z"
   },
   {
    "duration": 226,
    "start_time": "2024-02-04T14:43:42.259Z"
   },
   {
    "duration": 8,
    "start_time": "2024-02-04T14:44:22.706Z"
   },
   {
    "duration": 8,
    "start_time": "2024-02-04T14:44:33.868Z"
   },
   {
    "duration": 8,
    "start_time": "2024-02-04T14:44:46.674Z"
   },
   {
    "duration": 7,
    "start_time": "2024-02-04T14:44:53.070Z"
   },
   {
    "duration": 156,
    "start_time": "2024-02-04T14:44:53.753Z"
   },
   {
    "duration": 9,
    "start_time": "2024-02-04T14:44:58.053Z"
   },
   {
    "duration": 8,
    "start_time": "2024-02-04T14:45:00.637Z"
   },
   {
    "duration": 169,
    "start_time": "2024-02-04T14:45:26.621Z"
   },
   {
    "duration": 19,
    "start_time": "2024-02-04T14:46:44.080Z"
   },
   {
    "duration": 6,
    "start_time": "2024-02-04T14:47:44.411Z"
   },
   {
    "duration": 9,
    "start_time": "2024-02-04T14:48:31.079Z"
   },
   {
    "duration": 145,
    "start_time": "2024-02-04T14:49:09.026Z"
   },
   {
    "duration": 8,
    "start_time": "2024-02-04T14:49:28.106Z"
   },
   {
    "duration": 10,
    "start_time": "2024-02-04T14:49:43.410Z"
   },
   {
    "duration": 187,
    "start_time": "2024-02-04T14:50:39.418Z"
   },
   {
    "duration": 167,
    "start_time": "2024-02-04T14:50:53.323Z"
   },
   {
    "duration": 16,
    "start_time": "2024-02-04T14:51:00.608Z"
   },
   {
    "duration": 10,
    "start_time": "2024-02-04T14:51:03.399Z"
   },
   {
    "duration": 171,
    "start_time": "2024-02-04T14:51:15.150Z"
   },
   {
    "duration": 39,
    "start_time": "2024-02-04T14:52:20.871Z"
   },
   {
    "duration": 39,
    "start_time": "2024-02-04T14:57:25.801Z"
   },
   {
    "duration": 9,
    "start_time": "2024-02-04T14:57:55.414Z"
   },
   {
    "duration": 9,
    "start_time": "2024-02-04T14:57:56.181Z"
   },
   {
    "duration": 8,
    "start_time": "2024-02-04T14:57:58.928Z"
   },
   {
    "duration": 150,
    "start_time": "2024-02-04T14:58:02.181Z"
   },
   {
    "duration": 9,
    "start_time": "2024-02-04T14:59:21.315Z"
   },
   {
    "duration": 157,
    "start_time": "2024-02-04T14:59:59.602Z"
   },
   {
    "duration": 187,
    "start_time": "2024-02-04T15:00:25.599Z"
   },
   {
    "duration": 273,
    "start_time": "2024-02-04T15:00:34.928Z"
   },
   {
    "duration": 122,
    "start_time": "2024-02-04T15:02:04.711Z"
   },
   {
    "duration": 136,
    "start_time": "2024-02-04T15:02:10.302Z"
   },
   {
    "duration": 9,
    "start_time": "2024-02-04T15:02:54.599Z"
   },
   {
    "duration": 158,
    "start_time": "2024-02-04T15:02:55.475Z"
   },
   {
    "duration": 174,
    "start_time": "2024-02-04T15:03:13.394Z"
   },
   {
    "duration": 162,
    "start_time": "2024-02-04T15:03:20.939Z"
   },
   {
    "duration": 167,
    "start_time": "2024-02-04T15:03:29.031Z"
   },
   {
    "duration": 159,
    "start_time": "2024-02-04T15:03:57.838Z"
   },
   {
    "duration": 8,
    "start_time": "2024-02-04T15:05:40.172Z"
   },
   {
    "duration": 6,
    "start_time": "2024-02-04T15:06:34.823Z"
   },
   {
    "duration": 10,
    "start_time": "2024-02-04T15:07:45.186Z"
   },
   {
    "duration": 140,
    "start_time": "2024-02-04T15:08:20.420Z"
   },
   {
    "duration": 57,
    "start_time": "2024-02-04T15:09:20.752Z"
   },
   {
    "duration": 7,
    "start_time": "2024-02-04T15:11:51.673Z"
   },
   {
    "duration": 4,
    "start_time": "2024-02-04T15:12:57.637Z"
   },
   {
    "duration": 9,
    "start_time": "2024-02-04T15:13:01.478Z"
   },
   {
    "duration": 139,
    "start_time": "2024-02-04T15:13:02.202Z"
   },
   {
    "duration": 5,
    "start_time": "2024-02-04T15:14:10.766Z"
   },
   {
    "duration": 6,
    "start_time": "2024-02-04T15:14:30.636Z"
   },
   {
    "duration": 6,
    "start_time": "2024-02-04T15:14:31.827Z"
   },
   {
    "duration": 6,
    "start_time": "2024-02-04T15:14:36.282Z"
   },
   {
    "duration": 500,
    "start_time": "2024-02-04T15:14:46.405Z"
   },
   {
    "duration": 36,
    "start_time": "2024-02-04T15:14:46.907Z"
   },
   {
    "duration": 2444,
    "start_time": "2024-02-04T15:14:46.945Z"
   },
   {
    "duration": 10,
    "start_time": "2024-02-04T15:14:49.392Z"
   },
   {
    "duration": 12,
    "start_time": "2024-02-04T15:14:49.404Z"
   },
   {
    "duration": 6,
    "start_time": "2024-02-04T15:14:49.418Z"
   },
   {
    "duration": 7,
    "start_time": "2024-02-04T15:14:49.426Z"
   },
   {
    "duration": 9,
    "start_time": "2024-02-04T15:14:49.435Z"
   },
   {
    "duration": 75,
    "start_time": "2024-02-04T15:14:49.446Z"
   },
   {
    "duration": 7,
    "start_time": "2024-02-04T15:14:49.523Z"
   },
   {
    "duration": 9,
    "start_time": "2024-02-04T15:14:49.531Z"
   },
   {
    "duration": 5,
    "start_time": "2024-02-04T15:14:49.542Z"
   },
   {
    "duration": 25,
    "start_time": "2024-02-04T15:14:49.549Z"
   },
   {
    "duration": 12,
    "start_time": "2024-02-04T15:14:49.576Z"
   },
   {
    "duration": 10,
    "start_time": "2024-02-04T15:14:49.589Z"
   },
   {
    "duration": 13,
    "start_time": "2024-02-04T15:14:49.601Z"
   },
   {
    "duration": 23,
    "start_time": "2024-02-04T15:14:49.616Z"
   },
   {
    "duration": 37,
    "start_time": "2024-02-04T15:14:49.641Z"
   },
   {
    "duration": 64,
    "start_time": "2024-02-04T15:14:49.680Z"
   },
   {
    "duration": 27,
    "start_time": "2024-02-04T15:14:49.746Z"
   },
   {
    "duration": 403,
    "start_time": "2024-02-04T15:14:49.775Z"
   },
   {
    "duration": 9,
    "start_time": "2024-02-04T15:14:50.181Z"
   },
   {
    "duration": 8,
    "start_time": "2024-02-04T15:14:50.191Z"
   },
   {
    "duration": 8,
    "start_time": "2024-02-04T15:14:50.201Z"
   },
   {
    "duration": 191,
    "start_time": "2024-02-04T15:14:50.210Z"
   },
   {
    "duration": 10,
    "start_time": "2024-02-04T15:14:50.403Z"
   },
   {
    "duration": 6,
    "start_time": "2024-02-04T15:14:50.415Z"
   },
   {
    "duration": 183,
    "start_time": "2024-02-04T15:14:50.426Z"
   },
   {
    "duration": 17,
    "start_time": "2024-02-04T15:14:50.611Z"
   },
   {
    "duration": 51,
    "start_time": "2024-02-04T15:14:50.629Z"
   },
   {
    "duration": 8,
    "start_time": "2024-02-04T15:14:50.682Z"
   },
   {
    "duration": 9,
    "start_time": "2024-02-04T15:14:50.692Z"
   },
   {
    "duration": 6,
    "start_time": "2024-02-04T15:14:50.703Z"
   },
   {
    "duration": 185,
    "start_time": "2024-02-04T15:14:50.711Z"
   },
   {
    "duration": 15,
    "start_time": "2024-02-04T15:14:50.897Z"
   },
   {
    "duration": 12,
    "start_time": "2024-02-04T15:14:50.913Z"
   },
   {
    "duration": 252,
    "start_time": "2024-02-04T15:14:50.927Z"
   },
   {
    "duration": 8,
    "start_time": "2024-02-04T15:14:51.181Z"
   },
   {
    "duration": 18,
    "start_time": "2024-02-04T15:14:51.190Z"
   },
   {
    "duration": 15,
    "start_time": "2024-02-04T15:14:51.210Z"
   },
   {
    "duration": 26,
    "start_time": "2024-02-04T15:14:51.227Z"
   },
   {
    "duration": 26,
    "start_time": "2024-02-04T15:14:51.254Z"
   },
   {
    "duration": 162,
    "start_time": "2024-02-04T15:14:51.281Z"
   },
   {
    "duration": 9,
    "start_time": "2024-02-04T15:24:53.725Z"
   },
   {
    "duration": 142,
    "start_time": "2024-02-04T15:26:54.827Z"
   },
   {
    "duration": 151,
    "start_time": "2024-02-04T15:27:09.658Z"
   },
   {
    "duration": 171,
    "start_time": "2024-02-04T15:27:16.848Z"
   },
   {
    "duration": 181,
    "start_time": "2024-02-04T15:27:23.540Z"
   },
   {
    "duration": 148,
    "start_time": "2024-02-04T15:29:11.548Z"
   },
   {
    "duration": 1494,
    "start_time": "2024-02-04T15:30:29.815Z"
   },
   {
    "duration": 8,
    "start_time": "2024-02-04T15:30:50.745Z"
   },
   {
    "duration": 122,
    "start_time": "2024-02-04T15:32:34.325Z"
   },
   {
    "duration": 143,
    "start_time": "2024-02-04T15:33:05.389Z"
   },
   {
    "duration": 144,
    "start_time": "2024-02-04T15:33:11.862Z"
   },
   {
    "duration": 10,
    "start_time": "2024-02-04T15:34:58.310Z"
   },
   {
    "duration": 144,
    "start_time": "2024-02-04T15:35:41.294Z"
   },
   {
    "duration": 9,
    "start_time": "2024-02-04T15:39:24.779Z"
   },
   {
    "duration": 243,
    "start_time": "2024-02-04T15:39:28.539Z"
   },
   {
    "duration": 9,
    "start_time": "2024-02-04T15:42:29.153Z"
   },
   {
    "duration": 160,
    "start_time": "2024-02-04T15:42:36.430Z"
   },
   {
    "duration": 169,
    "start_time": "2024-02-04T15:42:56.712Z"
   },
   {
    "duration": 5,
    "start_time": "2024-02-04T15:54:29.790Z"
   },
   {
    "duration": 138,
    "start_time": "2024-02-04T15:54:43.749Z"
   },
   {
    "duration": 7,
    "start_time": "2024-02-04T15:54:49.002Z"
   },
   {
    "duration": 61,
    "start_time": "2024-02-04T15:55:07.628Z"
   },
   {
    "duration": 6,
    "start_time": "2024-02-04T15:55:19.403Z"
   },
   {
    "duration": 6,
    "start_time": "2024-02-04T15:55:35.105Z"
   },
   {
    "duration": 551,
    "start_time": "2024-02-04T15:55:40.442Z"
   },
   {
    "duration": 37,
    "start_time": "2024-02-04T15:55:40.995Z"
   },
   {
    "duration": 2304,
    "start_time": "2024-02-04T15:55:41.034Z"
   },
   {
    "duration": 11,
    "start_time": "2024-02-04T15:55:43.340Z"
   },
   {
    "duration": 26,
    "start_time": "2024-02-04T15:55:43.353Z"
   },
   {
    "duration": 6,
    "start_time": "2024-02-04T15:55:43.381Z"
   },
   {
    "duration": 12,
    "start_time": "2024-02-04T15:55:43.389Z"
   },
   {
    "duration": 51,
    "start_time": "2024-02-04T15:55:43.403Z"
   },
   {
    "duration": 71,
    "start_time": "2024-02-04T15:55:43.456Z"
   },
   {
    "duration": 6,
    "start_time": "2024-02-04T15:55:43.530Z"
   },
   {
    "duration": 29,
    "start_time": "2024-02-04T15:55:43.538Z"
   },
   {
    "duration": 10,
    "start_time": "2024-02-04T15:55:43.569Z"
   },
   {
    "duration": 33,
    "start_time": "2024-02-04T15:55:43.580Z"
   },
   {
    "duration": 23,
    "start_time": "2024-02-04T15:55:43.614Z"
   },
   {
    "duration": 14,
    "start_time": "2024-02-04T15:55:43.639Z"
   },
   {
    "duration": 26,
    "start_time": "2024-02-04T15:55:43.655Z"
   },
   {
    "duration": 25,
    "start_time": "2024-02-04T15:55:43.683Z"
   },
   {
    "duration": 14,
    "start_time": "2024-02-04T15:55:43.710Z"
   },
   {
    "duration": 63,
    "start_time": "2024-02-04T15:55:43.726Z"
   },
   {
    "duration": 18,
    "start_time": "2024-02-04T15:55:43.790Z"
   },
   {
    "duration": 406,
    "start_time": "2024-02-04T15:55:43.810Z"
   },
   {
    "duration": 8,
    "start_time": "2024-02-04T15:55:44.218Z"
   },
   {
    "duration": 7,
    "start_time": "2024-02-04T15:55:44.228Z"
   },
   {
    "duration": 8,
    "start_time": "2024-02-04T15:55:44.236Z"
   },
   {
    "duration": 180,
    "start_time": "2024-02-04T15:55:44.245Z"
   },
   {
    "duration": 9,
    "start_time": "2024-02-04T15:55:44.427Z"
   },
   {
    "duration": 6,
    "start_time": "2024-02-04T15:55:44.438Z"
   },
   {
    "duration": 180,
    "start_time": "2024-02-04T15:55:44.448Z"
   },
   {
    "duration": 15,
    "start_time": "2024-02-04T15:55:44.630Z"
   },
   {
    "duration": 49,
    "start_time": "2024-02-04T15:55:44.646Z"
   },
   {
    "duration": 8,
    "start_time": "2024-02-04T15:55:44.696Z"
   },
   {
    "duration": 9,
    "start_time": "2024-02-04T15:55:44.705Z"
   },
   {
    "duration": 7,
    "start_time": "2024-02-04T15:55:44.715Z"
   },
   {
    "duration": 182,
    "start_time": "2024-02-04T15:55:44.723Z"
   },
   {
    "duration": 16,
    "start_time": "2024-02-04T15:55:44.906Z"
   },
   {
    "duration": 10,
    "start_time": "2024-02-04T15:55:44.924Z"
   },
   {
    "duration": 263,
    "start_time": "2024-02-04T15:55:44.935Z"
   },
   {
    "duration": 8,
    "start_time": "2024-02-04T15:55:45.199Z"
   },
   {
    "duration": 5,
    "start_time": "2024-02-04T15:55:45.209Z"
   },
   {
    "duration": 7,
    "start_time": "2024-02-04T15:55:45.215Z"
   },
   {
    "duration": 12,
    "start_time": "2024-02-04T15:55:45.223Z"
   },
   {
    "duration": 19,
    "start_time": "2024-02-04T15:55:45.236Z"
   },
   {
    "duration": 153,
    "start_time": "2024-02-04T15:55:45.256Z"
   },
   {
    "duration": 9,
    "start_time": "2024-02-04T15:55:45.411Z"
   },
   {
    "duration": 8,
    "start_time": "2024-02-04T15:55:45.421Z"
   },
   {
    "duration": 177,
    "start_time": "2024-02-04T15:55:45.431Z"
   },
   {
    "duration": 142,
    "start_time": "2024-02-04T15:55:45.610Z"
   },
   {
    "duration": 8,
    "start_time": "2024-02-04T15:55:45.754Z"
   },
   {
    "duration": 136,
    "start_time": "2024-02-04T15:55:45.773Z"
   },
   {
    "duration": 10,
    "start_time": "2024-02-04T15:55:45.911Z"
   },
   {
    "duration": 152,
    "start_time": "2024-02-04T15:55:45.923Z"
   },
   {
    "duration": 10,
    "start_time": "2024-02-04T15:55:46.077Z"
   },
   {
    "duration": 164,
    "start_time": "2024-02-04T15:55:46.089Z"
   },
   {
    "duration": 18,
    "start_time": "2024-02-04T15:55:46.255Z"
   },
   {
    "duration": 192,
    "start_time": "2024-02-04T15:55:46.274Z"
   },
   {
    "duration": 4,
    "start_time": "2024-02-04T15:56:39.342Z"
   },
   {
    "duration": 81,
    "start_time": "2024-02-04T15:58:04.061Z"
   },
   {
    "duration": 9,
    "start_time": "2024-02-04T15:58:12.976Z"
   },
   {
    "duration": 6,
    "start_time": "2024-02-04T15:58:28.715Z"
   },
   {
    "duration": 9,
    "start_time": "2024-02-04T15:58:49.954Z"
   },
   {
    "duration": 5,
    "start_time": "2024-02-04T15:58:50.554Z"
   },
   {
    "duration": 9,
    "start_time": "2024-02-04T15:58:58.691Z"
   },
   {
    "duration": 9,
    "start_time": "2024-02-04T15:59:08.962Z"
   },
   {
    "duration": 514,
    "start_time": "2024-02-04T15:59:14.311Z"
   },
   {
    "duration": 38,
    "start_time": "2024-02-04T15:59:14.827Z"
   },
   {
    "duration": 2290,
    "start_time": "2024-02-04T15:59:14.867Z"
   },
   {
    "duration": 12,
    "start_time": "2024-02-04T15:59:17.160Z"
   },
   {
    "duration": 13,
    "start_time": "2024-02-04T15:59:17.173Z"
   },
   {
    "duration": 5,
    "start_time": "2024-02-04T15:59:17.188Z"
   },
   {
    "duration": 6,
    "start_time": "2024-02-04T15:59:17.194Z"
   },
   {
    "duration": 9,
    "start_time": "2024-02-04T15:59:17.201Z"
   },
   {
    "duration": 92,
    "start_time": "2024-02-04T15:59:17.212Z"
   },
   {
    "duration": 6,
    "start_time": "2024-02-04T15:59:17.308Z"
   },
   {
    "duration": 9,
    "start_time": "2024-02-04T15:59:17.316Z"
   },
   {
    "duration": 5,
    "start_time": "2024-02-04T15:59:17.326Z"
   },
   {
    "duration": 10,
    "start_time": "2024-02-04T15:59:17.333Z"
   },
   {
    "duration": 36,
    "start_time": "2024-02-04T15:59:17.344Z"
   },
   {
    "duration": 9,
    "start_time": "2024-02-04T15:59:17.382Z"
   },
   {
    "duration": 20,
    "start_time": "2024-02-04T15:59:17.393Z"
   },
   {
    "duration": 25,
    "start_time": "2024-02-04T15:59:17.414Z"
   },
   {
    "duration": 8,
    "start_time": "2024-02-04T15:59:17.440Z"
   },
   {
    "duration": 53,
    "start_time": "2024-02-04T15:59:17.473Z"
   },
   {
    "duration": 7,
    "start_time": "2024-02-04T15:59:17.527Z"
   },
   {
    "duration": 399,
    "start_time": "2024-02-04T15:59:17.535Z"
   },
   {
    "duration": 8,
    "start_time": "2024-02-04T15:59:17.935Z"
   },
   {
    "duration": 7,
    "start_time": "2024-02-04T15:59:17.945Z"
   },
   {
    "duration": 26,
    "start_time": "2024-02-04T15:59:17.953Z"
   },
   {
    "duration": 9,
    "start_time": "2024-02-04T15:59:17.981Z"
   },
   {
    "duration": 187,
    "start_time": "2024-02-04T15:59:17.991Z"
   },
   {
    "duration": 8,
    "start_time": "2024-02-04T15:59:18.180Z"
   },
   {
    "duration": 6,
    "start_time": "2024-02-04T15:59:18.192Z"
   },
   {
    "duration": 185,
    "start_time": "2024-02-04T15:59:18.199Z"
   },
   {
    "duration": 14,
    "start_time": "2024-02-04T15:59:18.386Z"
   },
   {
    "duration": 39,
    "start_time": "2024-02-04T15:59:18.402Z"
   },
   {
    "duration": 8,
    "start_time": "2024-02-04T15:59:18.442Z"
   },
   {
    "duration": 30,
    "start_time": "2024-02-04T15:59:18.451Z"
   },
   {
    "duration": 7,
    "start_time": "2024-02-04T15:59:18.482Z"
   },
   {
    "duration": 163,
    "start_time": "2024-02-04T15:59:18.491Z"
   },
   {
    "duration": 25,
    "start_time": "2024-02-04T15:59:18.655Z"
   },
   {
    "duration": 20,
    "start_time": "2024-02-04T15:59:18.681Z"
   },
   {
    "duration": 242,
    "start_time": "2024-02-04T15:59:18.702Z"
   },
   {
    "duration": 9,
    "start_time": "2024-02-04T15:59:18.945Z"
   },
   {
    "duration": 10,
    "start_time": "2024-02-04T15:59:18.955Z"
   },
   {
    "duration": 7,
    "start_time": "2024-02-04T15:59:18.973Z"
   },
   {
    "duration": 5,
    "start_time": "2024-02-04T15:59:18.982Z"
   },
   {
    "duration": 9,
    "start_time": "2024-02-04T15:59:18.988Z"
   },
   {
    "duration": 161,
    "start_time": "2024-02-04T15:59:18.998Z"
   },
   {
    "duration": 14,
    "start_time": "2024-02-04T15:59:19.161Z"
   },
   {
    "duration": 7,
    "start_time": "2024-02-04T15:59:19.177Z"
   },
   {
    "duration": 179,
    "start_time": "2024-02-04T15:59:19.186Z"
   },
   {
    "duration": 139,
    "start_time": "2024-02-04T15:59:19.367Z"
   },
   {
    "duration": 10,
    "start_time": "2024-02-04T15:59:19.508Z"
   },
   {
    "duration": 145,
    "start_time": "2024-02-04T15:59:19.519Z"
   },
   {
    "duration": 15,
    "start_time": "2024-02-04T15:59:19.666Z"
   },
   {
    "duration": 149,
    "start_time": "2024-02-04T15:59:19.682Z"
   },
   {
    "duration": 10,
    "start_time": "2024-02-04T15:59:19.833Z"
   },
   {
    "duration": 166,
    "start_time": "2024-02-04T15:59:19.845Z"
   },
   {
    "duration": 10,
    "start_time": "2024-02-04T15:59:20.013Z"
   },
   {
    "duration": 194,
    "start_time": "2024-02-04T15:59:20.025Z"
   },
   {
    "duration": 7,
    "start_time": "2024-02-04T16:00:02.462Z"
   },
   {
    "duration": 8,
    "start_time": "2024-02-04T16:00:23.901Z"
   },
   {
    "duration": 5,
    "start_time": "2024-02-04T16:01:07.967Z"
   },
   {
    "duration": 7,
    "start_time": "2024-02-04T16:02:05.561Z"
   },
   {
    "duration": 7,
    "start_time": "2024-02-04T16:02:28.975Z"
   },
   {
    "duration": 10,
    "start_time": "2024-02-04T16:02:42.736Z"
   },
   {
    "duration": 5,
    "start_time": "2024-02-04T16:02:44.215Z"
   },
   {
    "duration": 155,
    "start_time": "2024-02-04T16:02:51.891Z"
   },
   {
    "duration": 12,
    "start_time": "2024-02-04T16:03:09.541Z"
   },
   {
    "duration": 6,
    "start_time": "2024-02-04T16:03:18.829Z"
   },
   {
    "duration": 159,
    "start_time": "2024-02-04T16:03:20.969Z"
   },
   {
    "duration": 16,
    "start_time": "2024-02-04T16:03:24.846Z"
   },
   {
    "duration": 15,
    "start_time": "2024-02-04T16:03:29.178Z"
   },
   {
    "duration": 8,
    "start_time": "2024-02-04T16:03:37.114Z"
   },
   {
    "duration": 155,
    "start_time": "2024-02-04T16:03:59.031Z"
   },
   {
    "duration": 549,
    "start_time": "2024-02-04T16:04:22.662Z"
   },
   {
    "duration": 35,
    "start_time": "2024-02-04T16:04:23.213Z"
   },
   {
    "duration": 2312,
    "start_time": "2024-02-04T16:04:23.250Z"
   },
   {
    "duration": 10,
    "start_time": "2024-02-04T16:04:25.564Z"
   },
   {
    "duration": 16,
    "start_time": "2024-02-04T16:04:25.576Z"
   },
   {
    "duration": 15,
    "start_time": "2024-02-04T16:04:25.594Z"
   },
   {
    "duration": 20,
    "start_time": "2024-02-04T16:04:25.611Z"
   },
   {
    "duration": 27,
    "start_time": "2024-02-04T16:04:25.633Z"
   },
   {
    "duration": 58,
    "start_time": "2024-02-04T16:04:25.662Z"
   },
   {
    "duration": 6,
    "start_time": "2024-02-04T16:04:25.723Z"
   },
   {
    "duration": 25,
    "start_time": "2024-02-04T16:04:25.730Z"
   },
   {
    "duration": 5,
    "start_time": "2024-02-04T16:04:25.757Z"
   },
   {
    "duration": 38,
    "start_time": "2024-02-04T16:04:25.764Z"
   },
   {
    "duration": 11,
    "start_time": "2024-02-04T16:04:25.804Z"
   },
   {
    "duration": 34,
    "start_time": "2024-02-04T16:04:25.816Z"
   },
   {
    "duration": 14,
    "start_time": "2024-02-04T16:04:25.851Z"
   },
   {
    "duration": 30,
    "start_time": "2024-02-04T16:04:25.867Z"
   },
   {
    "duration": 8,
    "start_time": "2024-02-04T16:04:25.898Z"
   },
   {
    "duration": 50,
    "start_time": "2024-02-04T16:04:25.907Z"
   },
   {
    "duration": 20,
    "start_time": "2024-02-04T16:04:25.959Z"
   },
   {
    "duration": 406,
    "start_time": "2024-02-04T16:04:25.980Z"
   },
   {
    "duration": 8,
    "start_time": "2024-02-04T16:04:26.388Z"
   },
   {
    "duration": 14,
    "start_time": "2024-02-04T16:04:26.398Z"
   },
   {
    "duration": 181,
    "start_time": "2024-02-04T16:04:26.414Z"
   },
   {
    "duration": 8,
    "start_time": "2024-02-04T16:04:26.597Z"
   },
   {
    "duration": 11,
    "start_time": "2024-02-04T16:04:26.607Z"
   },
   {
    "duration": 170,
    "start_time": "2024-02-04T16:04:26.619Z"
   },
   {
    "duration": 15,
    "start_time": "2024-02-04T16:04:26.793Z"
   },
   {
    "duration": 40,
    "start_time": "2024-02-04T16:04:26.809Z"
   },
   {
    "duration": 24,
    "start_time": "2024-02-04T16:04:26.851Z"
   },
   {
    "duration": 9,
    "start_time": "2024-02-04T16:04:26.877Z"
   },
   {
    "duration": 6,
    "start_time": "2024-02-04T16:04:26.888Z"
   },
   {
    "duration": 191,
    "start_time": "2024-02-04T16:04:26.896Z"
   },
   {
    "duration": 16,
    "start_time": "2024-02-04T16:04:27.089Z"
   },
   {
    "duration": 15,
    "start_time": "2024-02-04T16:04:27.106Z"
   },
   {
    "duration": 258,
    "start_time": "2024-02-04T16:04:27.123Z"
   },
   {
    "duration": 8,
    "start_time": "2024-02-04T16:04:27.382Z"
   },
   {
    "duration": 8,
    "start_time": "2024-02-04T16:04:27.392Z"
   },
   {
    "duration": 14,
    "start_time": "2024-02-04T16:04:27.401Z"
   },
   {
    "duration": 9,
    "start_time": "2024-02-04T16:04:27.417Z"
   },
   {
    "duration": 12,
    "start_time": "2024-02-04T16:04:27.428Z"
   },
   {
    "duration": 164,
    "start_time": "2024-02-04T16:04:27.441Z"
   },
   {
    "duration": 9,
    "start_time": "2024-02-04T16:04:27.607Z"
   },
   {
    "duration": 9,
    "start_time": "2024-02-04T16:04:27.618Z"
   },
   {
    "duration": 186,
    "start_time": "2024-02-04T16:04:27.628Z"
   },
   {
    "duration": 142,
    "start_time": "2024-02-04T16:04:27.816Z"
   },
   {
    "duration": 19,
    "start_time": "2024-02-04T16:04:27.960Z"
   },
   {
    "duration": 140,
    "start_time": "2024-02-04T16:04:27.981Z"
   },
   {
    "duration": 10,
    "start_time": "2024-02-04T16:04:28.123Z"
   },
   {
    "duration": 155,
    "start_time": "2024-02-04T16:04:28.135Z"
   },
   {
    "duration": 10,
    "start_time": "2024-02-04T16:04:28.292Z"
   },
   {
    "duration": 171,
    "start_time": "2024-02-04T16:04:28.304Z"
   },
   {
    "duration": 9,
    "start_time": "2024-02-04T16:04:28.477Z"
   },
   {
    "duration": 191,
    "start_time": "2024-02-04T16:04:28.488Z"
   },
   {
    "duration": 9,
    "start_time": "2024-02-04T16:05:48.600Z"
   },
   {
    "duration": 9,
    "start_time": "2024-02-04T16:05:49.655Z"
   },
   {
    "duration": 6,
    "start_time": "2024-02-04T16:07:30.977Z"
   },
   {
    "duration": 149,
    "start_time": "2024-02-04T16:07:33.260Z"
   },
   {
    "duration": 16,
    "start_time": "2024-02-04T16:07:44.806Z"
   },
   {
    "duration": 11,
    "start_time": "2024-02-04T16:07:54.020Z"
   },
   {
    "duration": 161,
    "start_time": "2024-02-04T16:07:54.906Z"
   },
   {
    "duration": 9,
    "start_time": "2024-02-04T16:08:20.916Z"
   },
   {
    "duration": 6,
    "start_time": "2024-02-04T16:08:23.307Z"
   },
   {
    "duration": 6,
    "start_time": "2024-02-04T16:08:28.761Z"
   },
   {
    "duration": 5,
    "start_time": "2024-02-04T16:08:30.394Z"
   },
   {
    "duration": 528,
    "start_time": "2024-02-04T16:08:38.439Z"
   },
   {
    "duration": 37,
    "start_time": "2024-02-04T16:08:38.969Z"
   },
   {
    "duration": 2262,
    "start_time": "2024-02-04T16:08:39.007Z"
   },
   {
    "duration": 9,
    "start_time": "2024-02-04T16:08:41.272Z"
   },
   {
    "duration": 11,
    "start_time": "2024-02-04T16:08:41.283Z"
   },
   {
    "duration": 5,
    "start_time": "2024-02-04T16:08:41.296Z"
   },
   {
    "duration": 5,
    "start_time": "2024-02-04T16:08:41.303Z"
   },
   {
    "duration": 10,
    "start_time": "2024-02-04T16:08:41.309Z"
   },
   {
    "duration": 83,
    "start_time": "2024-02-04T16:08:41.321Z"
   },
   {
    "duration": 6,
    "start_time": "2024-02-04T16:08:41.406Z"
   },
   {
    "duration": 12,
    "start_time": "2024-02-04T16:08:41.413Z"
   },
   {
    "duration": 5,
    "start_time": "2024-02-04T16:08:41.427Z"
   },
   {
    "duration": 11,
    "start_time": "2024-02-04T16:08:41.434Z"
   },
   {
    "duration": 31,
    "start_time": "2024-02-04T16:08:41.447Z"
   },
   {
    "duration": 10,
    "start_time": "2024-02-04T16:08:41.480Z"
   },
   {
    "duration": 17,
    "start_time": "2024-02-04T16:08:41.492Z"
   },
   {
    "duration": 30,
    "start_time": "2024-02-04T16:08:41.511Z"
   },
   {
    "duration": 32,
    "start_time": "2024-02-04T16:08:41.543Z"
   },
   {
    "duration": 50,
    "start_time": "2024-02-04T16:08:41.576Z"
   },
   {
    "duration": 8,
    "start_time": "2024-02-04T16:08:41.627Z"
   },
   {
    "duration": 409,
    "start_time": "2024-02-04T16:08:41.636Z"
   },
   {
    "duration": 8,
    "start_time": "2024-02-04T16:08:42.047Z"
   },
   {
    "duration": 21,
    "start_time": "2024-02-04T16:08:42.057Z"
   },
   {
    "duration": 180,
    "start_time": "2024-02-04T16:08:42.080Z"
   },
   {
    "duration": 14,
    "start_time": "2024-02-04T16:08:42.262Z"
   },
   {
    "duration": 7,
    "start_time": "2024-02-04T16:08:42.278Z"
   },
   {
    "duration": 171,
    "start_time": "2024-02-04T16:08:42.286Z"
   },
   {
    "duration": 15,
    "start_time": "2024-02-04T16:08:42.474Z"
   },
   {
    "duration": 38,
    "start_time": "2024-02-04T16:08:42.491Z"
   },
   {
    "duration": 8,
    "start_time": "2024-02-04T16:08:42.531Z"
   },
   {
    "duration": 34,
    "start_time": "2024-02-04T16:08:42.540Z"
   },
   {
    "duration": 8,
    "start_time": "2024-02-04T16:08:42.575Z"
   },
   {
    "duration": 6,
    "start_time": "2024-02-04T16:08:42.585Z"
   },
   {
    "duration": 182,
    "start_time": "2024-02-04T16:08:42.593Z"
   },
   {
    "duration": 9,
    "start_time": "2024-02-04T16:08:42.776Z"
   },
   {
    "duration": 243,
    "start_time": "2024-02-04T16:08:42.787Z"
   },
   {
    "duration": 9,
    "start_time": "2024-02-04T16:08:43.031Z"
   },
   {
    "duration": 5,
    "start_time": "2024-02-04T16:08:43.041Z"
   },
   {
    "duration": 28,
    "start_time": "2024-02-04T16:08:43.048Z"
   },
   {
    "duration": 9,
    "start_time": "2024-02-04T16:08:43.078Z"
   },
   {
    "duration": 7,
    "start_time": "2024-02-04T16:08:43.088Z"
   },
   {
    "duration": 150,
    "start_time": "2024-02-04T16:08:43.096Z"
   },
   {
    "duration": 10,
    "start_time": "2024-02-04T16:08:43.248Z"
   },
   {
    "duration": 20,
    "start_time": "2024-02-04T16:08:43.259Z"
   },
   {
    "duration": 182,
    "start_time": "2024-02-04T16:08:43.280Z"
   },
   {
    "duration": 142,
    "start_time": "2024-02-04T16:08:43.463Z"
   },
   {
    "duration": 8,
    "start_time": "2024-02-04T16:08:43.607Z"
   },
   {
    "duration": 139,
    "start_time": "2024-02-04T16:08:43.616Z"
   },
   {
    "duration": 18,
    "start_time": "2024-02-04T16:08:43.757Z"
   },
   {
    "duration": 154,
    "start_time": "2024-02-04T16:08:43.777Z"
   },
   {
    "duration": 9,
    "start_time": "2024-02-04T16:08:43.933Z"
   },
   {
    "duration": 165,
    "start_time": "2024-02-04T16:08:43.943Z"
   },
   {
    "duration": 8,
    "start_time": "2024-02-04T16:08:44.109Z"
   },
   {
    "duration": 182,
    "start_time": "2024-02-04T16:08:44.118Z"
   },
   {
    "duration": 9,
    "start_time": "2024-02-04T16:10:19.777Z"
   },
   {
    "duration": 157,
    "start_time": "2024-02-04T16:10:43.539Z"
   },
   {
    "duration": 73,
    "start_time": "2024-02-04T16:13:22.305Z"
   },
   {
    "duration": 75,
    "start_time": "2024-02-04T16:21:19.059Z"
   },
   {
    "duration": 9,
    "start_time": "2024-02-04T16:21:32.602Z"
   },
   {
    "duration": 4,
    "start_time": "2024-02-04T16:21:56.836Z"
   },
   {
    "duration": 31,
    "start_time": "2024-02-04T16:25:48.746Z"
   },
   {
    "duration": 14,
    "start_time": "2024-02-04T16:33:15.390Z"
   },
   {
    "duration": 5,
    "start_time": "2024-02-04T16:33:44.021Z"
   },
   {
    "duration": 19,
    "start_time": "2024-02-04T16:34:02.937Z"
   },
   {
    "duration": 7109,
    "start_time": "2024-02-04T16:35:17.882Z"
   },
   {
    "duration": 21,
    "start_time": "2024-02-04T17:59:45.967Z"
   },
   {
    "duration": 83,
    "start_time": "2024-02-04T18:00:37.729Z"
   },
   {
    "duration": 17,
    "start_time": "2024-02-04T18:00:46.120Z"
   },
   {
    "duration": 1532,
    "start_time": "2024-02-04T18:01:28.443Z"
   },
   {
    "duration": 170,
    "start_time": "2024-02-04T18:02:16.633Z"
   },
   {
    "duration": 95,
    "start_time": "2024-02-04T18:06:08.431Z"
   },
   {
    "duration": 173,
    "start_time": "2024-02-04T18:06:16.462Z"
   },
   {
    "duration": 18,
    "start_time": "2024-02-04T18:12:30.606Z"
   },
   {
    "duration": 19,
    "start_time": "2024-02-04T18:12:53.165Z"
   },
   {
    "duration": 17,
    "start_time": "2024-02-04T18:13:13.841Z"
   },
   {
    "duration": 17,
    "start_time": "2024-02-04T18:13:22.467Z"
   },
   {
    "duration": 17,
    "start_time": "2024-02-04T18:13:32.448Z"
   },
   {
    "duration": 17,
    "start_time": "2024-02-04T18:13:37.119Z"
   },
   {
    "duration": 534,
    "start_time": "2024-02-04T18:13:46.132Z"
   },
   {
    "duration": 36,
    "start_time": "2024-02-04T18:13:46.667Z"
   },
   {
    "duration": 2296,
    "start_time": "2024-02-04T18:13:46.705Z"
   },
   {
    "duration": 10,
    "start_time": "2024-02-04T18:13:49.004Z"
   },
   {
    "duration": 12,
    "start_time": "2024-02-04T18:13:49.016Z"
   },
   {
    "duration": 6,
    "start_time": "2024-02-04T18:13:49.029Z"
   },
   {
    "duration": 7,
    "start_time": "2024-02-04T18:13:49.037Z"
   },
   {
    "duration": 8,
    "start_time": "2024-02-04T18:13:49.046Z"
   },
   {
    "duration": 75,
    "start_time": "2024-02-04T18:13:49.055Z"
   },
   {
    "duration": 6,
    "start_time": "2024-02-04T18:13:49.133Z"
   },
   {
    "duration": 9,
    "start_time": "2024-02-04T18:13:49.141Z"
   },
   {
    "duration": 25,
    "start_time": "2024-02-04T18:13:49.151Z"
   },
   {
    "duration": 12,
    "start_time": "2024-02-04T18:13:49.178Z"
   },
   {
    "duration": 12,
    "start_time": "2024-02-04T18:13:49.192Z"
   },
   {
    "duration": 11,
    "start_time": "2024-02-04T18:13:49.205Z"
   },
   {
    "duration": 15,
    "start_time": "2024-02-04T18:13:49.218Z"
   },
   {
    "duration": 58,
    "start_time": "2024-02-04T18:13:49.234Z"
   },
   {
    "duration": 7,
    "start_time": "2024-02-04T18:13:49.294Z"
   },
   {
    "duration": 49,
    "start_time": "2024-02-04T18:13:49.303Z"
   },
   {
    "duration": 8,
    "start_time": "2024-02-04T18:13:49.373Z"
   },
   {
    "duration": 401,
    "start_time": "2024-02-04T18:13:49.382Z"
   },
   {
    "duration": 8,
    "start_time": "2024-02-04T18:13:49.785Z"
   },
   {
    "duration": 7,
    "start_time": "2024-02-04T18:13:49.794Z"
   },
   {
    "duration": 172,
    "start_time": "2024-02-04T18:13:49.802Z"
   },
   {
    "duration": 8,
    "start_time": "2024-02-04T18:13:49.976Z"
   },
   {
    "duration": 6,
    "start_time": "2024-02-04T18:13:49.985Z"
   },
   {
    "duration": 174,
    "start_time": "2024-02-04T18:13:49.993Z"
   },
   {
    "duration": 14,
    "start_time": "2024-02-04T18:13:50.172Z"
   },
   {
    "duration": 37,
    "start_time": "2024-02-04T18:13:50.188Z"
   },
   {
    "duration": 7,
    "start_time": "2024-02-04T18:13:50.227Z"
   },
   {
    "duration": 8,
    "start_time": "2024-02-04T18:13:50.236Z"
   },
   {
    "duration": 8,
    "start_time": "2024-02-04T18:13:50.273Z"
   },
   {
    "duration": 9,
    "start_time": "2024-02-04T18:13:50.283Z"
   },
   {
    "duration": 198,
    "start_time": "2024-02-04T18:13:50.294Z"
   },
   {
    "duration": 9,
    "start_time": "2024-02-04T18:13:50.493Z"
   },
   {
    "duration": 22,
    "start_time": "2024-02-04T18:13:50.503Z"
   },
   {
    "duration": 247,
    "start_time": "2024-02-04T18:13:50.527Z"
   },
   {
    "duration": 8,
    "start_time": "2024-02-04T18:13:50.776Z"
   },
   {
    "duration": 5,
    "start_time": "2024-02-04T18:13:50.785Z"
   },
   {
    "duration": 18,
    "start_time": "2024-02-04T18:13:50.791Z"
   },
   {
    "duration": 4,
    "start_time": "2024-02-04T18:13:50.810Z"
   },
   {
    "duration": 7,
    "start_time": "2024-02-04T18:13:50.816Z"
   },
   {
    "duration": 165,
    "start_time": "2024-02-04T18:13:50.825Z"
   },
   {
    "duration": 9,
    "start_time": "2024-02-04T18:13:50.992Z"
   },
   {
    "duration": 11,
    "start_time": "2024-02-04T18:13:51.002Z"
   },
   {
    "duration": 168,
    "start_time": "2024-02-04T18:13:51.014Z"
   },
   {
    "duration": 141,
    "start_time": "2024-02-04T18:13:51.184Z"
   },
   {
    "duration": 8,
    "start_time": "2024-02-04T18:13:51.327Z"
   },
   {
    "duration": 151,
    "start_time": "2024-02-04T18:13:51.337Z"
   },
   {
    "duration": 10,
    "start_time": "2024-02-04T18:13:51.489Z"
   },
   {
    "duration": 160,
    "start_time": "2024-02-04T18:13:51.501Z"
   },
   {
    "duration": 14,
    "start_time": "2024-02-04T18:13:51.662Z"
   },
   {
    "duration": 154,
    "start_time": "2024-02-04T18:13:51.677Z"
   },
   {
    "duration": 8,
    "start_time": "2024-02-04T18:13:51.833Z"
   },
   {
    "duration": 190,
    "start_time": "2024-02-04T18:13:51.843Z"
   },
   {
    "duration": 5,
    "start_time": "2024-02-04T18:13:52.034Z"
   },
   {
    "duration": 34,
    "start_time": "2024-02-04T18:13:52.040Z"
   },
   {
    "duration": 179,
    "start_time": "2024-02-04T18:13:52.075Z"
   },
   {
    "duration": 9,
    "start_time": "2024-02-04T18:15:12.188Z"
   },
   {
    "duration": 160,
    "start_time": "2024-02-04T18:15:13.596Z"
   },
   {
    "duration": 9,
    "start_time": "2024-02-04T18:15:14.625Z"
   },
   {
    "duration": 8,
    "start_time": "2024-02-04T18:16:04.731Z"
   },
   {
    "duration": 168,
    "start_time": "2024-02-04T18:16:06.538Z"
   },
   {
    "duration": 8,
    "start_time": "2024-02-04T18:16:07.616Z"
   },
   {
    "duration": 76,
    "start_time": "2024-02-04T18:29:29.272Z"
   },
   {
    "duration": 8,
    "start_time": "2024-02-04T18:29:42.672Z"
   },
   {
    "duration": 8,
    "start_time": "2024-02-04T18:30:07.420Z"
   },
   {
    "duration": 8,
    "start_time": "2024-02-04T18:30:29.096Z"
   },
   {
    "duration": 8,
    "start_time": "2024-02-04T18:30:39.681Z"
   },
   {
    "duration": 155,
    "start_time": "2024-02-04T18:30:43.583Z"
   },
   {
    "duration": 526,
    "start_time": "2024-02-04T18:30:49.284Z"
   },
   {
    "duration": 38,
    "start_time": "2024-02-04T18:30:49.813Z"
   },
   {
    "duration": 2292,
    "start_time": "2024-02-04T18:30:49.853Z"
   },
   {
    "duration": 10,
    "start_time": "2024-02-04T18:30:52.147Z"
   },
   {
    "duration": 14,
    "start_time": "2024-02-04T18:30:52.159Z"
   },
   {
    "duration": 6,
    "start_time": "2024-02-04T18:30:52.174Z"
   },
   {
    "duration": 8,
    "start_time": "2024-02-04T18:30:52.181Z"
   },
   {
    "duration": 10,
    "start_time": "2024-02-04T18:30:52.191Z"
   },
   {
    "duration": 75,
    "start_time": "2024-02-04T18:30:52.202Z"
   },
   {
    "duration": 7,
    "start_time": "2024-02-04T18:30:52.279Z"
   },
   {
    "duration": 9,
    "start_time": "2024-02-04T18:30:52.287Z"
   },
   {
    "duration": 5,
    "start_time": "2024-02-04T18:30:52.298Z"
   },
   {
    "duration": 12,
    "start_time": "2024-02-04T18:30:52.304Z"
   },
   {
    "duration": 11,
    "start_time": "2024-02-04T18:30:52.317Z"
   },
   {
    "duration": 49,
    "start_time": "2024-02-04T18:30:52.330Z"
   },
   {
    "duration": 13,
    "start_time": "2024-02-04T18:30:52.381Z"
   },
   {
    "duration": 25,
    "start_time": "2024-02-04T18:30:52.395Z"
   },
   {
    "duration": 9,
    "start_time": "2024-02-04T18:30:52.422Z"
   },
   {
    "duration": 74,
    "start_time": "2024-02-04T18:30:52.433Z"
   },
   {
    "duration": 9,
    "start_time": "2024-02-04T18:30:52.509Z"
   },
   {
    "duration": 406,
    "start_time": "2024-02-04T18:30:52.520Z"
   },
   {
    "duration": 10,
    "start_time": "2024-02-04T18:30:52.928Z"
   },
   {
    "duration": 8,
    "start_time": "2024-02-04T18:30:52.940Z"
   },
   {
    "duration": 199,
    "start_time": "2024-02-04T18:30:52.949Z"
   },
   {
    "duration": 8,
    "start_time": "2024-02-04T18:30:53.150Z"
   },
   {
    "duration": 18,
    "start_time": "2024-02-04T18:30:53.160Z"
   },
   {
    "duration": 173,
    "start_time": "2024-02-04T18:30:53.180Z"
   },
   {
    "duration": 19,
    "start_time": "2024-02-04T18:30:53.356Z"
   },
   {
    "duration": 26,
    "start_time": "2024-02-04T18:30:53.377Z"
   },
   {
    "duration": 15,
    "start_time": "2024-02-04T18:30:53.407Z"
   },
   {
    "duration": 12,
    "start_time": "2024-02-04T18:30:53.424Z"
   },
   {
    "duration": 10,
    "start_time": "2024-02-04T18:30:53.438Z"
   },
   {
    "duration": 10,
    "start_time": "2024-02-04T18:30:53.450Z"
   },
   {
    "duration": 172,
    "start_time": "2024-02-04T18:30:53.462Z"
   },
   {
    "duration": 8,
    "start_time": "2024-02-04T18:30:53.635Z"
   },
   {
    "duration": 9,
    "start_time": "2024-02-04T18:30:53.645Z"
   },
   {
    "duration": 249,
    "start_time": "2024-02-04T18:30:53.655Z"
   },
   {
    "duration": 9,
    "start_time": "2024-02-04T18:30:53.906Z"
   },
   {
    "duration": 15,
    "start_time": "2024-02-04T18:30:53.917Z"
   },
   {
    "duration": 6,
    "start_time": "2024-02-04T18:30:53.934Z"
   },
   {
    "duration": 6,
    "start_time": "2024-02-04T18:30:53.942Z"
   },
   {
    "duration": 4,
    "start_time": "2024-02-04T18:30:53.972Z"
   },
   {
    "duration": 132,
    "start_time": "2024-02-04T18:30:53.978Z"
   },
   {
    "duration": 10,
    "start_time": "2024-02-04T18:30:54.112Z"
   },
   {
    "duration": 6,
    "start_time": "2024-02-04T18:30:54.125Z"
   },
   {
    "duration": 178,
    "start_time": "2024-02-04T18:30:54.132Z"
   },
   {
    "duration": 132,
    "start_time": "2024-02-04T18:30:54.311Z"
   },
   {
    "duration": 7,
    "start_time": "2024-02-04T18:30:54.445Z"
   },
   {
    "duration": 146,
    "start_time": "2024-02-04T18:30:54.454Z"
   },
   {
    "duration": 8,
    "start_time": "2024-02-04T18:30:54.602Z"
   },
   {
    "duration": 155,
    "start_time": "2024-02-04T18:30:54.611Z"
   },
   {
    "duration": 7,
    "start_time": "2024-02-04T18:30:54.772Z"
   },
   {
    "duration": 155,
    "start_time": "2024-02-04T18:30:54.781Z"
   },
   {
    "duration": 7,
    "start_time": "2024-02-04T18:30:54.938Z"
   },
   {
    "duration": 183,
    "start_time": "2024-02-04T18:30:54.947Z"
   },
   {
    "duration": 5,
    "start_time": "2024-02-04T18:30:55.131Z"
   },
   {
    "duration": 15,
    "start_time": "2024-02-04T18:30:55.138Z"
   },
   {
    "duration": 87,
    "start_time": "2024-02-04T18:30:55.155Z"
   },
   {
    "duration": 163,
    "start_time": "2024-02-04T18:31:11.656Z"
   },
   {
    "duration": 5,
    "start_time": "2024-02-04T18:31:45.452Z"
   },
   {
    "duration": 168,
    "start_time": "2024-02-04T18:31:48.245Z"
   },
   {
    "duration": 8,
    "start_time": "2024-02-04T18:31:51.738Z"
   },
   {
    "duration": 5,
    "start_time": "2024-02-04T18:31:59.602Z"
   },
   {
    "duration": 171,
    "start_time": "2024-02-04T18:32:00.657Z"
   },
   {
    "duration": 532,
    "start_time": "2024-02-04T18:32:06.910Z"
   },
   {
    "duration": 36,
    "start_time": "2024-02-04T18:32:07.444Z"
   },
   {
    "duration": 2280,
    "start_time": "2024-02-04T18:32:07.482Z"
   },
   {
    "duration": 10,
    "start_time": "2024-02-04T18:32:09.765Z"
   },
   {
    "duration": 12,
    "start_time": "2024-02-04T18:32:09.777Z"
   },
   {
    "duration": 7,
    "start_time": "2024-02-04T18:32:09.791Z"
   },
   {
    "duration": 7,
    "start_time": "2024-02-04T18:32:09.800Z"
   },
   {
    "duration": 10,
    "start_time": "2024-02-04T18:32:09.809Z"
   },
   {
    "duration": 84,
    "start_time": "2024-02-04T18:32:09.820Z"
   },
   {
    "duration": 6,
    "start_time": "2024-02-04T18:32:09.907Z"
   },
   {
    "duration": 11,
    "start_time": "2024-02-04T18:32:09.915Z"
   },
   {
    "duration": 5,
    "start_time": "2024-02-04T18:32:09.927Z"
   },
   {
    "duration": 16,
    "start_time": "2024-02-04T18:32:09.933Z"
   },
   {
    "duration": 27,
    "start_time": "2024-02-04T18:32:09.950Z"
   },
   {
    "duration": 15,
    "start_time": "2024-02-04T18:32:09.978Z"
   },
   {
    "duration": 19,
    "start_time": "2024-02-04T18:32:09.995Z"
   },
   {
    "duration": 25,
    "start_time": "2024-02-04T18:32:10.015Z"
   },
   {
    "duration": 20,
    "start_time": "2024-02-04T18:32:10.041Z"
   },
   {
    "duration": 73,
    "start_time": "2024-02-04T18:32:10.062Z"
   },
   {
    "duration": 7,
    "start_time": "2024-02-04T18:32:10.137Z"
   },
   {
    "duration": 393,
    "start_time": "2024-02-04T18:32:10.146Z"
   },
   {
    "duration": 8,
    "start_time": "2024-02-04T18:32:10.541Z"
   },
   {
    "duration": 8,
    "start_time": "2024-02-04T18:32:10.551Z"
   },
   {
    "duration": 162,
    "start_time": "2024-02-04T18:32:10.573Z"
   },
   {
    "duration": 8,
    "start_time": "2024-02-04T18:32:10.737Z"
   },
   {
    "duration": 5,
    "start_time": "2024-02-04T18:32:10.747Z"
   },
   {
    "duration": 177,
    "start_time": "2024-02-04T18:32:10.754Z"
   },
   {
    "duration": 15,
    "start_time": "2024-02-04T18:32:10.935Z"
   },
   {
    "duration": 54,
    "start_time": "2024-02-04T18:32:10.952Z"
   },
   {
    "duration": 10,
    "start_time": "2024-02-04T18:32:11.008Z"
   },
   {
    "duration": 9,
    "start_time": "2024-02-04T18:32:11.020Z"
   },
   {
    "duration": 7,
    "start_time": "2024-02-04T18:32:11.031Z"
   },
   {
    "duration": 35,
    "start_time": "2024-02-04T18:32:11.039Z"
   },
   {
    "duration": 171,
    "start_time": "2024-02-04T18:32:11.076Z"
   },
   {
    "duration": 9,
    "start_time": "2024-02-04T18:32:11.248Z"
   },
   {
    "duration": 18,
    "start_time": "2024-02-04T18:32:11.259Z"
   },
   {
    "duration": 243,
    "start_time": "2024-02-04T18:32:11.279Z"
   },
   {
    "duration": 9,
    "start_time": "2024-02-04T18:32:11.524Z"
   },
   {
    "duration": 5,
    "start_time": "2024-02-04T18:32:11.535Z"
   },
   {
    "duration": 7,
    "start_time": "2024-02-04T18:32:11.542Z"
   },
   {
    "duration": 5,
    "start_time": "2024-02-04T18:32:11.573Z"
   },
   {
    "duration": 8,
    "start_time": "2024-02-04T18:32:11.579Z"
   },
   {
    "duration": 169,
    "start_time": "2024-02-04T18:32:11.588Z"
   },
   {
    "duration": 15,
    "start_time": "2024-02-04T18:32:11.759Z"
   },
   {
    "duration": 7,
    "start_time": "2024-02-04T18:32:11.775Z"
   },
   {
    "duration": 175,
    "start_time": "2024-02-04T18:32:11.783Z"
   },
   {
    "duration": 141,
    "start_time": "2024-02-04T18:32:11.960Z"
   },
   {
    "duration": 8,
    "start_time": "2024-02-04T18:32:12.104Z"
   },
   {
    "duration": 144,
    "start_time": "2024-02-04T18:32:12.114Z"
   },
   {
    "duration": 18,
    "start_time": "2024-02-04T18:32:12.260Z"
   },
   {
    "duration": 148,
    "start_time": "2024-02-04T18:32:12.279Z"
   },
   {
    "duration": 9,
    "start_time": "2024-02-04T18:32:12.429Z"
   },
   {
    "duration": 160,
    "start_time": "2024-02-04T18:32:12.440Z"
   },
   {
    "duration": 8,
    "start_time": "2024-02-04T18:32:12.602Z"
   },
   {
    "duration": 195,
    "start_time": "2024-02-04T18:32:12.611Z"
   },
   {
    "duration": 4,
    "start_time": "2024-02-04T18:32:12.808Z"
   },
   {
    "duration": 20,
    "start_time": "2024-02-04T18:32:12.813Z"
   },
   {
    "duration": 98,
    "start_time": "2024-02-04T18:32:12.835Z"
   },
   {
    "duration": 9,
    "start_time": "2024-02-04T18:34:25.669Z"
   },
   {
    "duration": 15,
    "start_time": "2024-02-04T18:34:32.527Z"
   },
   {
    "duration": 8,
    "start_time": "2024-02-04T18:34:33.627Z"
   },
   {
    "duration": 9,
    "start_time": "2024-02-04T18:34:35.737Z"
   },
   {
    "duration": 495,
    "start_time": "2024-02-04T18:34:42.018Z"
   },
   {
    "duration": 38,
    "start_time": "2024-02-04T18:34:42.515Z"
   },
   {
    "duration": 2351,
    "start_time": "2024-02-04T18:34:42.554Z"
   },
   {
    "duration": 10,
    "start_time": "2024-02-04T18:34:44.907Z"
   },
   {
    "duration": 12,
    "start_time": "2024-02-04T18:34:44.919Z"
   },
   {
    "duration": 7,
    "start_time": "2024-02-04T18:34:44.932Z"
   },
   {
    "duration": 5,
    "start_time": "2024-02-04T18:34:44.940Z"
   },
   {
    "duration": 11,
    "start_time": "2024-02-04T18:34:44.946Z"
   },
   {
    "duration": 70,
    "start_time": "2024-02-04T18:34:44.958Z"
   },
   {
    "duration": 6,
    "start_time": "2024-02-04T18:34:45.031Z"
   },
   {
    "duration": 19,
    "start_time": "2024-02-04T18:34:45.039Z"
   },
   {
    "duration": 13,
    "start_time": "2024-02-04T18:34:45.060Z"
   },
   {
    "duration": 17,
    "start_time": "2024-02-04T18:34:45.074Z"
   },
   {
    "duration": 10,
    "start_time": "2024-02-04T18:34:45.093Z"
   },
   {
    "duration": 15,
    "start_time": "2024-02-04T18:34:45.104Z"
   },
   {
    "duration": 33,
    "start_time": "2024-02-04T18:34:45.120Z"
   },
   {
    "duration": 30,
    "start_time": "2024-02-04T18:34:45.154Z"
   },
   {
    "duration": 7,
    "start_time": "2024-02-04T18:34:45.186Z"
   },
   {
    "duration": 56,
    "start_time": "2024-02-04T18:34:45.195Z"
   },
   {
    "duration": 25,
    "start_time": "2024-02-04T18:34:45.253Z"
   },
   {
    "duration": 407,
    "start_time": "2024-02-04T18:34:45.280Z"
   },
   {
    "duration": 8,
    "start_time": "2024-02-04T18:34:45.688Z"
   },
   {
    "duration": 8,
    "start_time": "2024-02-04T18:34:45.698Z"
   },
   {
    "duration": 179,
    "start_time": "2024-02-04T18:34:45.707Z"
   },
   {
    "duration": 10,
    "start_time": "2024-02-04T18:34:45.888Z"
   },
   {
    "duration": 7,
    "start_time": "2024-02-04T18:34:45.899Z"
   },
   {
    "duration": 170,
    "start_time": "2024-02-04T18:34:45.908Z"
   },
   {
    "duration": 16,
    "start_time": "2024-02-04T18:34:46.082Z"
   },
   {
    "duration": 42,
    "start_time": "2024-02-04T18:34:46.100Z"
   },
   {
    "duration": 29,
    "start_time": "2024-02-04T18:34:46.144Z"
   },
   {
    "duration": 10,
    "start_time": "2024-02-04T18:34:46.175Z"
   },
   {
    "duration": 7,
    "start_time": "2024-02-04T18:34:46.187Z"
   },
   {
    "duration": 6,
    "start_time": "2024-02-04T18:34:46.196Z"
   },
   {
    "duration": 199,
    "start_time": "2024-02-04T18:34:46.204Z"
   },
   {
    "duration": 9,
    "start_time": "2024-02-04T18:34:46.404Z"
   },
   {
    "duration": 7,
    "start_time": "2024-02-04T18:34:46.414Z"
   },
   {
    "duration": 251,
    "start_time": "2024-02-04T18:34:46.423Z"
   },
   {
    "duration": 8,
    "start_time": "2024-02-04T18:34:46.676Z"
   },
   {
    "duration": 5,
    "start_time": "2024-02-04T18:34:46.685Z"
   },
   {
    "duration": 6,
    "start_time": "2024-02-04T18:34:46.691Z"
   },
   {
    "duration": 5,
    "start_time": "2024-02-04T18:34:46.699Z"
   },
   {
    "duration": 7,
    "start_time": "2024-02-04T18:34:46.705Z"
   },
   {
    "duration": 175,
    "start_time": "2024-02-04T18:34:46.714Z"
   },
   {
    "duration": 10,
    "start_time": "2024-02-04T18:34:46.891Z"
   },
   {
    "duration": 8,
    "start_time": "2024-02-04T18:34:46.903Z"
   },
   {
    "duration": 193,
    "start_time": "2024-02-04T18:34:46.913Z"
   },
   {
    "duration": 140,
    "start_time": "2024-02-04T18:34:47.108Z"
   },
   {
    "duration": 8,
    "start_time": "2024-02-04T18:34:47.250Z"
   },
   {
    "duration": 146,
    "start_time": "2024-02-04T18:34:47.259Z"
   },
   {
    "duration": 9,
    "start_time": "2024-02-04T18:34:47.406Z"
   },
   {
    "duration": 157,
    "start_time": "2024-02-04T18:34:47.417Z"
   },
   {
    "duration": 10,
    "start_time": "2024-02-04T18:34:47.576Z"
   },
   {
    "duration": 156,
    "start_time": "2024-02-04T18:34:47.588Z"
   },
   {
    "duration": 9,
    "start_time": "2024-02-04T18:34:47.745Z"
   },
   {
    "duration": 188,
    "start_time": "2024-02-04T18:34:47.755Z"
   },
   {
    "duration": 5,
    "start_time": "2024-02-04T18:34:47.944Z"
   },
   {
    "duration": 39,
    "start_time": "2024-02-04T18:34:47.950Z"
   },
   {
    "duration": 106,
    "start_time": "2024-02-04T18:34:47.991Z"
   },
   {
    "duration": 10,
    "start_time": "2024-02-04T18:37:16.967Z"
   },
   {
    "duration": 154,
    "start_time": "2024-02-04T18:37:26.115Z"
   },
   {
    "duration": 9,
    "start_time": "2024-02-04T18:37:39.232Z"
   },
   {
    "duration": 6,
    "start_time": "2024-02-04T18:37:44.504Z"
   },
   {
    "duration": 158,
    "start_time": "2024-02-04T18:37:45.272Z"
   },
   {
    "duration": 15,
    "start_time": "2024-02-04T18:37:51.875Z"
   },
   {
    "duration": 15,
    "start_time": "2024-02-04T18:37:52.791Z"
   },
   {
    "duration": 7,
    "start_time": "2024-02-04T18:37:55.306Z"
   },
   {
    "duration": 558,
    "start_time": "2024-02-04T18:38:01.555Z"
   },
   {
    "duration": 36,
    "start_time": "2024-02-04T18:38:02.115Z"
   },
   {
    "duration": 2332,
    "start_time": "2024-02-04T18:38:02.153Z"
   },
   {
    "duration": 10,
    "start_time": "2024-02-04T18:38:04.488Z"
   },
   {
    "duration": 51,
    "start_time": "2024-02-04T18:38:04.500Z"
   },
   {
    "duration": 24,
    "start_time": "2024-02-04T18:38:04.553Z"
   },
   {
    "duration": 7,
    "start_time": "2024-02-04T18:38:04.579Z"
   },
   {
    "duration": 11,
    "start_time": "2024-02-04T18:38:04.587Z"
   },
   {
    "duration": 60,
    "start_time": "2024-02-04T18:38:04.600Z"
   },
   {
    "duration": 7,
    "start_time": "2024-02-04T18:38:04.674Z"
   },
   {
    "duration": 10,
    "start_time": "2024-02-04T18:38:04.683Z"
   },
   {
    "duration": 4,
    "start_time": "2024-02-04T18:38:04.695Z"
   },
   {
    "duration": 10,
    "start_time": "2024-02-04T18:38:04.700Z"
   },
   {
    "duration": 9,
    "start_time": "2024-02-04T18:38:04.712Z"
   },
   {
    "duration": 10,
    "start_time": "2024-02-04T18:38:04.723Z"
   },
   {
    "duration": 43,
    "start_time": "2024-02-04T18:38:04.734Z"
   },
   {
    "duration": 24,
    "start_time": "2024-02-04T18:38:04.778Z"
   },
   {
    "duration": 9,
    "start_time": "2024-02-04T18:38:04.804Z"
   },
   {
    "duration": 78,
    "start_time": "2024-02-04T18:38:04.814Z"
   },
   {
    "duration": 8,
    "start_time": "2024-02-04T18:38:04.894Z"
   },
   {
    "duration": 397,
    "start_time": "2024-02-04T18:38:04.903Z"
   },
   {
    "duration": 9,
    "start_time": "2024-02-04T18:38:05.302Z"
   },
   {
    "duration": 8,
    "start_time": "2024-02-04T18:38:05.312Z"
   },
   {
    "duration": 181,
    "start_time": "2024-02-04T18:38:05.322Z"
   },
   {
    "duration": 9,
    "start_time": "2024-02-04T18:38:05.505Z"
   },
   {
    "duration": 5,
    "start_time": "2024-02-04T18:38:05.516Z"
   },
   {
    "duration": 176,
    "start_time": "2024-02-04T18:38:05.523Z"
   },
   {
    "duration": 15,
    "start_time": "2024-02-04T18:38:05.703Z"
   },
   {
    "duration": 45,
    "start_time": "2024-02-04T18:38:05.719Z"
   },
   {
    "duration": 13,
    "start_time": "2024-02-04T18:38:05.765Z"
   },
   {
    "duration": 9,
    "start_time": "2024-02-04T18:38:05.780Z"
   },
   {
    "duration": 7,
    "start_time": "2024-02-04T18:38:05.790Z"
   },
   {
    "duration": 6,
    "start_time": "2024-02-04T18:38:05.799Z"
   },
   {
    "duration": 192,
    "start_time": "2024-02-04T18:38:05.807Z"
   },
   {
    "duration": 10,
    "start_time": "2024-02-04T18:38:06.001Z"
   },
   {
    "duration": 6,
    "start_time": "2024-02-04T18:38:06.013Z"
   },
   {
    "duration": 254,
    "start_time": "2024-02-04T18:38:06.021Z"
   },
   {
    "duration": 8,
    "start_time": "2024-02-04T18:38:06.277Z"
   },
   {
    "duration": 6,
    "start_time": "2024-02-04T18:38:06.287Z"
   },
   {
    "duration": 6,
    "start_time": "2024-02-04T18:38:06.294Z"
   },
   {
    "duration": 3,
    "start_time": "2024-02-04T18:38:06.302Z"
   },
   {
    "duration": 19,
    "start_time": "2024-02-04T18:38:06.306Z"
   },
   {
    "duration": 164,
    "start_time": "2024-02-04T18:38:06.326Z"
   },
   {
    "duration": 9,
    "start_time": "2024-02-04T18:38:06.491Z"
   },
   {
    "duration": 7,
    "start_time": "2024-02-04T18:38:06.501Z"
   },
   {
    "duration": 175,
    "start_time": "2024-02-04T18:38:06.509Z"
   },
   {
    "duration": 139,
    "start_time": "2024-02-04T18:38:06.685Z"
   },
   {
    "duration": 8,
    "start_time": "2024-02-04T18:38:06.826Z"
   },
   {
    "duration": 152,
    "start_time": "2024-02-04T18:38:06.836Z"
   },
   {
    "duration": 9,
    "start_time": "2024-02-04T18:38:06.990Z"
   },
   {
    "duration": 155,
    "start_time": "2024-02-04T18:38:07.001Z"
   },
   {
    "duration": 18,
    "start_time": "2024-02-04T18:38:07.158Z"
   },
   {
    "duration": 149,
    "start_time": "2024-02-04T18:38:07.178Z"
   },
   {
    "duration": 9,
    "start_time": "2024-02-04T18:38:07.329Z"
   },
   {
    "duration": 191,
    "start_time": "2024-02-04T18:38:07.340Z"
   },
   {
    "duration": 5,
    "start_time": "2024-02-04T18:38:07.533Z"
   },
   {
    "duration": 38,
    "start_time": "2024-02-04T18:38:07.540Z"
   },
   {
    "duration": 90,
    "start_time": "2024-02-04T18:38:07.580Z"
   },
   {
    "duration": 76,
    "start_time": "2024-02-04T18:41:38.887Z"
   },
   {
    "duration": 7,
    "start_time": "2024-02-04T18:42:20.130Z"
   },
   {
    "duration": 36,
    "start_time": "2024-02-04T18:43:25.747Z"
   },
   {
    "duration": 34,
    "start_time": "2024-02-04T18:44:10.705Z"
   },
   {
    "duration": 9,
    "start_time": "2024-02-04T18:44:55.179Z"
   },
   {
    "duration": 8,
    "start_time": "2024-02-04T18:45:00.421Z"
   },
   {
    "duration": 7,
    "start_time": "2024-02-04T18:45:05.054Z"
   },
   {
    "duration": 168,
    "start_time": "2024-02-04T18:45:08.891Z"
   },
   {
    "duration": 170,
    "start_time": "2024-02-04T18:45:21.058Z"
   },
   {
    "duration": 10,
    "start_time": "2024-02-04T18:45:28.283Z"
   },
   {
    "duration": 9,
    "start_time": "2024-02-04T18:45:39.441Z"
   },
   {
    "duration": 10,
    "start_time": "2024-02-04T18:46:42.175Z"
   },
   {
    "duration": 514,
    "start_time": "2024-02-04T18:46:48.110Z"
   },
   {
    "duration": 36,
    "start_time": "2024-02-04T18:46:48.626Z"
   },
   {
    "duration": 2286,
    "start_time": "2024-02-04T18:46:48.663Z"
   },
   {
    "duration": 10,
    "start_time": "2024-02-04T18:46:50.952Z"
   },
   {
    "duration": 12,
    "start_time": "2024-02-04T18:46:50.963Z"
   },
   {
    "duration": 6,
    "start_time": "2024-02-04T18:46:50.977Z"
   },
   {
    "duration": 7,
    "start_time": "2024-02-04T18:46:50.984Z"
   },
   {
    "duration": 12,
    "start_time": "2024-02-04T18:46:50.993Z"
   },
   {
    "duration": 77,
    "start_time": "2024-02-04T18:46:51.006Z"
   },
   {
    "duration": 7,
    "start_time": "2024-02-04T18:46:51.087Z"
   },
   {
    "duration": 8,
    "start_time": "2024-02-04T18:46:51.095Z"
   },
   {
    "duration": 4,
    "start_time": "2024-02-04T18:46:51.105Z"
   },
   {
    "duration": 10,
    "start_time": "2024-02-04T18:46:51.110Z"
   },
   {
    "duration": 18,
    "start_time": "2024-02-04T18:46:51.122Z"
   },
   {
    "duration": 36,
    "start_time": "2024-02-04T18:46:51.141Z"
   },
   {
    "duration": 17,
    "start_time": "2024-02-04T18:46:51.178Z"
   },
   {
    "duration": 25,
    "start_time": "2024-02-04T18:46:51.196Z"
   },
   {
    "duration": 19,
    "start_time": "2024-02-04T18:46:51.223Z"
   },
   {
    "duration": 64,
    "start_time": "2024-02-04T18:46:51.244Z"
   },
   {
    "duration": 9,
    "start_time": "2024-02-04T18:46:51.310Z"
   },
   {
    "duration": 408,
    "start_time": "2024-02-04T18:46:51.320Z"
   },
   {
    "duration": 9,
    "start_time": "2024-02-04T18:46:51.729Z"
   },
   {
    "duration": 8,
    "start_time": "2024-02-04T18:46:51.739Z"
   },
   {
    "duration": 172,
    "start_time": "2024-02-04T18:46:51.749Z"
   },
   {
    "duration": 9,
    "start_time": "2024-02-04T18:46:51.923Z"
   },
   {
    "duration": 5,
    "start_time": "2024-02-04T18:46:51.933Z"
   },
   {
    "duration": 174,
    "start_time": "2024-02-04T18:46:51.940Z"
   },
   {
    "duration": 17,
    "start_time": "2024-02-04T18:46:52.118Z"
   },
   {
    "duration": 57,
    "start_time": "2024-02-04T18:46:52.136Z"
   },
   {
    "duration": 7,
    "start_time": "2024-02-04T18:46:52.195Z"
   },
   {
    "duration": 8,
    "start_time": "2024-02-04T18:46:52.204Z"
   },
   {
    "duration": 8,
    "start_time": "2024-02-04T18:46:52.214Z"
   },
   {
    "duration": 206,
    "start_time": "2024-02-04T18:46:52.223Z"
   },
   {
    "duration": 10,
    "start_time": "2024-02-04T18:46:52.430Z"
   },
   {
    "duration": 7,
    "start_time": "2024-02-04T18:46:52.441Z"
   },
   {
    "duration": 244,
    "start_time": "2024-02-04T18:46:52.450Z"
   },
   {
    "duration": 8,
    "start_time": "2024-02-04T18:46:52.695Z"
   },
   {
    "duration": 7,
    "start_time": "2024-02-04T18:46:52.704Z"
   },
   {
    "duration": 12,
    "start_time": "2024-02-04T18:46:52.712Z"
   },
   {
    "duration": 7,
    "start_time": "2024-02-04T18:46:52.726Z"
   },
   {
    "duration": 10,
    "start_time": "2024-02-04T18:46:52.734Z"
   },
   {
    "duration": 162,
    "start_time": "2024-02-04T18:46:52.745Z"
   },
   {
    "duration": 8,
    "start_time": "2024-02-04T18:46:52.909Z"
   },
   {
    "duration": 8,
    "start_time": "2024-02-04T18:46:52.918Z"
   },
   {
    "duration": 172,
    "start_time": "2024-02-04T18:46:52.928Z"
   },
   {
    "duration": 143,
    "start_time": "2024-02-04T18:46:53.101Z"
   },
   {
    "duration": 8,
    "start_time": "2024-02-04T18:46:53.246Z"
   },
   {
    "duration": 151,
    "start_time": "2024-02-04T18:46:53.255Z"
   },
   {
    "duration": 10,
    "start_time": "2024-02-04T18:46:53.408Z"
   },
   {
    "duration": 164,
    "start_time": "2024-02-04T18:46:53.419Z"
   },
   {
    "duration": 9,
    "start_time": "2024-02-04T18:46:53.584Z"
   },
   {
    "duration": 153,
    "start_time": "2024-02-04T18:46:53.595Z"
   },
   {
    "duration": 9,
    "start_time": "2024-02-04T18:46:53.749Z"
   },
   {
    "duration": 174,
    "start_time": "2024-02-04T18:46:53.772Z"
   },
   {
    "duration": 4,
    "start_time": "2024-02-04T18:46:53.948Z"
   },
   {
    "duration": 34,
    "start_time": "2024-02-04T18:46:53.954Z"
   },
   {
    "duration": 85,
    "start_time": "2024-02-04T18:46:53.990Z"
   },
   {
    "duration": 9,
    "start_time": "2024-02-04T18:48:30.057Z"
   },
   {
    "duration": 146,
    "start_time": "2024-02-04T18:48:31.357Z"
   },
   {
    "duration": 152,
    "start_time": "2024-02-04T18:48:51.341Z"
   },
   {
    "duration": 9,
    "start_time": "2024-02-04T18:48:57.232Z"
   },
   {
    "duration": 8,
    "start_time": "2024-02-04T18:49:05.488Z"
   },
   {
    "duration": 157,
    "start_time": "2024-02-04T18:49:06.729Z"
   },
   {
    "duration": 575,
    "start_time": "2024-02-04T18:49:24.840Z"
   },
   {
    "duration": 38,
    "start_time": "2024-02-04T18:49:25.416Z"
   },
   {
    "duration": 2490,
    "start_time": "2024-02-04T18:49:25.456Z"
   },
   {
    "duration": 10,
    "start_time": "2024-02-04T18:49:27.948Z"
   },
   {
    "duration": 12,
    "start_time": "2024-02-04T18:49:27.960Z"
   },
   {
    "duration": 9,
    "start_time": "2024-02-04T18:49:27.975Z"
   },
   {
    "duration": 6,
    "start_time": "2024-02-04T18:49:27.986Z"
   },
   {
    "duration": 11,
    "start_time": "2024-02-04T18:49:27.994Z"
   },
   {
    "duration": 99,
    "start_time": "2024-02-04T18:49:28.007Z"
   },
   {
    "duration": 9,
    "start_time": "2024-02-04T18:49:28.109Z"
   },
   {
    "duration": 8,
    "start_time": "2024-02-04T18:49:28.120Z"
   },
   {
    "duration": 5,
    "start_time": "2024-02-04T18:49:28.129Z"
   },
   {
    "duration": 22,
    "start_time": "2024-02-04T18:49:28.135Z"
   },
   {
    "duration": 11,
    "start_time": "2024-02-04T18:49:28.173Z"
   },
   {
    "duration": 11,
    "start_time": "2024-02-04T18:49:28.185Z"
   },
   {
    "duration": 20,
    "start_time": "2024-02-04T18:49:28.198Z"
   },
   {
    "duration": 25,
    "start_time": "2024-02-04T18:49:28.220Z"
   },
   {
    "duration": 36,
    "start_time": "2024-02-04T18:49:28.246Z"
   },
   {
    "duration": 59,
    "start_time": "2024-02-04T18:49:28.284Z"
   },
   {
    "duration": 28,
    "start_time": "2024-02-04T18:49:28.345Z"
   },
   {
    "duration": 397,
    "start_time": "2024-02-04T18:49:28.375Z"
   },
   {
    "duration": 9,
    "start_time": "2024-02-04T18:49:28.773Z"
   },
   {
    "duration": 8,
    "start_time": "2024-02-04T18:49:28.783Z"
   },
   {
    "duration": 181,
    "start_time": "2024-02-04T18:49:28.792Z"
   },
   {
    "duration": 9,
    "start_time": "2024-02-04T18:49:28.974Z"
   },
   {
    "duration": 5,
    "start_time": "2024-02-04T18:49:28.984Z"
   },
   {
    "duration": 174,
    "start_time": "2024-02-04T18:49:28.991Z"
   },
   {
    "duration": 15,
    "start_time": "2024-02-04T18:49:29.174Z"
   },
   {
    "duration": 39,
    "start_time": "2024-02-04T18:49:29.191Z"
   },
   {
    "duration": 9,
    "start_time": "2024-02-04T18:49:29.232Z"
   },
   {
    "duration": 31,
    "start_time": "2024-02-04T18:49:29.243Z"
   },
   {
    "duration": 7,
    "start_time": "2024-02-04T18:49:29.275Z"
   },
   {
    "duration": 192,
    "start_time": "2024-02-04T18:49:29.283Z"
   },
   {
    "duration": 9,
    "start_time": "2024-02-04T18:49:29.476Z"
   },
   {
    "duration": 7,
    "start_time": "2024-02-04T18:49:29.486Z"
   },
   {
    "duration": 261,
    "start_time": "2024-02-04T18:49:29.494Z"
   },
   {
    "duration": 20,
    "start_time": "2024-02-04T18:49:29.756Z"
   },
   {
    "duration": 5,
    "start_time": "2024-02-04T18:49:29.778Z"
   },
   {
    "duration": 10,
    "start_time": "2024-02-04T18:49:29.784Z"
   },
   {
    "duration": 5,
    "start_time": "2024-02-04T18:49:29.795Z"
   },
   {
    "duration": 12,
    "start_time": "2024-02-04T18:49:29.802Z"
   },
   {
    "duration": 164,
    "start_time": "2024-02-04T18:49:29.816Z"
   },
   {
    "duration": 8,
    "start_time": "2024-02-04T18:49:29.982Z"
   },
   {
    "duration": 11,
    "start_time": "2024-02-04T18:49:29.992Z"
   },
   {
    "duration": 185,
    "start_time": "2024-02-04T18:49:30.005Z"
   },
   {
    "duration": 149,
    "start_time": "2024-02-04T18:49:30.191Z"
   },
   {
    "duration": 11,
    "start_time": "2024-02-04T18:49:30.357Z"
   },
   {
    "duration": 150,
    "start_time": "2024-02-04T18:49:30.369Z"
   },
   {
    "duration": 9,
    "start_time": "2024-02-04T18:49:30.521Z"
   },
   {
    "duration": 176,
    "start_time": "2024-02-04T18:49:30.532Z"
   },
   {
    "duration": 10,
    "start_time": "2024-02-04T18:49:30.710Z"
   },
   {
    "duration": 174,
    "start_time": "2024-02-04T18:49:30.722Z"
   },
   {
    "duration": 9,
    "start_time": "2024-02-04T18:49:30.898Z"
   },
   {
    "duration": 246,
    "start_time": "2024-02-04T18:49:30.908Z"
   },
   {
    "duration": 4,
    "start_time": "2024-02-04T18:49:31.155Z"
   },
   {
    "duration": 76,
    "start_time": "2024-02-04T18:49:31.161Z"
   },
   {
    "duration": 88,
    "start_time": "2024-02-04T18:49:31.238Z"
   },
   {
    "duration": 10,
    "start_time": "2024-02-04T18:51:07.352Z"
   },
   {
    "duration": 139,
    "start_time": "2024-02-04T18:51:08.044Z"
   },
   {
    "duration": 574,
    "start_time": "2024-02-04T18:51:23.861Z"
   },
   {
    "duration": 41,
    "start_time": "2024-02-04T18:51:24.437Z"
   },
   {
    "duration": 2390,
    "start_time": "2024-02-04T18:51:24.480Z"
   },
   {
    "duration": 10,
    "start_time": "2024-02-04T18:51:26.872Z"
   },
   {
    "duration": 12,
    "start_time": "2024-02-04T18:51:26.884Z"
   },
   {
    "duration": 5,
    "start_time": "2024-02-04T18:51:26.898Z"
   },
   {
    "duration": 5,
    "start_time": "2024-02-04T18:51:26.905Z"
   },
   {
    "duration": 13,
    "start_time": "2024-02-04T18:51:26.911Z"
   },
   {
    "duration": 93,
    "start_time": "2024-02-04T18:51:26.926Z"
   },
   {
    "duration": 7,
    "start_time": "2024-02-04T18:51:27.022Z"
   },
   {
    "duration": 9,
    "start_time": "2024-02-04T18:51:27.031Z"
   },
   {
    "duration": 12,
    "start_time": "2024-02-04T18:51:27.042Z"
   },
   {
    "duration": 22,
    "start_time": "2024-02-04T18:51:27.056Z"
   },
   {
    "duration": 12,
    "start_time": "2024-02-04T18:51:27.080Z"
   },
   {
    "duration": 10,
    "start_time": "2024-02-04T18:51:27.094Z"
   },
   {
    "duration": 18,
    "start_time": "2024-02-04T18:51:27.106Z"
   },
   {
    "duration": 53,
    "start_time": "2024-02-04T18:51:27.125Z"
   },
   {
    "duration": 8,
    "start_time": "2024-02-04T18:51:27.180Z"
   },
   {
    "duration": 52,
    "start_time": "2024-02-04T18:51:27.189Z"
   },
   {
    "duration": 32,
    "start_time": "2024-02-04T18:51:27.242Z"
   },
   {
    "duration": 398,
    "start_time": "2024-02-04T18:51:27.276Z"
   },
   {
    "duration": 8,
    "start_time": "2024-02-04T18:51:27.675Z"
   },
   {
    "duration": 8,
    "start_time": "2024-02-04T18:51:27.684Z"
   },
   {
    "duration": 170,
    "start_time": "2024-02-04T18:51:27.693Z"
   },
   {
    "duration": 15,
    "start_time": "2024-02-04T18:51:27.864Z"
   },
   {
    "duration": 7,
    "start_time": "2024-02-04T18:51:27.881Z"
   },
   {
    "duration": 171,
    "start_time": "2024-02-04T18:51:27.890Z"
   },
   {
    "duration": 25,
    "start_time": "2024-02-04T18:51:28.066Z"
   },
   {
    "duration": 45,
    "start_time": "2024-02-04T18:51:28.093Z"
   },
   {
    "duration": 8,
    "start_time": "2024-02-04T18:51:28.140Z"
   },
   {
    "duration": 26,
    "start_time": "2024-02-04T18:51:28.150Z"
   },
   {
    "duration": 14,
    "start_time": "2024-02-04T18:51:28.178Z"
   },
   {
    "duration": 184,
    "start_time": "2024-02-04T18:51:28.193Z"
   },
   {
    "duration": 8,
    "start_time": "2024-02-04T18:51:28.379Z"
   },
   {
    "duration": 5,
    "start_time": "2024-02-04T18:51:28.389Z"
   },
   {
    "duration": 241,
    "start_time": "2024-02-04T18:51:28.396Z"
   },
   {
    "duration": 7,
    "start_time": "2024-02-04T18:51:28.639Z"
   },
   {
    "duration": 17,
    "start_time": "2024-02-04T18:51:28.647Z"
   },
   {
    "duration": 30,
    "start_time": "2024-02-04T18:51:28.665Z"
   },
   {
    "duration": 4,
    "start_time": "2024-02-04T18:51:28.697Z"
   },
   {
    "duration": 13,
    "start_time": "2024-02-04T18:51:28.702Z"
   },
   {
    "duration": 164,
    "start_time": "2024-02-04T18:51:28.717Z"
   },
   {
    "duration": 9,
    "start_time": "2024-02-04T18:51:28.883Z"
   },
   {
    "duration": 21,
    "start_time": "2024-02-04T18:51:28.893Z"
   },
   {
    "duration": 173,
    "start_time": "2024-02-04T18:51:28.915Z"
   },
   {
    "duration": 142,
    "start_time": "2024-02-04T18:51:29.089Z"
   },
   {
    "duration": 10,
    "start_time": "2024-02-04T18:51:29.232Z"
   },
   {
    "duration": 10,
    "start_time": "2024-02-04T18:51:29.244Z"
   },
   {
    "duration": 163,
    "start_time": "2024-02-04T18:51:29.256Z"
   },
   {
    "duration": 10,
    "start_time": "2024-02-04T18:51:29.420Z"
   },
   {
    "duration": 146,
    "start_time": "2024-02-04T18:51:29.432Z"
   },
   {
    "duration": 10,
    "start_time": "2024-02-04T18:51:29.579Z"
   },
   {
    "duration": 154,
    "start_time": "2024-02-04T18:51:29.590Z"
   },
   {
    "duration": 8,
    "start_time": "2024-02-04T18:51:29.746Z"
   },
   {
    "duration": 193,
    "start_time": "2024-02-04T18:51:29.755Z"
   },
   {
    "duration": 4,
    "start_time": "2024-02-04T18:51:29.950Z"
   },
   {
    "duration": 33,
    "start_time": "2024-02-04T18:51:29.955Z"
   },
   {
    "duration": 134,
    "start_time": "2024-02-04T18:51:29.990Z"
   },
   {
    "duration": 138,
    "start_time": "2024-02-04T18:51:57.888Z"
   },
   {
    "duration": 8,
    "start_time": "2024-02-04T18:52:02.674Z"
   },
   {
    "duration": 148,
    "start_time": "2024-02-04T18:52:03.557Z"
   },
   {
    "duration": 538,
    "start_time": "2024-02-04T18:52:09.897Z"
   },
   {
    "duration": 45,
    "start_time": "2024-02-04T18:52:10.437Z"
   },
   {
    "duration": 2299,
    "start_time": "2024-02-04T18:52:10.483Z"
   },
   {
    "duration": 13,
    "start_time": "2024-02-04T18:52:12.784Z"
   },
   {
    "duration": 14,
    "start_time": "2024-02-04T18:52:12.799Z"
   },
   {
    "duration": 13,
    "start_time": "2024-02-04T18:52:12.814Z"
   },
   {
    "duration": 7,
    "start_time": "2024-02-04T18:52:12.829Z"
   },
   {
    "duration": 11,
    "start_time": "2024-02-04T18:52:12.837Z"
   },
   {
    "duration": 81,
    "start_time": "2024-02-04T18:52:12.849Z"
   },
   {
    "duration": 6,
    "start_time": "2024-02-04T18:52:12.933Z"
   },
   {
    "duration": 9,
    "start_time": "2024-02-04T18:52:12.941Z"
   },
   {
    "duration": 24,
    "start_time": "2024-02-04T18:52:12.952Z"
   },
   {
    "duration": 34,
    "start_time": "2024-02-04T18:52:12.978Z"
   },
   {
    "duration": 11,
    "start_time": "2024-02-04T18:52:13.013Z"
   },
   {
    "duration": 10,
    "start_time": "2024-02-04T18:52:13.025Z"
   },
   {
    "duration": 20,
    "start_time": "2024-02-04T18:52:13.036Z"
   },
   {
    "duration": 28,
    "start_time": "2024-02-04T18:52:13.057Z"
   },
   {
    "duration": 8,
    "start_time": "2024-02-04T18:52:13.087Z"
   },
   {
    "duration": 50,
    "start_time": "2024-02-04T18:52:13.096Z"
   },
   {
    "duration": 30,
    "start_time": "2024-02-04T18:52:13.148Z"
   },
   {
    "duration": 415,
    "start_time": "2024-02-04T18:52:13.180Z"
   },
   {
    "duration": 8,
    "start_time": "2024-02-04T18:52:13.597Z"
   },
   {
    "duration": 8,
    "start_time": "2024-02-04T18:52:13.607Z"
   },
   {
    "duration": 172,
    "start_time": "2024-02-04T18:52:13.616Z"
   },
   {
    "duration": 9,
    "start_time": "2024-02-04T18:52:13.789Z"
   },
   {
    "duration": 9,
    "start_time": "2024-02-04T18:52:13.799Z"
   },
   {
    "duration": 179,
    "start_time": "2024-02-04T18:52:13.809Z"
   },
   {
    "duration": 15,
    "start_time": "2024-02-04T18:52:13.991Z"
   },
   {
    "duration": 40,
    "start_time": "2024-02-04T18:52:14.007Z"
   },
   {
    "duration": 24,
    "start_time": "2024-02-04T18:52:14.049Z"
   },
   {
    "duration": 9,
    "start_time": "2024-02-04T18:52:14.075Z"
   },
   {
    "duration": 10,
    "start_time": "2024-02-04T18:52:14.085Z"
   },
   {
    "duration": 208,
    "start_time": "2024-02-04T18:52:14.096Z"
   },
   {
    "duration": 9,
    "start_time": "2024-02-04T18:52:14.305Z"
   },
   {
    "duration": 6,
    "start_time": "2024-02-04T18:52:14.316Z"
   },
   {
    "duration": 250,
    "start_time": "2024-02-04T18:52:14.323Z"
   },
   {
    "duration": 8,
    "start_time": "2024-02-04T18:52:14.575Z"
   },
   {
    "duration": 5,
    "start_time": "2024-02-04T18:52:14.584Z"
   },
   {
    "duration": 7,
    "start_time": "2024-02-04T18:52:14.591Z"
   },
   {
    "duration": 4,
    "start_time": "2024-02-04T18:52:14.600Z"
   },
   {
    "duration": 8,
    "start_time": "2024-02-04T18:52:14.605Z"
   },
   {
    "duration": 176,
    "start_time": "2024-02-04T18:52:14.614Z"
   },
   {
    "duration": 9,
    "start_time": "2024-02-04T18:52:14.792Z"
   },
   {
    "duration": 10,
    "start_time": "2024-02-04T18:52:14.803Z"
   },
   {
    "duration": 178,
    "start_time": "2024-02-04T18:52:14.814Z"
   },
   {
    "duration": 149,
    "start_time": "2024-02-04T18:52:14.994Z"
   },
   {
    "duration": 8,
    "start_time": "2024-02-04T18:52:15.145Z"
   },
   {
    "duration": 146,
    "start_time": "2024-02-04T18:52:15.155Z"
   },
   {
    "duration": 9,
    "start_time": "2024-02-04T18:52:15.303Z"
   },
   {
    "duration": 148,
    "start_time": "2024-02-04T18:52:15.314Z"
   },
   {
    "duration": 16,
    "start_time": "2024-02-04T18:52:15.463Z"
   },
   {
    "duration": 149,
    "start_time": "2024-02-04T18:52:15.481Z"
   },
   {
    "duration": 9,
    "start_time": "2024-02-04T18:52:15.632Z"
   },
   {
    "duration": 191,
    "start_time": "2024-02-04T18:52:15.642Z"
   },
   {
    "duration": 5,
    "start_time": "2024-02-04T18:52:15.834Z"
   },
   {
    "duration": 34,
    "start_time": "2024-02-04T18:52:15.840Z"
   },
   {
    "duration": 87,
    "start_time": "2024-02-04T18:52:15.875Z"
   },
   {
    "duration": 167,
    "start_time": "2024-02-04T18:52:43.443Z"
   },
   {
    "duration": 11,
    "start_time": "2024-02-04T18:53:12.710Z"
   },
   {
    "duration": 10,
    "start_time": "2024-02-04T18:53:21.668Z"
   },
   {
    "duration": 550,
    "start_time": "2024-02-04T18:53:28.541Z"
   },
   {
    "duration": 34,
    "start_time": "2024-02-04T18:53:29.093Z"
   },
   {
    "duration": 2256,
    "start_time": "2024-02-04T18:53:29.129Z"
   },
   {
    "duration": 11,
    "start_time": "2024-02-04T18:53:31.387Z"
   },
   {
    "duration": 39,
    "start_time": "2024-02-04T18:53:31.399Z"
   },
   {
    "duration": 50,
    "start_time": "2024-02-04T18:53:31.439Z"
   },
   {
    "duration": 37,
    "start_time": "2024-02-04T18:53:31.491Z"
   },
   {
    "duration": 34,
    "start_time": "2024-02-04T18:53:31.530Z"
   },
   {
    "duration": 88,
    "start_time": "2024-02-04T18:53:31.565Z"
   },
   {
    "duration": 6,
    "start_time": "2024-02-04T18:53:31.656Z"
   },
   {
    "duration": 56,
    "start_time": "2024-02-04T18:53:31.663Z"
   },
   {
    "duration": 26,
    "start_time": "2024-02-04T18:53:31.721Z"
   },
   {
    "duration": 48,
    "start_time": "2024-02-04T18:53:31.749Z"
   },
   {
    "duration": 15,
    "start_time": "2024-02-04T18:53:31.799Z"
   },
   {
    "duration": 35,
    "start_time": "2024-02-04T18:53:31.816Z"
   },
   {
    "duration": 51,
    "start_time": "2024-02-04T18:53:31.853Z"
   },
   {
    "duration": 25,
    "start_time": "2024-02-04T18:53:31.906Z"
   },
   {
    "duration": 13,
    "start_time": "2024-02-04T18:53:31.932Z"
   },
   {
    "duration": 62,
    "start_time": "2024-02-04T18:53:31.946Z"
   },
   {
    "duration": 8,
    "start_time": "2024-02-04T18:53:32.009Z"
   },
   {
    "duration": 398,
    "start_time": "2024-02-04T18:53:32.019Z"
   },
   {
    "duration": 9,
    "start_time": "2024-02-04T18:53:32.418Z"
   },
   {
    "duration": 8,
    "start_time": "2024-02-04T18:53:32.428Z"
   },
   {
    "duration": 175,
    "start_time": "2024-02-04T18:53:32.437Z"
   },
   {
    "duration": 9,
    "start_time": "2024-02-04T18:53:32.613Z"
   },
   {
    "duration": 6,
    "start_time": "2024-02-04T18:53:32.623Z"
   },
   {
    "duration": 167,
    "start_time": "2024-02-04T18:53:32.631Z"
   },
   {
    "duration": 15,
    "start_time": "2024-02-04T18:53:32.803Z"
   },
   {
    "duration": 57,
    "start_time": "2024-02-04T18:53:32.820Z"
   },
   {
    "duration": 8,
    "start_time": "2024-02-04T18:53:32.878Z"
   },
   {
    "duration": 9,
    "start_time": "2024-02-04T18:53:32.888Z"
   },
   {
    "duration": 7,
    "start_time": "2024-02-04T18:53:32.898Z"
   },
   {
    "duration": 202,
    "start_time": "2024-02-04T18:53:32.907Z"
   },
   {
    "duration": 9,
    "start_time": "2024-02-04T18:53:33.110Z"
   },
   {
    "duration": 6,
    "start_time": "2024-02-04T18:53:33.121Z"
   },
   {
    "duration": 256,
    "start_time": "2024-02-04T18:53:33.128Z"
   },
   {
    "duration": 9,
    "start_time": "2024-02-04T18:53:33.385Z"
   },
   {
    "duration": 6,
    "start_time": "2024-02-04T18:53:33.395Z"
   },
   {
    "duration": 13,
    "start_time": "2024-02-04T18:53:33.402Z"
   },
   {
    "duration": 6,
    "start_time": "2024-02-04T18:53:33.417Z"
   },
   {
    "duration": 15,
    "start_time": "2024-02-04T18:53:33.425Z"
   },
   {
    "duration": 186,
    "start_time": "2024-02-04T18:53:33.442Z"
   },
   {
    "duration": 9,
    "start_time": "2024-02-04T18:53:33.630Z"
   },
   {
    "duration": 8,
    "start_time": "2024-02-04T18:53:33.641Z"
   },
   {
    "duration": 187,
    "start_time": "2024-02-04T18:53:33.651Z"
   },
   {
    "duration": 149,
    "start_time": "2024-02-04T18:53:33.840Z"
   },
   {
    "duration": 12,
    "start_time": "2024-02-04T18:53:33.991Z"
   },
   {
    "duration": 192,
    "start_time": "2024-02-04T18:53:34.005Z"
   },
   {
    "duration": 9,
    "start_time": "2024-02-04T18:53:34.199Z"
   },
   {
    "duration": 155,
    "start_time": "2024-02-04T18:53:34.210Z"
   },
   {
    "duration": 10,
    "start_time": "2024-02-04T18:53:34.372Z"
   },
   {
    "duration": 155,
    "start_time": "2024-02-04T18:53:34.383Z"
   },
   {
    "duration": 8,
    "start_time": "2024-02-04T18:53:34.540Z"
   },
   {
    "duration": 179,
    "start_time": "2024-02-04T18:53:34.550Z"
   },
   {
    "duration": 4,
    "start_time": "2024-02-04T18:53:34.731Z"
   },
   {
    "duration": 37,
    "start_time": "2024-02-04T18:53:34.736Z"
   },
   {
    "duration": 92,
    "start_time": "2024-02-04T18:53:34.775Z"
   },
   {
    "duration": 92,
    "start_time": "2024-02-04T18:54:12.964Z"
   },
   {
    "duration": 204,
    "start_time": "2024-02-04T18:55:01.724Z"
   },
   {
    "duration": 77,
    "start_time": "2024-02-04T18:56:16.266Z"
   },
   {
    "duration": 1758,
    "start_time": "2024-02-04T18:57:14.302Z"
   },
   {
    "duration": 1682,
    "start_time": "2024-02-04T19:00:02.401Z"
   },
   {
    "duration": 4390,
    "start_time": "2024-02-04T19:00:31.748Z"
   },
   {
    "duration": 285,
    "start_time": "2024-02-04T19:06:20.647Z"
   },
   {
    "duration": 197,
    "start_time": "2024-02-04T19:17:00.951Z"
   },
   {
    "duration": 592,
    "start_time": "2024-02-04T19:20:12.976Z"
   },
   {
    "duration": 583,
    "start_time": "2024-02-04T19:26:35.074Z"
   },
   {
    "duration": 10,
    "start_time": "2024-02-04T19:27:21.657Z"
   },
   {
    "duration": 157,
    "start_time": "2024-02-04T19:27:48.161Z"
   },
   {
    "duration": 1416,
    "start_time": "2024-02-04T19:28:42.146Z"
   },
   {
    "duration": 4185,
    "start_time": "2024-02-04T19:29:38.404Z"
   },
   {
    "duration": 590,
    "start_time": "2024-02-04T19:30:00.115Z"
   },
   {
    "duration": 330,
    "start_time": "2024-02-04T19:30:54.230Z"
   },
   {
    "duration": 165,
    "start_time": "2024-02-04T19:31:10.024Z"
   },
   {
    "duration": 145,
    "start_time": "2024-02-04T19:31:48.345Z"
   },
   {
    "duration": 17,
    "start_time": "2024-02-04T19:32:45.784Z"
   },
   {
    "duration": 16,
    "start_time": "2024-02-04T19:34:46.952Z"
   },
   {
    "duration": 160,
    "start_time": "2024-02-04T19:38:16.951Z"
   },
   {
    "duration": 250,
    "start_time": "2024-02-04T19:39:48.056Z"
   },
   {
    "duration": 142,
    "start_time": "2024-02-04T19:40:44.692Z"
   },
   {
    "duration": 147,
    "start_time": "2024-02-04T19:41:13.796Z"
   },
   {
    "duration": 463,
    "start_time": "2024-02-04T19:42:44.641Z"
   },
   {
    "duration": 12,
    "start_time": "2024-02-04T19:58:11.174Z"
   },
   {
    "duration": 8,
    "start_time": "2024-02-04T19:59:43.150Z"
   },
   {
    "duration": 26,
    "start_time": "2024-02-04T20:08:11.101Z"
   },
   {
    "duration": 80,
    "start_time": "2024-02-04T20:09:05.801Z"
   },
   {
    "duration": 89,
    "start_time": "2024-02-04T20:09:17.514Z"
   },
   {
    "duration": 13,
    "start_time": "2024-02-04T20:09:38.064Z"
   },
   {
    "duration": 14,
    "start_time": "2024-02-04T20:11:17.922Z"
   },
   {
    "duration": 13,
    "start_time": "2024-02-04T20:11:32.284Z"
   },
   {
    "duration": 15,
    "start_time": "2024-02-04T20:19:17.859Z"
   },
   {
    "duration": 22,
    "start_time": "2024-02-04T20:19:36.547Z"
   },
   {
    "duration": 19,
    "start_time": "2024-02-04T20:28:05.110Z"
   },
   {
    "duration": 23,
    "start_time": "2024-02-04T20:28:24.667Z"
   },
   {
    "duration": 19,
    "start_time": "2024-02-04T20:28:49.811Z"
   },
   {
    "duration": 19,
    "start_time": "2024-02-04T20:28:57.219Z"
   },
   {
    "duration": 19,
    "start_time": "2024-02-04T20:30:09.832Z"
   },
   {
    "duration": 544,
    "start_time": "2024-02-04T20:30:43.843Z"
   },
   {
    "duration": 346,
    "start_time": "2024-02-04T20:33:02.541Z"
   },
   {
    "duration": 178,
    "start_time": "2024-02-04T20:33:30.476Z"
   },
   {
    "duration": 1342,
    "start_time": "2024-02-04T20:34:03.528Z"
   },
   {
    "duration": 171,
    "start_time": "2024-02-04T20:34:14.186Z"
   },
   {
    "duration": 1327,
    "start_time": "2024-02-04T20:36:43.933Z"
   },
   {
    "duration": 168,
    "start_time": "2024-02-04T20:41:48.689Z"
   },
   {
    "duration": 39,
    "start_time": "2024-02-04T20:46:31.424Z"
   },
   {
    "duration": 570,
    "start_time": "2024-02-05T06:47:27.063Z"
   },
   {
    "duration": 33,
    "start_time": "2024-02-05T06:47:27.635Z"
   },
   {
    "duration": 2174,
    "start_time": "2024-02-05T06:47:27.670Z"
   },
   {
    "duration": 9,
    "start_time": "2024-02-05T06:47:29.845Z"
   },
   {
    "duration": 20,
    "start_time": "2024-02-05T06:47:29.856Z"
   },
   {
    "duration": 5,
    "start_time": "2024-02-05T06:47:29.877Z"
   },
   {
    "duration": 5,
    "start_time": "2024-02-05T06:47:29.883Z"
   },
   {
    "duration": 7,
    "start_time": "2024-02-05T06:47:29.889Z"
   },
   {
    "duration": 52,
    "start_time": "2024-02-05T06:47:29.897Z"
   },
   {
    "duration": 6,
    "start_time": "2024-02-05T06:47:29.951Z"
   },
   {
    "duration": 14,
    "start_time": "2024-02-05T06:47:29.958Z"
   },
   {
    "duration": 16,
    "start_time": "2024-02-05T06:47:29.973Z"
   },
   {
    "duration": 36,
    "start_time": "2024-02-05T06:47:29.990Z"
   },
   {
    "duration": 50,
    "start_time": "2024-02-05T06:47:30.028Z"
   },
   {
    "duration": 69,
    "start_time": "2024-02-05T06:47:30.079Z"
   },
   {
    "duration": 57,
    "start_time": "2024-02-05T06:47:30.149Z"
   },
   {
    "duration": 36,
    "start_time": "2024-02-05T06:47:30.208Z"
   },
   {
    "duration": 30,
    "start_time": "2024-02-05T06:47:30.246Z"
   },
   {
    "duration": 74,
    "start_time": "2024-02-05T06:47:30.278Z"
   },
   {
    "duration": 18,
    "start_time": "2024-02-05T06:47:30.353Z"
   },
   {
    "duration": 397,
    "start_time": "2024-02-05T06:47:30.373Z"
   },
   {
    "duration": 8,
    "start_time": "2024-02-05T06:47:30.771Z"
   },
   {
    "duration": 27,
    "start_time": "2024-02-05T06:47:30.786Z"
   },
   {
    "duration": 159,
    "start_time": "2024-02-05T06:47:30.814Z"
   },
   {
    "duration": 14,
    "start_time": "2024-02-05T06:47:30.974Z"
   },
   {
    "duration": 15,
    "start_time": "2024-02-05T06:47:30.989Z"
   },
   {
    "duration": 154,
    "start_time": "2024-02-05T06:47:31.006Z"
   },
   {
    "duration": 13,
    "start_time": "2024-02-05T06:47:31.163Z"
   },
   {
    "duration": 100,
    "start_time": "2024-02-05T06:47:31.178Z"
   },
   {
    "duration": 13,
    "start_time": "2024-02-05T06:47:31.280Z"
   },
   {
    "duration": 17,
    "start_time": "2024-02-05T06:47:31.294Z"
   },
   {
    "duration": 19,
    "start_time": "2024-02-05T06:47:31.313Z"
   },
   {
    "duration": 178,
    "start_time": "2024-02-05T06:47:31.333Z"
   },
   {
    "duration": 8,
    "start_time": "2024-02-05T06:47:31.512Z"
   },
   {
    "duration": 24,
    "start_time": "2024-02-05T06:47:31.521Z"
   },
   {
    "duration": 153,
    "start_time": "2024-02-05T06:47:31.546Z"
   },
   {
    "duration": 7,
    "start_time": "2024-02-05T06:47:31.701Z"
   },
   {
    "duration": 20,
    "start_time": "2024-02-05T06:47:31.709Z"
   },
   {
    "duration": 30,
    "start_time": "2024-02-05T06:47:31.730Z"
   },
   {
    "duration": 29,
    "start_time": "2024-02-05T06:47:31.762Z"
   },
   {
    "duration": 25,
    "start_time": "2024-02-05T06:47:31.792Z"
   },
   {
    "duration": 141,
    "start_time": "2024-02-05T06:47:31.819Z"
   },
   {
    "duration": 8,
    "start_time": "2024-02-05T06:47:31.962Z"
   },
   {
    "duration": 33,
    "start_time": "2024-02-05T06:47:31.972Z"
   },
   {
    "duration": 157,
    "start_time": "2024-02-05T06:47:32.006Z"
   },
   {
    "duration": 125,
    "start_time": "2024-02-05T06:47:32.164Z"
   },
   {
    "duration": 8,
    "start_time": "2024-02-05T06:47:32.290Z"
   },
   {
    "duration": 179,
    "start_time": "2024-02-05T06:47:32.299Z"
   },
   {
    "duration": 9,
    "start_time": "2024-02-05T06:47:32.480Z"
   },
   {
    "duration": 133,
    "start_time": "2024-02-05T06:47:32.491Z"
   },
   {
    "duration": 9,
    "start_time": "2024-02-05T06:47:32.625Z"
   },
   {
    "duration": 151,
    "start_time": "2024-02-05T06:47:32.636Z"
   },
   {
    "duration": 9,
    "start_time": "2024-02-05T06:47:32.789Z"
   },
   {
    "duration": 161,
    "start_time": "2024-02-05T06:47:32.799Z"
   },
   {
    "duration": 4,
    "start_time": "2024-02-05T06:47:32.962Z"
   },
   {
    "duration": 34,
    "start_time": "2024-02-05T06:47:32.968Z"
   },
   {
    "duration": 611,
    "start_time": "2024-02-05T06:47:33.004Z"
   },
   {
    "duration": 148,
    "start_time": "2024-02-05T06:47:33.616Z"
   },
   {
    "duration": 143,
    "start_time": "2024-02-05T06:47:33.766Z"
   },
   {
    "duration": 423,
    "start_time": "2024-02-05T06:47:33.911Z"
   },
   {
    "duration": 16,
    "start_time": "2024-02-05T06:47:34.336Z"
   },
   {
    "duration": 191,
    "start_time": "2024-02-05T06:47:34.354Z"
   },
   {
    "duration": 43,
    "start_time": "2024-02-05T06:47:34.547Z"
   },
   {
    "duration": 6,
    "start_time": "2024-02-05T06:55:26.112Z"
   },
   {
    "duration": 6,
    "start_time": "2024-02-05T06:55:44.014Z"
   },
   {
    "duration": 163,
    "start_time": "2024-02-05T07:07:51.399Z"
   },
   {
    "duration": 170,
    "start_time": "2024-02-05T07:08:00.956Z"
   },
   {
    "duration": 512,
    "start_time": "2024-02-05T07:09:11.341Z"
   },
   {
    "duration": 38,
    "start_time": "2024-02-05T07:09:11.855Z"
   },
   {
    "duration": 2217,
    "start_time": "2024-02-05T07:09:11.895Z"
   },
   {
    "duration": 10,
    "start_time": "2024-02-05T07:09:14.114Z"
   },
   {
    "duration": 20,
    "start_time": "2024-02-05T07:09:14.126Z"
   },
   {
    "duration": 6,
    "start_time": "2024-02-05T07:09:14.148Z"
   },
   {
    "duration": 15,
    "start_time": "2024-02-05T07:09:14.155Z"
   },
   {
    "duration": 16,
    "start_time": "2024-02-05T07:09:14.171Z"
   },
   {
    "duration": 98,
    "start_time": "2024-02-05T07:09:14.190Z"
   },
   {
    "duration": 5,
    "start_time": "2024-02-05T07:09:14.291Z"
   },
   {
    "duration": 13,
    "start_time": "2024-02-05T07:09:14.298Z"
   },
   {
    "duration": 5,
    "start_time": "2024-02-05T07:09:14.313Z"
   },
   {
    "duration": 8,
    "start_time": "2024-02-05T07:09:14.320Z"
   },
   {
    "duration": 7,
    "start_time": "2024-02-05T07:09:14.330Z"
   },
   {
    "duration": 15,
    "start_time": "2024-02-05T07:09:14.340Z"
   },
   {
    "duration": 31,
    "start_time": "2024-02-05T07:09:14.357Z"
   },
   {
    "duration": 16,
    "start_time": "2024-02-05T07:09:14.391Z"
   },
   {
    "duration": 42,
    "start_time": "2024-02-05T07:09:14.410Z"
   },
   {
    "duration": 45,
    "start_time": "2024-02-05T07:09:14.455Z"
   },
   {
    "duration": 10,
    "start_time": "2024-02-05T07:09:14.502Z"
   },
   {
    "duration": 74,
    "start_time": "2024-02-05T07:09:14.514Z"
   },
   {
    "duration": 9,
    "start_time": "2024-02-05T07:09:14.590Z"
   },
   {
    "duration": 399,
    "start_time": "2024-02-05T07:09:14.601Z"
   },
   {
    "duration": 13,
    "start_time": "2024-02-05T07:09:15.002Z"
   },
   {
    "duration": 40,
    "start_time": "2024-02-05T07:09:15.017Z"
   },
   {
    "duration": 189,
    "start_time": "2024-02-05T07:09:15.059Z"
   },
   {
    "duration": 10,
    "start_time": "2024-02-05T07:09:15.250Z"
   },
   {
    "duration": 24,
    "start_time": "2024-02-05T07:09:15.265Z"
   },
   {
    "duration": 166,
    "start_time": "2024-02-05T07:09:15.291Z"
   },
   {
    "duration": 15,
    "start_time": "2024-02-05T07:09:15.458Z"
   },
   {
    "duration": 37,
    "start_time": "2024-02-05T07:09:15.488Z"
   },
   {
    "duration": 7,
    "start_time": "2024-02-05T07:09:15.527Z"
   },
   {
    "duration": 19,
    "start_time": "2024-02-05T07:09:15.535Z"
   },
   {
    "duration": 32,
    "start_time": "2024-02-05T07:09:15.555Z"
   },
   {
    "duration": 183,
    "start_time": "2024-02-05T07:09:15.588Z"
   },
   {
    "duration": 17,
    "start_time": "2024-02-05T07:09:15.773Z"
   },
   {
    "duration": 7,
    "start_time": "2024-02-05T07:09:15.792Z"
   },
   {
    "duration": 234,
    "start_time": "2024-02-05T07:09:15.800Z"
   },
   {
    "duration": 11,
    "start_time": "2024-02-05T07:09:16.036Z"
   },
   {
    "duration": 11,
    "start_time": "2024-02-05T07:09:16.049Z"
   },
   {
    "duration": 26,
    "start_time": "2024-02-05T07:09:16.062Z"
   },
   {
    "duration": 4,
    "start_time": "2024-02-05T07:09:16.090Z"
   },
   {
    "duration": 11,
    "start_time": "2024-02-05T07:09:16.095Z"
   },
   {
    "duration": 181,
    "start_time": "2024-02-05T07:09:16.108Z"
   },
   {
    "duration": 9,
    "start_time": "2024-02-05T07:09:16.291Z"
   },
   {
    "duration": 11,
    "start_time": "2024-02-05T07:09:16.301Z"
   },
   {
    "duration": 188,
    "start_time": "2024-02-05T07:09:16.314Z"
   },
   {
    "duration": 177,
    "start_time": "2024-02-05T07:09:16.504Z"
   },
   {
    "duration": 12,
    "start_time": "2024-02-05T07:09:16.682Z"
   },
   {
    "duration": 167,
    "start_time": "2024-02-05T07:09:16.696Z"
   },
   {
    "duration": 9,
    "start_time": "2024-02-05T07:09:16.864Z"
   },
   {
    "duration": 157,
    "start_time": "2024-02-05T07:09:16.874Z"
   },
   {
    "duration": 63,
    "start_time": "2024-02-05T07:09:17.033Z"
   },
   {
    "duration": 225,
    "start_time": "2024-02-05T07:09:17.098Z"
   },
   {
    "duration": 8,
    "start_time": "2024-02-05T07:09:17.324Z"
   },
   {
    "duration": 200,
    "start_time": "2024-02-05T07:09:17.334Z"
   },
   {
    "duration": 5,
    "start_time": "2024-02-05T07:09:17.535Z"
   },
   {
    "duration": 23,
    "start_time": "2024-02-05T07:09:17.542Z"
   },
   {
    "duration": 614,
    "start_time": "2024-02-05T07:09:17.567Z"
   },
   {
    "duration": 172,
    "start_time": "2024-02-05T07:09:18.186Z"
   },
   {
    "duration": 244,
    "start_time": "2024-02-05T07:09:18.360Z"
   },
   {
    "duration": 448,
    "start_time": "2024-02-05T07:09:18.605Z"
   },
   {
    "duration": 14,
    "start_time": "2024-02-05T07:09:19.055Z"
   },
   {
    "duration": 186,
    "start_time": "2024-02-05T07:09:19.070Z"
   },
   {
    "duration": 47,
    "start_time": "2024-02-05T07:09:19.257Z"
   },
   {
    "duration": 11,
    "start_time": "2024-02-05T07:09:47.979Z"
   },
   {
    "duration": 512,
    "start_time": "2024-02-05T07:10:06.724Z"
   },
   {
    "duration": 40,
    "start_time": "2024-02-05T07:10:07.238Z"
   },
   {
    "duration": 2268,
    "start_time": "2024-02-05T07:10:07.280Z"
   },
   {
    "duration": 13,
    "start_time": "2024-02-05T07:10:09.550Z"
   },
   {
    "duration": 23,
    "start_time": "2024-02-05T07:10:09.565Z"
   },
   {
    "duration": 14,
    "start_time": "2024-02-05T07:10:09.589Z"
   },
   {
    "duration": 8,
    "start_time": "2024-02-05T07:10:09.605Z"
   },
   {
    "duration": 10,
    "start_time": "2024-02-05T07:10:09.614Z"
   },
   {
    "duration": 68,
    "start_time": "2024-02-05T07:10:09.625Z"
   },
   {
    "duration": 6,
    "start_time": "2024-02-05T07:10:09.696Z"
   },
   {
    "duration": 12,
    "start_time": "2024-02-05T07:10:09.704Z"
   },
   {
    "duration": 6,
    "start_time": "2024-02-05T07:10:09.718Z"
   },
   {
    "duration": 8,
    "start_time": "2024-02-05T07:10:09.726Z"
   },
   {
    "duration": 5,
    "start_time": "2024-02-05T07:10:09.736Z"
   },
   {
    "duration": 10,
    "start_time": "2024-02-05T07:10:09.743Z"
   },
   {
    "duration": 41,
    "start_time": "2024-02-05T07:10:09.754Z"
   },
   {
    "duration": 11,
    "start_time": "2024-02-05T07:10:09.797Z"
   },
   {
    "duration": 15,
    "start_time": "2024-02-05T07:10:09.810Z"
   },
   {
    "duration": 25,
    "start_time": "2024-02-05T07:10:09.827Z"
   },
   {
    "duration": 39,
    "start_time": "2024-02-05T07:10:09.853Z"
   },
   {
    "duration": 49,
    "start_time": "2024-02-05T07:10:09.894Z"
   },
   {
    "duration": 8,
    "start_time": "2024-02-05T07:10:09.944Z"
   },
   {
    "duration": 407,
    "start_time": "2024-02-05T07:10:09.953Z"
   },
   {
    "duration": 9,
    "start_time": "2024-02-05T07:10:10.361Z"
   },
   {
    "duration": 22,
    "start_time": "2024-02-05T07:10:10.371Z"
   },
   {
    "duration": 9,
    "start_time": "2024-02-05T07:10:10.394Z"
   },
   {
    "duration": 193,
    "start_time": "2024-02-05T07:10:10.405Z"
   },
   {
    "duration": 10,
    "start_time": "2024-02-05T07:10:10.603Z"
   },
   {
    "duration": 6,
    "start_time": "2024-02-05T07:10:10.615Z"
   },
   {
    "duration": 166,
    "start_time": "2024-02-05T07:10:10.623Z"
   },
   {
    "duration": 15,
    "start_time": "2024-02-05T07:10:10.790Z"
   },
   {
    "duration": 41,
    "start_time": "2024-02-05T07:10:10.806Z"
   },
   {
    "duration": 7,
    "start_time": "2024-02-05T07:10:10.848Z"
   },
   {
    "duration": 15,
    "start_time": "2024-02-05T07:10:10.856Z"
   },
   {
    "duration": 7,
    "start_time": "2024-02-05T07:10:10.888Z"
   },
   {
    "duration": 191,
    "start_time": "2024-02-05T07:10:10.896Z"
   },
   {
    "duration": 8,
    "start_time": "2024-02-05T07:10:11.089Z"
   },
   {
    "duration": 24,
    "start_time": "2024-02-05T07:10:11.098Z"
   },
   {
    "duration": 237,
    "start_time": "2024-02-05T07:10:11.123Z"
   },
   {
    "duration": 7,
    "start_time": "2024-02-05T07:10:11.362Z"
   },
   {
    "duration": 17,
    "start_time": "2024-02-05T07:10:11.371Z"
   },
   {
    "duration": 7,
    "start_time": "2024-02-05T07:10:11.389Z"
   },
   {
    "duration": 6,
    "start_time": "2024-02-05T07:10:11.397Z"
   },
   {
    "duration": 10,
    "start_time": "2024-02-05T07:10:11.404Z"
   },
   {
    "duration": 178,
    "start_time": "2024-02-05T07:10:11.415Z"
   },
   {
    "duration": 8,
    "start_time": "2024-02-05T07:10:11.595Z"
   },
   {
    "duration": 10,
    "start_time": "2024-02-05T07:10:11.604Z"
   },
   {
    "duration": 172,
    "start_time": "2024-02-05T07:10:11.615Z"
   },
   {
    "duration": 137,
    "start_time": "2024-02-05T07:10:11.788Z"
   },
   {
    "duration": 7,
    "start_time": "2024-02-05T07:10:11.927Z"
   },
   {
    "duration": 176,
    "start_time": "2024-02-05T07:10:11.936Z"
   },
   {
    "duration": 9,
    "start_time": "2024-02-05T07:10:12.113Z"
   },
   {
    "duration": 150,
    "start_time": "2024-02-05T07:10:12.123Z"
   },
   {
    "duration": 20,
    "start_time": "2024-02-05T07:10:12.274Z"
   },
   {
    "duration": 154,
    "start_time": "2024-02-05T07:10:12.296Z"
   },
   {
    "duration": 8,
    "start_time": "2024-02-05T07:10:12.452Z"
   },
   {
    "duration": 189,
    "start_time": "2024-02-05T07:10:12.461Z"
   },
   {
    "duration": 4,
    "start_time": "2024-02-05T07:10:12.651Z"
   },
   {
    "duration": 39,
    "start_time": "2024-02-05T07:10:12.656Z"
   },
   {
    "duration": 570,
    "start_time": "2024-02-05T07:10:12.697Z"
   },
   {
    "duration": 161,
    "start_time": "2024-02-05T07:10:13.269Z"
   },
   {
    "duration": 234,
    "start_time": "2024-02-05T07:10:13.431Z"
   },
   {
    "duration": 442,
    "start_time": "2024-02-05T07:10:13.667Z"
   },
   {
    "duration": 14,
    "start_time": "2024-02-05T07:10:14.110Z"
   },
   {
    "duration": 175,
    "start_time": "2024-02-05T07:10:14.125Z"
   },
   {
    "duration": 37,
    "start_time": "2024-02-05T07:10:14.301Z"
   },
   {
    "duration": 206,
    "start_time": "2024-02-05T07:11:54.348Z"
   },
   {
    "duration": 154,
    "start_time": "2024-02-05T07:11:59.855Z"
   },
   {
    "duration": 167,
    "start_time": "2024-02-05T07:12:20.461Z"
   },
   {
    "duration": 10,
    "start_time": "2024-02-05T07:12:30.436Z"
   },
   {
    "duration": 527,
    "start_time": "2024-02-05T07:12:36.508Z"
   },
   {
    "duration": 59,
    "start_time": "2024-02-05T07:12:37.037Z"
   },
   {
    "duration": 2279,
    "start_time": "2024-02-05T07:12:37.097Z"
   },
   {
    "duration": 10,
    "start_time": "2024-02-05T07:12:39.378Z"
   },
   {
    "duration": 14,
    "start_time": "2024-02-05T07:12:39.390Z"
   },
   {
    "duration": 7,
    "start_time": "2024-02-05T07:12:39.405Z"
   },
   {
    "duration": 18,
    "start_time": "2024-02-05T07:12:39.414Z"
   },
   {
    "duration": 10,
    "start_time": "2024-02-05T07:12:39.433Z"
   },
   {
    "duration": 84,
    "start_time": "2024-02-05T07:12:39.445Z"
   },
   {
    "duration": 7,
    "start_time": "2024-02-05T07:12:39.532Z"
   },
   {
    "duration": 20,
    "start_time": "2024-02-05T07:12:39.540Z"
   },
   {
    "duration": 15,
    "start_time": "2024-02-05T07:12:39.562Z"
   },
   {
    "duration": 10,
    "start_time": "2024-02-05T07:12:39.579Z"
   },
   {
    "duration": 6,
    "start_time": "2024-02-05T07:12:39.590Z"
   },
   {
    "duration": 11,
    "start_time": "2024-02-05T07:12:39.597Z"
   },
   {
    "duration": 10,
    "start_time": "2024-02-05T07:12:39.610Z"
   },
   {
    "duration": 10,
    "start_time": "2024-02-05T07:12:39.622Z"
   },
   {
    "duration": 13,
    "start_time": "2024-02-05T07:12:39.634Z"
   },
   {
    "duration": 25,
    "start_time": "2024-02-05T07:12:39.686Z"
   },
   {
    "duration": 13,
    "start_time": "2024-02-05T07:12:39.712Z"
   },
   {
    "duration": 65,
    "start_time": "2024-02-05T07:12:39.727Z"
   },
   {
    "duration": 7,
    "start_time": "2024-02-05T07:12:39.794Z"
   },
   {
    "duration": 405,
    "start_time": "2024-02-05T07:12:39.803Z"
   },
   {
    "duration": 9,
    "start_time": "2024-02-05T07:12:40.210Z"
   },
   {
    "duration": 190,
    "start_time": "2024-02-05T07:12:40.221Z"
   },
   {
    "duration": 10,
    "start_time": "2024-02-05T07:12:40.413Z"
   },
   {
    "duration": 184,
    "start_time": "2024-02-05T07:12:40.424Z"
   },
   {
    "duration": 10,
    "start_time": "2024-02-05T07:12:40.612Z"
   },
   {
    "duration": 7,
    "start_time": "2024-02-05T07:12:40.623Z"
   },
   {
    "duration": 174,
    "start_time": "2024-02-05T07:12:40.631Z"
   },
   {
    "duration": 15,
    "start_time": "2024-02-05T07:12:40.807Z"
   },
   {
    "duration": 37,
    "start_time": "2024-02-05T07:12:40.823Z"
   },
   {
    "duration": 28,
    "start_time": "2024-02-05T07:12:40.861Z"
   },
   {
    "duration": 8,
    "start_time": "2024-02-05T07:12:40.891Z"
   },
   {
    "duration": 7,
    "start_time": "2024-02-05T07:12:40.901Z"
   },
   {
    "duration": 264,
    "start_time": "2024-02-05T07:12:40.909Z"
   },
   {
    "duration": 14,
    "start_time": "2024-02-05T07:12:41.175Z"
   },
   {
    "duration": 13,
    "start_time": "2024-02-05T07:12:41.190Z"
   },
   {
    "duration": 185,
    "start_time": "2024-02-05T07:12:41.204Z"
   },
   {
    "duration": 8,
    "start_time": "2024-02-05T07:12:41.391Z"
   },
   {
    "duration": 5,
    "start_time": "2024-02-05T07:12:41.401Z"
   },
   {
    "duration": 6,
    "start_time": "2024-02-05T07:12:41.408Z"
   },
   {
    "duration": 9,
    "start_time": "2024-02-05T07:12:41.415Z"
   },
   {
    "duration": 10,
    "start_time": "2024-02-05T07:12:41.425Z"
   },
   {
    "duration": 185,
    "start_time": "2024-02-05T07:12:41.437Z"
   },
   {
    "duration": 9,
    "start_time": "2024-02-05T07:12:41.624Z"
   },
   {
    "duration": 7,
    "start_time": "2024-02-05T07:12:41.634Z"
   },
   {
    "duration": 182,
    "start_time": "2024-02-05T07:12:41.643Z"
   },
   {
    "duration": 148,
    "start_time": "2024-02-05T07:12:41.827Z"
   },
   {
    "duration": 13,
    "start_time": "2024-02-05T07:12:41.977Z"
   },
   {
    "duration": 180,
    "start_time": "2024-02-05T07:12:41.992Z"
   },
   {
    "duration": 15,
    "start_time": "2024-02-05T07:12:42.174Z"
   },
   {
    "duration": 154,
    "start_time": "2024-02-05T07:12:42.190Z"
   },
   {
    "duration": 9,
    "start_time": "2024-02-05T07:12:42.347Z"
   },
   {
    "duration": 161,
    "start_time": "2024-02-05T07:12:42.358Z"
   },
   {
    "duration": 9,
    "start_time": "2024-02-05T07:12:42.522Z"
   },
   {
    "duration": 200,
    "start_time": "2024-02-05T07:12:42.533Z"
   },
   {
    "duration": 4,
    "start_time": "2024-02-05T07:12:42.735Z"
   },
   {
    "duration": 23,
    "start_time": "2024-02-05T07:12:42.740Z"
   },
   {
    "duration": 703,
    "start_time": "2024-02-05T07:12:42.764Z"
   },
   {
    "duration": 171,
    "start_time": "2024-02-05T07:12:43.468Z"
   },
   {
    "duration": 161,
    "start_time": "2024-02-05T07:12:43.641Z"
   },
   {
    "duration": 467,
    "start_time": "2024-02-05T07:12:43.803Z"
   },
   {
    "duration": 20,
    "start_time": "2024-02-05T07:12:44.272Z"
   },
   {
    "duration": 228,
    "start_time": "2024-02-05T07:12:44.294Z"
   },
   {
    "duration": 39,
    "start_time": "2024-02-05T07:12:44.524Z"
   },
   {
    "duration": 158,
    "start_time": "2024-02-05T07:12:59.935Z"
   },
   {
    "duration": 38,
    "start_time": "2024-02-05T07:17:45.400Z"
   },
   {
    "duration": 5,
    "start_time": "2024-02-05T07:19:18.328Z"
   },
   {
    "duration": 554,
    "start_time": "2024-02-05T07:19:30.371Z"
   },
   {
    "duration": 35,
    "start_time": "2024-02-05T07:19:30.927Z"
   },
   {
    "duration": 2197,
    "start_time": "2024-02-05T07:19:30.963Z"
   },
   {
    "duration": 10,
    "start_time": "2024-02-05T07:19:33.161Z"
   },
   {
    "duration": 13,
    "start_time": "2024-02-05T07:19:33.172Z"
   },
   {
    "duration": 6,
    "start_time": "2024-02-05T07:19:33.187Z"
   },
   {
    "duration": 5,
    "start_time": "2024-02-05T07:19:33.194Z"
   },
   {
    "duration": 18,
    "start_time": "2024-02-05T07:19:33.200Z"
   },
   {
    "duration": 69,
    "start_time": "2024-02-05T07:19:33.219Z"
   },
   {
    "duration": 6,
    "start_time": "2024-02-05T07:19:33.290Z"
   },
   {
    "duration": 7,
    "start_time": "2024-02-05T07:19:33.298Z"
   },
   {
    "duration": 5,
    "start_time": "2024-02-05T07:19:33.306Z"
   },
   {
    "duration": 8,
    "start_time": "2024-02-05T07:19:33.312Z"
   },
   {
    "duration": 5,
    "start_time": "2024-02-05T07:19:33.321Z"
   },
   {
    "duration": 10,
    "start_time": "2024-02-05T07:19:33.328Z"
   },
   {
    "duration": 49,
    "start_time": "2024-02-05T07:19:33.340Z"
   },
   {
    "duration": 9,
    "start_time": "2024-02-05T07:19:33.391Z"
   },
   {
    "duration": 14,
    "start_time": "2024-02-05T07:19:33.401Z"
   },
   {
    "duration": 24,
    "start_time": "2024-02-05T07:19:33.416Z"
   },
   {
    "duration": 7,
    "start_time": "2024-02-05T07:19:33.442Z"
   },
   {
    "duration": 73,
    "start_time": "2024-02-05T07:19:33.450Z"
   },
   {
    "duration": 8,
    "start_time": "2024-02-05T07:19:33.524Z"
   },
   {
    "duration": 390,
    "start_time": "2024-02-05T07:19:33.534Z"
   },
   {
    "duration": 10,
    "start_time": "2024-02-05T07:19:33.926Z"
   },
   {
    "duration": 169,
    "start_time": "2024-02-05T07:19:33.937Z"
   },
   {
    "duration": 10,
    "start_time": "2024-02-05T07:19:34.108Z"
   },
   {
    "duration": 10,
    "start_time": "2024-02-05T07:19:34.119Z"
   },
   {
    "duration": 6,
    "start_time": "2024-02-05T07:19:34.134Z"
   },
   {
    "duration": 189,
    "start_time": "2024-02-05T07:19:34.142Z"
   },
   {
    "duration": 16,
    "start_time": "2024-02-05T07:19:34.333Z"
   },
   {
    "duration": 58,
    "start_time": "2024-02-05T07:19:34.350Z"
   },
   {
    "duration": 8,
    "start_time": "2024-02-05T07:19:34.412Z"
   },
   {
    "duration": 57,
    "start_time": "2024-02-05T07:19:34.422Z"
   },
   {
    "duration": 4,
    "start_time": "2024-02-05T07:19:34.488Z"
   },
   {
    "duration": 9,
    "start_time": "2024-02-05T07:19:34.494Z"
   },
   {
    "duration": 6,
    "start_time": "2024-02-05T07:19:34.505Z"
   },
   {
    "duration": 186,
    "start_time": "2024-02-05T07:19:34.513Z"
   },
   {
    "duration": 8,
    "start_time": "2024-02-05T07:19:34.700Z"
   },
   {
    "duration": 5,
    "start_time": "2024-02-05T07:19:34.709Z"
   },
   {
    "duration": 229,
    "start_time": "2024-02-05T07:19:34.715Z"
   },
   {
    "duration": 8,
    "start_time": "2024-02-05T07:19:34.946Z"
   },
   {
    "duration": 13,
    "start_time": "2024-02-05T07:19:34.955Z"
   },
   {
    "duration": 19,
    "start_time": "2024-02-05T07:19:34.969Z"
   },
   {
    "duration": 4,
    "start_time": "2024-02-05T07:19:34.990Z"
   },
   {
    "duration": 6,
    "start_time": "2024-02-05T07:19:34.995Z"
   },
   {
    "duration": 137,
    "start_time": "2024-02-05T07:19:35.003Z"
   },
   {
    "duration": 8,
    "start_time": "2024-02-05T07:19:35.141Z"
   },
   {
    "duration": 9,
    "start_time": "2024-02-05T07:19:35.150Z"
   },
   {
    "duration": 164,
    "start_time": "2024-02-05T07:19:35.161Z"
   },
   {
    "duration": 121,
    "start_time": "2024-02-05T07:19:35.326Z"
   },
   {
    "duration": 7,
    "start_time": "2024-02-05T07:19:35.448Z"
   },
   {
    "duration": 162,
    "start_time": "2024-02-05T07:19:35.457Z"
   },
   {
    "duration": 7,
    "start_time": "2024-02-05T07:19:35.621Z"
   },
   {
    "duration": 138,
    "start_time": "2024-02-05T07:19:35.630Z"
   },
   {
    "duration": 18,
    "start_time": "2024-02-05T07:19:35.770Z"
   },
   {
    "duration": 127,
    "start_time": "2024-02-05T07:19:35.790Z"
   },
   {
    "duration": 7,
    "start_time": "2024-02-05T07:19:35.919Z"
   },
   {
    "duration": 144,
    "start_time": "2024-02-05T07:19:35.928Z"
   },
   {
    "duration": 14,
    "start_time": "2024-02-05T07:19:36.074Z"
   },
   {
    "duration": 15,
    "start_time": "2024-02-05T07:19:36.089Z"
   },
   {
    "duration": 460,
    "start_time": "2024-02-05T07:19:36.106Z"
   },
   {
    "duration": 142,
    "start_time": "2024-02-05T07:19:36.567Z"
   },
   {
    "duration": 238,
    "start_time": "2024-02-05T07:19:36.710Z"
   },
   {
    "duration": 429,
    "start_time": "2024-02-05T07:19:36.950Z"
   },
   {
    "duration": 11,
    "start_time": "2024-02-05T07:19:37.387Z"
   },
   {
    "duration": 143,
    "start_time": "2024-02-05T07:19:37.400Z"
   },
   {
    "duration": 14,
    "start_time": "2024-02-05T07:19:37.544Z"
   },
   {
    "duration": 47,
    "start_time": "2024-02-05T07:20:46.761Z"
   },
   {
    "duration": 510,
    "start_time": "2024-02-05T07:20:53.708Z"
   },
   {
    "duration": 37,
    "start_time": "2024-02-05T07:20:54.220Z"
   },
   {
    "duration": 2285,
    "start_time": "2024-02-05T07:20:54.259Z"
   },
   {
    "duration": 10,
    "start_time": "2024-02-05T07:20:56.546Z"
   },
   {
    "duration": 11,
    "start_time": "2024-02-05T07:20:56.558Z"
   },
   {
    "duration": 19,
    "start_time": "2024-02-05T07:20:56.570Z"
   },
   {
    "duration": 5,
    "start_time": "2024-02-05T07:20:56.590Z"
   },
   {
    "duration": 11,
    "start_time": "2024-02-05T07:20:56.596Z"
   },
   {
    "duration": 55,
    "start_time": "2024-02-05T07:20:56.608Z"
   },
   {
    "duration": 23,
    "start_time": "2024-02-05T07:20:56.665Z"
   },
   {
    "duration": 5,
    "start_time": "2024-02-05T07:20:56.689Z"
   },
   {
    "duration": 4,
    "start_time": "2024-02-05T07:20:56.696Z"
   },
   {
    "duration": 11,
    "start_time": "2024-02-05T07:20:56.702Z"
   },
   {
    "duration": 5,
    "start_time": "2024-02-05T07:20:56.714Z"
   },
   {
    "duration": 20,
    "start_time": "2024-02-05T07:20:56.721Z"
   },
   {
    "duration": 11,
    "start_time": "2024-02-05T07:20:56.742Z"
   },
   {
    "duration": 35,
    "start_time": "2024-02-05T07:20:56.754Z"
   },
   {
    "duration": 14,
    "start_time": "2024-02-05T07:20:56.790Z"
   },
   {
    "duration": 24,
    "start_time": "2024-02-05T07:20:56.806Z"
   },
   {
    "duration": 7,
    "start_time": "2024-02-05T07:20:56.832Z"
   },
   {
    "duration": 72,
    "start_time": "2024-02-05T07:20:56.840Z"
   },
   {
    "duration": 7,
    "start_time": "2024-02-05T07:20:56.914Z"
   },
   {
    "duration": 384,
    "start_time": "2024-02-05T07:20:56.922Z"
   },
   {
    "duration": 8,
    "start_time": "2024-02-05T07:20:57.308Z"
   },
   {
    "duration": 165,
    "start_time": "2024-02-05T07:20:57.318Z"
   },
   {
    "duration": 9,
    "start_time": "2024-02-05T07:20:57.487Z"
   },
   {
    "duration": 10,
    "start_time": "2024-02-05T07:20:57.497Z"
   },
   {
    "duration": 5,
    "start_time": "2024-02-05T07:20:57.511Z"
   },
   {
    "duration": 172,
    "start_time": "2024-02-05T07:20:57.518Z"
   },
   {
    "duration": 15,
    "start_time": "2024-02-05T07:20:57.691Z"
   },
   {
    "duration": 36,
    "start_time": "2024-02-05T07:20:57.707Z"
   },
   {
    "duration": 8,
    "start_time": "2024-02-05T07:20:57.745Z"
   },
   {
    "duration": 80,
    "start_time": "2024-02-05T07:20:57.755Z"
   },
   {
    "duration": 6,
    "start_time": "2024-02-05T07:20:57.837Z"
   },
   {
    "duration": 9,
    "start_time": "2024-02-05T07:20:57.845Z"
   },
   {
    "duration": 7,
    "start_time": "2024-02-05T07:20:57.855Z"
   },
   {
    "duration": 209,
    "start_time": "2024-02-05T07:20:57.864Z"
   },
   {
    "duration": 16,
    "start_time": "2024-02-05T07:20:58.075Z"
   },
   {
    "duration": 5,
    "start_time": "2024-02-05T07:20:58.093Z"
   },
   {
    "duration": 231,
    "start_time": "2024-02-05T07:20:58.099Z"
   },
   {
    "duration": 8,
    "start_time": "2024-02-05T07:20:58.332Z"
   },
   {
    "duration": 15,
    "start_time": "2024-02-05T07:20:58.341Z"
   },
   {
    "duration": 7,
    "start_time": "2024-02-05T07:20:58.358Z"
   },
   {
    "duration": 4,
    "start_time": "2024-02-05T07:20:58.366Z"
   },
   {
    "duration": 4,
    "start_time": "2024-02-05T07:20:58.387Z"
   },
   {
    "duration": 174,
    "start_time": "2024-02-05T07:20:58.393Z"
   },
   {
    "duration": 8,
    "start_time": "2024-02-05T07:20:58.569Z"
   },
   {
    "duration": 11,
    "start_time": "2024-02-05T07:20:58.578Z"
   },
   {
    "duration": 149,
    "start_time": "2024-02-05T07:20:58.590Z"
   },
   {
    "duration": 122,
    "start_time": "2024-02-05T07:20:58.741Z"
   },
   {
    "duration": 8,
    "start_time": "2024-02-05T07:20:58.865Z"
   },
   {
    "duration": 174,
    "start_time": "2024-02-05T07:20:58.875Z"
   },
   {
    "duration": 8,
    "start_time": "2024-02-05T07:20:59.050Z"
   },
   {
    "duration": 163,
    "start_time": "2024-02-05T07:20:59.060Z"
   },
   {
    "duration": 8,
    "start_time": "2024-02-05T07:20:59.225Z"
   },
   {
    "duration": 160,
    "start_time": "2024-02-05T07:20:59.235Z"
   },
   {
    "duration": 8,
    "start_time": "2024-02-05T07:20:59.396Z"
   },
   {
    "duration": 152,
    "start_time": "2024-02-05T07:20:59.405Z"
   },
   {
    "duration": 4,
    "start_time": "2024-02-05T07:20:59.559Z"
   },
   {
    "duration": 30,
    "start_time": "2024-02-05T07:20:59.564Z"
   },
   {
    "duration": 439,
    "start_time": "2024-02-05T07:20:59.595Z"
   },
   {
    "duration": 157,
    "start_time": "2024-02-05T07:21:00.035Z"
   },
   {
    "duration": 238,
    "start_time": "2024-02-05T07:21:00.193Z"
   },
   {
    "duration": 448,
    "start_time": "2024-02-05T07:21:00.433Z"
   },
   {
    "duration": 12,
    "start_time": "2024-02-05T07:21:00.887Z"
   },
   {
    "duration": 158,
    "start_time": "2024-02-05T07:21:00.901Z"
   },
   {
    "duration": 14,
    "start_time": "2024-02-05T07:21:01.061Z"
   },
   {
    "duration": 4,
    "start_time": "2024-02-05T07:21:44.063Z"
   },
   {
    "duration": 8,
    "start_time": "2024-02-05T07:21:44.985Z"
   },
   {
    "duration": 509,
    "start_time": "2024-02-05T07:21:51.119Z"
   },
   {
    "duration": 37,
    "start_time": "2024-02-05T07:21:51.629Z"
   },
   {
    "duration": 2285,
    "start_time": "2024-02-05T07:21:51.667Z"
   },
   {
    "duration": 12,
    "start_time": "2024-02-05T07:21:53.954Z"
   },
   {
    "duration": 13,
    "start_time": "2024-02-05T07:21:53.967Z"
   },
   {
    "duration": 9,
    "start_time": "2024-02-05T07:21:53.982Z"
   },
   {
    "duration": 6,
    "start_time": "2024-02-05T07:21:53.993Z"
   },
   {
    "duration": 11,
    "start_time": "2024-02-05T07:21:54.000Z"
   },
   {
    "duration": 75,
    "start_time": "2024-02-05T07:21:54.012Z"
   },
   {
    "duration": 7,
    "start_time": "2024-02-05T07:21:54.091Z"
   },
   {
    "duration": 6,
    "start_time": "2024-02-05T07:21:54.099Z"
   },
   {
    "duration": 5,
    "start_time": "2024-02-05T07:21:54.107Z"
   },
   {
    "duration": 8,
    "start_time": "2024-02-05T07:21:54.114Z"
   },
   {
    "duration": 4,
    "start_time": "2024-02-05T07:21:54.123Z"
   },
   {
    "duration": 10,
    "start_time": "2024-02-05T07:21:54.129Z"
   },
   {
    "duration": 56,
    "start_time": "2024-02-05T07:21:54.140Z"
   },
   {
    "duration": 9,
    "start_time": "2024-02-05T07:21:54.198Z"
   },
   {
    "duration": 13,
    "start_time": "2024-02-05T07:21:54.209Z"
   },
   {
    "duration": 23,
    "start_time": "2024-02-05T07:21:54.224Z"
   },
   {
    "duration": 8,
    "start_time": "2024-02-05T07:21:54.249Z"
   },
   {
    "duration": 51,
    "start_time": "2024-02-05T07:21:54.288Z"
   },
   {
    "duration": 10,
    "start_time": "2024-02-05T07:21:54.341Z"
   },
   {
    "duration": 418,
    "start_time": "2024-02-05T07:21:54.352Z"
   },
   {
    "duration": 15,
    "start_time": "2024-02-05T07:21:54.772Z"
   },
   {
    "duration": 160,
    "start_time": "2024-02-05T07:21:54.789Z"
   },
   {
    "duration": 9,
    "start_time": "2024-02-05T07:21:54.951Z"
   },
   {
    "duration": 26,
    "start_time": "2024-02-05T07:21:54.962Z"
   },
   {
    "duration": 6,
    "start_time": "2024-02-05T07:21:54.992Z"
   },
   {
    "duration": 162,
    "start_time": "2024-02-05T07:21:54.999Z"
   },
   {
    "duration": 14,
    "start_time": "2024-02-05T07:21:55.163Z"
   },
   {
    "duration": 38,
    "start_time": "2024-02-05T07:21:55.188Z"
   },
   {
    "duration": 8,
    "start_time": "2024-02-05T07:21:55.227Z"
   },
   {
    "duration": 59,
    "start_time": "2024-02-05T07:21:55.236Z"
   },
   {
    "duration": 6,
    "start_time": "2024-02-05T07:21:55.297Z"
   },
   {
    "duration": 8,
    "start_time": "2024-02-05T07:21:55.304Z"
   },
   {
    "duration": 7,
    "start_time": "2024-02-05T07:21:55.314Z"
   },
   {
    "duration": 190,
    "start_time": "2024-02-05T07:21:55.323Z"
   },
   {
    "duration": 9,
    "start_time": "2024-02-05T07:21:55.515Z"
   },
   {
    "duration": 7,
    "start_time": "2024-02-05T07:21:55.526Z"
   },
   {
    "duration": 242,
    "start_time": "2024-02-05T07:21:55.534Z"
   },
   {
    "duration": 17,
    "start_time": "2024-02-05T07:21:55.777Z"
   },
   {
    "duration": 13,
    "start_time": "2024-02-05T07:21:55.795Z"
   },
   {
    "duration": 10,
    "start_time": "2024-02-05T07:21:55.809Z"
   },
   {
    "duration": 19,
    "start_time": "2024-02-05T07:21:55.821Z"
   },
   {
    "duration": 10,
    "start_time": "2024-02-05T07:21:55.842Z"
   },
   {
    "duration": 148,
    "start_time": "2024-02-05T07:21:55.854Z"
   },
   {
    "duration": 8,
    "start_time": "2024-02-05T07:21:56.004Z"
   },
   {
    "duration": 42,
    "start_time": "2024-02-05T07:21:56.014Z"
   },
   {
    "duration": 157,
    "start_time": "2024-02-05T07:21:56.058Z"
   },
   {
    "duration": 134,
    "start_time": "2024-02-05T07:21:56.216Z"
   },
   {
    "duration": 9,
    "start_time": "2024-02-05T07:21:56.352Z"
   },
   {
    "duration": 181,
    "start_time": "2024-02-05T07:21:56.362Z"
   },
   {
    "duration": 9,
    "start_time": "2024-02-05T07:21:56.545Z"
   },
   {
    "duration": 158,
    "start_time": "2024-02-05T07:21:56.555Z"
   },
   {
    "duration": 9,
    "start_time": "2024-02-05T07:21:56.714Z"
   },
   {
    "duration": 146,
    "start_time": "2024-02-05T07:21:56.724Z"
   },
   {
    "duration": 18,
    "start_time": "2024-02-05T07:21:56.871Z"
   },
   {
    "duration": 179,
    "start_time": "2024-02-05T07:21:56.890Z"
   },
   {
    "duration": 5,
    "start_time": "2024-02-05T07:21:57.071Z"
   },
   {
    "duration": 30,
    "start_time": "2024-02-05T07:21:57.077Z"
   },
   {
    "duration": 574,
    "start_time": "2024-02-05T07:21:57.108Z"
   },
   {
    "duration": 156,
    "start_time": "2024-02-05T07:21:57.683Z"
   },
   {
    "duration": 232,
    "start_time": "2024-02-05T07:21:57.841Z"
   },
   {
    "duration": 430,
    "start_time": "2024-02-05T07:21:58.075Z"
   },
   {
    "duration": 13,
    "start_time": "2024-02-05T07:21:58.507Z"
   },
   {
    "duration": 177,
    "start_time": "2024-02-05T07:21:58.521Z"
   },
   {
    "duration": 39,
    "start_time": "2024-02-05T07:21:58.700Z"
   },
   {
    "duration": 11,
    "start_time": "2024-02-05T07:24:11.368Z"
   },
   {
    "duration": 15,
    "start_time": "2024-02-05T07:24:12.629Z"
   },
   {
    "duration": 15,
    "start_time": "2024-02-05T07:24:14.359Z"
   },
   {
    "duration": 541,
    "start_time": "2024-02-05T07:24:23.400Z"
   },
   {
    "duration": 55,
    "start_time": "2024-02-05T07:24:23.943Z"
   },
   {
    "duration": 2212,
    "start_time": "2024-02-05T07:24:24.000Z"
   },
   {
    "duration": 9,
    "start_time": "2024-02-05T07:24:26.214Z"
   },
   {
    "duration": 13,
    "start_time": "2024-02-05T07:24:26.225Z"
   },
   {
    "duration": 9,
    "start_time": "2024-02-05T07:24:26.239Z"
   },
   {
    "duration": 5,
    "start_time": "2024-02-05T07:24:26.249Z"
   },
   {
    "duration": 12,
    "start_time": "2024-02-05T07:24:26.255Z"
   },
   {
    "duration": 64,
    "start_time": "2024-02-05T07:24:26.268Z"
   },
   {
    "duration": 6,
    "start_time": "2024-02-05T07:24:26.335Z"
   },
   {
    "duration": 8,
    "start_time": "2024-02-05T07:24:26.342Z"
   },
   {
    "duration": 6,
    "start_time": "2024-02-05T07:24:26.352Z"
   },
   {
    "duration": 28,
    "start_time": "2024-02-05T07:24:26.360Z"
   },
   {
    "duration": 4,
    "start_time": "2024-02-05T07:24:26.390Z"
   },
   {
    "duration": 12,
    "start_time": "2024-02-05T07:24:26.396Z"
   },
   {
    "duration": 10,
    "start_time": "2024-02-05T07:24:26.409Z"
   },
   {
    "duration": 9,
    "start_time": "2024-02-05T07:24:26.421Z"
   },
   {
    "duration": 14,
    "start_time": "2024-02-05T07:24:26.432Z"
   },
   {
    "duration": 51,
    "start_time": "2024-02-05T07:24:26.447Z"
   },
   {
    "duration": 7,
    "start_time": "2024-02-05T07:24:26.499Z"
   },
   {
    "duration": 51,
    "start_time": "2024-02-05T07:24:26.508Z"
   },
   {
    "duration": 28,
    "start_time": "2024-02-05T07:24:26.561Z"
   },
   {
    "duration": 369,
    "start_time": "2024-02-05T07:24:26.590Z"
   },
   {
    "duration": 8,
    "start_time": "2024-02-05T07:24:26.961Z"
   },
   {
    "duration": 173,
    "start_time": "2024-02-05T07:24:26.971Z"
   },
   {
    "duration": 10,
    "start_time": "2024-02-05T07:24:27.145Z"
   },
   {
    "duration": 9,
    "start_time": "2024-02-05T07:24:27.157Z"
   },
   {
    "duration": 22,
    "start_time": "2024-02-05T07:24:27.170Z"
   },
   {
    "duration": 166,
    "start_time": "2024-02-05T07:24:27.193Z"
   },
   {
    "duration": 9,
    "start_time": "2024-02-05T07:24:27.361Z"
   },
   {
    "duration": 23,
    "start_time": "2024-02-05T07:24:27.372Z"
   },
   {
    "duration": 36,
    "start_time": "2024-02-05T07:24:27.397Z"
   },
   {
    "duration": 6,
    "start_time": "2024-02-05T07:24:27.434Z"
   },
   {
    "duration": 56,
    "start_time": "2024-02-05T07:24:27.442Z"
   },
   {
    "duration": 6,
    "start_time": "2024-02-05T07:24:27.500Z"
   },
   {
    "duration": 8,
    "start_time": "2024-02-05T07:24:27.507Z"
   },
   {
    "duration": 7,
    "start_time": "2024-02-05T07:24:27.517Z"
   },
   {
    "duration": 204,
    "start_time": "2024-02-05T07:24:27.525Z"
   },
   {
    "duration": 8,
    "start_time": "2024-02-05T07:24:27.731Z"
   },
   {
    "duration": 6,
    "start_time": "2024-02-05T07:24:27.741Z"
   },
   {
    "duration": 239,
    "start_time": "2024-02-05T07:24:27.748Z"
   },
   {
    "duration": 8,
    "start_time": "2024-02-05T07:24:27.989Z"
   },
   {
    "duration": 5,
    "start_time": "2024-02-05T07:24:27.998Z"
   },
   {
    "duration": 22,
    "start_time": "2024-02-05T07:24:28.005Z"
   },
   {
    "duration": 22,
    "start_time": "2024-02-05T07:24:28.029Z"
   },
   {
    "duration": 15,
    "start_time": "2024-02-05T07:24:28.053Z"
   },
   {
    "duration": 156,
    "start_time": "2024-02-05T07:24:28.069Z"
   },
   {
    "duration": 9,
    "start_time": "2024-02-05T07:24:28.226Z"
   },
   {
    "duration": 7,
    "start_time": "2024-02-05T07:24:28.236Z"
   },
   {
    "duration": 175,
    "start_time": "2024-02-05T07:24:28.244Z"
   },
   {
    "duration": 140,
    "start_time": "2024-02-05T07:24:28.420Z"
   },
   {
    "duration": 8,
    "start_time": "2024-02-05T07:24:28.561Z"
   },
   {
    "duration": 165,
    "start_time": "2024-02-05T07:24:28.570Z"
   },
   {
    "duration": 9,
    "start_time": "2024-02-05T07:24:28.736Z"
   },
   {
    "duration": 153,
    "start_time": "2024-02-05T07:24:28.746Z"
   },
   {
    "duration": 9,
    "start_time": "2024-02-05T07:24:28.900Z"
   },
   {
    "duration": 156,
    "start_time": "2024-02-05T07:24:28.910Z"
   },
   {
    "duration": 20,
    "start_time": "2024-02-05T07:24:29.068Z"
   },
   {
    "duration": 197,
    "start_time": "2024-02-05T07:24:29.090Z"
   },
   {
    "duration": 5,
    "start_time": "2024-02-05T07:24:29.288Z"
   },
   {
    "duration": 23,
    "start_time": "2024-02-05T07:24:29.294Z"
   },
   {
    "duration": 586,
    "start_time": "2024-02-05T07:24:29.319Z"
   },
   {
    "duration": 161,
    "start_time": "2024-02-05T07:24:29.906Z"
   },
   {
    "duration": 251,
    "start_time": "2024-02-05T07:24:30.069Z"
   },
   {
    "duration": 435,
    "start_time": "2024-02-05T07:24:30.321Z"
   },
   {
    "duration": 15,
    "start_time": "2024-02-05T07:24:30.758Z"
   },
   {
    "duration": 189,
    "start_time": "2024-02-05T07:24:30.775Z"
   },
   {
    "duration": 37,
    "start_time": "2024-02-05T07:24:30.966Z"
   },
   {
    "duration": 137,
    "start_time": "2024-02-05T07:24:59.028Z"
   },
   {
    "duration": 153,
    "start_time": "2024-02-05T07:25:11.020Z"
   },
   {
    "duration": 121,
    "start_time": "2024-02-05T07:25:46.236Z"
   },
   {
    "duration": 9,
    "start_time": "2024-02-05T07:25:53.102Z"
   },
   {
    "duration": 7,
    "start_time": "2024-02-05T07:26:02.840Z"
   },
   {
    "duration": 215,
    "start_time": "2024-02-05T07:26:14.393Z"
   },
   {
    "duration": 38,
    "start_time": "2024-02-05T07:26:56.387Z"
   },
   {
    "duration": 820,
    "start_time": "2024-02-05T07:30:19.537Z"
   },
   {
    "duration": 26,
    "start_time": "2024-02-05T07:31:02.791Z"
   },
   {
    "duration": 21,
    "start_time": "2024-02-05T07:31:31.804Z"
   },
   {
    "duration": 8,
    "start_time": "2024-02-05T07:36:46.012Z"
   },
   {
    "duration": 9,
    "start_time": "2024-02-05T07:38:57.679Z"
   },
   {
    "duration": 165,
    "start_time": "2024-02-05T07:39:18.105Z"
   },
   {
    "duration": 156,
    "start_time": "2024-02-05T07:40:20.730Z"
   },
   {
    "duration": 9,
    "start_time": "2024-02-05T07:41:21.592Z"
   },
   {
    "duration": 8,
    "start_time": "2024-02-05T07:41:25.433Z"
   },
   {
    "duration": 8,
    "start_time": "2024-02-05T07:42:49.358Z"
   },
   {
    "duration": 148,
    "start_time": "2024-02-05T07:43:36.407Z"
   },
   {
    "duration": 1281,
    "start_time": "2024-02-05T07:51:24.419Z"
   },
   {
    "duration": 4141,
    "start_time": "2024-02-05T07:51:49.306Z"
   },
   {
    "duration": 11,
    "start_time": "2024-02-05T07:52:05.992Z"
   },
   {
    "duration": 5,
    "start_time": "2024-02-05T07:52:14.632Z"
   },
   {
    "duration": 524,
    "start_time": "2024-02-05T07:52:28.151Z"
   },
   {
    "duration": 38,
    "start_time": "2024-02-05T07:52:28.677Z"
   },
   {
    "duration": 2532,
    "start_time": "2024-02-05T07:52:28.716Z"
   },
   {
    "duration": 11,
    "start_time": "2024-02-05T07:52:31.250Z"
   },
   {
    "duration": 43,
    "start_time": "2024-02-05T07:52:31.263Z"
   },
   {
    "duration": 17,
    "start_time": "2024-02-05T07:52:31.308Z"
   },
   {
    "duration": 42,
    "start_time": "2024-02-05T07:52:31.326Z"
   },
   {
    "duration": 34,
    "start_time": "2024-02-05T07:52:31.370Z"
   },
   {
    "duration": 92,
    "start_time": "2024-02-05T07:52:31.406Z"
   },
   {
    "duration": 7,
    "start_time": "2024-02-05T07:52:31.501Z"
   },
   {
    "duration": 47,
    "start_time": "2024-02-05T07:52:31.509Z"
   },
   {
    "duration": 26,
    "start_time": "2024-02-05T07:52:31.558Z"
   },
   {
    "duration": 41,
    "start_time": "2024-02-05T07:52:31.586Z"
   },
   {
    "duration": 26,
    "start_time": "2024-02-05T07:52:31.629Z"
   },
   {
    "duration": 41,
    "start_time": "2024-02-05T07:52:31.656Z"
   },
   {
    "duration": 39,
    "start_time": "2024-02-05T07:52:31.698Z"
   },
   {
    "duration": 29,
    "start_time": "2024-02-05T07:52:31.739Z"
   },
   {
    "duration": 35,
    "start_time": "2024-02-05T07:52:31.769Z"
   },
   {
    "duration": 45,
    "start_time": "2024-02-05T07:52:31.806Z"
   },
   {
    "duration": 42,
    "start_time": "2024-02-05T07:52:31.853Z"
   },
   {
    "duration": 64,
    "start_time": "2024-02-05T07:52:31.896Z"
   },
   {
    "duration": 8,
    "start_time": "2024-02-05T07:52:31.961Z"
   },
   {
    "duration": 393,
    "start_time": "2024-02-05T07:52:31.971Z"
   },
   {
    "duration": 9,
    "start_time": "2024-02-05T07:52:32.365Z"
   },
   {
    "duration": 163,
    "start_time": "2024-02-05T07:52:32.375Z"
   },
   {
    "duration": 9,
    "start_time": "2024-02-05T07:52:32.539Z"
   },
   {
    "duration": 20,
    "start_time": "2024-02-05T07:52:32.550Z"
   },
   {
    "duration": 15,
    "start_time": "2024-02-05T07:52:32.574Z"
   },
   {
    "duration": 159,
    "start_time": "2024-02-05T07:52:32.590Z"
   },
   {
    "duration": 8,
    "start_time": "2024-02-05T07:52:32.751Z"
   },
   {
    "duration": 28,
    "start_time": "2024-02-05T07:52:32.760Z"
   },
   {
    "duration": 38,
    "start_time": "2024-02-05T07:52:32.790Z"
   },
   {
    "duration": 15,
    "start_time": "2024-02-05T07:52:32.830Z"
   },
   {
    "duration": 40,
    "start_time": "2024-02-05T07:52:32.847Z"
   },
   {
    "duration": 5,
    "start_time": "2024-02-05T07:52:32.889Z"
   },
   {
    "duration": 147,
    "start_time": "2024-02-05T07:52:32.896Z"
   },
   {
    "duration": 9,
    "start_time": "2024-02-05T07:52:33.045Z"
   },
   {
    "duration": 8,
    "start_time": "2024-02-05T07:52:33.055Z"
   },
   {
    "duration": 275,
    "start_time": "2024-02-05T07:52:33.065Z"
   },
   {
    "duration": 9,
    "start_time": "2024-02-05T07:52:33.341Z"
   },
   {
    "duration": 9,
    "start_time": "2024-02-05T07:52:33.351Z"
   },
   {
    "duration": 173,
    "start_time": "2024-02-05T07:52:33.361Z"
   },
   {
    "duration": 9,
    "start_time": "2024-02-05T07:52:33.536Z"
   },
   {
    "duration": 9,
    "start_time": "2024-02-05T07:52:33.547Z"
   },
   {
    "duration": 8,
    "start_time": "2024-02-05T07:52:33.558Z"
   },
   {
    "duration": 6,
    "start_time": "2024-02-05T07:52:33.587Z"
   },
   {
    "duration": 32,
    "start_time": "2024-02-05T07:52:33.595Z"
   },
   {
    "duration": 5,
    "start_time": "2024-02-05T07:52:33.628Z"
   },
   {
    "duration": 159,
    "start_time": "2024-02-05T07:52:33.635Z"
   },
   {
    "duration": 9,
    "start_time": "2024-02-05T07:52:33.795Z"
   },
   {
    "duration": 6,
    "start_time": "2024-02-05T07:52:33.805Z"
   },
   {
    "duration": 174,
    "start_time": "2024-02-05T07:52:33.813Z"
   },
   {
    "duration": 134,
    "start_time": "2024-02-05T07:52:33.989Z"
   },
   {
    "duration": 8,
    "start_time": "2024-02-05T07:52:34.124Z"
   },
   {
    "duration": 173,
    "start_time": "2024-02-05T07:52:34.134Z"
   },
   {
    "duration": 9,
    "start_time": "2024-02-05T07:52:34.308Z"
   },
   {
    "duration": 171,
    "start_time": "2024-02-05T07:52:34.318Z"
   },
   {
    "duration": 9,
    "start_time": "2024-02-05T07:52:34.490Z"
   },
   {
    "duration": 155,
    "start_time": "2024-02-05T07:52:34.501Z"
   },
   {
    "duration": 10,
    "start_time": "2024-02-05T07:52:34.658Z"
   },
   {
    "duration": 186,
    "start_time": "2024-02-05T07:52:34.669Z"
   },
   {
    "duration": 4,
    "start_time": "2024-02-05T07:52:34.857Z"
   },
   {
    "duration": 33,
    "start_time": "2024-02-05T07:52:34.863Z"
   },
   {
    "duration": 638,
    "start_time": "2024-02-05T07:52:34.898Z"
   },
   {
    "duration": 156,
    "start_time": "2024-02-05T07:52:35.538Z"
   },
   {
    "duration": 151,
    "start_time": "2024-02-05T07:52:35.696Z"
   },
   {
    "duration": 419,
    "start_time": "2024-02-05T07:52:35.849Z"
   },
   {
    "duration": 24,
    "start_time": "2024-02-05T07:52:36.270Z"
   },
   {
    "duration": 179,
    "start_time": "2024-02-05T07:52:36.295Z"
   },
   {
    "duration": 39,
    "start_time": "2024-02-05T07:52:36.476Z"
   },
   {
    "duration": 130,
    "start_time": "2024-02-05T07:54:16.547Z"
   },
   {
    "duration": 8,
    "start_time": "2024-02-05T07:54:22.592Z"
   },
   {
    "duration": 147,
    "start_time": "2024-02-05T07:57:28.960Z"
   },
   {
    "duration": 145,
    "start_time": "2024-02-05T07:58:09.348Z"
   },
   {
    "duration": 107,
    "start_time": "2024-02-05T07:58:19.865Z"
   },
   {
    "duration": 9,
    "start_time": "2024-02-05T08:10:42.741Z"
   },
   {
    "duration": 162,
    "start_time": "2024-02-05T08:11:26.370Z"
   },
   {
    "duration": 6,
    "start_time": "2024-02-05T08:12:32.171Z"
   },
   {
    "duration": 8,
    "start_time": "2024-02-05T08:14:58.379Z"
   },
   {
    "duration": 162,
    "start_time": "2024-02-05T08:14:59.900Z"
   },
   {
    "duration": 8,
    "start_time": "2024-02-05T08:15:19.801Z"
   },
   {
    "duration": 150,
    "start_time": "2024-02-05T08:19:47.502Z"
   },
   {
    "duration": 622,
    "start_time": "2024-02-05T08:22:28.083Z"
   },
   {
    "duration": 13,
    "start_time": "2024-02-05T08:38:39.991Z"
   },
   {
    "duration": 157,
    "start_time": "2024-02-05T08:40:28.293Z"
   },
   {
    "duration": 36,
    "start_time": "2024-02-05T08:40:33.609Z"
   },
   {
    "duration": 34,
    "start_time": "2024-02-05T08:41:23.992Z"
   },
   {
    "duration": 36,
    "start_time": "2024-02-05T08:41:47.438Z"
   },
   {
    "duration": 77,
    "start_time": "2024-02-05T08:45:43.593Z"
   },
   {
    "duration": 12,
    "start_time": "2024-02-05T08:46:11.190Z"
   },
   {
    "duration": 12,
    "start_time": "2024-02-05T08:46:31.419Z"
   },
   {
    "duration": 27,
    "start_time": "2024-02-05T08:46:47.744Z"
   },
   {
    "duration": 27,
    "start_time": "2024-02-05T09:00:05.314Z"
   },
   {
    "duration": 22,
    "start_time": "2024-02-05T09:01:08.618Z"
   },
   {
    "duration": 21,
    "start_time": "2024-02-05T09:01:38.534Z"
   },
   {
    "duration": 22,
    "start_time": "2024-02-05T09:02:07.778Z"
   },
   {
    "duration": 14,
    "start_time": "2024-02-05T09:06:28.680Z"
   },
   {
    "duration": 13,
    "start_time": "2024-02-05T09:06:50.618Z"
   },
   {
    "duration": 511,
    "start_time": "2024-02-05T09:12:14.314Z"
   },
   {
    "duration": 36,
    "start_time": "2024-02-05T09:12:14.827Z"
   },
   {
    "duration": 2196,
    "start_time": "2024-02-05T09:12:14.864Z"
   },
   {
    "duration": 11,
    "start_time": "2024-02-05T09:12:17.061Z"
   },
   {
    "duration": 19,
    "start_time": "2024-02-05T09:12:17.074Z"
   },
   {
    "duration": 6,
    "start_time": "2024-02-05T09:12:17.094Z"
   },
   {
    "duration": 6,
    "start_time": "2024-02-05T09:12:17.102Z"
   },
   {
    "duration": 7,
    "start_time": "2024-02-05T09:12:17.109Z"
   },
   {
    "duration": 70,
    "start_time": "2024-02-05T09:12:17.117Z"
   },
   {
    "duration": 6,
    "start_time": "2024-02-05T09:12:17.190Z"
   },
   {
    "duration": 7,
    "start_time": "2024-02-05T09:12:17.197Z"
   },
   {
    "duration": 11,
    "start_time": "2024-02-05T09:12:17.205Z"
   },
   {
    "duration": 14,
    "start_time": "2024-02-05T09:12:17.217Z"
   },
   {
    "duration": 5,
    "start_time": "2024-02-05T09:12:17.232Z"
   },
   {
    "duration": 10,
    "start_time": "2024-02-05T09:12:17.239Z"
   },
   {
    "duration": 18,
    "start_time": "2024-02-05T09:12:17.250Z"
   },
   {
    "duration": 21,
    "start_time": "2024-02-05T09:12:17.270Z"
   },
   {
    "duration": 13,
    "start_time": "2024-02-05T09:12:17.293Z"
   },
   {
    "duration": 22,
    "start_time": "2024-02-05T09:12:17.307Z"
   },
   {
    "duration": 8,
    "start_time": "2024-02-05T09:12:17.331Z"
   },
   {
    "duration": 80,
    "start_time": "2024-02-05T09:12:17.340Z"
   },
   {
    "duration": 8,
    "start_time": "2024-02-05T09:12:17.422Z"
   },
   {
    "duration": 398,
    "start_time": "2024-02-05T09:12:17.432Z"
   },
   {
    "duration": 10,
    "start_time": "2024-02-05T09:12:17.832Z"
   },
   {
    "duration": 160,
    "start_time": "2024-02-05T09:12:17.844Z"
   },
   {
    "duration": 9,
    "start_time": "2024-02-05T09:12:18.005Z"
   },
   {
    "duration": 11,
    "start_time": "2024-02-05T09:12:18.016Z"
   },
   {
    "duration": 6,
    "start_time": "2024-02-05T09:12:18.031Z"
   },
   {
    "duration": 176,
    "start_time": "2024-02-05T09:12:18.038Z"
   },
   {
    "duration": 8,
    "start_time": "2024-02-05T09:12:18.216Z"
   },
   {
    "duration": 16,
    "start_time": "2024-02-05T09:12:18.226Z"
   },
   {
    "duration": 52,
    "start_time": "2024-02-05T09:12:18.244Z"
   },
   {
    "duration": 5,
    "start_time": "2024-02-05T09:12:18.298Z"
   },
   {
    "duration": 36,
    "start_time": "2024-02-05T09:12:18.305Z"
   },
   {
    "duration": 6,
    "start_time": "2024-02-05T09:12:18.343Z"
   },
   {
    "duration": 152,
    "start_time": "2024-02-05T09:12:18.350Z"
   },
   {
    "duration": 11,
    "start_time": "2024-02-05T09:12:18.504Z"
   },
   {
    "duration": 7,
    "start_time": "2024-02-05T09:12:18.516Z"
   },
   {
    "duration": 255,
    "start_time": "2024-02-05T09:12:18.525Z"
   },
   {
    "duration": 11,
    "start_time": "2024-02-05T09:12:18.782Z"
   },
   {
    "duration": 8,
    "start_time": "2024-02-05T09:12:18.794Z"
   },
   {
    "duration": 161,
    "start_time": "2024-02-05T09:12:18.804Z"
   },
   {
    "duration": 9,
    "start_time": "2024-02-05T09:12:18.966Z"
   },
   {
    "duration": 16,
    "start_time": "2024-02-05T09:12:18.977Z"
   },
   {
    "duration": 4,
    "start_time": "2024-02-05T09:12:18.995Z"
   },
   {
    "duration": 32,
    "start_time": "2024-02-05T09:12:19.001Z"
   },
   {
    "duration": 4,
    "start_time": "2024-02-05T09:12:19.034Z"
   },
   {
    "duration": 155,
    "start_time": "2024-02-05T09:12:19.039Z"
   },
   {
    "duration": 7,
    "start_time": "2024-02-05T09:12:19.196Z"
   },
   {
    "duration": 8,
    "start_time": "2024-02-05T09:12:19.205Z"
   },
   {
    "duration": 186,
    "start_time": "2024-02-05T09:12:19.214Z"
   },
   {
    "duration": 126,
    "start_time": "2024-02-05T09:12:19.401Z"
   },
   {
    "duration": 8,
    "start_time": "2024-02-05T09:12:19.528Z"
   },
   {
    "duration": 172,
    "start_time": "2024-02-05T09:12:19.537Z"
   },
   {
    "duration": 9,
    "start_time": "2024-02-05T09:12:19.710Z"
   },
   {
    "duration": 175,
    "start_time": "2024-02-05T09:12:19.721Z"
   },
   {
    "duration": 9,
    "start_time": "2024-02-05T09:12:19.897Z"
   },
   {
    "duration": 175,
    "start_time": "2024-02-05T09:12:19.907Z"
   },
   {
    "duration": 10,
    "start_time": "2024-02-05T09:12:20.083Z"
   },
   {
    "duration": 7,
    "start_time": "2024-02-05T09:12:20.095Z"
   },
   {
    "duration": 23,
    "start_time": "2024-02-05T09:12:20.103Z"
   },
   {
    "duration": 168,
    "start_time": "2024-02-05T09:12:20.127Z"
   },
   {
    "duration": 8,
    "start_time": "2024-02-05T09:12:20.296Z"
   },
   {
    "duration": 4,
    "start_time": "2024-02-05T09:12:20.305Z"
   },
   {
    "duration": 20,
    "start_time": "2024-02-05T09:12:20.311Z"
   },
   {
    "duration": 635,
    "start_time": "2024-02-05T09:12:20.332Z"
   },
   {
    "duration": 164,
    "start_time": "2024-02-05T09:12:20.968Z"
   },
   {
    "duration": 158,
    "start_time": "2024-02-05T09:12:21.134Z"
   },
   {
    "duration": 412,
    "start_time": "2024-02-05T09:12:21.294Z"
   },
   {
    "duration": 11,
    "start_time": "2024-02-05T09:12:21.708Z"
   },
   {
    "duration": 14,
    "start_time": "2024-02-05T09:12:21.721Z"
   },
   {
    "duration": 179,
    "start_time": "2024-02-05T09:12:21.736Z"
   },
   {
    "duration": 21,
    "start_time": "2024-02-05T09:12:21.917Z"
   },
   {
    "duration": 543,
    "start_time": "2024-02-05T09:38:09.909Z"
   },
   {
    "duration": 35,
    "start_time": "2024-02-05T09:38:10.454Z"
   },
   {
    "duration": 2213,
    "start_time": "2024-02-05T09:38:10.491Z"
   },
   {
    "duration": 11,
    "start_time": "2024-02-05T09:38:12.706Z"
   },
   {
    "duration": 12,
    "start_time": "2024-02-05T09:38:12.719Z"
   },
   {
    "duration": 6,
    "start_time": "2024-02-05T09:38:12.732Z"
   },
   {
    "duration": 5,
    "start_time": "2024-02-05T09:38:12.739Z"
   },
   {
    "duration": 8,
    "start_time": "2024-02-05T09:38:12.746Z"
   },
   {
    "duration": 80,
    "start_time": "2024-02-05T09:38:12.756Z"
   },
   {
    "duration": 6,
    "start_time": "2024-02-05T09:38:12.839Z"
   },
   {
    "duration": 13,
    "start_time": "2024-02-05T09:38:12.847Z"
   },
   {
    "duration": 6,
    "start_time": "2024-02-05T09:38:12.861Z"
   },
   {
    "duration": 25,
    "start_time": "2024-02-05T09:38:12.869Z"
   },
   {
    "duration": 5,
    "start_time": "2024-02-05T09:38:12.896Z"
   },
   {
    "duration": 18,
    "start_time": "2024-02-05T09:38:12.903Z"
   },
   {
    "duration": 10,
    "start_time": "2024-02-05T09:38:12.923Z"
   },
   {
    "duration": 10,
    "start_time": "2024-02-05T09:38:12.934Z"
   },
   {
    "duration": 26,
    "start_time": "2024-02-05T09:38:12.945Z"
   },
   {
    "duration": 34,
    "start_time": "2024-02-05T09:38:12.987Z"
   },
   {
    "duration": 6,
    "start_time": "2024-02-05T09:38:13.023Z"
   },
   {
    "duration": 60,
    "start_time": "2024-02-05T09:38:13.031Z"
   },
   {
    "duration": 11,
    "start_time": "2024-02-05T09:38:13.093Z"
   },
   {
    "duration": 404,
    "start_time": "2024-02-05T09:38:13.106Z"
   },
   {
    "duration": 9,
    "start_time": "2024-02-05T09:38:13.511Z"
   },
   {
    "duration": 178,
    "start_time": "2024-02-05T09:38:13.522Z"
   },
   {
    "duration": 9,
    "start_time": "2024-02-05T09:38:13.701Z"
   },
   {
    "duration": 8,
    "start_time": "2024-02-05T09:38:13.712Z"
   },
   {
    "duration": 5,
    "start_time": "2024-02-05T09:38:13.724Z"
   },
   {
    "duration": 187,
    "start_time": "2024-02-05T09:38:13.730Z"
   },
   {
    "duration": 8,
    "start_time": "2024-02-05T09:38:13.919Z"
   },
   {
    "duration": 14,
    "start_time": "2024-02-05T09:38:13.929Z"
   },
   {
    "duration": 62,
    "start_time": "2024-02-05T09:38:13.945Z"
   },
   {
    "duration": 5,
    "start_time": "2024-02-05T09:38:14.009Z"
   },
   {
    "duration": 50,
    "start_time": "2024-02-05T09:38:14.016Z"
   },
   {
    "duration": 19,
    "start_time": "2024-02-05T09:38:14.068Z"
   },
   {
    "duration": 164,
    "start_time": "2024-02-05T09:38:14.089Z"
   },
   {
    "duration": 8,
    "start_time": "2024-02-05T09:38:14.255Z"
   },
   {
    "duration": 24,
    "start_time": "2024-02-05T09:38:14.265Z"
   },
   {
    "duration": 266,
    "start_time": "2024-02-05T09:38:14.290Z"
   },
   {
    "duration": 9,
    "start_time": "2024-02-05T09:38:14.557Z"
   },
   {
    "duration": 23,
    "start_time": "2024-02-05T09:38:14.568Z"
   },
   {
    "duration": 174,
    "start_time": "2024-02-05T09:38:14.593Z"
   },
   {
    "duration": 9,
    "start_time": "2024-02-05T09:38:14.768Z"
   },
   {
    "duration": 9,
    "start_time": "2024-02-05T09:38:14.787Z"
   },
   {
    "duration": 18,
    "start_time": "2024-02-05T09:38:14.798Z"
   },
   {
    "duration": 36,
    "start_time": "2024-02-05T09:38:14.818Z"
   },
   {
    "duration": 4,
    "start_time": "2024-02-05T09:38:14.856Z"
   },
   {
    "duration": 150,
    "start_time": "2024-02-05T09:38:14.861Z"
   },
   {
    "duration": 8,
    "start_time": "2024-02-05T09:38:15.013Z"
   },
   {
    "duration": 67,
    "start_time": "2024-02-05T09:38:15.023Z"
   },
   {
    "duration": 203,
    "start_time": "2024-02-05T09:38:15.091Z"
   },
   {
    "duration": 128,
    "start_time": "2024-02-05T09:38:15.296Z"
   },
   {
    "duration": 10,
    "start_time": "2024-02-05T09:38:15.426Z"
   },
   {
    "duration": 174,
    "start_time": "2024-02-05T09:38:15.438Z"
   },
   {
    "duration": 12,
    "start_time": "2024-02-05T09:38:15.614Z"
   },
   {
    "duration": 198,
    "start_time": "2024-02-05T09:38:15.628Z"
   },
   {
    "duration": 10,
    "start_time": "2024-02-05T09:38:15.828Z"
   },
   {
    "duration": 169,
    "start_time": "2024-02-05T09:38:15.839Z"
   },
   {
    "duration": 8,
    "start_time": "2024-02-05T09:38:16.010Z"
   },
   {
    "duration": 13,
    "start_time": "2024-02-05T09:38:16.019Z"
   },
   {
    "duration": 8,
    "start_time": "2024-02-05T09:38:16.033Z"
   },
   {
    "duration": 168,
    "start_time": "2024-02-05T09:38:16.042Z"
   },
   {
    "duration": 8,
    "start_time": "2024-02-05T09:38:16.212Z"
   },
   {
    "duration": 4,
    "start_time": "2024-02-05T09:38:16.221Z"
   },
   {
    "duration": 18,
    "start_time": "2024-02-05T09:38:16.226Z"
   },
   {
    "duration": 632,
    "start_time": "2024-02-05T09:38:16.246Z"
   },
   {
    "duration": 170,
    "start_time": "2024-02-05T09:38:16.880Z"
   },
   {
    "duration": 141,
    "start_time": "2024-02-05T09:38:17.052Z"
   },
   {
    "duration": 405,
    "start_time": "2024-02-05T09:38:17.194Z"
   },
   {
    "duration": 12,
    "start_time": "2024-02-05T09:38:17.600Z"
   },
   {
    "duration": 12,
    "start_time": "2024-02-05T09:38:17.613Z"
   },
   {
    "duration": 185,
    "start_time": "2024-02-05T09:38:17.627Z"
   },
   {
    "duration": 20,
    "start_time": "2024-02-05T09:38:17.813Z"
   },
   {
    "duration": 572,
    "start_time": "2024-02-05T10:33:00.848Z"
   },
   {
    "duration": 38,
    "start_time": "2024-02-05T10:33:01.422Z"
   },
   {
    "duration": 2411,
    "start_time": "2024-02-05T10:33:01.462Z"
   },
   {
    "duration": 11,
    "start_time": "2024-02-05T10:33:03.881Z"
   },
   {
    "duration": 14,
    "start_time": "2024-02-05T10:33:03.893Z"
   },
   {
    "duration": 6,
    "start_time": "2024-02-05T10:33:03.908Z"
   },
   {
    "duration": 7,
    "start_time": "2024-02-05T10:33:03.915Z"
   },
   {
    "duration": 18,
    "start_time": "2024-02-05T10:33:03.924Z"
   },
   {
    "duration": 81,
    "start_time": "2024-02-05T10:33:03.943Z"
   },
   {
    "duration": 7,
    "start_time": "2024-02-05T10:33:04.027Z"
   },
   {
    "duration": 6,
    "start_time": "2024-02-05T10:33:04.035Z"
   },
   {
    "duration": 14,
    "start_time": "2024-02-05T10:33:04.042Z"
   },
   {
    "duration": 8,
    "start_time": "2024-02-05T10:33:04.058Z"
   },
   {
    "duration": 6,
    "start_time": "2024-02-05T10:33:04.081Z"
   },
   {
    "duration": 12,
    "start_time": "2024-02-05T10:33:04.089Z"
   },
   {
    "duration": 11,
    "start_time": "2024-02-05T10:33:04.102Z"
   },
   {
    "duration": 10,
    "start_time": "2024-02-05T10:33:04.114Z"
   },
   {
    "duration": 15,
    "start_time": "2024-02-05T10:33:04.126Z"
   },
   {
    "duration": 50,
    "start_time": "2024-02-05T10:33:04.143Z"
   },
   {
    "duration": 8,
    "start_time": "2024-02-05T10:33:04.195Z"
   },
   {
    "duration": 51,
    "start_time": "2024-02-05T10:33:04.204Z"
   },
   {
    "duration": 30,
    "start_time": "2024-02-05T10:33:04.257Z"
   },
   {
    "duration": 407,
    "start_time": "2024-02-05T10:33:04.289Z"
   },
   {
    "duration": 9,
    "start_time": "2024-02-05T10:33:04.697Z"
   },
   {
    "duration": 171,
    "start_time": "2024-02-05T10:33:04.707Z"
   },
   {
    "duration": 10,
    "start_time": "2024-02-05T10:33:04.880Z"
   },
   {
    "duration": 16,
    "start_time": "2024-02-05T10:33:04.892Z"
   },
   {
    "duration": 6,
    "start_time": "2024-02-05T10:33:04.914Z"
   },
   {
    "duration": 179,
    "start_time": "2024-02-05T10:33:04.922Z"
   },
   {
    "duration": 9,
    "start_time": "2024-02-05T10:33:05.102Z"
   },
   {
    "duration": 42,
    "start_time": "2024-02-05T10:33:05.113Z"
   },
   {
    "duration": 53,
    "start_time": "2024-02-05T10:33:05.156Z"
   },
   {
    "duration": 5,
    "start_time": "2024-02-05T10:33:05.211Z"
   },
   {
    "duration": 48,
    "start_time": "2024-02-05T10:33:05.218Z"
   },
   {
    "duration": 6,
    "start_time": "2024-02-05T10:33:05.268Z"
   },
   {
    "duration": 144,
    "start_time": "2024-02-05T10:33:05.275Z"
   },
   {
    "duration": 9,
    "start_time": "2024-02-05T10:33:05.420Z"
   },
   {
    "duration": 12,
    "start_time": "2024-02-05T10:33:05.430Z"
   },
   {
    "duration": 272,
    "start_time": "2024-02-05T10:33:05.444Z"
   },
   {
    "duration": 9,
    "start_time": "2024-02-05T10:33:05.717Z"
   },
   {
    "duration": 18,
    "start_time": "2024-02-05T10:33:05.728Z"
   },
   {
    "duration": 187,
    "start_time": "2024-02-05T10:33:05.748Z"
   },
   {
    "duration": 10,
    "start_time": "2024-02-05T10:33:05.937Z"
   },
   {
    "duration": 9,
    "start_time": "2024-02-05T10:33:05.949Z"
   },
   {
    "duration": 23,
    "start_time": "2024-02-05T10:33:05.960Z"
   },
   {
    "duration": 36,
    "start_time": "2024-02-05T10:33:05.985Z"
   },
   {
    "duration": 8,
    "start_time": "2024-02-05T10:33:06.023Z"
   },
   {
    "duration": 166,
    "start_time": "2024-02-05T10:33:06.033Z"
   },
   {
    "duration": 10,
    "start_time": "2024-02-05T10:33:06.201Z"
   },
   {
    "duration": 8,
    "start_time": "2024-02-05T10:33:06.213Z"
   },
   {
    "duration": 193,
    "start_time": "2024-02-05T10:33:06.222Z"
   },
   {
    "duration": 139,
    "start_time": "2024-02-05T10:33:06.417Z"
   },
   {
    "duration": 7,
    "start_time": "2024-02-05T10:33:06.558Z"
   },
   {
    "duration": 182,
    "start_time": "2024-02-05T10:33:06.567Z"
   },
   {
    "duration": 8,
    "start_time": "2024-02-05T10:33:06.751Z"
   },
   {
    "duration": 181,
    "start_time": "2024-02-05T10:33:06.761Z"
   },
   {
    "duration": 9,
    "start_time": "2024-02-05T10:33:06.944Z"
   },
   {
    "duration": 207,
    "start_time": "2024-02-05T10:33:06.955Z"
   },
   {
    "duration": 8,
    "start_time": "2024-02-05T10:33:07.163Z"
   },
   {
    "duration": 14,
    "start_time": "2024-02-05T10:33:07.172Z"
   },
   {
    "duration": 12,
    "start_time": "2024-02-05T10:33:07.187Z"
   },
   {
    "duration": 172,
    "start_time": "2024-02-05T10:33:07.200Z"
   },
   {
    "duration": 14,
    "start_time": "2024-02-05T10:33:07.374Z"
   },
   {
    "duration": 3,
    "start_time": "2024-02-05T10:33:07.390Z"
   },
   {
    "duration": 26,
    "start_time": "2024-02-05T10:33:07.395Z"
   },
   {
    "duration": 702,
    "start_time": "2024-02-05T10:33:07.423Z"
   },
   {
    "duration": 191,
    "start_time": "2024-02-05T10:33:08.126Z"
   },
   {
    "duration": 169,
    "start_time": "2024-02-05T10:33:08.319Z"
   },
   {
    "duration": 426,
    "start_time": "2024-02-05T10:33:08.489Z"
   },
   {
    "duration": 13,
    "start_time": "2024-02-05T10:33:08.917Z"
   },
   {
    "duration": 17,
    "start_time": "2024-02-05T10:33:08.932Z"
   },
   {
    "duration": 186,
    "start_time": "2024-02-05T10:33:08.950Z"
   },
   {
    "duration": 23,
    "start_time": "2024-02-05T10:33:09.137Z"
   },
   {
    "duration": 166,
    "start_time": "2024-02-05T10:40:46.105Z"
   },
   {
    "duration": 53,
    "start_time": "2024-02-05T10:57:26.740Z"
   },
   {
    "duration": 6,
    "start_time": "2024-02-05T10:57:36.931Z"
   },
   {
    "duration": 755,
    "start_time": "2024-02-05T10:57:43.191Z"
   },
   {
    "duration": 38,
    "start_time": "2024-02-05T10:57:43.948Z"
   },
   {
    "duration": 2632,
    "start_time": "2024-02-05T10:57:43.988Z"
   },
   {
    "duration": 11,
    "start_time": "2024-02-05T10:57:46.622Z"
   },
   {
    "duration": 25,
    "start_time": "2024-02-05T10:57:46.635Z"
   },
   {
    "duration": 10,
    "start_time": "2024-02-05T10:57:46.663Z"
   },
   {
    "duration": 18,
    "start_time": "2024-02-05T10:57:46.675Z"
   },
   {
    "duration": 13,
    "start_time": "2024-02-05T10:57:46.695Z"
   },
   {
    "duration": 76,
    "start_time": "2024-02-05T10:57:46.710Z"
   },
   {
    "duration": 8,
    "start_time": "2024-02-05T10:57:46.790Z"
   },
   {
    "duration": 8,
    "start_time": "2024-02-05T10:57:46.799Z"
   },
   {
    "duration": 7,
    "start_time": "2024-02-05T10:57:46.809Z"
   },
   {
    "duration": 10,
    "start_time": "2024-02-05T10:57:46.818Z"
   },
   {
    "duration": 32,
    "start_time": "2024-02-05T10:57:46.830Z"
   },
   {
    "duration": 11,
    "start_time": "2024-02-05T10:57:46.864Z"
   },
   {
    "duration": 13,
    "start_time": "2024-02-05T10:57:46.878Z"
   },
   {
    "duration": 12,
    "start_time": "2024-02-05T10:57:46.894Z"
   },
   {
    "duration": 51,
    "start_time": "2024-02-05T10:57:46.908Z"
   },
   {
    "duration": 33,
    "start_time": "2024-02-05T10:57:46.961Z"
   },
   {
    "duration": 11,
    "start_time": "2024-02-05T10:57:46.996Z"
   },
   {
    "duration": 83,
    "start_time": "2024-02-05T10:57:47.009Z"
   },
   {
    "duration": 9,
    "start_time": "2024-02-05T10:57:47.093Z"
   },
   {
    "duration": 427,
    "start_time": "2024-02-05T10:57:47.104Z"
   },
   {
    "duration": 9,
    "start_time": "2024-02-05T10:57:47.533Z"
   },
   {
    "duration": 182,
    "start_time": "2024-02-05T10:57:47.544Z"
   },
   {
    "duration": 10,
    "start_time": "2024-02-05T10:57:47.728Z"
   },
   {
    "duration": 21,
    "start_time": "2024-02-05T10:57:47.740Z"
   },
   {
    "duration": 7,
    "start_time": "2024-02-05T10:57:47.766Z"
   },
   {
    "duration": 187,
    "start_time": "2024-02-05T10:57:47.774Z"
   },
   {
    "duration": 9,
    "start_time": "2024-02-05T10:57:47.963Z"
   },
   {
    "duration": 27,
    "start_time": "2024-02-05T10:57:47.974Z"
   },
   {
    "duration": 121,
    "start_time": "2024-02-05T10:57:48.003Z"
   },
   {
    "duration": 6,
    "start_time": "2024-02-05T10:57:48.126Z"
   },
   {
    "duration": 67,
    "start_time": "2024-02-05T10:57:48.134Z"
   },
   {
    "duration": 7,
    "start_time": "2024-02-05T10:57:48.203Z"
   },
   {
    "duration": 142,
    "start_time": "2024-02-05T10:57:48.212Z"
   },
   {
    "duration": 10,
    "start_time": "2024-02-05T10:57:48.357Z"
   },
   {
    "duration": 8,
    "start_time": "2024-02-05T10:57:48.369Z"
   },
   {
    "duration": 227,
    "start_time": "2024-02-05T10:57:48.378Z"
   },
   {
    "duration": 9,
    "start_time": "2024-02-05T10:57:48.606Z"
   },
   {
    "duration": 21,
    "start_time": "2024-02-05T10:57:48.616Z"
   },
   {
    "duration": 180,
    "start_time": "2024-02-05T10:57:48.639Z"
   },
   {
    "duration": 8,
    "start_time": "2024-02-05T10:57:48.821Z"
   },
   {
    "duration": 25,
    "start_time": "2024-02-05T10:57:48.831Z"
   },
   {
    "duration": 16,
    "start_time": "2024-02-05T10:57:48.858Z"
   },
   {
    "duration": 41,
    "start_time": "2024-02-05T10:57:48.875Z"
   },
   {
    "duration": 5,
    "start_time": "2024-02-05T10:57:48.918Z"
   },
   {
    "duration": 159,
    "start_time": "2024-02-05T10:57:48.924Z"
   },
   {
    "duration": 9,
    "start_time": "2024-02-05T10:57:49.085Z"
   },
   {
    "duration": 14,
    "start_time": "2024-02-05T10:57:49.096Z"
   },
   {
    "duration": 184,
    "start_time": "2024-02-05T10:57:49.112Z"
   },
   {
    "duration": 138,
    "start_time": "2024-02-05T10:57:49.298Z"
   },
   {
    "duration": 9,
    "start_time": "2024-02-05T10:57:49.437Z"
   },
   {
    "duration": 183,
    "start_time": "2024-02-05T10:57:49.459Z"
   },
   {
    "duration": 15,
    "start_time": "2024-02-05T10:57:49.644Z"
   },
   {
    "duration": 186,
    "start_time": "2024-02-05T10:57:49.661Z"
   },
   {
    "duration": 14,
    "start_time": "2024-02-05T10:57:49.848Z"
   },
   {
    "duration": 184,
    "start_time": "2024-02-05T10:57:49.863Z"
   },
   {
    "duration": 13,
    "start_time": "2024-02-05T10:57:50.048Z"
   },
   {
    "duration": 10,
    "start_time": "2024-02-05T10:57:50.063Z"
   },
   {
    "duration": 9,
    "start_time": "2024-02-05T10:57:50.075Z"
   },
   {
    "duration": 187,
    "start_time": "2024-02-05T10:57:50.086Z"
   },
   {
    "duration": 9,
    "start_time": "2024-02-05T10:57:50.275Z"
   },
   {
    "duration": 4,
    "start_time": "2024-02-05T10:57:50.285Z"
   },
   {
    "duration": 31,
    "start_time": "2024-02-05T10:57:50.291Z"
   },
   {
    "duration": 696,
    "start_time": "2024-02-05T10:57:50.324Z"
   },
   {
    "duration": 175,
    "start_time": "2024-02-05T10:57:51.022Z"
   },
   {
    "duration": 161,
    "start_time": "2024-02-05T10:57:51.199Z"
   },
   {
    "duration": 439,
    "start_time": "2024-02-05T10:57:51.362Z"
   },
   {
    "duration": 13,
    "start_time": "2024-02-05T10:57:51.803Z"
   },
   {
    "duration": 41,
    "start_time": "2024-02-05T10:57:51.818Z"
   },
   {
    "duration": 205,
    "start_time": "2024-02-05T10:57:51.860Z"
   },
   {
    "duration": 22,
    "start_time": "2024-02-05T10:57:52.067Z"
   },
   {
    "duration": 678,
    "start_time": "2024-02-05T11:16:46.384Z"
   },
   {
    "duration": 17,
    "start_time": "2024-02-05T11:17:40.455Z"
   },
   {
    "duration": 8,
    "start_time": "2024-02-05T11:21:17.491Z"
   },
   {
    "duration": 13,
    "start_time": "2024-02-05T11:21:43.210Z"
   },
   {
    "duration": 6,
    "start_time": "2024-02-05T11:22:03.133Z"
   },
   {
    "duration": 18,
    "start_time": "2024-02-05T11:39:34.726Z"
   },
   {
    "duration": 14,
    "start_time": "2024-02-05T11:39:40.483Z"
   },
   {
    "duration": 584,
    "start_time": "2024-02-05T11:39:45.962Z"
   },
   {
    "duration": 41,
    "start_time": "2024-02-05T11:39:46.549Z"
   },
   {
    "duration": 2416,
    "start_time": "2024-02-05T11:39:46.592Z"
   },
   {
    "duration": 12,
    "start_time": "2024-02-05T11:39:49.011Z"
   },
   {
    "duration": 13,
    "start_time": "2024-02-05T11:39:49.025Z"
   },
   {
    "duration": 6,
    "start_time": "2024-02-05T11:39:49.039Z"
   },
   {
    "duration": 14,
    "start_time": "2024-02-05T11:39:49.047Z"
   },
   {
    "duration": 19,
    "start_time": "2024-02-05T11:39:49.063Z"
   },
   {
    "duration": 63,
    "start_time": "2024-02-05T11:39:49.084Z"
   },
   {
    "duration": 10,
    "start_time": "2024-02-05T11:39:49.151Z"
   },
   {
    "duration": 31,
    "start_time": "2024-02-05T11:39:49.163Z"
   },
   {
    "duration": 19,
    "start_time": "2024-02-05T11:39:49.196Z"
   },
   {
    "duration": 18,
    "start_time": "2024-02-05T11:39:49.217Z"
   },
   {
    "duration": 8,
    "start_time": "2024-02-05T11:39:49.237Z"
   },
   {
    "duration": 61,
    "start_time": "2024-02-05T11:39:49.247Z"
   },
   {
    "duration": 79,
    "start_time": "2024-02-05T11:39:49.310Z"
   },
   {
    "duration": 0,
    "start_time": "2024-02-05T11:39:49.392Z"
   },
   {
    "duration": 0,
    "start_time": "2024-02-05T11:39:49.393Z"
   },
   {
    "duration": 0,
    "start_time": "2024-02-05T11:39:49.394Z"
   },
   {
    "duration": 0,
    "start_time": "2024-02-05T11:39:49.395Z"
   },
   {
    "duration": 0,
    "start_time": "2024-02-05T11:39:49.396Z"
   },
   {
    "duration": 0,
    "start_time": "2024-02-05T11:39:49.397Z"
   },
   {
    "duration": 0,
    "start_time": "2024-02-05T11:39:49.398Z"
   },
   {
    "duration": 0,
    "start_time": "2024-02-05T11:39:49.399Z"
   },
   {
    "duration": 0,
    "start_time": "2024-02-05T11:39:49.400Z"
   },
   {
    "duration": 0,
    "start_time": "2024-02-05T11:39:49.401Z"
   },
   {
    "duration": 0,
    "start_time": "2024-02-05T11:39:49.403Z"
   },
   {
    "duration": 0,
    "start_time": "2024-02-05T11:39:49.404Z"
   },
   {
    "duration": 0,
    "start_time": "2024-02-05T11:39:49.405Z"
   },
   {
    "duration": 0,
    "start_time": "2024-02-05T11:39:49.406Z"
   },
   {
    "duration": 0,
    "start_time": "2024-02-05T11:39:49.407Z"
   },
   {
    "duration": 0,
    "start_time": "2024-02-05T11:39:49.408Z"
   },
   {
    "duration": 0,
    "start_time": "2024-02-05T11:39:49.409Z"
   },
   {
    "duration": 0,
    "start_time": "2024-02-05T11:39:49.411Z"
   },
   {
    "duration": 0,
    "start_time": "2024-02-05T11:39:49.412Z"
   },
   {
    "duration": 0,
    "start_time": "2024-02-05T11:39:49.413Z"
   },
   {
    "duration": 0,
    "start_time": "2024-02-05T11:39:49.414Z"
   },
   {
    "duration": 0,
    "start_time": "2024-02-05T11:39:49.415Z"
   },
   {
    "duration": 0,
    "start_time": "2024-02-05T11:39:49.416Z"
   },
   {
    "duration": 0,
    "start_time": "2024-02-05T11:39:49.417Z"
   },
   {
    "duration": 0,
    "start_time": "2024-02-05T11:39:49.419Z"
   },
   {
    "duration": 0,
    "start_time": "2024-02-05T11:39:49.419Z"
   },
   {
    "duration": 0,
    "start_time": "2024-02-05T11:39:49.420Z"
   },
   {
    "duration": 0,
    "start_time": "2024-02-05T11:39:49.421Z"
   },
   {
    "duration": 0,
    "start_time": "2024-02-05T11:39:49.422Z"
   },
   {
    "duration": 0,
    "start_time": "2024-02-05T11:39:49.423Z"
   },
   {
    "duration": 0,
    "start_time": "2024-02-05T11:39:49.424Z"
   },
   {
    "duration": 0,
    "start_time": "2024-02-05T11:39:49.425Z"
   },
   {
    "duration": 0,
    "start_time": "2024-02-05T11:39:49.426Z"
   },
   {
    "duration": 0,
    "start_time": "2024-02-05T11:39:49.427Z"
   },
   {
    "duration": 1,
    "start_time": "2024-02-05T11:39:49.458Z"
   },
   {
    "duration": 0,
    "start_time": "2024-02-05T11:39:49.460Z"
   },
   {
    "duration": 0,
    "start_time": "2024-02-05T11:39:49.461Z"
   },
   {
    "duration": 0,
    "start_time": "2024-02-05T11:39:49.462Z"
   },
   {
    "duration": 0,
    "start_time": "2024-02-05T11:39:49.463Z"
   },
   {
    "duration": 0,
    "start_time": "2024-02-05T11:39:49.464Z"
   },
   {
    "duration": 0,
    "start_time": "2024-02-05T11:39:49.464Z"
   },
   {
    "duration": 0,
    "start_time": "2024-02-05T11:39:49.466Z"
   },
   {
    "duration": 0,
    "start_time": "2024-02-05T11:39:49.467Z"
   },
   {
    "duration": 0,
    "start_time": "2024-02-05T11:39:49.468Z"
   },
   {
    "duration": 0,
    "start_time": "2024-02-05T11:39:49.468Z"
   },
   {
    "duration": 0,
    "start_time": "2024-02-05T11:39:49.470Z"
   },
   {
    "duration": 0,
    "start_time": "2024-02-05T11:39:49.471Z"
   },
   {
    "duration": 0,
    "start_time": "2024-02-05T11:39:49.472Z"
   },
   {
    "duration": 0,
    "start_time": "2024-02-05T11:39:49.473Z"
   },
   {
    "duration": 0,
    "start_time": "2024-02-05T11:39:49.474Z"
   },
   {
    "duration": 0,
    "start_time": "2024-02-05T11:39:49.475Z"
   },
   {
    "duration": 0,
    "start_time": "2024-02-05T11:39:49.475Z"
   },
   {
    "duration": 0,
    "start_time": "2024-02-05T11:39:49.476Z"
   },
   {
    "duration": 0,
    "start_time": "2024-02-05T11:39:49.478Z"
   },
   {
    "duration": 0,
    "start_time": "2024-02-05T11:39:49.479Z"
   },
   {
    "duration": 0,
    "start_time": "2024-02-05T11:39:49.479Z"
   },
   {
    "duration": 0,
    "start_time": "2024-02-05T11:39:49.481Z"
   },
   {
    "duration": 0,
    "start_time": "2024-02-05T11:39:49.481Z"
   },
   {
    "duration": 0,
    "start_time": "2024-02-05T11:39:49.482Z"
   },
   {
    "duration": 22,
    "start_time": "2024-02-05T11:41:53.928Z"
   },
   {
    "duration": 97,
    "start_time": "2024-02-05T11:43:02.490Z"
   },
   {
    "duration": 25,
    "start_time": "2024-02-05T11:44:34.584Z"
   },
   {
    "duration": 21,
    "start_time": "2024-02-05T11:45:01.744Z"
   },
   {
    "duration": 21,
    "start_time": "2024-02-05T11:45:20.802Z"
   },
   {
    "duration": 568,
    "start_time": "2024-02-05T11:45:27.459Z"
   },
   {
    "duration": 57,
    "start_time": "2024-02-05T11:45:28.030Z"
   },
   {
    "duration": 2447,
    "start_time": "2024-02-05T11:45:28.089Z"
   },
   {
    "duration": 22,
    "start_time": "2024-02-05T11:45:30.538Z"
   },
   {
    "duration": 38,
    "start_time": "2024-02-05T11:45:30.562Z"
   },
   {
    "duration": 34,
    "start_time": "2024-02-05T11:45:30.602Z"
   },
   {
    "duration": 36,
    "start_time": "2024-02-05T11:45:30.639Z"
   },
   {
    "duration": 72,
    "start_time": "2024-02-05T11:45:30.677Z"
   },
   {
    "duration": 127,
    "start_time": "2024-02-05T11:45:30.751Z"
   },
   {
    "duration": 7,
    "start_time": "2024-02-05T11:45:30.881Z"
   },
   {
    "duration": 37,
    "start_time": "2024-02-05T11:45:30.889Z"
   },
   {
    "duration": 28,
    "start_time": "2024-02-05T11:45:30.928Z"
   },
   {
    "duration": 27,
    "start_time": "2024-02-05T11:45:30.958Z"
   },
   {
    "duration": 14,
    "start_time": "2024-02-05T11:45:30.987Z"
   },
   {
    "duration": 33,
    "start_time": "2024-02-05T11:45:31.003Z"
   },
   {
    "duration": 11,
    "start_time": "2024-02-05T11:45:31.038Z"
   },
   {
    "duration": 114,
    "start_time": "2024-02-05T11:45:31.050Z"
   },
   {
    "duration": 0,
    "start_time": "2024-02-05T11:45:31.168Z"
   },
   {
    "duration": 0,
    "start_time": "2024-02-05T11:45:31.170Z"
   },
   {
    "duration": 0,
    "start_time": "2024-02-05T11:45:31.171Z"
   },
   {
    "duration": 0,
    "start_time": "2024-02-05T11:45:31.172Z"
   },
   {
    "duration": 0,
    "start_time": "2024-02-05T11:45:31.174Z"
   },
   {
    "duration": 0,
    "start_time": "2024-02-05T11:45:31.175Z"
   },
   {
    "duration": 0,
    "start_time": "2024-02-05T11:45:31.176Z"
   },
   {
    "duration": 0,
    "start_time": "2024-02-05T11:45:31.177Z"
   },
   {
    "duration": 0,
    "start_time": "2024-02-05T11:45:31.178Z"
   },
   {
    "duration": 0,
    "start_time": "2024-02-05T11:45:31.180Z"
   },
   {
    "duration": 0,
    "start_time": "2024-02-05T11:45:31.181Z"
   },
   {
    "duration": 0,
    "start_time": "2024-02-05T11:45:31.182Z"
   },
   {
    "duration": 0,
    "start_time": "2024-02-05T11:45:31.183Z"
   },
   {
    "duration": 0,
    "start_time": "2024-02-05T11:45:31.185Z"
   },
   {
    "duration": 0,
    "start_time": "2024-02-05T11:45:31.186Z"
   },
   {
    "duration": 0,
    "start_time": "2024-02-05T11:45:31.187Z"
   },
   {
    "duration": 0,
    "start_time": "2024-02-05T11:45:31.188Z"
   },
   {
    "duration": 0,
    "start_time": "2024-02-05T11:45:31.189Z"
   },
   {
    "duration": 0,
    "start_time": "2024-02-05T11:45:31.190Z"
   },
   {
    "duration": 0,
    "start_time": "2024-02-05T11:45:31.191Z"
   },
   {
    "duration": 0,
    "start_time": "2024-02-05T11:45:31.192Z"
   },
   {
    "duration": 0,
    "start_time": "2024-02-05T11:45:31.193Z"
   },
   {
    "duration": 1,
    "start_time": "2024-02-05T11:45:31.194Z"
   },
   {
    "duration": 0,
    "start_time": "2024-02-05T11:45:31.196Z"
   },
   {
    "duration": 0,
    "start_time": "2024-02-05T11:45:31.196Z"
   },
   {
    "duration": 0,
    "start_time": "2024-02-05T11:45:31.198Z"
   },
   {
    "duration": 0,
    "start_time": "2024-02-05T11:45:31.199Z"
   },
   {
    "duration": 0,
    "start_time": "2024-02-05T11:45:31.200Z"
   },
   {
    "duration": 0,
    "start_time": "2024-02-05T11:45:31.201Z"
   },
   {
    "duration": 0,
    "start_time": "2024-02-05T11:45:31.202Z"
   },
   {
    "duration": 0,
    "start_time": "2024-02-05T11:45:31.203Z"
   },
   {
    "duration": 0,
    "start_time": "2024-02-05T11:45:31.204Z"
   },
   {
    "duration": 0,
    "start_time": "2024-02-05T11:45:31.205Z"
   },
   {
    "duration": 0,
    "start_time": "2024-02-05T11:45:31.259Z"
   },
   {
    "duration": 0,
    "start_time": "2024-02-05T11:45:31.260Z"
   },
   {
    "duration": 0,
    "start_time": "2024-02-05T11:45:31.261Z"
   },
   {
    "duration": 0,
    "start_time": "2024-02-05T11:45:31.262Z"
   },
   {
    "duration": 0,
    "start_time": "2024-02-05T11:45:31.264Z"
   },
   {
    "duration": 0,
    "start_time": "2024-02-05T11:45:31.265Z"
   },
   {
    "duration": 0,
    "start_time": "2024-02-05T11:45:31.266Z"
   },
   {
    "duration": 0,
    "start_time": "2024-02-05T11:45:31.267Z"
   },
   {
    "duration": 0,
    "start_time": "2024-02-05T11:45:31.268Z"
   },
   {
    "duration": 0,
    "start_time": "2024-02-05T11:45:31.269Z"
   },
   {
    "duration": 0,
    "start_time": "2024-02-05T11:45:31.270Z"
   },
   {
    "duration": 0,
    "start_time": "2024-02-05T11:45:31.271Z"
   },
   {
    "duration": 0,
    "start_time": "2024-02-05T11:45:31.272Z"
   },
   {
    "duration": 0,
    "start_time": "2024-02-05T11:45:31.273Z"
   },
   {
    "duration": 0,
    "start_time": "2024-02-05T11:45:31.274Z"
   },
   {
    "duration": 0,
    "start_time": "2024-02-05T11:45:31.275Z"
   },
   {
    "duration": 0,
    "start_time": "2024-02-05T11:45:31.276Z"
   },
   {
    "duration": 0,
    "start_time": "2024-02-05T11:45:31.278Z"
   },
   {
    "duration": 0,
    "start_time": "2024-02-05T11:45:31.279Z"
   },
   {
    "duration": 0,
    "start_time": "2024-02-05T11:45:31.280Z"
   },
   {
    "duration": 0,
    "start_time": "2024-02-05T11:45:31.281Z"
   },
   {
    "duration": 0,
    "start_time": "2024-02-05T11:45:31.282Z"
   },
   {
    "duration": 0,
    "start_time": "2024-02-05T11:45:31.283Z"
   },
   {
    "duration": 0,
    "start_time": "2024-02-05T11:45:31.284Z"
   },
   {
    "duration": 21,
    "start_time": "2024-02-05T11:47:51.371Z"
   },
   {
    "duration": 22,
    "start_time": "2024-02-05T11:47:59.018Z"
   },
   {
    "duration": 26,
    "start_time": "2024-02-05T11:48:10.874Z"
   },
   {
    "duration": 29,
    "start_time": "2024-02-05T11:48:38.144Z"
   },
   {
    "duration": 98,
    "start_time": "2024-02-05T11:48:45.346Z"
   },
   {
    "duration": 27,
    "start_time": "2024-02-05T11:48:56.677Z"
   },
   {
    "duration": 531,
    "start_time": "2024-02-05T11:49:02.414Z"
   },
   {
    "duration": 44,
    "start_time": "2024-02-05T11:49:02.947Z"
   },
   {
    "duration": 2439,
    "start_time": "2024-02-05T11:49:02.993Z"
   },
   {
    "duration": 11,
    "start_time": "2024-02-05T11:49:05.434Z"
   },
   {
    "duration": 12,
    "start_time": "2024-02-05T11:49:05.447Z"
   },
   {
    "duration": 6,
    "start_time": "2024-02-05T11:49:05.461Z"
   },
   {
    "duration": 7,
    "start_time": "2024-02-05T11:49:05.469Z"
   },
   {
    "duration": 10,
    "start_time": "2024-02-05T11:49:05.478Z"
   },
   {
    "duration": 81,
    "start_time": "2024-02-05T11:49:05.489Z"
   },
   {
    "duration": 7,
    "start_time": "2024-02-05T11:49:05.573Z"
   },
   {
    "duration": 11,
    "start_time": "2024-02-05T11:49:05.581Z"
   },
   {
    "duration": 13,
    "start_time": "2024-02-05T11:49:05.593Z"
   },
   {
    "duration": 27,
    "start_time": "2024-02-05T11:49:05.607Z"
   },
   {
    "duration": 3,
    "start_time": "2024-02-05T11:49:05.636Z"
   },
   {
    "duration": 36,
    "start_time": "2024-02-05T11:49:05.640Z"
   },
   {
    "duration": 10,
    "start_time": "2024-02-05T11:49:05.677Z"
   },
   {
    "duration": 102,
    "start_time": "2024-02-05T11:49:05.689Z"
   },
   {
    "duration": 0,
    "start_time": "2024-02-05T11:49:05.795Z"
   },
   {
    "duration": 0,
    "start_time": "2024-02-05T11:49:05.796Z"
   },
   {
    "duration": 0,
    "start_time": "2024-02-05T11:49:05.797Z"
   },
   {
    "duration": 0,
    "start_time": "2024-02-05T11:49:05.798Z"
   },
   {
    "duration": 0,
    "start_time": "2024-02-05T11:49:05.799Z"
   },
   {
    "duration": 0,
    "start_time": "2024-02-05T11:49:05.800Z"
   },
   {
    "duration": 0,
    "start_time": "2024-02-05T11:49:05.801Z"
   },
   {
    "duration": 0,
    "start_time": "2024-02-05T11:49:05.803Z"
   },
   {
    "duration": 0,
    "start_time": "2024-02-05T11:49:05.804Z"
   },
   {
    "duration": 0,
    "start_time": "2024-02-05T11:49:05.805Z"
   },
   {
    "duration": 0,
    "start_time": "2024-02-05T11:49:05.806Z"
   },
   {
    "duration": 0,
    "start_time": "2024-02-05T11:49:05.807Z"
   },
   {
    "duration": 0,
    "start_time": "2024-02-05T11:49:05.808Z"
   },
   {
    "duration": 0,
    "start_time": "2024-02-05T11:49:05.809Z"
   },
   {
    "duration": 0,
    "start_time": "2024-02-05T11:49:05.810Z"
   },
   {
    "duration": 0,
    "start_time": "2024-02-05T11:49:05.811Z"
   },
   {
    "duration": 0,
    "start_time": "2024-02-05T11:49:05.812Z"
   },
   {
    "duration": 0,
    "start_time": "2024-02-05T11:49:05.813Z"
   },
   {
    "duration": 0,
    "start_time": "2024-02-05T11:49:05.814Z"
   },
   {
    "duration": 0,
    "start_time": "2024-02-05T11:49:05.815Z"
   },
   {
    "duration": 0,
    "start_time": "2024-02-05T11:49:05.816Z"
   },
   {
    "duration": 0,
    "start_time": "2024-02-05T11:49:05.817Z"
   },
   {
    "duration": 0,
    "start_time": "2024-02-05T11:49:05.818Z"
   },
   {
    "duration": 0,
    "start_time": "2024-02-05T11:49:05.858Z"
   },
   {
    "duration": 0,
    "start_time": "2024-02-05T11:49:05.859Z"
   },
   {
    "duration": 0,
    "start_time": "2024-02-05T11:49:05.861Z"
   },
   {
    "duration": 0,
    "start_time": "2024-02-05T11:49:05.862Z"
   },
   {
    "duration": 0,
    "start_time": "2024-02-05T11:49:05.864Z"
   },
   {
    "duration": 0,
    "start_time": "2024-02-05T11:49:05.865Z"
   },
   {
    "duration": 0,
    "start_time": "2024-02-05T11:49:05.866Z"
   },
   {
    "duration": 0,
    "start_time": "2024-02-05T11:49:05.867Z"
   },
   {
    "duration": 0,
    "start_time": "2024-02-05T11:49:05.868Z"
   },
   {
    "duration": 0,
    "start_time": "2024-02-05T11:49:05.869Z"
   },
   {
    "duration": 0,
    "start_time": "2024-02-05T11:49:05.871Z"
   },
   {
    "duration": 0,
    "start_time": "2024-02-05T11:49:05.872Z"
   },
   {
    "duration": 0,
    "start_time": "2024-02-05T11:49:05.873Z"
   },
   {
    "duration": 0,
    "start_time": "2024-02-05T11:49:05.875Z"
   },
   {
    "duration": 0,
    "start_time": "2024-02-05T11:49:05.877Z"
   },
   {
    "duration": 0,
    "start_time": "2024-02-05T11:49:05.878Z"
   },
   {
    "duration": 0,
    "start_time": "2024-02-05T11:49:05.879Z"
   },
   {
    "duration": 0,
    "start_time": "2024-02-05T11:49:05.880Z"
   },
   {
    "duration": 0,
    "start_time": "2024-02-05T11:49:05.881Z"
   },
   {
    "duration": 0,
    "start_time": "2024-02-05T11:49:05.882Z"
   },
   {
    "duration": 0,
    "start_time": "2024-02-05T11:49:05.883Z"
   },
   {
    "duration": 0,
    "start_time": "2024-02-05T11:49:05.884Z"
   },
   {
    "duration": 0,
    "start_time": "2024-02-05T11:49:05.885Z"
   },
   {
    "duration": 0,
    "start_time": "2024-02-05T11:49:05.886Z"
   },
   {
    "duration": 0,
    "start_time": "2024-02-05T11:49:05.887Z"
   },
   {
    "duration": 0,
    "start_time": "2024-02-05T11:49:05.888Z"
   },
   {
    "duration": 0,
    "start_time": "2024-02-05T11:49:05.890Z"
   },
   {
    "duration": 0,
    "start_time": "2024-02-05T11:49:05.891Z"
   },
   {
    "duration": 0,
    "start_time": "2024-02-05T11:49:05.892Z"
   },
   {
    "duration": 0,
    "start_time": "2024-02-05T11:49:05.893Z"
   },
   {
    "duration": 0,
    "start_time": "2024-02-05T11:49:05.894Z"
   },
   {
    "duration": 0,
    "start_time": "2024-02-05T11:49:05.895Z"
   },
   {
    "duration": 0,
    "start_time": "2024-02-05T11:49:05.896Z"
   },
   {
    "duration": 0,
    "start_time": "2024-02-05T11:49:05.960Z"
   },
   {
    "duration": 27,
    "start_time": "2024-02-05T11:51:00.048Z"
   },
   {
    "duration": 27,
    "start_time": "2024-02-05T11:52:12.422Z"
   },
   {
    "duration": 54,
    "start_time": "2024-02-05T11:52:47.793Z"
   },
   {
    "duration": 590,
    "start_time": "2024-02-05T11:52:56.746Z"
   },
   {
    "duration": 46,
    "start_time": "2024-02-05T11:52:57.339Z"
   },
   {
    "duration": 2376,
    "start_time": "2024-02-05T11:52:57.387Z"
   },
   {
    "duration": 11,
    "start_time": "2024-02-05T11:52:59.766Z"
   },
   {
    "duration": 14,
    "start_time": "2024-02-05T11:52:59.778Z"
   },
   {
    "duration": 13,
    "start_time": "2024-02-05T11:52:59.793Z"
   },
   {
    "duration": 5,
    "start_time": "2024-02-05T11:52:59.808Z"
   },
   {
    "duration": 9,
    "start_time": "2024-02-05T11:52:59.815Z"
   },
   {
    "duration": 85,
    "start_time": "2024-02-05T11:52:59.826Z"
   },
   {
    "duration": 7,
    "start_time": "2024-02-05T11:52:59.914Z"
   },
   {
    "duration": 8,
    "start_time": "2024-02-05T11:52:59.923Z"
   },
   {
    "duration": 27,
    "start_time": "2024-02-05T11:52:59.932Z"
   },
   {
    "duration": 9,
    "start_time": "2024-02-05T11:52:59.961Z"
   },
   {
    "duration": 2,
    "start_time": "2024-02-05T11:52:59.972Z"
   },
   {
    "duration": 26,
    "start_time": "2024-02-05T11:52:59.976Z"
   },
   {
    "duration": 9,
    "start_time": "2024-02-05T11:53:00.004Z"
   },
   {
    "duration": 142,
    "start_time": "2024-02-05T11:53:00.015Z"
   },
   {
    "duration": 0,
    "start_time": "2024-02-05T11:53:00.161Z"
   },
   {
    "duration": 0,
    "start_time": "2024-02-05T11:53:00.163Z"
   },
   {
    "duration": 0,
    "start_time": "2024-02-05T11:53:00.164Z"
   },
   {
    "duration": 0,
    "start_time": "2024-02-05T11:53:00.165Z"
   },
   {
    "duration": 0,
    "start_time": "2024-02-05T11:53:00.166Z"
   },
   {
    "duration": 0,
    "start_time": "2024-02-05T11:53:00.167Z"
   },
   {
    "duration": 0,
    "start_time": "2024-02-05T11:53:00.169Z"
   },
   {
    "duration": 0,
    "start_time": "2024-02-05T11:53:00.169Z"
   },
   {
    "duration": 0,
    "start_time": "2024-02-05T11:53:00.170Z"
   },
   {
    "duration": 0,
    "start_time": "2024-02-05T11:53:00.171Z"
   },
   {
    "duration": 0,
    "start_time": "2024-02-05T11:53:00.172Z"
   },
   {
    "duration": 0,
    "start_time": "2024-02-05T11:53:00.173Z"
   },
   {
    "duration": 0,
    "start_time": "2024-02-05T11:53:00.175Z"
   },
   {
    "duration": 0,
    "start_time": "2024-02-05T11:53:00.176Z"
   },
   {
    "duration": 0,
    "start_time": "2024-02-05T11:53:00.177Z"
   },
   {
    "duration": 0,
    "start_time": "2024-02-05T11:53:00.178Z"
   },
   {
    "duration": 0,
    "start_time": "2024-02-05T11:53:00.179Z"
   },
   {
    "duration": 0,
    "start_time": "2024-02-05T11:53:00.180Z"
   },
   {
    "duration": 0,
    "start_time": "2024-02-05T11:53:00.181Z"
   },
   {
    "duration": 0,
    "start_time": "2024-02-05T11:53:00.182Z"
   },
   {
    "duration": 0,
    "start_time": "2024-02-05T11:53:00.183Z"
   },
   {
    "duration": 0,
    "start_time": "2024-02-05T11:53:00.184Z"
   },
   {
    "duration": 0,
    "start_time": "2024-02-05T11:53:00.185Z"
   },
   {
    "duration": 0,
    "start_time": "2024-02-05T11:53:00.186Z"
   },
   {
    "duration": 0,
    "start_time": "2024-02-05T11:53:00.187Z"
   },
   {
    "duration": 0,
    "start_time": "2024-02-05T11:53:00.188Z"
   },
   {
    "duration": 0,
    "start_time": "2024-02-05T11:53:00.190Z"
   },
   {
    "duration": 0,
    "start_time": "2024-02-05T11:53:00.190Z"
   },
   {
    "duration": 0,
    "start_time": "2024-02-05T11:53:00.191Z"
   },
   {
    "duration": 0,
    "start_time": "2024-02-05T11:53:00.193Z"
   },
   {
    "duration": 0,
    "start_time": "2024-02-05T11:53:00.193Z"
   },
   {
    "duration": 0,
    "start_time": "2024-02-05T11:53:00.195Z"
   },
   {
    "duration": 0,
    "start_time": "2024-02-05T11:53:00.196Z"
   },
   {
    "duration": 0,
    "start_time": "2024-02-05T11:53:00.197Z"
   },
   {
    "duration": 0,
    "start_time": "2024-02-05T11:53:00.198Z"
   },
   {
    "duration": 0,
    "start_time": "2024-02-05T11:53:00.199Z"
   },
   {
    "duration": 0,
    "start_time": "2024-02-05T11:53:00.200Z"
   },
   {
    "duration": 0,
    "start_time": "2024-02-05T11:53:00.259Z"
   },
   {
    "duration": 0,
    "start_time": "2024-02-05T11:53:00.260Z"
   },
   {
    "duration": 0,
    "start_time": "2024-02-05T11:53:00.261Z"
   },
   {
    "duration": 0,
    "start_time": "2024-02-05T11:53:00.262Z"
   },
   {
    "duration": 0,
    "start_time": "2024-02-05T11:53:00.263Z"
   },
   {
    "duration": 0,
    "start_time": "2024-02-05T11:53:00.264Z"
   },
   {
    "duration": 0,
    "start_time": "2024-02-05T11:53:00.265Z"
   },
   {
    "duration": 0,
    "start_time": "2024-02-05T11:53:00.267Z"
   },
   {
    "duration": 0,
    "start_time": "2024-02-05T11:53:00.268Z"
   },
   {
    "duration": 0,
    "start_time": "2024-02-05T11:53:00.269Z"
   },
   {
    "duration": 0,
    "start_time": "2024-02-05T11:53:00.270Z"
   },
   {
    "duration": 0,
    "start_time": "2024-02-05T11:53:00.271Z"
   },
   {
    "duration": 0,
    "start_time": "2024-02-05T11:53:00.272Z"
   },
   {
    "duration": 0,
    "start_time": "2024-02-05T11:53:00.273Z"
   },
   {
    "duration": 0,
    "start_time": "2024-02-05T11:53:00.274Z"
   },
   {
    "duration": 0,
    "start_time": "2024-02-05T11:53:00.275Z"
   },
   {
    "duration": 0,
    "start_time": "2024-02-05T11:53:00.276Z"
   },
   {
    "duration": 0,
    "start_time": "2024-02-05T11:53:00.277Z"
   },
   {
    "duration": 0,
    "start_time": "2024-02-05T11:53:00.278Z"
   },
   {
    "duration": 0,
    "start_time": "2024-02-05T11:53:00.279Z"
   },
   {
    "duration": 13,
    "start_time": "2024-02-05T11:53:29.891Z"
   },
   {
    "duration": 4,
    "start_time": "2024-02-05T11:54:01.924Z"
   },
   {
    "duration": 2,
    "start_time": "2024-02-05T11:54:04.643Z"
   },
   {
    "duration": 16,
    "start_time": "2024-02-05T11:54:05.165Z"
   },
   {
    "duration": 29,
    "start_time": "2024-02-05T11:54:31.971Z"
   },
   {
    "duration": 30,
    "start_time": "2024-02-05T11:54:57.521Z"
   },
   {
    "duration": 571,
    "start_time": "2024-02-05T11:55:16.250Z"
   },
   {
    "duration": 40,
    "start_time": "2024-02-05T11:55:17.182Z"
   },
   {
    "duration": 2381,
    "start_time": "2024-02-05T11:55:24.171Z"
   },
   {
    "duration": 10,
    "start_time": "2024-02-05T11:55:31.324Z"
   },
   {
    "duration": 13,
    "start_time": "2024-02-05T11:55:35.965Z"
   },
   {
    "duration": 6,
    "start_time": "2024-02-05T11:55:40.311Z"
   },
   {
    "duration": 6,
    "start_time": "2024-02-05T11:55:41.328Z"
   },
   {
    "duration": 9,
    "start_time": "2024-02-05T11:55:43.785Z"
   },
   {
    "duration": 62,
    "start_time": "2024-02-05T11:55:46.123Z"
   },
   {
    "duration": 8,
    "start_time": "2024-02-05T11:55:47.340Z"
   },
   {
    "duration": 6,
    "start_time": "2024-02-05T11:55:48.737Z"
   },
   {
    "duration": 6,
    "start_time": "2024-02-05T11:55:49.610Z"
   },
   {
    "duration": 10,
    "start_time": "2024-02-05T11:55:53.421Z"
   },
   {
    "duration": 51,
    "start_time": "2024-02-05T11:55:58.141Z"
   },
   {
    "duration": 108,
    "start_time": "2024-02-05T11:56:08.435Z"
   },
   {
    "duration": 34,
    "start_time": "2024-02-05T11:56:47.254Z"
   },
   {
    "duration": 32,
    "start_time": "2024-02-05T11:56:55.159Z"
   },
   {
    "duration": 18,
    "start_time": "2024-02-05T11:58:15.126Z"
   },
   {
    "duration": 97,
    "start_time": "2024-02-05T11:58:31.932Z"
   },
   {
    "duration": 30,
    "start_time": "2024-02-05T11:58:46.069Z"
   },
   {
    "duration": 33,
    "start_time": "2024-02-05T11:59:35.888Z"
   },
   {
    "duration": 29,
    "start_time": "2024-02-05T12:00:05.246Z"
   },
   {
    "duration": 28,
    "start_time": "2024-02-05T12:00:29.468Z"
   },
   {
    "duration": 28,
    "start_time": "2024-02-05T12:01:04.209Z"
   },
   {
    "duration": 11,
    "start_time": "2024-02-05T12:07:39.111Z"
   },
   {
    "duration": 10,
    "start_time": "2024-02-05T12:07:50.179Z"
   },
   {
    "duration": 15,
    "start_time": "2024-02-05T12:08:00.653Z"
   },
   {
    "duration": 5,
    "start_time": "2024-02-05T12:08:23.916Z"
   },
   {
    "duration": 3,
    "start_time": "2024-02-05T12:08:29.846Z"
   },
   {
    "duration": 14,
    "start_time": "2024-02-05T12:08:30.459Z"
   },
   {
    "duration": 26,
    "start_time": "2024-02-05T12:08:47.425Z"
   },
   {
    "duration": 8,
    "start_time": "2024-02-05T12:08:48.742Z"
   },
   {
    "duration": 52,
    "start_time": "2024-02-05T12:08:49.609Z"
   },
   {
    "duration": 8,
    "start_time": "2024-02-05T12:08:50.456Z"
   },
   {
    "duration": 464,
    "start_time": "2024-02-05T12:08:59.923Z"
   },
   {
    "duration": 577,
    "start_time": "2024-02-05T12:09:15.168Z"
   },
   {
    "duration": 42,
    "start_time": "2024-02-05T12:09:15.747Z"
   },
   {
    "duration": 2381,
    "start_time": "2024-02-05T12:09:15.791Z"
   },
   {
    "duration": 11,
    "start_time": "2024-02-05T12:09:18.174Z"
   },
   {
    "duration": 14,
    "start_time": "2024-02-05T12:09:18.186Z"
   },
   {
    "duration": 6,
    "start_time": "2024-02-05T12:09:18.202Z"
   },
   {
    "duration": 6,
    "start_time": "2024-02-05T12:09:18.210Z"
   },
   {
    "duration": 9,
    "start_time": "2024-02-05T12:09:18.218Z"
   },
   {
    "duration": 85,
    "start_time": "2024-02-05T12:09:18.228Z"
   },
   {
    "duration": 6,
    "start_time": "2024-02-05T12:09:18.316Z"
   },
   {
    "duration": 7,
    "start_time": "2024-02-05T12:09:18.324Z"
   },
   {
    "duration": 8,
    "start_time": "2024-02-05T12:09:18.332Z"
   },
   {
    "duration": 8,
    "start_time": "2024-02-05T12:09:18.358Z"
   },
   {
    "duration": 2,
    "start_time": "2024-02-05T12:09:18.368Z"
   },
   {
    "duration": 30,
    "start_time": "2024-02-05T12:09:18.371Z"
   },
   {
    "duration": 10,
    "start_time": "2024-02-05T12:09:18.402Z"
   },
   {
    "duration": 11,
    "start_time": "2024-02-05T12:09:18.413Z"
   },
   {
    "duration": 2,
    "start_time": "2024-02-05T12:09:18.426Z"
   },
   {
    "duration": 42,
    "start_time": "2024-02-05T12:09:18.430Z"
   },
   {
    "duration": 25,
    "start_time": "2024-02-05T12:09:18.473Z"
   },
   {
    "duration": 13,
    "start_time": "2024-02-05T12:09:18.500Z"
   },
   {
    "duration": 71,
    "start_time": "2024-02-05T12:09:18.515Z"
   },
   {
    "duration": 9,
    "start_time": "2024-02-05T12:09:18.587Z"
   },
   {
    "duration": 402,
    "start_time": "2024-02-05T12:09:18.597Z"
   },
   {
    "duration": 9,
    "start_time": "2024-02-05T12:09:19.001Z"
   },
   {
    "duration": 184,
    "start_time": "2024-02-05T12:09:19.011Z"
   },
   {
    "duration": 10,
    "start_time": "2024-02-05T12:09:19.196Z"
   },
   {
    "duration": 9,
    "start_time": "2024-02-05T12:09:19.210Z"
   },
   {
    "duration": 6,
    "start_time": "2024-02-05T12:09:19.221Z"
   },
   {
    "duration": 187,
    "start_time": "2024-02-05T12:09:19.229Z"
   },
   {
    "duration": 7,
    "start_time": "2024-02-05T12:09:19.418Z"
   },
   {
    "duration": 16,
    "start_time": "2024-02-05T12:09:19.427Z"
   },
   {
    "duration": 50,
    "start_time": "2024-02-05T12:09:19.445Z"
   },
   {
    "duration": 6,
    "start_time": "2024-02-05T12:09:19.497Z"
   },
   {
    "duration": 57,
    "start_time": "2024-02-05T12:09:19.504Z"
   },
   {
    "duration": 6,
    "start_time": "2024-02-05T12:09:19.563Z"
   },
   {
    "duration": 146,
    "start_time": "2024-02-05T12:09:19.571Z"
   },
   {
    "duration": 9,
    "start_time": "2024-02-05T12:09:19.719Z"
   },
   {
    "duration": 7,
    "start_time": "2024-02-05T12:09:19.730Z"
   },
   {
    "duration": 276,
    "start_time": "2024-02-05T12:09:19.738Z"
   },
   {
    "duration": 8,
    "start_time": "2024-02-05T12:09:20.016Z"
   },
   {
    "duration": 14,
    "start_time": "2024-02-05T12:09:20.025Z"
   },
   {
    "duration": 175,
    "start_time": "2024-02-05T12:09:20.041Z"
   },
   {
    "duration": 7,
    "start_time": "2024-02-05T12:09:20.218Z"
   },
   {
    "duration": 10,
    "start_time": "2024-02-05T12:09:20.227Z"
   },
   {
    "duration": 23,
    "start_time": "2024-02-05T12:09:20.239Z"
   },
   {
    "duration": 34,
    "start_time": "2024-02-05T12:09:20.263Z"
   },
   {
    "duration": 4,
    "start_time": "2024-02-05T12:09:20.299Z"
   },
   {
    "duration": 171,
    "start_time": "2024-02-05T12:09:20.304Z"
   },
   {
    "duration": 9,
    "start_time": "2024-02-05T12:09:20.476Z"
   },
   {
    "duration": 7,
    "start_time": "2024-02-05T12:09:20.487Z"
   },
   {
    "duration": 179,
    "start_time": "2024-02-05T12:09:20.495Z"
   },
   {
    "duration": 139,
    "start_time": "2024-02-05T12:09:20.676Z"
   },
   {
    "duration": 9,
    "start_time": "2024-02-05T12:09:20.816Z"
   },
   {
    "duration": 178,
    "start_time": "2024-02-05T12:09:20.826Z"
   },
   {
    "duration": 9,
    "start_time": "2024-02-05T12:09:21.006Z"
   },
   {
    "duration": 180,
    "start_time": "2024-02-05T12:09:21.016Z"
   },
   {
    "duration": 9,
    "start_time": "2024-02-05T12:09:21.198Z"
   },
   {
    "duration": 201,
    "start_time": "2024-02-05T12:09:21.209Z"
   },
   {
    "duration": 10,
    "start_time": "2024-02-05T12:09:21.412Z"
   },
   {
    "duration": 15,
    "start_time": "2024-02-05T12:09:21.423Z"
   },
   {
    "duration": 37,
    "start_time": "2024-02-05T12:09:21.440Z"
   },
   {
    "duration": 157,
    "start_time": "2024-02-05T12:09:21.479Z"
   },
   {
    "duration": 7,
    "start_time": "2024-02-05T12:09:21.638Z"
   },
   {
    "duration": 4,
    "start_time": "2024-02-05T12:09:21.658Z"
   },
   {
    "duration": 14,
    "start_time": "2024-02-05T12:09:21.663Z"
   },
   {
    "duration": 475,
    "start_time": "2024-02-05T12:09:21.679Z"
   },
   {
    "duration": 101,
    "start_time": "2024-02-05T12:09:22.159Z"
   },
   {
    "duration": 0,
    "start_time": "2024-02-05T12:09:22.262Z"
   },
   {
    "duration": 0,
    "start_time": "2024-02-05T12:09:22.264Z"
   },
   {
    "duration": 0,
    "start_time": "2024-02-05T12:09:22.265Z"
   },
   {
    "duration": 0,
    "start_time": "2024-02-05T12:09:22.266Z"
   },
   {
    "duration": 0,
    "start_time": "2024-02-05T12:09:22.268Z"
   },
   {
    "duration": 0,
    "start_time": "2024-02-05T12:09:22.269Z"
   },
   {
    "duration": 566,
    "start_time": "2024-02-05T12:10:31.163Z"
   },
   {
    "duration": 46,
    "start_time": "2024-02-05T12:10:31.731Z"
   },
   {
    "duration": 2454,
    "start_time": "2024-02-05T12:10:31.778Z"
   },
   {
    "duration": 10,
    "start_time": "2024-02-05T12:10:34.234Z"
   },
   {
    "duration": 12,
    "start_time": "2024-02-05T12:10:34.246Z"
   },
   {
    "duration": 7,
    "start_time": "2024-02-05T12:10:34.259Z"
   },
   {
    "duration": 7,
    "start_time": "2024-02-05T12:10:34.267Z"
   },
   {
    "duration": 9,
    "start_time": "2024-02-05T12:10:34.275Z"
   },
   {
    "duration": 87,
    "start_time": "2024-02-05T12:10:34.286Z"
   },
   {
    "duration": 8,
    "start_time": "2024-02-05T12:10:34.376Z"
   },
   {
    "duration": 8,
    "start_time": "2024-02-05T12:10:34.385Z"
   },
   {
    "duration": 5,
    "start_time": "2024-02-05T12:10:34.395Z"
   },
   {
    "duration": 10,
    "start_time": "2024-02-05T12:10:34.402Z"
   },
   {
    "duration": 6,
    "start_time": "2024-02-05T12:10:34.414Z"
   },
   {
    "duration": 56,
    "start_time": "2024-02-05T12:10:34.422Z"
   },
   {
    "duration": 10,
    "start_time": "2024-02-05T12:10:34.480Z"
   },
   {
    "duration": 9,
    "start_time": "2024-02-05T12:10:34.491Z"
   },
   {
    "duration": 2,
    "start_time": "2024-02-05T12:10:34.502Z"
   },
   {
    "duration": 17,
    "start_time": "2024-02-05T12:10:34.506Z"
   },
   {
    "duration": 54,
    "start_time": "2024-02-05T12:10:34.524Z"
   },
   {
    "duration": 8,
    "start_time": "2024-02-05T12:10:34.580Z"
   },
   {
    "duration": 69,
    "start_time": "2024-02-05T12:10:34.590Z"
   },
   {
    "duration": 9,
    "start_time": "2024-02-05T12:10:34.661Z"
   },
   {
    "duration": 405,
    "start_time": "2024-02-05T12:10:34.672Z"
   },
   {
    "duration": 9,
    "start_time": "2024-02-05T12:10:35.079Z"
   },
   {
    "duration": 207,
    "start_time": "2024-02-05T12:10:35.089Z"
   },
   {
    "duration": 10,
    "start_time": "2024-02-05T12:10:35.298Z"
   },
   {
    "duration": 9,
    "start_time": "2024-02-05T12:10:35.312Z"
   },
   {
    "duration": 6,
    "start_time": "2024-02-05T12:10:35.323Z"
   },
   {
    "duration": 194,
    "start_time": "2024-02-05T12:10:35.331Z"
   },
   {
    "duration": 9,
    "start_time": "2024-02-05T12:10:35.527Z"
   },
   {
    "duration": 33,
    "start_time": "2024-02-05T12:10:35.538Z"
   },
   {
    "duration": 52,
    "start_time": "2024-02-05T12:10:35.573Z"
   },
   {
    "duration": 7,
    "start_time": "2024-02-05T12:10:35.628Z"
   },
   {
    "duration": 56,
    "start_time": "2024-02-05T12:10:35.637Z"
   },
   {
    "duration": 7,
    "start_time": "2024-02-05T12:10:35.696Z"
   },
   {
    "duration": 148,
    "start_time": "2024-02-05T12:10:35.705Z"
   },
   {
    "duration": 10,
    "start_time": "2024-02-05T12:10:35.859Z"
   },
   {
    "duration": 9,
    "start_time": "2024-02-05T12:10:35.870Z"
   },
   {
    "duration": 288,
    "start_time": "2024-02-05T12:10:35.880Z"
   },
   {
    "duration": 9,
    "start_time": "2024-02-05T12:10:36.170Z"
   },
   {
    "duration": 9,
    "start_time": "2024-02-05T12:10:36.181Z"
   },
   {
    "duration": 194,
    "start_time": "2024-02-05T12:10:36.192Z"
   },
   {
    "duration": 8,
    "start_time": "2024-02-05T12:10:36.388Z"
   },
   {
    "duration": 9,
    "start_time": "2024-02-05T12:10:36.398Z"
   },
   {
    "duration": 13,
    "start_time": "2024-02-05T12:10:36.408Z"
   },
   {
    "duration": 52,
    "start_time": "2024-02-05T12:10:36.423Z"
   },
   {
    "duration": 4,
    "start_time": "2024-02-05T12:10:36.477Z"
   },
   {
    "duration": 161,
    "start_time": "2024-02-05T12:10:36.483Z"
   },
   {
    "duration": 17,
    "start_time": "2024-02-05T12:10:36.646Z"
   },
   {
    "duration": 7,
    "start_time": "2024-02-05T12:10:36.664Z"
   },
   {
    "duration": 177,
    "start_time": "2024-02-05T12:10:36.672Z"
   },
   {
    "duration": 155,
    "start_time": "2024-02-05T12:10:36.851Z"
   },
   {
    "duration": 17,
    "start_time": "2024-02-05T12:10:37.007Z"
   },
   {
    "duration": 192,
    "start_time": "2024-02-05T12:10:37.027Z"
   },
   {
    "duration": 10,
    "start_time": "2024-02-05T12:10:37.220Z"
   },
   {
    "duration": 196,
    "start_time": "2024-02-05T12:10:37.231Z"
   },
   {
    "duration": 12,
    "start_time": "2024-02-05T12:10:37.429Z"
   },
   {
    "duration": 205,
    "start_time": "2024-02-05T12:10:37.443Z"
   },
   {
    "duration": 14,
    "start_time": "2024-02-05T12:10:37.649Z"
   },
   {
    "duration": 8,
    "start_time": "2024-02-05T12:10:37.666Z"
   },
   {
    "duration": 5,
    "start_time": "2024-02-05T12:10:37.676Z"
   },
   {
    "duration": 184,
    "start_time": "2024-02-05T12:10:37.683Z"
   },
   {
    "duration": 8,
    "start_time": "2024-02-05T12:10:37.868Z"
   },
   {
    "duration": 28,
    "start_time": "2024-02-05T12:10:37.877Z"
   },
   {
    "duration": 28,
    "start_time": "2024-02-05T12:10:37.906Z"
   },
   {
    "duration": 507,
    "start_time": "2024-02-05T12:10:37.936Z"
   },
   {
    "duration": 91,
    "start_time": "2024-02-05T12:10:38.445Z"
   },
   {
    "duration": 0,
    "start_time": "2024-02-05T12:10:38.538Z"
   },
   {
    "duration": 0,
    "start_time": "2024-02-05T12:10:38.540Z"
   },
   {
    "duration": 0,
    "start_time": "2024-02-05T12:10:38.541Z"
   },
   {
    "duration": 0,
    "start_time": "2024-02-05T12:10:38.559Z"
   },
   {
    "duration": 0,
    "start_time": "2024-02-05T12:10:38.560Z"
   },
   {
    "duration": 0,
    "start_time": "2024-02-05T12:10:38.562Z"
   },
   {
    "duration": 8,
    "start_time": "2024-02-05T12:14:48.585Z"
   },
   {
    "duration": 4,
    "start_time": "2024-02-05T12:15:12.289Z"
   },
   {
    "duration": 4,
    "start_time": "2024-02-05T12:16:18.421Z"
   },
   {
    "duration": 560,
    "start_time": "2024-02-05T12:16:51.797Z"
   },
   {
    "duration": 44,
    "start_time": "2024-02-05T12:16:52.359Z"
   },
   {
    "duration": 2452,
    "start_time": "2024-02-05T12:16:52.404Z"
   },
   {
    "duration": 11,
    "start_time": "2024-02-05T12:16:54.858Z"
   },
   {
    "duration": 12,
    "start_time": "2024-02-05T12:16:54.871Z"
   },
   {
    "duration": 8,
    "start_time": "2024-02-05T12:16:54.885Z"
   },
   {
    "duration": 6,
    "start_time": "2024-02-05T12:16:54.895Z"
   },
   {
    "duration": 33,
    "start_time": "2024-02-05T12:16:54.903Z"
   },
   {
    "duration": 76,
    "start_time": "2024-02-05T12:16:54.939Z"
   },
   {
    "duration": 8,
    "start_time": "2024-02-05T12:16:55.018Z"
   },
   {
    "duration": 33,
    "start_time": "2024-02-05T12:16:55.027Z"
   },
   {
    "duration": 33,
    "start_time": "2024-02-05T12:16:55.062Z"
   },
   {
    "duration": 14,
    "start_time": "2024-02-05T12:16:55.098Z"
   },
   {
    "duration": 7,
    "start_time": "2024-02-05T12:16:55.113Z"
   },
   {
    "duration": 42,
    "start_time": "2024-02-05T12:16:55.122Z"
   },
   {
    "duration": 12,
    "start_time": "2024-02-05T12:16:55.166Z"
   },
   {
    "duration": 9,
    "start_time": "2024-02-05T12:16:55.180Z"
   },
   {
    "duration": 9,
    "start_time": "2024-02-05T12:16:55.190Z"
   },
   {
    "duration": 30,
    "start_time": "2024-02-05T12:16:55.201Z"
   },
   {
    "duration": 30,
    "start_time": "2024-02-05T12:16:55.233Z"
   },
   {
    "duration": 8,
    "start_time": "2024-02-05T12:16:55.265Z"
   },
   {
    "duration": 52,
    "start_time": "2024-02-05T12:16:55.274Z"
   },
   {
    "duration": 32,
    "start_time": "2024-02-05T12:16:55.328Z"
   },
   {
    "duration": 396,
    "start_time": "2024-02-05T12:16:55.362Z"
   },
   {
    "duration": 3,
    "start_time": "2024-02-05T12:16:55.760Z"
   },
   {
    "duration": 12,
    "start_time": "2024-02-05T12:16:55.765Z"
   },
   {
    "duration": 199,
    "start_time": "2024-02-05T12:16:55.778Z"
   },
   {
    "duration": 11,
    "start_time": "2024-02-05T12:16:55.981Z"
   },
   {
    "duration": 11,
    "start_time": "2024-02-05T12:16:55.993Z"
   },
   {
    "duration": 6,
    "start_time": "2024-02-05T12:16:56.005Z"
   },
   {
    "duration": 189,
    "start_time": "2024-02-05T12:16:56.013Z"
   },
   {
    "duration": 9,
    "start_time": "2024-02-05T12:16:56.205Z"
   },
   {
    "duration": 16,
    "start_time": "2024-02-05T12:16:56.216Z"
   },
   {
    "duration": 61,
    "start_time": "2024-02-05T12:16:56.234Z"
   },
   {
    "duration": 7,
    "start_time": "2024-02-05T12:16:56.297Z"
   },
   {
    "duration": 65,
    "start_time": "2024-02-05T12:16:56.305Z"
   },
   {
    "duration": 8,
    "start_time": "2024-02-05T12:16:56.372Z"
   },
   {
    "duration": 152,
    "start_time": "2024-02-05T12:16:56.381Z"
   },
   {
    "duration": 11,
    "start_time": "2024-02-05T12:16:56.535Z"
   },
   {
    "duration": 8,
    "start_time": "2024-02-05T12:16:56.559Z"
   },
   {
    "duration": 264,
    "start_time": "2024-02-05T12:16:56.569Z"
   },
   {
    "duration": 8,
    "start_time": "2024-02-05T12:16:56.835Z"
   },
   {
    "duration": 19,
    "start_time": "2024-02-05T12:16:56.845Z"
   },
   {
    "duration": 193,
    "start_time": "2024-02-05T12:16:56.866Z"
   },
   {
    "duration": 8,
    "start_time": "2024-02-05T12:16:57.061Z"
   },
   {
    "duration": 9,
    "start_time": "2024-02-05T12:16:57.071Z"
   },
   {
    "duration": 5,
    "start_time": "2024-02-05T12:16:57.082Z"
   },
   {
    "duration": 41,
    "start_time": "2024-02-05T12:16:57.089Z"
   },
   {
    "duration": 6,
    "start_time": "2024-02-05T12:16:57.159Z"
   },
   {
    "duration": 168,
    "start_time": "2024-02-05T12:16:57.167Z"
   },
   {
    "duration": 9,
    "start_time": "2024-02-05T12:16:57.336Z"
   },
   {
    "duration": 9,
    "start_time": "2024-02-05T12:16:57.359Z"
   },
   {
    "duration": 180,
    "start_time": "2024-02-05T12:16:57.370Z"
   },
   {
    "duration": 133,
    "start_time": "2024-02-05T12:16:57.559Z"
   },
   {
    "duration": 9,
    "start_time": "2024-02-05T12:16:57.694Z"
   },
   {
    "duration": 188,
    "start_time": "2024-02-05T12:16:57.705Z"
   },
   {
    "duration": 9,
    "start_time": "2024-02-05T12:16:57.895Z"
   },
   {
    "duration": 183,
    "start_time": "2024-02-05T12:16:57.906Z"
   },
   {
    "duration": 10,
    "start_time": "2024-02-05T12:16:58.090Z"
   },
   {
    "duration": 193,
    "start_time": "2024-02-05T12:16:58.101Z"
   },
   {
    "duration": 11,
    "start_time": "2024-02-05T12:16:58.296Z"
   },
   {
    "duration": 7,
    "start_time": "2024-02-05T12:16:58.308Z"
   },
   {
    "duration": 5,
    "start_time": "2024-02-05T12:16:58.317Z"
   },
   {
    "duration": 193,
    "start_time": "2024-02-05T12:16:58.323Z"
   },
   {
    "duration": 7,
    "start_time": "2024-02-05T12:16:58.518Z"
   },
   {
    "duration": 5,
    "start_time": "2024-02-05T12:16:58.526Z"
   },
   {
    "duration": 31,
    "start_time": "2024-02-05T12:16:58.533Z"
   },
   {
    "duration": 476,
    "start_time": "2024-02-05T12:16:58.565Z"
   },
   {
    "duration": 96,
    "start_time": "2024-02-05T12:16:59.043Z"
   },
   {
    "duration": 0,
    "start_time": "2024-02-05T12:16:59.140Z"
   },
   {
    "duration": 0,
    "start_time": "2024-02-05T12:16:59.142Z"
   },
   {
    "duration": 0,
    "start_time": "2024-02-05T12:16:59.142Z"
   },
   {
    "duration": 0,
    "start_time": "2024-02-05T12:16:59.159Z"
   },
   {
    "duration": 0,
    "start_time": "2024-02-05T12:16:59.160Z"
   },
   {
    "duration": 0,
    "start_time": "2024-02-05T12:16:59.161Z"
   },
   {
    "duration": 5,
    "start_time": "2024-02-05T12:18:35.630Z"
   },
   {
    "duration": 4,
    "start_time": "2024-02-05T12:18:40.769Z"
   },
   {
    "duration": 85,
    "start_time": "2024-02-05T12:18:49.473Z"
   },
   {
    "duration": 4,
    "start_time": "2024-02-05T12:18:57.009Z"
   },
   {
    "duration": 542,
    "start_time": "2024-02-05T12:19:40.399Z"
   },
   {
    "duration": 44,
    "start_time": "2024-02-05T12:19:40.943Z"
   },
   {
    "duration": 2411,
    "start_time": "2024-02-05T12:19:40.989Z"
   },
   {
    "duration": 12,
    "start_time": "2024-02-05T12:19:43.403Z"
   },
   {
    "duration": 18,
    "start_time": "2024-02-05T12:19:43.418Z"
   },
   {
    "duration": 8,
    "start_time": "2024-02-05T12:19:43.438Z"
   },
   {
    "duration": 7,
    "start_time": "2024-02-05T12:19:43.447Z"
   },
   {
    "duration": 51,
    "start_time": "2024-02-05T12:19:43.456Z"
   },
   {
    "duration": 63,
    "start_time": "2024-02-05T12:19:43.508Z"
   },
   {
    "duration": 6,
    "start_time": "2024-02-05T12:19:43.574Z"
   },
   {
    "duration": 26,
    "start_time": "2024-02-05T12:19:43.582Z"
   },
   {
    "duration": 6,
    "start_time": "2024-02-05T12:19:43.609Z"
   },
   {
    "duration": 8,
    "start_time": "2024-02-05T12:19:43.616Z"
   },
   {
    "duration": 2,
    "start_time": "2024-02-05T12:19:43.626Z"
   },
   {
    "duration": 35,
    "start_time": "2024-02-05T12:19:43.630Z"
   },
   {
    "duration": 10,
    "start_time": "2024-02-05T12:19:43.667Z"
   },
   {
    "duration": 16,
    "start_time": "2024-02-05T12:19:43.678Z"
   },
   {
    "duration": 3,
    "start_time": "2024-02-05T12:19:43.696Z"
   },
   {
    "duration": 19,
    "start_time": "2024-02-05T12:19:43.700Z"
   },
   {
    "duration": 45,
    "start_time": "2024-02-05T12:19:43.721Z"
   },
   {
    "duration": 12,
    "start_time": "2024-02-05T12:19:43.769Z"
   },
   {
    "duration": 52,
    "start_time": "2024-02-05T12:19:43.782Z"
   },
   {
    "duration": 28,
    "start_time": "2024-02-05T12:19:43.836Z"
   },
   {
    "duration": 417,
    "start_time": "2024-02-05T12:19:43.865Z"
   },
   {
    "duration": 4,
    "start_time": "2024-02-05T12:19:44.284Z"
   },
   {
    "duration": 12,
    "start_time": "2024-02-05T12:19:44.290Z"
   },
   {
    "duration": 189,
    "start_time": "2024-02-05T12:19:44.304Z"
   },
   {
    "duration": 11,
    "start_time": "2024-02-05T12:19:44.498Z"
   },
   {
    "duration": 9,
    "start_time": "2024-02-05T12:19:44.511Z"
   },
   {
    "duration": 6,
    "start_time": "2024-02-05T12:19:44.522Z"
   },
   {
    "duration": 182,
    "start_time": "2024-02-05T12:19:44.558Z"
   },
   {
    "duration": 7,
    "start_time": "2024-02-05T12:19:44.742Z"
   },
   {
    "duration": 15,
    "start_time": "2024-02-05T12:19:44.759Z"
   },
   {
    "duration": 39,
    "start_time": "2024-02-05T12:19:44.776Z"
   },
   {
    "duration": 6,
    "start_time": "2024-02-05T12:19:44.817Z"
   },
   {
    "duration": 61,
    "start_time": "2024-02-05T12:19:44.825Z"
   },
   {
    "duration": 7,
    "start_time": "2024-02-05T12:19:44.887Z"
   },
   {
    "duration": 151,
    "start_time": "2024-02-05T12:19:44.896Z"
   },
   {
    "duration": 16,
    "start_time": "2024-02-05T12:19:45.049Z"
   },
   {
    "duration": 36,
    "start_time": "2024-02-05T12:19:45.067Z"
   },
   {
    "duration": 282,
    "start_time": "2024-02-05T12:19:45.104Z"
   },
   {
    "duration": 8,
    "start_time": "2024-02-05T12:19:45.388Z"
   },
   {
    "duration": 10,
    "start_time": "2024-02-05T12:19:45.398Z"
   },
   {
    "duration": 187,
    "start_time": "2024-02-05T12:19:45.409Z"
   },
   {
    "duration": 8,
    "start_time": "2024-02-05T12:19:45.598Z"
   },
   {
    "duration": 15,
    "start_time": "2024-02-05T12:19:45.607Z"
   },
   {
    "duration": 6,
    "start_time": "2024-02-05T12:19:45.624Z"
   },
   {
    "duration": 66,
    "start_time": "2024-02-05T12:19:45.632Z"
   },
   {
    "duration": 4,
    "start_time": "2024-02-05T12:19:45.700Z"
   },
   {
    "duration": 174,
    "start_time": "2024-02-05T12:19:45.706Z"
   },
   {
    "duration": 9,
    "start_time": "2024-02-05T12:19:45.882Z"
   },
   {
    "duration": 9,
    "start_time": "2024-02-05T12:19:45.892Z"
   },
   {
    "duration": 183,
    "start_time": "2024-02-05T12:19:45.902Z"
   },
   {
    "duration": 136,
    "start_time": "2024-02-05T12:19:46.086Z"
   },
   {
    "duration": 9,
    "start_time": "2024-02-05T12:19:46.224Z"
   },
   {
    "duration": 186,
    "start_time": "2024-02-05T12:19:46.234Z"
   },
   {
    "duration": 11,
    "start_time": "2024-02-05T12:19:46.422Z"
   },
   {
    "duration": 180,
    "start_time": "2024-02-05T12:19:46.435Z"
   },
   {
    "duration": 9,
    "start_time": "2024-02-05T12:19:46.617Z"
   },
   {
    "duration": 182,
    "start_time": "2024-02-05T12:19:46.628Z"
   },
   {
    "duration": 10,
    "start_time": "2024-02-05T12:19:46.812Z"
   },
   {
    "duration": 7,
    "start_time": "2024-02-05T12:19:46.824Z"
   },
   {
    "duration": 27,
    "start_time": "2024-02-05T12:19:46.832Z"
   },
   {
    "duration": 199,
    "start_time": "2024-02-05T12:19:46.861Z"
   },
   {
    "duration": 8,
    "start_time": "2024-02-05T12:19:47.062Z"
   },
   {
    "duration": 5,
    "start_time": "2024-02-05T12:19:47.072Z"
   },
   {
    "duration": 15,
    "start_time": "2024-02-05T12:19:47.079Z"
   },
   {
    "duration": 514,
    "start_time": "2024-02-05T12:19:47.097Z"
   },
   {
    "duration": 94,
    "start_time": "2024-02-05T12:19:47.613Z"
   },
   {
    "duration": 0,
    "start_time": "2024-02-05T12:19:47.709Z"
   },
   {
    "duration": 0,
    "start_time": "2024-02-05T12:19:47.711Z"
   },
   {
    "duration": 0,
    "start_time": "2024-02-05T12:19:47.712Z"
   },
   {
    "duration": 0,
    "start_time": "2024-02-05T12:19:47.714Z"
   },
   {
    "duration": 0,
    "start_time": "2024-02-05T12:19:47.715Z"
   },
   {
    "duration": 0,
    "start_time": "2024-02-05T12:19:47.717Z"
   },
   {
    "duration": 4,
    "start_time": "2024-02-05T12:21:24.179Z"
   },
   {
    "duration": 548,
    "start_time": "2024-02-05T12:21:30.293Z"
   },
   {
    "duration": 43,
    "start_time": "2024-02-05T12:21:30.843Z"
   },
   {
    "duration": 2436,
    "start_time": "2024-02-05T12:21:30.887Z"
   },
   {
    "duration": 11,
    "start_time": "2024-02-05T12:21:33.325Z"
   },
   {
    "duration": 13,
    "start_time": "2024-02-05T12:21:33.338Z"
   },
   {
    "duration": 11,
    "start_time": "2024-02-05T12:21:33.353Z"
   },
   {
    "duration": 11,
    "start_time": "2024-02-05T12:21:33.366Z"
   },
   {
    "duration": 13,
    "start_time": "2024-02-05T12:21:33.379Z"
   },
   {
    "duration": 77,
    "start_time": "2024-02-05T12:21:33.393Z"
   },
   {
    "duration": 6,
    "start_time": "2024-02-05T12:21:33.472Z"
   },
   {
    "duration": 8,
    "start_time": "2024-02-05T12:21:33.479Z"
   },
   {
    "duration": 7,
    "start_time": "2024-02-05T12:21:33.489Z"
   },
   {
    "duration": 10,
    "start_time": "2024-02-05T12:21:33.498Z"
   },
   {
    "duration": 3,
    "start_time": "2024-02-05T12:21:33.512Z"
   },
   {
    "duration": 60,
    "start_time": "2024-02-05T12:21:33.517Z"
   },
   {
    "duration": 10,
    "start_time": "2024-02-05T12:21:33.578Z"
   },
   {
    "duration": 8,
    "start_time": "2024-02-05T12:21:33.589Z"
   },
   {
    "duration": 3,
    "start_time": "2024-02-05T12:21:33.599Z"
   },
   {
    "duration": 18,
    "start_time": "2024-02-05T12:21:33.603Z"
   },
   {
    "duration": 56,
    "start_time": "2024-02-05T12:21:33.623Z"
   },
   {
    "duration": 9,
    "start_time": "2024-02-05T12:21:33.681Z"
   },
   {
    "duration": 76,
    "start_time": "2024-02-05T12:21:33.692Z"
   },
   {
    "duration": 10,
    "start_time": "2024-02-05T12:21:33.770Z"
   },
   {
    "duration": 412,
    "start_time": "2024-02-05T12:21:33.782Z"
   },
   {
    "duration": 4,
    "start_time": "2024-02-05T12:21:34.197Z"
   },
   {
    "duration": 10,
    "start_time": "2024-02-05T12:21:34.203Z"
   },
   {
    "duration": 194,
    "start_time": "2024-02-05T12:21:34.215Z"
   },
   {
    "duration": 11,
    "start_time": "2024-02-05T12:21:34.411Z"
   },
   {
    "duration": 10,
    "start_time": "2024-02-05T12:21:34.424Z"
   },
   {
    "duration": 29,
    "start_time": "2024-02-05T12:21:34.436Z"
   },
   {
    "duration": 174,
    "start_time": "2024-02-05T12:21:34.466Z"
   },
   {
    "duration": 20,
    "start_time": "2024-02-05T12:21:34.642Z"
   },
   {
    "duration": 16,
    "start_time": "2024-02-05T12:21:34.663Z"
   },
   {
    "duration": 41,
    "start_time": "2024-02-05T12:21:34.681Z"
   },
   {
    "duration": 6,
    "start_time": "2024-02-05T12:21:34.724Z"
   },
   {
    "duration": 65,
    "start_time": "2024-02-05T12:21:34.731Z"
   },
   {
    "duration": 7,
    "start_time": "2024-02-05T12:21:34.798Z"
   },
   {
    "duration": 154,
    "start_time": "2024-02-05T12:21:34.807Z"
   },
   {
    "duration": 10,
    "start_time": "2024-02-05T12:21:34.963Z"
   },
   {
    "duration": 17,
    "start_time": "2024-02-05T12:21:34.975Z"
   },
   {
    "duration": 289,
    "start_time": "2024-02-05T12:21:34.998Z"
   },
   {
    "duration": 8,
    "start_time": "2024-02-05T12:21:35.289Z"
   },
   {
    "duration": 19,
    "start_time": "2024-02-05T12:21:35.299Z"
   },
   {
    "duration": 185,
    "start_time": "2024-02-05T12:21:35.320Z"
   },
   {
    "duration": 10,
    "start_time": "2024-02-05T12:21:35.507Z"
   },
   {
    "duration": 9,
    "start_time": "2024-02-05T12:21:35.519Z"
   },
   {
    "duration": 31,
    "start_time": "2024-02-05T12:21:35.530Z"
   },
   {
    "duration": 54,
    "start_time": "2024-02-05T12:21:35.563Z"
   },
   {
    "duration": 10,
    "start_time": "2024-02-05T12:21:35.619Z"
   },
   {
    "duration": 157,
    "start_time": "2024-02-05T12:21:35.631Z"
   },
   {
    "duration": 9,
    "start_time": "2024-02-05T12:21:35.790Z"
   },
   {
    "duration": 16,
    "start_time": "2024-02-05T12:21:35.800Z"
   },
   {
    "duration": 177,
    "start_time": "2024-02-05T12:21:35.818Z"
   },
   {
    "duration": 151,
    "start_time": "2024-02-05T12:21:35.996Z"
   },
   {
    "duration": 17,
    "start_time": "2024-02-05T12:21:36.149Z"
   },
   {
    "duration": 192,
    "start_time": "2024-02-05T12:21:36.167Z"
   },
   {
    "duration": 10,
    "start_time": "2024-02-05T12:21:36.360Z"
   },
   {
    "duration": 180,
    "start_time": "2024-02-05T12:21:36.372Z"
   },
   {
    "duration": 10,
    "start_time": "2024-02-05T12:21:36.558Z"
   },
   {
    "duration": 178,
    "start_time": "2024-02-05T12:21:36.569Z"
   },
   {
    "duration": 16,
    "start_time": "2024-02-05T12:21:36.749Z"
   },
   {
    "duration": 13,
    "start_time": "2024-02-05T12:21:36.767Z"
   },
   {
    "duration": 8,
    "start_time": "2024-02-05T12:21:36.782Z"
   },
   {
    "duration": 179,
    "start_time": "2024-02-05T12:21:36.792Z"
   },
   {
    "duration": 7,
    "start_time": "2024-02-05T12:21:36.973Z"
   },
   {
    "duration": 15,
    "start_time": "2024-02-05T12:21:36.982Z"
   },
   {
    "duration": 36,
    "start_time": "2024-02-05T12:21:36.999Z"
   },
   {
    "duration": 514,
    "start_time": "2024-02-05T12:21:37.037Z"
   },
   {
    "duration": 88,
    "start_time": "2024-02-05T12:21:37.552Z"
   },
   {
    "duration": 0,
    "start_time": "2024-02-05T12:21:37.641Z"
   },
   {
    "duration": 0,
    "start_time": "2024-02-05T12:21:37.642Z"
   },
   {
    "duration": 0,
    "start_time": "2024-02-05T12:21:37.659Z"
   },
   {
    "duration": 0,
    "start_time": "2024-02-05T12:21:37.660Z"
   },
   {
    "duration": 0,
    "start_time": "2024-02-05T12:21:37.662Z"
   },
   {
    "duration": 0,
    "start_time": "2024-02-05T12:21:37.663Z"
   },
   {
    "duration": 16,
    "start_time": "2024-02-05T12:24:51.441Z"
   },
   {
    "duration": 17,
    "start_time": "2024-02-05T12:24:52.956Z"
   },
   {
    "duration": 585,
    "start_time": "2024-02-05T12:24:58.951Z"
   },
   {
    "duration": 43,
    "start_time": "2024-02-05T12:24:59.538Z"
   },
   {
    "duration": 2401,
    "start_time": "2024-02-05T12:24:59.583Z"
   },
   {
    "duration": 10,
    "start_time": "2024-02-05T12:25:01.986Z"
   },
   {
    "duration": 42,
    "start_time": "2024-02-05T12:25:01.998Z"
   },
   {
    "duration": 40,
    "start_time": "2024-02-05T12:25:02.042Z"
   },
   {
    "duration": 23,
    "start_time": "2024-02-05T12:25:02.084Z"
   },
   {
    "duration": 52,
    "start_time": "2024-02-05T12:25:02.108Z"
   },
   {
    "duration": 72,
    "start_time": "2024-02-05T12:25:02.162Z"
   },
   {
    "duration": 7,
    "start_time": "2024-02-05T12:25:02.236Z"
   },
   {
    "duration": 24,
    "start_time": "2024-02-05T12:25:02.245Z"
   },
   {
    "duration": 29,
    "start_time": "2024-02-05T12:25:02.270Z"
   },
   {
    "duration": 14,
    "start_time": "2024-02-05T12:25:02.301Z"
   },
   {
    "duration": 8,
    "start_time": "2024-02-05T12:25:02.316Z"
   },
   {
    "duration": 46,
    "start_time": "2024-02-05T12:25:02.325Z"
   },
   {
    "duration": 10,
    "start_time": "2024-02-05T12:25:02.373Z"
   },
   {
    "duration": 9,
    "start_time": "2024-02-05T12:25:02.384Z"
   },
   {
    "duration": 35,
    "start_time": "2024-02-05T12:25:02.395Z"
   },
   {
    "duration": 19,
    "start_time": "2024-02-05T12:25:02.432Z"
   },
   {
    "duration": 25,
    "start_time": "2024-02-05T12:25:02.452Z"
   },
   {
    "duration": 19,
    "start_time": "2024-02-05T12:25:02.479Z"
   },
   {
    "duration": 68,
    "start_time": "2024-02-05T12:25:02.500Z"
   },
   {
    "duration": 42,
    "start_time": "2024-02-05T12:25:02.569Z"
   },
   {
    "duration": 404,
    "start_time": "2024-02-05T12:25:02.613Z"
   },
   {
    "duration": 4,
    "start_time": "2024-02-05T12:25:03.019Z"
   },
   {
    "duration": 22,
    "start_time": "2024-02-05T12:25:03.025Z"
   },
   {
    "duration": 227,
    "start_time": "2024-02-05T12:25:03.049Z"
   },
   {
    "duration": 10,
    "start_time": "2024-02-05T12:25:03.281Z"
   },
   {
    "duration": 77,
    "start_time": "2024-02-05T12:25:03.293Z"
   },
   {
    "duration": 105,
    "start_time": "2024-02-05T12:25:03.372Z"
   },
   {
    "duration": 171,
    "start_time": "2024-02-05T12:25:03.478Z"
   },
   {
    "duration": 2,
    "start_time": "2024-02-05T12:25:03.651Z"
   },
   {
    "duration": 91,
    "start_time": "2024-02-05T12:25:03.657Z"
   },
   {
    "duration": 59,
    "start_time": "2024-02-05T12:25:03.749Z"
   },
   {
    "duration": 6,
    "start_time": "2024-02-05T12:25:03.810Z"
   },
   {
    "duration": 39,
    "start_time": "2024-02-05T12:25:03.817Z"
   },
   {
    "duration": 6,
    "start_time": "2024-02-05T12:25:03.858Z"
   },
   {
    "duration": 144,
    "start_time": "2024-02-05T12:25:03.865Z"
   },
   {
    "duration": 9,
    "start_time": "2024-02-05T12:25:04.011Z"
   },
   {
    "duration": 8,
    "start_time": "2024-02-05T12:25:04.021Z"
   },
   {
    "duration": 288,
    "start_time": "2024-02-05T12:25:04.031Z"
   },
   {
    "duration": 9,
    "start_time": "2024-02-05T12:25:04.321Z"
   },
   {
    "duration": 27,
    "start_time": "2024-02-05T12:25:04.332Z"
   },
   {
    "duration": 171,
    "start_time": "2024-02-05T12:25:04.361Z"
   },
   {
    "duration": 8,
    "start_time": "2024-02-05T12:25:04.533Z"
   },
   {
    "duration": 20,
    "start_time": "2024-02-05T12:25:04.543Z"
   },
   {
    "duration": 21,
    "start_time": "2024-02-05T12:25:04.564Z"
   },
   {
    "duration": 42,
    "start_time": "2024-02-05T12:25:04.586Z"
   },
   {
    "duration": 4,
    "start_time": "2024-02-05T12:25:04.629Z"
   },
   {
    "duration": 153,
    "start_time": "2024-02-05T12:25:04.635Z"
   },
   {
    "duration": 9,
    "start_time": "2024-02-05T12:25:04.790Z"
   },
   {
    "duration": 8,
    "start_time": "2024-02-05T12:25:04.801Z"
   },
   {
    "duration": 181,
    "start_time": "2024-02-05T12:25:04.811Z"
   },
   {
    "duration": 147,
    "start_time": "2024-02-05T12:25:04.994Z"
   },
   {
    "duration": 17,
    "start_time": "2024-02-05T12:25:05.143Z"
   },
   {
    "duration": 185,
    "start_time": "2024-02-05T12:25:05.162Z"
   },
   {
    "duration": 14,
    "start_time": "2024-02-05T12:25:05.349Z"
   },
   {
    "duration": 185,
    "start_time": "2024-02-05T12:25:05.364Z"
   },
   {
    "duration": 9,
    "start_time": "2024-02-05T12:25:05.559Z"
   },
   {
    "duration": 184,
    "start_time": "2024-02-05T12:25:05.569Z"
   },
   {
    "duration": 9,
    "start_time": "2024-02-05T12:25:05.758Z"
   },
   {
    "duration": 6,
    "start_time": "2024-02-05T12:25:05.768Z"
   },
   {
    "duration": 4,
    "start_time": "2024-02-05T12:25:05.776Z"
   },
   {
    "duration": 179,
    "start_time": "2024-02-05T12:25:05.781Z"
   },
   {
    "duration": 6,
    "start_time": "2024-02-05T12:25:05.962Z"
   },
   {
    "duration": 4,
    "start_time": "2024-02-05T12:25:05.970Z"
   },
   {
    "duration": 15,
    "start_time": "2024-02-05T12:25:05.975Z"
   },
   {
    "duration": 502,
    "start_time": "2024-02-05T12:25:05.992Z"
   },
   {
    "duration": 91,
    "start_time": "2024-02-05T12:25:06.496Z"
   },
   {
    "duration": 0,
    "start_time": "2024-02-05T12:25:06.589Z"
   },
   {
    "duration": 0,
    "start_time": "2024-02-05T12:25:06.590Z"
   },
   {
    "duration": 0,
    "start_time": "2024-02-05T12:25:06.592Z"
   },
   {
    "duration": 0,
    "start_time": "2024-02-05T12:25:06.593Z"
   },
   {
    "duration": 0,
    "start_time": "2024-02-05T12:25:06.594Z"
   },
   {
    "duration": 0,
    "start_time": "2024-02-05T12:25:06.595Z"
   },
   {
    "duration": 80,
    "start_time": "2024-02-05T12:30:07.822Z"
   },
   {
    "duration": 575,
    "start_time": "2024-02-05T12:30:32.799Z"
   },
   {
    "duration": 39,
    "start_time": "2024-02-05T12:30:33.376Z"
   },
   {
    "duration": 2395,
    "start_time": "2024-02-05T12:30:33.417Z"
   },
   {
    "duration": 11,
    "start_time": "2024-02-05T12:30:35.814Z"
   },
   {
    "duration": 14,
    "start_time": "2024-02-05T12:30:35.826Z"
   },
   {
    "duration": 6,
    "start_time": "2024-02-05T12:30:35.842Z"
   },
   {
    "duration": 5,
    "start_time": "2024-02-05T12:30:35.858Z"
   },
   {
    "duration": 13,
    "start_time": "2024-02-05T12:30:35.865Z"
   },
   {
    "duration": 62,
    "start_time": "2024-02-05T12:30:35.880Z"
   },
   {
    "duration": 8,
    "start_time": "2024-02-05T12:30:35.958Z"
   },
   {
    "duration": 8,
    "start_time": "2024-02-05T12:30:35.968Z"
   },
   {
    "duration": 12,
    "start_time": "2024-02-05T12:30:35.978Z"
   },
   {
    "duration": 10,
    "start_time": "2024-02-05T12:30:35.992Z"
   },
   {
    "duration": 4,
    "start_time": "2024-02-05T12:30:36.004Z"
   },
   {
    "duration": 58,
    "start_time": "2024-02-05T12:30:36.009Z"
   },
   {
    "duration": 10,
    "start_time": "2024-02-05T12:30:36.069Z"
   },
   {
    "duration": 8,
    "start_time": "2024-02-05T12:30:36.081Z"
   },
   {
    "duration": 3,
    "start_time": "2024-02-05T12:30:36.091Z"
   },
   {
    "duration": 28,
    "start_time": "2024-02-05T12:30:36.096Z"
   },
   {
    "duration": 41,
    "start_time": "2024-02-05T12:30:36.125Z"
   },
   {
    "duration": 7,
    "start_time": "2024-02-05T12:30:36.168Z"
   },
   {
    "duration": 52,
    "start_time": "2024-02-05T12:30:36.177Z"
   },
   {
    "duration": 8,
    "start_time": "2024-02-05T12:30:36.258Z"
   },
   {
    "duration": 410,
    "start_time": "2024-02-05T12:30:36.268Z"
   },
   {
    "duration": 3,
    "start_time": "2024-02-05T12:30:36.680Z"
   },
   {
    "duration": 10,
    "start_time": "2024-02-05T12:30:36.685Z"
   },
   {
    "duration": 181,
    "start_time": "2024-02-05T12:30:36.697Z"
   },
   {
    "duration": 10,
    "start_time": "2024-02-05T12:30:36.883Z"
   },
   {
    "duration": 9,
    "start_time": "2024-02-05T12:30:36.895Z"
   },
   {
    "duration": 7,
    "start_time": "2024-02-05T12:30:36.906Z"
   },
   {
    "duration": 191,
    "start_time": "2024-02-05T12:30:36.915Z"
   },
   {
    "duration": 8,
    "start_time": "2024-02-05T12:30:37.107Z"
   },
   {
    "duration": 19,
    "start_time": "2024-02-05T12:30:37.117Z"
   },
   {
    "duration": 62,
    "start_time": "2024-02-05T12:30:37.139Z"
   },
   {
    "duration": 6,
    "start_time": "2024-02-05T12:30:37.203Z"
   },
   {
    "duration": 56,
    "start_time": "2024-02-05T12:30:37.210Z"
   },
   {
    "duration": 8,
    "start_time": "2024-02-05T12:30:37.268Z"
   },
   {
    "duration": 153,
    "start_time": "2024-02-05T12:30:37.278Z"
   },
   {
    "duration": 10,
    "start_time": "2024-02-05T12:30:37.432Z"
   },
   {
    "duration": 20,
    "start_time": "2024-02-05T12:30:37.443Z"
   },
   {
    "duration": 266,
    "start_time": "2024-02-05T12:30:37.465Z"
   },
   {
    "duration": 8,
    "start_time": "2024-02-05T12:30:37.733Z"
   },
   {
    "duration": 18,
    "start_time": "2024-02-05T12:30:37.743Z"
   },
   {
    "duration": 174,
    "start_time": "2024-02-05T12:30:37.763Z"
   },
   {
    "duration": 9,
    "start_time": "2024-02-05T12:30:37.938Z"
   },
   {
    "duration": 8,
    "start_time": "2024-02-05T12:30:37.958Z"
   },
   {
    "duration": 7,
    "start_time": "2024-02-05T12:30:37.967Z"
   },
   {
    "duration": 34,
    "start_time": "2024-02-05T12:30:37.975Z"
   },
   {
    "duration": 4,
    "start_time": "2024-02-05T12:30:38.011Z"
   },
   {
    "duration": 170,
    "start_time": "2024-02-05T12:30:38.017Z"
   },
   {
    "duration": 9,
    "start_time": "2024-02-05T12:30:38.189Z"
   },
   {
    "duration": 7,
    "start_time": "2024-02-05T12:30:38.200Z"
   },
   {
    "duration": 192,
    "start_time": "2024-02-05T12:30:38.209Z"
   },
   {
    "duration": 137,
    "start_time": "2024-02-05T12:30:38.402Z"
   },
   {
    "duration": 20,
    "start_time": "2024-02-05T12:30:38.540Z"
   },
   {
    "duration": 173,
    "start_time": "2024-02-05T12:30:38.562Z"
   },
   {
    "duration": 9,
    "start_time": "2024-02-05T12:30:38.737Z"
   },
   {
    "duration": 205,
    "start_time": "2024-02-05T12:30:38.748Z"
   },
   {
    "duration": 9,
    "start_time": "2024-02-05T12:30:38.959Z"
   },
   {
    "duration": 182,
    "start_time": "2024-02-05T12:30:38.969Z"
   },
   {
    "duration": 104,
    "start_time": "2024-02-05T12:30:39.153Z"
   },
   {
    "duration": 0,
    "start_time": "2024-02-05T12:30:39.259Z"
   },
   {
    "duration": 0,
    "start_time": "2024-02-05T12:30:39.260Z"
   },
   {
    "duration": 0,
    "start_time": "2024-02-05T12:30:39.261Z"
   },
   {
    "duration": 0,
    "start_time": "2024-02-05T12:30:39.262Z"
   },
   {
    "duration": 0,
    "start_time": "2024-02-05T12:30:39.263Z"
   },
   {
    "duration": 0,
    "start_time": "2024-02-05T12:30:39.264Z"
   },
   {
    "duration": 0,
    "start_time": "2024-02-05T12:30:39.265Z"
   },
   {
    "duration": 0,
    "start_time": "2024-02-05T12:30:39.266Z"
   },
   {
    "duration": 0,
    "start_time": "2024-02-05T12:30:39.267Z"
   },
   {
    "duration": 0,
    "start_time": "2024-02-05T12:30:39.268Z"
   },
   {
    "duration": 0,
    "start_time": "2024-02-05T12:30:39.269Z"
   },
   {
    "duration": 0,
    "start_time": "2024-02-05T12:30:39.270Z"
   },
   {
    "duration": 0,
    "start_time": "2024-02-05T12:30:39.271Z"
   },
   {
    "duration": 0,
    "start_time": "2024-02-05T12:30:39.272Z"
   },
   {
    "duration": 0,
    "start_time": "2024-02-05T12:30:39.273Z"
   },
   {
    "duration": 4,
    "start_time": "2024-02-05T12:31:03.446Z"
   },
   {
    "duration": 2,
    "start_time": "2024-02-05T12:32:03.629Z"
   },
   {
    "duration": 579,
    "start_time": "2024-02-05T12:32:09.435Z"
   },
   {
    "duration": 47,
    "start_time": "2024-02-05T12:32:10.017Z"
   },
   {
    "duration": 2374,
    "start_time": "2024-02-05T12:32:10.066Z"
   },
   {
    "duration": 10,
    "start_time": "2024-02-05T12:32:12.442Z"
   },
   {
    "duration": 13,
    "start_time": "2024-02-05T12:32:12.454Z"
   },
   {
    "duration": 7,
    "start_time": "2024-02-05T12:32:12.469Z"
   },
   {
    "duration": 4,
    "start_time": "2024-02-05T12:32:12.478Z"
   },
   {
    "duration": 8,
    "start_time": "2024-02-05T12:32:12.484Z"
   },
   {
    "duration": 88,
    "start_time": "2024-02-05T12:32:12.494Z"
   },
   {
    "duration": 7,
    "start_time": "2024-02-05T12:32:12.585Z"
   },
   {
    "duration": 20,
    "start_time": "2024-02-05T12:32:12.593Z"
   },
   {
    "duration": 11,
    "start_time": "2024-02-05T12:32:12.614Z"
   },
   {
    "duration": 8,
    "start_time": "2024-02-05T12:32:12.627Z"
   },
   {
    "duration": 2,
    "start_time": "2024-02-05T12:32:12.637Z"
   },
   {
    "duration": 36,
    "start_time": "2024-02-05T12:32:12.640Z"
   },
   {
    "duration": 11,
    "start_time": "2024-02-05T12:32:12.678Z"
   },
   {
    "duration": 8,
    "start_time": "2024-02-05T12:32:12.690Z"
   },
   {
    "duration": 2,
    "start_time": "2024-02-05T12:32:12.700Z"
   },
   {
    "duration": 23,
    "start_time": "2024-02-05T12:32:12.704Z"
   },
   {
    "duration": 43,
    "start_time": "2024-02-05T12:32:12.729Z"
   },
   {
    "duration": 8,
    "start_time": "2024-02-05T12:32:12.774Z"
   },
   {
    "duration": 56,
    "start_time": "2024-02-05T12:32:12.783Z"
   },
   {
    "duration": 24,
    "start_time": "2024-02-05T12:32:12.841Z"
   },
   {
    "duration": 421,
    "start_time": "2024-02-05T12:32:12.867Z"
   },
   {
    "duration": 5,
    "start_time": "2024-02-05T12:32:13.290Z"
   },
   {
    "duration": 12,
    "start_time": "2024-02-05T12:32:13.297Z"
   },
   {
    "duration": 184,
    "start_time": "2024-02-05T12:32:13.311Z"
   },
   {
    "duration": 10,
    "start_time": "2024-02-05T12:32:13.500Z"
   },
   {
    "duration": 10,
    "start_time": "2024-02-05T12:32:13.511Z"
   },
   {
    "duration": 7,
    "start_time": "2024-02-05T12:32:13.523Z"
   },
   {
    "duration": 166,
    "start_time": "2024-02-05T12:32:13.558Z"
   },
   {
    "duration": 3,
    "start_time": "2024-02-05T12:32:13.726Z"
   },
   {
    "duration": 31,
    "start_time": "2024-02-05T12:32:13.731Z"
   },
   {
    "duration": 48,
    "start_time": "2024-02-05T12:32:13.764Z"
   },
   {
    "duration": 7,
    "start_time": "2024-02-05T12:32:13.814Z"
   },
   {
    "duration": 51,
    "start_time": "2024-02-05T12:32:13.822Z"
   },
   {
    "duration": 8,
    "start_time": "2024-02-05T12:32:13.875Z"
   },
   {
    "duration": 151,
    "start_time": "2024-02-05T12:32:13.885Z"
   },
   {
    "duration": 21,
    "start_time": "2024-02-05T12:32:14.038Z"
   },
   {
    "duration": 9,
    "start_time": "2024-02-05T12:32:14.061Z"
   },
   {
    "duration": 291,
    "start_time": "2024-02-05T12:32:14.072Z"
   },
   {
    "duration": 3,
    "start_time": "2024-02-05T12:32:14.365Z"
   },
   {
    "duration": 18,
    "start_time": "2024-02-05T12:32:14.370Z"
   },
   {
    "duration": 180,
    "start_time": "2024-02-05T12:32:14.390Z"
   },
   {
    "duration": 9,
    "start_time": "2024-02-05T12:32:14.571Z"
   },
   {
    "duration": 8,
    "start_time": "2024-02-05T12:32:14.582Z"
   },
   {
    "duration": 5,
    "start_time": "2024-02-05T12:32:14.592Z"
   },
   {
    "duration": 62,
    "start_time": "2024-02-05T12:32:14.598Z"
   },
   {
    "duration": 5,
    "start_time": "2024-02-05T12:32:14.661Z"
   },
   {
    "duration": 166,
    "start_time": "2024-02-05T12:32:14.667Z"
   },
   {
    "duration": 9,
    "start_time": "2024-02-05T12:32:14.835Z"
   },
   {
    "duration": 18,
    "start_time": "2024-02-05T12:32:14.846Z"
   },
   {
    "duration": 182,
    "start_time": "2024-02-05T12:32:14.866Z"
   },
   {
    "duration": 138,
    "start_time": "2024-02-05T12:32:15.050Z"
   },
   {
    "duration": 9,
    "start_time": "2024-02-05T12:32:15.189Z"
   },
   {
    "duration": 187,
    "start_time": "2024-02-05T12:32:15.200Z"
   },
   {
    "duration": 13,
    "start_time": "2024-02-05T12:32:15.389Z"
   },
   {
    "duration": 207,
    "start_time": "2024-02-05T12:32:15.404Z"
   },
   {
    "duration": 10,
    "start_time": "2024-02-05T12:32:15.613Z"
   },
   {
    "duration": 184,
    "start_time": "2024-02-05T12:32:15.624Z"
   },
   {
    "duration": 5,
    "start_time": "2024-02-05T12:32:15.809Z"
   },
   {
    "duration": 11,
    "start_time": "2024-02-05T12:32:15.816Z"
   },
   {
    "duration": 16,
    "start_time": "2024-02-05T12:32:15.829Z"
   },
   {
    "duration": 5,
    "start_time": "2024-02-05T12:32:15.858Z"
   },
   {
    "duration": 178,
    "start_time": "2024-02-05T12:32:15.864Z"
   },
   {
    "duration": 8,
    "start_time": "2024-02-05T12:32:16.043Z"
   },
   {
    "duration": 7,
    "start_time": "2024-02-05T12:32:16.059Z"
   },
   {
    "duration": 24,
    "start_time": "2024-02-05T12:32:16.067Z"
   },
   {
    "duration": 499,
    "start_time": "2024-02-05T12:32:16.093Z"
   },
   {
    "duration": 114,
    "start_time": "2024-02-05T12:32:16.594Z"
   },
   {
    "duration": 0,
    "start_time": "2024-02-05T12:32:16.710Z"
   },
   {
    "duration": 0,
    "start_time": "2024-02-05T12:32:16.711Z"
   },
   {
    "duration": 0,
    "start_time": "2024-02-05T12:32:16.712Z"
   },
   {
    "duration": 0,
    "start_time": "2024-02-05T12:32:16.713Z"
   },
   {
    "duration": 0,
    "start_time": "2024-02-05T12:32:16.714Z"
   },
   {
    "duration": 0,
    "start_time": "2024-02-05T12:32:16.715Z"
   },
   {
    "duration": 577,
    "start_time": "2024-02-05T12:35:21.474Z"
   },
   {
    "duration": 41,
    "start_time": "2024-02-05T12:35:22.053Z"
   },
   {
    "duration": 2400,
    "start_time": "2024-02-05T12:35:22.096Z"
   },
   {
    "duration": 10,
    "start_time": "2024-02-05T12:35:24.498Z"
   },
   {
    "duration": 29,
    "start_time": "2024-02-05T12:35:24.510Z"
   },
   {
    "duration": 7,
    "start_time": "2024-02-05T12:35:24.540Z"
   },
   {
    "duration": 5,
    "start_time": "2024-02-05T12:35:24.549Z"
   },
   {
    "duration": 12,
    "start_time": "2024-02-05T12:35:24.557Z"
   },
   {
    "duration": 62,
    "start_time": "2024-02-05T12:35:24.571Z"
   },
   {
    "duration": 6,
    "start_time": "2024-02-05T12:35:24.636Z"
   },
   {
    "duration": 6,
    "start_time": "2024-02-05T12:35:24.658Z"
   },
   {
    "duration": 5,
    "start_time": "2024-02-05T12:35:24.665Z"
   },
   {
    "duration": 8,
    "start_time": "2024-02-05T12:35:24.672Z"
   },
   {
    "duration": 2,
    "start_time": "2024-02-05T12:35:24.681Z"
   },
   {
    "duration": 27,
    "start_time": "2024-02-05T12:35:24.685Z"
   },
   {
    "duration": 10,
    "start_time": "2024-02-05T12:35:24.713Z"
   },
   {
    "duration": 8,
    "start_time": "2024-02-05T12:35:24.759Z"
   },
   {
    "duration": 19,
    "start_time": "2024-02-05T12:35:24.769Z"
   },
   {
    "duration": 21,
    "start_time": "2024-02-05T12:35:24.790Z"
   },
   {
    "duration": 26,
    "start_time": "2024-02-05T12:35:24.812Z"
   },
   {
    "duration": 20,
    "start_time": "2024-02-05T12:35:24.840Z"
   },
   {
    "duration": 64,
    "start_time": "2024-02-05T12:35:24.861Z"
   },
   {
    "duration": 9,
    "start_time": "2024-02-05T12:35:24.926Z"
   },
   {
    "duration": 418,
    "start_time": "2024-02-05T12:35:24.959Z"
   },
   {
    "duration": 4,
    "start_time": "2024-02-05T12:35:25.378Z"
   },
   {
    "duration": 11,
    "start_time": "2024-02-05T12:35:25.383Z"
   },
   {
    "duration": 190,
    "start_time": "2024-02-05T12:35:25.395Z"
   },
   {
    "duration": 10,
    "start_time": "2024-02-05T12:35:25.590Z"
   },
   {
    "duration": 15,
    "start_time": "2024-02-05T12:35:25.601Z"
   },
   {
    "duration": 7,
    "start_time": "2024-02-05T12:35:25.618Z"
   },
   {
    "duration": 184,
    "start_time": "2024-02-05T12:35:25.626Z"
   },
   {
    "duration": 3,
    "start_time": "2024-02-05T12:35:25.811Z"
   },
   {
    "duration": 33,
    "start_time": "2024-02-05T12:35:25.815Z"
   },
   {
    "duration": 40,
    "start_time": "2024-02-05T12:35:25.850Z"
   },
   {
    "duration": 6,
    "start_time": "2024-02-05T12:35:25.892Z"
   },
   {
    "duration": 44,
    "start_time": "2024-02-05T12:35:25.899Z"
   },
   {
    "duration": 20,
    "start_time": "2024-02-05T12:35:25.944Z"
   },
   {
    "duration": 152,
    "start_time": "2024-02-05T12:35:25.965Z"
   },
   {
    "duration": 9,
    "start_time": "2024-02-05T12:35:26.119Z"
   },
   {
    "duration": 7,
    "start_time": "2024-02-05T12:35:26.130Z"
   },
   {
    "duration": 275,
    "start_time": "2024-02-05T12:35:26.139Z"
   },
   {
    "duration": 3,
    "start_time": "2024-02-05T12:35:26.416Z"
   },
   {
    "duration": 11,
    "start_time": "2024-02-05T12:35:26.420Z"
   },
   {
    "duration": 186,
    "start_time": "2024-02-05T12:35:26.432Z"
   },
   {
    "duration": 9,
    "start_time": "2024-02-05T12:35:26.620Z"
   },
   {
    "duration": 13,
    "start_time": "2024-02-05T12:35:26.630Z"
   },
   {
    "duration": 18,
    "start_time": "2024-02-05T12:35:26.644Z"
   },
   {
    "duration": 5,
    "start_time": "2024-02-05T12:35:26.664Z"
   },
   {
    "duration": 0,
    "start_time": "2024-02-05T12:35:26.671Z"
   },
   {
    "duration": 0,
    "start_time": "2024-02-05T12:35:26.672Z"
   },
   {
    "duration": 0,
    "start_time": "2024-02-05T12:35:26.673Z"
   },
   {
    "duration": 0,
    "start_time": "2024-02-05T12:35:26.674Z"
   },
   {
    "duration": 0,
    "start_time": "2024-02-05T12:35:26.675Z"
   },
   {
    "duration": 0,
    "start_time": "2024-02-05T12:35:26.676Z"
   },
   {
    "duration": 0,
    "start_time": "2024-02-05T12:35:26.677Z"
   },
   {
    "duration": 0,
    "start_time": "2024-02-05T12:35:26.678Z"
   },
   {
    "duration": 0,
    "start_time": "2024-02-05T12:35:26.679Z"
   },
   {
    "duration": 0,
    "start_time": "2024-02-05T12:35:26.680Z"
   },
   {
    "duration": 0,
    "start_time": "2024-02-05T12:35:26.681Z"
   },
   {
    "duration": 0,
    "start_time": "2024-02-05T12:35:26.682Z"
   },
   {
    "duration": 0,
    "start_time": "2024-02-05T12:35:26.683Z"
   },
   {
    "duration": 0,
    "start_time": "2024-02-05T12:35:26.684Z"
   },
   {
    "duration": 0,
    "start_time": "2024-02-05T12:35:26.685Z"
   },
   {
    "duration": 0,
    "start_time": "2024-02-05T12:35:26.686Z"
   },
   {
    "duration": 0,
    "start_time": "2024-02-05T12:35:26.687Z"
   },
   {
    "duration": 0,
    "start_time": "2024-02-05T12:35:26.688Z"
   },
   {
    "duration": 0,
    "start_time": "2024-02-05T12:35:26.689Z"
   },
   {
    "duration": 0,
    "start_time": "2024-02-05T12:35:26.690Z"
   },
   {
    "duration": 0,
    "start_time": "2024-02-05T12:35:26.691Z"
   },
   {
    "duration": 0,
    "start_time": "2024-02-05T12:35:26.692Z"
   },
   {
    "duration": 0,
    "start_time": "2024-02-05T12:35:26.693Z"
   },
   {
    "duration": 0,
    "start_time": "2024-02-05T12:35:26.695Z"
   },
   {
    "duration": 0,
    "start_time": "2024-02-05T12:35:26.696Z"
   },
   {
    "duration": 0,
    "start_time": "2024-02-05T12:35:26.697Z"
   },
   {
    "duration": 1,
    "start_time": "2024-02-05T12:35:26.698Z"
   },
   {
    "duration": 0,
    "start_time": "2024-02-05T12:35:26.700Z"
   },
   {
    "duration": 0,
    "start_time": "2024-02-05T12:35:26.758Z"
   },
   {
    "duration": 8,
    "start_time": "2024-02-05T12:35:49.126Z"
   },
   {
    "duration": 29,
    "start_time": "2024-02-05T12:35:52.324Z"
   },
   {
    "duration": 4,
    "start_time": "2024-02-05T12:35:52.358Z"
   },
   {
    "duration": 144,
    "start_time": "2024-02-05T12:35:54.578Z"
   },
   {
    "duration": 9,
    "start_time": "2024-02-05T12:36:04.316Z"
   },
   {
    "duration": 7,
    "start_time": "2024-02-05T12:36:07.025Z"
   },
   {
    "duration": 164,
    "start_time": "2024-02-05T12:36:11.443Z"
   },
   {
    "duration": 131,
    "start_time": "2024-02-05T12:36:14.137Z"
   },
   {
    "duration": 9,
    "start_time": "2024-02-05T12:36:15.255Z"
   },
   {
    "duration": 173,
    "start_time": "2024-02-05T12:36:17.145Z"
   },
   {
    "duration": 10,
    "start_time": "2024-02-05T12:36:22.688Z"
   },
   {
    "duration": 165,
    "start_time": "2024-02-05T12:36:26.175Z"
   },
   {
    "duration": 11,
    "start_time": "2024-02-05T12:36:40.062Z"
   },
   {
    "duration": 173,
    "start_time": "2024-02-05T12:36:43.128Z"
   },
   {
    "duration": 5,
    "start_time": "2024-02-05T12:36:44.749Z"
   },
   {
    "duration": 106,
    "start_time": "2024-02-05T12:39:25.723Z"
   },
   {
    "duration": 78,
    "start_time": "2024-02-05T12:39:40.675Z"
   },
   {
    "duration": 83,
    "start_time": "2024-02-05T12:39:50.318Z"
   },
   {
    "duration": 11,
    "start_time": "2024-02-05T12:40:23.561Z"
   },
   {
    "duration": 7,
    "start_time": "2024-02-05T12:40:25.637Z"
   },
   {
    "duration": 175,
    "start_time": "2024-02-05T12:40:47.193Z"
   },
   {
    "duration": 190,
    "start_time": "2024-02-05T12:41:07.234Z"
   },
   {
    "duration": 4,
    "start_time": "2024-02-05T12:46:05.050Z"
   },
   {
    "duration": 22,
    "start_time": "2024-02-05T12:46:06.079Z"
   },
   {
    "duration": 745,
    "start_time": "2024-02-05T12:46:09.009Z"
   },
   {
    "duration": 175,
    "start_time": "2024-02-05T12:46:12.772Z"
   },
   {
    "duration": 157,
    "start_time": "2024-02-05T12:46:31.978Z"
   },
   {
    "duration": 468,
    "start_time": "2024-02-05T12:46:34.541Z"
   },
   {
    "duration": 15,
    "start_time": "2024-02-05T12:46:38.115Z"
   },
   {
    "duration": 16,
    "start_time": "2024-02-05T12:47:25.769Z"
   },
   {
    "duration": 14,
    "start_time": "2024-02-05T12:47:31.261Z"
   },
   {
    "duration": 177,
    "start_time": "2024-02-05T12:47:41.137Z"
   },
   {
    "duration": 180,
    "start_time": "2024-02-05T12:48:09.055Z"
   },
   {
    "duration": 22,
    "start_time": "2024-02-05T12:49:34.126Z"
   },
   {
    "duration": 96,
    "start_time": "2024-02-05T12:53:13.544Z"
   },
   {
    "duration": 80,
    "start_time": "2024-02-05T12:53:38.577Z"
   },
   {
    "duration": 183,
    "start_time": "2024-02-05T12:53:47.068Z"
   },
   {
    "duration": 186,
    "start_time": "2024-02-05T12:55:24.420Z"
   },
   {
    "duration": 184,
    "start_time": "2024-02-05T12:55:43.315Z"
   },
   {
    "duration": 182,
    "start_time": "2024-02-05T13:00:35.165Z"
   },
   {
    "duration": 4,
    "start_time": "2024-02-05T13:03:27.979Z"
   },
   {
    "duration": 18,
    "start_time": "2024-02-05T13:03:37.918Z"
   },
   {
    "duration": 30,
    "start_time": "2024-02-05T13:04:08.500Z"
   },
   {
    "duration": 190,
    "start_time": "2024-02-05T13:04:42.524Z"
   },
   {
    "duration": 302,
    "start_time": "2024-02-05T13:05:40.315Z"
   },
   {
    "duration": 82,
    "start_time": "2024-02-05T13:10:20.036Z"
   },
   {
    "duration": 16,
    "start_time": "2024-02-05T13:10:50.641Z"
   },
   {
    "duration": 16,
    "start_time": "2024-02-05T13:11:37.737Z"
   },
   {
    "duration": 14,
    "start_time": "2024-02-05T13:11:41.810Z"
   },
   {
    "duration": 184,
    "start_time": "2024-02-05T13:11:48.499Z"
   },
   {
    "duration": 28,
    "start_time": "2024-02-05T13:13:06.199Z"
   },
   {
    "duration": 529,
    "start_time": "2024-02-05T13:15:20.115Z"
   },
   {
    "duration": 39,
    "start_time": "2024-02-05T13:15:20.646Z"
   },
   {
    "duration": 2469,
    "start_time": "2024-02-05T13:15:20.687Z"
   },
   {
    "duration": 11,
    "start_time": "2024-02-05T13:15:23.158Z"
   },
   {
    "duration": 14,
    "start_time": "2024-02-05T13:15:23.170Z"
   },
   {
    "duration": 9,
    "start_time": "2024-02-05T13:15:23.186Z"
   },
   {
    "duration": 13,
    "start_time": "2024-02-05T13:15:23.196Z"
   },
   {
    "duration": 9,
    "start_time": "2024-02-05T13:15:23.211Z"
   },
   {
    "duration": 92,
    "start_time": "2024-02-05T13:15:23.221Z"
   },
   {
    "duration": 6,
    "start_time": "2024-02-05T13:15:23.316Z"
   },
   {
    "duration": 6,
    "start_time": "2024-02-05T13:15:23.324Z"
   },
   {
    "duration": 5,
    "start_time": "2024-02-05T13:15:23.332Z"
   },
   {
    "duration": 26,
    "start_time": "2024-02-05T13:15:23.338Z"
   },
   {
    "duration": 2,
    "start_time": "2024-02-05T13:15:23.366Z"
   },
   {
    "duration": 25,
    "start_time": "2024-02-05T13:15:23.370Z"
   },
   {
    "duration": 9,
    "start_time": "2024-02-05T13:15:23.397Z"
   },
   {
    "duration": 9,
    "start_time": "2024-02-05T13:15:23.408Z"
   },
   {
    "duration": 14,
    "start_time": "2024-02-05T13:15:23.419Z"
   },
   {
    "duration": 35,
    "start_time": "2024-02-05T13:15:23.435Z"
   },
   {
    "duration": 25,
    "start_time": "2024-02-05T13:15:23.472Z"
   },
   {
    "duration": 8,
    "start_time": "2024-02-05T13:15:23.499Z"
   },
   {
    "duration": 77,
    "start_time": "2024-02-05T13:15:23.508Z"
   },
   {
    "duration": 8,
    "start_time": "2024-02-05T13:15:23.587Z"
   },
   {
    "duration": 408,
    "start_time": "2024-02-05T13:15:23.596Z"
   },
   {
    "duration": 4,
    "start_time": "2024-02-05T13:15:24.007Z"
   },
   {
    "duration": 10,
    "start_time": "2024-02-05T13:15:24.013Z"
   },
   {
    "duration": 179,
    "start_time": "2024-02-05T13:15:24.025Z"
   },
   {
    "duration": 10,
    "start_time": "2024-02-05T13:15:24.208Z"
   },
   {
    "duration": 9,
    "start_time": "2024-02-05T13:15:24.219Z"
   },
   {
    "duration": 7,
    "start_time": "2024-02-05T13:15:24.229Z"
   },
   {
    "duration": 170,
    "start_time": "2024-02-05T13:15:24.259Z"
   },
   {
    "duration": 2,
    "start_time": "2024-02-05T13:15:24.431Z"
   },
   {
    "duration": 28,
    "start_time": "2024-02-05T13:15:24.435Z"
   },
   {
    "duration": 39,
    "start_time": "2024-02-05T13:15:24.465Z"
   },
   {
    "duration": 7,
    "start_time": "2024-02-05T13:15:24.506Z"
   },
   {
    "duration": 62,
    "start_time": "2024-02-05T13:15:24.514Z"
   },
   {
    "duration": 7,
    "start_time": "2024-02-05T13:15:24.578Z"
   },
   {
    "duration": 148,
    "start_time": "2024-02-05T13:15:24.586Z"
   },
   {
    "duration": 10,
    "start_time": "2024-02-05T13:15:24.735Z"
   },
   {
    "duration": 17,
    "start_time": "2024-02-05T13:15:24.747Z"
   },
   {
    "duration": 266,
    "start_time": "2024-02-05T13:15:24.766Z"
   },
   {
    "duration": 3,
    "start_time": "2024-02-05T13:15:25.033Z"
   },
   {
    "duration": 23,
    "start_time": "2024-02-05T13:15:25.037Z"
   },
   {
    "duration": 179,
    "start_time": "2024-02-05T13:15:25.061Z"
   },
   {
    "duration": 16,
    "start_time": "2024-02-05T13:15:25.242Z"
   },
   {
    "duration": 30,
    "start_time": "2024-02-05T13:15:25.260Z"
   },
   {
    "duration": 8,
    "start_time": "2024-02-05T13:15:25.292Z"
   },
   {
    "duration": 18,
    "start_time": "2024-02-05T13:15:25.301Z"
   },
   {
    "duration": 40,
    "start_time": "2024-02-05T13:15:25.321Z"
   },
   {
    "duration": 4,
    "start_time": "2024-02-05T13:15:25.362Z"
   },
   {
    "duration": 156,
    "start_time": "2024-02-05T13:15:25.368Z"
   },
   {
    "duration": 9,
    "start_time": "2024-02-05T13:15:25.526Z"
   },
   {
    "duration": 23,
    "start_time": "2024-02-05T13:15:25.536Z"
   },
   {
    "duration": 180,
    "start_time": "2024-02-05T13:15:25.560Z"
   },
   {
    "duration": 129,
    "start_time": "2024-02-05T13:15:25.742Z"
   },
   {
    "duration": 8,
    "start_time": "2024-02-05T13:15:25.872Z"
   },
   {
    "duration": 184,
    "start_time": "2024-02-05T13:15:25.882Z"
   },
   {
    "duration": 10,
    "start_time": "2024-02-05T13:15:26.068Z"
   },
   {
    "duration": 204,
    "start_time": "2024-02-05T13:15:26.079Z"
   },
   {
    "duration": 10,
    "start_time": "2024-02-05T13:15:26.285Z"
   },
   {
    "duration": 202,
    "start_time": "2024-02-05T13:15:26.297Z"
   },
   {
    "duration": 4,
    "start_time": "2024-02-05T13:15:26.501Z"
   },
   {
    "duration": 11,
    "start_time": "2024-02-05T13:15:26.508Z"
   },
   {
    "duration": 7,
    "start_time": "2024-02-05T13:15:26.521Z"
   },
   {
    "duration": 29,
    "start_time": "2024-02-05T13:15:26.530Z"
   },
   {
    "duration": 213,
    "start_time": "2024-02-05T13:15:26.561Z"
   },
   {
    "duration": 9,
    "start_time": "2024-02-05T13:15:26.776Z"
   },
   {
    "duration": 4,
    "start_time": "2024-02-05T13:15:26.787Z"
   },
   {
    "duration": 21,
    "start_time": "2024-02-05T13:15:26.792Z"
   },
   {
    "duration": 730,
    "start_time": "2024-02-05T13:15:26.815Z"
   },
   {
    "duration": 172,
    "start_time": "2024-02-05T13:15:27.547Z"
   },
   {
    "duration": 161,
    "start_time": "2024-02-05T13:15:27.721Z"
   },
   {
    "duration": 457,
    "start_time": "2024-02-05T13:15:27.884Z"
   },
   {
    "duration": 17,
    "start_time": "2024-02-05T13:15:28.343Z"
   },
   {
    "duration": 19,
    "start_time": "2024-02-05T13:15:28.362Z"
   },
   {
    "duration": 199,
    "start_time": "2024-02-05T13:15:28.383Z"
   },
   {
    "duration": 29,
    "start_time": "2024-02-05T13:15:28.584Z"
   },
   {
    "duration": 184,
    "start_time": "2024-02-05T13:19:26.460Z"
   },
   {
    "duration": 192,
    "start_time": "2024-02-05T13:19:31.836Z"
   },
   {
    "duration": 193,
    "start_time": "2024-02-05T13:19:44.886Z"
   },
   {
    "duration": 189,
    "start_time": "2024-02-05T13:19:52.495Z"
   },
   {
    "duration": 10,
    "start_time": "2024-02-05T13:21:50.798Z"
   },
   {
    "duration": 11,
    "start_time": "2024-02-05T13:22:31.955Z"
   },
   {
    "duration": 188,
    "start_time": "2024-02-05T13:22:48.154Z"
   }
  ],
  "colab": {
   "provenance": []
  },
  "kernelspec": {
   "display_name": "Python 3 (ipykernel)",
   "language": "python",
   "name": "python3"
  },
  "language_info": {
   "codemirror_mode": {
    "name": "ipython",
    "version": 3
   },
   "file_extension": ".py",
   "mimetype": "text/x-python",
   "name": "python",
   "nbconvert_exporter": "python",
   "pygments_lexer": "ipython3",
   "version": "3.11.7"
  },
  "toc": {
   "base_numbering": 1,
   "nav_menu": {},
   "number_sections": true,
   "sideBar": true,
   "skip_h1_title": true,
   "title_cell": "Table of Contents",
   "title_sidebar": "Contents",
   "toc_cell": false,
   "toc_position": {},
   "toc_section_display": true,
   "toc_window_display": false
  }
 },
 "nbformat": 4,
 "nbformat_minor": 4
}
