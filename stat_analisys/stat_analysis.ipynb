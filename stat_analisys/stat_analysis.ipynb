{
 "cells": [
  {
   "cell_type": "markdown",
   "id": "a427636f",
   "metadata": {},
   "source": [
    "# Cтатистический анализ данных"
   ]
  },
  {
   "cell_type": "markdown",
   "id": "84ac2897",
   "metadata": {},
   "source": [
    "    Необходимо провести анализ популярного сервиса аренды самокатов GoFast. Есть данные о некоторых пользователях из нескольких городов, а также об их поездках и оформленных подписках. Нужно проанализировать данные и проверить некоторые гипотезы, которые могут помочь бизнесу вырасти.\n",
    "    Чтобы совершать поездки по городу, пользователи сервиса GoFast пользуются мобильным приложением.\n",
    "    Предоставлены три датафрейма:\n",
    "    Пользователи — users_go.csv\n",
    "    Поездки — rides_go.csv\n",
    "    Подписки — subscriptions_go.csv"
   ]
  },
  {
   "cell_type": "markdown",
   "id": "a201e519",
   "metadata": {},
   "source": [
    "**План работы**\n",
    "1. Предобработка данных (проверка пропусков,изменение типа данных)\n",
    "2. Исследование и визуализация данных о пользователях и поездках\n",
    "3. Обединение данных в один дата фрейм\n",
    "4. Подсчет выручки\n",
    "5. Проверка гипотез\n",
    "6. Распределения\n"
   ]
  },
  {
   "cell_type": "code",
   "execution_count": 1,
   "id": "fafb05df",
   "metadata": {},
   "outputs": [],
   "source": [
    "import pandas as pd\n",
    "import matplotlib.pyplot as plt\n",
    "import numpy as np\n",
    "import scipy.stats as st\n",
    "from math import sqrt\n",
    "from scipy.stats import binom, norm"
   ]
  },
  {
   "cell_type": "markdown",
   "id": "c42cbe00",
   "metadata": {},
   "source": [
    "#### Шаг 1. Загрузка данных"
   ]
  },
  {
   "cell_type": "markdown",
   "id": "f2f922c0",
   "metadata": {},
   "source": [
    "Выведем информацию о каждом датафрейме и выведем первые строки каждого набора данных"
   ]
  },
  {
   "cell_type": "code",
   "execution_count": 2,
   "id": "eff9f206",
   "metadata": {},
   "outputs": [
    {
     "name": "stdout",
     "output_type": "stream",
     "text": [
      "<class 'pandas.core.frame.DataFrame'>\n",
      "RangeIndex: 1565 entries, 0 to 1564\n",
      "Data columns (total 5 columns):\n",
      " #   Column             Non-Null Count  Dtype \n",
      "---  ------             --------------  ----- \n",
      " 0   user_id            1565 non-null   int64 \n",
      " 1   name               1565 non-null   object\n",
      " 2   age                1565 non-null   int64 \n",
      " 3   city               1565 non-null   object\n",
      " 4   subscription_type  1565 non-null   object\n",
      "dtypes: int64(2), object(3)\n",
      "memory usage: 61.3+ KB\n"
     ]
    }
   ],
   "source": [
    "try:\n",
    "    users = pd.read_csv('/datasets/users_go.csv')\n",
    "except:\n",
    "    users = pd.read_csv('https://code.s3.yandex.net/datasets/users_go.csv')\n",
    "\n",
    "users.info()"
   ]
  },
  {
   "cell_type": "code",
   "execution_count": 3,
   "id": "381bdcb7",
   "metadata": {},
   "outputs": [
    {
     "data": {
      "text/html": [
       "<div>\n",
       "<style scoped>\n",
       "    .dataframe tbody tr th:only-of-type {\n",
       "        vertical-align: middle;\n",
       "    }\n",
       "\n",
       "    .dataframe tbody tr th {\n",
       "        vertical-align: top;\n",
       "    }\n",
       "\n",
       "    .dataframe thead th {\n",
       "        text-align: right;\n",
       "    }\n",
       "</style>\n",
       "<table border=\"1\" class=\"dataframe\">\n",
       "  <thead>\n",
       "    <tr style=\"text-align: right;\">\n",
       "      <th></th>\n",
       "      <th>user_id</th>\n",
       "      <th>name</th>\n",
       "      <th>age</th>\n",
       "      <th>city</th>\n",
       "      <th>subscription_type</th>\n",
       "    </tr>\n",
       "  </thead>\n",
       "  <tbody>\n",
       "    <tr>\n",
       "      <th>0</th>\n",
       "      <td>1</td>\n",
       "      <td>Кира</td>\n",
       "      <td>22</td>\n",
       "      <td>Тюмень</td>\n",
       "      <td>ultra</td>\n",
       "    </tr>\n",
       "    <tr>\n",
       "      <th>1</th>\n",
       "      <td>2</td>\n",
       "      <td>Станислав</td>\n",
       "      <td>31</td>\n",
       "      <td>Омск</td>\n",
       "      <td>ultra</td>\n",
       "    </tr>\n",
       "    <tr>\n",
       "      <th>2</th>\n",
       "      <td>3</td>\n",
       "      <td>Алексей</td>\n",
       "      <td>20</td>\n",
       "      <td>Москва</td>\n",
       "      <td>ultra</td>\n",
       "    </tr>\n",
       "    <tr>\n",
       "      <th>3</th>\n",
       "      <td>4</td>\n",
       "      <td>Константин</td>\n",
       "      <td>26</td>\n",
       "      <td>Ростов-на-Дону</td>\n",
       "      <td>ultra</td>\n",
       "    </tr>\n",
       "    <tr>\n",
       "      <th>4</th>\n",
       "      <td>5</td>\n",
       "      <td>Адель</td>\n",
       "      <td>28</td>\n",
       "      <td>Омск</td>\n",
       "      <td>ultra</td>\n",
       "    </tr>\n",
       "  </tbody>\n",
       "</table>\n",
       "</div>"
      ],
      "text/plain": [
       "   user_id        name  age            city subscription_type\n",
       "0        1        Кира   22          Тюмень             ultra\n",
       "1        2   Станислав   31            Омск             ultra\n",
       "2        3     Алексей   20          Москва             ultra\n",
       "3        4  Константин   26  Ростов-на-Дону             ultra\n",
       "4        5       Адель   28            Омск             ultra"
      ]
     },
     "execution_count": 3,
     "metadata": {},
     "output_type": "execute_result"
    }
   ],
   "source": [
    "users.head()"
   ]
  },
  {
   "cell_type": "code",
   "execution_count": 4,
   "id": "2785cda2",
   "metadata": {},
   "outputs": [
    {
     "name": "stdout",
     "output_type": "stream",
     "text": [
      "<class 'pandas.core.frame.DataFrame'>\n",
      "RangeIndex: 18068 entries, 0 to 18067\n",
      "Data columns (total 4 columns):\n",
      " #   Column    Non-Null Count  Dtype  \n",
      "---  ------    --------------  -----  \n",
      " 0   user_id   18068 non-null  int64  \n",
      " 1   distance  18068 non-null  float64\n",
      " 2   duration  18068 non-null  float64\n",
      " 3   date      18068 non-null  object \n",
      "dtypes: float64(2), int64(1), object(1)\n",
      "memory usage: 564.8+ KB\n"
     ]
    }
   ],
   "source": [
    "try:\n",
    "    rides = pd.read_csv('/datasets/rides_go.csv')\n",
    "except:\n",
    "    rides = pd.read_csv('https://code.s3.yandex.net/datasets/rides_go.csv')\n",
    "\n",
    "rides.info()"
   ]
  },
  {
   "cell_type": "code",
   "execution_count": 5,
   "id": "9d77fe96",
   "metadata": {},
   "outputs": [
    {
     "data": {
      "text/html": [
       "<div>\n",
       "<style scoped>\n",
       "    .dataframe tbody tr th:only-of-type {\n",
       "        vertical-align: middle;\n",
       "    }\n",
       "\n",
       "    .dataframe tbody tr th {\n",
       "        vertical-align: top;\n",
       "    }\n",
       "\n",
       "    .dataframe thead th {\n",
       "        text-align: right;\n",
       "    }\n",
       "</style>\n",
       "<table border=\"1\" class=\"dataframe\">\n",
       "  <thead>\n",
       "    <tr style=\"text-align: right;\">\n",
       "      <th></th>\n",
       "      <th>user_id</th>\n",
       "      <th>distance</th>\n",
       "      <th>duration</th>\n",
       "      <th>date</th>\n",
       "    </tr>\n",
       "  </thead>\n",
       "  <tbody>\n",
       "    <tr>\n",
       "      <th>0</th>\n",
       "      <td>1</td>\n",
       "      <td>4409.919140</td>\n",
       "      <td>25.599769</td>\n",
       "      <td>2021-01-01</td>\n",
       "    </tr>\n",
       "    <tr>\n",
       "      <th>1</th>\n",
       "      <td>1</td>\n",
       "      <td>2617.592153</td>\n",
       "      <td>15.816871</td>\n",
       "      <td>2021-01-18</td>\n",
       "    </tr>\n",
       "    <tr>\n",
       "      <th>2</th>\n",
       "      <td>1</td>\n",
       "      <td>754.159807</td>\n",
       "      <td>6.232113</td>\n",
       "      <td>2021-04-20</td>\n",
       "    </tr>\n",
       "    <tr>\n",
       "      <th>3</th>\n",
       "      <td>1</td>\n",
       "      <td>2694.783254</td>\n",
       "      <td>18.511000</td>\n",
       "      <td>2021-08-11</td>\n",
       "    </tr>\n",
       "    <tr>\n",
       "      <th>4</th>\n",
       "      <td>1</td>\n",
       "      <td>4028.687306</td>\n",
       "      <td>26.265803</td>\n",
       "      <td>2021-08-28</td>\n",
       "    </tr>\n",
       "  </tbody>\n",
       "</table>\n",
       "</div>"
      ],
      "text/plain": [
       "   user_id     distance   duration        date\n",
       "0        1  4409.919140  25.599769  2021-01-01\n",
       "1        1  2617.592153  15.816871  2021-01-18\n",
       "2        1   754.159807   6.232113  2021-04-20\n",
       "3        1  2694.783254  18.511000  2021-08-11\n",
       "4        1  4028.687306  26.265803  2021-08-28"
      ]
     },
     "execution_count": 5,
     "metadata": {},
     "output_type": "execute_result"
    }
   ],
   "source": [
    "rides.head()"
   ]
  },
  {
   "cell_type": "code",
   "execution_count": 6,
   "id": "29195d88",
   "metadata": {},
   "outputs": [
    {
     "name": "stdout",
     "output_type": "stream",
     "text": [
      "<class 'pandas.core.frame.DataFrame'>\n",
      "RangeIndex: 2 entries, 0 to 1\n",
      "Data columns (total 4 columns):\n",
      " #   Column             Non-Null Count  Dtype \n",
      "---  ------             --------------  ----- \n",
      " 0   subscription_type  2 non-null      object\n",
      " 1   minute_price       2 non-null      int64 \n",
      " 2   start_ride_price   2 non-null      int64 \n",
      " 3   subscription_fee   2 non-null      int64 \n",
      "dtypes: int64(3), object(1)\n",
      "memory usage: 192.0+ bytes\n"
     ]
    }
   ],
   "source": [
    "try:\n",
    "    subscriptions = pd.read_csv('/datasets/subscriptions_go.csv')\n",
    "except:\n",
    "    subscriptions = pd.read_csv('https://code.s3.yandex.net/datasets/subscriptions_go.csv')\n",
    "\n",
    "subscriptions.info()"
   ]
  },
  {
   "cell_type": "code",
   "execution_count": 7,
   "id": "ba24035c",
   "metadata": {},
   "outputs": [
    {
     "data": {
      "text/html": [
       "<div>\n",
       "<style scoped>\n",
       "    .dataframe tbody tr th:only-of-type {\n",
       "        vertical-align: middle;\n",
       "    }\n",
       "\n",
       "    .dataframe tbody tr th {\n",
       "        vertical-align: top;\n",
       "    }\n",
       "\n",
       "    .dataframe thead th {\n",
       "        text-align: right;\n",
       "    }\n",
       "</style>\n",
       "<table border=\"1\" class=\"dataframe\">\n",
       "  <thead>\n",
       "    <tr style=\"text-align: right;\">\n",
       "      <th></th>\n",
       "      <th>subscription_type</th>\n",
       "      <th>minute_price</th>\n",
       "      <th>start_ride_price</th>\n",
       "      <th>subscription_fee</th>\n",
       "    </tr>\n",
       "  </thead>\n",
       "  <tbody>\n",
       "    <tr>\n",
       "      <th>0</th>\n",
       "      <td>free</td>\n",
       "      <td>8</td>\n",
       "      <td>50</td>\n",
       "      <td>0</td>\n",
       "    </tr>\n",
       "    <tr>\n",
       "      <th>1</th>\n",
       "      <td>ultra</td>\n",
       "      <td>6</td>\n",
       "      <td>0</td>\n",
       "      <td>199</td>\n",
       "    </tr>\n",
       "  </tbody>\n",
       "</table>\n",
       "</div>"
      ],
      "text/plain": [
       "  subscription_type  minute_price  start_ride_price  subscription_fee\n",
       "0              free             8                50                 0\n",
       "1             ultra             6                 0               199"
      ]
     },
     "execution_count": 7,
     "metadata": {},
     "output_type": "execute_result"
    }
   ],
   "source": [
    "subscriptions.head()"
   ]
  },
  {
   "cell_type": "markdown",
   "id": "3503553e",
   "metadata": {},
   "source": [
    "    Даны три датафрейма в первом  данные о пользователях (идентификатор пользователя, имя, город, возраст и тип подписки), во втором данные о поездах (идентификатор пользователя, время, расстояние и дата поездки), третий состоит всего из жвух строк - это варианты подписки. В первом есть столбцы которые встречаются во втором и тертьем датафрейме. Проверим перые два датафрейма на пропуски и дубликаты данных.\n"
   ]
  },
  {
   "cell_type": "markdown",
   "id": "e95ebca7",
   "metadata": {},
   "source": [
    "#### Шаг 2. Предобработка данных"
   ]
  },
  {
   "cell_type": "markdown",
   "id": "8ca16bf5",
   "metadata": {},
   "source": [
    "##### Изменение столбца  к типу даты"
   ]
  },
  {
   "cell_type": "code",
   "execution_count": 8,
   "id": "6f262fc8",
   "metadata": {},
   "outputs": [
    {
     "name": "stdout",
     "output_type": "stream",
     "text": [
      "<class 'pandas.core.frame.DataFrame'>\n",
      "RangeIndex: 18068 entries, 0 to 18067\n",
      "Data columns (total 4 columns):\n",
      " #   Column    Non-Null Count  Dtype         \n",
      "---  ------    --------------  -----         \n",
      " 0   user_id   18068 non-null  int64         \n",
      " 1   distance  18068 non-null  float64       \n",
      " 2   duration  18068 non-null  float64       \n",
      " 3   date      18068 non-null  datetime64[ns]\n",
      "dtypes: datetime64[ns](1), float64(2), int64(1)\n",
      "memory usage: 564.8 KB\n"
     ]
    }
   ],
   "source": [
    "rides['date'] = pd.to_datetime(rides['date'], format='%Y-%m-%d')\n",
    "rides.info()"
   ]
  },
  {
   "cell_type": "markdown",
   "id": "a72271b8",
   "metadata": {},
   "source": [
    "##### Создание нового столбца с номером месяца"
   ]
  },
  {
   "cell_type": "code",
   "execution_count": 9,
   "id": "5fefb086",
   "metadata": {},
   "outputs": [
    {
     "data": {
      "text/html": [
       "<div>\n",
       "<style scoped>\n",
       "    .dataframe tbody tr th:only-of-type {\n",
       "        vertical-align: middle;\n",
       "    }\n",
       "\n",
       "    .dataframe tbody tr th {\n",
       "        vertical-align: top;\n",
       "    }\n",
       "\n",
       "    .dataframe thead th {\n",
       "        text-align: right;\n",
       "    }\n",
       "</style>\n",
       "<table border=\"1\" class=\"dataframe\">\n",
       "  <thead>\n",
       "    <tr style=\"text-align: right;\">\n",
       "      <th></th>\n",
       "      <th>user_id</th>\n",
       "      <th>distance</th>\n",
       "      <th>duration</th>\n",
       "      <th>date</th>\n",
       "      <th>ride_month</th>\n",
       "    </tr>\n",
       "  </thead>\n",
       "  <tbody>\n",
       "    <tr>\n",
       "      <th>0</th>\n",
       "      <td>1</td>\n",
       "      <td>4409.919140</td>\n",
       "      <td>25.599769</td>\n",
       "      <td>2021-01-01</td>\n",
       "      <td>1</td>\n",
       "    </tr>\n",
       "    <tr>\n",
       "      <th>1</th>\n",
       "      <td>1</td>\n",
       "      <td>2617.592153</td>\n",
       "      <td>15.816871</td>\n",
       "      <td>2021-01-18</td>\n",
       "      <td>1</td>\n",
       "    </tr>\n",
       "    <tr>\n",
       "      <th>2</th>\n",
       "      <td>1</td>\n",
       "      <td>754.159807</td>\n",
       "      <td>6.232113</td>\n",
       "      <td>2021-04-20</td>\n",
       "      <td>4</td>\n",
       "    </tr>\n",
       "    <tr>\n",
       "      <th>3</th>\n",
       "      <td>1</td>\n",
       "      <td>2694.783254</td>\n",
       "      <td>18.511000</td>\n",
       "      <td>2021-08-11</td>\n",
       "      <td>8</td>\n",
       "    </tr>\n",
       "    <tr>\n",
       "      <th>4</th>\n",
       "      <td>1</td>\n",
       "      <td>4028.687306</td>\n",
       "      <td>26.265803</td>\n",
       "      <td>2021-08-28</td>\n",
       "      <td>8</td>\n",
       "    </tr>\n",
       "    <tr>\n",
       "      <th>5</th>\n",
       "      <td>1</td>\n",
       "      <td>2770.890808</td>\n",
       "      <td>16.650138</td>\n",
       "      <td>2021-10-09</td>\n",
       "      <td>10</td>\n",
       "    </tr>\n",
       "    <tr>\n",
       "      <th>6</th>\n",
       "      <td>1</td>\n",
       "      <td>3039.020292</td>\n",
       "      <td>14.927879</td>\n",
       "      <td>2021-10-19</td>\n",
       "      <td>10</td>\n",
       "    </tr>\n",
       "    <tr>\n",
       "      <th>7</th>\n",
       "      <td>1</td>\n",
       "      <td>2842.118050</td>\n",
       "      <td>23.117468</td>\n",
       "      <td>2021-11-06</td>\n",
       "      <td>11</td>\n",
       "    </tr>\n",
       "    <tr>\n",
       "      <th>8</th>\n",
       "      <td>1</td>\n",
       "      <td>3412.690668</td>\n",
       "      <td>15.238072</td>\n",
       "      <td>2021-11-14</td>\n",
       "      <td>11</td>\n",
       "    </tr>\n",
       "    <tr>\n",
       "      <th>9</th>\n",
       "      <td>1</td>\n",
       "      <td>748.690645</td>\n",
       "      <td>15.041884</td>\n",
       "      <td>2021-11-22</td>\n",
       "      <td>11</td>\n",
       "    </tr>\n",
       "  </tbody>\n",
       "</table>\n",
       "</div>"
      ],
      "text/plain": [
       "   user_id     distance   duration       date  ride_month\n",
       "0        1  4409.919140  25.599769 2021-01-01           1\n",
       "1        1  2617.592153  15.816871 2021-01-18           1\n",
       "2        1   754.159807   6.232113 2021-04-20           4\n",
       "3        1  2694.783254  18.511000 2021-08-11           8\n",
       "4        1  4028.687306  26.265803 2021-08-28           8\n",
       "5        1  2770.890808  16.650138 2021-10-09          10\n",
       "6        1  3039.020292  14.927879 2021-10-19          10\n",
       "7        1  2842.118050  23.117468 2021-11-06          11\n",
       "8        1  3412.690668  15.238072 2021-11-14          11\n",
       "9        1   748.690645  15.041884 2021-11-22          11"
      ]
     },
     "execution_count": 9,
     "metadata": {},
     "output_type": "execute_result"
    }
   ],
   "source": [
    "rides['ride_month'] = rides['date'].dt.month\n",
    "rides.head(10)"
   ]
  },
  {
   "cell_type": "markdown",
   "id": "99936a7a",
   "metadata": {},
   "source": [
    "##### Проверка пропущенных значений и дубликатов"
   ]
  },
  {
   "cell_type": "code",
   "execution_count": 10,
   "id": "5756a3db",
   "metadata": {},
   "outputs": [
    {
     "name": "stdout",
     "output_type": "stream",
     "text": [
      "user_id              0\n",
      "name                 0\n",
      "age                  0\n",
      "city                 0\n",
      "subscription_type    0\n",
      "dtype: int64\n"
     ]
    },
    {
     "data": {
      "text/plain": [
       "user_id       0\n",
       "distance      0\n",
       "duration      0\n",
       "date          0\n",
       "ride_month    0\n",
       "dtype: int64"
      ]
     },
     "execution_count": 10,
     "metadata": {},
     "output_type": "execute_result"
    }
   ],
   "source": [
    "#проверка на пустые значение, третий датафрейм можно не проверять, там всего две строки и они заполнены\n",
    "print(users.isna().sum())\n",
    "rides.isna().sum()\n"
   ]
  },
  {
   "cell_type": "code",
   "execution_count": 11,
   "id": "d4fbb0f0",
   "metadata": {},
   "outputs": [
    {
     "name": "stdout",
     "output_type": "stream",
     "text": [
      "31\n"
     ]
    },
    {
     "data": {
      "text/plain": [
       "0"
      ]
     },
     "execution_count": 11,
     "metadata": {},
     "output_type": "execute_result"
    }
   ],
   "source": [
    "#проверка на дубликаты\n",
    "print(users.duplicated().sum())\n",
    "rides.duplicated().sum()\n"
   ]
  },
  {
   "cell_type": "code",
   "execution_count": 12,
   "id": "9b2f9bd0",
   "metadata": {},
   "outputs": [
    {
     "data": {
      "text/plain": [
       "0"
      ]
     },
     "execution_count": 12,
     "metadata": {},
     "output_type": "execute_result"
    }
   ],
   "source": [
    "users = users.drop_duplicates().reset_index(drop=True) #удалим обнаруженные дубликаты\n",
    "users.duplicated().sum()"
   ]
  },
  {
   "cell_type": "markdown",
   "id": "cd567ec4",
   "metadata": {},
   "source": [
    "В заданных датафреймах не обнаружили пустые значения, но было 31 строка с дубликатами, удалили их"
   ]
  },
  {
   "cell_type": "markdown",
   "id": "212593c7",
   "metadata": {},
   "source": [
    "#### Шаг 3. Исследовательский анализ данных"
   ]
  },
  {
   "cell_type": "markdown",
   "id": "3270e6eb",
   "metadata": {},
   "source": [
    "##### Частота встречаемости городов"
   ]
  },
  {
   "cell_type": "code",
   "execution_count": 13,
   "id": "e3a4274c",
   "metadata": {},
   "outputs": [
    {
     "data": {
      "text/html": [
       "<div>\n",
       "<style scoped>\n",
       "    .dataframe tbody tr th:only-of-type {\n",
       "        vertical-align: middle;\n",
       "    }\n",
       "\n",
       "    .dataframe tbody tr th {\n",
       "        vertical-align: top;\n",
       "    }\n",
       "\n",
       "    .dataframe thead th {\n",
       "        text-align: right;\n",
       "    }\n",
       "</style>\n",
       "<table border=\"1\" class=\"dataframe\">\n",
       "  <thead>\n",
       "    <tr style=\"text-align: right;\">\n",
       "      <th></th>\n",
       "      <th>count</th>\n",
       "    </tr>\n",
       "    <tr>\n",
       "      <th>city</th>\n",
       "      <th></th>\n",
       "    </tr>\n",
       "  </thead>\n",
       "  <tbody>\n",
       "    <tr>\n",
       "      <th>Пятигорск</th>\n",
       "      <td>219</td>\n",
       "    </tr>\n",
       "    <tr>\n",
       "      <th>Екатеринбург</th>\n",
       "      <td>204</td>\n",
       "    </tr>\n",
       "    <tr>\n",
       "      <th>Ростов-на-Дону</th>\n",
       "      <td>198</td>\n",
       "    </tr>\n",
       "    <tr>\n",
       "      <th>Краснодар</th>\n",
       "      <td>193</td>\n",
       "    </tr>\n",
       "    <tr>\n",
       "      <th>Сочи</th>\n",
       "      <td>189</td>\n",
       "    </tr>\n",
       "    <tr>\n",
       "      <th>Омск</th>\n",
       "      <td>183</td>\n",
       "    </tr>\n",
       "    <tr>\n",
       "      <th>Тюмень</th>\n",
       "      <td>180</td>\n",
       "    </tr>\n",
       "    <tr>\n",
       "      <th>Москва</th>\n",
       "      <td>168</td>\n",
       "    </tr>\n",
       "  </tbody>\n",
       "</table>\n",
       "</div>"
      ],
      "text/plain": [
       "                count\n",
       "city                 \n",
       "Пятигорск         219\n",
       "Екатеринбург      204\n",
       "Ростов-на-Дону    198\n",
       "Краснодар         193\n",
       "Сочи              189\n",
       "Омск              183\n",
       "Тюмень            180\n",
       "Москва            168"
      ]
     },
     "execution_count": 13,
     "metadata": {},
     "output_type": "execute_result"
    }
   ],
   "source": [
    "users.groupby('city')['user_id'].agg(['count'])\\\n",
    "    .sort_values(by = 'count', ascending = False) # отсортируем данные по количеству пользователей в разрезе городов"
   ]
  },
  {
   "cell_type": "code",
   "execution_count": 14,
   "id": "45ce60f7",
   "metadata": {},
   "outputs": [
    {
     "data": {
      "text/plain": [
       "Text(0.5, 1.0, 'Распределение по городам')"
      ]
     },
     "execution_count": 14,
     "metadata": {},
     "output_type": "execute_result"
    },
    {
     "data": {
      "image/png": "[encoded data removed]",
      "text/plain": [
       "<Figure size 720x360 with 1 Axes>"
      ]
     },
     "metadata": {
      "needs_background": "light"
     },
     "output_type": "display_data"
    }
   ],
   "source": [
    "plt.figure(figsize=(10,5))\n",
    "plt.hist(users['city'], bins=15)\n",
    "plt.xlabel('Города')\n",
    "plt.ylabel('Количество пользователей')\n",
    "plt.title('Распределение по городам')"
   ]
  },
  {
   "cell_type": "markdown",
   "id": "b2b1c35c",
   "metadata": {},
   "source": [
    "Частота встречаемости городов распределена практически равномерно. Больше всего пользователей самокатов в Пятигорске."
   ]
  },
  {
   "cell_type": "markdown",
   "id": "eb19ae73",
   "metadata": {},
   "source": [
    "##### Соотношение пользователей с подпиской и без"
   ]
  },
  {
   "cell_type": "code",
   "execution_count": 15,
   "id": "c8db6a31",
   "metadata": {
    "scrolled": true
   },
   "outputs": [
    {
     "data": {
      "text/html": [
       "<div>\n",
       "<style scoped>\n",
       "    .dataframe tbody tr th:only-of-type {\n",
       "        vertical-align: middle;\n",
       "    }\n",
       "\n",
       "    .dataframe tbody tr th {\n",
       "        vertical-align: top;\n",
       "    }\n",
       "\n",
       "    .dataframe thead th {\n",
       "        text-align: right;\n",
       "    }\n",
       "</style>\n",
       "<table border=\"1\" class=\"dataframe\">\n",
       "  <thead>\n",
       "    <tr style=\"text-align: right;\">\n",
       "      <th></th>\n",
       "      <th>subscription_type</th>\n",
       "      <th>count_subscription</th>\n",
       "    </tr>\n",
       "  </thead>\n",
       "  <tbody>\n",
       "    <tr>\n",
       "      <th>0</th>\n",
       "      <td>free</td>\n",
       "      <td>835</td>\n",
       "    </tr>\n",
       "    <tr>\n",
       "      <th>1</th>\n",
       "      <td>ultra</td>\n",
       "      <td>699</td>\n",
       "    </tr>\n",
       "  </tbody>\n",
       "</table>\n",
       "</div>"
      ],
      "text/plain": [
       "  subscription_type  count_subscription\n",
       "0              free                 835\n",
       "1             ultra                 699"
      ]
     },
     "execution_count": 15,
     "metadata": {},
     "output_type": "execute_result"
    }
   ],
   "source": [
    "users_type = users.groupby('subscription_type')['user_id'].agg(['count'])\n",
    "users_type = users_type.reset_index()\n",
    "users_type.columns=['subscription_type', 'count_subscription']\n",
    "users_type"
   ]
  },
  {
   "cell_type": "code",
   "execution_count": 16,
   "id": "07d5888b",
   "metadata": {},
   "outputs": [
    {
     "name": "stdout",
     "output_type": "stream",
     "text": [
      "Процент пользователей без подписки 54.43\n",
      "Процент пользователей c подпиской 45.57\n"
     ]
    }
   ],
   "source": [
    "users_total = users.shape[0]\n",
    "users_free = users.loc[users['subscription_type']=='free']['subscription_type'].count()/users_total\n",
    "users_ultra = users.loc[users['subscription_type']=='ultra']['subscription_type'].count()/users_total\n",
    "print('Процент пользователей без подписки', (users_free*100).round(2))\n",
    "print('Процент пользователей c подпиской', (users_ultra*100).round(2))\n"
   ]
  },
  {
   "cell_type": "code",
   "execution_count": 17,
   "id": "6f3e89af",
   "metadata": {},
   "outputs": [
    {
     "data": {
      "text/plain": [
       "Text(0.5, 1.0, 'Соотношение пользователей с подпиской и без')"
      ]
     },
     "execution_count": 17,
     "metadata": {},
     "output_type": "execute_result"
    },
    {
     "data": {
      "image/png": "[encoded data removed]",
      "text/plain": [
       "<Figure size 576x360 with 1 Axes>"
      ]
     },
     "metadata": {},
     "output_type": "display_data"
    }
   ],
   "source": [
    "plt.figure(figsize=(8,5))\n",
    "plt.pie(users_type['count_subscription'], labels=users_type['subscription_type'], autopct='%1.1f%%')\n",
    "plt.title('Соотношение пользователей с подпиской и без')"
   ]
  },
  {
   "cell_type": "markdown",
   "id": "11dff26b",
   "metadata": {},
   "source": [
    "Процент пользователей с подпиской на 10% процентов меньше, чем без подписки"
   ]
  },
  {
   "cell_type": "markdown",
   "id": "09452a51",
   "metadata": {},
   "source": [
    "##### Анализ возраста пользователей"
   ]
  },
  {
   "cell_type": "code",
   "execution_count": 18,
   "id": "f8f36372",
   "metadata": {},
   "outputs": [
    {
     "data": {
      "text/html": [
       "<div>\n",
       "<style scoped>\n",
       "    .dataframe tbody tr th:only-of-type {\n",
       "        vertical-align: middle;\n",
       "    }\n",
       "\n",
       "    .dataframe tbody tr th {\n",
       "        vertical-align: top;\n",
       "    }\n",
       "\n",
       "    .dataframe thead th {\n",
       "        text-align: right;\n",
       "    }\n",
       "</style>\n",
       "<table border=\"1\" class=\"dataframe\">\n",
       "  <thead>\n",
       "    <tr style=\"text-align: right;\">\n",
       "      <th></th>\n",
       "      <th>count</th>\n",
       "    </tr>\n",
       "    <tr>\n",
       "      <th>age_type</th>\n",
       "      <th></th>\n",
       "    </tr>\n",
       "  </thead>\n",
       "  <tbody>\n",
       "    <tr>\n",
       "      <th>20-25 лет</th>\n",
       "      <td>689</td>\n",
       "    </tr>\n",
       "    <tr>\n",
       "      <th>26-30 лет</th>\n",
       "      <td>498</td>\n",
       "    </tr>\n",
       "    <tr>\n",
       "      <th>старше 30</th>\n",
       "      <td>175</td>\n",
       "    </tr>\n",
       "    <tr>\n",
       "      <th>моложе 20</th>\n",
       "      <td>172</td>\n",
       "    </tr>\n",
       "  </tbody>\n",
       "</table>\n",
       "</div>"
      ],
      "text/plain": [
       "           count\n",
       "age_type        \n",
       "20-25 лет    689\n",
       "26-30 лет    498\n",
       "старше 30    175\n",
       "моложе 20    172"
      ]
     },
     "execution_count": 18,
     "metadata": {},
     "output_type": "execute_result"
    }
   ],
   "source": [
    "def categorize_age(age):\n",
    "    try:\n",
    "        if 20 <= age <= 25:\n",
    "            return '20-25 лет'\n",
    "        elif 25 < age <= 30:\n",
    "            return '26-30 лет'\n",
    "        elif 25 < age:\n",
    "            return 'старше 30'\n",
    "        elif age < 20:\n",
    "            return 'моложе 20'\n",
    "    except:\n",
    "        pass\n",
    "    \n",
    "users['age_type'] = users['age'].apply(categorize_age)\n",
    "\n",
    "users.groupby('age_type')['user_id'].agg(['count'])\\\n",
    "    .sort_values(by = 'count', ascending = False)"
   ]
  },
  {
   "cell_type": "code",
   "execution_count": 19,
   "id": "a19c9504",
   "metadata": {},
   "outputs": [
    {
     "data": {
      "text/plain": [
       "count    1534.000000\n",
       "mean       24.903520\n",
       "std         4.572367\n",
       "min        12.000000\n",
       "25%        22.000000\n",
       "50%        25.000000\n",
       "75%        28.000000\n",
       "max        43.000000\n",
       "Name: age, dtype: float64"
      ]
     },
     "execution_count": 19,
     "metadata": {},
     "output_type": "execute_result"
    }
   ],
   "source": [
    "users['age'].describe()"
   ]
  },
  {
   "cell_type": "code",
   "execution_count": 20,
   "id": "880357ec",
   "metadata": {},
   "outputs": [
    {
     "data": {
      "text/plain": [
       "Text(0.5, 1.0, 'Распределение по возрасту')"
      ]
     },
     "execution_count": 20,
     "metadata": {},
     "output_type": "execute_result"
    },
    {
     "data": {
      "image/png": "[encoded data removed]",
      "text/plain": [
       "<Figure size 576x360 with 1 Axes>"
      ]
     },
     "metadata": {
      "needs_background": "light"
     },
     "output_type": "display_data"
    }
   ],
   "source": [
    "plt.figure(figsize=(8,5))\n",
    "plt.hist(users['age'], bins=15)\n",
    "plt.xlabel('Возраст')\n",
    "plt.ylabel('Количество пользователей')\n",
    "plt.title('Распределение по возрасту')"
   ]
  },
  {
   "cell_type": "code",
   "execution_count": 21,
   "id": "1d727bc5",
   "metadata": {},
   "outputs": [],
   "source": [
    "users = users.drop(columns = 'age_type', axis = 1)"
   ]
  },
  {
   "cell_type": "markdown",
   "id": "e08bf0ff",
   "metadata": {},
   "source": [
    "Основная часть пользователей это молодые люди 20-25 лет, данные по возрасту имеют нормальное распределение со средним значением 24,9. Самому молодому пользователю 12 лет, а самому взрослому -43 года."
   ]
  },
  {
   "cell_type": "markdown",
   "id": "66d5ad19",
   "metadata": {},
   "source": [
    "##### Анализ длинны одной поездки"
   ]
  },
  {
   "cell_type": "code",
   "execution_count": 22,
   "id": "23ea866b",
   "metadata": {},
   "outputs": [
    {
     "data": {
      "text/plain": [
       "count    18068.000000\n",
       "mean      3070.659976\n",
       "std       1116.831209\n",
       "min          0.855683\n",
       "25%       2543.226360\n",
       "50%       3133.609994\n",
       "75%       3776.222735\n",
       "max       7211.007745\n",
       "Name: distance, dtype: float64"
      ]
     },
     "execution_count": 22,
     "metadata": {},
     "output_type": "execute_result"
    }
   ],
   "source": [
    "rides['distance'].describe()"
   ]
  },
  {
   "cell_type": "code",
   "execution_count": 23,
   "id": "3275a1a8",
   "metadata": {},
   "outputs": [
    {
     "data": {
      "text/plain": [
       "Text(0.5, 1.0, 'Распределение по расстоянию')"
      ]
     },
     "execution_count": 23,
     "metadata": {},
     "output_type": "execute_result"
    },
    {
     "data": {
      "image/png": "[encoded data removed]",
      "text/plain": [
       "<Figure size 432x288 with 1 Axes>"
      ]
     },
     "metadata": {
      "needs_background": "light"
     },
     "output_type": "display_data"
    }
   ],
   "source": [
    "#plt.figure(figsize=(8,5))\n",
    "plt.hist(rides['distance'], bins=30)\n",
    "plt.xlabel('Длина поездки, м')\n",
    "plt.ylabel('Количество')\n",
    "plt.title('Распределение по расстоянию')"
   ]
  },
  {
   "cell_type": "code",
   "execution_count": 24,
   "id": "d45545bf",
   "metadata": {},
   "outputs": [
    {
     "data": {
      "text/html": [
       "<div>\n",
       "<style scoped>\n",
       "    .dataframe tbody tr th:only-of-type {\n",
       "        vertical-align: middle;\n",
       "    }\n",
       "\n",
       "    .dataframe tbody tr th {\n",
       "        vertical-align: top;\n",
       "    }\n",
       "\n",
       "    .dataframe thead th {\n",
       "        text-align: right;\n",
       "    }\n",
       "</style>\n",
       "<table border=\"1\" class=\"dataframe\">\n",
       "  <thead>\n",
       "    <tr style=\"text-align: right;\">\n",
       "      <th></th>\n",
       "      <th>user_id</th>\n",
       "      <th>distance</th>\n",
       "      <th>duration</th>\n",
       "      <th>date</th>\n",
       "      <th>ride_month</th>\n",
       "    </tr>\n",
       "  </thead>\n",
       "  <tbody>\n",
       "    <tr>\n",
       "      <th>2</th>\n",
       "      <td>1</td>\n",
       "      <td>754.159807</td>\n",
       "      <td>6.232113</td>\n",
       "      <td>2021-04-20</td>\n",
       "      <td>4</td>\n",
       "    </tr>\n",
       "    <tr>\n",
       "      <th>9</th>\n",
       "      <td>1</td>\n",
       "      <td>748.690645</td>\n",
       "      <td>15.041884</td>\n",
       "      <td>2021-11-22</td>\n",
       "      <td>11</td>\n",
       "    </tr>\n",
       "    <tr>\n",
       "      <th>20</th>\n",
       "      <td>2</td>\n",
       "      <td>923.007439</td>\n",
       "      <td>6.914760</td>\n",
       "      <td>2021-08-03</td>\n",
       "      <td>8</td>\n",
       "    </tr>\n",
       "    <tr>\n",
       "      <th>47</th>\n",
       "      <td>4</td>\n",
       "      <td>724.559572</td>\n",
       "      <td>11.811399</td>\n",
       "      <td>2021-11-14</td>\n",
       "      <td>11</td>\n",
       "    </tr>\n",
       "    <tr>\n",
       "      <th>91</th>\n",
       "      <td>9</td>\n",
       "      <td>979.657684</td>\n",
       "      <td>17.521497</td>\n",
       "      <td>2021-03-08</td>\n",
       "      <td>3</td>\n",
       "    </tr>\n",
       "    <tr>\n",
       "      <th>...</th>\n",
       "      <td>...</td>\n",
       "      <td>...</td>\n",
       "      <td>...</td>\n",
       "      <td>...</td>\n",
       "      <td>...</td>\n",
       "    </tr>\n",
       "    <tr>\n",
       "      <th>18030</th>\n",
       "      <td>1532</td>\n",
       "      <td>842.097458</td>\n",
       "      <td>8.608989</td>\n",
       "      <td>2021-04-01</td>\n",
       "      <td>4</td>\n",
       "    </tr>\n",
       "    <tr>\n",
       "      <th>18031</th>\n",
       "      <td>1532</td>\n",
       "      <td>303.787850</td>\n",
       "      <td>7.792490</td>\n",
       "      <td>2021-05-21</td>\n",
       "      <td>5</td>\n",
       "    </tr>\n",
       "    <tr>\n",
       "      <th>18037</th>\n",
       "      <td>1532</td>\n",
       "      <td>662.468186</td>\n",
       "      <td>9.528773</td>\n",
       "      <td>2021-11-18</td>\n",
       "      <td>11</td>\n",
       "    </tr>\n",
       "    <tr>\n",
       "      <th>18043</th>\n",
       "      <td>1533</td>\n",
       "      <td>310.488247</td>\n",
       "      <td>10.642389</td>\n",
       "      <td>2021-02-21</td>\n",
       "      <td>2</td>\n",
       "    </tr>\n",
       "    <tr>\n",
       "      <th>18058</th>\n",
       "      <td>1534</td>\n",
       "      <td>195.447469</td>\n",
       "      <td>6.469074</td>\n",
       "      <td>2021-06-11</td>\n",
       "      <td>6</td>\n",
       "    </tr>\n",
       "  </tbody>\n",
       "</table>\n",
       "<p>1372 rows × 5 columns</p>\n",
       "</div>"
      ],
      "text/plain": [
       "       user_id    distance   duration       date  ride_month\n",
       "2            1  754.159807   6.232113 2021-04-20           4\n",
       "9            1  748.690645  15.041884 2021-11-22          11\n",
       "20           2  923.007439   6.914760 2021-08-03           8\n",
       "47           4  724.559572  11.811399 2021-11-14          11\n",
       "91           9  979.657684  17.521497 2021-03-08           3\n",
       "...        ...         ...        ...        ...         ...\n",
       "18030     1532  842.097458   8.608989 2021-04-01           4\n",
       "18031     1532  303.787850   7.792490 2021-05-21           5\n",
       "18037     1532  662.468186   9.528773 2021-11-18          11\n",
       "18043     1533  310.488247  10.642389 2021-02-21           2\n",
       "18058     1534  195.447469   6.469074 2021-06-11           6\n",
       "\n",
       "[1372 rows x 5 columns]"
      ]
     },
     "execution_count": 24,
     "metadata": {},
     "output_type": "execute_result"
    }
   ],
   "source": [
    "rides.loc[rides['distance']<1000]"
   ]
  },
  {
   "cell_type": "markdown",
   "id": "a570140f",
   "metadata": {},
   "source": [
    "Распределение длинны поездки имеет нормальное распределение с двумя пиками, маленьким в районе 600м и большим в 3000м. Можно предположить, что маленький пик не является аномальным, т.к время поездки тоже невелико. Вполне возможно такие поездки имеют место быть от дома до станции метро."
   ]
  },
  {
   "cell_type": "markdown",
   "id": "39e17545",
   "metadata": {},
   "source": [
    "##### Анализ продолжительности одной поездки"
   ]
  },
  {
   "cell_type": "code",
   "execution_count": 25,
   "id": "83e50a46",
   "metadata": {},
   "outputs": [
    {
     "data": {
      "text/plain": [
       "count    18068.000000\n",
       "mean        17.805011\n",
       "std          6.091051\n",
       "min          0.500000\n",
       "25%         13.597563\n",
       "50%         17.678395\n",
       "75%         21.724800\n",
       "max         40.823963\n",
       "Name: duration, dtype: float64"
      ]
     },
     "execution_count": 25,
     "metadata": {},
     "output_type": "execute_result"
    }
   ],
   "source": [
    "rides['duration'].describe()"
   ]
  },
  {
   "cell_type": "code",
   "execution_count": 26,
   "id": "30c6353b",
   "metadata": {},
   "outputs": [
    {
     "data": {
      "text/plain": [
       "Text(0.5, 1.0, 'Распределение по продолжительности')"
      ]
     },
     "execution_count": 26,
     "metadata": {},
     "output_type": "execute_result"
    },
    {
     "data": {
      "image/png": "[encoded data removed]",
      "text/plain": [
       "<Figure size 432x288 with 1 Axes>"
      ]
     },
     "metadata": {
      "needs_background": "light"
     },
     "output_type": "display_data"
    }
   ],
   "source": [
    "plt.hist(rides['duration'], bins=30)\n",
    "plt.xlabel('Продолжительность поездки, мин')\n",
    "plt.ylabel('Количество')\n",
    "plt.title('Распределение по продолжительности')"
   ]
  },
  {
   "cell_type": "markdown",
   "id": "781571bb",
   "metadata": {},
   "source": [
    "Продолжительность поездки имеет нормальное распределение с макс 17.67 мин"
   ]
  },
  {
   "cell_type": "markdown",
   "id": "b9deba8b",
   "metadata": {},
   "source": [
    "\n",
    "    В ходе исследовательского анализа данных выявили следующее. Пользователи зарегистрированы из 8 городов, самое большое количество пользователей самокатов в г. Пятигорске.Частота встречаемости городов распределена практически равномерно. Процент пользователей с подпиской 45.57% от общего количества пользователей, что на 10% меньше чем пользователей без подписки. Основная часть пользователей это молодые люди 20-25 лет, данные по возрасту имеют нормальное распределение со средним значением 24,9.Распределение длинны поездки имеет нормальное распределение с двумя пиками, маленьким в районе 600м и большим в 3000м. Распределение продолжительности поездки тоже имеет нормальное распределение со средним значением около 17,67 мин. \n"
   ]
  },
  {
   "cell_type": "markdown",
   "id": "4ef51331",
   "metadata": {},
   "source": [
    "#### Шаг 4. Объединение данных"
   ]
  },
  {
   "cell_type": "markdown",
   "id": "456866a7",
   "metadata": {},
   "source": [
    "##### Объединение данных в один датафрем"
   ]
  },
  {
   "cell_type": "code",
   "execution_count": 27,
   "id": "49e04dab",
   "metadata": {},
   "outputs": [
    {
     "data": {
      "text/html": [
       "<div>\n",
       "<style scoped>\n",
       "    .dataframe tbody tr th:only-of-type {\n",
       "        vertical-align: middle;\n",
       "    }\n",
       "\n",
       "    .dataframe tbody tr th {\n",
       "        vertical-align: top;\n",
       "    }\n",
       "\n",
       "    .dataframe thead th {\n",
       "        text-align: right;\n",
       "    }\n",
       "</style>\n",
       "<table border=\"1\" class=\"dataframe\">\n",
       "  <thead>\n",
       "    <tr style=\"text-align: right;\">\n",
       "      <th></th>\n",
       "      <th>user_id</th>\n",
       "      <th>name</th>\n",
       "      <th>age</th>\n",
       "      <th>city</th>\n",
       "      <th>subscription_type</th>\n",
       "      <th>distance</th>\n",
       "      <th>duration</th>\n",
       "      <th>date</th>\n",
       "      <th>ride_month</th>\n",
       "      <th>minute_price</th>\n",
       "      <th>start_ride_price</th>\n",
       "      <th>subscription_fee</th>\n",
       "    </tr>\n",
       "  </thead>\n",
       "  <tbody>\n",
       "    <tr>\n",
       "      <th>0</th>\n",
       "      <td>1</td>\n",
       "      <td>Кира</td>\n",
       "      <td>22</td>\n",
       "      <td>Тюмень</td>\n",
       "      <td>ultra</td>\n",
       "      <td>4409.919140</td>\n",
       "      <td>25.599769</td>\n",
       "      <td>2021-01-01</td>\n",
       "      <td>1</td>\n",
       "      <td>6</td>\n",
       "      <td>0</td>\n",
       "      <td>199</td>\n",
       "    </tr>\n",
       "    <tr>\n",
       "      <th>1</th>\n",
       "      <td>1</td>\n",
       "      <td>Кира</td>\n",
       "      <td>22</td>\n",
       "      <td>Тюмень</td>\n",
       "      <td>ultra</td>\n",
       "      <td>2617.592153</td>\n",
       "      <td>15.816871</td>\n",
       "      <td>2021-01-18</td>\n",
       "      <td>1</td>\n",
       "      <td>6</td>\n",
       "      <td>0</td>\n",
       "      <td>199</td>\n",
       "    </tr>\n",
       "    <tr>\n",
       "      <th>2</th>\n",
       "      <td>1</td>\n",
       "      <td>Кира</td>\n",
       "      <td>22</td>\n",
       "      <td>Тюмень</td>\n",
       "      <td>ultra</td>\n",
       "      <td>754.159807</td>\n",
       "      <td>6.232113</td>\n",
       "      <td>2021-04-20</td>\n",
       "      <td>4</td>\n",
       "      <td>6</td>\n",
       "      <td>0</td>\n",
       "      <td>199</td>\n",
       "    </tr>\n",
       "    <tr>\n",
       "      <th>3</th>\n",
       "      <td>1</td>\n",
       "      <td>Кира</td>\n",
       "      <td>22</td>\n",
       "      <td>Тюмень</td>\n",
       "      <td>ultra</td>\n",
       "      <td>2694.783254</td>\n",
       "      <td>18.511000</td>\n",
       "      <td>2021-08-11</td>\n",
       "      <td>8</td>\n",
       "      <td>6</td>\n",
       "      <td>0</td>\n",
       "      <td>199</td>\n",
       "    </tr>\n",
       "    <tr>\n",
       "      <th>4</th>\n",
       "      <td>1</td>\n",
       "      <td>Кира</td>\n",
       "      <td>22</td>\n",
       "      <td>Тюмень</td>\n",
       "      <td>ultra</td>\n",
       "      <td>4028.687306</td>\n",
       "      <td>26.265803</td>\n",
       "      <td>2021-08-28</td>\n",
       "      <td>8</td>\n",
       "      <td>6</td>\n",
       "      <td>0</td>\n",
       "      <td>199</td>\n",
       "    </tr>\n",
       "    <tr>\n",
       "      <th>5</th>\n",
       "      <td>1</td>\n",
       "      <td>Кира</td>\n",
       "      <td>22</td>\n",
       "      <td>Тюмень</td>\n",
       "      <td>ultra</td>\n",
       "      <td>2770.890808</td>\n",
       "      <td>16.650138</td>\n",
       "      <td>2021-10-09</td>\n",
       "      <td>10</td>\n",
       "      <td>6</td>\n",
       "      <td>0</td>\n",
       "      <td>199</td>\n",
       "    </tr>\n",
       "    <tr>\n",
       "      <th>6</th>\n",
       "      <td>1</td>\n",
       "      <td>Кира</td>\n",
       "      <td>22</td>\n",
       "      <td>Тюмень</td>\n",
       "      <td>ultra</td>\n",
       "      <td>3039.020292</td>\n",
       "      <td>14.927879</td>\n",
       "      <td>2021-10-19</td>\n",
       "      <td>10</td>\n",
       "      <td>6</td>\n",
       "      <td>0</td>\n",
       "      <td>199</td>\n",
       "    </tr>\n",
       "    <tr>\n",
       "      <th>7</th>\n",
       "      <td>1</td>\n",
       "      <td>Кира</td>\n",
       "      <td>22</td>\n",
       "      <td>Тюмень</td>\n",
       "      <td>ultra</td>\n",
       "      <td>2842.118050</td>\n",
       "      <td>23.117468</td>\n",
       "      <td>2021-11-06</td>\n",
       "      <td>11</td>\n",
       "      <td>6</td>\n",
       "      <td>0</td>\n",
       "      <td>199</td>\n",
       "    </tr>\n",
       "    <tr>\n",
       "      <th>8</th>\n",
       "      <td>1</td>\n",
       "      <td>Кира</td>\n",
       "      <td>22</td>\n",
       "      <td>Тюмень</td>\n",
       "      <td>ultra</td>\n",
       "      <td>3412.690668</td>\n",
       "      <td>15.238072</td>\n",
       "      <td>2021-11-14</td>\n",
       "      <td>11</td>\n",
       "      <td>6</td>\n",
       "      <td>0</td>\n",
       "      <td>199</td>\n",
       "    </tr>\n",
       "    <tr>\n",
       "      <th>9</th>\n",
       "      <td>1</td>\n",
       "      <td>Кира</td>\n",
       "      <td>22</td>\n",
       "      <td>Тюмень</td>\n",
       "      <td>ultra</td>\n",
       "      <td>748.690645</td>\n",
       "      <td>15.041884</td>\n",
       "      <td>2021-11-22</td>\n",
       "      <td>11</td>\n",
       "      <td>6</td>\n",
       "      <td>0</td>\n",
       "      <td>199</td>\n",
       "    </tr>\n",
       "    <tr>\n",
       "      <th>10</th>\n",
       "      <td>1</td>\n",
       "      <td>Кира</td>\n",
       "      <td>22</td>\n",
       "      <td>Тюмень</td>\n",
       "      <td>ultra</td>\n",
       "      <td>4031.020195</td>\n",
       "      <td>17.674448</td>\n",
       "      <td>2021-12-14</td>\n",
       "      <td>12</td>\n",
       "      <td>6</td>\n",
       "      <td>0</td>\n",
       "      <td>199</td>\n",
       "    </tr>\n",
       "    <tr>\n",
       "      <th>11</th>\n",
       "      <td>1</td>\n",
       "      <td>Кира</td>\n",
       "      <td>22</td>\n",
       "      <td>Тюмень</td>\n",
       "      <td>ultra</td>\n",
       "      <td>2720.609748</td>\n",
       "      <td>9.529463</td>\n",
       "      <td>2021-12-22</td>\n",
       "      <td>12</td>\n",
       "      <td>6</td>\n",
       "      <td>0</td>\n",
       "      <td>199</td>\n",
       "    </tr>\n",
       "    <tr>\n",
       "      <th>12</th>\n",
       "      <td>2</td>\n",
       "      <td>Станислав</td>\n",
       "      <td>31</td>\n",
       "      <td>Омск</td>\n",
       "      <td>ultra</td>\n",
       "      <td>3105.086678</td>\n",
       "      <td>24.307514</td>\n",
       "      <td>2021-03-15</td>\n",
       "      <td>3</td>\n",
       "      <td>6</td>\n",
       "      <td>0</td>\n",
       "      <td>199</td>\n",
       "    </tr>\n",
       "    <tr>\n",
       "      <th>13</th>\n",
       "      <td>2</td>\n",
       "      <td>Станислав</td>\n",
       "      <td>31</td>\n",
       "      <td>Омск</td>\n",
       "      <td>ultra</td>\n",
       "      <td>3053.519401</td>\n",
       "      <td>11.543256</td>\n",
       "      <td>2021-03-18</td>\n",
       "      <td>3</td>\n",
       "      <td>6</td>\n",
       "      <td>0</td>\n",
       "      <td>199</td>\n",
       "    </tr>\n",
       "    <tr>\n",
       "      <th>14</th>\n",
       "      <td>2</td>\n",
       "      <td>Станислав</td>\n",
       "      <td>31</td>\n",
       "      <td>Омск</td>\n",
       "      <td>ultra</td>\n",
       "      <td>4029.116927</td>\n",
       "      <td>25.109188</td>\n",
       "      <td>2021-03-23</td>\n",
       "      <td>3</td>\n",
       "      <td>6</td>\n",
       "      <td>0</td>\n",
       "      <td>199</td>\n",
       "    </tr>\n",
       "  </tbody>\n",
       "</table>\n",
       "</div>"
      ],
      "text/plain": [
       "    user_id       name  age    city subscription_type     distance   duration  \\\n",
       "0         1       Кира   22  Тюмень             ultra  4409.919140  25.599769   \n",
       "1         1       Кира   22  Тюмень             ultra  2617.592153  15.816871   \n",
       "2         1       Кира   22  Тюмень             ultra   754.159807   6.232113   \n",
       "3         1       Кира   22  Тюмень             ultra  2694.783254  18.511000   \n",
       "4         1       Кира   22  Тюмень             ultra  4028.687306  26.265803   \n",
       "5         1       Кира   22  Тюмень             ultra  2770.890808  16.650138   \n",
       "6         1       Кира   22  Тюмень             ultra  3039.020292  14.927879   \n",
       "7         1       Кира   22  Тюмень             ultra  2842.118050  23.117468   \n",
       "8         1       Кира   22  Тюмень             ultra  3412.690668  15.238072   \n",
       "9         1       Кира   22  Тюмень             ultra   748.690645  15.041884   \n",
       "10        1       Кира   22  Тюмень             ultra  4031.020195  17.674448   \n",
       "11        1       Кира   22  Тюмень             ultra  2720.609748   9.529463   \n",
       "12        2  Станислав   31    Омск             ultra  3105.086678  24.307514   \n",
       "13        2  Станислав   31    Омск             ultra  3053.519401  11.543256   \n",
       "14        2  Станислав   31    Омск             ultra  4029.116927  25.109188   \n",
       "\n",
       "         date  ride_month  minute_price  start_ride_price  subscription_fee  \n",
       "0  2021-01-01           1             6                 0               199  \n",
       "1  2021-01-18           1             6                 0               199  \n",
       "2  2021-04-20           4             6                 0               199  \n",
       "3  2021-08-11           8             6                 0               199  \n",
       "4  2021-08-28           8             6                 0               199  \n",
       "5  2021-10-09          10             6                 0               199  \n",
       "6  2021-10-19          10             6                 0               199  \n",
       "7  2021-11-06          11             6                 0               199  \n",
       "8  2021-11-14          11             6                 0               199  \n",
       "9  2021-11-22          11             6                 0               199  \n",
       "10 2021-12-14          12             6                 0               199  \n",
       "11 2021-12-22          12             6                 0               199  \n",
       "12 2021-03-15           3             6                 0               199  \n",
       "13 2021-03-18           3             6                 0               199  \n",
       "14 2021-03-23           3             6                 0               199  "
      ]
     },
     "execution_count": 27,
     "metadata": {},
     "output_type": "execute_result"
    }
   ],
   "source": [
    "data = users.merge(rides, on='user_id', how='left')\n",
    "data = data.merge(subscriptions, on='subscription_type', how='left')\n",
    "data.head(15)"
   ]
  },
  {
   "cell_type": "code",
   "execution_count": 28,
   "id": "dc89c1a6",
   "metadata": {},
   "outputs": [
    {
     "name": "stdout",
     "output_type": "stream",
     "text": [
      "<class 'pandas.core.frame.DataFrame'>\n",
      "Int64Index: 18068 entries, 0 to 18067\n",
      "Data columns (total 12 columns):\n",
      " #   Column             Non-Null Count  Dtype         \n",
      "---  ------             --------------  -----         \n",
      " 0   user_id            18068 non-null  int64         \n",
      " 1   name               18068 non-null  object        \n",
      " 2   age                18068 non-null  int64         \n",
      " 3   city               18068 non-null  object        \n",
      " 4   subscription_type  18068 non-null  object        \n",
      " 5   distance           18068 non-null  float64       \n",
      " 6   duration           18068 non-null  float64       \n",
      " 7   date               18068 non-null  datetime64[ns]\n",
      " 8   ride_month         18068 non-null  int64         \n",
      " 9   minute_price       18068 non-null  int64         \n",
      " 10  start_ride_price   18068 non-null  int64         \n",
      " 11  subscription_fee   18068 non-null  int64         \n",
      "dtypes: datetime64[ns](1), float64(2), int64(6), object(3)\n",
      "memory usage: 1.8+ MB\n"
     ]
    }
   ],
   "source": [
    "data.info()"
   ]
  },
  {
   "cell_type": "markdown",
   "id": "83d2d5a6",
   "metadata": {},
   "source": [
    "##### Разделение датафрейма по наличию подписки"
   ]
  },
  {
   "cell_type": "code",
   "execution_count": 29,
   "id": "03e9a7c2",
   "metadata": {},
   "outputs": [],
   "source": [
    "data_free = data.loc[data['subscription_type']=='free'] #пользователи без подписки\n",
    "data_ultra = data.loc[data['subscription_type']=='ultra'] # пользователи с подпиской"
   ]
  },
  {
   "cell_type": "code",
   "execution_count": 30,
   "id": "e4b2915d",
   "metadata": {},
   "outputs": [
    {
     "data": {
      "text/html": [
       "<div>\n",
       "<style scoped>\n",
       "    .dataframe tbody tr th:only-of-type {\n",
       "        vertical-align: middle;\n",
       "    }\n",
       "\n",
       "    .dataframe tbody tr th {\n",
       "        vertical-align: top;\n",
       "    }\n",
       "\n",
       "    .dataframe thead th {\n",
       "        text-align: right;\n",
       "    }\n",
       "</style>\n",
       "<table border=\"1\" class=\"dataframe\">\n",
       "  <thead>\n",
       "    <tr style=\"text-align: right;\">\n",
       "      <th></th>\n",
       "      <th>user_id</th>\n",
       "      <th>name</th>\n",
       "      <th>age</th>\n",
       "      <th>city</th>\n",
       "      <th>subscription_type</th>\n",
       "      <th>distance</th>\n",
       "      <th>duration</th>\n",
       "      <th>date</th>\n",
       "      <th>ride_month</th>\n",
       "      <th>minute_price</th>\n",
       "      <th>start_ride_price</th>\n",
       "      <th>subscription_fee</th>\n",
       "    </tr>\n",
       "  </thead>\n",
       "  <tbody>\n",
       "    <tr>\n",
       "      <th>6500</th>\n",
       "      <td>700</td>\n",
       "      <td>Айдар</td>\n",
       "      <td>22</td>\n",
       "      <td>Омск</td>\n",
       "      <td>free</td>\n",
       "      <td>2515.690719</td>\n",
       "      <td>14.944286</td>\n",
       "      <td>2021-01-02</td>\n",
       "      <td>1</td>\n",
       "      <td>8</td>\n",
       "      <td>50</td>\n",
       "      <td>0</td>\n",
       "    </tr>\n",
       "    <tr>\n",
       "      <th>6501</th>\n",
       "      <td>700</td>\n",
       "      <td>Айдар</td>\n",
       "      <td>22</td>\n",
       "      <td>Омск</td>\n",
       "      <td>free</td>\n",
       "      <td>846.932642</td>\n",
       "      <td>16.234663</td>\n",
       "      <td>2021-02-01</td>\n",
       "      <td>2</td>\n",
       "      <td>8</td>\n",
       "      <td>50</td>\n",
       "      <td>0</td>\n",
       "    </tr>\n",
       "    <tr>\n",
       "      <th>6502</th>\n",
       "      <td>700</td>\n",
       "      <td>Айдар</td>\n",
       "      <td>22</td>\n",
       "      <td>Омск</td>\n",
       "      <td>free</td>\n",
       "      <td>4004.434142</td>\n",
       "      <td>20.016628</td>\n",
       "      <td>2021-02-04</td>\n",
       "      <td>2</td>\n",
       "      <td>8</td>\n",
       "      <td>50</td>\n",
       "      <td>0</td>\n",
       "    </tr>\n",
       "    <tr>\n",
       "      <th>6503</th>\n",
       "      <td>700</td>\n",
       "      <td>Айдар</td>\n",
       "      <td>22</td>\n",
       "      <td>Омск</td>\n",
       "      <td>free</td>\n",
       "      <td>1205.911290</td>\n",
       "      <td>9.782872</td>\n",
       "      <td>2021-02-10</td>\n",
       "      <td>2</td>\n",
       "      <td>8</td>\n",
       "      <td>50</td>\n",
       "      <td>0</td>\n",
       "    </tr>\n",
       "    <tr>\n",
       "      <th>6504</th>\n",
       "      <td>700</td>\n",
       "      <td>Айдар</td>\n",
       "      <td>22</td>\n",
       "      <td>Омск</td>\n",
       "      <td>free</td>\n",
       "      <td>3047.379435</td>\n",
       "      <td>17.427673</td>\n",
       "      <td>2021-02-14</td>\n",
       "      <td>2</td>\n",
       "      <td>8</td>\n",
       "      <td>50</td>\n",
       "      <td>0</td>\n",
       "    </tr>\n",
       "  </tbody>\n",
       "</table>\n",
       "</div>"
      ],
      "text/plain": [
       "      user_id   name  age  city subscription_type     distance   duration  \\\n",
       "6500      700  Айдар   22  Омск              free  2515.690719  14.944286   \n",
       "6501      700  Айдар   22  Омск              free   846.932642  16.234663   \n",
       "6502      700  Айдар   22  Омск              free  4004.434142  20.016628   \n",
       "6503      700  Айдар   22  Омск              free  1205.911290   9.782872   \n",
       "6504      700  Айдар   22  Омск              free  3047.379435  17.427673   \n",
       "\n",
       "           date  ride_month  minute_price  start_ride_price  subscription_fee  \n",
       "6500 2021-01-02           1             8                50                 0  \n",
       "6501 2021-02-01           2             8                50                 0  \n",
       "6502 2021-02-04           2             8                50                 0  \n",
       "6503 2021-02-10           2             8                50                 0  \n",
       "6504 2021-02-14           2             8                50                 0  "
      ]
     },
     "execution_count": 30,
     "metadata": {},
     "output_type": "execute_result"
    }
   ],
   "source": [
    "data_free.head()"
   ]
  },
  {
   "cell_type": "code",
   "execution_count": 31,
   "id": "8581d47d",
   "metadata": {},
   "outputs": [
    {
     "data": {
      "text/html": [
       "<div>\n",
       "<style scoped>\n",
       "    .dataframe tbody tr th:only-of-type {\n",
       "        vertical-align: middle;\n",
       "    }\n",
       "\n",
       "    .dataframe tbody tr th {\n",
       "        vertical-align: top;\n",
       "    }\n",
       "\n",
       "    .dataframe thead th {\n",
       "        text-align: right;\n",
       "    }\n",
       "</style>\n",
       "<table border=\"1\" class=\"dataframe\">\n",
       "  <thead>\n",
       "    <tr style=\"text-align: right;\">\n",
       "      <th></th>\n",
       "      <th>user_id</th>\n",
       "      <th>name</th>\n",
       "      <th>age</th>\n",
       "      <th>city</th>\n",
       "      <th>subscription_type</th>\n",
       "      <th>distance</th>\n",
       "      <th>duration</th>\n",
       "      <th>date</th>\n",
       "      <th>ride_month</th>\n",
       "      <th>minute_price</th>\n",
       "      <th>start_ride_price</th>\n",
       "      <th>subscription_fee</th>\n",
       "    </tr>\n",
       "  </thead>\n",
       "  <tbody>\n",
       "    <tr>\n",
       "      <th>0</th>\n",
       "      <td>1</td>\n",
       "      <td>Кира</td>\n",
       "      <td>22</td>\n",
       "      <td>Тюмень</td>\n",
       "      <td>ultra</td>\n",
       "      <td>4409.919140</td>\n",
       "      <td>25.599769</td>\n",
       "      <td>2021-01-01</td>\n",
       "      <td>1</td>\n",
       "      <td>6</td>\n",
       "      <td>0</td>\n",
       "      <td>199</td>\n",
       "    </tr>\n",
       "    <tr>\n",
       "      <th>1</th>\n",
       "      <td>1</td>\n",
       "      <td>Кира</td>\n",
       "      <td>22</td>\n",
       "      <td>Тюмень</td>\n",
       "      <td>ultra</td>\n",
       "      <td>2617.592153</td>\n",
       "      <td>15.816871</td>\n",
       "      <td>2021-01-18</td>\n",
       "      <td>1</td>\n",
       "      <td>6</td>\n",
       "      <td>0</td>\n",
       "      <td>199</td>\n",
       "    </tr>\n",
       "    <tr>\n",
       "      <th>2</th>\n",
       "      <td>1</td>\n",
       "      <td>Кира</td>\n",
       "      <td>22</td>\n",
       "      <td>Тюмень</td>\n",
       "      <td>ultra</td>\n",
       "      <td>754.159807</td>\n",
       "      <td>6.232113</td>\n",
       "      <td>2021-04-20</td>\n",
       "      <td>4</td>\n",
       "      <td>6</td>\n",
       "      <td>0</td>\n",
       "      <td>199</td>\n",
       "    </tr>\n",
       "    <tr>\n",
       "      <th>3</th>\n",
       "      <td>1</td>\n",
       "      <td>Кира</td>\n",
       "      <td>22</td>\n",
       "      <td>Тюмень</td>\n",
       "      <td>ultra</td>\n",
       "      <td>2694.783254</td>\n",
       "      <td>18.511000</td>\n",
       "      <td>2021-08-11</td>\n",
       "      <td>8</td>\n",
       "      <td>6</td>\n",
       "      <td>0</td>\n",
       "      <td>199</td>\n",
       "    </tr>\n",
       "    <tr>\n",
       "      <th>4</th>\n",
       "      <td>1</td>\n",
       "      <td>Кира</td>\n",
       "      <td>22</td>\n",
       "      <td>Тюмень</td>\n",
       "      <td>ultra</td>\n",
       "      <td>4028.687306</td>\n",
       "      <td>26.265803</td>\n",
       "      <td>2021-08-28</td>\n",
       "      <td>8</td>\n",
       "      <td>6</td>\n",
       "      <td>0</td>\n",
       "      <td>199</td>\n",
       "    </tr>\n",
       "  </tbody>\n",
       "</table>\n",
       "</div>"
      ],
      "text/plain": [
       "   user_id  name  age    city subscription_type     distance   duration  \\\n",
       "0        1  Кира   22  Тюмень             ultra  4409.919140  25.599769   \n",
       "1        1  Кира   22  Тюмень             ultra  2617.592153  15.816871   \n",
       "2        1  Кира   22  Тюмень             ultra   754.159807   6.232113   \n",
       "3        1  Кира   22  Тюмень             ultra  2694.783254  18.511000   \n",
       "4        1  Кира   22  Тюмень             ultra  4028.687306  26.265803   \n",
       "\n",
       "        date  ride_month  minute_price  start_ride_price  subscription_fee  \n",
       "0 2021-01-01           1             6                 0               199  \n",
       "1 2021-01-18           1             6                 0               199  \n",
       "2 2021-04-20           4             6                 0               199  \n",
       "3 2021-08-11           8             6                 0               199  \n",
       "4 2021-08-28           8             6                 0               199  "
      ]
     },
     "execution_count": 31,
     "metadata": {},
     "output_type": "execute_result"
    }
   ],
   "source": [
    "data_ultra.head()"
   ]
  },
  {
   "cell_type": "markdown",
   "id": "fe3705fd",
   "metadata": {},
   "source": [
    "##### Визуализация информации"
   ]
  },
  {
   "cell_type": "markdown",
   "id": "ac2d899a",
   "metadata": {},
   "source": [
    "Визуализируем информацию о расстоянии и длинне поездок для пользователей с подписками и нет"
   ]
  },
  {
   "cell_type": "code",
   "execution_count": 32,
   "id": "7e63bcd8",
   "metadata": {},
   "outputs": [
    {
     "data": {
      "text/plain": [
       "Text(0.5, 0, 'Расстояние поездки, м')"
      ]
     },
     "execution_count": 32,
     "metadata": {},
     "output_type": "execute_result"
    },
    {
     "data": {
      "image/png": "[encoded data removed]",
      "text/plain": [
       "<Figure size 432x288 with 1 Axes>"
      ]
     },
     "metadata": {
      "needs_background": "light"
     },
     "output_type": "display_data"
    }
   ],
   "source": [
    "plt.hist(data_free['distance'], bins=30, label='без подписки')\n",
    "plt.hist(data_ultra['distance'], bins=30, label='с подпиской', stacked=True)\n",
    "plt.legend()\n",
    "plt.xlabel(\"Расстояние поездки, м\")"
   ]
  },
  {
   "cell_type": "code",
   "execution_count": 33,
   "id": "c44520f3",
   "metadata": {},
   "outputs": [
    {
     "data": {
      "text/plain": [
       "Text(0.5, 0, 'Продолжительность поездки, мин')"
      ]
     },
     "execution_count": 33,
     "metadata": {},
     "output_type": "execute_result"
    },
    {
     "data": {
      "image/png": "[encoded data removed]",
      "text/plain": [
       "<Figure size 432x288 with 1 Axes>"
      ]
     },
     "metadata": {
      "needs_background": "light"
     },
     "output_type": "display_data"
    }
   ],
   "source": [
    "plt.hist(data_free['duration'], bins=30, label='без подписки')\n",
    "plt.hist(data_ultra['duration'], bins=30, label='с подпиской', stacked=True)\n",
    "plt.legend()\n",
    "plt.xlabel(\"Продолжительность поездки, мин\")"
   ]
  },
  {
   "cell_type": "markdown",
   "id": "0692dbd9",
   "metadata": {},
   "source": [
    "Расстояние и продолжительность поездок для пользователей с подписками и без имеет практически одинаковую форму распределения"
   ]
  },
  {
   "cell_type": "markdown",
   "id": "31ea59e1",
   "metadata": {},
   "source": [
    "Объединили даннные в один датафрейм, посмотрили их в разрезе пользователей с подписками и без, убедились что распределение продолжительности и длинны поездок у пользователей и без иммет идентичную форму."
   ]
  },
  {
   "cell_type": "markdown",
   "id": "402d620f",
   "metadata": {},
   "source": [
    "#### Шаг 5. Подсчёт выручки"
   ]
  },
  {
   "cell_type": "markdown",
   "id": "57738457",
   "metadata": {},
   "source": [
    "##### Создание датафрейма с агрегированными данными"
   ]
  },
  {
   "cell_type": "code",
   "execution_count": 34,
   "id": "f34188bc",
   "metadata": {},
   "outputs": [
    {
     "data": {
      "text/html": [
       "<div>\n",
       "<style scoped>\n",
       "    .dataframe tbody tr th:only-of-type {\n",
       "        vertical-align: middle;\n",
       "    }\n",
       "\n",
       "    .dataframe tbody tr th {\n",
       "        vertical-align: top;\n",
       "    }\n",
       "\n",
       "    .dataframe thead th {\n",
       "        text-align: right;\n",
       "    }\n",
       "</style>\n",
       "<table border=\"1\" class=\"dataframe\">\n",
       "  <thead>\n",
       "    <tr style=\"text-align: right;\">\n",
       "      <th></th>\n",
       "      <th>user_id</th>\n",
       "      <th>ride_month</th>\n",
       "      <th>count_distance</th>\n",
       "      <th>sum_distance</th>\n",
       "      <th>sum_duration</th>\n",
       "    </tr>\n",
       "  </thead>\n",
       "  <tbody>\n",
       "    <tr>\n",
       "      <th>0</th>\n",
       "      <td>1</td>\n",
       "      <td>1</td>\n",
       "      <td>2</td>\n",
       "      <td>7027.511294</td>\n",
       "      <td>42.0</td>\n",
       "    </tr>\n",
       "    <tr>\n",
       "      <th>1</th>\n",
       "      <td>1</td>\n",
       "      <td>4</td>\n",
       "      <td>1</td>\n",
       "      <td>754.159807</td>\n",
       "      <td>7.0</td>\n",
       "    </tr>\n",
       "    <tr>\n",
       "      <th>2</th>\n",
       "      <td>1</td>\n",
       "      <td>8</td>\n",
       "      <td>2</td>\n",
       "      <td>6723.470560</td>\n",
       "      <td>46.0</td>\n",
       "    </tr>\n",
       "    <tr>\n",
       "      <th>3</th>\n",
       "      <td>1</td>\n",
       "      <td>10</td>\n",
       "      <td>2</td>\n",
       "      <td>5809.911100</td>\n",
       "      <td>32.0</td>\n",
       "    </tr>\n",
       "    <tr>\n",
       "      <th>4</th>\n",
       "      <td>1</td>\n",
       "      <td>11</td>\n",
       "      <td>3</td>\n",
       "      <td>7003.499363</td>\n",
       "      <td>56.0</td>\n",
       "    </tr>\n",
       "    <tr>\n",
       "      <th>...</th>\n",
       "      <td>...</td>\n",
       "      <td>...</td>\n",
       "      <td>...</td>\n",
       "      <td>...</td>\n",
       "      <td>...</td>\n",
       "    </tr>\n",
       "    <tr>\n",
       "      <th>11326</th>\n",
       "      <td>1534</td>\n",
       "      <td>6</td>\n",
       "      <td>2</td>\n",
       "      <td>3409.468534</td>\n",
       "      <td>26.0</td>\n",
       "    </tr>\n",
       "    <tr>\n",
       "      <th>11327</th>\n",
       "      <td>1534</td>\n",
       "      <td>8</td>\n",
       "      <td>2</td>\n",
       "      <td>7622.453034</td>\n",
       "      <td>48.0</td>\n",
       "    </tr>\n",
       "    <tr>\n",
       "      <th>11328</th>\n",
       "      <td>1534</td>\n",
       "      <td>9</td>\n",
       "      <td>1</td>\n",
       "      <td>4928.173852</td>\n",
       "      <td>23.0</td>\n",
       "    </tr>\n",
       "    <tr>\n",
       "      <th>11329</th>\n",
       "      <td>1534</td>\n",
       "      <td>11</td>\n",
       "      <td>4</td>\n",
       "      <td>13350.015305</td>\n",
       "      <td>78.0</td>\n",
       "    </tr>\n",
       "    <tr>\n",
       "      <th>11330</th>\n",
       "      <td>1534</td>\n",
       "      <td>12</td>\n",
       "      <td>1</td>\n",
       "      <td>2371.711192</td>\n",
       "      <td>16.0</td>\n",
       "    </tr>\n",
       "  </tbody>\n",
       "</table>\n",
       "<p>11331 rows × 5 columns</p>\n",
       "</div>"
      ],
      "text/plain": [
       "       user_id  ride_month  count_distance  sum_distance  sum_duration\n",
       "0            1           1               2   7027.511294          42.0\n",
       "1            1           4               1    754.159807           7.0\n",
       "2            1           8               2   6723.470560          46.0\n",
       "3            1          10               2   5809.911100          32.0\n",
       "4            1          11               3   7003.499363          56.0\n",
       "...        ...         ...             ...           ...           ...\n",
       "11326     1534           6               2   3409.468534          26.0\n",
       "11327     1534           8               2   7622.453034          48.0\n",
       "11328     1534           9               1   4928.173852          23.0\n",
       "11329     1534          11               4  13350.015305          78.0\n",
       "11330     1534          12               1   2371.711192          16.0\n",
       "\n",
       "[11331 rows x 5 columns]"
      ]
     },
     "execution_count": 34,
     "metadata": {},
     "output_type": "execute_result"
    }
   ],
   "source": [
    "data['duration'] = np.ceil(data['duration']) # округлим продолжительность поездки до следующего целого числа\n",
    "data_agg = data.pivot_table(index=['user_id', 'ride_month'], values=['distance', 'duration'], aggfunc=['count', 'sum'])\n",
    "data_agg.columns=['count_distance', 'count_duration', 'sum_distance', 'sum_duration'] #создание нового датафрейма\n",
    "data_agg = data_agg.drop(columns = 'count_duration', axis = 1) #удалим лишний столбец\n",
    "data_agg = data_agg.reset_index() #зададим новые индексы\n",
    "data_agg"
   ]
  },
  {
   "cell_type": "markdown",
   "id": "ec7396e2",
   "metadata": {},
   "source": [
    "Создали датафрейм с количеством, длинной и продолжительностью поездок, сгруппированных по пользователям помесячно"
   ]
  },
  {
   "cell_type": "markdown",
   "id": "b326c7a2",
   "metadata": {},
   "source": [
    "##### Расчет помесячной выручки"
   ]
  },
  {
   "cell_type": "code",
   "execution_count": 35,
   "id": "2650a7a1",
   "metadata": {},
   "outputs": [
    {
     "data": {
      "text/html": [
       "<div>\n",
       "<style scoped>\n",
       "    .dataframe tbody tr th:only-of-type {\n",
       "        vertical-align: middle;\n",
       "    }\n",
       "\n",
       "    .dataframe tbody tr th {\n",
       "        vertical-align: top;\n",
       "    }\n",
       "\n",
       "    .dataframe thead th {\n",
       "        text-align: right;\n",
       "    }\n",
       "</style>\n",
       "<table border=\"1\" class=\"dataframe\">\n",
       "  <thead>\n",
       "    <tr style=\"text-align: right;\">\n",
       "      <th></th>\n",
       "      <th>user_id</th>\n",
       "      <th>ride_month</th>\n",
       "      <th>count_distance</th>\n",
       "      <th>sum_distance</th>\n",
       "      <th>sum_duration</th>\n",
       "      <th>name</th>\n",
       "      <th>age</th>\n",
       "      <th>city</th>\n",
       "      <th>subscription_type</th>\n",
       "      <th>minute_price</th>\n",
       "      <th>start_ride_price</th>\n",
       "      <th>subscription_fee</th>\n",
       "      <th>revenue</th>\n",
       "    </tr>\n",
       "  </thead>\n",
       "  <tbody>\n",
       "    <tr>\n",
       "      <th>0</th>\n",
       "      <td>1</td>\n",
       "      <td>1</td>\n",
       "      <td>2</td>\n",
       "      <td>7027.511294</td>\n",
       "      <td>42.0</td>\n",
       "      <td>Кира</td>\n",
       "      <td>22</td>\n",
       "      <td>Тюмень</td>\n",
       "      <td>ultra</td>\n",
       "      <td>6</td>\n",
       "      <td>0</td>\n",
       "      <td>199</td>\n",
       "      <td>451.0</td>\n",
       "    </tr>\n",
       "    <tr>\n",
       "      <th>1</th>\n",
       "      <td>1</td>\n",
       "      <td>4</td>\n",
       "      <td>1</td>\n",
       "      <td>754.159807</td>\n",
       "      <td>7.0</td>\n",
       "      <td>Кира</td>\n",
       "      <td>22</td>\n",
       "      <td>Тюмень</td>\n",
       "      <td>ultra</td>\n",
       "      <td>6</td>\n",
       "      <td>0</td>\n",
       "      <td>199</td>\n",
       "      <td>241.0</td>\n",
       "    </tr>\n",
       "    <tr>\n",
       "      <th>2</th>\n",
       "      <td>1</td>\n",
       "      <td>8</td>\n",
       "      <td>2</td>\n",
       "      <td>6723.470560</td>\n",
       "      <td>46.0</td>\n",
       "      <td>Кира</td>\n",
       "      <td>22</td>\n",
       "      <td>Тюмень</td>\n",
       "      <td>ultra</td>\n",
       "      <td>6</td>\n",
       "      <td>0</td>\n",
       "      <td>199</td>\n",
       "      <td>475.0</td>\n",
       "    </tr>\n",
       "    <tr>\n",
       "      <th>3</th>\n",
       "      <td>1</td>\n",
       "      <td>10</td>\n",
       "      <td>2</td>\n",
       "      <td>5809.911100</td>\n",
       "      <td>32.0</td>\n",
       "      <td>Кира</td>\n",
       "      <td>22</td>\n",
       "      <td>Тюмень</td>\n",
       "      <td>ultra</td>\n",
       "      <td>6</td>\n",
       "      <td>0</td>\n",
       "      <td>199</td>\n",
       "      <td>391.0</td>\n",
       "    </tr>\n",
       "    <tr>\n",
       "      <th>4</th>\n",
       "      <td>1</td>\n",
       "      <td>11</td>\n",
       "      <td>3</td>\n",
       "      <td>7003.499363</td>\n",
       "      <td>56.0</td>\n",
       "      <td>Кира</td>\n",
       "      <td>22</td>\n",
       "      <td>Тюмень</td>\n",
       "      <td>ultra</td>\n",
       "      <td>6</td>\n",
       "      <td>0</td>\n",
       "      <td>199</td>\n",
       "      <td>535.0</td>\n",
       "    </tr>\n",
       "    <tr>\n",
       "      <th>...</th>\n",
       "      <td>...</td>\n",
       "      <td>...</td>\n",
       "      <td>...</td>\n",
       "      <td>...</td>\n",
       "      <td>...</td>\n",
       "      <td>...</td>\n",
       "      <td>...</td>\n",
       "      <td>...</td>\n",
       "      <td>...</td>\n",
       "      <td>...</td>\n",
       "      <td>...</td>\n",
       "      <td>...</td>\n",
       "      <td>...</td>\n",
       "    </tr>\n",
       "    <tr>\n",
       "      <th>11326</th>\n",
       "      <td>1534</td>\n",
       "      <td>6</td>\n",
       "      <td>2</td>\n",
       "      <td>3409.468534</td>\n",
       "      <td>26.0</td>\n",
       "      <td>Альберт</td>\n",
       "      <td>25</td>\n",
       "      <td>Краснодар</td>\n",
       "      <td>free</td>\n",
       "      <td>8</td>\n",
       "      <td>50</td>\n",
       "      <td>0</td>\n",
       "      <td>308.0</td>\n",
       "    </tr>\n",
       "    <tr>\n",
       "      <th>11327</th>\n",
       "      <td>1534</td>\n",
       "      <td>8</td>\n",
       "      <td>2</td>\n",
       "      <td>7622.453034</td>\n",
       "      <td>48.0</td>\n",
       "      <td>Альберт</td>\n",
       "      <td>25</td>\n",
       "      <td>Краснодар</td>\n",
       "      <td>free</td>\n",
       "      <td>8</td>\n",
       "      <td>50</td>\n",
       "      <td>0</td>\n",
       "      <td>484.0</td>\n",
       "    </tr>\n",
       "    <tr>\n",
       "      <th>11328</th>\n",
       "      <td>1534</td>\n",
       "      <td>9</td>\n",
       "      <td>1</td>\n",
       "      <td>4928.173852</td>\n",
       "      <td>23.0</td>\n",
       "      <td>Альберт</td>\n",
       "      <td>25</td>\n",
       "      <td>Краснодар</td>\n",
       "      <td>free</td>\n",
       "      <td>8</td>\n",
       "      <td>50</td>\n",
       "      <td>0</td>\n",
       "      <td>234.0</td>\n",
       "    </tr>\n",
       "    <tr>\n",
       "      <th>11329</th>\n",
       "      <td>1534</td>\n",
       "      <td>11</td>\n",
       "      <td>4</td>\n",
       "      <td>13350.015305</td>\n",
       "      <td>78.0</td>\n",
       "      <td>Альберт</td>\n",
       "      <td>25</td>\n",
       "      <td>Краснодар</td>\n",
       "      <td>free</td>\n",
       "      <td>8</td>\n",
       "      <td>50</td>\n",
       "      <td>0</td>\n",
       "      <td>824.0</td>\n",
       "    </tr>\n",
       "    <tr>\n",
       "      <th>11330</th>\n",
       "      <td>1534</td>\n",
       "      <td>12</td>\n",
       "      <td>1</td>\n",
       "      <td>2371.711192</td>\n",
       "      <td>16.0</td>\n",
       "      <td>Альберт</td>\n",
       "      <td>25</td>\n",
       "      <td>Краснодар</td>\n",
       "      <td>free</td>\n",
       "      <td>8</td>\n",
       "      <td>50</td>\n",
       "      <td>0</td>\n",
       "      <td>178.0</td>\n",
       "    </tr>\n",
       "  </tbody>\n",
       "</table>\n",
       "<p>11331 rows × 13 columns</p>\n",
       "</div>"
      ],
      "text/plain": [
       "       user_id  ride_month  count_distance  sum_distance  sum_duration  \\\n",
       "0            1           1               2   7027.511294          42.0   \n",
       "1            1           4               1    754.159807           7.0   \n",
       "2            1           8               2   6723.470560          46.0   \n",
       "3            1          10               2   5809.911100          32.0   \n",
       "4            1          11               3   7003.499363          56.0   \n",
       "...        ...         ...             ...           ...           ...   \n",
       "11326     1534           6               2   3409.468534          26.0   \n",
       "11327     1534           8               2   7622.453034          48.0   \n",
       "11328     1534           9               1   4928.173852          23.0   \n",
       "11329     1534          11               4  13350.015305          78.0   \n",
       "11330     1534          12               1   2371.711192          16.0   \n",
       "\n",
       "          name  age       city subscription_type  minute_price  \\\n",
       "0         Кира   22     Тюмень             ultra             6   \n",
       "1         Кира   22     Тюмень             ultra             6   \n",
       "2         Кира   22     Тюмень             ultra             6   \n",
       "3         Кира   22     Тюмень             ultra             6   \n",
       "4         Кира   22     Тюмень             ultra             6   \n",
       "...        ...  ...        ...               ...           ...   \n",
       "11326  Альберт   25  Краснодар              free             8   \n",
       "11327  Альберт   25  Краснодар              free             8   \n",
       "11328  Альберт   25  Краснодар              free             8   \n",
       "11329  Альберт   25  Краснодар              free             8   \n",
       "11330  Альберт   25  Краснодар              free             8   \n",
       "\n",
       "       start_ride_price  subscription_fee  revenue  \n",
       "0                     0               199    451.0  \n",
       "1                     0               199    241.0  \n",
       "2                     0               199    475.0  \n",
       "3                     0               199    391.0  \n",
       "4                     0               199    535.0  \n",
       "...                 ...               ...      ...  \n",
       "11326                50                 0    308.0  \n",
       "11327                50                 0    484.0  \n",
       "11328                50                 0    234.0  \n",
       "11329                50                 0    824.0  \n",
       "11330                50                 0    178.0  \n",
       "\n",
       "[11331 rows x 13 columns]"
      ]
     },
     "execution_count": 35,
     "metadata": {},
     "output_type": "execute_result"
    }
   ],
   "source": [
    "data_agg = data_agg.merge(users, on='user_id', how='left') #добавим данные о пользователях\n",
    "data_agg = data_agg.merge(subscriptions, on='subscription_type', how='left') #добавим данные о подписках\n",
    "data_agg['revenue'] = data_agg['start_ride_price']*data_agg['count_distance'] + data_agg[\n",
    "    'minute_price']*data_agg['sum_duration'] + data_agg['subscription_fee'] #рассчитаем выручку помесячно для каждого пользователя\n",
    "data_agg"
   ]
  },
  {
   "cell_type": "markdown",
   "id": "a9d028c3",
   "metadata": {},
   "source": [
    "Рассчитали выручку по месячно для каждого пользователя. "
   ]
  },
  {
   "cell_type": "markdown",
   "id": "41545ac0",
   "metadata": {},
   "source": [
    "#### Шаг 6. Проверка гипотез"
   ]
  },
  {
   "cell_type": "markdown",
   "id": "e0817276",
   "metadata": {},
   "source": [
    "##### Тратят ли пользователи с подпиской больше времени на поездки?"
   ]
  },
  {
   "cell_type": "markdown",
   "id": "5bdcae66",
   "metadata": {},
   "source": [
    "В данном случае нулевая гипотеза: средняя продолжительность поездки пользователей с подпиской = ссредняя продолжительность поездки пользователей с подпиской. \n",
    "Альтернативная гипотеза: средняя продолжительность поездки пользователей с подпиской больше средней продолжительность поездки пользователей с подпиской"
   ]
  },
  {
   "cell_type": "code",
   "execution_count": 36,
   "id": "8a7f1bff",
   "metadata": {},
   "outputs": [
    {
     "name": "stdout",
     "output_type": "stream",
     "text": [
      "p-value: 1.2804098316645618e-34\n",
      "Отвергаем нулевую гипотезу\n"
     ]
    }
   ],
   "source": [
    "alpha = 0.05\n",
    "\n",
    "# проводим ttest для двух выборок, в качестве альтернативной используем одностороннюю гипотезу «больше»\n",
    "results = st.ttest_ind(data_ultra['duration'], data_free['duration'], alternative='greater')\n",
    "\n",
    "print(f'p-value: {results.pvalue}')\n",
    "\n",
    "# проверяем p-value\n",
    "if results.pvalue < alpha:\n",
    "    print('Отвергаем нулевую гипотезу')\n",
    "else:\n",
    "    print('Нет оснований отвергнуть нулевую гипотезу')"
   ]
  },
  {
   "cell_type": "markdown",
   "id": "814f6688",
   "metadata": {},
   "source": [
    "Вывод: среднее время поездок у пользователей с подпиской больше, чем у пользователей без нее."
   ]
  },
  {
   "cell_type": "markdown",
   "id": "f780339b",
   "metadata": {},
   "source": [
    "##### Можно ли сказать что среднее расстояние которое проезжают пользователи за одну поездку не превышает 3130 м?"
   ]
  },
  {
   "cell_type": "markdown",
   "id": "8bf732c7",
   "metadata": {},
   "source": [
    "Нулевая гипотеза: среднее расстояние которое проезжают пользователи с подпиской за одну поездку равно 3130 м. \n",
    "Альтернативная гипотеза: среднее расстояние которое проезжают пользователи с подпиской за одну поездку больше 3130 м"
   ]
  },
  {
   "cell_type": "code",
   "execution_count": 37,
   "id": "99855d85",
   "metadata": {},
   "outputs": [
    {
     "name": "stdout",
     "output_type": "stream",
     "text": [
      "p-значение: 0.9195368847849785\n",
      "Не отвергаем нулевую гипотезу\n"
     ]
    }
   ],
   "source": [
    "alpha = 0.05 # уровень статистической значимости\n",
    "distance_norm = 3130\n",
    "results = st.ttest_1samp(\n",
    "    data_ultra['distance'], \n",
    "    distance_norm,\n",
    "      alternative='greater')\n",
    "\n",
    "print('p-значение:', results.pvalue)\n",
    "\n",
    "if (results.pvalue < alpha):\n",
    "    print('Отвергаем нулевую гипотезу')\n",
    "else:\n",
    "    print('Не отвергаем нулевую гипотезу') "
   ]
  },
  {
   "cell_type": "markdown",
   "id": "84fe8f99",
   "metadata": {},
   "source": [
    "Гипотеза, что среднее расстояние которое проезжают пользователи за одну поездку превышает 3130 м не подтвердилась."
   ]
  },
  {
   "cell_type": "markdown",
   "id": "32420aef",
   "metadata": {},
   "source": [
    "##### Будет ли помесячная выручка от пользователей с подпиской выше чем от пользователей без нее?"
   ]
  },
  {
   "cell_type": "markdown",
   "id": "96b81d5c",
   "metadata": {},
   "source": [
    "Нулевая гипотеза: помесячная выручка от пользователей с подпиской равна выручке от пользователей без нее. \n",
    "Альтернативная гипотеза: помесячная выручка от пользователей с подпиской выше, чем от пользователей без нее."
   ]
  },
  {
   "cell_type": "code",
   "execution_count": 38,
   "id": "1fcf095d",
   "metadata": {},
   "outputs": [
    {
     "name": "stdout",
     "output_type": "stream",
     "text": [
      "p-value: 1.8850394384715216e-31\n",
      "Отвергаем нулевую гипотезу\n"
     ]
    }
   ],
   "source": [
    "data_agg_free = data_agg.loc[data_agg['subscription_type']=='free']\n",
    "data_agg_ultra = data_agg.loc[data_agg['subscription_type']=='ultra']\n",
    "\n",
    "alpha = 0.05\n",
    "# проводим ttest для двух выборок, в качестве альтернативной используем одностороннюю гипотезу «больше»\n",
    "results = st.ttest_ind(data_agg_ultra['revenue'], data_agg_free['revenue'], alternative='greater')\n",
    "\n",
    "print(f'p-value: {results.pvalue}')\n",
    "\n",
    "# проверяем p-value\n",
    "if results.pvalue < alpha:\n",
    "    print('Отвергаем нулевую гипотезу')\n",
    "else:\n",
    "    print('Нет оснований отвергнуть нулевую гипотезу')"
   ]
  },
  {
   "cell_type": "markdown",
   "id": "6c8a6750",
   "metadata": {},
   "source": [
    "Вывод: помесячная выручка поездок у пользователей с подпиской больше, чем у пользователей без нее."
   ]
  },
  {
   "cell_type": "markdown",
   "id": "70d5fca7",
   "metadata": {},
   "source": [
    "##### Какой тест необходим для проверки гипотезы о том что после обновления мобильного приложения количество обращений в тех поддержку снизилось?"
   ]
  },
  {
   "cell_type": "markdown",
   "id": "6c761d77",
   "metadata": {},
   "source": [
    "Имеем файл с данными для каждого пользователя - количество обращений до обновления и после. Т.е. это две зависимые выборки, для проверки такой гипотезы следует использовать метод scipy.stats.ttest_rel, указав alternative='less', для проверки правосторонней выборки."
   ]
  },
  {
   "cell_type": "markdown",
   "id": "61213c5e",
   "metadata": {},
   "source": [
    "#### Шаг 7. Распределения"
   ]
  },
  {
   "cell_type": "markdown",
   "id": "4060699a",
   "metadata": {},
   "source": [
    "##### \n",
    "Отделу маркетинга GoFast поставили задачу: нужно провести акцию с раздачей промокодов на один бесплатный месяц подписки, в рамках которой как минимум 100 существующих клиентов должны продлить эту подписку. То есть по завершении периода действия подписки пользователь может либо отказаться от неё, либо продлить, совершив соответствующий платёж.\n",
    "Эта акция уже проводилась ранее и по итогу выяснилось, что после бесплатного пробного периода подписку продлевают 10% пользователей. Выясните, какое минимальное количество промокодов нужно разослать, чтобы вероятность не выполнить план была примерно 5%. Подберите параметры распределения, описывающего эту ситуацию, постройте график распределения и сформулируйте ответ на вопрос о количестве промокодов."
   ]
  },
  {
   "cell_type": "code",
   "execution_count": 39,
   "id": "65a72913",
   "metadata": {},
   "outputs": [
    {
     "data": {
      "image/png": "[encoded data removed]",
      "text/plain": [
       "<Figure size 432x288 with 1 Axes>"
      ]
     },
     "metadata": {
      "needs_background": "light"
     },
     "output_type": "display_data"
    }
   ],
   "source": [
    "n = 1000 # параметры биномиального распределения\n",
    "p = 0.1 \n",
    "\n",
    "mu = n*p\n",
    "sigma = np.sqrt(n * p * (1 - p))\n",
    "\n",
    "#возьмем интервал распределения \n",
    "#от n*p минус 4 ст.отклонения бином.распределения\n",
    "# до n*p плюс 4 ст.отклонения бином.распределения\n",
    "arange = np.arange(mu-4*sigma, mu+4*sigma, 1) \n",
    "\n",
    "plt.plot(arange, binom.pmf(arange, n, p), 'bo', ms=5)\n",
    "plt.show()"
   ]
  },
  {
   "cell_type": "code",
   "execution_count": 40,
   "id": "cb1af668",
   "metadata": {},
   "outputs": [
    {
     "data": {
      "text/plain": [
       "84.39554836373327"
      ]
     },
     "execution_count": 40,
     "metadata": {},
     "output_type": "execute_result"
    }
   ],
   "source": [
    "n = 1000 # параметры биномиального распределения\n",
    "p = 0.1 \n",
    "\n",
    "mu = n*p # параметры нормального распределения\n",
    "sigma = sqrt(n * p * (1 - p)) \n",
    "\n",
    "distr = st.norm(mu, sigma) # задайте нормальное распределение\n",
    "\n",
    "result = distr.ppf(0.05) \n",
    "result"
   ]
  },
  {
   "cell_type": "markdown",
   "id": "9acdbffc",
   "metadata": {},
   "source": [
    "1000 промокодов дают 84 подписки с вероятностью 95%"
   ]
  },
  {
   "cell_type": "code",
   "execution_count": 41,
   "id": "1f4e6511",
   "metadata": {},
   "outputs": [
    {
     "name": "stdout",
     "output_type": "stream",
     "text": [
      "Число промокодов равно 1169\n"
     ]
    }
   ],
   "source": [
    "p = 0.1 \n",
    "# переберем целые числа в интервале от 1000 до 1300, \n",
    "# чтобы найти количество промокодов при котором минимум 100 человек с вероятностью 95% оформят подписку\n",
    "for n in range (1000, 1300):\n",
    "    mu = n*p \n",
    "    sigma = sqrt(n * p * (1 - p)) \n",
    "    distr = st.norm(mu, sigma) \n",
    "    if distr.ppf(0.05)>100:\n",
    "        print('Число промокодов равно', n)\n",
    "        break\n",
    "    \n"
   ]
  },
  {
   "cell_type": "markdown",
   "id": "9b54a30a",
   "metadata": {},
   "source": [
    "Чтобы вероятность не выполнить план была примерно 5%, необходимо отправить 1169 промокодов. "
   ]
  },
  {
   "cell_type": "markdown",
   "id": "2e855265",
   "metadata": {},
   "source": [
    "##### \n",
    "Отдел маркетинга рассылает клиентам push-уведомления в мобильном приложении. Клиенты могут открыть его или не открывать. Известно, что уведомления открывают около 40% получивших клиентов. Отдел планирует разослать 1 млн уведомлений. С помощью аппроксимации постройте примерный график распределения и оцените вероятность того, что уведомление откроют не более 399,5 тыс. пользователей."
   ]
  },
  {
   "cell_type": "code",
   "execution_count": 42,
   "id": "e06dbeaa",
   "metadata": {},
   "outputs": [
    {
     "name": "stdout",
     "output_type": "stream",
     "text": [
      "Вероятность того, что уведомление откроют не более 399,5 тыс. пользователей 15.0 %\n"
     ]
    }
   ],
   "source": [
    "n = 1000000 # параметры биномиального распределения\n",
    "p = 0.4 \n",
    "\n",
    "# параметры нормального распределения\n",
    "mu = n*p \n",
    "sigma = sqrt(n * p * (1 - p)) \n",
    "\n",
    "distr = st.norm(mu, sigma) # зададим нормальное распределение\n",
    "\n",
    "result = distr.cdf(399500) # посчитаем вероятность \n",
    "print('Вероятность того, что уведомление откроют не более 399,5 тыс. пользователей', result.round(2)*100, '%')"
   ]
  },
  {
   "cell_type": "code",
   "execution_count": 43,
   "id": "f65cad1d",
   "metadata": {},
   "outputs": [
    {
     "data": {
      "image/png": "[encoded data removed]",
      "text/plain": [
       "<Figure size 432x288 with 1 Axes>"
      ]
     },
     "metadata": {
      "needs_background": "light"
     },
     "output_type": "display_data"
    }
   ],
   "source": [
    "\n",
    "n = 1000000 # параметры биномиального распределения\n",
    "p = 0.4 \n",
    "\n",
    "mu = n*p\n",
    "sigma = np.sqrt(n * p * (1 - p))\n",
    "\n",
    "#возьмем интервал распределения \n",
    "#от n*p минус 4 ст.отклонения бином.распределения\n",
    "# до n*p плюс 4 ст.отклонения бином.распределения\n",
    "arange = np.arange(mu-4*sigma, mu+4*sigma, 1)\n",
    "\n",
    "plt.plot(arange, binom.pmf(arange, n, p), 'bo', ms=1)\n",
    "plt.show()\n"
   ]
  },
  {
   "cell_type": "markdown",
   "id": "5559b2ef",
   "metadata": {},
   "source": [
    "    Был проведен анализ популярного сервиса аренды самокатов GoFast, по данным о некоторых пользователях из нескольких городов, а также об их поездках и оформленных подписках. \n",
    "    Сначала была проведена предобработка данных - проверка на пустые значения и дубликаты в датафреймах.\n",
    "        Далее проведен исследовательский анализ данных о пользователях и их поездках, а также о наличии подписки у пользователей. Даннные о пользователях даны из 8 городов, самое большое количество пользователей самокатов в г. Пятигорске. Процент пользователей с подпиской 45.57% от общего количества пользователей. Основная часть пользователей это молодые люди 20-25 лет, данные по возрасту имеют нормальное распределение со средним значением 24,9.Распределение длинны поездки имеет нормальное распределение с двумя пиками, маленьким в районе 600м и большим в 3000м. Распределение продолжительности поездки тоже имеет нормальное распределение со средним значением около 17 мин. Расстояние и продолжительность поездок для пользователей с подписками и без имеет практически одинаковую форму распределения.\n",
    "    Рассчитали выручку помесячно для каждого пользователя, для этого провели обьединение датафреймов и составили датафрейм с агрегированными данными о продолжительности и расстоянии поездок для каждого пользователя по месяцам.\n",
    "    Продакт-менеджеры сервиса хотят увеличить количество пользователей с подпиской. Для этого они будут проводить различные акции, для этого необходимо проверит несколько гипотез:\n",
    "    1. Тратят ли пользователи с подпиской больше времени на поездки? Гипотеза подтвердилась, пользователи с подпиской имеют продолжительность поездок больше чем пользователи без подписки.\n",
    "    2. Расстояние одной поездки в 3130 метров — оптимальное с точки зрения износа самоката. Можно ли сказать, что среднее расстояние, которое проезжают пользователи с подпиской за одну поездку, не превышает 3130 метров? Гипотеза подтвердилась, длинна поездок у пользователей с подпиской не превышает 3130 м. \n",
    "    3. Будет ли помесячная выручка от пользователей с подпиской по месяцам выше, чем выручка от пользователей без подписки? Гипотеза подтвердилась - помесячная выручка поездок у пользователей с подпиской больше, чем у пользователей без нее.\n",
    "    Можно сделать вывод о том что пользователи с подпиской \"выгоднее\" с точки зрения бизнеса. Необходимо проводить больше акций, сделать подписку более привлекательной, предлагать пользователям без подписки ее оформить.\n",
    "    Дополнительно было решено две задачи на биноминальное распределение.\n"
   ]
  }
 ],
 "metadata": {
  "ExecuteTimeLog": [
   {
    "duration": 44,
    "start_time": "2024-02-22T17:25:36.018Z"
   },
   {
    "duration": 361,
    "start_time": "2024-02-22T17:25:41.113Z"
   },
   {
    "duration": 365,
    "start_time": "2024-02-22T17:26:05.861Z"
   },
   {
    "duration": 79,
    "start_time": "2024-02-22T17:26:06.228Z"
   },
   {
    "duration": 141,
    "start_time": "2024-02-22T17:27:29.108Z"
   },
   {
    "duration": 82,
    "start_time": "2024-02-22T17:28:00.951Z"
   },
   {
    "duration": 68,
    "start_time": "2024-02-22T17:29:19.701Z"
   },
   {
    "duration": 16,
    "start_time": "2024-02-22T17:30:34.661Z"
   },
   {
    "duration": 8,
    "start_time": "2024-02-22T17:31:05.009Z"
   },
   {
    "duration": 7,
    "start_time": "2024-02-22T17:31:18.791Z"
   },
   {
    "duration": 7,
    "start_time": "2024-02-22T17:31:23.301Z"
   },
   {
    "duration": 7,
    "start_time": "2024-02-22T17:31:44.631Z"
   },
   {
    "duration": 7,
    "start_time": "2024-02-22T17:49:49.784Z"
   },
   {
    "duration": 10,
    "start_time": "2024-02-22T17:50:01.307Z"
   },
   {
    "duration": 5,
    "start_time": "2024-02-22T17:56:20.003Z"
   },
   {
    "duration": 10,
    "start_time": "2024-02-22T17:56:45.687Z"
   },
   {
    "duration": 46,
    "start_time": "2024-02-22T17:57:11.393Z"
   },
   {
    "duration": 8,
    "start_time": "2024-02-22T17:59:22.559Z"
   },
   {
    "duration": 7,
    "start_time": "2024-02-22T17:59:47.938Z"
   },
   {
    "duration": 9,
    "start_time": "2024-02-22T18:00:57.475Z"
   },
   {
    "duration": 11,
    "start_time": "2024-02-22T18:05:42.840Z"
   },
   {
    "duration": 2,
    "start_time": "2024-02-22T18:09:54.308Z"
   },
   {
    "duration": 9,
    "start_time": "2024-02-22T18:10:01.368Z"
   },
   {
    "duration": 10,
    "start_time": "2024-02-22T18:10:03.507Z"
   },
   {
    "duration": 5,
    "start_time": "2024-02-22T18:10:05.707Z"
   },
   {
    "duration": 8,
    "start_time": "2024-02-22T18:10:21.353Z"
   },
   {
    "duration": 10,
    "start_time": "2024-02-22T18:11:04.158Z"
   },
   {
    "duration": 8,
    "start_time": "2024-02-22T18:12:31.842Z"
   },
   {
    "duration": 9,
    "start_time": "2024-02-22T18:12:41.785Z"
   },
   {
    "duration": 353,
    "start_time": "2024-02-22T18:12:56.467Z"
   },
   {
    "duration": 34,
    "start_time": "2024-02-22T18:12:56.822Z"
   },
   {
    "duration": 18,
    "start_time": "2024-02-22T18:12:56.857Z"
   },
   {
    "duration": 36,
    "start_time": "2024-02-22T18:12:56.876Z"
   },
   {
    "duration": 7,
    "start_time": "2024-02-22T18:12:56.913Z"
   },
   {
    "duration": 24,
    "start_time": "2024-02-22T18:12:56.921Z"
   },
   {
    "duration": 6,
    "start_time": "2024-02-22T18:12:56.946Z"
   },
   {
    "duration": 17,
    "start_time": "2024-02-22T18:12:56.954Z"
   },
   {
    "duration": 18,
    "start_time": "2024-02-22T18:12:56.972Z"
   },
   {
    "duration": 7,
    "start_time": "2024-02-22T18:12:56.992Z"
   },
   {
    "duration": 9,
    "start_time": "2024-02-22T18:12:57.000Z"
   },
   {
    "duration": 6,
    "start_time": "2024-02-22T18:12:57.011Z"
   },
   {
    "duration": 4,
    "start_time": "2024-02-22T18:20:37.968Z"
   },
   {
    "duration": 56,
    "start_time": "2024-02-22T18:20:54.951Z"
   },
   {
    "duration": 10,
    "start_time": "2024-02-22T18:21:13.476Z"
   },
   {
    "duration": 11,
    "start_time": "2024-02-22T18:23:08.836Z"
   },
   {
    "duration": 12,
    "start_time": "2024-02-22T18:27:59.613Z"
   },
   {
    "duration": 3,
    "start_time": "2024-02-22T18:31:33.574Z"
   },
   {
    "duration": 2,
    "start_time": "2024-02-22T18:31:47.365Z"
   },
   {
    "duration": 6,
    "start_time": "2024-02-22T18:32:33.954Z"
   },
   {
    "duration": 9,
    "start_time": "2024-02-22T18:35:23.335Z"
   },
   {
    "duration": 493,
    "start_time": "2024-02-22T18:40:05.594Z"
   },
   {
    "duration": 109,
    "start_time": "2024-02-22T18:40:28.937Z"
   },
   {
    "duration": 19,
    "start_time": "2024-02-22T18:41:57.345Z"
   },
   {
    "duration": 109,
    "start_time": "2024-02-22T18:43:09.755Z"
   },
   {
    "duration": 10,
    "start_time": "2024-02-22T18:48:00.945Z"
   },
   {
    "duration": 8,
    "start_time": "2024-02-22T18:53:46.815Z"
   },
   {
    "duration": 10,
    "start_time": "2024-02-22T18:53:55.529Z"
   },
   {
    "duration": 11,
    "start_time": "2024-02-22T18:55:28.165Z"
   },
   {
    "duration": 14,
    "start_time": "2024-02-22T18:56:57.144Z"
   },
   {
    "duration": 111,
    "start_time": "2024-02-22T18:57:50.853Z"
   },
   {
    "duration": 5,
    "start_time": "2024-02-22T19:01:47.594Z"
   },
   {
    "duration": 4,
    "start_time": "2024-02-22T19:01:58.151Z"
   },
   {
    "duration": 7,
    "start_time": "2024-02-22T19:02:06.586Z"
   },
   {
    "duration": 6,
    "start_time": "2024-02-22T19:02:17.733Z"
   },
   {
    "duration": 7,
    "start_time": "2024-02-22T19:07:28.966Z"
   },
   {
    "duration": 65,
    "start_time": "2024-02-22T19:15:54.871Z"
   },
   {
    "duration": 7,
    "start_time": "2024-02-22T19:16:01.152Z"
   },
   {
    "duration": 10,
    "start_time": "2024-02-22T19:18:09.373Z"
   },
   {
    "duration": 7,
    "start_time": "2024-02-22T19:19:04.648Z"
   },
   {
    "duration": 70,
    "start_time": "2024-02-22T19:19:35.819Z"
   },
   {
    "duration": 7,
    "start_time": "2024-02-22T19:19:45.250Z"
   },
   {
    "duration": 7,
    "start_time": "2024-02-22T19:20:21.614Z"
   },
   {
    "duration": 9,
    "start_time": "2024-02-22T19:33:14.798Z"
   },
   {
    "duration": 154,
    "start_time": "2024-02-22T19:34:21.835Z"
   },
   {
    "duration": 14,
    "start_time": "2024-02-22T19:34:35.142Z"
   },
   {
    "duration": 135,
    "start_time": "2024-02-22T19:34:43.653Z"
   },
   {
    "duration": 6,
    "start_time": "2024-02-22T19:37:01.529Z"
   },
   {
    "duration": 13,
    "start_time": "2024-02-22T19:37:15.343Z"
   },
   {
    "duration": 12,
    "start_time": "2024-02-22T19:37:54.866Z"
   },
   {
    "duration": 10,
    "start_time": "2024-02-22T19:52:52.487Z"
   },
   {
    "duration": 119,
    "start_time": "2024-02-22T19:53:20.253Z"
   },
   {
    "duration": 143,
    "start_time": "2024-02-22T19:53:32.397Z"
   },
   {
    "duration": 20,
    "start_time": "2024-02-22T19:59:46.172Z"
   },
   {
    "duration": 3,
    "start_time": "2024-02-22T20:02:14.300Z"
   },
   {
    "duration": 18,
    "start_time": "2024-02-22T20:02:19.589Z"
   },
   {
    "duration": 24,
    "start_time": "2024-02-22T20:04:03.715Z"
   },
   {
    "duration": 13,
    "start_time": "2024-02-22T20:04:41.832Z"
   },
   {
    "duration": 11,
    "start_time": "2024-02-22T20:07:57.507Z"
   },
   {
    "duration": 10,
    "start_time": "2024-02-22T20:08:12.617Z"
   },
   {
    "duration": 11,
    "start_time": "2024-02-22T20:08:33.210Z"
   },
   {
    "duration": 1080,
    "start_time": "2024-02-22T20:16:41.347Z"
   },
   {
    "duration": 185,
    "start_time": "2024-02-22T20:17:05.672Z"
   },
   {
    "duration": 172,
    "start_time": "2024-02-22T20:17:17.348Z"
   },
   {
    "duration": 168,
    "start_time": "2024-02-22T20:20:31.914Z"
   },
   {
    "duration": 8,
    "start_time": "2024-02-22T20:21:17.933Z"
   },
   {
    "duration": 162,
    "start_time": "2024-02-22T20:21:31.302Z"
   },
   {
    "duration": 218,
    "start_time": "2024-02-22T20:22:14.687Z"
   },
   {
    "duration": 163,
    "start_time": "2024-02-22T20:22:40.155Z"
   },
   {
    "duration": 197,
    "start_time": "2024-02-22T20:24:07.082Z"
   },
   {
    "duration": 167,
    "start_time": "2024-02-22T20:30:24.482Z"
   },
   {
    "duration": 170,
    "start_time": "2024-02-22T20:30:38.328Z"
   },
   {
    "duration": 171,
    "start_time": "2024-02-22T20:31:13.068Z"
   },
   {
    "duration": 243,
    "start_time": "2024-02-22T20:31:43.195Z"
   },
   {
    "duration": 167,
    "start_time": "2024-02-22T20:31:54.019Z"
   },
   {
    "duration": 174,
    "start_time": "2024-02-22T20:33:28.515Z"
   },
   {
    "duration": 192,
    "start_time": "2024-02-22T20:34:07.622Z"
   },
   {
    "duration": 179,
    "start_time": "2024-02-22T20:36:04.084Z"
   },
   {
    "duration": 171,
    "start_time": "2024-02-22T20:36:19.662Z"
   },
   {
    "duration": 2,
    "start_time": "2024-02-22T20:37:47.523Z"
   },
   {
    "duration": 7,
    "start_time": "2024-02-22T20:40:22.241Z"
   },
   {
    "duration": 7,
    "start_time": "2024-02-22T20:40:27.536Z"
   },
   {
    "duration": 13,
    "start_time": "2024-02-22T20:40:40.224Z"
   },
   {
    "duration": 191,
    "start_time": "2024-02-22T20:41:02.131Z"
   },
   {
    "duration": 13,
    "start_time": "2024-02-22T20:56:27.494Z"
   },
   {
    "duration": 13,
    "start_time": "2024-02-22T20:56:38.648Z"
   },
   {
    "duration": 29,
    "start_time": "2024-02-22T20:56:57.807Z"
   },
   {
    "duration": 28,
    "start_time": "2024-02-22T21:01:23.620Z"
   },
   {
    "duration": 28,
    "start_time": "2024-02-22T21:02:25.125Z"
   },
   {
    "duration": 24,
    "start_time": "2024-02-22T21:03:17.923Z"
   },
   {
    "duration": 3,
    "start_time": "2024-02-22T21:06:01.322Z"
   },
   {
    "duration": 27,
    "start_time": "2024-02-22T21:08:01.143Z"
   },
   {
    "duration": 26,
    "start_time": "2024-02-22T21:15:21.155Z"
   },
   {
    "duration": 58,
    "start_time": "2024-02-22T21:23:08.536Z"
   },
   {
    "duration": 1199,
    "start_time": "2024-02-22T21:25:34.782Z"
   },
   {
    "duration": 11,
    "start_time": "2024-02-22T21:26:27.305Z"
   },
   {
    "duration": 55,
    "start_time": "2024-02-22T21:26:49.628Z"
   },
   {
    "duration": 824,
    "start_time": "2024-02-23T15:10:08.231Z"
   },
   {
    "duration": 95,
    "start_time": "2024-02-23T15:10:09.057Z"
   },
   {
    "duration": 12,
    "start_time": "2024-02-23T15:10:09.153Z"
   },
   {
    "duration": 149,
    "start_time": "2024-02-23T15:10:09.167Z"
   },
   {
    "duration": 10,
    "start_time": "2024-02-23T15:10:09.317Z"
   },
   {
    "duration": 66,
    "start_time": "2024-02-23T15:10:09.328Z"
   },
   {
    "duration": 7,
    "start_time": "2024-02-23T15:10:09.396Z"
   },
   {
    "duration": 15,
    "start_time": "2024-02-23T15:10:09.405Z"
   },
   {
    "duration": 8,
    "start_time": "2024-02-23T15:10:09.422Z"
   },
   {
    "duration": 11,
    "start_time": "2024-02-23T15:10:09.432Z"
   },
   {
    "duration": 9,
    "start_time": "2024-02-23T15:10:09.444Z"
   },
   {
    "duration": 38,
    "start_time": "2024-02-23T15:10:09.454Z"
   },
   {
    "duration": 156,
    "start_time": "2024-02-23T15:10:09.494Z"
   },
   {
    "duration": 8,
    "start_time": "2024-02-23T15:10:09.652Z"
   },
   {
    "duration": 12,
    "start_time": "2024-02-23T15:10:09.662Z"
   },
   {
    "duration": 25,
    "start_time": "2024-02-23T15:10:09.676Z"
   },
   {
    "duration": 180,
    "start_time": "2024-02-23T15:10:09.703Z"
   },
   {
    "duration": 4,
    "start_time": "2024-02-23T15:10:09.891Z"
   },
   {
    "duration": 11,
    "start_time": "2024-02-23T15:10:09.896Z"
   },
   {
    "duration": 219,
    "start_time": "2024-02-23T15:10:09.908Z"
   },
   {
    "duration": 9,
    "start_time": "2024-02-23T15:10:10.128Z"
   },
   {
    "duration": 175,
    "start_time": "2024-02-23T15:10:10.139Z"
   },
   {
    "duration": 28,
    "start_time": "2024-02-23T15:10:10.316Z"
   },
   {
    "duration": 14,
    "start_time": "2024-02-23T15:10:10.346Z"
   },
   {
    "duration": 29,
    "start_time": "2024-02-23T15:10:10.362Z"
   },
   {
    "duration": 12,
    "start_time": "2024-02-23T15:10:10.393Z"
   },
   {
    "duration": 13,
    "start_time": "2024-02-23T15:10:10.407Z"
   },
   {
    "duration": 292,
    "start_time": "2024-02-23T15:10:10.423Z"
   },
   {
    "duration": 227,
    "start_time": "2024-02-23T15:10:10.717Z"
   },
   {
    "duration": 89,
    "start_time": "2024-02-23T15:10:10.945Z"
   },
   {
    "duration": 0,
    "start_time": "2024-02-23T15:10:11.036Z"
   },
   {
    "duration": 706,
    "start_time": "2024-02-23T15:11:26.814Z"
   },
   {
    "duration": 36,
    "start_time": "2024-02-23T15:11:27.522Z"
   },
   {
    "duration": 23,
    "start_time": "2024-02-23T15:11:27.559Z"
   },
   {
    "duration": 48,
    "start_time": "2024-02-23T15:11:27.584Z"
   },
   {
    "duration": 9,
    "start_time": "2024-02-23T15:11:27.634Z"
   },
   {
    "duration": 43,
    "start_time": "2024-02-23T15:11:27.644Z"
   },
   {
    "duration": 16,
    "start_time": "2024-02-23T15:11:27.689Z"
   },
   {
    "duration": 64,
    "start_time": "2024-02-23T15:11:27.706Z"
   },
   {
    "duration": 58,
    "start_time": "2024-02-23T15:11:27.771Z"
   },
   {
    "duration": 33,
    "start_time": "2024-02-23T15:11:27.832Z"
   },
   {
    "duration": 29,
    "start_time": "2024-02-23T15:11:27.868Z"
   },
   {
    "duration": 43,
    "start_time": "2024-02-23T15:11:27.899Z"
   },
   {
    "duration": 190,
    "start_time": "2024-02-23T15:11:27.943Z"
   },
   {
    "duration": 11,
    "start_time": "2024-02-23T15:11:28.134Z"
   },
   {
    "duration": 76,
    "start_time": "2024-02-23T15:11:28.146Z"
   },
   {
    "duration": 58,
    "start_time": "2024-02-23T15:11:28.224Z"
   },
   {
    "duration": 157,
    "start_time": "2024-02-23T15:11:28.284Z"
   },
   {
    "duration": 6,
    "start_time": "2024-02-23T15:11:28.443Z"
   },
   {
    "duration": 33,
    "start_time": "2024-02-23T15:11:28.451Z"
   },
   {
    "duration": 203,
    "start_time": "2024-02-23T15:11:28.486Z"
   },
   {
    "duration": 8,
    "start_time": "2024-02-23T15:11:28.691Z"
   },
   {
    "duration": 166,
    "start_time": "2024-02-23T15:11:28.701Z"
   },
   {
    "duration": 32,
    "start_time": "2024-02-23T15:11:28.869Z"
   },
   {
    "duration": 15,
    "start_time": "2024-02-23T15:11:28.903Z"
   },
   {
    "duration": 15,
    "start_time": "2024-02-23T15:11:28.919Z"
   },
   {
    "duration": 52,
    "start_time": "2024-02-23T15:11:28.936Z"
   },
   {
    "duration": 32,
    "start_time": "2024-02-23T15:11:28.989Z"
   },
   {
    "duration": 277,
    "start_time": "2024-02-23T15:11:29.024Z"
   },
   {
    "duration": 221,
    "start_time": "2024-02-23T15:11:29.303Z"
   },
   {
    "duration": 99,
    "start_time": "2024-02-23T15:11:29.526Z"
   },
   {
    "duration": 0,
    "start_time": "2024-02-23T15:11:29.626Z"
   },
   {
    "duration": 3,
    "start_time": "2024-02-23T15:11:50.894Z"
   },
   {
    "duration": 34,
    "start_time": "2024-02-23T15:11:56.627Z"
   },
   {
    "duration": 12,
    "start_time": "2024-02-23T15:11:59.718Z"
   },
   {
    "duration": 47,
    "start_time": "2024-02-23T15:12:01.028Z"
   },
   {
    "duration": 9,
    "start_time": "2024-02-23T15:12:02.226Z"
   },
   {
    "duration": 32,
    "start_time": "2024-02-23T15:12:03.052Z"
   },
   {
    "duration": 7,
    "start_time": "2024-02-23T15:12:04.090Z"
   },
   {
    "duration": 17,
    "start_time": "2024-02-23T15:12:05.926Z"
   },
   {
    "duration": 22,
    "start_time": "2024-02-23T15:12:37.058Z"
   },
   {
    "duration": 9,
    "start_time": "2024-02-23T15:12:45.089Z"
   },
   {
    "duration": 11,
    "start_time": "2024-02-23T15:12:45.889Z"
   },
   {
    "duration": 10,
    "start_time": "2024-02-23T15:12:46.634Z"
   },
   {
    "duration": 16,
    "start_time": "2024-02-23T15:12:57.519Z"
   },
   {
    "duration": 9,
    "start_time": "2024-02-23T15:13:00.350Z"
   },
   {
    "duration": 11,
    "start_time": "2024-02-23T15:13:00.918Z"
   },
   {
    "duration": 9,
    "start_time": "2024-02-23T15:13:01.596Z"
   },
   {
    "duration": 10,
    "start_time": "2024-02-23T15:13:03.127Z"
   },
   {
    "duration": 130,
    "start_time": "2024-02-23T15:13:04.096Z"
   },
   {
    "duration": 9,
    "start_time": "2024-02-23T15:13:06.180Z"
   },
   {
    "duration": 8,
    "start_time": "2024-02-23T15:13:06.777Z"
   },
   {
    "duration": 15,
    "start_time": "2024-02-23T15:13:08.162Z"
   },
   {
    "duration": 135,
    "start_time": "2024-02-23T15:13:08.812Z"
   },
   {
    "duration": 5,
    "start_time": "2024-02-23T15:13:09.650Z"
   },
   {
    "duration": 10,
    "start_time": "2024-02-23T15:13:11.711Z"
   },
   {
    "duration": 205,
    "start_time": "2024-02-23T15:13:12.463Z"
   },
   {
    "duration": 9,
    "start_time": "2024-02-23T15:13:13.769Z"
   },
   {
    "duration": 160,
    "start_time": "2024-02-23T15:13:14.396Z"
   },
   {
    "duration": 32,
    "start_time": "2024-02-23T15:13:18.843Z"
   },
   {
    "duration": 14,
    "start_time": "2024-02-23T15:13:42.528Z"
   },
   {
    "duration": 11,
    "start_time": "2024-02-23T15:13:43.920Z"
   },
   {
    "duration": 12,
    "start_time": "2024-02-23T15:13:44.520Z"
   },
   {
    "duration": 13,
    "start_time": "2024-02-23T15:13:45.350Z"
   },
   {
    "duration": 212,
    "start_time": "2024-02-23T15:13:47.017Z"
   },
   {
    "duration": 312,
    "start_time": "2024-02-23T15:13:47.231Z"
   },
   {
    "duration": 35,
    "start_time": "2024-02-23T15:13:52.159Z"
   },
   {
    "duration": 66,
    "start_time": "2024-02-23T15:13:59.556Z"
   },
   {
    "duration": 11,
    "start_time": "2024-02-23T15:29:36.796Z"
   },
   {
    "duration": 15,
    "start_time": "2024-02-23T15:29:46.405Z"
   },
   {
    "duration": 12,
    "start_time": "2024-02-23T15:30:37.128Z"
   },
   {
    "duration": 12,
    "start_time": "2024-02-23T15:30:54.080Z"
   },
   {
    "duration": 11,
    "start_time": "2024-02-23T15:32:11.090Z"
   },
   {
    "duration": 12,
    "start_time": "2024-02-23T15:34:11.505Z"
   },
   {
    "duration": 11,
    "start_time": "2024-02-23T15:36:33.706Z"
   },
   {
    "duration": 12,
    "start_time": "2024-02-23T15:37:29.651Z"
   },
   {
    "duration": 11,
    "start_time": "2024-02-23T15:38:13.252Z"
   },
   {
    "duration": 23,
    "start_time": "2024-02-23T15:53:15.744Z"
   },
   {
    "duration": 26,
    "start_time": "2024-02-23T15:53:51.891Z"
   },
   {
    "duration": 697,
    "start_time": "2024-02-23T15:54:05.017Z"
   },
   {
    "duration": 36,
    "start_time": "2024-02-23T15:54:05.716Z"
   },
   {
    "duration": 11,
    "start_time": "2024-02-23T15:54:05.753Z"
   },
   {
    "duration": 61,
    "start_time": "2024-02-23T15:54:05.766Z"
   },
   {
    "duration": 9,
    "start_time": "2024-02-23T15:54:05.829Z"
   },
   {
    "duration": 40,
    "start_time": "2024-02-23T15:54:05.839Z"
   },
   {
    "duration": 8,
    "start_time": "2024-02-23T15:54:05.880Z"
   },
   {
    "duration": 31,
    "start_time": "2024-02-23T15:54:05.889Z"
   },
   {
    "duration": 13,
    "start_time": "2024-02-23T15:54:05.922Z"
   },
   {
    "duration": 24,
    "start_time": "2024-02-23T15:54:05.939Z"
   },
   {
    "duration": 30,
    "start_time": "2024-02-23T15:54:05.965Z"
   },
   {
    "duration": 24,
    "start_time": "2024-02-23T15:54:05.997Z"
   },
   {
    "duration": 13,
    "start_time": "2024-02-23T15:54:06.023Z"
   },
   {
    "duration": 180,
    "start_time": "2024-02-23T15:54:06.038Z"
   },
   {
    "duration": 10,
    "start_time": "2024-02-23T15:54:06.220Z"
   },
   {
    "duration": 9,
    "start_time": "2024-02-23T15:54:06.231Z"
   },
   {
    "duration": 39,
    "start_time": "2024-02-23T15:54:06.242Z"
   },
   {
    "duration": 134,
    "start_time": "2024-02-23T15:54:06.283Z"
   },
   {
    "duration": 4,
    "start_time": "2024-02-23T15:54:06.418Z"
   },
   {
    "duration": 11,
    "start_time": "2024-02-23T15:54:06.424Z"
   },
   {
    "duration": 204,
    "start_time": "2024-02-23T15:54:06.436Z"
   },
   {
    "duration": 8,
    "start_time": "2024-02-23T15:54:06.643Z"
   },
   {
    "duration": 175,
    "start_time": "2024-02-23T15:54:06.653Z"
   },
   {
    "duration": 30,
    "start_time": "2024-02-23T15:54:06.829Z"
   },
   {
    "duration": 31,
    "start_time": "2024-02-23T15:54:06.861Z"
   },
   {
    "duration": 10,
    "start_time": "2024-02-23T15:54:06.893Z"
   },
   {
    "duration": 12,
    "start_time": "2024-02-23T15:54:06.905Z"
   },
   {
    "duration": 17,
    "start_time": "2024-02-23T15:54:06.920Z"
   },
   {
    "duration": 311,
    "start_time": "2024-02-23T15:54:06.939Z"
   },
   {
    "duration": 241,
    "start_time": "2024-02-23T15:54:07.252Z"
   },
   {
    "duration": 35,
    "start_time": "2024-02-23T15:54:07.495Z"
   },
   {
    "duration": 23,
    "start_time": "2024-02-23T15:54:07.531Z"
   },
   {
    "duration": 88,
    "start_time": "2024-02-23T15:56:40.351Z"
   },
   {
    "duration": 43,
    "start_time": "2024-02-23T15:56:50.668Z"
   },
   {
    "duration": 687,
    "start_time": "2024-02-23T15:57:22.535Z"
   },
   {
    "duration": 37,
    "start_time": "2024-02-23T15:57:23.224Z"
   },
   {
    "duration": 13,
    "start_time": "2024-02-23T15:57:23.263Z"
   },
   {
    "duration": 53,
    "start_time": "2024-02-23T15:57:23.278Z"
   },
   {
    "duration": 109,
    "start_time": "2024-02-23T15:57:23.333Z"
   },
   {
    "duration": 46,
    "start_time": "2024-02-23T15:57:23.444Z"
   },
   {
    "duration": 8,
    "start_time": "2024-02-23T15:57:23.492Z"
   },
   {
    "duration": 34,
    "start_time": "2024-02-23T15:57:23.502Z"
   },
   {
    "duration": 40,
    "start_time": "2024-02-23T15:57:23.538Z"
   },
   {
    "duration": 33,
    "start_time": "2024-02-23T15:57:23.581Z"
   },
   {
    "duration": 48,
    "start_time": "2024-02-23T15:57:23.615Z"
   },
   {
    "duration": 31,
    "start_time": "2024-02-23T15:57:23.665Z"
   },
   {
    "duration": 21,
    "start_time": "2024-02-23T15:57:23.698Z"
   },
   {
    "duration": 164,
    "start_time": "2024-02-23T15:57:23.721Z"
   },
   {
    "duration": 10,
    "start_time": "2024-02-23T15:57:23.887Z"
   },
   {
    "duration": 27,
    "start_time": "2024-02-23T15:57:23.898Z"
   },
   {
    "duration": 34,
    "start_time": "2024-02-23T15:57:23.927Z"
   },
   {
    "duration": 205,
    "start_time": "2024-02-23T15:57:23.963Z"
   },
   {
    "duration": 5,
    "start_time": "2024-02-23T15:57:24.169Z"
   },
   {
    "duration": 46,
    "start_time": "2024-02-23T15:57:24.177Z"
   },
   {
    "duration": 202,
    "start_time": "2024-02-23T15:57:24.225Z"
   },
   {
    "duration": 11,
    "start_time": "2024-02-23T15:57:24.428Z"
   },
   {
    "duration": 171,
    "start_time": "2024-02-23T15:57:24.440Z"
   },
   {
    "duration": 30,
    "start_time": "2024-02-23T15:57:24.613Z"
   },
   {
    "duration": 15,
    "start_time": "2024-02-23T15:57:24.644Z"
   },
   {
    "duration": 37,
    "start_time": "2024-02-23T15:57:24.660Z"
   },
   {
    "duration": 13,
    "start_time": "2024-02-23T15:57:24.699Z"
   },
   {
    "duration": 36,
    "start_time": "2024-02-23T15:57:24.715Z"
   },
   {
    "duration": 335,
    "start_time": "2024-02-23T15:57:24.753Z"
   },
   {
    "duration": 227,
    "start_time": "2024-02-23T15:57:25.090Z"
   },
   {
    "duration": 36,
    "start_time": "2024-02-23T15:57:25.318Z"
   },
   {
    "duration": 42,
    "start_time": "2024-02-23T15:57:25.356Z"
   },
   {
    "duration": 37,
    "start_time": "2024-02-23T15:58:49.831Z"
   },
   {
    "duration": 16,
    "start_time": "2024-02-23T16:03:16.113Z"
   },
   {
    "duration": 91,
    "start_time": "2024-02-23T16:03:27.821Z"
   },
   {
    "duration": 639,
    "start_time": "2024-02-23T16:03:58.244Z"
   },
   {
    "duration": 35,
    "start_time": "2024-02-23T16:03:58.885Z"
   },
   {
    "duration": 17,
    "start_time": "2024-02-23T16:03:58.921Z"
   },
   {
    "duration": 43,
    "start_time": "2024-02-23T16:03:58.940Z"
   },
   {
    "duration": 12,
    "start_time": "2024-02-23T16:03:58.985Z"
   },
   {
    "duration": 30,
    "start_time": "2024-02-23T16:03:59.000Z"
   },
   {
    "duration": 11,
    "start_time": "2024-02-23T16:03:59.032Z"
   },
   {
    "duration": 28,
    "start_time": "2024-02-23T16:03:59.045Z"
   },
   {
    "duration": 22,
    "start_time": "2024-02-23T16:03:59.075Z"
   },
   {
    "duration": 13,
    "start_time": "2024-02-23T16:03:59.101Z"
   },
   {
    "duration": 31,
    "start_time": "2024-02-23T16:03:59.116Z"
   },
   {
    "duration": 12,
    "start_time": "2024-02-23T16:03:59.150Z"
   },
   {
    "duration": 35,
    "start_time": "2024-02-23T16:03:59.164Z"
   },
   {
    "duration": 174,
    "start_time": "2024-02-23T16:03:59.201Z"
   },
   {
    "duration": 15,
    "start_time": "2024-02-23T16:03:59.377Z"
   },
   {
    "duration": 9,
    "start_time": "2024-02-23T16:03:59.394Z"
   },
   {
    "duration": 14,
    "start_time": "2024-02-23T16:03:59.405Z"
   },
   {
    "duration": 166,
    "start_time": "2024-02-23T16:03:59.421Z"
   },
   {
    "duration": 5,
    "start_time": "2024-02-23T16:03:59.591Z"
   },
   {
    "duration": 11,
    "start_time": "2024-02-23T16:03:59.598Z"
   },
   {
    "duration": 203,
    "start_time": "2024-02-23T16:03:59.611Z"
   },
   {
    "duration": 10,
    "start_time": "2024-02-23T16:03:59.816Z"
   },
   {
    "duration": 183,
    "start_time": "2024-02-23T16:03:59.828Z"
   },
   {
    "duration": 33,
    "start_time": "2024-02-23T16:04:00.013Z"
   },
   {
    "duration": 44,
    "start_time": "2024-02-23T16:04:00.048Z"
   },
   {
    "duration": 95,
    "start_time": "2024-02-23T16:04:00.095Z"
   },
   {
    "duration": 105,
    "start_time": "2024-02-23T16:04:00.192Z"
   },
   {
    "duration": 36,
    "start_time": "2024-02-23T16:04:00.300Z"
   },
   {
    "duration": 365,
    "start_time": "2024-02-23T16:04:00.337Z"
   },
   {
    "duration": 242,
    "start_time": "2024-02-23T16:04:00.703Z"
   },
   {
    "duration": 48,
    "start_time": "2024-02-23T16:04:00.947Z"
   },
   {
    "duration": 36,
    "start_time": "2024-02-23T16:04:00.997Z"
   },
   {
    "duration": 91,
    "start_time": "2024-02-23T16:06:55.764Z"
   },
   {
    "duration": 684,
    "start_time": "2024-02-23T16:07:05.615Z"
   },
   {
    "duration": 36,
    "start_time": "2024-02-23T16:07:06.301Z"
   },
   {
    "duration": 11,
    "start_time": "2024-02-23T16:07:06.339Z"
   },
   {
    "duration": 39,
    "start_time": "2024-02-23T16:07:06.352Z"
   },
   {
    "duration": 8,
    "start_time": "2024-02-23T16:07:06.393Z"
   },
   {
    "duration": 24,
    "start_time": "2024-02-23T16:07:06.403Z"
   },
   {
    "duration": 7,
    "start_time": "2024-02-23T16:07:06.428Z"
   },
   {
    "duration": 17,
    "start_time": "2024-02-23T16:07:06.436Z"
   },
   {
    "duration": 13,
    "start_time": "2024-02-23T16:07:06.455Z"
   },
   {
    "duration": 9,
    "start_time": "2024-02-23T16:07:06.492Z"
   },
   {
    "duration": 14,
    "start_time": "2024-02-23T16:07:06.502Z"
   },
   {
    "duration": 8,
    "start_time": "2024-02-23T16:07:06.517Z"
   },
   {
    "duration": 9,
    "start_time": "2024-02-23T16:07:06.527Z"
   },
   {
    "duration": 184,
    "start_time": "2024-02-23T16:07:06.538Z"
   },
   {
    "duration": 9,
    "start_time": "2024-02-23T16:07:06.724Z"
   },
   {
    "duration": 22,
    "start_time": "2024-02-23T16:07:06.735Z"
   },
   {
    "duration": 26,
    "start_time": "2024-02-23T16:07:06.758Z"
   },
   {
    "duration": 156,
    "start_time": "2024-02-23T16:07:06.786Z"
   },
   {
    "duration": 5,
    "start_time": "2024-02-23T16:07:06.943Z"
   },
   {
    "duration": 28,
    "start_time": "2024-02-23T16:07:06.949Z"
   },
   {
    "duration": 186,
    "start_time": "2024-02-23T16:07:06.980Z"
   },
   {
    "duration": 9,
    "start_time": "2024-02-23T16:07:07.168Z"
   },
   {
    "duration": 179,
    "start_time": "2024-02-23T16:07:07.179Z"
   },
   {
    "duration": 42,
    "start_time": "2024-02-23T16:07:07.360Z"
   },
   {
    "duration": 23,
    "start_time": "2024-02-23T16:07:07.404Z"
   },
   {
    "duration": 10,
    "start_time": "2024-02-23T16:07:07.429Z"
   },
   {
    "duration": 12,
    "start_time": "2024-02-23T16:07:07.441Z"
   },
   {
    "duration": 40,
    "start_time": "2024-02-23T16:07:07.457Z"
   },
   {
    "duration": 280,
    "start_time": "2024-02-23T16:07:07.499Z"
   },
   {
    "duration": 225,
    "start_time": "2024-02-23T16:07:07.781Z"
   },
   {
    "duration": 37,
    "start_time": "2024-02-23T16:07:08.008Z"
   },
   {
    "duration": 1734,
    "start_time": "2024-02-23T16:07:08.047Z"
   },
   {
    "duration": 26,
    "start_time": "2024-02-23T16:07:37.698Z"
   },
   {
    "duration": 1607,
    "start_time": "2024-02-23T16:08:13.552Z"
   },
   {
    "duration": 719,
    "start_time": "2024-02-23T16:08:30.181Z"
   },
   {
    "duration": 37,
    "start_time": "2024-02-23T16:08:30.902Z"
   },
   {
    "duration": 23,
    "start_time": "2024-02-23T16:08:30.941Z"
   },
   {
    "duration": 63,
    "start_time": "2024-02-23T16:08:30.966Z"
   },
   {
    "duration": 19,
    "start_time": "2024-02-23T16:08:31.031Z"
   },
   {
    "duration": 64,
    "start_time": "2024-02-23T16:08:31.052Z"
   },
   {
    "duration": 43,
    "start_time": "2024-02-23T16:08:31.119Z"
   },
   {
    "duration": 60,
    "start_time": "2024-02-23T16:08:31.164Z"
   },
   {
    "duration": 42,
    "start_time": "2024-02-23T16:08:31.225Z"
   },
   {
    "duration": 36,
    "start_time": "2024-02-23T16:08:31.271Z"
   },
   {
    "duration": 43,
    "start_time": "2024-02-23T16:08:31.309Z"
   },
   {
    "duration": 36,
    "start_time": "2024-02-23T16:08:31.354Z"
   },
   {
    "duration": 32,
    "start_time": "2024-02-23T16:08:31.392Z"
   },
   {
    "duration": 180,
    "start_time": "2024-02-23T16:08:31.426Z"
   },
   {
    "duration": 9,
    "start_time": "2024-02-23T16:08:31.608Z"
   },
   {
    "duration": 53,
    "start_time": "2024-02-23T16:08:31.619Z"
   },
   {
    "duration": 59,
    "start_time": "2024-02-23T16:08:31.674Z"
   },
   {
    "duration": 179,
    "start_time": "2024-02-23T16:08:31.734Z"
   },
   {
    "duration": 5,
    "start_time": "2024-02-23T16:08:31.915Z"
   },
   {
    "duration": 15,
    "start_time": "2024-02-23T16:08:31.921Z"
   },
   {
    "duration": 201,
    "start_time": "2024-02-23T16:08:31.938Z"
   },
   {
    "duration": 8,
    "start_time": "2024-02-23T16:08:32.141Z"
   },
   {
    "duration": 172,
    "start_time": "2024-02-23T16:08:32.151Z"
   },
   {
    "duration": 31,
    "start_time": "2024-02-23T16:08:32.325Z"
   },
   {
    "duration": 34,
    "start_time": "2024-02-23T16:08:32.357Z"
   },
   {
    "duration": 11,
    "start_time": "2024-02-23T16:08:32.393Z"
   },
   {
    "duration": 19,
    "start_time": "2024-02-23T16:08:32.406Z"
   },
   {
    "duration": 29,
    "start_time": "2024-02-23T16:08:32.429Z"
   },
   {
    "duration": 283,
    "start_time": "2024-02-23T16:08:32.460Z"
   },
   {
    "duration": 229,
    "start_time": "2024-02-23T16:08:32.745Z"
   },
   {
    "duration": 44,
    "start_time": "2024-02-23T16:08:32.976Z"
   },
   {
    "duration": 30,
    "start_time": "2024-02-23T16:08:33.022Z"
   },
   {
    "duration": 89,
    "start_time": "2024-02-23T16:08:47.838Z"
   },
   {
    "duration": 673,
    "start_time": "2024-02-23T16:09:02.322Z"
   },
   {
    "duration": 36,
    "start_time": "2024-02-23T16:09:02.997Z"
   },
   {
    "duration": 50,
    "start_time": "2024-02-23T16:09:03.035Z"
   },
   {
    "duration": 83,
    "start_time": "2024-02-23T16:09:03.088Z"
   },
   {
    "duration": 9,
    "start_time": "2024-02-23T16:09:03.173Z"
   },
   {
    "duration": 25,
    "start_time": "2024-02-23T16:09:03.183Z"
   },
   {
    "duration": 8,
    "start_time": "2024-02-23T16:09:03.209Z"
   },
   {
    "duration": 18,
    "start_time": "2024-02-23T16:09:03.218Z"
   },
   {
    "duration": 12,
    "start_time": "2024-02-23T16:09:03.237Z"
   },
   {
    "duration": 8,
    "start_time": "2024-02-23T16:09:03.252Z"
   },
   {
    "duration": 38,
    "start_time": "2024-02-23T16:09:03.262Z"
   },
   {
    "duration": 9,
    "start_time": "2024-02-23T16:09:03.301Z"
   },
   {
    "duration": 10,
    "start_time": "2024-02-23T16:09:03.311Z"
   },
   {
    "duration": 171,
    "start_time": "2024-02-23T16:09:03.323Z"
   },
   {
    "duration": 10,
    "start_time": "2024-02-23T16:09:03.496Z"
   },
   {
    "duration": 9,
    "start_time": "2024-02-23T16:09:03.507Z"
   },
   {
    "duration": 14,
    "start_time": "2024-02-23T16:09:03.518Z"
   },
   {
    "duration": 175,
    "start_time": "2024-02-23T16:09:03.534Z"
   },
   {
    "duration": 5,
    "start_time": "2024-02-23T16:09:03.710Z"
   },
   {
    "duration": 21,
    "start_time": "2024-02-23T16:09:03.716Z"
   },
   {
    "duration": 192,
    "start_time": "2024-02-23T16:09:03.739Z"
   },
   {
    "duration": 9,
    "start_time": "2024-02-23T16:09:03.933Z"
   },
   {
    "duration": 182,
    "start_time": "2024-02-23T16:09:03.943Z"
   },
   {
    "duration": 29,
    "start_time": "2024-02-23T16:09:04.127Z"
   },
   {
    "duration": 32,
    "start_time": "2024-02-23T16:09:04.159Z"
   },
   {
    "duration": 10,
    "start_time": "2024-02-23T16:09:04.193Z"
   },
   {
    "duration": 14,
    "start_time": "2024-02-23T16:09:04.205Z"
   },
   {
    "duration": 15,
    "start_time": "2024-02-23T16:09:04.222Z"
   },
   {
    "duration": 300,
    "start_time": "2024-02-23T16:09:04.239Z"
   },
   {
    "duration": 241,
    "start_time": "2024-02-23T16:09:04.542Z"
   },
   {
    "duration": 41,
    "start_time": "2024-02-23T16:09:04.784Z"
   },
   {
    "duration": 30,
    "start_time": "2024-02-23T16:09:04.826Z"
   },
   {
    "duration": 94,
    "start_time": "2024-02-23T16:09:21.266Z"
   },
   {
    "duration": 1653,
    "start_time": "2024-02-23T16:09:43.858Z"
   },
   {
    "duration": 34,
    "start_time": "2024-02-23T16:09:53.136Z"
   },
   {
    "duration": 34,
    "start_time": "2024-02-23T16:09:57.726Z"
   },
   {
    "duration": 9,
    "start_time": "2024-02-23T16:19:59.972Z"
   },
   {
    "duration": 1173,
    "start_time": "2024-02-23T16:20:08.112Z"
   },
   {
    "duration": 35,
    "start_time": "2024-02-23T16:20:09.287Z"
   },
   {
    "duration": 11,
    "start_time": "2024-02-23T16:20:09.324Z"
   },
   {
    "duration": 40,
    "start_time": "2024-02-23T16:20:09.337Z"
   },
   {
    "duration": 9,
    "start_time": "2024-02-23T16:20:09.379Z"
   },
   {
    "duration": 48,
    "start_time": "2024-02-23T16:20:09.389Z"
   },
   {
    "duration": 7,
    "start_time": "2024-02-23T16:20:09.439Z"
   },
   {
    "duration": 21,
    "start_time": "2024-02-23T16:20:09.448Z"
   },
   {
    "duration": 39,
    "start_time": "2024-02-23T16:20:09.471Z"
   },
   {
    "duration": 14,
    "start_time": "2024-02-23T16:20:09.514Z"
   },
   {
    "duration": 14,
    "start_time": "2024-02-23T16:20:09.529Z"
   },
   {
    "duration": 10,
    "start_time": "2024-02-23T16:20:09.545Z"
   },
   {
    "duration": 13,
    "start_time": "2024-02-23T16:20:09.557Z"
   },
   {
    "duration": 162,
    "start_time": "2024-02-23T16:20:09.572Z"
   },
   {
    "duration": 9,
    "start_time": "2024-02-23T16:20:09.736Z"
   },
   {
    "duration": 36,
    "start_time": "2024-02-23T16:20:09.748Z"
   },
   {
    "duration": 17,
    "start_time": "2024-02-23T16:20:09.786Z"
   },
   {
    "duration": 163,
    "start_time": "2024-02-23T16:20:09.805Z"
   },
   {
    "duration": 4,
    "start_time": "2024-02-23T16:20:09.970Z"
   },
   {
    "duration": 71,
    "start_time": "2024-02-23T16:20:09.976Z"
   },
   {
    "duration": 248,
    "start_time": "2024-02-23T16:20:10.049Z"
   },
   {
    "duration": 9,
    "start_time": "2024-02-23T16:20:10.299Z"
   },
   {
    "duration": 171,
    "start_time": "2024-02-23T16:20:10.310Z"
   },
   {
    "duration": 36,
    "start_time": "2024-02-23T16:20:10.483Z"
   },
   {
    "duration": 14,
    "start_time": "2024-02-23T16:20:10.520Z"
   },
   {
    "duration": 17,
    "start_time": "2024-02-23T16:20:10.536Z"
   },
   {
    "duration": 23,
    "start_time": "2024-02-23T16:20:10.555Z"
   },
   {
    "duration": 17,
    "start_time": "2024-02-23T16:20:10.581Z"
   },
   {
    "duration": 228,
    "start_time": "2024-02-23T16:20:10.600Z"
   },
   {
    "duration": 221,
    "start_time": "2024-02-23T16:20:10.830Z"
   },
   {
    "duration": 45,
    "start_time": "2024-02-23T16:20:11.053Z"
   },
   {
    "duration": 32,
    "start_time": "2024-02-23T16:20:11.100Z"
   },
   {
    "duration": 127,
    "start_time": "2024-02-23T16:20:11.134Z"
   },
   {
    "duration": 166,
    "start_time": "2024-02-23T16:20:19.062Z"
   },
   {
    "duration": 6,
    "start_time": "2024-02-23T16:21:31.221Z"
   },
   {
    "duration": 6,
    "start_time": "2024-02-23T16:31:11.764Z"
   },
   {
    "duration": 3,
    "start_time": "2024-02-23T16:37:29.341Z"
   },
   {
    "duration": 14,
    "start_time": "2024-02-23T16:41:15.219Z"
   },
   {
    "duration": 4,
    "start_time": "2024-02-23T16:43:13.216Z"
   },
   {
    "duration": 5,
    "start_time": "2024-02-23T16:43:32.450Z"
   },
   {
    "duration": 4,
    "start_time": "2024-02-23T16:44:11.356Z"
   },
   {
    "duration": 5,
    "start_time": "2024-02-23T16:46:42.757Z"
   },
   {
    "duration": 17,
    "start_time": "2024-02-23T16:47:29.810Z"
   },
   {
    "duration": 1210,
    "start_time": "2024-02-23T16:48:39.376Z"
   },
   {
    "duration": 38,
    "start_time": "2024-02-23T16:48:40.588Z"
   },
   {
    "duration": 12,
    "start_time": "2024-02-23T16:48:40.628Z"
   },
   {
    "duration": 36,
    "start_time": "2024-02-23T16:48:40.643Z"
   },
   {
    "duration": 10,
    "start_time": "2024-02-23T16:48:40.681Z"
   },
   {
    "duration": 26,
    "start_time": "2024-02-23T16:48:40.693Z"
   },
   {
    "duration": 8,
    "start_time": "2024-02-23T16:48:40.720Z"
   },
   {
    "duration": 15,
    "start_time": "2024-02-23T16:48:40.729Z"
   },
   {
    "duration": 14,
    "start_time": "2024-02-23T16:48:40.746Z"
   },
   {
    "duration": 8,
    "start_time": "2024-02-23T16:48:40.763Z"
   },
   {
    "duration": 13,
    "start_time": "2024-02-23T16:48:40.791Z"
   },
   {
    "duration": 9,
    "start_time": "2024-02-23T16:48:40.805Z"
   },
   {
    "duration": 10,
    "start_time": "2024-02-23T16:48:40.816Z"
   },
   {
    "duration": 178,
    "start_time": "2024-02-23T16:48:40.828Z"
   },
   {
    "duration": 11,
    "start_time": "2024-02-23T16:48:41.008Z"
   },
   {
    "duration": 8,
    "start_time": "2024-02-23T16:48:41.020Z"
   },
   {
    "duration": 16,
    "start_time": "2024-02-23T16:48:41.029Z"
   },
   {
    "duration": 160,
    "start_time": "2024-02-23T16:48:41.047Z"
   },
   {
    "duration": 5,
    "start_time": "2024-02-23T16:48:41.208Z"
   },
   {
    "duration": 18,
    "start_time": "2024-02-23T16:48:41.214Z"
   },
   {
    "duration": 202,
    "start_time": "2024-02-23T16:48:41.234Z"
   },
   {
    "duration": 10,
    "start_time": "2024-02-23T16:48:41.437Z"
   },
   {
    "duration": 174,
    "start_time": "2024-02-23T16:48:41.449Z"
   },
   {
    "duration": 28,
    "start_time": "2024-02-23T16:48:41.624Z"
   },
   {
    "duration": 14,
    "start_time": "2024-02-23T16:48:41.654Z"
   },
   {
    "duration": 25,
    "start_time": "2024-02-23T16:48:41.670Z"
   },
   {
    "duration": 12,
    "start_time": "2024-02-23T16:48:41.697Z"
   },
   {
    "duration": 12,
    "start_time": "2024-02-23T16:48:41.712Z"
   },
   {
    "duration": 238,
    "start_time": "2024-02-23T16:48:41.725Z"
   },
   {
    "duration": 226,
    "start_time": "2024-02-23T16:48:41.965Z"
   },
   {
    "duration": 38,
    "start_time": "2024-02-23T16:48:42.193Z"
   },
   {
    "duration": 31,
    "start_time": "2024-02-23T16:48:42.232Z"
   },
   {
    "duration": 121,
    "start_time": "2024-02-23T16:48:42.265Z"
   },
   {
    "duration": 0,
    "start_time": "2024-02-23T16:48:42.387Z"
   },
   {
    "duration": 0,
    "start_time": "2024-02-23T16:48:42.391Z"
   },
   {
    "duration": 0,
    "start_time": "2024-02-23T16:48:42.393Z"
   },
   {
    "duration": 0,
    "start_time": "2024-02-23T16:48:42.394Z"
   },
   {
    "duration": 0,
    "start_time": "2024-02-23T16:48:42.395Z"
   },
   {
    "duration": 0,
    "start_time": "2024-02-23T16:48:42.396Z"
   },
   {
    "duration": 7,
    "start_time": "2024-02-23T16:50:15.377Z"
   },
   {
    "duration": 13,
    "start_time": "2024-02-23T16:58:55.146Z"
   },
   {
    "duration": 6,
    "start_time": "2024-02-23T17:04:00.848Z"
   },
   {
    "duration": 1173,
    "start_time": "2024-02-23T17:18:10.017Z"
   },
   {
    "duration": 39,
    "start_time": "2024-02-23T17:18:11.193Z"
   },
   {
    "duration": 15,
    "start_time": "2024-02-23T17:18:11.233Z"
   },
   {
    "duration": 45,
    "start_time": "2024-02-23T17:18:11.250Z"
   },
   {
    "duration": 9,
    "start_time": "2024-02-23T17:18:11.297Z"
   },
   {
    "duration": 23,
    "start_time": "2024-02-23T17:18:11.307Z"
   },
   {
    "duration": 7,
    "start_time": "2024-02-23T17:18:11.331Z"
   },
   {
    "duration": 17,
    "start_time": "2024-02-23T17:18:11.339Z"
   },
   {
    "duration": 11,
    "start_time": "2024-02-23T17:18:11.358Z"
   },
   {
    "duration": 26,
    "start_time": "2024-02-23T17:18:11.372Z"
   },
   {
    "duration": 12,
    "start_time": "2024-02-23T17:18:11.399Z"
   },
   {
    "duration": 9,
    "start_time": "2024-02-23T17:18:11.412Z"
   },
   {
    "duration": 25,
    "start_time": "2024-02-23T17:18:11.423Z"
   },
   {
    "duration": 159,
    "start_time": "2024-02-23T17:18:11.450Z"
   },
   {
    "duration": 9,
    "start_time": "2024-02-23T17:18:11.611Z"
   },
   {
    "duration": 18,
    "start_time": "2024-02-23T17:18:11.621Z"
   },
   {
    "duration": 13,
    "start_time": "2024-02-23T17:18:11.640Z"
   },
   {
    "duration": 158,
    "start_time": "2024-02-23T17:18:11.655Z"
   },
   {
    "duration": 5,
    "start_time": "2024-02-23T17:18:11.815Z"
   },
   {
    "duration": 18,
    "start_time": "2024-02-23T17:18:11.822Z"
   },
   {
    "duration": 217,
    "start_time": "2024-02-23T17:18:11.842Z"
   },
   {
    "duration": 9,
    "start_time": "2024-02-23T17:18:12.061Z"
   },
   {
    "duration": 186,
    "start_time": "2024-02-23T17:18:12.071Z"
   },
   {
    "duration": 40,
    "start_time": "2024-02-23T17:18:12.258Z"
   },
   {
    "duration": 21,
    "start_time": "2024-02-23T17:18:12.299Z"
   },
   {
    "duration": 13,
    "start_time": "2024-02-23T17:18:12.322Z"
   },
   {
    "duration": 14,
    "start_time": "2024-02-23T17:18:12.338Z"
   },
   {
    "duration": 63,
    "start_time": "2024-02-23T17:18:12.357Z"
   },
   {
    "duration": 259,
    "start_time": "2024-02-23T17:18:12.422Z"
   },
   {
    "duration": 238,
    "start_time": "2024-02-23T17:18:12.683Z"
   },
   {
    "duration": 37,
    "start_time": "2024-02-23T17:18:12.923Z"
   },
   {
    "duration": 58,
    "start_time": "2024-02-23T17:18:12.962Z"
   },
   {
    "duration": 6,
    "start_time": "2024-02-23T17:18:13.021Z"
   },
   {
    "duration": 10,
    "start_time": "2024-02-23T17:18:13.028Z"
   },
   {
    "duration": 106,
    "start_time": "2024-02-23T17:18:13.040Z"
   },
   {
    "duration": 0,
    "start_time": "2024-02-23T17:18:13.148Z"
   },
   {
    "duration": 13,
    "start_time": "2024-02-23T17:18:52.545Z"
   },
   {
    "duration": 288,
    "start_time": "2024-02-23T17:19:52.540Z"
   },
   {
    "duration": 116,
    "start_time": "2024-02-23T17:53:33.860Z"
   },
   {
    "duration": 3,
    "start_time": "2024-02-23T17:54:01.463Z"
   },
   {
    "duration": 1153,
    "start_time": "2024-02-23T17:54:08.020Z"
   },
   {
    "duration": 37,
    "start_time": "2024-02-23T17:54:09.175Z"
   },
   {
    "duration": 12,
    "start_time": "2024-02-23T17:54:09.214Z"
   },
   {
    "duration": 48,
    "start_time": "2024-02-23T17:54:09.228Z"
   },
   {
    "duration": 10,
    "start_time": "2024-02-23T17:54:09.279Z"
   },
   {
    "duration": 25,
    "start_time": "2024-02-23T17:54:09.290Z"
   },
   {
    "duration": 8,
    "start_time": "2024-02-23T17:54:09.316Z"
   },
   {
    "duration": 38,
    "start_time": "2024-02-23T17:54:09.325Z"
   },
   {
    "duration": 11,
    "start_time": "2024-02-23T17:54:09.365Z"
   },
   {
    "duration": 14,
    "start_time": "2024-02-23T17:54:09.378Z"
   },
   {
    "duration": 12,
    "start_time": "2024-02-23T17:54:09.393Z"
   },
   {
    "duration": 16,
    "start_time": "2024-02-23T17:54:09.407Z"
   },
   {
    "duration": 9,
    "start_time": "2024-02-23T17:54:09.425Z"
   },
   {
    "duration": 174,
    "start_time": "2024-02-23T17:54:09.437Z"
   },
   {
    "duration": 9,
    "start_time": "2024-02-23T17:54:09.613Z"
   },
   {
    "duration": 10,
    "start_time": "2024-02-23T17:54:09.624Z"
   },
   {
    "duration": 18,
    "start_time": "2024-02-23T17:54:09.636Z"
   },
   {
    "duration": 161,
    "start_time": "2024-02-23T17:54:09.656Z"
   },
   {
    "duration": 6,
    "start_time": "2024-02-23T17:54:09.818Z"
   },
   {
    "duration": 12,
    "start_time": "2024-02-23T17:54:09.826Z"
   },
   {
    "duration": 201,
    "start_time": "2024-02-23T17:54:09.839Z"
   },
   {
    "duration": 9,
    "start_time": "2024-02-23T17:54:10.042Z"
   },
   {
    "duration": 176,
    "start_time": "2024-02-23T17:54:10.052Z"
   },
   {
    "duration": 30,
    "start_time": "2024-02-23T17:54:10.230Z"
   },
   {
    "duration": 32,
    "start_time": "2024-02-23T17:54:10.261Z"
   },
   {
    "duration": 9,
    "start_time": "2024-02-23T17:54:10.295Z"
   },
   {
    "duration": 13,
    "start_time": "2024-02-23T17:54:10.306Z"
   },
   {
    "duration": 15,
    "start_time": "2024-02-23T17:54:10.321Z"
   },
   {
    "duration": 232,
    "start_time": "2024-02-23T17:54:10.337Z"
   },
   {
    "duration": 231,
    "start_time": "2024-02-23T17:54:10.571Z"
   },
   {
    "duration": 35,
    "start_time": "2024-02-23T17:54:10.804Z"
   },
   {
    "duration": 32,
    "start_time": "2024-02-23T17:54:10.841Z"
   },
   {
    "duration": 19,
    "start_time": "2024-02-23T17:54:10.875Z"
   },
   {
    "duration": 18,
    "start_time": "2024-02-23T17:54:10.896Z"
   },
   {
    "duration": 17,
    "start_time": "2024-02-23T17:54:10.915Z"
   },
   {
    "duration": 5,
    "start_time": "2024-02-23T17:54:10.934Z"
   },
   {
    "duration": 7,
    "start_time": "2024-02-23T18:02:38.039Z"
   },
   {
    "duration": 7,
    "start_time": "2024-02-23T18:10:09.162Z"
   },
   {
    "duration": 6,
    "start_time": "2024-02-23T18:10:13.299Z"
   },
   {
    "duration": 7,
    "start_time": "2024-02-23T18:13:36.295Z"
   },
   {
    "duration": 7,
    "start_time": "2024-02-23T18:14:51.206Z"
   },
   {
    "duration": 104,
    "start_time": "2024-02-23T18:22:52.198Z"
   },
   {
    "duration": 1185,
    "start_time": "2024-02-23T18:24:04.293Z"
   },
   {
    "duration": 37,
    "start_time": "2024-02-23T18:24:05.480Z"
   },
   {
    "duration": 12,
    "start_time": "2024-02-23T18:24:05.518Z"
   },
   {
    "duration": 41,
    "start_time": "2024-02-23T18:24:05.532Z"
   },
   {
    "duration": 9,
    "start_time": "2024-02-23T18:24:05.574Z"
   },
   {
    "duration": 24,
    "start_time": "2024-02-23T18:24:05.585Z"
   },
   {
    "duration": 8,
    "start_time": "2024-02-23T18:24:05.611Z"
   },
   {
    "duration": 17,
    "start_time": "2024-02-23T18:24:05.621Z"
   },
   {
    "duration": 13,
    "start_time": "2024-02-23T18:24:05.640Z"
   },
   {
    "duration": 9,
    "start_time": "2024-02-23T18:24:05.656Z"
   },
   {
    "duration": 12,
    "start_time": "2024-02-23T18:24:05.691Z"
   },
   {
    "duration": 9,
    "start_time": "2024-02-23T18:24:05.705Z"
   },
   {
    "duration": 22,
    "start_time": "2024-02-23T18:24:05.716Z"
   },
   {
    "duration": 168,
    "start_time": "2024-02-23T18:24:05.740Z"
   },
   {
    "duration": 10,
    "start_time": "2024-02-23T18:24:05.910Z"
   },
   {
    "duration": 9,
    "start_time": "2024-02-23T18:24:05.922Z"
   },
   {
    "duration": 28,
    "start_time": "2024-02-23T18:24:05.933Z"
   },
   {
    "duration": 162,
    "start_time": "2024-02-23T18:24:05.963Z"
   },
   {
    "duration": 5,
    "start_time": "2024-02-23T18:24:06.127Z"
   },
   {
    "duration": 16,
    "start_time": "2024-02-23T18:24:06.133Z"
   },
   {
    "duration": 200,
    "start_time": "2024-02-23T18:24:06.150Z"
   },
   {
    "duration": 10,
    "start_time": "2024-02-23T18:24:06.352Z"
   },
   {
    "duration": 169,
    "start_time": "2024-02-23T18:24:06.364Z"
   },
   {
    "duration": 29,
    "start_time": "2024-02-23T18:24:06.534Z"
   },
   {
    "duration": 31,
    "start_time": "2024-02-23T18:24:06.565Z"
   },
   {
    "duration": 14,
    "start_time": "2024-02-23T18:24:06.598Z"
   },
   {
    "duration": 19,
    "start_time": "2024-02-23T18:24:06.613Z"
   },
   {
    "duration": 19,
    "start_time": "2024-02-23T18:24:06.635Z"
   },
   {
    "duration": 212,
    "start_time": "2024-02-23T18:24:06.656Z"
   },
   {
    "duration": 219,
    "start_time": "2024-02-23T18:24:06.870Z"
   },
   {
    "duration": 34,
    "start_time": "2024-02-23T18:24:07.092Z"
   },
   {
    "duration": 31,
    "start_time": "2024-02-23T18:24:07.128Z"
   },
   {
    "duration": 40,
    "start_time": "2024-02-23T18:24:07.161Z"
   },
   {
    "duration": 22,
    "start_time": "2024-02-23T18:24:07.203Z"
   },
   {
    "duration": 29,
    "start_time": "2024-02-23T18:24:07.227Z"
   },
   {
    "duration": 7,
    "start_time": "2024-02-23T18:24:07.257Z"
   },
   {
    "duration": 13,
    "start_time": "2024-02-23T18:24:07.265Z"
   },
   {
    "duration": 47574,
    "start_time": "2024-02-23T18:24:07.280Z"
   },
   {
    "duration": 5,
    "start_time": "2024-02-23T18:27:51.541Z"
   },
   {
    "duration": 4,
    "start_time": "2024-02-23T18:27:54.816Z"
   },
   {
    "duration": 1260,
    "start_time": "2024-02-23T18:28:01.236Z"
   },
   {
    "duration": 39,
    "start_time": "2024-02-23T18:28:02.499Z"
   },
   {
    "duration": 13,
    "start_time": "2024-02-23T18:28:02.539Z"
   },
   {
    "duration": 86,
    "start_time": "2024-02-23T18:28:02.554Z"
   },
   {
    "duration": 10,
    "start_time": "2024-02-23T18:28:02.642Z"
   },
   {
    "duration": 34,
    "start_time": "2024-02-23T18:28:02.654Z"
   },
   {
    "duration": 18,
    "start_time": "2024-02-23T18:28:02.690Z"
   },
   {
    "duration": 41,
    "start_time": "2024-02-23T18:28:02.710Z"
   },
   {
    "duration": 46,
    "start_time": "2024-02-23T18:28:02.753Z"
   },
   {
    "duration": 20,
    "start_time": "2024-02-23T18:28:02.803Z"
   },
   {
    "duration": 65,
    "start_time": "2024-02-23T18:28:02.825Z"
   },
   {
    "duration": 86,
    "start_time": "2024-02-23T18:28:02.892Z"
   },
   {
    "duration": 126,
    "start_time": "2024-02-23T18:28:02.980Z"
   },
   {
    "duration": 335,
    "start_time": "2024-02-23T18:28:03.108Z"
   },
   {
    "duration": 8,
    "start_time": "2024-02-23T18:28:03.445Z"
   },
   {
    "duration": 95,
    "start_time": "2024-02-23T18:28:03.454Z"
   },
   {
    "duration": 154,
    "start_time": "2024-02-23T18:28:03.551Z"
   },
   {
    "duration": 151,
    "start_time": "2024-02-23T18:28:03.708Z"
   },
   {
    "duration": 4,
    "start_time": "2024-02-23T18:28:03.861Z"
   },
   {
    "duration": 44,
    "start_time": "2024-02-23T18:28:03.866Z"
   },
   {
    "duration": 223,
    "start_time": "2024-02-23T18:28:03.912Z"
   },
   {
    "duration": 9,
    "start_time": "2024-02-23T18:28:04.137Z"
   },
   {
    "duration": 301,
    "start_time": "2024-02-23T18:28:04.147Z"
   },
   {
    "duration": 31,
    "start_time": "2024-02-23T18:28:04.450Z"
   },
   {
    "duration": 340,
    "start_time": "2024-02-23T18:28:04.491Z"
   },
   {
    "duration": 79,
    "start_time": "2024-02-23T18:28:04.832Z"
   },
   {
    "duration": 12,
    "start_time": "2024-02-23T18:28:04.912Z"
   },
   {
    "duration": 20,
    "start_time": "2024-02-23T18:28:04.927Z"
   },
   {
    "duration": 240,
    "start_time": "2024-02-23T18:28:04.949Z"
   },
   {
    "duration": 238,
    "start_time": "2024-02-23T18:28:05.191Z"
   },
   {
    "duration": 36,
    "start_time": "2024-02-23T18:28:05.431Z"
   },
   {
    "duration": 60,
    "start_time": "2024-02-23T18:28:05.469Z"
   },
   {
    "duration": 6,
    "start_time": "2024-02-23T18:28:05.530Z"
   },
   {
    "duration": 23,
    "start_time": "2024-02-23T18:28:05.538Z"
   },
   {
    "duration": 49,
    "start_time": "2024-02-23T18:28:05.562Z"
   },
   {
    "duration": 5,
    "start_time": "2024-02-23T18:28:05.613Z"
   },
   {
    "duration": 31,
    "start_time": "2024-02-23T18:28:05.620Z"
   },
   {
    "duration": 1129,
    "start_time": "2024-02-23T18:28:36.346Z"
   },
   {
    "duration": 42,
    "start_time": "2024-02-23T18:28:37.477Z"
   },
   {
    "duration": 12,
    "start_time": "2024-02-23T18:28:37.520Z"
   },
   {
    "duration": 38,
    "start_time": "2024-02-23T18:28:37.534Z"
   },
   {
    "duration": 8,
    "start_time": "2024-02-23T18:28:37.574Z"
   },
   {
    "duration": 25,
    "start_time": "2024-02-23T18:28:37.584Z"
   },
   {
    "duration": 6,
    "start_time": "2024-02-23T18:28:37.611Z"
   },
   {
    "duration": 15,
    "start_time": "2024-02-23T18:28:37.619Z"
   },
   {
    "duration": 11,
    "start_time": "2024-02-23T18:28:37.636Z"
   },
   {
    "duration": 8,
    "start_time": "2024-02-23T18:28:37.650Z"
   },
   {
    "duration": 35,
    "start_time": "2024-02-23T18:28:37.660Z"
   },
   {
    "duration": 8,
    "start_time": "2024-02-23T18:28:37.697Z"
   },
   {
    "duration": 9,
    "start_time": "2024-02-23T18:28:37.707Z"
   },
   {
    "duration": 166,
    "start_time": "2024-02-23T18:28:37.717Z"
   },
   {
    "duration": 13,
    "start_time": "2024-02-23T18:28:37.885Z"
   },
   {
    "duration": 23,
    "start_time": "2024-02-23T18:28:37.899Z"
   },
   {
    "duration": 27,
    "start_time": "2024-02-23T18:28:37.924Z"
   },
   {
    "duration": 153,
    "start_time": "2024-02-23T18:28:37.953Z"
   },
   {
    "duration": 5,
    "start_time": "2024-02-23T18:28:38.108Z"
   },
   {
    "duration": 34,
    "start_time": "2024-02-23T18:28:38.114Z"
   },
   {
    "duration": 187,
    "start_time": "2024-02-23T18:28:38.150Z"
   },
   {
    "duration": 8,
    "start_time": "2024-02-23T18:28:38.339Z"
   },
   {
    "duration": 165,
    "start_time": "2024-02-23T18:28:38.348Z"
   },
   {
    "duration": 28,
    "start_time": "2024-02-23T18:28:38.514Z"
   },
   {
    "duration": 14,
    "start_time": "2024-02-23T18:28:38.543Z"
   },
   {
    "duration": 11,
    "start_time": "2024-02-23T18:28:38.558Z"
   },
   {
    "duration": 30,
    "start_time": "2024-02-23T18:28:38.570Z"
   },
   {
    "duration": 26,
    "start_time": "2024-02-23T18:28:38.603Z"
   },
   {
    "duration": 223,
    "start_time": "2024-02-23T18:28:38.630Z"
   },
   {
    "duration": 213,
    "start_time": "2024-02-23T18:28:38.855Z"
   },
   {
    "duration": 39,
    "start_time": "2024-02-23T18:28:39.070Z"
   },
   {
    "duration": 30,
    "start_time": "2024-02-23T18:28:39.111Z"
   },
   {
    "duration": 5,
    "start_time": "2024-02-23T18:28:39.142Z"
   },
   {
    "duration": 5,
    "start_time": "2024-02-23T18:28:39.149Z"
   },
   {
    "duration": 41,
    "start_time": "2024-02-23T18:28:39.155Z"
   },
   {
    "duration": 8,
    "start_time": "2024-02-23T18:28:39.198Z"
   },
   {
    "duration": 8,
    "start_time": "2024-02-23T18:28:39.208Z"
   },
   {
    "duration": 47660,
    "start_time": "2024-02-23T18:28:39.217Z"
   },
   {
    "duration": 6,
    "start_time": "2024-02-23T18:29:50.766Z"
   },
   {
    "duration": 6,
    "start_time": "2024-02-23T18:30:06.999Z"
   },
   {
    "duration": 7,
    "start_time": "2024-02-23T18:30:19.185Z"
   },
   {
    "duration": 6,
    "start_time": "2024-02-23T18:30:29.529Z"
   },
   {
    "duration": 7,
    "start_time": "2024-02-23T18:30:35.271Z"
   },
   {
    "duration": 7,
    "start_time": "2024-02-23T18:30:42.216Z"
   },
   {
    "duration": 7,
    "start_time": "2024-02-23T18:31:29.591Z"
   },
   {
    "duration": 6,
    "start_time": "2024-02-23T18:31:42.648Z"
   },
   {
    "duration": 8,
    "start_time": "2024-02-23T18:31:57.583Z"
   },
   {
    "duration": 6,
    "start_time": "2024-02-23T18:33:07.374Z"
   },
   {
    "duration": 6,
    "start_time": "2024-02-23T18:34:04.435Z"
   },
   {
    "duration": 11,
    "start_time": "2024-02-23T18:38:15.828Z"
   },
   {
    "duration": 1168,
    "start_time": "2024-02-23T18:39:33.003Z"
   },
   {
    "duration": 37,
    "start_time": "2024-02-23T18:39:34.174Z"
   },
   {
    "duration": 77,
    "start_time": "2024-02-23T18:39:34.212Z"
   },
   {
    "duration": 49,
    "start_time": "2024-02-23T18:39:34.292Z"
   },
   {
    "duration": 9,
    "start_time": "2024-02-23T18:39:34.343Z"
   },
   {
    "duration": 26,
    "start_time": "2024-02-23T18:39:34.353Z"
   },
   {
    "duration": 7,
    "start_time": "2024-02-23T18:39:34.381Z"
   },
   {
    "duration": 16,
    "start_time": "2024-02-23T18:39:34.389Z"
   },
   {
    "duration": 12,
    "start_time": "2024-02-23T18:39:34.407Z"
   },
   {
    "duration": 8,
    "start_time": "2024-02-23T18:39:34.422Z"
   },
   {
    "duration": 11,
    "start_time": "2024-02-23T18:39:34.431Z"
   },
   {
    "duration": 20,
    "start_time": "2024-02-23T18:39:34.444Z"
   },
   {
    "duration": 37,
    "start_time": "2024-02-23T18:39:34.465Z"
   },
   {
    "duration": 152,
    "start_time": "2024-02-23T18:39:34.504Z"
   },
   {
    "duration": 10,
    "start_time": "2024-02-23T18:39:34.658Z"
   },
   {
    "duration": 25,
    "start_time": "2024-02-23T18:39:34.670Z"
   },
   {
    "duration": 13,
    "start_time": "2024-02-23T18:39:34.697Z"
   },
   {
    "duration": 160,
    "start_time": "2024-02-23T18:39:34.712Z"
   },
   {
    "duration": 5,
    "start_time": "2024-02-23T18:39:34.874Z"
   },
   {
    "duration": 31,
    "start_time": "2024-02-23T18:39:34.880Z"
   },
   {
    "duration": 174,
    "start_time": "2024-02-23T18:39:34.913Z"
   },
   {
    "duration": 9,
    "start_time": "2024-02-23T18:39:35.088Z"
   },
   {
    "duration": 155,
    "start_time": "2024-02-23T18:39:35.098Z"
   },
   {
    "duration": 37,
    "start_time": "2024-02-23T18:39:35.255Z"
   },
   {
    "duration": 15,
    "start_time": "2024-02-23T18:39:35.294Z"
   },
   {
    "duration": 20,
    "start_time": "2024-02-23T18:39:35.311Z"
   },
   {
    "duration": 30,
    "start_time": "2024-02-23T18:39:35.333Z"
   },
   {
    "duration": 25,
    "start_time": "2024-02-23T18:39:35.366Z"
   },
   {
    "duration": 224,
    "start_time": "2024-02-23T18:39:35.392Z"
   },
   {
    "duration": 221,
    "start_time": "2024-02-23T18:39:35.618Z"
   },
   {
    "duration": 55,
    "start_time": "2024-02-23T18:39:35.841Z"
   },
   {
    "duration": 33,
    "start_time": "2024-02-23T18:39:35.898Z"
   },
   {
    "duration": 6,
    "start_time": "2024-02-23T18:39:35.932Z"
   },
   {
    "duration": 20,
    "start_time": "2024-02-23T18:39:35.939Z"
   },
   {
    "duration": 27,
    "start_time": "2024-02-23T18:39:35.960Z"
   },
   {
    "duration": 8,
    "start_time": "2024-02-23T18:39:35.992Z"
   },
   {
    "duration": 12,
    "start_time": "2024-02-23T18:39:36.002Z"
   },
   {
    "duration": 1211,
    "start_time": "2024-02-23T18:53:58.676Z"
   },
   {
    "duration": 37,
    "start_time": "2024-02-23T18:53:59.889Z"
   },
   {
    "duration": 13,
    "start_time": "2024-02-23T18:53:59.927Z"
   },
   {
    "duration": 37,
    "start_time": "2024-02-23T18:53:59.943Z"
   },
   {
    "duration": 12,
    "start_time": "2024-02-23T18:53:59.982Z"
   },
   {
    "duration": 63,
    "start_time": "2024-02-23T18:53:59.996Z"
   },
   {
    "duration": 42,
    "start_time": "2024-02-23T18:54:00.061Z"
   },
   {
    "duration": 50,
    "start_time": "2024-02-23T18:54:00.105Z"
   },
   {
    "duration": 29,
    "start_time": "2024-02-23T18:54:00.157Z"
   },
   {
    "duration": 31,
    "start_time": "2024-02-23T18:54:00.189Z"
   },
   {
    "duration": 50,
    "start_time": "2024-02-23T18:54:00.222Z"
   },
   {
    "duration": 141,
    "start_time": "2024-02-23T18:54:00.275Z"
   },
   {
    "duration": 49,
    "start_time": "2024-02-23T18:54:00.419Z"
   },
   {
    "duration": 211,
    "start_time": "2024-02-23T18:54:00.470Z"
   },
   {
    "duration": 10,
    "start_time": "2024-02-23T18:54:00.683Z"
   },
   {
    "duration": 115,
    "start_time": "2024-02-23T18:54:00.694Z"
   },
   {
    "duration": 59,
    "start_time": "2024-02-23T18:54:00.811Z"
   },
   {
    "duration": 207,
    "start_time": "2024-02-23T18:54:00.873Z"
   },
   {
    "duration": 4,
    "start_time": "2024-02-23T18:54:01.082Z"
   },
   {
    "duration": 72,
    "start_time": "2024-02-23T18:54:01.091Z"
   },
   {
    "duration": 224,
    "start_time": "2024-02-23T18:54:01.165Z"
   },
   {
    "duration": 10,
    "start_time": "2024-02-23T18:54:01.392Z"
   },
   {
    "duration": 207,
    "start_time": "2024-02-23T18:54:01.403Z"
   },
   {
    "duration": 33,
    "start_time": "2024-02-23T18:54:01.612Z"
   },
   {
    "duration": 84,
    "start_time": "2024-02-23T18:54:01.648Z"
   },
   {
    "duration": 60,
    "start_time": "2024-02-23T18:54:01.734Z"
   },
   {
    "duration": 78,
    "start_time": "2024-02-23T18:54:01.796Z"
   },
   {
    "duration": 96,
    "start_time": "2024-02-23T18:54:01.879Z"
   },
   {
    "duration": 338,
    "start_time": "2024-02-23T18:54:01.977Z"
   },
   {
    "duration": 227,
    "start_time": "2024-02-23T18:54:02.316Z"
   },
   {
    "duration": 65,
    "start_time": "2024-02-23T18:54:02.544Z"
   },
   {
    "duration": 113,
    "start_time": "2024-02-23T18:54:02.611Z"
   },
   {
    "duration": 148,
    "start_time": "2024-02-23T18:54:02.725Z"
   },
   {
    "duration": 205,
    "start_time": "2024-02-23T18:54:02.875Z"
   },
   {
    "duration": 65,
    "start_time": "2024-02-23T18:54:03.082Z"
   },
   {
    "duration": 21,
    "start_time": "2024-02-23T18:54:03.149Z"
   },
   {
    "duration": 26,
    "start_time": "2024-02-23T18:54:03.171Z"
   },
   {
    "duration": 93,
    "start_time": "2024-02-23T18:54:03.198Z"
   },
   {
    "duration": 144,
    "start_time": "2024-02-23T18:54:17.047Z"
   },
   {
    "duration": 214,
    "start_time": "2024-02-23T18:55:09.657Z"
   },
   {
    "duration": 120,
    "start_time": "2024-02-23T18:55:35.799Z"
   },
   {
    "duration": 6,
    "start_time": "2024-02-23T18:57:08.659Z"
   },
   {
    "duration": 8,
    "start_time": "2024-02-23T18:57:44.142Z"
   },
   {
    "duration": 140,
    "start_time": "2024-02-23T18:58:16.100Z"
   },
   {
    "duration": 120,
    "start_time": "2024-02-23T18:59:59.553Z"
   },
   {
    "duration": 6,
    "start_time": "2024-02-23T19:00:33.317Z"
   },
   {
    "duration": 7,
    "start_time": "2024-02-23T19:00:39.137Z"
   },
   {
    "duration": 6,
    "start_time": "2024-02-23T19:01:01.401Z"
   },
   {
    "duration": 7,
    "start_time": "2024-02-23T19:01:07.596Z"
   },
   {
    "duration": 7,
    "start_time": "2024-02-23T19:01:12.780Z"
   },
   {
    "duration": 6,
    "start_time": "2024-02-23T19:01:17.510Z"
   },
   {
    "duration": 6,
    "start_time": "2024-02-23T19:01:21.651Z"
   },
   {
    "duration": 73,
    "start_time": "2024-02-23T19:08:29.821Z"
   },
   {
    "duration": 7,
    "start_time": "2024-02-23T19:09:15.769Z"
   },
   {
    "duration": 7,
    "start_time": "2024-02-23T19:09:23.591Z"
   },
   {
    "duration": 171,
    "start_time": "2024-02-23T19:11:31.904Z"
   },
   {
    "duration": 153,
    "start_time": "2024-02-23T19:20:17.991Z"
   },
   {
    "duration": 120,
    "start_time": "2024-02-23T19:21:56.599Z"
   },
   {
    "duration": 6,
    "start_time": "2024-02-23T19:21:59.636Z"
   },
   {
    "duration": 150,
    "start_time": "2024-02-23T19:24:12.406Z"
   },
   {
    "duration": 154,
    "start_time": "2024-02-23T19:24:19.071Z"
   },
   {
    "duration": 143,
    "start_time": "2024-02-23T19:24:24.454Z"
   },
   {
    "duration": 155,
    "start_time": "2024-02-23T19:28:05.675Z"
   },
   {
    "duration": 8,
    "start_time": "2024-02-23T19:28:29.137Z"
   },
   {
    "duration": 6,
    "start_time": "2024-02-23T19:28:39.937Z"
   },
   {
    "duration": 1660,
    "start_time": "2024-02-23T19:35:47.512Z"
   },
   {
    "duration": 9,
    "start_time": "2024-02-23T19:35:56.348Z"
   },
   {
    "duration": 14,
    "start_time": "2024-02-23T19:42:03.896Z"
   },
   {
    "duration": 13,
    "start_time": "2024-02-23T19:42:38.930Z"
   },
   {
    "duration": 261,
    "start_time": "2024-02-23T19:50:21.847Z"
   },
   {
    "duration": 317,
    "start_time": "2024-02-23T19:50:41.534Z"
   },
   {
    "duration": 222,
    "start_time": "2024-02-23T19:52:49.027Z"
   },
   {
    "duration": 227,
    "start_time": "2024-02-23T19:53:55.254Z"
   },
   {
    "duration": 249,
    "start_time": "2024-02-23T19:56:25.488Z"
   },
   {
    "duration": 246,
    "start_time": "2024-02-23T19:56:54.966Z"
   },
   {
    "duration": 236,
    "start_time": "2024-02-23T19:57:31.562Z"
   },
   {
    "duration": 355,
    "start_time": "2024-02-23T19:57:56.404Z"
   },
   {
    "duration": 232,
    "start_time": "2024-02-23T19:58:59.407Z"
   },
   {
    "duration": 278,
    "start_time": "2024-02-23T20:03:05.000Z"
   },
   {
    "duration": 245,
    "start_time": "2024-02-23T20:04:20.746Z"
   },
   {
    "duration": 257,
    "start_time": "2024-02-23T20:04:24.964Z"
   },
   {
    "duration": 1223,
    "start_time": "2024-02-23T20:47:21.883Z"
   },
   {
    "duration": 40,
    "start_time": "2024-02-23T20:47:23.108Z"
   },
   {
    "duration": 14,
    "start_time": "2024-02-23T20:47:23.150Z"
   },
   {
    "duration": 68,
    "start_time": "2024-02-23T20:47:23.166Z"
   },
   {
    "duration": 24,
    "start_time": "2024-02-23T20:47:23.236Z"
   },
   {
    "duration": 58,
    "start_time": "2024-02-23T20:47:23.262Z"
   },
   {
    "duration": 15,
    "start_time": "2024-02-23T20:47:23.321Z"
   },
   {
    "duration": 40,
    "start_time": "2024-02-23T20:47:23.338Z"
   },
   {
    "duration": 37,
    "start_time": "2024-02-23T20:47:23.380Z"
   },
   {
    "duration": 31,
    "start_time": "2024-02-23T20:47:23.420Z"
   },
   {
    "duration": 18,
    "start_time": "2024-02-23T20:47:23.453Z"
   },
   {
    "duration": 39,
    "start_time": "2024-02-23T20:47:23.473Z"
   },
   {
    "duration": 79,
    "start_time": "2024-02-23T20:47:23.515Z"
   },
   {
    "duration": 154,
    "start_time": "2024-02-23T20:47:23.596Z"
   },
   {
    "duration": 10,
    "start_time": "2024-02-23T20:47:23.752Z"
   },
   {
    "duration": 21,
    "start_time": "2024-02-23T20:47:23.763Z"
   },
   {
    "duration": 37,
    "start_time": "2024-02-23T20:47:23.786Z"
   },
   {
    "duration": 38,
    "start_time": "2024-02-23T20:47:23.825Z"
   },
   {
    "duration": 151,
    "start_time": "2024-02-23T20:47:23.865Z"
   },
   {
    "duration": 5,
    "start_time": "2024-02-23T20:47:24.018Z"
   },
   {
    "duration": 16,
    "start_time": "2024-02-23T20:47:24.024Z"
   },
   {
    "duration": 194,
    "start_time": "2024-02-23T20:47:24.042Z"
   },
   {
    "duration": 15,
    "start_time": "2024-02-23T20:47:24.238Z"
   },
   {
    "duration": 16,
    "start_time": "2024-02-23T20:47:24.255Z"
   },
   {
    "duration": 165,
    "start_time": "2024-02-23T20:47:24.272Z"
   },
   {
    "duration": 28,
    "start_time": "2024-02-23T20:47:24.439Z"
   },
   {
    "duration": 26,
    "start_time": "2024-02-23T20:47:24.469Z"
   },
   {
    "duration": 9,
    "start_time": "2024-02-23T20:47:24.499Z"
   },
   {
    "duration": 24,
    "start_time": "2024-02-23T20:47:24.510Z"
   },
   {
    "duration": 29,
    "start_time": "2024-02-23T20:47:24.535Z"
   },
   {
    "duration": 264,
    "start_time": "2024-02-23T20:47:24.566Z"
   },
   {
    "duration": 271,
    "start_time": "2024-02-23T20:47:24.832Z"
   },
   {
    "duration": 36,
    "start_time": "2024-02-23T20:47:25.105Z"
   },
   {
    "duration": 51,
    "start_time": "2024-02-23T20:47:25.143Z"
   },
   {
    "duration": 6,
    "start_time": "2024-02-23T20:47:25.196Z"
   },
   {
    "duration": 33,
    "start_time": "2024-02-23T20:47:25.204Z"
   },
   {
    "duration": 36,
    "start_time": "2024-02-23T20:47:25.239Z"
   },
   {
    "duration": 110,
    "start_time": "2024-02-23T20:47:25.277Z"
   },
   {
    "duration": 0,
    "start_time": "2024-02-23T20:47:25.389Z"
   },
   {
    "duration": 0,
    "start_time": "2024-02-23T20:47:25.390Z"
   },
   {
    "duration": 0,
    "start_time": "2024-02-23T20:47:25.391Z"
   },
   {
    "duration": 0,
    "start_time": "2024-02-23T20:47:25.392Z"
   },
   {
    "duration": 1215,
    "start_time": "2024-02-23T20:48:24.253Z"
   },
   {
    "duration": 37,
    "start_time": "2024-02-23T20:48:25.470Z"
   },
   {
    "duration": 13,
    "start_time": "2024-02-23T20:48:25.509Z"
   },
   {
    "duration": 39,
    "start_time": "2024-02-23T20:48:25.524Z"
   },
   {
    "duration": 9,
    "start_time": "2024-02-23T20:48:25.565Z"
   },
   {
    "duration": 42,
    "start_time": "2024-02-23T20:48:25.575Z"
   },
   {
    "duration": 7,
    "start_time": "2024-02-23T20:48:25.619Z"
   },
   {
    "duration": 16,
    "start_time": "2024-02-23T20:48:25.628Z"
   },
   {
    "duration": 13,
    "start_time": "2024-02-23T20:48:25.645Z"
   },
   {
    "duration": 9,
    "start_time": "2024-02-23T20:48:25.662Z"
   },
   {
    "duration": 12,
    "start_time": "2024-02-23T20:48:25.691Z"
   },
   {
    "duration": 10,
    "start_time": "2024-02-23T20:48:25.705Z"
   },
   {
    "duration": 11,
    "start_time": "2024-02-23T20:48:25.716Z"
   },
   {
    "duration": 178,
    "start_time": "2024-02-23T20:48:25.729Z"
   },
   {
    "duration": 10,
    "start_time": "2024-02-23T20:48:25.909Z"
   },
   {
    "duration": 8,
    "start_time": "2024-02-23T20:48:25.921Z"
   },
   {
    "duration": 14,
    "start_time": "2024-02-23T20:48:25.931Z"
   },
   {
    "duration": 8,
    "start_time": "2024-02-23T20:48:25.947Z"
   },
   {
    "duration": 176,
    "start_time": "2024-02-23T20:48:25.956Z"
   },
   {
    "duration": 4,
    "start_time": "2024-02-23T20:48:26.134Z"
   },
   {
    "duration": 11,
    "start_time": "2024-02-23T20:48:26.139Z"
   },
   {
    "duration": 211,
    "start_time": "2024-02-23T20:48:26.151Z"
   },
   {
    "duration": 28,
    "start_time": "2024-02-23T20:48:26.364Z"
   },
   {
    "duration": 11,
    "start_time": "2024-02-23T20:48:26.394Z"
   },
   {
    "duration": 188,
    "start_time": "2024-02-23T20:48:26.408Z"
   },
   {
    "duration": 28,
    "start_time": "2024-02-23T20:48:26.597Z"
   },
   {
    "duration": 13,
    "start_time": "2024-02-23T20:48:26.627Z"
   },
   {
    "duration": 14,
    "start_time": "2024-02-23T20:48:26.644Z"
   },
   {
    "duration": 34,
    "start_time": "2024-02-23T20:48:26.660Z"
   },
   {
    "duration": 18,
    "start_time": "2024-02-23T20:48:26.696Z"
   },
   {
    "duration": 246,
    "start_time": "2024-02-23T20:48:26.715Z"
   },
   {
    "duration": 284,
    "start_time": "2024-02-23T20:48:26.963Z"
   },
   {
    "duration": 43,
    "start_time": "2024-02-23T20:48:27.249Z"
   },
   {
    "duration": 32,
    "start_time": "2024-02-23T20:48:27.294Z"
   },
   {
    "duration": 5,
    "start_time": "2024-02-23T20:48:27.328Z"
   },
   {
    "duration": 15,
    "start_time": "2024-02-23T20:48:27.335Z"
   },
   {
    "duration": 18,
    "start_time": "2024-02-23T20:48:27.351Z"
   },
   {
    "duration": 143,
    "start_time": "2024-02-23T20:48:27.371Z"
   },
   {
    "duration": 6,
    "start_time": "2024-02-23T20:48:27.515Z"
   },
   {
    "duration": 261,
    "start_time": "2024-02-23T20:48:27.523Z"
   },
   {
    "duration": 14,
    "start_time": "2024-02-23T20:48:27.792Z"
   },
   {
    "duration": 157,
    "start_time": "2024-02-23T20:48:27.808Z"
   },
   {
    "duration": 1201,
    "start_time": "2024-02-23T20:51:46.290Z"
   },
   {
    "duration": 38,
    "start_time": "2024-02-23T20:51:47.493Z"
   },
   {
    "duration": 12,
    "start_time": "2024-02-23T20:51:47.532Z"
   },
   {
    "duration": 58,
    "start_time": "2024-02-23T20:51:47.546Z"
   },
   {
    "duration": 11,
    "start_time": "2024-02-23T20:51:47.607Z"
   },
   {
    "duration": 31,
    "start_time": "2024-02-23T20:51:47.620Z"
   },
   {
    "duration": 8,
    "start_time": "2024-02-23T20:51:47.653Z"
   },
   {
    "duration": 21,
    "start_time": "2024-02-23T20:51:47.663Z"
   },
   {
    "duration": 13,
    "start_time": "2024-02-23T20:51:47.686Z"
   },
   {
    "duration": 14,
    "start_time": "2024-02-23T20:51:47.700Z"
   },
   {
    "duration": 14,
    "start_time": "2024-02-23T20:51:47.715Z"
   },
   {
    "duration": 9,
    "start_time": "2024-02-23T20:51:47.730Z"
   },
   {
    "duration": 13,
    "start_time": "2024-02-23T20:51:47.740Z"
   },
   {
    "duration": 176,
    "start_time": "2024-02-23T20:51:47.755Z"
   },
   {
    "duration": 10,
    "start_time": "2024-02-23T20:51:47.932Z"
   },
   {
    "duration": 71,
    "start_time": "2024-02-23T20:51:47.943Z"
   },
   {
    "duration": 15,
    "start_time": "2024-02-23T20:51:48.016Z"
   },
   {
    "duration": 17,
    "start_time": "2024-02-23T20:51:48.032Z"
   },
   {
    "duration": 159,
    "start_time": "2024-02-23T20:51:48.050Z"
   },
   {
    "duration": 5,
    "start_time": "2024-02-23T20:51:48.211Z"
   },
   {
    "duration": 24,
    "start_time": "2024-02-23T20:51:48.218Z"
   },
   {
    "duration": 214,
    "start_time": "2024-02-23T20:51:48.244Z"
   },
   {
    "duration": 16,
    "start_time": "2024-02-23T20:51:48.460Z"
   },
   {
    "duration": 22,
    "start_time": "2024-02-23T20:51:48.477Z"
   },
   {
    "duration": 160,
    "start_time": "2024-02-23T20:51:48.500Z"
   },
   {
    "duration": 38,
    "start_time": "2024-02-23T20:51:48.662Z"
   },
   {
    "duration": 14,
    "start_time": "2024-02-23T20:51:48.701Z"
   },
   {
    "duration": 9,
    "start_time": "2024-02-23T20:51:48.716Z"
   },
   {
    "duration": 18,
    "start_time": "2024-02-23T20:51:48.727Z"
   },
   {
    "duration": 15,
    "start_time": "2024-02-23T20:51:48.746Z"
   },
   {
    "duration": 267,
    "start_time": "2024-02-23T20:51:48.762Z"
   },
   {
    "duration": 256,
    "start_time": "2024-02-23T20:51:49.030Z"
   },
   {
    "duration": 34,
    "start_time": "2024-02-23T20:51:49.292Z"
   },
   {
    "duration": 31,
    "start_time": "2024-02-23T20:51:49.327Z"
   },
   {
    "duration": 5,
    "start_time": "2024-02-23T20:51:49.360Z"
   },
   {
    "duration": 29,
    "start_time": "2024-02-23T20:51:49.366Z"
   },
   {
    "duration": 25,
    "start_time": "2024-02-23T20:51:49.396Z"
   },
   {
    "duration": 140,
    "start_time": "2024-02-23T20:51:49.423Z"
   },
   {
    "duration": 7,
    "start_time": "2024-02-23T20:51:49.564Z"
   },
   {
    "duration": 271,
    "start_time": "2024-02-23T20:51:49.573Z"
   },
   {
    "duration": 23,
    "start_time": "2024-02-23T20:51:49.848Z"
   },
   {
    "duration": 151,
    "start_time": "2024-02-23T20:51:49.872Z"
   },
   {
    "duration": 135,
    "start_time": "2024-02-23T21:10:31.887Z"
   },
   {
    "duration": 7,
    "start_time": "2024-02-23T21:14:26.388Z"
   },
   {
    "duration": 1646,
    "start_time": "2024-02-23T21:16:50.791Z"
   },
   {
    "duration": 12,
    "start_time": "2024-02-23T21:17:03.461Z"
   },
   {
    "duration": 14,
    "start_time": "2024-02-23T21:17:45.926Z"
   },
   {
    "duration": 22,
    "start_time": "2024-02-23T21:18:14.690Z"
   },
   {
    "duration": 23,
    "start_time": "2024-02-23T21:18:23.841Z"
   },
   {
    "duration": 22,
    "start_time": "2024-02-23T21:19:20.826Z"
   },
   {
    "duration": 20,
    "start_time": "2024-02-23T21:19:27.771Z"
   },
   {
    "duration": 10,
    "start_time": "2024-02-23T21:19:56.970Z"
   },
   {
    "duration": 23,
    "start_time": "2024-02-23T21:20:10.240Z"
   },
   {
    "duration": 7,
    "start_time": "2024-02-23T21:42:03.478Z"
   },
   {
    "duration": 12,
    "start_time": "2024-02-23T21:43:41.352Z"
   },
   {
    "duration": 49,
    "start_time": "2024-02-26T17:39:25.972Z"
   },
   {
    "duration": 1347,
    "start_time": "2024-02-26T17:39:32.681Z"
   },
   {
    "duration": 85,
    "start_time": "2024-02-26T17:39:34.030Z"
   },
   {
    "duration": 12,
    "start_time": "2024-02-26T17:39:34.117Z"
   },
   {
    "duration": 82,
    "start_time": "2024-02-26T17:39:34.131Z"
   },
   {
    "duration": 9,
    "start_time": "2024-02-26T17:39:34.215Z"
   },
   {
    "duration": 62,
    "start_time": "2024-02-26T17:39:34.226Z"
   },
   {
    "duration": 7,
    "start_time": "2024-02-26T17:39:34.290Z"
   },
   {
    "duration": 16,
    "start_time": "2024-02-26T17:39:34.298Z"
   },
   {
    "duration": 12,
    "start_time": "2024-02-26T17:39:34.315Z"
   },
   {
    "duration": 8,
    "start_time": "2024-02-26T17:39:34.329Z"
   },
   {
    "duration": 10,
    "start_time": "2024-02-26T17:39:34.339Z"
   },
   {
    "duration": 7,
    "start_time": "2024-02-26T17:39:34.350Z"
   },
   {
    "duration": 8,
    "start_time": "2024-02-26T17:39:34.359Z"
   },
   {
    "duration": 191,
    "start_time": "2024-02-26T17:39:34.369Z"
   },
   {
    "duration": 8,
    "start_time": "2024-02-26T17:39:34.561Z"
   },
   {
    "duration": 7,
    "start_time": "2024-02-26T17:39:34.571Z"
   },
   {
    "duration": 12,
    "start_time": "2024-02-26T17:39:34.580Z"
   },
   {
    "duration": 30,
    "start_time": "2024-02-26T17:39:34.593Z"
   },
   {
    "duration": 162,
    "start_time": "2024-02-26T17:39:34.624Z"
   },
   {
    "duration": 5,
    "start_time": "2024-02-26T17:39:34.787Z"
   },
   {
    "duration": 27,
    "start_time": "2024-02-26T17:39:34.793Z"
   },
   {
    "duration": 206,
    "start_time": "2024-02-26T17:39:34.822Z"
   },
   {
    "duration": 15,
    "start_time": "2024-02-26T17:39:35.030Z"
   },
   {
    "duration": 9,
    "start_time": "2024-02-26T17:39:35.047Z"
   },
   {
    "duration": 175,
    "start_time": "2024-02-26T17:39:35.058Z"
   },
   {
    "duration": 26,
    "start_time": "2024-02-26T17:39:35.234Z"
   },
   {
    "duration": 13,
    "start_time": "2024-02-26T17:39:35.261Z"
   },
   {
    "duration": 9,
    "start_time": "2024-02-26T17:39:35.277Z"
   },
   {
    "duration": 34,
    "start_time": "2024-02-26T17:39:35.288Z"
   },
   {
    "duration": 13,
    "start_time": "2024-02-26T17:39:35.324Z"
   },
   {
    "duration": 260,
    "start_time": "2024-02-26T17:39:35.339Z"
   },
   {
    "duration": 285,
    "start_time": "2024-02-26T17:39:35.600Z"
   },
   {
    "duration": 43,
    "start_time": "2024-02-26T17:39:35.887Z"
   },
   {
    "duration": 110,
    "start_time": "2024-02-26T17:39:35.931Z"
   },
   {
    "duration": 5,
    "start_time": "2024-02-26T17:39:36.043Z"
   },
   {
    "duration": 5,
    "start_time": "2024-02-26T17:39:36.050Z"
   },
   {
    "duration": 12,
    "start_time": "2024-02-26T17:39:36.056Z"
   },
   {
    "duration": 153,
    "start_time": "2024-02-26T17:39:36.070Z"
   },
   {
    "duration": 6,
    "start_time": "2024-02-26T17:39:36.224Z"
   },
   {
    "duration": 171,
    "start_time": "2024-02-26T17:39:36.232Z"
   },
   {
    "duration": 16,
    "start_time": "2024-02-26T17:39:36.404Z"
   },
   {
    "duration": 142,
    "start_time": "2024-02-26T17:39:36.422Z"
   },
   {
    "duration": 97,
    "start_time": "2024-02-26T17:42:45.254Z"
   },
   {
    "duration": 19,
    "start_time": "2024-02-26T17:42:50.940Z"
   },
   {
    "duration": 17,
    "start_time": "2024-02-26T17:43:06.277Z"
   },
   {
    "duration": 17,
    "start_time": "2024-02-26T17:43:09.667Z"
   },
   {
    "duration": 143,
    "start_time": "2024-02-26T17:43:51.315Z"
   },
   {
    "duration": 140,
    "start_time": "2024-02-26T17:45:26.247Z"
   },
   {
    "duration": 142,
    "start_time": "2024-02-26T17:45:34.211Z"
   },
   {
    "duration": 174,
    "start_time": "2024-02-26T17:49:22.379Z"
   },
   {
    "duration": 162,
    "start_time": "2024-02-26T17:49:40.383Z"
   },
   {
    "duration": 136,
    "start_time": "2024-02-26T17:50:00.139Z"
   },
   {
    "duration": 16,
    "start_time": "2024-02-26T17:54:30.006Z"
   },
   {
    "duration": 15,
    "start_time": "2024-02-26T17:54:35.669Z"
   },
   {
    "duration": 131,
    "start_time": "2024-02-26T17:54:56.122Z"
   },
   {
    "duration": 155,
    "start_time": "2024-02-26T17:55:09.602Z"
   },
   {
    "duration": 340,
    "start_time": "2024-02-26T17:57:34.252Z"
   },
   {
    "duration": 77,
    "start_time": "2024-02-26T17:58:42.382Z"
   },
   {
    "duration": 166,
    "start_time": "2024-02-26T17:58:50.794Z"
   },
   {
    "duration": 154,
    "start_time": "2024-02-26T17:59:19.284Z"
   },
   {
    "duration": 158,
    "start_time": "2024-02-26T18:00:09.373Z"
   },
   {
    "duration": 11,
    "start_time": "2024-02-26T18:01:15.937Z"
   },
   {
    "duration": 14,
    "start_time": "2024-02-26T18:02:18.831Z"
   },
   {
    "duration": 142,
    "start_time": "2024-02-26T18:02:38.715Z"
   },
   {
    "duration": 127,
    "start_time": "2024-02-26T18:03:45.866Z"
   },
   {
    "duration": 156,
    "start_time": "2024-02-26T18:04:18.266Z"
   },
   {
    "duration": 79,
    "start_time": "2024-02-26T18:04:56.653Z"
   },
   {
    "duration": 195,
    "start_time": "2024-02-26T18:05:03.013Z"
   },
   {
    "duration": 184,
    "start_time": "2024-02-26T18:05:21.117Z"
   },
   {
    "duration": 163,
    "start_time": "2024-02-26T18:07:35.462Z"
   },
   {
    "duration": 9,
    "start_time": "2024-02-26T18:08:26.013Z"
   },
   {
    "duration": 172,
    "start_time": "2024-02-26T18:08:36.730Z"
   },
   {
    "duration": 177,
    "start_time": "2024-02-26T18:08:45.436Z"
   },
   {
    "duration": 140,
    "start_time": "2024-02-26T18:08:52.470Z"
   },
   {
    "duration": 170,
    "start_time": "2024-02-26T18:09:51.696Z"
   },
   {
    "duration": 165,
    "start_time": "2024-02-26T18:10:06.878Z"
   },
   {
    "duration": 146,
    "start_time": "2024-02-26T18:13:25.475Z"
   },
   {
    "duration": 162,
    "start_time": "2024-02-26T18:13:57.389Z"
   },
   {
    "duration": 146,
    "start_time": "2024-02-26T18:14:12.696Z"
   },
   {
    "duration": 142,
    "start_time": "2024-02-26T18:15:24.074Z"
   },
   {
    "duration": 146,
    "start_time": "2024-02-26T18:16:26.008Z"
   },
   {
    "duration": 113,
    "start_time": "2024-02-26T18:17:30.905Z"
   },
   {
    "duration": 144,
    "start_time": "2024-02-26T18:17:37.055Z"
   },
   {
    "duration": 273,
    "start_time": "2024-02-26T18:19:12.306Z"
   },
   {
    "duration": 348,
    "start_time": "2024-02-26T18:19:24.136Z"
   },
   {
    "duration": 943,
    "start_time": "2024-02-26T18:19:32.399Z"
   },
   {
    "duration": 133,
    "start_time": "2024-02-26T18:20:12.124Z"
   },
   {
    "duration": 272,
    "start_time": "2024-02-26T18:20:34.095Z"
   },
   {
    "duration": 166,
    "start_time": "2024-02-26T18:20:42.693Z"
   },
   {
    "duration": 154,
    "start_time": "2024-02-26T18:20:52.544Z"
   },
   {
    "duration": 160,
    "start_time": "2024-02-26T18:21:04.628Z"
   },
   {
    "duration": 144,
    "start_time": "2024-02-26T18:21:10.433Z"
   },
   {
    "duration": 174,
    "start_time": "2024-02-26T18:21:57.204Z"
   },
   {
    "duration": 159,
    "start_time": "2024-02-26T18:23:18.834Z"
   },
   {
    "duration": 529,
    "start_time": "2024-02-26T18:23:39.545Z"
   },
   {
    "duration": 138,
    "start_time": "2024-02-26T18:23:51.058Z"
   },
   {
    "duration": 156,
    "start_time": "2024-02-26T18:24:01.482Z"
   },
   {
    "duration": 147,
    "start_time": "2024-02-26T18:24:11.355Z"
   },
   {
    "duration": 113,
    "start_time": "2024-02-26T18:27:38.910Z"
   },
   {
    "duration": 13263,
    "start_time": "2024-02-26T18:33:06.521Z"
   },
   {
    "duration": 139,
    "start_time": "2024-02-26T18:35:13.078Z"
   },
   {
    "duration": 20497,
    "start_time": "2024-02-26T18:39:43.223Z"
   },
   {
    "duration": 12,
    "start_time": "2024-02-26T18:41:10.334Z"
   },
   {
    "duration": 161,
    "start_time": "2024-02-26T18:41:24.841Z"
   },
   {
    "duration": 9,
    "start_time": "2024-02-26T18:43:15.093Z"
   },
   {
    "duration": 284,
    "start_time": "2024-02-26T18:43:37.752Z"
   },
   {
    "duration": 301,
    "start_time": "2024-02-26T18:44:19.985Z"
   },
   {
    "duration": 1149,
    "start_time": "2024-02-26T18:44:28.428Z"
   },
   {
    "duration": 39,
    "start_time": "2024-02-26T18:44:29.579Z"
   },
   {
    "duration": 12,
    "start_time": "2024-02-26T18:44:29.620Z"
   },
   {
    "duration": 36,
    "start_time": "2024-02-26T18:44:29.634Z"
   },
   {
    "duration": 9,
    "start_time": "2024-02-26T18:44:29.671Z"
   },
   {
    "duration": 23,
    "start_time": "2024-02-26T18:44:29.681Z"
   },
   {
    "duration": 13,
    "start_time": "2024-02-26T18:44:29.706Z"
   },
   {
    "duration": 15,
    "start_time": "2024-02-26T18:44:29.721Z"
   },
   {
    "duration": 12,
    "start_time": "2024-02-26T18:44:29.737Z"
   },
   {
    "duration": 8,
    "start_time": "2024-02-26T18:44:29.751Z"
   },
   {
    "duration": 11,
    "start_time": "2024-02-26T18:44:29.760Z"
   },
   {
    "duration": 47,
    "start_time": "2024-02-26T18:44:29.773Z"
   },
   {
    "duration": 12,
    "start_time": "2024-02-26T18:44:29.822Z"
   },
   {
    "duration": 192,
    "start_time": "2024-02-26T18:44:29.836Z"
   },
   {
    "duration": 110,
    "start_time": "2024-02-26T18:44:30.030Z"
   },
   {
    "duration": 0,
    "start_time": "2024-02-26T18:44:30.142Z"
   },
   {
    "duration": 0,
    "start_time": "2024-02-26T18:44:30.143Z"
   },
   {
    "duration": 0,
    "start_time": "2024-02-26T18:44:30.144Z"
   },
   {
    "duration": 1,
    "start_time": "2024-02-26T18:44:30.145Z"
   },
   {
    "duration": 0,
    "start_time": "2024-02-26T18:44:30.147Z"
   },
   {
    "duration": 0,
    "start_time": "2024-02-26T18:44:30.148Z"
   },
   {
    "duration": 0,
    "start_time": "2024-02-26T18:44:30.149Z"
   },
   {
    "duration": 0,
    "start_time": "2024-02-26T18:44:30.150Z"
   },
   {
    "duration": 0,
    "start_time": "2024-02-26T18:44:30.151Z"
   },
   {
    "duration": 0,
    "start_time": "2024-02-26T18:44:30.152Z"
   },
   {
    "duration": 0,
    "start_time": "2024-02-26T18:44:30.153Z"
   },
   {
    "duration": 0,
    "start_time": "2024-02-26T18:44:30.155Z"
   },
   {
    "duration": 0,
    "start_time": "2024-02-26T18:44:30.156Z"
   },
   {
    "duration": 0,
    "start_time": "2024-02-26T18:44:30.157Z"
   },
   {
    "duration": 0,
    "start_time": "2024-02-26T18:44:30.158Z"
   },
   {
    "duration": 0,
    "start_time": "2024-02-26T18:44:30.159Z"
   },
   {
    "duration": 0,
    "start_time": "2024-02-26T18:44:30.160Z"
   },
   {
    "duration": 0,
    "start_time": "2024-02-26T18:44:30.161Z"
   },
   {
    "duration": 0,
    "start_time": "2024-02-26T18:44:30.162Z"
   },
   {
    "duration": 0,
    "start_time": "2024-02-26T18:44:30.164Z"
   },
   {
    "duration": 0,
    "start_time": "2024-02-26T18:44:30.164Z"
   },
   {
    "duration": 0,
    "start_time": "2024-02-26T18:44:30.166Z"
   },
   {
    "duration": 0,
    "start_time": "2024-02-26T18:44:30.166Z"
   },
   {
    "duration": 0,
    "start_time": "2024-02-26T18:44:30.167Z"
   },
   {
    "duration": 0,
    "start_time": "2024-02-26T18:44:30.168Z"
   },
   {
    "duration": 0,
    "start_time": "2024-02-26T18:44:30.170Z"
   },
   {
    "duration": 0,
    "start_time": "2024-02-26T18:44:30.170Z"
   },
   {
    "duration": 0,
    "start_time": "2024-02-26T18:44:30.216Z"
   },
   {
    "duration": 11,
    "start_time": "2024-02-26T18:45:04.251Z"
   },
   {
    "duration": 10,
    "start_time": "2024-02-26T18:45:08.328Z"
   },
   {
    "duration": 133,
    "start_time": "2024-02-26T18:45:09.117Z"
   },
   {
    "duration": 83,
    "start_time": "2024-02-26T18:45:45.626Z"
   },
   {
    "duration": 1126,
    "start_time": "2024-02-26T18:46:46.861Z"
   },
   {
    "duration": 49,
    "start_time": "2024-02-26T18:46:47.989Z"
   },
   {
    "duration": 11,
    "start_time": "2024-02-26T18:46:48.040Z"
   },
   {
    "duration": 42,
    "start_time": "2024-02-26T18:46:48.053Z"
   },
   {
    "duration": 9,
    "start_time": "2024-02-26T18:46:48.097Z"
   },
   {
    "duration": 26,
    "start_time": "2024-02-26T18:46:48.115Z"
   },
   {
    "duration": 7,
    "start_time": "2024-02-26T18:46:48.143Z"
   },
   {
    "duration": 16,
    "start_time": "2024-02-26T18:46:48.151Z"
   },
   {
    "duration": 12,
    "start_time": "2024-02-26T18:46:48.169Z"
   },
   {
    "duration": 31,
    "start_time": "2024-02-26T18:46:48.184Z"
   },
   {
    "duration": 16,
    "start_time": "2024-02-26T18:46:48.218Z"
   },
   {
    "duration": 9,
    "start_time": "2024-02-26T18:46:48.237Z"
   },
   {
    "duration": 9,
    "start_time": "2024-02-26T18:46:48.248Z"
   },
   {
    "duration": 227,
    "start_time": "2024-02-26T18:46:48.258Z"
   },
   {
    "duration": 11,
    "start_time": "2024-02-26T18:46:48.486Z"
   },
   {
    "duration": 22,
    "start_time": "2024-02-26T18:46:48.498Z"
   },
   {
    "duration": 95,
    "start_time": "2024-02-26T18:46:48.523Z"
   },
   {
    "duration": 22,
    "start_time": "2024-02-26T18:46:48.621Z"
   },
   {
    "duration": 12,
    "start_time": "2024-02-26T18:46:48.645Z"
   },
   {
    "duration": 197,
    "start_time": "2024-02-26T18:46:48.658Z"
   },
   {
    "duration": 4,
    "start_time": "2024-02-26T18:46:48.857Z"
   },
   {
    "duration": 15,
    "start_time": "2024-02-26T18:46:48.862Z"
   },
   {
    "duration": 226,
    "start_time": "2024-02-26T18:46:48.878Z"
   },
   {
    "duration": 21,
    "start_time": "2024-02-26T18:46:49.106Z"
   },
   {
    "duration": 11,
    "start_time": "2024-02-26T18:46:49.129Z"
   },
   {
    "duration": 182,
    "start_time": "2024-02-26T18:46:49.142Z"
   },
   {
    "duration": 32,
    "start_time": "2024-02-26T18:46:49.326Z"
   },
   {
    "duration": 14,
    "start_time": "2024-02-26T18:46:49.361Z"
   },
   {
    "duration": 9,
    "start_time": "2024-02-26T18:46:49.376Z"
   },
   {
    "duration": 43,
    "start_time": "2024-02-26T18:46:49.386Z"
   },
   {
    "duration": 14,
    "start_time": "2024-02-26T18:46:49.431Z"
   },
   {
    "duration": 278,
    "start_time": "2024-02-26T18:46:49.446Z"
   },
   {
    "duration": 287,
    "start_time": "2024-02-26T18:46:49.727Z"
   },
   {
    "duration": 41,
    "start_time": "2024-02-26T18:46:50.016Z"
   },
   {
    "duration": 117,
    "start_time": "2024-02-26T18:46:50.059Z"
   },
   {
    "duration": 5,
    "start_time": "2024-02-26T18:46:50.178Z"
   },
   {
    "duration": 5,
    "start_time": "2024-02-26T18:46:50.185Z"
   },
   {
    "duration": 33,
    "start_time": "2024-02-26T18:46:50.192Z"
   },
   {
    "duration": 160,
    "start_time": "2024-02-26T18:46:50.227Z"
   },
   {
    "duration": 6,
    "start_time": "2024-02-26T18:46:50.389Z"
   },
   {
    "duration": 184,
    "start_time": "2024-02-26T18:46:50.397Z"
   },
   {
    "duration": 8,
    "start_time": "2024-02-26T18:46:50.582Z"
   },
   {
    "duration": 154,
    "start_time": "2024-02-26T18:46:50.591Z"
   },
   {
    "duration": 203,
    "start_time": "2024-02-26T18:47:58.904Z"
   },
   {
    "duration": 193,
    "start_time": "2024-02-26T18:49:03.054Z"
   },
   {
    "duration": 205,
    "start_time": "2024-02-26T18:50:28.441Z"
   },
   {
    "duration": 10,
    "start_time": "2024-02-26T18:59:00.040Z"
   },
   {
    "duration": 6,
    "start_time": "2024-02-26T18:59:53.840Z"
   },
   {
    "duration": 6,
    "start_time": "2024-02-26T19:00:12.925Z"
   },
   {
    "duration": 6,
    "start_time": "2024-02-26T19:00:29.222Z"
   },
   {
    "duration": 9,
    "start_time": "2024-02-26T19:06:56.851Z"
   },
   {
    "duration": 1147,
    "start_time": "2024-02-26T19:17:32.061Z"
   },
   {
    "duration": 40,
    "start_time": "2024-02-26T19:17:33.210Z"
   },
   {
    "duration": 11,
    "start_time": "2024-02-26T19:17:33.251Z"
   },
   {
    "duration": 38,
    "start_time": "2024-02-26T19:17:33.264Z"
   },
   {
    "duration": 8,
    "start_time": "2024-02-26T19:17:33.304Z"
   },
   {
    "duration": 24,
    "start_time": "2024-02-26T19:17:33.313Z"
   },
   {
    "duration": 6,
    "start_time": "2024-02-26T19:17:33.340Z"
   },
   {
    "duration": 14,
    "start_time": "2024-02-26T19:17:33.348Z"
   },
   {
    "duration": 11,
    "start_time": "2024-02-26T19:17:33.363Z"
   },
   {
    "duration": 8,
    "start_time": "2024-02-26T19:17:33.376Z"
   },
   {
    "duration": 33,
    "start_time": "2024-02-26T19:17:33.386Z"
   },
   {
    "duration": 13,
    "start_time": "2024-02-26T19:17:33.422Z"
   },
   {
    "duration": 9,
    "start_time": "2024-02-26T19:17:33.436Z"
   },
   {
    "duration": 207,
    "start_time": "2024-02-26T19:17:33.446Z"
   },
   {
    "duration": 9,
    "start_time": "2024-02-26T19:17:33.655Z"
   },
   {
    "duration": 7,
    "start_time": "2024-02-26T19:17:33.666Z"
   },
   {
    "duration": 108,
    "start_time": "2024-02-26T19:17:33.674Z"
   },
   {
    "duration": 14,
    "start_time": "2024-02-26T19:17:33.784Z"
   },
   {
    "duration": 12,
    "start_time": "2024-02-26T19:17:33.816Z"
   },
   {
    "duration": 173,
    "start_time": "2024-02-26T19:17:33.830Z"
   },
   {
    "duration": 13,
    "start_time": "2024-02-26T19:17:34.005Z"
   },
   {
    "duration": 11,
    "start_time": "2024-02-26T19:17:34.022Z"
   },
   {
    "duration": 218,
    "start_time": "2024-02-26T19:17:34.035Z"
   },
   {
    "duration": 14,
    "start_time": "2024-02-26T19:17:34.255Z"
   },
   {
    "duration": 8,
    "start_time": "2024-02-26T19:17:34.271Z"
   },
   {
    "duration": 210,
    "start_time": "2024-02-26T19:17:34.280Z"
   },
   {
    "duration": 32,
    "start_time": "2024-02-26T19:17:34.491Z"
   },
   {
    "duration": 16,
    "start_time": "2024-02-26T19:17:34.527Z"
   },
   {
    "duration": 10,
    "start_time": "2024-02-26T19:17:34.544Z"
   },
   {
    "duration": 11,
    "start_time": "2024-02-26T19:17:34.555Z"
   },
   {
    "duration": 17,
    "start_time": "2024-02-26T19:17:34.568Z"
   },
   {
    "duration": 315,
    "start_time": "2024-02-26T19:17:34.587Z"
   },
   {
    "duration": 302,
    "start_time": "2024-02-26T19:17:34.903Z"
   },
   {
    "duration": 40,
    "start_time": "2024-02-26T19:17:35.207Z"
   },
   {
    "duration": 127,
    "start_time": "2024-02-26T19:17:35.249Z"
   },
   {
    "duration": 6,
    "start_time": "2024-02-26T19:17:35.377Z"
   },
   {
    "duration": 9,
    "start_time": "2024-02-26T19:17:35.384Z"
   },
   {
    "duration": 32,
    "start_time": "2024-02-26T19:17:35.395Z"
   },
   {
    "duration": 134,
    "start_time": "2024-02-26T19:17:35.429Z"
   },
   {
    "duration": 6,
    "start_time": "2024-02-26T19:17:35.565Z"
   },
   {
    "duration": 191,
    "start_time": "2024-02-26T19:17:35.572Z"
   },
   {
    "duration": 12,
    "start_time": "2024-02-26T19:17:35.765Z"
   },
   {
    "duration": 156,
    "start_time": "2024-02-26T19:17:35.779Z"
   },
   {
    "duration": 1278,
    "start_time": "2024-02-27T05:48:13.182Z"
   },
   {
    "duration": 94,
    "start_time": "2024-02-27T05:48:14.462Z"
   },
   {
    "duration": 11,
    "start_time": "2024-02-27T05:48:14.557Z"
   },
   {
    "duration": 79,
    "start_time": "2024-02-27T05:48:14.569Z"
   },
   {
    "duration": 8,
    "start_time": "2024-02-27T05:48:14.649Z"
   },
   {
    "duration": 67,
    "start_time": "2024-02-27T05:48:14.659Z"
   },
   {
    "duration": 6,
    "start_time": "2024-02-27T05:48:14.728Z"
   },
   {
    "duration": 13,
    "start_time": "2024-02-27T05:48:14.736Z"
   },
   {
    "duration": 10,
    "start_time": "2024-02-27T05:48:14.751Z"
   },
   {
    "duration": 10,
    "start_time": "2024-02-27T05:48:14.763Z"
   },
   {
    "duration": 9,
    "start_time": "2024-02-27T05:48:14.774Z"
   },
   {
    "duration": 7,
    "start_time": "2024-02-27T05:48:14.784Z"
   },
   {
    "duration": 7,
    "start_time": "2024-02-27T05:48:14.793Z"
   },
   {
    "duration": 174,
    "start_time": "2024-02-27T05:48:14.802Z"
   },
   {
    "duration": 10,
    "start_time": "2024-02-27T05:48:14.977Z"
   },
   {
    "duration": 6,
    "start_time": "2024-02-27T05:48:14.988Z"
   },
   {
    "duration": 94,
    "start_time": "2024-02-27T05:48:14.996Z"
   },
   {
    "duration": 12,
    "start_time": "2024-02-27T05:48:15.092Z"
   },
   {
    "duration": 18,
    "start_time": "2024-02-27T05:48:15.106Z"
   },
   {
    "duration": 271,
    "start_time": "2024-02-27T05:48:15.126Z"
   },
   {
    "duration": 4,
    "start_time": "2024-02-27T05:48:15.398Z"
   },
   {
    "duration": 68,
    "start_time": "2024-02-27T05:48:15.403Z"
   },
   {
    "duration": 336,
    "start_time": "2024-02-27T05:48:15.472Z"
   },
   {
    "duration": 65,
    "start_time": "2024-02-27T05:48:15.809Z"
   },
   {
    "duration": 9,
    "start_time": "2024-02-27T05:48:15.876Z"
   },
   {
    "duration": 381,
    "start_time": "2024-02-27T05:48:15.886Z"
   },
   {
    "duration": 27,
    "start_time": "2024-02-27T05:48:16.268Z"
   },
   {
    "duration": 67,
    "start_time": "2024-02-27T05:48:16.299Z"
   },
   {
    "duration": 11,
    "start_time": "2024-02-27T05:48:16.367Z"
   },
   {
    "duration": 20,
    "start_time": "2024-02-27T05:48:16.379Z"
   },
   {
    "duration": 66,
    "start_time": "2024-02-27T05:48:16.400Z"
   },
   {
    "duration": 317,
    "start_time": "2024-02-27T05:48:16.468Z"
   },
   {
    "duration": 362,
    "start_time": "2024-02-27T05:48:16.787Z"
   },
   {
    "duration": 43,
    "start_time": "2024-02-27T05:48:17.151Z"
   },
   {
    "duration": 108,
    "start_time": "2024-02-27T05:48:17.196Z"
   },
   {
    "duration": 5,
    "start_time": "2024-02-27T05:48:17.305Z"
   },
   {
    "duration": 27,
    "start_time": "2024-02-27T05:48:17.312Z"
   },
   {
    "duration": 26,
    "start_time": "2024-02-27T05:48:17.341Z"
   },
   {
    "duration": 123,
    "start_time": "2024-02-27T05:48:17.368Z"
   },
   {
    "duration": 6,
    "start_time": "2024-02-27T05:48:17.493Z"
   },
   {
    "duration": 164,
    "start_time": "2024-02-27T05:48:17.500Z"
   },
   {
    "duration": 5,
    "start_time": "2024-02-27T05:48:17.666Z"
   },
   {
    "duration": 140,
    "start_time": "2024-02-27T05:48:17.673Z"
   }
  ],
  "kernelspec": {
   "display_name": "Python 3 (ipykernel)",
   "language": "python",
   "name": "python3"
  },
  "language_info": {
   "codemirror_mode": {
    "name": "ipython",
    "version": 3
   },
   "file_extension": ".py",
   "mimetype": "text/x-python",
   "name": "python",
   "nbconvert_exporter": "python",
   "pygments_lexer": "ipython3",
   "version": "3.11.7"
  },
  "toc": {
   "base_numbering": 1,
   "nav_menu": {},
   "number_sections": true,
   "sideBar": true,
   "skip_h1_title": true,
   "title_cell": "Table of Contents",
   "title_sidebar": "Contents",
   "toc_cell": false,
   "toc_position": {},
   "toc_section_display": true,
   "toc_window_display": false
  }
 },
 "nbformat": 4,
 "nbformat_minor": 5
}
